{
 "cells": [
  {
   "cell_type": "markdown",
   "metadata": {},
   "source": [
    "The notebook explores Sperantov's data on tragedies."
   ]
  },
  {
   "cell_type": "code",
   "execution_count": 1,
   "metadata": {},
   "outputs": [],
   "source": [
    "import pandas as pd\n",
    "from sklearn.preprocessing import MinMaxScaler\n",
    "from numpy.linalg import matrix_rank\n",
    "from sklearn.decomposition import PCA\n",
    "import matplotlib.pyplot as plt\n",
    "%matplotlib inline \n",
    "import seaborn as sns\n",
    "from scipy.stats import shapiro\n",
    "from scipy.stats import kruskal\n",
    "import itertools\n",
    "from scipy.stats import mannwhitneyu"
   ]
  },
  {
   "cell_type": "code",
   "execution_count": 2,
   "metadata": {},
   "outputs": [],
   "source": [
    "sperantov_data = pd.read_csv('sperantov_raw_data.csv', sep='\\t')"
   ]
  },
  {
   "cell_type": "code",
   "execution_count": 3,
   "metadata": {},
   "outputs": [
    {
     "data": {
      "text/html": [
       "<div>\n",
       "<style scoped>\n",
       "    .dataframe tbody tr th:only-of-type {\n",
       "        vertical-align: middle;\n",
       "    }\n",
       "\n",
       "    .dataframe tbody tr th {\n",
       "        vertical-align: top;\n",
       "    }\n",
       "\n",
       "    .dataframe thead th {\n",
       "        text-align: right;\n",
       "    }\n",
       "</style>\n",
       "<table border=\"1\" class=\"dataframe\">\n",
       "  <thead>\n",
       "    <tr style=\"text-align: right;\">\n",
       "      <th></th>\n",
       "      <th>Style_Sperantov</th>\n",
       "      <th>Произведение</th>\n",
       "      <th>Актность</th>\n",
       "      <th>частотность</th>\n",
       "      <th>протяженность</th>\n",
       "      <th>внутристиховые ремарки</th>\n",
       "      <th>лексическое разнообразие</th>\n",
       "      <th>характерологические ремарки</th>\n",
       "    </tr>\n",
       "  </thead>\n",
       "  <tbody>\n",
       "    <tr>\n",
       "      <th>0</th>\n",
       "      <td>Conservative Neoclassicism</td>\n",
       "      <td>Сумароков, «Хорев», 1747</td>\n",
       "      <td>5</td>\n",
       "      <td>2.57</td>\n",
       "      <td>3.41</td>\n",
       "      <td>0.44</td>\n",
       "      <td>0.35</td>\n",
       "      <td>0.00</td>\n",
       "    </tr>\n",
       "    <tr>\n",
       "      <th>1</th>\n",
       "      <td>Moderate Neoclassicism</td>\n",
       "      <td>Сумароков, «Гамлет», 1748</td>\n",
       "      <td>1</td>\n",
       "      <td>2.69</td>\n",
       "      <td>3.54</td>\n",
       "      <td>0.51</td>\n",
       "      <td>0.40</td>\n",
       "      <td>5.40</td>\n",
       "    </tr>\n",
       "    <tr>\n",
       "      <th>2</th>\n",
       "      <td>Conservative Neoclassicism</td>\n",
       "      <td>Сумароков, «Синав и Трувор», 1750</td>\n",
       "      <td>5</td>\n",
       "      <td>4.19</td>\n",
       "      <td>2.75</td>\n",
       "      <td>0.63</td>\n",
       "      <td>0.28</td>\n",
       "      <td>3.12</td>\n",
       "    </tr>\n",
       "    <tr>\n",
       "      <th>3</th>\n",
       "      <td>Conservative Neoclassicism</td>\n",
       "      <td>Сумароков, «Аргистона», 1750</td>\n",
       "      <td>5</td>\n",
       "      <td>2.59</td>\n",
       "      <td>3.47</td>\n",
       "      <td>0.20</td>\n",
       "      <td>0.24</td>\n",
       "      <td>2.63</td>\n",
       "    </tr>\n",
       "    <tr>\n",
       "      <th>4</th>\n",
       "      <td>Conservative Neoclassicism</td>\n",
       "      <td>Ломоносов, «Тамира и Селим», 1750</td>\n",
       "      <td>5</td>\n",
       "      <td>3.32</td>\n",
       "      <td>2.98</td>\n",
       "      <td>0.25</td>\n",
       "      <td>0.21</td>\n",
       "      <td>0.00</td>\n",
       "    </tr>\n",
       "  </tbody>\n",
       "</table>\n",
       "</div>"
      ],
      "text/plain": [
       "               Style_Sperantov                       Произведение Актность  \\\n",
       "0  Conservative Neoclassicism            Сумароков, «Хорев», 1747        5   \n",
       "1      Moderate Neoclassicism           Сумароков, «Гамлет», 1748        1   \n",
       "2  Conservative Neoclassicism   Сумароков, «Синав и Трувор», 1750        5   \n",
       "3  Conservative Neoclassicism        Сумароков, «Аргистона», 1750        5   \n",
       "4  Conservative Neoclassicism   Ломоносов, «Тамира и Селим», 1750        5   \n",
       "\n",
       "   частотность   протяженность  внутристиховые ремарки  \\\n",
       "0          2.57           3.41                    0.44   \n",
       "1          2.69           3.54                    0.51   \n",
       "2          4.19           2.75                    0.63   \n",
       "3          2.59           3.47                    0.20   \n",
       "4          3.32           2.98                    0.25   \n",
       "\n",
       "   лексическое разнообразие  характерологические ремарки  \n",
       "0                      0.35                         0.00  \n",
       "1                      0.40                         5.40  \n",
       "2                      0.28                         3.12  \n",
       "3                      0.24                         2.63  \n",
       "4                      0.21                         0.00  "
      ]
     },
     "execution_count": 3,
     "metadata": {},
     "output_type": "execute_result"
    }
   ],
   "source": [
    "sperantov_data.head()"
   ]
  },
  {
   "cell_type": "code",
   "execution_count": 4,
   "metadata": {},
   "outputs": [
    {
     "data": {
      "text/plain": [
       "(70, 8)"
      ]
     },
     "execution_count": 4,
     "metadata": {},
     "output_type": "execute_result"
    }
   ],
   "source": [
    "sperantov_data.shape"
   ]
  },
  {
   "cell_type": "code",
   "execution_count": 5,
   "metadata": {},
   "outputs": [
    {
     "data": {
      "text/plain": [
       "array(['5', '1', '3', '5, with chorus', '4 scenes, with choruses',\n",
       "       '3, with choruses and balets', '5 acts, with choruses',\n",
       "       '5, with choruses', '5, after Shakespeare',\n",
       "       '5, immitation of Lemierre', '5, immitation of Euripides'],\n",
       "      dtype=object)"
      ]
     },
     "execution_count": 5,
     "metadata": {},
     "output_type": "execute_result"
    }
   ],
   "source": [
    "sperantov_data['Актность'].unique()"
   ]
  },
  {
   "cell_type": "code",
   "execution_count": 6,
   "metadata": {},
   "outputs": [],
   "source": [
    "# remove tragedies which are not five acts or are translations/ immitations\n",
    "sperantov_data = sperantov_data[sperantov_data['Актность']=='5'].copy()"
   ]
  },
  {
   "cell_type": "code",
   "execution_count": 7,
   "metadata": {},
   "outputs": [],
   "source": [
    "sperantov_data.columns = [col.strip() for col in sperantov_data.columns]"
   ]
  },
  {
   "cell_type": "code",
   "execution_count": 8,
   "metadata": {},
   "outputs": [],
   "source": [
    "sperantov_data['author'] = sperantov_data['Произведение'].apply(lambda x: x.split(', ')[0])\n",
    "sperantov_data['tragedy_title'] = sperantov_data['Произведение'].apply(lambda x: x.split(', ')[1])\n",
    "sperantov_data['year'] = sperantov_data['Произведение'].apply(lambda x: x.split(', ')[2])"
   ]
  },
  {
   "cell_type": "code",
   "execution_count": 9,
   "metadata": {},
   "outputs": [
    {
     "data": {
      "text/html": [
       "<div>\n",
       "<style scoped>\n",
       "    .dataframe tbody tr th:only-of-type {\n",
       "        vertical-align: middle;\n",
       "    }\n",
       "\n",
       "    .dataframe tbody tr th {\n",
       "        vertical-align: top;\n",
       "    }\n",
       "\n",
       "    .dataframe thead th {\n",
       "        text-align: right;\n",
       "    }\n",
       "</style>\n",
       "<table border=\"1\" class=\"dataframe\">\n",
       "  <thead>\n",
       "    <tr style=\"text-align: right;\">\n",
       "      <th></th>\n",
       "      <th>Style_Sperantov</th>\n",
       "      <th>Произведение</th>\n",
       "      <th>Актность</th>\n",
       "      <th>частотность</th>\n",
       "      <th>протяженность</th>\n",
       "      <th>внутристиховые ремарки</th>\n",
       "      <th>лексическое разнообразие</th>\n",
       "      <th>характерологические ремарки</th>\n",
       "      <th>author</th>\n",
       "      <th>tragedy_title</th>\n",
       "      <th>year</th>\n",
       "    </tr>\n",
       "  </thead>\n",
       "  <tbody>\n",
       "    <tr>\n",
       "      <th>0</th>\n",
       "      <td>Conservative Neoclassicism</td>\n",
       "      <td>Сумароков, «Хорев», 1747</td>\n",
       "      <td>5</td>\n",
       "      <td>2.57</td>\n",
       "      <td>3.41</td>\n",
       "      <td>0.44</td>\n",
       "      <td>0.35</td>\n",
       "      <td>0.00</td>\n",
       "      <td>Сумароков</td>\n",
       "      <td>«Хорев»</td>\n",
       "      <td>1747</td>\n",
       "    </tr>\n",
       "    <tr>\n",
       "      <th>2</th>\n",
       "      <td>Conservative Neoclassicism</td>\n",
       "      <td>Сумароков, «Синав и Трувор», 1750</td>\n",
       "      <td>5</td>\n",
       "      <td>4.19</td>\n",
       "      <td>2.75</td>\n",
       "      <td>0.63</td>\n",
       "      <td>0.28</td>\n",
       "      <td>3.12</td>\n",
       "      <td>Сумароков</td>\n",
       "      <td>«Синав и Трувор»</td>\n",
       "      <td>1750</td>\n",
       "    </tr>\n",
       "    <tr>\n",
       "      <th>3</th>\n",
       "      <td>Conservative Neoclassicism</td>\n",
       "      <td>Сумароков, «Аргистона», 1750</td>\n",
       "      <td>5</td>\n",
       "      <td>2.59</td>\n",
       "      <td>3.47</td>\n",
       "      <td>0.20</td>\n",
       "      <td>0.24</td>\n",
       "      <td>2.63</td>\n",
       "      <td>Сумароков</td>\n",
       "      <td>«Аргистона»</td>\n",
       "      <td>1750</td>\n",
       "    </tr>\n",
       "    <tr>\n",
       "      <th>4</th>\n",
       "      <td>Conservative Neoclassicism</td>\n",
       "      <td>Ломоносов, «Тамира и Селим», 1750</td>\n",
       "      <td>5</td>\n",
       "      <td>3.32</td>\n",
       "      <td>2.98</td>\n",
       "      <td>0.25</td>\n",
       "      <td>0.21</td>\n",
       "      <td>0.00</td>\n",
       "      <td>Ломоносов</td>\n",
       "      <td>«Тамира и Селим»</td>\n",
       "      <td>1750</td>\n",
       "    </tr>\n",
       "    <tr>\n",
       "      <th>5</th>\n",
       "      <td>Non_Classified</td>\n",
       "      <td>Тредиаковский, «Деидамия», 1750</td>\n",
       "      <td>5</td>\n",
       "      <td>6.82</td>\n",
       "      <td>4.88</td>\n",
       "      <td>1.04</td>\n",
       "      <td>0.28</td>\n",
       "      <td>9.24</td>\n",
       "      <td>Тредиаковский</td>\n",
       "      <td>«Деидамия»</td>\n",
       "      <td>1750</td>\n",
       "    </tr>\n",
       "  </tbody>\n",
       "</table>\n",
       "</div>"
      ],
      "text/plain": [
       "               Style_Sperantov                       Произведение Актность  \\\n",
       "0  Conservative Neoclassicism            Сумароков, «Хорев», 1747        5   \n",
       "2  Conservative Neoclassicism   Сумароков, «Синав и Трувор», 1750        5   \n",
       "3  Conservative Neoclassicism        Сумароков, «Аргистона», 1750        5   \n",
       "4  Conservative Neoclassicism   Ломоносов, «Тамира и Селим», 1750        5   \n",
       "5               Non_Classified    Тредиаковский, «Деидамия», 1750        5   \n",
       "\n",
       "   частотность  протяженность  внутристиховые ремарки  \\\n",
       "0         2.57           3.41                    0.44   \n",
       "2         4.19           2.75                    0.63   \n",
       "3         2.59           3.47                    0.20   \n",
       "4         3.32           2.98                    0.25   \n",
       "5         6.82           4.88                    1.04   \n",
       "\n",
       "   лексическое разнообразие  характерологические ремарки         author  \\\n",
       "0                      0.35                         0.00      Сумароков   \n",
       "2                      0.28                         3.12      Сумароков   \n",
       "3                      0.24                         2.63      Сумароков   \n",
       "4                      0.21                         0.00      Ломоносов   \n",
       "5                      0.28                         9.24  Тредиаковский   \n",
       "\n",
       "      tragedy_title  year  \n",
       "0           «Хорев»  1747  \n",
       "2  «Синав и Трувор»  1750  \n",
       "3       «Аргистона»  1750  \n",
       "4  «Тамира и Селим»  1750  \n",
       "5        «Деидамия»  1750  "
      ]
     },
     "execution_count": 9,
     "metadata": {},
     "output_type": "execute_result"
    }
   ],
   "source": [
    "sperantov_data.head()"
   ]
  },
  {
   "cell_type": "code",
   "execution_count": 10,
   "metadata": {},
   "outputs": [
    {
     "data": {
      "text/html": [
       "<div>\n",
       "<style scoped>\n",
       "    .dataframe tbody tr th:only-of-type {\n",
       "        vertical-align: middle;\n",
       "    }\n",
       "\n",
       "    .dataframe tbody tr th {\n",
       "        vertical-align: top;\n",
       "    }\n",
       "\n",
       "    .dataframe thead th {\n",
       "        text-align: right;\n",
       "    }\n",
       "</style>\n",
       "<table border=\"1\" class=\"dataframe\">\n",
       "  <thead>\n",
       "    <tr style=\"text-align: right;\">\n",
       "      <th></th>\n",
       "      <th>частотность</th>\n",
       "      <th>протяженность</th>\n",
       "      <th>внутристиховые ремарки</th>\n",
       "      <th>лексическое разнообразие</th>\n",
       "      <th>характерологические ремарки</th>\n",
       "    </tr>\n",
       "  </thead>\n",
       "  <tbody>\n",
       "    <tr>\n",
       "      <th>частотность</th>\n",
       "      <td>1.000000</td>\n",
       "      <td>0.471137</td>\n",
       "      <td>0.857917</td>\n",
       "      <td>-0.083729</td>\n",
       "      <td>0.715078</td>\n",
       "    </tr>\n",
       "    <tr>\n",
       "      <th>протяженность</th>\n",
       "      <td>0.471137</td>\n",
       "      <td>1.000000</td>\n",
       "      <td>0.413024</td>\n",
       "      <td>0.193066</td>\n",
       "      <td>0.400309</td>\n",
       "    </tr>\n",
       "    <tr>\n",
       "      <th>внутристиховые ремарки</th>\n",
       "      <td>0.857917</td>\n",
       "      <td>0.413024</td>\n",
       "      <td>1.000000</td>\n",
       "      <td>0.003637</td>\n",
       "      <td>0.823064</td>\n",
       "    </tr>\n",
       "    <tr>\n",
       "      <th>лексическое разнообразие</th>\n",
       "      <td>-0.083729</td>\n",
       "      <td>0.193066</td>\n",
       "      <td>0.003637</td>\n",
       "      <td>1.000000</td>\n",
       "      <td>0.117990</td>\n",
       "    </tr>\n",
       "    <tr>\n",
       "      <th>характерологические ремарки</th>\n",
       "      <td>0.715078</td>\n",
       "      <td>0.400309</td>\n",
       "      <td>0.823064</td>\n",
       "      <td>0.117990</td>\n",
       "      <td>1.000000</td>\n",
       "    </tr>\n",
       "  </tbody>\n",
       "</table>\n",
       "</div>"
      ],
      "text/plain": [
       "                             частотность  протяженность  \\\n",
       "частотность                     1.000000       0.471137   \n",
       "протяженность                   0.471137       1.000000   \n",
       "внутристиховые ремарки          0.857917       0.413024   \n",
       "лексическое разнообразие       -0.083729       0.193066   \n",
       "характерологические ремарки     0.715078       0.400309   \n",
       "\n",
       "                             внутристиховые ремарки  лексическое разнообразие  \\\n",
       "частотность                                0.857917                 -0.083729   \n",
       "протяженность                              0.413024                  0.193066   \n",
       "внутристиховые ремарки                     1.000000                  0.003637   \n",
       "лексическое разнообразие                   0.003637                  1.000000   \n",
       "характерологические ремарки                0.823064                  0.117990   \n",
       "\n",
       "                             характерологические ремарки  \n",
       "частотность                                     0.715078  \n",
       "протяженность                                   0.400309  \n",
       "внутристиховые ремарки                          0.823064  \n",
       "лексическое разнообразие                        0.117990  \n",
       "характерологические ремарки                     1.000000  "
      ]
     },
     "execution_count": 10,
     "metadata": {},
     "output_type": "execute_result"
    }
   ],
   "source": [
    "sperantov_data.corr()"
   ]
  },
  {
   "cell_type": "code",
   "execution_count": 11,
   "metadata": {},
   "outputs": [],
   "source": [
    "numeric = sperantov_data.iloc[:, 3:-3].copy()"
   ]
  },
  {
   "cell_type": "code",
   "execution_count": 12,
   "metadata": {},
   "outputs": [
    {
     "data": {
      "text/plain": [
       "(57, 5)"
      ]
     },
     "execution_count": 12,
     "metadata": {},
     "output_type": "execute_result"
    }
   ],
   "source": [
    "numeric.shape"
   ]
  },
  {
   "cell_type": "code",
   "execution_count": 13,
   "metadata": {},
   "outputs": [],
   "source": [
    "# bring the data to scale\n",
    "scaler = MinMaxScaler()\n",
    "rescaled_numeric = scaler.fit_transform(numeric)"
   ]
  },
  {
   "cell_type": "code",
   "execution_count": 14,
   "metadata": {},
   "outputs": [
    {
     "data": {
      "text/plain": [
       "(57, 5)"
      ]
     },
     "execution_count": 14,
     "metadata": {},
     "output_type": "execute_result"
    }
   ],
   "source": [
    "rescaled_numeric.shape"
   ]
  },
  {
   "cell_type": "code",
   "execution_count": 15,
   "metadata": {},
   "outputs": [],
   "source": [
    "sperantov_data.iloc[:, 3:-3] = rescaled_numeric"
   ]
  },
  {
   "cell_type": "code",
   "execution_count": 16,
   "metadata": {},
   "outputs": [
    {
     "data": {
      "text/html": [
       "<div>\n",
       "<style scoped>\n",
       "    .dataframe tbody tr th:only-of-type {\n",
       "        vertical-align: middle;\n",
       "    }\n",
       "\n",
       "    .dataframe tbody tr th {\n",
       "        vertical-align: top;\n",
       "    }\n",
       "\n",
       "    .dataframe thead th {\n",
       "        text-align: right;\n",
       "    }\n",
       "</style>\n",
       "<table border=\"1\" class=\"dataframe\">\n",
       "  <thead>\n",
       "    <tr style=\"text-align: right;\">\n",
       "      <th></th>\n",
       "      <th>Style_Sperantov</th>\n",
       "      <th>Произведение</th>\n",
       "      <th>Актность</th>\n",
       "      <th>частотность</th>\n",
       "      <th>протяженность</th>\n",
       "      <th>внутристиховые ремарки</th>\n",
       "      <th>лексическое разнообразие</th>\n",
       "      <th>характерологические ремарки</th>\n",
       "      <th>author</th>\n",
       "      <th>tragedy_title</th>\n",
       "      <th>year</th>\n",
       "    </tr>\n",
       "  </thead>\n",
       "  <tbody>\n",
       "    <tr>\n",
       "      <th>0</th>\n",
       "      <td>Conservative Neoclassicism</td>\n",
       "      <td>Сумароков, «Хорев», 1747</td>\n",
       "      <td>5</td>\n",
       "      <td>0.056589</td>\n",
       "      <td>0.229167</td>\n",
       "      <td>0.052811</td>\n",
       "      <td>0.642857</td>\n",
       "      <td>0.000000</td>\n",
       "      <td>Сумароков</td>\n",
       "      <td>«Хорев»</td>\n",
       "      <td>1747</td>\n",
       "    </tr>\n",
       "    <tr>\n",
       "      <th>2</th>\n",
       "      <td>Conservative Neoclassicism</td>\n",
       "      <td>Сумароков, «Синав и Трувор», 1750</td>\n",
       "      <td>5</td>\n",
       "      <td>0.122070</td>\n",
       "      <td>0.076389</td>\n",
       "      <td>0.085179</td>\n",
       "      <td>0.392857</td>\n",
       "      <td>0.124303</td>\n",
       "      <td>Сумароков</td>\n",
       "      <td>«Синав и Трувор»</td>\n",
       "      <td>1750</td>\n",
       "    </tr>\n",
       "    <tr>\n",
       "      <th>3</th>\n",
       "      <td>Conservative Neoclassicism</td>\n",
       "      <td>Сумароков, «Аргистона», 1750</td>\n",
       "      <td>5</td>\n",
       "      <td>0.057397</td>\n",
       "      <td>0.243056</td>\n",
       "      <td>0.011925</td>\n",
       "      <td>0.250000</td>\n",
       "      <td>0.104781</td>\n",
       "      <td>Сумароков</td>\n",
       "      <td>«Аргистона»</td>\n",
       "      <td>1750</td>\n",
       "    </tr>\n",
       "    <tr>\n",
       "      <th>4</th>\n",
       "      <td>Conservative Neoclassicism</td>\n",
       "      <td>Ломоносов, «Тамира и Селим», 1750</td>\n",
       "      <td>5</td>\n",
       "      <td>0.086904</td>\n",
       "      <td>0.129630</td>\n",
       "      <td>0.020443</td>\n",
       "      <td>0.142857</td>\n",
       "      <td>0.000000</td>\n",
       "      <td>Ломоносов</td>\n",
       "      <td>«Тамира и Селим»</td>\n",
       "      <td>1750</td>\n",
       "    </tr>\n",
       "    <tr>\n",
       "      <th>5</th>\n",
       "      <td>Non_Classified</td>\n",
       "      <td>Тредиаковский, «Деидамия», 1750</td>\n",
       "      <td>5</td>\n",
       "      <td>0.228375</td>\n",
       "      <td>0.569444</td>\n",
       "      <td>0.155026</td>\n",
       "      <td>0.392857</td>\n",
       "      <td>0.368127</td>\n",
       "      <td>Тредиаковский</td>\n",
       "      <td>«Деидамия»</td>\n",
       "      <td>1750</td>\n",
       "    </tr>\n",
       "  </tbody>\n",
       "</table>\n",
       "</div>"
      ],
      "text/plain": [
       "               Style_Sperantov                       Произведение Актность  \\\n",
       "0  Conservative Neoclassicism            Сумароков, «Хорев», 1747        5   \n",
       "2  Conservative Neoclassicism   Сумароков, «Синав и Трувор», 1750        5   \n",
       "3  Conservative Neoclassicism        Сумароков, «Аргистона», 1750        5   \n",
       "4  Conservative Neoclassicism   Ломоносов, «Тамира и Селим», 1750        5   \n",
       "5               Non_Classified    Тредиаковский, «Деидамия», 1750        5   \n",
       "\n",
       "   частотность  протяженность  внутристиховые ремарки  \\\n",
       "0     0.056589       0.229167                0.052811   \n",
       "2     0.122070       0.076389                0.085179   \n",
       "3     0.057397       0.243056                0.011925   \n",
       "4     0.086904       0.129630                0.020443   \n",
       "5     0.228375       0.569444                0.155026   \n",
       "\n",
       "   лексическое разнообразие  характерологические ремарки         author  \\\n",
       "0                  0.642857                     0.000000      Сумароков   \n",
       "2                  0.392857                     0.124303      Сумароков   \n",
       "3                  0.250000                     0.104781      Сумароков   \n",
       "4                  0.142857                     0.000000      Ломоносов   \n",
       "5                  0.392857                     0.368127  Тредиаковский   \n",
       "\n",
       "      tragedy_title  year  \n",
       "0           «Хорев»  1747  \n",
       "2  «Синав и Трувор»  1750  \n",
       "3       «Аргистона»  1750  \n",
       "4  «Тамира и Селим»  1750  \n",
       "5        «Деидамия»  1750  "
      ]
     },
     "execution_count": 16,
     "metadata": {},
     "output_type": "execute_result"
    }
   ],
   "source": [
    "sperantov_data.head()"
   ]
  },
  {
   "cell_type": "code",
   "execution_count": 17,
   "metadata": {},
   "outputs": [
    {
     "data": {
      "text/html": [
       "<div>\n",
       "<style scoped>\n",
       "    .dataframe tbody tr th:only-of-type {\n",
       "        vertical-align: middle;\n",
       "    }\n",
       "\n",
       "    .dataframe tbody tr th {\n",
       "        vertical-align: top;\n",
       "    }\n",
       "\n",
       "    .dataframe thead th {\n",
       "        text-align: right;\n",
       "    }\n",
       "</style>\n",
       "<table border=\"1\" class=\"dataframe\">\n",
       "  <thead>\n",
       "    <tr style=\"text-align: right;\">\n",
       "      <th></th>\n",
       "      <th>частотность</th>\n",
       "      <th>протяженность</th>\n",
       "      <th>внутристиховые ремарки</th>\n",
       "      <th>лексическое разнообразие</th>\n",
       "      <th>характерологические ремарки</th>\n",
       "    </tr>\n",
       "  </thead>\n",
       "  <tbody>\n",
       "    <tr>\n",
       "      <th>частотность</th>\n",
       "      <td>1.000000</td>\n",
       "      <td>0.471137</td>\n",
       "      <td>0.857917</td>\n",
       "      <td>-0.083729</td>\n",
       "      <td>0.715078</td>\n",
       "    </tr>\n",
       "    <tr>\n",
       "      <th>протяженность</th>\n",
       "      <td>0.471137</td>\n",
       "      <td>1.000000</td>\n",
       "      <td>0.413024</td>\n",
       "      <td>0.193066</td>\n",
       "      <td>0.400309</td>\n",
       "    </tr>\n",
       "    <tr>\n",
       "      <th>внутристиховые ремарки</th>\n",
       "      <td>0.857917</td>\n",
       "      <td>0.413024</td>\n",
       "      <td>1.000000</td>\n",
       "      <td>0.003637</td>\n",
       "      <td>0.823064</td>\n",
       "    </tr>\n",
       "    <tr>\n",
       "      <th>лексическое разнообразие</th>\n",
       "      <td>-0.083729</td>\n",
       "      <td>0.193066</td>\n",
       "      <td>0.003637</td>\n",
       "      <td>1.000000</td>\n",
       "      <td>0.117990</td>\n",
       "    </tr>\n",
       "    <tr>\n",
       "      <th>характерологические ремарки</th>\n",
       "      <td>0.715078</td>\n",
       "      <td>0.400309</td>\n",
       "      <td>0.823064</td>\n",
       "      <td>0.117990</td>\n",
       "      <td>1.000000</td>\n",
       "    </tr>\n",
       "  </tbody>\n",
       "</table>\n",
       "</div>"
      ],
      "text/plain": [
       "                             частотность  протяженность  \\\n",
       "частотность                     1.000000       0.471137   \n",
       "протяженность                   0.471137       1.000000   \n",
       "внутристиховые ремарки          0.857917       0.413024   \n",
       "лексическое разнообразие       -0.083729       0.193066   \n",
       "характерологические ремарки     0.715078       0.400309   \n",
       "\n",
       "                             внутристиховые ремарки  лексическое разнообразие  \\\n",
       "частотность                                0.857917                 -0.083729   \n",
       "протяженность                              0.413024                  0.193066   \n",
       "внутристиховые ремарки                     1.000000                  0.003637   \n",
       "лексическое разнообразие                   0.003637                  1.000000   \n",
       "характерологические ремарки                0.823064                  0.117990   \n",
       "\n",
       "                             характерологические ремарки  \n",
       "частотность                                     0.715078  \n",
       "протяженность                                   0.400309  \n",
       "внутристиховые ремарки                          0.823064  \n",
       "лексическое разнообразие                        0.117990  \n",
       "характерологические ремарки                     1.000000  "
      ]
     },
     "execution_count": 17,
     "metadata": {},
     "output_type": "execute_result"
    }
   ],
   "source": [
    "sperantov_data.corr()"
   ]
  },
  {
   "cell_type": "code",
   "execution_count": 18,
   "metadata": {},
   "outputs": [
    {
     "data": {
      "text/plain": [
       "array(['1747', '1750', '1751', '1758', '1762', '1767', '1768', '1769',\n",
       "       '1771', '1772', '1773', 'начало 1770-х', '1774', 'середина 1770-х',\n",
       "       '1779', '1780', '1781', '1782', '1784', '1785', '1786',\n",
       "       'около 1787', '1787', '1789', '1794', '1790-е годы', '1798',\n",
       "       '1804', '1806', '1807', '1808', '1808—1809', '1809', '1810',\n",
       "       '1811', '1814', '1815', '1822'], dtype=object)"
      ]
     },
     "execution_count": 18,
     "metadata": {},
     "output_type": "execute_result"
    }
   ],
   "source": [
    "sperantov_data.year.unique()"
   ]
  },
  {
   "cell_type": "code",
   "execution_count": 19,
   "metadata": {},
   "outputs": [
    {
     "data": {
      "text/plain": [
       "23"
      ]
     },
     "execution_count": 19,
     "metadata": {},
     "output_type": "execute_result"
    }
   ],
   "source": [
    "sperantov_data[(sperantov_data.year=='середина 1770-х')].index[0]"
   ]
  },
  {
   "cell_type": "code",
   "execution_count": 20,
   "metadata": {},
   "outputs": [],
   "source": [
    "# since we are mainly interested in different periods, we will update the years so that they remain in the same period,\n",
    "# but are easier to convert to numeric data format  \n",
    "\n",
    "sperantov_data.loc[sperantov_data[sperantov_data.year=='начало 1770-х'].index[0], 'year'] = 1770\n",
    "sperantov_data.loc[sperantov_data[sperantov_data.year=='середина 1770-х'].index[0], 'year'] = 1775\n",
    "sperantov_data.loc[sperantov_data[sperantov_data.year=='около 1787'].index[0], 'year'] = 1787\n",
    "# reference to the beginning of 1790s in Русская литература, век XVIII.Трагедия Западов.\n",
    "sperantov_data.loc[sperantov_data[sperantov_data.year=='1790-е годы'].index[0], 'year'] = 1790\n",
    "sperantov_data.loc[sperantov_data[sperantov_data.year=='1808—1809'].index[0], 'year'] = 1808\n",
    "sperantov_data.loc[sperantov_data[sperantov_data.year=='1808—1809'].index[0], 'year'] = 1808"
   ]
  },
  {
   "cell_type": "code",
   "execution_count": 21,
   "metadata": {},
   "outputs": [],
   "source": [
    "sperantov_data['year'] = sperantov_data['year'].astype(int)"
   ]
  },
  {
   "cell_type": "code",
   "execution_count": 22,
   "metadata": {},
   "outputs": [
    {
     "data": {
      "text/plain": [
       "5"
      ]
     },
     "execution_count": 22,
     "metadata": {},
     "output_type": "execute_result"
    }
   ],
   "source": [
    "matrix_rank(sperantov_data.iloc[:, 3:-3])"
   ]
  },
  {
   "cell_type": "code",
   "execution_count": 23,
   "metadata": {},
   "outputs": [],
   "source": [
    "pca = PCA(n_components=1)"
   ]
  },
  {
   "cell_type": "code",
   "execution_count": 24,
   "metadata": {},
   "outputs": [
    {
     "name": "stdout",
     "output_type": "stream",
     "text": [
      "(0.7100739479064941, 2.6440334366384377e-09)\n",
      "(0.9231039881706238, 0.001414783182553947)\n",
      "(0.6491574645042419, 2.0827643776311078e-10)\n",
      "(0.7930092811584473, 1.5794257990364713e-07)\n",
      "(0.9880186915397644, 0.8436722159385681)\n"
     ]
    },
    {
     "data": {
      "image/png": "[encoded data removed]",
      "text/plain": [
       "<Figure size 432x288 with 1 Axes>"
      ]
     },
     "metadata": {
      "needs_background": "light"
     },
     "output_type": "display_data"
    }
   ],
   "source": [
    "print(shapiro(sperantov_data['частотность']))\n",
    "print(shapiro(sperantov_data['протяженность']))\n",
    "print(shapiro(sperantov_data['внутристиховые ремарки']))\n",
    "print(shapiro(sperantov_data['характерологические ремарки']))\n",
    "print(shapiro(sperantov_data['лексическое разнообразие']))\n",
    "sns.distplot(sperantov_data['лексическое разнообразие'])\n",
    "plt.show()"
   ]
  },
  {
   "cell_type": "markdown",
   "metadata": {},
   "source": [
    "Since we want to follow Sperantov as closely as we can, we will exclude 'лексическое разнообразие' like he did as it can be influenced by a confounding influence of language evolution."
   ]
  },
  {
   "cell_type": "code",
   "execution_count": 25,
   "metadata": {},
   "outputs": [],
   "source": [
    "sperantov_data.drop('лексическое разнообразие', axis=1, inplace=True)"
   ]
  },
  {
   "cell_type": "code",
   "execution_count": 26,
   "metadata": {},
   "outputs": [],
   "source": [
    "pca_transformed = pca.fit_transform(sperantov_data.iloc[:, 3:-3])"
   ]
  },
  {
   "cell_type": "code",
   "execution_count": 27,
   "metadata": {},
   "outputs": [
    {
     "data": {
      "text/plain": [
       "(57, 1)"
      ]
     },
     "execution_count": 27,
     "metadata": {},
     "output_type": "execute_result"
    }
   ],
   "source": [
    "pca_transformed.shape"
   ]
  },
  {
   "cell_type": "code",
   "execution_count": 28,
   "metadata": {},
   "outputs": [
    {
     "name": "stdout",
     "output_type": "stream",
     "text": [
      "[0.7156404]\n",
      "0.7156403985001588\n"
     ]
    }
   ],
   "source": [
    "print(pca.explained_variance_ratio_)\n",
    "print(pca.explained_variance_ratio_.sum())"
   ]
  },
  {
   "cell_type": "code",
   "execution_count": 29,
   "metadata": {},
   "outputs": [],
   "source": [
    "sperantov_data['pca_component_1'] = pca_transformed"
   ]
  },
  {
   "cell_type": "code",
   "execution_count": 30,
   "metadata": {},
   "outputs": [
    {
     "data": {
      "text/html": [
       "<div>\n",
       "<style scoped>\n",
       "    .dataframe tbody tr th:only-of-type {\n",
       "        vertical-align: middle;\n",
       "    }\n",
       "\n",
       "    .dataframe tbody tr th {\n",
       "        vertical-align: top;\n",
       "    }\n",
       "\n",
       "    .dataframe thead th {\n",
       "        text-align: right;\n",
       "    }\n",
       "</style>\n",
       "<table border=\"1\" class=\"dataframe\">\n",
       "  <thead>\n",
       "    <tr style=\"text-align: right;\">\n",
       "      <th></th>\n",
       "      <th>Style_Sperantov</th>\n",
       "      <th>Произведение</th>\n",
       "      <th>Актность</th>\n",
       "      <th>частотность</th>\n",
       "      <th>протяженность</th>\n",
       "      <th>внутристиховые ремарки</th>\n",
       "      <th>характерологические ремарки</th>\n",
       "      <th>author</th>\n",
       "      <th>tragedy_title</th>\n",
       "      <th>year</th>\n",
       "      <th>pca_component_1</th>\n",
       "    </tr>\n",
       "  </thead>\n",
       "  <tbody>\n",
       "    <tr>\n",
       "      <th>0</th>\n",
       "      <td>Conservative Neoclassicism</td>\n",
       "      <td>Сумароков, «Хорев», 1747</td>\n",
       "      <td>5</td>\n",
       "      <td>0.056589</td>\n",
       "      <td>0.229167</td>\n",
       "      <td>0.052811</td>\n",
       "      <td>0.000000</td>\n",
       "      <td>Сумароков</td>\n",
       "      <td>«Хорев»</td>\n",
       "      <td>1747</td>\n",
       "      <td>-0.262301</td>\n",
       "    </tr>\n",
       "    <tr>\n",
       "      <th>2</th>\n",
       "      <td>Conservative Neoclassicism</td>\n",
       "      <td>Сумароков, «Синав и Трувор», 1750</td>\n",
       "      <td>5</td>\n",
       "      <td>0.122070</td>\n",
       "      <td>0.076389</td>\n",
       "      <td>0.085179</td>\n",
       "      <td>0.124303</td>\n",
       "      <td>Сумароков</td>\n",
       "      <td>«Синав и Трувор»</td>\n",
       "      <td>1750</td>\n",
       "      <td>-0.199036</td>\n",
       "    </tr>\n",
       "    <tr>\n",
       "      <th>3</th>\n",
       "      <td>Conservative Neoclassicism</td>\n",
       "      <td>Сумароков, «Аргистона», 1750</td>\n",
       "      <td>5</td>\n",
       "      <td>0.057397</td>\n",
       "      <td>0.243056</td>\n",
       "      <td>0.011925</td>\n",
       "      <td>0.104781</td>\n",
       "      <td>Сумароков</td>\n",
       "      <td>«Аргистона»</td>\n",
       "      <td>1750</td>\n",
       "      <td>-0.214441</td>\n",
       "    </tr>\n",
       "  </tbody>\n",
       "</table>\n",
       "</div>"
      ],
      "text/plain": [
       "               Style_Sperantov                       Произведение Актность  \\\n",
       "0  Conservative Neoclassicism            Сумароков, «Хорев», 1747        5   \n",
       "2  Conservative Neoclassicism   Сумароков, «Синав и Трувор», 1750        5   \n",
       "3  Conservative Neoclassicism        Сумароков, «Аргистона», 1750        5   \n",
       "\n",
       "   частотность  протяженность  внутристиховые ремарки  \\\n",
       "0     0.056589       0.229167                0.052811   \n",
       "2     0.122070       0.076389                0.085179   \n",
       "3     0.057397       0.243056                0.011925   \n",
       "\n",
       "   характерологические ремарки     author     tragedy_title  year  \\\n",
       "0                     0.000000  Сумароков           «Хорев»  1747   \n",
       "2                     0.124303  Сумароков  «Синав и Трувор»  1750   \n",
       "3                     0.104781  Сумароков       «Аргистона»  1750   \n",
       "\n",
       "   pca_component_1  \n",
       "0        -0.262301  \n",
       "2        -0.199036  \n",
       "3        -0.214441  "
      ]
     },
     "execution_count": 30,
     "metadata": {},
     "output_type": "execute_result"
    }
   ],
   "source": [
    "sperantov_data.head(3)"
   ]
  },
  {
   "cell_type": "code",
   "execution_count": 31,
   "metadata": {},
   "outputs": [
    {
     "data": {
      "image/png": "[encoded data removed]",
      "text/plain": [
       "<Figure size 720x504 with 1 Axes>"
      ]
     },
     "metadata": {
      "needs_background": "light"
     },
     "output_type": "display_data"
    }
   ],
   "source": [
    "plt.figure(figsize=(10, 7))\n",
    "plt.title('Scatterplot of the First PCA Component')\n",
    "sns.scatterplot(x='year', y='pca_component_1', data=sperantov_data, hue='Style_Sperantov')\n",
    "plt.show()"
   ]
  },
  {
   "cell_type": "code",
   "execution_count": 32,
   "metadata": {},
   "outputs": [
    {
     "data": {
      "text/plain": [
       "(0.7565470337867737, 2.348713934452462e-08)"
      ]
     },
     "execution_count": 32,
     "metadata": {},
     "output_type": "execute_result"
    }
   ],
   "source": [
    "shapiro(sperantov_data['pca_component_1'])"
   ]
  },
  {
   "cell_type": "code",
   "execution_count": 33,
   "metadata": {},
   "outputs": [],
   "source": [
    "period_one = sperantov_data[(sperantov_data.year>=1747)&(sperantov_data.year<=1762)]\n",
    "period_two = sperantov_data[(sperantov_data.year>=1763)&(sperantov_data.year<=1794)]\n",
    "period_three = sperantov_data[(sperantov_data.year>=1795)&(sperantov_data.year<=1810)]\n",
    "period_four = sperantov_data[(sperantov_data.year>=1811)&(sperantov_data.year<=1827)]"
   ]
  },
  {
   "cell_type": "markdown",
   "metadata": {},
   "source": [
    "## Identify and Remove Outliers\n",
    "\n",
    "We will identify outliers using the following method: a datapoint that is 2 standard deviations away from the mean will be considered an outlier."
   ]
  },
  {
   "cell_type": "markdown",
   "metadata": {},
   "source": [
    "## Outliers for Period One"
   ]
  },
  {
   "cell_type": "code",
   "execution_count": 34,
   "metadata": {},
   "outputs": [],
   "source": [
    "upper_boundary = period_one['pca_component_1'].mean() + 2*period_one['pca_component_1'].std()\n",
    "lower_boundary = period_one['pca_component_1'].mean() - 2*period_one['pca_component_1'].std()"
   ]
  },
  {
   "cell_type": "code",
   "execution_count": 35,
   "metadata": {},
   "outputs": [
    {
     "data": {
      "text/html": [
       "<div>\n",
       "<style scoped>\n",
       "    .dataframe tbody tr th:only-of-type {\n",
       "        vertical-align: middle;\n",
       "    }\n",
       "\n",
       "    .dataframe tbody tr th {\n",
       "        vertical-align: top;\n",
       "    }\n",
       "\n",
       "    .dataframe thead th {\n",
       "        text-align: right;\n",
       "    }\n",
       "</style>\n",
       "<table border=\"1\" class=\"dataframe\">\n",
       "  <thead>\n",
       "    <tr style=\"text-align: right;\">\n",
       "      <th></th>\n",
       "      <th>Style_Sperantov</th>\n",
       "      <th>Произведение</th>\n",
       "      <th>Актность</th>\n",
       "      <th>частотность</th>\n",
       "      <th>протяженность</th>\n",
       "      <th>внутристиховые ремарки</th>\n",
       "      <th>характерологические ремарки</th>\n",
       "      <th>author</th>\n",
       "      <th>tragedy_title</th>\n",
       "      <th>year</th>\n",
       "      <th>pca_component_1</th>\n",
       "    </tr>\n",
       "  </thead>\n",
       "  <tbody>\n",
       "    <tr>\n",
       "      <th>5</th>\n",
       "      <td>Non_Classified</td>\n",
       "      <td>Тредиаковский, «Деидамия», 1750</td>\n",
       "      <td>5</td>\n",
       "      <td>0.228375</td>\n",
       "      <td>0.569444</td>\n",
       "      <td>0.155026</td>\n",
       "      <td>0.368127</td>\n",
       "      <td>Тредиаковский</td>\n",
       "      <td>«Деидамия»</td>\n",
       "      <td>1750</td>\n",
       "      <td>0.222268</td>\n",
       "    </tr>\n",
       "  </tbody>\n",
       "</table>\n",
       "</div>"
      ],
      "text/plain": [
       "  Style_Sperantov                     Произведение Актность  частотность  \\\n",
       "5  Non_Classified  Тредиаковский, «Деидамия», 1750        5     0.228375   \n",
       "\n",
       "   протяженность  внутристиховые ремарки  характерологические ремарки  \\\n",
       "5       0.569444                0.155026                     0.368127   \n",
       "\n",
       "          author tragedy_title  year  pca_component_1  \n",
       "5  Тредиаковский    «Деидамия»  1750         0.222268  "
      ]
     },
     "metadata": {},
     "output_type": "display_data"
    }
   ],
   "source": [
    "display(period_one[period_one['pca_component_1']>=upper_boundary])"
   ]
  },
  {
   "cell_type": "code",
   "execution_count": 36,
   "metadata": {},
   "outputs": [
    {
     "data": {
      "text/html": [
       "<div>\n",
       "<style scoped>\n",
       "    .dataframe tbody tr th:only-of-type {\n",
       "        vertical-align: middle;\n",
       "    }\n",
       "\n",
       "    .dataframe tbody tr th {\n",
       "        vertical-align: top;\n",
       "    }\n",
       "\n",
       "    .dataframe thead th {\n",
       "        text-align: right;\n",
       "    }\n",
       "</style>\n",
       "<table border=\"1\" class=\"dataframe\">\n",
       "  <thead>\n",
       "    <tr style=\"text-align: right;\">\n",
       "      <th></th>\n",
       "      <th>Style_Sperantov</th>\n",
       "      <th>Произведение</th>\n",
       "      <th>Актность</th>\n",
       "      <th>частотность</th>\n",
       "      <th>протяженность</th>\n",
       "      <th>внутристиховые ремарки</th>\n",
       "      <th>характерологические ремарки</th>\n",
       "      <th>author</th>\n",
       "      <th>tragedy_title</th>\n",
       "      <th>year</th>\n",
       "      <th>pca_component_1</th>\n",
       "    </tr>\n",
       "  </thead>\n",
       "  <tbody>\n",
       "  </tbody>\n",
       "</table>\n",
       "</div>"
      ],
      "text/plain": [
       "Empty DataFrame\n",
       "Columns: [Style_Sperantov, Произведение, Актность, частотность, протяженность, внутристиховые ремарки, характерологические ремарки, author, tragedy_title, year, pca_component_1]\n",
       "Index: []"
      ]
     },
     "metadata": {},
     "output_type": "display_data"
    }
   ],
   "source": [
    "display(period_one[period_one['pca_component_1']<=lower_boundary])"
   ]
  },
  {
   "cell_type": "code",
   "execution_count": 37,
   "metadata": {},
   "outputs": [],
   "source": [
    "period_one = period_one[period_one.tragedy_title!='«Деидамия»']"
   ]
  },
  {
   "cell_type": "code",
   "execution_count": 38,
   "metadata": {},
   "outputs": [
    {
     "name": "stdout",
     "output_type": "stream",
     "text": [
      "(8, 11)\n"
     ]
    }
   ],
   "source": [
    "print(period_one.shape)"
   ]
  },
  {
   "cell_type": "markdown",
   "metadata": {},
   "source": [
    "## Outliers for Period Two"
   ]
  },
  {
   "cell_type": "code",
   "execution_count": 39,
   "metadata": {},
   "outputs": [],
   "source": [
    "upper_boundary = period_two['pca_component_1'].mean() + 2*period_two['pca_component_1'].std()\n",
    "lower_boundary = period_two['pca_component_1'].mean() - 2*period_two['pca_component_1'].std()"
   ]
  },
  {
   "cell_type": "code",
   "execution_count": 40,
   "metadata": {},
   "outputs": [
    {
     "data": {
      "text/html": [
       "<div>\n",
       "<style scoped>\n",
       "    .dataframe tbody tr th:only-of-type {\n",
       "        vertical-align: middle;\n",
       "    }\n",
       "\n",
       "    .dataframe tbody tr th {\n",
       "        vertical-align: top;\n",
       "    }\n",
       "\n",
       "    .dataframe thead th {\n",
       "        text-align: right;\n",
       "    }\n",
       "</style>\n",
       "<table border=\"1\" class=\"dataframe\">\n",
       "  <thead>\n",
       "    <tr style=\"text-align: right;\">\n",
       "      <th></th>\n",
       "      <th>Style_Sperantov</th>\n",
       "      <th>Произведение</th>\n",
       "      <th>Актность</th>\n",
       "      <th>частотность</th>\n",
       "      <th>протяженность</th>\n",
       "      <th>внутристиховые ремарки</th>\n",
       "      <th>характерологические ремарки</th>\n",
       "      <th>author</th>\n",
       "      <th>tragedy_title</th>\n",
       "      <th>year</th>\n",
       "      <th>pca_component_1</th>\n",
       "    </tr>\n",
       "  </thead>\n",
       "  <tbody>\n",
       "    <tr>\n",
       "      <th>15</th>\n",
       "      <td>Non_Classified</td>\n",
       "      <td>Ржевский, «Подложный Смердий», 1769</td>\n",
       "      <td>5</td>\n",
       "      <td>0.304365</td>\n",
       "      <td>0.756944</td>\n",
       "      <td>0.158433</td>\n",
       "      <td>0.242629</td>\n",
       "      <td>Ржевский</td>\n",
       "      <td>«Подложный Смердий»</td>\n",
       "      <td>1769</td>\n",
       "      <td>0.249955</td>\n",
       "    </tr>\n",
       "  </tbody>\n",
       "</table>\n",
       "</div>"
      ],
      "text/plain": [
       "   Style_Sperantov                         Произведение Актность  частотность  \\\n",
       "15  Non_Classified  Ржевский, «Подложный Смердий», 1769        5     0.304365   \n",
       "\n",
       "    протяженность  внутристиховые ремарки  характерологические ремарки  \\\n",
       "15       0.756944                0.158433                     0.242629   \n",
       "\n",
       "      author        tragedy_title  year  pca_component_1  \n",
       "15  Ржевский  «Подложный Смердий»  1769         0.249955  "
      ]
     },
     "metadata": {},
     "output_type": "display_data"
    }
   ],
   "source": [
    "display(period_two[period_two['pca_component_1']>=upper_boundary])"
   ]
  },
  {
   "cell_type": "code",
   "execution_count": 41,
   "metadata": {},
   "outputs": [
    {
     "data": {
      "text/html": [
       "<div>\n",
       "<style scoped>\n",
       "    .dataframe tbody tr th:only-of-type {\n",
       "        vertical-align: middle;\n",
       "    }\n",
       "\n",
       "    .dataframe tbody tr th {\n",
       "        vertical-align: top;\n",
       "    }\n",
       "\n",
       "    .dataframe thead th {\n",
       "        text-align: right;\n",
       "    }\n",
       "</style>\n",
       "<table border=\"1\" class=\"dataframe\">\n",
       "  <thead>\n",
       "    <tr style=\"text-align: right;\">\n",
       "      <th></th>\n",
       "      <th>Style_Sperantov</th>\n",
       "      <th>Произведение</th>\n",
       "      <th>Актность</th>\n",
       "      <th>частотность</th>\n",
       "      <th>протяженность</th>\n",
       "      <th>внутристиховые ремарки</th>\n",
       "      <th>характерологические ремарки</th>\n",
       "      <th>author</th>\n",
       "      <th>tragedy_title</th>\n",
       "      <th>year</th>\n",
       "      <th>pca_component_1</th>\n",
       "    </tr>\n",
       "  </thead>\n",
       "  <tbody>\n",
       "  </tbody>\n",
       "</table>\n",
       "</div>"
      ],
      "text/plain": [
       "Empty DataFrame\n",
       "Columns: [Style_Sperantov, Произведение, Актность, частотность, протяженность, внутристиховые ремарки, характерологические ремарки, author, tragedy_title, year, pca_component_1]\n",
       "Index: []"
      ]
     },
     "metadata": {},
     "output_type": "display_data"
    }
   ],
   "source": [
    "display(period_two[period_two['pca_component_1']<=lower_boundary])"
   ]
  },
  {
   "cell_type": "code",
   "execution_count": 42,
   "metadata": {},
   "outputs": [],
   "source": [
    "period_two = period_two[period_two.tragedy_title!='«Подложный Смердий»']"
   ]
  },
  {
   "cell_type": "code",
   "execution_count": 43,
   "metadata": {},
   "outputs": [
    {
     "name": "stdout",
     "output_type": "stream",
     "text": [
      "(26, 11)\n"
     ]
    }
   ],
   "source": [
    "print(period_two.shape)"
   ]
  },
  {
   "cell_type": "markdown",
   "metadata": {},
   "source": [
    "## Outliers for Period Three"
   ]
  },
  {
   "cell_type": "code",
   "execution_count": 44,
   "metadata": {},
   "outputs": [],
   "source": [
    "upper_boundary = period_three['pca_component_1'].mean() + 2*period_three['pca_component_1'].std()\n",
    "lower_boundary = period_three['pca_component_1'].mean() - 2*period_three['pca_component_1'].std()"
   ]
  },
  {
   "cell_type": "code",
   "execution_count": 45,
   "metadata": {},
   "outputs": [
    {
     "data": {
      "text/html": [
       "<div>\n",
       "<style scoped>\n",
       "    .dataframe tbody tr th:only-of-type {\n",
       "        vertical-align: middle;\n",
       "    }\n",
       "\n",
       "    .dataframe tbody tr th {\n",
       "        vertical-align: top;\n",
       "    }\n",
       "\n",
       "    .dataframe thead th {\n",
       "        text-align: right;\n",
       "    }\n",
       "</style>\n",
       "<table border=\"1\" class=\"dataframe\">\n",
       "  <thead>\n",
       "    <tr style=\"text-align: right;\">\n",
       "      <th></th>\n",
       "      <th>Style_Sperantov</th>\n",
       "      <th>Произведение</th>\n",
       "      <th>Актность</th>\n",
       "      <th>частотность</th>\n",
       "      <th>протяженность</th>\n",
       "      <th>внутристиховые ремарки</th>\n",
       "      <th>характерологические ремарки</th>\n",
       "      <th>author</th>\n",
       "      <th>tragedy_title</th>\n",
       "      <th>year</th>\n",
       "      <th>pca_component_1</th>\n",
       "    </tr>\n",
       "  </thead>\n",
       "  <tbody>\n",
       "    <tr>\n",
       "      <th>50</th>\n",
       "      <td>Pre-Romanticism</td>\n",
       "      <td>Державин, «Ирод и Мариамна», 1808</td>\n",
       "      <td>5</td>\n",
       "      <td>0.595392</td>\n",
       "      <td>0.50463</td>\n",
       "      <td>1.0</td>\n",
       "      <td>1.0</td>\n",
       "      <td>Державин</td>\n",
       "      <td>«Ирод и Мариамна»</td>\n",
       "      <td>1808</td>\n",
       "      <td>1.203172</td>\n",
       "    </tr>\n",
       "  </tbody>\n",
       "</table>\n",
       "</div>"
      ],
      "text/plain": [
       "     Style_Sperantov                       Произведение Актность  частотность  \\\n",
       "50  Pre-Romanticism   Державин, «Ирод и Мариамна», 1808        5     0.595392   \n",
       "\n",
       "    протяженность  внутристиховые ремарки  характерологические ремарки  \\\n",
       "50        0.50463                     1.0                          1.0   \n",
       "\n",
       "      author      tragedy_title  year  pca_component_1  \n",
       "50  Державин  «Ирод и Мариамна»  1808         1.203172  "
      ]
     },
     "metadata": {},
     "output_type": "display_data"
    }
   ],
   "source": [
    "display(period_three[period_three['pca_component_1']>=upper_boundary])"
   ]
  },
  {
   "cell_type": "code",
   "execution_count": 46,
   "metadata": {},
   "outputs": [
    {
     "data": {
      "text/html": [
       "<div>\n",
       "<style scoped>\n",
       "    .dataframe tbody tr th:only-of-type {\n",
       "        vertical-align: middle;\n",
       "    }\n",
       "\n",
       "    .dataframe tbody tr th {\n",
       "        vertical-align: top;\n",
       "    }\n",
       "\n",
       "    .dataframe thead th {\n",
       "        text-align: right;\n",
       "    }\n",
       "</style>\n",
       "<table border=\"1\" class=\"dataframe\">\n",
       "  <thead>\n",
       "    <tr style=\"text-align: right;\">\n",
       "      <th></th>\n",
       "      <th>Style_Sperantov</th>\n",
       "      <th>Произведение</th>\n",
       "      <th>Актность</th>\n",
       "      <th>частотность</th>\n",
       "      <th>протяженность</th>\n",
       "      <th>внутристиховые ремарки</th>\n",
       "      <th>характерологические ремарки</th>\n",
       "      <th>author</th>\n",
       "      <th>tragedy_title</th>\n",
       "      <th>year</th>\n",
       "      <th>pca_component_1</th>\n",
       "    </tr>\n",
       "  </thead>\n",
       "  <tbody>\n",
       "  </tbody>\n",
       "</table>\n",
       "</div>"
      ],
      "text/plain": [
       "Empty DataFrame\n",
       "Columns: [Style_Sperantov, Произведение, Актность, частотность, протяженность, внутристиховые ремарки, характерологические ремарки, author, tragedy_title, year, pca_component_1]\n",
       "Index: []"
      ]
     },
     "metadata": {},
     "output_type": "display_data"
    }
   ],
   "source": [
    "display(period_three[period_three['pca_component_1']<=lower_boundary])"
   ]
  },
  {
   "cell_type": "code",
   "execution_count": 47,
   "metadata": {},
   "outputs": [
    {
     "data": {
      "text/plain": [
       "1.1814132716051384"
      ]
     },
     "execution_count": 47,
     "metadata": {},
     "output_type": "execute_result"
    }
   ],
   "source": [
    "period_three['pca_component_1'].mean() + 2*period_three['pca_component_1'].std()"
   ]
  },
  {
   "cell_type": "code",
   "execution_count": 48,
   "metadata": {},
   "outputs": [],
   "source": [
    "period_three = period_three[period_three.tragedy_title!='«Ирод и Мариамна»']"
   ]
  },
  {
   "cell_type": "code",
   "execution_count": 49,
   "metadata": {},
   "outputs": [
    {
     "name": "stdout",
     "output_type": "stream",
     "text": [
      "(13, 11)\n"
     ]
    }
   ],
   "source": [
    "print(period_three.shape)"
   ]
  },
  {
   "cell_type": "markdown",
   "metadata": {},
   "source": [
    "## Outliers for Period Four"
   ]
  },
  {
   "cell_type": "code",
   "execution_count": 50,
   "metadata": {},
   "outputs": [],
   "source": [
    "upper_boundary = period_four['pca_component_1'].mean() + 2*period_four['pca_component_1'].std()\n",
    "lower_boundary = period_four['pca_component_1'].mean() - 2*period_four['pca_component_1'].std()"
   ]
  },
  {
   "cell_type": "code",
   "execution_count": 51,
   "metadata": {},
   "outputs": [
    {
     "data": {
      "text/html": [
       "<div>\n",
       "<style scoped>\n",
       "    .dataframe tbody tr th:only-of-type {\n",
       "        vertical-align: middle;\n",
       "    }\n",
       "\n",
       "    .dataframe tbody tr th {\n",
       "        vertical-align: top;\n",
       "    }\n",
       "\n",
       "    .dataframe thead th {\n",
       "        text-align: right;\n",
       "    }\n",
       "</style>\n",
       "<table border=\"1\" class=\"dataframe\">\n",
       "  <thead>\n",
       "    <tr style=\"text-align: right;\">\n",
       "      <th></th>\n",
       "      <th>Style_Sperantov</th>\n",
       "      <th>Произведение</th>\n",
       "      <th>Актность</th>\n",
       "      <th>частотность</th>\n",
       "      <th>протяженность</th>\n",
       "      <th>внутристиховые ремарки</th>\n",
       "      <th>характерологические ремарки</th>\n",
       "      <th>author</th>\n",
       "      <th>tragedy_title</th>\n",
       "      <th>year</th>\n",
       "      <th>pca_component_1</th>\n",
       "    </tr>\n",
       "  </thead>\n",
       "  <tbody>\n",
       "  </tbody>\n",
       "</table>\n",
       "</div>"
      ],
      "text/plain": [
       "Empty DataFrame\n",
       "Columns: [Style_Sperantov, Произведение, Актность, частотность, протяженность, внутристиховые ремарки, характерологические ремарки, author, tragedy_title, year, pca_component_1]\n",
       "Index: []"
      ]
     },
     "metadata": {},
     "output_type": "display_data"
    }
   ],
   "source": [
    "display(period_four[period_four['pca_component_1']>=upper_boundary])"
   ]
  },
  {
   "cell_type": "code",
   "execution_count": 52,
   "metadata": {},
   "outputs": [
    {
     "data": {
      "text/html": [
       "<div>\n",
       "<style scoped>\n",
       "    .dataframe tbody tr th:only-of-type {\n",
       "        vertical-align: middle;\n",
       "    }\n",
       "\n",
       "    .dataframe tbody tr th {\n",
       "        vertical-align: top;\n",
       "    }\n",
       "\n",
       "    .dataframe thead th {\n",
       "        text-align: right;\n",
       "    }\n",
       "</style>\n",
       "<table border=\"1\" class=\"dataframe\">\n",
       "  <thead>\n",
       "    <tr style=\"text-align: right;\">\n",
       "      <th></th>\n",
       "      <th>Style_Sperantov</th>\n",
       "      <th>Произведение</th>\n",
       "      <th>Актность</th>\n",
       "      <th>частотность</th>\n",
       "      <th>протяженность</th>\n",
       "      <th>внутристиховые ремарки</th>\n",
       "      <th>характерологические ремарки</th>\n",
       "      <th>author</th>\n",
       "      <th>tragedy_title</th>\n",
       "      <th>year</th>\n",
       "      <th>pca_component_1</th>\n",
       "    </tr>\n",
       "  </thead>\n",
       "  <tbody>\n",
       "  </tbody>\n",
       "</table>\n",
       "</div>"
      ],
      "text/plain": [
       "Empty DataFrame\n",
       "Columns: [Style_Sperantov, Произведение, Актность, частотность, протяженность, внутристиховые ремарки, характерологические ремарки, author, tragedy_title, year, pca_component_1]\n",
       "Index: []"
      ]
     },
     "metadata": {},
     "output_type": "display_data"
    }
   ],
   "source": [
    "display(period_four[period_four['pca_component_1']<=lower_boundary])"
   ]
  },
  {
   "cell_type": "markdown",
   "metadata": {},
   "source": [
    "### Statistical Tests"
   ]
  },
  {
   "cell_type": "code",
   "execution_count": 53,
   "metadata": {},
   "outputs": [
    {
     "name": "stdout",
     "output_type": "stream",
     "text": [
      "(7, 11)\n"
     ]
    }
   ],
   "source": [
    "print(period_four.shape)"
   ]
  },
  {
   "cell_type": "code",
   "execution_count": 54,
   "metadata": {},
   "outputs": [
    {
     "data": {
      "text/plain": [
       "KruskalResult(statistic=16.054176477660242, pvalue=0.0011053476719915785)"
      ]
     },
     "execution_count": 54,
     "metadata": {},
     "output_type": "execute_result"
    }
   ],
   "source": [
    "kruskal(period_one['частотность'], \n",
    "        period_two['частотность'], \n",
    "        period_three['частотность'], \n",
    "        period_four['частотность'])"
   ]
  },
  {
   "cell_type": "code",
   "execution_count": 55,
   "metadata": {},
   "outputs": [
    {
     "data": {
      "text/plain": [
       "KruskalResult(statistic=15.002398975509799, pvalue=0.001814600023858464)"
      ]
     },
     "execution_count": 55,
     "metadata": {},
     "output_type": "execute_result"
    }
   ],
   "source": [
    "kruskal(period_one['протяженность'], \n",
    "        period_two['протяженность'], \n",
    "        period_three['протяженность'], \n",
    "        period_four['протяженность'])"
   ]
  },
  {
   "cell_type": "code",
   "execution_count": 56,
   "metadata": {},
   "outputs": [
    {
     "data": {
      "text/plain": [
       "KruskalResult(statistic=10.26836457333417, pvalue=0.01641742359141901)"
      ]
     },
     "execution_count": 56,
     "metadata": {},
     "output_type": "execute_result"
    }
   ],
   "source": [
    "kruskal(period_one['внутристиховые ремарки'], \n",
    "        period_two['внутристиховые ремарки'], \n",
    "        period_three['внутристиховые ремарки'], \n",
    "        period_four['внутристиховые ремарки'])"
   ]
  },
  {
   "cell_type": "code",
   "execution_count": 57,
   "metadata": {},
   "outputs": [
    {
     "data": {
      "text/plain": [
       "KruskalResult(statistic=7.875346201996651, pvalue=0.048659412167741806)"
      ]
     },
     "execution_count": 57,
     "metadata": {},
     "output_type": "execute_result"
    }
   ],
   "source": [
    "kruskal(period_one['характерологические ремарки'], \n",
    "        period_two['характерологические ремарки'], \n",
    "        period_three['характерологические ремарки'], \n",
    "        period_four['характерологические ремарки'])"
   ]
  },
  {
   "cell_type": "code",
   "execution_count": 58,
   "metadata": {},
   "outputs": [
    {
     "data": {
      "text/plain": [
       "KruskalResult(statistic=15.930241980241988, pvalue=0.0011719444041232848)"
      ]
     },
     "execution_count": 58,
     "metadata": {},
     "output_type": "execute_result"
    }
   ],
   "source": [
    "kruskal(period_one['pca_component_1'], \n",
    "        period_two['pca_component_1'], \n",
    "        period_three['pca_component_1'], \n",
    "        period_four['pca_component_1'])"
   ]
  },
  {
   "cell_type": "code",
   "execution_count": 59,
   "metadata": {},
   "outputs": [
    {
     "name": "stdout",
     "output_type": "stream",
     "text": [
      "MannwhitneyuResult(statistic=40.0, pvalue=0.004964525159727888)\n",
      "MannwhitneyuResult(statistic=103.0, pvalue=0.4919008110192774)\n",
      "MannwhitneyuResult(statistic=83.5, pvalue=0.20834300004055284)\n",
      "MannwhitneyuResult(statistic=60.0, pvalue=0.0362037274015027)\n",
      "MannwhitneyuResult(statistic=44.0, pvalue=0.007852629419458593)\n"
     ]
    }
   ],
   "source": [
    "print(mannwhitneyu(period_one['частотность'], \n",
    "                   period_two['частотность']))\n",
    "print(mannwhitneyu(period_one['протяженность'], \n",
    "                   period_two['протяженность']))\n",
    "print(mannwhitneyu(period_one['внутристиховые ремарки'], \n",
    "                   period_two['внутристиховые ремарки']))\n",
    "print(mannwhitneyu(period_one['характерологические ремарки'], \n",
    "                   period_two['характерологические ремарки']))\n",
    "print(mannwhitneyu(period_one['pca_component_1'], \n",
    "                   period_two['pca_component_1']))"
   ]
  },
  {
   "cell_type": "code",
   "execution_count": 60,
   "metadata": {},
   "outputs": [
    {
     "name": "stdout",
     "output_type": "stream",
     "text": [
      "MannwhitneyuResult(statistic=70.0, pvalue=0.0016694687888751602)\n",
      "MannwhitneyuResult(statistic=41.0, pvalue=7.239207156548499e-05)\n",
      "MannwhitneyuResult(statistic=70.0, pvalue=0.0016654762970883645)\n",
      "MannwhitneyuResult(statistic=110.0, pvalue=0.0402490873901165)\n",
      "MannwhitneyuResult(statistic=47.0, pvalue=0.00014744399499123156)\n"
     ]
    }
   ],
   "source": [
    "print(mannwhitneyu(period_two['частотность'], \n",
    "                   period_three['частотность']))\n",
    "print(mannwhitneyu(period_two['протяженность'], \n",
    "                   period_three['протяженность']))\n",
    "print(mannwhitneyu(period_two['внутристиховые ремарки'], \n",
    "                   period_three['внутристиховые ремарки']))\n",
    "print(mannwhitneyu(period_two['характерологические ремарки'], \n",
    "                   period_three['характерологические ремарки']))\n",
    "print(mannwhitneyu(period_two['pca_component_1'], \n",
    "                   period_three['pca_component_1']))"
   ]
  },
  {
   "cell_type": "code",
   "execution_count": 61,
   "metadata": {},
   "outputs": [
    {
     "name": "stdout",
     "output_type": "stream",
     "text": [
      "MannwhitneyuResult(statistic=29.0, pvalue=0.10241930311425046)\n",
      "MannwhitneyuResult(statistic=31.0, pvalue=0.13362874657719392)\n",
      "MannwhitneyuResult(statistic=29.0, pvalue=0.10233415980910093)\n",
      "MannwhitneyuResult(statistic=32.5, pvalue=0.1600430376756653)\n",
      "MannwhitneyuResult(statistic=36.0, pvalue=0.23786534447943214)\n"
     ]
    }
   ],
   "source": [
    "print(mannwhitneyu(period_three['частотность'], \n",
    "                   period_four['частотность']))\n",
    "print(mannwhitneyu(period_three['протяженность'], \n",
    "                   period_four['протяженность']))\n",
    "print(mannwhitneyu(period_three['внутристиховые ремарки'], \n",
    "                   period_four['внутристиховые ремарки']))\n",
    "print(mannwhitneyu(period_three['характерологические ремарки'], \n",
    "                   period_four['характерологические ремарки']))\n",
    "print(mannwhitneyu(period_three['pca_component_1'], \n",
    "                   period_four['pca_component_1']))"
   ]
  },
  {
   "cell_type": "code",
   "execution_count": null,
   "metadata": {},
   "outputs": [],
   "source": []
  }
 ],
 "metadata": {
  "kernelspec": {
   "display_name": "Python 3",
   "language": "python",
   "name": "python3"
  },
  "language_info": {
   "codemirror_mode": {
    "name": "ipython",
    "version": 3
   },
   "file_extension": ".py",
   "mimetype": "text/x-python",
   "name": "python",
   "nbconvert_exporter": "python",
   "pygments_lexer": "ipython3",
   "version": "3.7.6"
  }
 },
 "nbformat": 4,
 "nbformat_minor": 4
}
