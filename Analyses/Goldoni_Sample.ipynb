{
 "cells": [
  {
   "cell_type": "markdown",
   "metadata": {},
   "source": [
    "Due to time constraints, we will not be able to process all Carlo Goldoni's five-act comedies in verse. Therefore, we decided to take a 30% stratified random sample. The 30% fraction results in a reasonable number of comedies that we can tackle."
   ]
  },
  {
   "cell_type": "code",
   "execution_count": 1,
   "metadata": {},
   "outputs": [],
   "source": [
    "import pandas as pd\n",
    "import matplotlib.pyplot as plt\n",
    "%matplotlib inline\n",
    "import seaborn as sns\n"
   ]
  },
  {
   "cell_type": "code",
   "execution_count": 2,
   "metadata": {},
   "outputs": [],
   "source": [
    "goldoni = pd.read_csv('../Contrastive_Material/Goldoni.tsv', sep='\\t')"
   ]
  },
  {
   "cell_type": "code",
   "execution_count": 3,
   "metadata": {},
   "outputs": [],
   "source": [
    "def five_year_intervals(n):\n",
    "    return (n + (5 - n) % 5) - 5"
   ]
  },
  {
   "cell_type": "code",
   "execution_count": 4,
   "metadata": {},
   "outputs": [
    {
     "data": {
      "text/html": [
       "<div>\n",
       "<style scoped>\n",
       "    .dataframe tbody tr th:only-of-type {\n",
       "        vertical-align: middle;\n",
       "    }\n",
       "\n",
       "    .dataframe tbody tr th {\n",
       "        vertical-align: top;\n",
       "    }\n",
       "\n",
       "    .dataframe thead th {\n",
       "        text-align: right;\n",
       "    }\n",
       "</style>\n",
       "<table border=\"1\" class=\"dataframe\">\n",
       "  <thead>\n",
       "    <tr style=\"text-align: right;\">\n",
       "      <th></th>\n",
       "      <th>title</th>\n",
       "      <th>last_name</th>\n",
       "      <th>first_name</th>\n",
       "      <th>date</th>\n",
       "    </tr>\n",
       "  </thead>\n",
       "  <tbody>\n",
       "    <tr>\n",
       "      <th>0</th>\n",
       "      <td>La pupilla</td>\n",
       "      <td>Goldoni</td>\n",
       "      <td>Carlo</td>\n",
       "      <td>1751</td>\n",
       "    </tr>\n",
       "    <tr>\n",
       "      <th>1</th>\n",
       "      <td>Il Molière</td>\n",
       "      <td>Goldoni</td>\n",
       "      <td>Carlo</td>\n",
       "      <td>1751</td>\n",
       "    </tr>\n",
       "    <tr>\n",
       "      <th>2</th>\n",
       "      <td>La sposa persiana</td>\n",
       "      <td>Goldoni</td>\n",
       "      <td>Carlo</td>\n",
       "      <td>1753</td>\n",
       "    </tr>\n",
       "    <tr>\n",
       "      <th>3</th>\n",
       "      <td>Il festino</td>\n",
       "      <td>Goldoni</td>\n",
       "      <td>Carlo</td>\n",
       "      <td>1754</td>\n",
       "    </tr>\n",
       "    <tr>\n",
       "      <th>4</th>\n",
       "      <td>Il filosofo inglese</td>\n",
       "      <td>Goldoni</td>\n",
       "      <td>Carlo</td>\n",
       "      <td>1754</td>\n",
       "    </tr>\n",
       "  </tbody>\n",
       "</table>\n",
       "</div>"
      ],
      "text/plain": [
       "                 title last_name first_name  date\n",
       "0           La pupilla   Goldoni      Carlo  1751\n",
       "1           Il Molière   Goldoni      Carlo  1751\n",
       "2    La sposa persiana   Goldoni      Carlo  1753\n",
       "3           Il festino   Goldoni      Carlo  1754\n",
       "4  Il filosofo inglese   Goldoni      Carlo  1754"
      ]
     },
     "execution_count": 4,
     "metadata": {},
     "output_type": "execute_result"
    }
   ],
   "source": [
    "goldoni.head()"
   ]
  },
  {
   "cell_type": "code",
   "execution_count": 5,
   "metadata": {},
   "outputs": [
    {
     "name": "stdout",
     "output_type": "stream",
     "text": [
      "Total number of comedies: 27\n"
     ]
    }
   ],
   "source": [
    "print('Total number of comedies:', goldoni.shape[0])"
   ]
  },
  {
   "cell_type": "markdown",
   "metadata": {},
   "source": [
    "## Timeframe"
   ]
  },
  {
   "cell_type": "markdown",
   "metadata": {},
   "source": [
    "Carlo Goldoni wrote 27 five-act verse comedies over the course of one decade from 1750 to 1760. We will look into his output by five-year intervals."
   ]
  },
  {
   "cell_type": "code",
   "execution_count": 6,
   "metadata": {},
   "outputs": [
    {
     "data": {
      "text/plain": [
       "min    1751.0\n",
       "max    1759.0\n",
       "Name: date, dtype: float64"
      ]
     },
     "execution_count": 6,
     "metadata": {},
     "output_type": "execute_result"
    }
   ],
   "source": [
    "goldoni.date.describe()[['min', 'max']]"
   ]
  },
  {
   "cell_type": "code",
   "execution_count": 7,
   "metadata": {},
   "outputs": [],
   "source": [
    "goldoni['five_year_intervals'] = goldoni.date.apply(five_year_intervals)"
   ]
  },
  {
   "cell_type": "code",
   "execution_count": 8,
   "metadata": {},
   "outputs": [
    {
     "data": {
      "image/png": "[encoded data removed]",
      "text/plain": [
       "<Figure size 432x288 with 1 Axes>"
      ]
     },
     "metadata": {
      "needs_background": "light"
     },
     "output_type": "display_data"
    }
   ],
   "source": [
    "plt.show('Number of Comedies in Two Five-Year Intervals: from 1750 to 1755 and from 1756 to 1760')\n",
    "sns.countplot(goldoni['five_year_intervals'])\n",
    "plt.show()"
   ]
  },
  {
   "cell_type": "code",
   "execution_count": 9,
   "metadata": {},
   "outputs": [
    {
     "data": {
      "text/plain": [
       "1755    17\n",
       "1750    10\n",
       "Name: five_year_intervals, dtype: int64"
      ]
     },
     "execution_count": 9,
     "metadata": {},
     "output_type": "execute_result"
    }
   ],
   "source": [
    "goldoni['five_year_intervals'].value_counts()"
   ]
  },
  {
   "cell_type": "markdown",
   "metadata": {},
   "source": [
    "There are 10 comedies from 1750 to 1755 and 17 from 756 to 1760. We will take a 30% random sample from each five-year interval."
   ]
  },
  {
   "cell_type": "code",
   "execution_count": 10,
   "metadata": {},
   "outputs": [
    {
     "data": {
      "text/html": [
       "<div>\n",
       "<style scoped>\n",
       "    .dataframe tbody tr th:only-of-type {\n",
       "        vertical-align: middle;\n",
       "    }\n",
       "\n",
       "    .dataframe tbody tr th {\n",
       "        vertical-align: top;\n",
       "    }\n",
       "\n",
       "    .dataframe thead th {\n",
       "        text-align: right;\n",
       "    }\n",
       "</style>\n",
       "<table border=\"1\" class=\"dataframe\">\n",
       "  <thead>\n",
       "    <tr style=\"text-align: right;\">\n",
       "      <th></th>\n",
       "      <th>title</th>\n",
       "      <th>last_name</th>\n",
       "      <th>first_name</th>\n",
       "      <th>date</th>\n",
       "      <th>five_year_intervals</th>\n",
       "    </tr>\n",
       "  </thead>\n",
       "  <tbody>\n",
       "    <tr>\n",
       "      <th>4</th>\n",
       "      <td>Il filosofo inglese</td>\n",
       "      <td>Goldoni</td>\n",
       "      <td>Carlo</td>\n",
       "      <td>1754</td>\n",
       "      <td>1750</td>\n",
       "    </tr>\n",
       "    <tr>\n",
       "      <th>2</th>\n",
       "      <td>La sposa persiana</td>\n",
       "      <td>Goldoni</td>\n",
       "      <td>Carlo</td>\n",
       "      <td>1753</td>\n",
       "      <td>1750</td>\n",
       "    </tr>\n",
       "    <tr>\n",
       "      <th>6</th>\n",
       "      <td>Il cavaliere giocondo</td>\n",
       "      <td>Goldoni</td>\n",
       "      <td>Carlo</td>\n",
       "      <td>1755</td>\n",
       "      <td>1750</td>\n",
       "    </tr>\n",
       "  </tbody>\n",
       "</table>\n",
       "</div>"
      ],
      "text/plain": [
       "                   title last_name first_name  date  five_year_intervals\n",
       "4    Il filosofo inglese   Goldoni      Carlo  1754                 1750\n",
       "2      La sposa persiana   Goldoni      Carlo  1753                 1750\n",
       "6  Il cavaliere giocondo   Goldoni      Carlo  1755                 1750"
      ]
     },
     "execution_count": 10,
     "metadata": {},
     "output_type": "execute_result"
    }
   ],
   "source": [
    "goldoni[goldoni['five_year_intervals'] ==1750].sample(frac=0.3)"
   ]
  },
  {
   "cell_type": "code",
   "execution_count": 11,
   "metadata": {},
   "outputs": [
    {
     "data": {
      "text/html": [
       "<div>\n",
       "<style scoped>\n",
       "    .dataframe tbody tr th:only-of-type {\n",
       "        vertical-align: middle;\n",
       "    }\n",
       "\n",
       "    .dataframe tbody tr th {\n",
       "        vertical-align: top;\n",
       "    }\n",
       "\n",
       "    .dataframe thead th {\n",
       "        text-align: right;\n",
       "    }\n",
       "</style>\n",
       "<table border=\"1\" class=\"dataframe\">\n",
       "  <thead>\n",
       "    <tr style=\"text-align: right;\">\n",
       "      <th></th>\n",
       "      <th>title</th>\n",
       "      <th>last_name</th>\n",
       "      <th>first_name</th>\n",
       "      <th>date</th>\n",
       "      <th>five_year_intervals</th>\n",
       "    </tr>\n",
       "  </thead>\n",
       "  <tbody>\n",
       "    <tr>\n",
       "      <th>19</th>\n",
       "      <td>La donna di governo</td>\n",
       "      <td>Goldoni</td>\n",
       "      <td>Carlo</td>\n",
       "      <td>1758</td>\n",
       "      <td>1755</td>\n",
       "    </tr>\n",
       "    <tr>\n",
       "      <th>18</th>\n",
       "      <td>L’apatista o sia L’indifferente</td>\n",
       "      <td>Goldoni</td>\n",
       "      <td>Carlo</td>\n",
       "      <td>1758</td>\n",
       "      <td>1755</td>\n",
       "    </tr>\n",
       "    <tr>\n",
       "      <th>17</th>\n",
       "      <td>Il cavaliere di spirito o sia La donna di test...</td>\n",
       "      <td>Goldoni</td>\n",
       "      <td>Carlo</td>\n",
       "      <td>1757</td>\n",
       "      <td>1755</td>\n",
       "    </tr>\n",
       "    <tr>\n",
       "      <th>25</th>\n",
       "      <td>I morbinosi</td>\n",
       "      <td>Goldoni</td>\n",
       "      <td>Carlo</td>\n",
       "      <td>1759</td>\n",
       "      <td>1755</td>\n",
       "    </tr>\n",
       "    <tr>\n",
       "      <th>10</th>\n",
       "      <td>Ircana in Ispaan</td>\n",
       "      <td>Goldoni</td>\n",
       "      <td>Carlo</td>\n",
       "      <td>1756</td>\n",
       "      <td>1755</td>\n",
       "    </tr>\n",
       "  </tbody>\n",
       "</table>\n",
       "</div>"
      ],
      "text/plain": [
       "                                                title last_name first_name  \\\n",
       "19                                La donna di governo   Goldoni      Carlo   \n",
       "18                    L’apatista o sia L’indifferente   Goldoni      Carlo   \n",
       "17  Il cavaliere di spirito o sia La donna di test...   Goldoni      Carlo   \n",
       "25                                        I morbinosi   Goldoni      Carlo   \n",
       "10                                   Ircana in Ispaan   Goldoni      Carlo   \n",
       "\n",
       "    date  five_year_intervals  \n",
       "19  1758                 1755  \n",
       "18  1758                 1755  \n",
       "17  1757                 1755  \n",
       "25  1759                 1755  \n",
       "10  1756                 1755  "
      ]
     },
     "execution_count": 11,
     "metadata": {},
     "output_type": "execute_result"
    }
   ],
   "source": [
    "goldoni[goldoni['five_year_intervals'] ==1755].sample(frac=0.3)"
   ]
  },
  {
   "cell_type": "markdown",
   "metadata": {},
   "source": [
    "The 30% random sample resulted in three comedies from the first five-year interval and five comedies from the second five-year interval."
   ]
  },
  {
   "cell_type": "code",
   "execution_count": null,
   "metadata": {},
   "outputs": [],
   "source": []
  }
 ],
 "metadata": {
  "kernelspec": {
   "display_name": "Python 3",
   "language": "python",
   "name": "python3"
  },
  "language_info": {
   "codemirror_mode": {
    "name": "ipython",
    "version": 3
   },
   "file_extension": ".py",
   "mimetype": "text/x-python",
   "name": "python",
   "nbconvert_exporter": "python",
   "pygments_lexer": "ipython3",
   "version": "3.7.6"
  }
 },
 "nbformat": 4,
 "nbformat_minor": 4
}
