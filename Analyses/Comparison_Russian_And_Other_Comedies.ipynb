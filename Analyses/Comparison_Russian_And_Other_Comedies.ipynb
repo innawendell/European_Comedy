{
 "cells": [
  {
   "cell_type": "code",
   "execution_count": 1,
   "metadata": {},
   "outputs": [],
   "source": [
    "import pandas as pd\n",
    "import numpy as np\n",
    "import matplotlib.pyplot as plt\n",
    "%matplotlib inline\n",
    "import seaborn as sns\n",
    "from os import listdir\n",
    "from sklearn.preprocessing import normalize\n",
    "from sklearn.metrics.pairwise import euclidean_distances\n",
    "import json\n",
    "import re"
   ]
  },
  {
   "cell_type": "code",
   "execution_count": 2,
   "metadata": {},
   "outputs": [],
   "source": [
    "# update the boundaries as we determined based on our hypothesis testing\n",
    "def determine_period(row):\n",
    "    if row <= 1695:\n",
    "        period = 1\n",
    "    elif row >= 1696 and row <= 1795:\n",
    "        period = 2\n",
    "    else:\n",
    "        period = 3\n",
    "    \n",
    "    return period"
   ]
  },
  {
   "cell_type": "code",
   "execution_count": 3,
   "metadata": {},
   "outputs": [],
   "source": [
    "def make_list(row):\n",
    "    speech_dist = []\n",
    "    for value in row[1:-1].split('\\n '):\n",
    "        speech_dist.append([int(num) for num in re.findall('[0-9]+', value)])\n",
    "        \n",
    "    return speech_dist"
   ]
  },
  {
   "cell_type": "code",
   "execution_count": 4,
   "metadata": {},
   "outputs": [],
   "source": [
    "def speech_distribution_by_period(period_df):\n",
    "    all_distributions = []\n",
    "    for row in period_df['speech_distribution']:\n",
    "        speech_dist_df = pd.DataFrame(row).T\n",
    "        # rename columns to make sure they start with 1 and not 0\n",
    "        speech_dist_df.columns = speech_dist_df.iloc[0, :]\n",
    "        # no need to include the variants as a row - they will be column names\n",
    "        only_counts_df = pd.DataFrame(speech_dist_df.iloc[1, :])\n",
    "        only_counts_df.columns = ['raw_numbers']\n",
    "        only_counts_df['percentage'] = only_counts_df['raw_numbers'] / only_counts_df.sum().values[0]\n",
    "        all_distributions.append(round(only_counts_df['percentage'], 4))\n",
    "        \n",
    "    period_df_dist = pd.concat(all_distributions, axis=1).fillna(0)\n",
    "    # take the mean for each period\n",
    "    mean_per_type = pd.DataFrame(period_df_dist.mean(axis=1)).T \n",
    "    mean_per_type = (mean_per_type * 100).round(2)\n",
    "    mean_per_type.index = ['percentage_of_scenes']\n",
    "    mean_per_type.index.name = 'number_of_speakers'\n",
    "    \n",
    "    return mean_per_type"
   ]
  },
  {
   "cell_type": "code",
   "execution_count": 5,
   "metadata": {},
   "outputs": [],
   "source": [
    "def sigma_iarkho(variants, weights):\n",
    "    \"\"\"\n",
    "    The function allows calculating standard range following iarkho's procedure.\n",
    "    Parameters:\n",
    "        variants - a list with distinct variants in the ascending order, e.g. [1, 2, 3, 4, 5]\n",
    "        weights - a list of weights corresponding to these variants, e.g. [20, 32, 18, 9, 1]\n",
    "    Returns:\n",
    "        sigma - standard range per iarkho\n",
    "    \"\"\"\n",
    "    weighted_mean_variants = np.average(variants, weights=weights)\n",
    "    differences_squared = [(variant - weighted_mean_variants)**2 for variant in variants]\n",
    "    weighted_mean_difference = np.average(differences_squared, weights=weights)\n",
    "    sigma = weighted_mean_difference**0.5\n",
    "\n",
    "    return sigma"
   ]
  },
  {
   "cell_type": "code",
   "execution_count": 6,
   "metadata": {},
   "outputs": [],
   "source": [
    "def coefficient_unused_dramatic_characters(data):\n",
    "    total_present = 0\n",
    "    total_non_speakers = 0\n",
    "    for act in data['play_summary'].keys():\n",
    "        for scene in data['play_summary'][act].keys():\n",
    "            # identify the raw number of non-speaking dramatic characters\n",
    "            num_non_speakers = len([item for item in data['play_summary'][act][scene].items() \n",
    "                                if (item[1] == 0  or item[1] == 'non_speaking') and item[0] not in ['num_utterances',\n",
    "                                                                   'num_speakers',\n",
    "                                                                   'perc_non_speakers']])\n",
    "            total_non_speakers += num_non_speakers\n",
    "            # calculate the total number of dramatic characters\n",
    "            total_present += (data['play_summary'][act][scene]['num_speakers'] + num_non_speakers)\n",
    "    coefficient_unused = (total_non_speakers / total_present ) * 100        \n",
    "    \n",
    "    return coefficient_unused"
   ]
  },
  {
   "cell_type": "code",
   "execution_count": 7,
   "metadata": {},
   "outputs": [],
   "source": [
    "def get_data(input_directory):\n",
    "    all_files = [f for f in listdir(input_directory) if f.count('.json') > 0]\n",
    "    dfs = []\n",
    "    for file in all_files:\n",
    "        with open(input_directory + '/' + file) as json_file:\n",
    "            data = json.load(json_file)\n",
    "            not_used = coefficient_unused_dramatic_characters(data)\n",
    "            df = pd.DataFrame([not_used], columns=['coefficient_unused'], index=[file.replace('.json','')])\n",
    "            dfs.append(df)\n",
    "            \n",
    "    features_df = pd.concat(dfs, axis=0, sort=False).round(2)\n",
    "    \n",
    "    return features_df"
   ]
  },
  {
   "cell_type": "code",
   "execution_count": 8,
   "metadata": {},
   "outputs": [],
   "source": [
    "def plot_speech_distribution(speech_dist_df, title):\n",
    "    plt.figure(figsize=(10, 5))\n",
    "    plt.title(title, fontsize=14)\n",
    "    sns.barplot(speech_dist_df.columns.tolist(), \n",
    "                speech_dist_df.values.tolist()[0])\n",
    "    plt.xlabel('Number of Speakers', fontsize=12)\n",
    "    plt.ylabel('Percentage of Scenes', fontsize=12)\n",
    "\n",
    "    plt.show()"
   ]
  },
  {
   "cell_type": "markdown",
   "metadata": {},
   "source": [
    "#### Load and Process French Data"
   ]
  },
  {
   "cell_type": "code",
   "execution_count": 9,
   "metadata": {},
   "outputs": [],
   "source": [
    "# read the data\n",
    "french_data = pd.read_csv('../French_Comedies/Data/French_Comedies_Data.csv')\n",
    "# read the sample data\n",
    "french_sample_df = pd.read_csv('../French_Comedies/Data/French_Comedies_Data_Sample.csv')\n",
    "\n",
    "# exclude the comedies used for the sample analysis\n",
    "not_sample = french_data[~french_data['index'].isin(french_sample_df['index'])].copy()\n",
    "\n",
    "# include only five act comedies and only the comedies that are not translations/adaptations \n",
    "french_original_comedies = not_sample[(not_sample['num_acts'] ==5)&\n",
    "                               (not_sample['translation/adaptation/contrastive'] == 0)].copy()\n",
    "\n",
    "# sort by date\n",
    "french_sorted_comedies = french_original_comedies.sort_values(by='date')\n",
    "\n",
    "\n",
    "# rename column names for clarity\n",
    "french_sorted_comedies = french_sorted_comedies.rename(columns={'num_scenes_iarkho': 'mobility_coefficient', \n",
    "                                                 'percentage_non_duologues': 'percentage_non_dialogues',\n",
    "                                                  'percentage_above_two_speakers': 'percentage_polylogues',\n",
    "                                                 'percentage_scenes_with_discontinuous_change_characters': 'discontinuous_scenes'})"
   ]
  },
  {
   "cell_type": "code",
   "execution_count": 10,
   "metadata": {},
   "outputs": [],
   "source": [
    "features = ['num_present_characters',\n",
    "            'mobility_coefficient', \n",
    "            'standard_range', \n",
    "            'percentage_non_dialogues',\n",
    "            'percentage_polylogues',\n",
    "            'percentage_monologues',\n",
    "             'coefficient_unused',\n",
    "             'discontinuous_scenes']"
   ]
  },
  {
   "cell_type": "code",
   "execution_count": 11,
   "metadata": {},
   "outputs": [],
   "source": [
    "# calculate the coefficient of non-used dramatic characters\n",
    "unused_coefficient = get_data('../French_Comedies/Play_Jsons/')\n",
    "unused_coefficient['index'] = unused_coefficient.index.tolist()\n",
    "french_sorted_comedies = french_sorted_comedies.merge(unused_coefficient, on='index')"
   ]
  },
  {
   "cell_type": "code",
   "execution_count": 12,
   "metadata": {},
   "outputs": [],
   "source": [
    "french_sorted_comedies['period'] = french_sorted_comedies.date.apply(determine_period)"
   ]
  },
  {
   "cell_type": "markdown",
   "metadata": {},
   "source": [
    "### Scenes with No Speakers Explored"
   ]
  },
  {
   "cell_type": "markdown",
   "metadata": {},
   "source": [
    "Scenes with no Speakers in Period One:\n",
    "- N.Gillet de la Tessonnerie's *Le Campagnard* (1657) has a scene with no speakers (act 5 scene 1)\n",
    "- Marcel's *Le Mariage sans mariage* (1671) has two errors in the markup (act 5 scene 3.1 extra - Gusman is speaking, marked as non-speaking; in act 5 scene 6.1 extra is an erroneously distinguished scene with no speaking characters).\n",
    "- Noël Lebreton, sieur de Hauteroche's *Crispin musicien* (1674) has a scene with no speaking characters (act 1 scene 11).\n",
    "\n",
    "Scenes with no Speakers in Period Two:\n",
    "- Bouy and Fétiq's comedy *La Famille ridicule, comédie messine* has an error in the markup (act 4 scene 9, Ourselle is speaking).\n",
    "- Marc-Antoine-Jacques Rochon de Chabannes's *Le Jaloux* (1784) act 5 scene 5 has no speakers.\n",
    "\n",
    "Scenes with no Speakers in Period Three:\n",
    "- Ancien militaire's *L'Ami de cour* (1801) has an error in the markup (in act 3 scene 9 Floriman is speaking).\n",
    "- Th. Princeteau's *Constance ou l'indifférence vaincue* (1824) has an error in the markup (in act 1 has an incorrectly identified scene 5.1 extra with no speakers)."
   ]
  },
  {
   "cell_type": "code",
   "execution_count": 13,
   "metadata": {},
   "outputs": [],
   "source": [
    "# correct speech distribution where we identified errors in the markup\n",
    "french_sorted_comedies.loc[64, 'speech_distribution'] = '[[1, 8], [2, 14], [3, 10], [4, 1], [5, 1], [6, 2]]'\n",
    "french_sorted_comedies.loc[97, 'speech_distribution'] = '[[1, 9], [2, 33], [3, 6], [4, 2]])'\n",
    "french_sorted_comedies.loc[178, 'speech_distribution'] = '[[1, 19], [2, 22], [3, 5], [4, 5], [5, 1]]'\n",
    "french_sorted_comedies.loc[208, 'speech_distribution'] = '[[1, 10], [2, 19], [3, 7], [4, 4], [5, 2], [7, 1], [8, 2]]'\n",
    "\n",
    "french_sorted_comedies['speech_distribution'] = french_sorted_comedies['speech_distribution'].apply(make_list)"
   ]
  },
  {
   "cell_type": "code",
   "execution_count": 14,
   "metadata": {},
   "outputs": [],
   "source": [
    "french_feature_one = french_sorted_comedies.groupby('period').describe().loc[:, 'num_present_characters'][['mean']]\n",
    "french_feature_two = french_sorted_comedies.groupby('period').describe().loc[:, 'mobility_coefficient'][['mean']]\n",
    "french_feature_three = french_sorted_comedies.groupby('period').describe().loc[:, 'sigma_iarkho'][['mean']]\n",
    "french_feature_four = french_sorted_comedies.groupby('period').describe().loc[:, 'percentage_non_dialogues'][['mean']]\n",
    "french_feature_five = french_sorted_comedies.groupby('period').describe().loc[:, 'percentage_polylogues'][['mean']]\n",
    "french_feature_six = french_sorted_comedies.groupby('period').describe().loc[:, 'percentage_monologues'][['mean']]\n",
    "french_feature_seven = french_sorted_comedies.groupby('period').describe().loc[:, 'coefficient_unused'][['mean']]\n",
    "french_feature_eight = french_sorted_comedies.groupby('period').describe().loc[:, 'discontinuous_scenes'][['mean']]\n",
    "\n",
    "french_summary_comedies = pd.concat([french_feature_one, \n",
    "                              french_feature_two, \n",
    "                              french_feature_three, \n",
    "                              french_feature_four, \n",
    "                              french_feature_five, \n",
    "                              french_feature_six,\n",
    "                              french_feature_seven,\n",
    "                              french_feature_eight], axis=1)\n",
    "french_summary_comedies.columns = features\n",
    "french_summary_comedies = french_summary_comedies.T\n",
    "french_summary_comedies.columns = ['Period One: 1629 to 1695', \n",
    "                                   'Period Two: 1696 to 1795', \n",
    "                                   'Period Three: 1796 to 1849']\n",
    "french_summary_comedies = french_summary_comedies.round(2)"
   ]
  },
  {
   "cell_type": "code",
   "execution_count": 15,
   "metadata": {},
   "outputs": [],
   "source": [
    "french_period_one = french_sorted_comedies[french_sorted_comedies.period == 1].copy()\n",
    "french_period_two = french_sorted_comedies[french_sorted_comedies.period == 2].copy()\n",
    "french_period_three = french_sorted_comedies[french_sorted_comedies.period == 3].copy()"
   ]
  },
  {
   "cell_type": "markdown",
   "metadata": {},
   "source": [
    "#### Load and Process Russian Data"
   ]
  },
  {
   "cell_type": "code",
   "execution_count": 16,
   "metadata": {},
   "outputs": [],
   "source": [
    "# updated boundaries\n",
    "def determine_period_russian(row):\n",
    "    if row <= 1794:\n",
    "        period = 1\n",
    "    else:\n",
    "        period = 2\n",
    "    \n",
    "    return period"
   ]
  },
  {
   "cell_type": "code",
   "execution_count": 17,
   "metadata": {},
   "outputs": [],
   "source": [
    "russian_comedies = pd.read_csv('../Russian_Comedies/Data/Comedies_Raw_Data.csv')\n",
    "# sort by creation date\n",
    "russian_comedies_sorted = russian_comedies.sort_values(by='creation_date').copy()\n",
    "\n",
    "# select only original comedies and five act\n",
    "russian_original_comedies = russian_comedies_sorted[(russian_comedies_sorted['translation/adaptation'] == 0) & \n",
    "                                   (russian_comedies_sorted['num_acts'] == 5)].copy()\n",
    "\n",
    "\n",
    "# calculate the coefficient of non-used dramatic characters\n",
    "unused_coefficient = get_data('../Russian_Comedies/Play_Jsons/')\n",
    "unused_coefficient['index'] = unused_coefficient.index.tolist()\n",
    "russian_comedies_df = russian_original_comedies.merge(unused_coefficient, on='index')"
   ]
  },
  {
   "cell_type": "code",
   "execution_count": 18,
   "metadata": {},
   "outputs": [],
   "source": [
    "russian_comedies_df['period'] = russian_comedies_df['creation_date'].apply(determine_period_russian)\n",
    "russian_comedies_df['speech_distribution'] = russian_comedies_df['speech_distribution'].apply(make_list)\n",
    "# rename column names for clarity\n",
    "russian_comedies_df = russian_comedies_df.rename(columns={'num_scenes_iarkho': 'mobility_coefficient', \n",
    "                                                 'percentage_non_duologues': 'percentage_non_dialogues',\n",
    "                                                  'percentage_above_two_speakers': 'percentage_polylogues',\n",
    "                                                 'percentage_scenes_with_discontinuous_change_characters': 'discontinuous_scenes',\n",
    "                                                 'sigma_iarkho': 'standard_range'})"
   ]
  },
  {
   "cell_type": "code",
   "execution_count": 19,
   "metadata": {},
   "outputs": [],
   "source": [
    "russian_period_one = russian_comedies_df[russian_comedies_df.period == 1].copy()\n",
    "russian_period_two = russian_comedies_df[russian_comedies_df.period == 2].copy()"
   ]
  },
  {
   "cell_type": "code",
   "execution_count": 20,
   "metadata": {},
   "outputs": [],
   "source": [
    "russian_feature_one = russian_comedies_df.groupby('period').describe().loc[:, 'num_present_characters'][['mean']]\n",
    "russian_feature_two = russian_comedies_df.groupby('period').describe().loc[:, 'mobility_coefficient'][['mean']]\n",
    "russian_feature_three = russian_comedies_df.groupby('period').describe().loc[:, 'standard_range'][['mean']]\n",
    "russian_feature_four = russian_comedies_df.groupby('period').describe().loc[:, 'percentage_non_dialogues'][['mean']]\n",
    "russian_feature_five = russian_comedies_df.groupby('period').describe().loc[:, 'percentage_polylogues'][['mean']]\n",
    "russian_feature_six = russian_comedies_df.groupby('period').describe().loc[:, 'percentage_monologues'][['mean']]\n",
    "russian_feature_seven = russian_comedies_df.groupby('period').describe().loc[:, 'coefficient_unused'][['mean']]\n",
    "russian_feature_eight = russian_comedies_df.groupby('period').describe().loc[:, 'discontinuous_scenes'][['mean']]\n",
    "\n",
    "russian_summary_comedies = pd.concat([russian_feature_one, \n",
    "                              russian_feature_two, \n",
    "                              russian_feature_three, \n",
    "                              russian_feature_four, \n",
    "                              russian_feature_five, \n",
    "                              russian_feature_six,\n",
    "                              russian_feature_seven,\n",
    "                              russian_feature_eight], axis=1)\n",
    "russian_summary_comedies.columns = features\n",
    "russian_summary_comedies = russian_summary_comedies.T\n",
    "russian_summary_comedies.columns = ['tentative Period One: 1755 to 1794', \n",
    "                                    'tentative Period Two: 1795 to 1849']\n",
    "russian_summary_comedies = russian_summary_comedies.round(2)"
   ]
  },
  {
   "cell_type": "markdown",
   "metadata": {},
   "source": [
    "#### Load Contrastive Material Data"
   ]
  },
  {
   "cell_type": "code",
   "execution_count": 21,
   "metadata": {},
   "outputs": [],
   "source": [
    "contr_data_df = pd.read_csv('../Contrastive_Material/Contrastive_Material_Data.csv')\n",
    "contr_data_df['speech_distribution'] = contr_data_df['speech_distribution'].apply(make_list)\n",
    "# sort by date\n",
    "sorted_contr_data_df = contr_data_df.sort_values(by='date')\n",
    "\n",
    "sorted_contr_data_df  = sorted_contr_data_df.rename(columns={'num_scenes_iarkho': 'mobility_coefficient', \n",
    "                                                           'percentage_non_duologues': 'percentage_non_dialogues',\n",
    "                                                           'percentage_above_two_speakers': 'percentage_polylogues',\n",
    "                                                            'percentage_scenes_with_discontinuous_change_characters': \n",
    "                                                            'discontinuous_scenes',\n",
    "                                                             'sigma_iarkho': 'standard_range'})\n",
    "sorted_contr_data_df['date'] = sorted_contr_data_df['date'].astype('int')\n",
    "sorted_contr_data_df['last_name'] = sorted_contr_data_df['last_name'].str.strip()\n",
    "\n",
    "shakespeare_df = sorted_contr_data_df[sorted_contr_data_df.last_name == 'Shakespeare'].copy()\n",
    "goldoni_df = sorted_contr_data_df[sorted_contr_data_df.last_name == 'Goldoni'].copy()"
   ]
  },
  {
   "cell_type": "markdown",
   "metadata": {},
   "source": [
    "### French Comedies Five-Act Comedies in Verse"
   ]
  },
  {
   "cell_type": "code",
   "execution_count": 22,
   "metadata": {},
   "outputs": [
    {
     "data": {
      "text/html": [
       "<div>\n",
       "<style scoped>\n",
       "    .dataframe tbody tr th:only-of-type {\n",
       "        vertical-align: middle;\n",
       "    }\n",
       "\n",
       "    .dataframe tbody tr th {\n",
       "        vertical-align: top;\n",
       "    }\n",
       "\n",
       "    .dataframe thead th {\n",
       "        text-align: right;\n",
       "    }\n",
       "</style>\n",
       "<table border=\"1\" class=\"dataframe\">\n",
       "  <thead>\n",
       "    <tr style=\"text-align: right;\">\n",
       "      <th></th>\n",
       "      <th>Period One: 1629 to 1695</th>\n",
       "      <th>Period Two: 1696 to 1795</th>\n",
       "      <th>Period Three: 1796 to 1849</th>\n",
       "    </tr>\n",
       "  </thead>\n",
       "  <tbody>\n",
       "    <tr>\n",
       "      <th>num_present_characters</th>\n",
       "      <td>11.81</td>\n",
       "      <td>10.64</td>\n",
       "      <td>11.96</td>\n",
       "    </tr>\n",
       "    <tr>\n",
       "      <th>mobility_coefficient</th>\n",
       "      <td>41.82</td>\n",
       "      <td>49.56</td>\n",
       "      <td>54.31</td>\n",
       "    </tr>\n",
       "    <tr>\n",
       "      <th>standard_range</th>\n",
       "      <td>1.23</td>\n",
       "      <td>1.12</td>\n",
       "      <td>1.33</td>\n",
       "    </tr>\n",
       "    <tr>\n",
       "      <th>percentage_non_dialogues</th>\n",
       "      <td>56.11</td>\n",
       "      <td>53.50</td>\n",
       "      <td>58.12</td>\n",
       "    </tr>\n",
       "    <tr>\n",
       "      <th>percentage_polylogues</th>\n",
       "      <td>42.81</td>\n",
       "      <td>31.37</td>\n",
       "      <td>37.69</td>\n",
       "    </tr>\n",
       "    <tr>\n",
       "      <th>percentage_monologues</th>\n",
       "      <td>13.18</td>\n",
       "      <td>22.08</td>\n",
       "      <td>20.35</td>\n",
       "    </tr>\n",
       "    <tr>\n",
       "      <th>coefficient_unused</th>\n",
       "      <td>12.17</td>\n",
       "      <td>12.75</td>\n",
       "      <td>13.74</td>\n",
       "    </tr>\n",
       "    <tr>\n",
       "      <th>discontinuous_scenes</th>\n",
       "      <td>13.37</td>\n",
       "      <td>6.88</td>\n",
       "      <td>5.83</td>\n",
       "    </tr>\n",
       "  </tbody>\n",
       "</table>\n",
       "</div>"
      ],
      "text/plain": [
       "                          Period One: 1629 to 1695  Period Two: 1696 to 1795  \\\n",
       "num_present_characters                       11.81                     10.64   \n",
       "mobility_coefficient                         41.82                     49.56   \n",
       "standard_range                                1.23                      1.12   \n",
       "percentage_non_dialogues                     56.11                     53.50   \n",
       "percentage_polylogues                        42.81                     31.37   \n",
       "percentage_monologues                        13.18                     22.08   \n",
       "coefficient_unused                           12.17                     12.75   \n",
       "discontinuous_scenes                         13.37                      6.88   \n",
       "\n",
       "                          Period Three: 1796 to 1849  \n",
       "num_present_characters                         11.96  \n",
       "mobility_coefficient                           54.31  \n",
       "standard_range                                  1.33  \n",
       "percentage_non_dialogues                       58.12  \n",
       "percentage_polylogues                          37.69  \n",
       "percentage_monologues                          20.35  \n",
       "coefficient_unused                             13.74  \n",
       "discontinuous_scenes                            5.83  "
      ]
     },
     "execution_count": 22,
     "metadata": {},
     "output_type": "execute_result"
    }
   ],
   "source": [
    "french_summary_comedies"
   ]
  },
  {
   "cell_type": "markdown",
   "metadata": {},
   "source": [
    "### Russian Comedies Five-Act Comedies in Verse"
   ]
  },
  {
   "cell_type": "code",
   "execution_count": 23,
   "metadata": {},
   "outputs": [
    {
     "data": {
      "text/html": [
       "<div>\n",
       "<style scoped>\n",
       "    .dataframe tbody tr th:only-of-type {\n",
       "        vertical-align: middle;\n",
       "    }\n",
       "\n",
       "    .dataframe tbody tr th {\n",
       "        vertical-align: top;\n",
       "    }\n",
       "\n",
       "    .dataframe thead th {\n",
       "        text-align: right;\n",
       "    }\n",
       "</style>\n",
       "<table border=\"1\" class=\"dataframe\">\n",
       "  <thead>\n",
       "    <tr style=\"text-align: right;\">\n",
       "      <th></th>\n",
       "      <th>tentative Period One: 1755 to 1794</th>\n",
       "      <th>tentative Period Two: 1795 to 1849</th>\n",
       "    </tr>\n",
       "  </thead>\n",
       "  <tbody>\n",
       "    <tr>\n",
       "      <th>num_present_characters</th>\n",
       "      <td>11.50</td>\n",
       "      <td>14.70</td>\n",
       "    </tr>\n",
       "    <tr>\n",
       "      <th>mobility_coefficient</th>\n",
       "      <td>53.17</td>\n",
       "      <td>61.60</td>\n",
       "    </tr>\n",
       "    <tr>\n",
       "      <th>standard_range</th>\n",
       "      <td>1.48</td>\n",
       "      <td>1.54</td>\n",
       "    </tr>\n",
       "    <tr>\n",
       "      <th>percentage_non_dialogues</th>\n",
       "      <td>59.94</td>\n",
       "      <td>60.64</td>\n",
       "    </tr>\n",
       "    <tr>\n",
       "      <th>percentage_polylogues</th>\n",
       "      <td>38.11</td>\n",
       "      <td>39.68</td>\n",
       "    </tr>\n",
       "    <tr>\n",
       "      <th>percentage_monologues</th>\n",
       "      <td>21.84</td>\n",
       "      <td>20.65</td>\n",
       "    </tr>\n",
       "    <tr>\n",
       "      <th>coefficient_unused</th>\n",
       "      <td>19.04</td>\n",
       "      <td>21.40</td>\n",
       "    </tr>\n",
       "    <tr>\n",
       "      <th>discontinuous_scenes</th>\n",
       "      <td>6.05</td>\n",
       "      <td>6.55</td>\n",
       "    </tr>\n",
       "  </tbody>\n",
       "</table>\n",
       "</div>"
      ],
      "text/plain": [
       "                          tentative Period One: 1755 to 1794  \\\n",
       "num_present_characters                                 11.50   \n",
       "mobility_coefficient                                   53.17   \n",
       "standard_range                                          1.48   \n",
       "percentage_non_dialogues                               59.94   \n",
       "percentage_polylogues                                  38.11   \n",
       "percentage_monologues                                  21.84   \n",
       "coefficient_unused                                     19.04   \n",
       "discontinuous_scenes                                    6.05   \n",
       "\n",
       "                          tentative Period Two: 1795 to 1849  \n",
       "num_present_characters                                 14.70  \n",
       "mobility_coefficient                                   61.60  \n",
       "standard_range                                          1.54  \n",
       "percentage_non_dialogues                               60.64  \n",
       "percentage_polylogues                                  39.68  \n",
       "percentage_monologues                                  20.65  \n",
       "coefficient_unused                                     21.40  \n",
       "discontinuous_scenes                                    6.55  "
      ]
     },
     "execution_count": 23,
     "metadata": {},
     "output_type": "execute_result"
    }
   ],
   "source": [
    "russian_summary_comedies"
   ]
  },
  {
   "cell_type": "markdown",
   "metadata": {},
   "source": [
    "### Speech Distribution in the French Five-Act Comedy In Verse in Period One"
   ]
  },
  {
   "cell_type": "code",
   "execution_count": 24,
   "metadata": {},
   "outputs": [
    {
     "data": {
      "image/png": "[encoded data removed]",
      "text/plain": [
       "<Figure size 720x360 with 1 Axes>"
      ]
     },
     "metadata": {
      "needs_background": "light"
     },
     "output_type": "display_data"
    }
   ],
   "source": [
    "plot_speech_distribution(speech_distribution_by_period(french_period_one), \n",
    "                         'Speech Distribition in the French Five-Act Verse Comedy of Period One')"
   ]
  },
  {
   "cell_type": "code",
   "execution_count": 25,
   "metadata": {},
   "outputs": [
    {
     "data": {
      "text/html": [
       "<div>\n",
       "<style scoped>\n",
       "    .dataframe tbody tr th:only-of-type {\n",
       "        vertical-align: middle;\n",
       "    }\n",
       "\n",
       "    .dataframe tbody tr th {\n",
       "        vertical-align: top;\n",
       "    }\n",
       "\n",
       "    .dataframe thead th {\n",
       "        text-align: right;\n",
       "    }\n",
       "</style>\n",
       "<table border=\"1\" class=\"dataframe\">\n",
       "  <thead>\n",
       "    <tr style=\"text-align: right;\">\n",
       "      <th></th>\n",
       "      <th>0</th>\n",
       "      <th>1</th>\n",
       "      <th>2</th>\n",
       "      <th>3</th>\n",
       "      <th>4</th>\n",
       "      <th>5</th>\n",
       "      <th>6</th>\n",
       "      <th>7</th>\n",
       "      <th>8</th>\n",
       "      <th>9</th>\n",
       "      <th>12</th>\n",
       "    </tr>\n",
       "    <tr>\n",
       "      <th>number_of_speakers</th>\n",
       "      <th></th>\n",
       "      <th></th>\n",
       "      <th></th>\n",
       "      <th></th>\n",
       "      <th></th>\n",
       "      <th></th>\n",
       "      <th></th>\n",
       "      <th></th>\n",
       "      <th></th>\n",
       "      <th></th>\n",
       "      <th></th>\n",
       "    </tr>\n",
       "  </thead>\n",
       "  <tbody>\n",
       "    <tr>\n",
       "      <th>percentage_of_scenes</th>\n",
       "      <td>0.06</td>\n",
       "      <td>14.16</td>\n",
       "      <td>43.43</td>\n",
       "      <td>23.42</td>\n",
       "      <td>10.6</td>\n",
       "      <td>4.39</td>\n",
       "      <td>1.86</td>\n",
       "      <td>0.91</td>\n",
       "      <td>0.68</td>\n",
       "      <td>0.48</td>\n",
       "      <td>0.01</td>\n",
       "    </tr>\n",
       "  </tbody>\n",
       "</table>\n",
       "</div>"
      ],
      "text/plain": [
       "0                       0      1      2      3     4     5     6     7     8   \\\n",
       "number_of_speakers                                                              \n",
       "percentage_of_scenes  0.06  14.16  43.43  23.42  10.6  4.39  1.86  0.91  0.68   \n",
       "\n",
       "0                       9     12  \n",
       "number_of_speakers                \n",
       "percentage_of_scenes  0.48  0.01  "
      ]
     },
     "execution_count": 25,
     "metadata": {},
     "output_type": "execute_result"
    }
   ],
   "source": [
    "speech_distribution_by_period(french_period_one)"
   ]
  },
  {
   "cell_type": "markdown",
   "metadata": {},
   "source": [
    "N.Gillet de la Tessonnerie's *Le Campagnard* (1657) and Noël Lebreton, sieur de Hauteroche's *Crispin musicien* (1674) have scenes with no speakers."
   ]
  },
  {
   "cell_type": "code",
   "execution_count": 26,
   "metadata": {},
   "outputs": [
    {
     "data": {
      "text/plain": [
       "2.08"
      ]
     },
     "execution_count": 26,
     "metadata": {},
     "output_type": "execute_result"
    }
   ],
   "source": [
    "np.sum(speech_distribution_by_period(french_period_one).values[0][7:])"
   ]
  },
  {
   "cell_type": "markdown",
   "metadata": {},
   "source": [
    "### Speech Distribution in the French Five-Act Comedy In Verse in Period Two"
   ]
  },
  {
   "cell_type": "code",
   "execution_count": 27,
   "metadata": {},
   "outputs": [
    {
     "data": {
      "image/png": "[encoded data removed]",
      "text/plain": [
       "<Figure size 720x360 with 1 Axes>"
      ]
     },
     "metadata": {
      "needs_background": "light"
     },
     "output_type": "display_data"
    }
   ],
   "source": [
    "plot_speech_distribution(speech_distribution_by_period(french_period_two), \n",
    "                         'Speech Distribition in the French Five-Act Verse Comedy of Period Two')"
   ]
  },
  {
   "cell_type": "code",
   "execution_count": 28,
   "metadata": {},
   "outputs": [
    {
     "data": {
      "text/html": [
       "<div>\n",
       "<style scoped>\n",
       "    .dataframe tbody tr th:only-of-type {\n",
       "        vertical-align: middle;\n",
       "    }\n",
       "\n",
       "    .dataframe tbody tr th {\n",
       "        vertical-align: top;\n",
       "    }\n",
       "\n",
       "    .dataframe thead th {\n",
       "        text-align: right;\n",
       "    }\n",
       "</style>\n",
       "<table border=\"1\" class=\"dataframe\">\n",
       "  <thead>\n",
       "    <tr style=\"text-align: right;\">\n",
       "      <th></th>\n",
       "      <th>0</th>\n",
       "      <th>1</th>\n",
       "      <th>2</th>\n",
       "      <th>3</th>\n",
       "      <th>4</th>\n",
       "      <th>5</th>\n",
       "      <th>6</th>\n",
       "      <th>7</th>\n",
       "      <th>8</th>\n",
       "      <th>9</th>\n",
       "      <th>10</th>\n",
       "      <th>11</th>\n",
       "    </tr>\n",
       "    <tr>\n",
       "      <th>number_of_speakers</th>\n",
       "      <th></th>\n",
       "      <th></th>\n",
       "      <th></th>\n",
       "      <th></th>\n",
       "      <th></th>\n",
       "      <th></th>\n",
       "      <th></th>\n",
       "      <th></th>\n",
       "      <th></th>\n",
       "      <th></th>\n",
       "      <th></th>\n",
       "      <th></th>\n",
       "    </tr>\n",
       "  </thead>\n",
       "  <tbody>\n",
       "    <tr>\n",
       "      <th>percentage_of_scenes</th>\n",
       "      <td>0.02</td>\n",
       "      <td>23.01</td>\n",
       "      <td>45.78</td>\n",
       "      <td>19.17</td>\n",
       "      <td>6.73</td>\n",
       "      <td>2.71</td>\n",
       "      <td>1.3</td>\n",
       "      <td>0.74</td>\n",
       "      <td>0.39</td>\n",
       "      <td>0.12</td>\n",
       "      <td>0.02</td>\n",
       "      <td>0.02</td>\n",
       "    </tr>\n",
       "  </tbody>\n",
       "</table>\n",
       "</div>"
      ],
      "text/plain": [
       "0                       0      1      2      3     4     5    6     7     8   \\\n",
       "number_of_speakers                                                             \n",
       "percentage_of_scenes  0.02  23.01  45.78  19.17  6.73  2.71  1.3  0.74  0.39   \n",
       "\n",
       "0                       9     10    11  \n",
       "number_of_speakers                      \n",
       "percentage_of_scenes  0.12  0.02  0.02  "
      ]
     },
     "execution_count": 28,
     "metadata": {},
     "output_type": "execute_result"
    }
   ],
   "source": [
    "speech_distribution_by_period(french_period_two)"
   ]
  },
  {
   "cell_type": "markdown",
   "metadata": {},
   "source": [
    "Marc-Antoine-Jacques Rochon de Chabannes's *Le Jaloux* (1784) has a scene with no speakers"
   ]
  },
  {
   "cell_type": "code",
   "execution_count": 29,
   "metadata": {},
   "outputs": [
    {
     "data": {
      "text/plain": [
       "1.29"
      ]
     },
     "execution_count": 29,
     "metadata": {},
     "output_type": "execute_result"
    }
   ],
   "source": [
    "np.sum(speech_distribution_by_period(french_period_two).values[0][7:])"
   ]
  },
  {
   "cell_type": "markdown",
   "metadata": {},
   "source": [
    "### Speech Distribution in the French Five-Act Comedy In Verse in Period Three"
   ]
  },
  {
   "cell_type": "code",
   "execution_count": 30,
   "metadata": {},
   "outputs": [
    {
     "data": {
      "image/png": "[encoded data removed]",
      "text/plain": [
       "<Figure size 720x360 with 1 Axes>"
      ]
     },
     "metadata": {
      "needs_background": "light"
     },
     "output_type": "display_data"
    }
   ],
   "source": [
    "plot_speech_distribution(speech_distribution_by_period(french_period_three), \n",
    "                         'Speech Distribition in the French Five-Act Verse Comedy of Period Three')"
   ]
  },
  {
   "cell_type": "code",
   "execution_count": 31,
   "metadata": {},
   "outputs": [
    {
     "data": {
      "text/html": [
       "<div>\n",
       "<style scoped>\n",
       "    .dataframe tbody tr th:only-of-type {\n",
       "        vertical-align: middle;\n",
       "    }\n",
       "\n",
       "    .dataframe tbody tr th {\n",
       "        vertical-align: top;\n",
       "    }\n",
       "\n",
       "    .dataframe thead th {\n",
       "        text-align: right;\n",
       "    }\n",
       "</style>\n",
       "<table border=\"1\" class=\"dataframe\">\n",
       "  <thead>\n",
       "    <tr style=\"text-align: right;\">\n",
       "      <th></th>\n",
       "      <th>1</th>\n",
       "      <th>2</th>\n",
       "      <th>3</th>\n",
       "      <th>4</th>\n",
       "      <th>5</th>\n",
       "      <th>6</th>\n",
       "      <th>7</th>\n",
       "      <th>8</th>\n",
       "      <th>9</th>\n",
       "      <th>11</th>\n",
       "      <th>12</th>\n",
       "      <th>15</th>\n",
       "      <th>16</th>\n",
       "    </tr>\n",
       "    <tr>\n",
       "      <th>number_of_speakers</th>\n",
       "      <th></th>\n",
       "      <th></th>\n",
       "      <th></th>\n",
       "      <th></th>\n",
       "      <th></th>\n",
       "      <th></th>\n",
       "      <th></th>\n",
       "      <th></th>\n",
       "      <th></th>\n",
       "      <th></th>\n",
       "      <th></th>\n",
       "      <th></th>\n",
       "      <th></th>\n",
       "    </tr>\n",
       "  </thead>\n",
       "  <tbody>\n",
       "    <tr>\n",
       "      <th>percentage_of_scenes</th>\n",
       "      <td>23.01</td>\n",
       "      <td>40.33</td>\n",
       "      <td>21.09</td>\n",
       "      <td>7.59</td>\n",
       "      <td>4.31</td>\n",
       "      <td>1.96</td>\n",
       "      <td>0.88</td>\n",
       "      <td>0.5</td>\n",
       "      <td>0.18</td>\n",
       "      <td>0.04</td>\n",
       "      <td>0.04</td>\n",
       "      <td>0.02</td>\n",
       "      <td>0.05</td>\n",
       "    </tr>\n",
       "  </tbody>\n",
       "</table>\n",
       "</div>"
      ],
      "text/plain": [
       "0                        1      2      3     4     5     6     7    8     9   \\\n",
       "number_of_speakers                                                             \n",
       "percentage_of_scenes  23.01  40.33  21.09  7.59  4.31  1.96  0.88  0.5  0.18   \n",
       "\n",
       "0                       11    12    15    16  \n",
       "number_of_speakers                            \n",
       "percentage_of_scenes  0.04  0.04  0.02  0.05  "
      ]
     },
     "execution_count": 31,
     "metadata": {},
     "output_type": "execute_result"
    }
   ],
   "source": [
    "speech_distribution_by_period(french_period_three)"
   ]
  },
  {
   "cell_type": "code",
   "execution_count": 32,
   "metadata": {},
   "outputs": [
    {
     "data": {
      "text/plain": [
       "1.71"
      ]
     },
     "execution_count": 32,
     "metadata": {},
     "output_type": "execute_result"
    }
   ],
   "source": [
    "np.sum(speech_distribution_by_period(french_period_three).values[0][6:])"
   ]
  },
  {
   "cell_type": "markdown",
   "metadata": {},
   "source": [
    "### Speech Distribution in the Russian Five-Act Comedy In Verse in The Tentative Period One"
   ]
  },
  {
   "cell_type": "code",
   "execution_count": 33,
   "metadata": {},
   "outputs": [
    {
     "data": {
      "image/png": "[encoded data removed]",
      "text/plain": [
       "<Figure size 720x360 with 1 Axes>"
      ]
     },
     "metadata": {
      "needs_background": "light"
     },
     "output_type": "display_data"
    }
   ],
   "source": [
    "plot_speech_distribution(speech_distribution_by_period(russian_period_one), \n",
    "                         'Speech Distribition in the Russian Five-Act Verse Comedy of The Tentative Period One')"
   ]
  },
  {
   "cell_type": "code",
   "execution_count": 34,
   "metadata": {},
   "outputs": [
    {
     "data": {
      "text/html": [
       "<div>\n",
       "<style scoped>\n",
       "    .dataframe tbody tr th:only-of-type {\n",
       "        vertical-align: middle;\n",
       "    }\n",
       "\n",
       "    .dataframe tbody tr th {\n",
       "        vertical-align: top;\n",
       "    }\n",
       "\n",
       "    .dataframe thead th {\n",
       "        text-align: right;\n",
       "    }\n",
       "</style>\n",
       "<table border=\"1\" class=\"dataframe\">\n",
       "  <thead>\n",
       "    <tr style=\"text-align: right;\">\n",
       "      <th></th>\n",
       "      <th>1</th>\n",
       "      <th>2</th>\n",
       "      <th>3</th>\n",
       "      <th>4</th>\n",
       "      <th>5</th>\n",
       "      <th>6</th>\n",
       "      <th>7</th>\n",
       "      <th>8</th>\n",
       "      <th>9</th>\n",
       "      <th>10</th>\n",
       "      <th>12</th>\n",
       "    </tr>\n",
       "    <tr>\n",
       "      <th>number_of_speakers</th>\n",
       "      <th></th>\n",
       "      <th></th>\n",
       "      <th></th>\n",
       "      <th></th>\n",
       "      <th></th>\n",
       "      <th></th>\n",
       "      <th></th>\n",
       "      <th></th>\n",
       "      <th></th>\n",
       "      <th></th>\n",
       "      <th></th>\n",
       "    </tr>\n",
       "  </thead>\n",
       "  <tbody>\n",
       "    <tr>\n",
       "      <th>percentage_of_scenes</th>\n",
       "      <td>21.84</td>\n",
       "      <td>40.06</td>\n",
       "      <td>18.58</td>\n",
       "      <td>9.53</td>\n",
       "      <td>2.79</td>\n",
       "      <td>2.44</td>\n",
       "      <td>1.7</td>\n",
       "      <td>1.29</td>\n",
       "      <td>0.71</td>\n",
       "      <td>0.71</td>\n",
       "      <td>0.36</td>\n",
       "    </tr>\n",
       "  </tbody>\n",
       "</table>\n",
       "</div>"
      ],
      "text/plain": [
       "0                        1      2      3     4     5     6    7     8     9   \\\n",
       "number_of_speakers                                                             \n",
       "percentage_of_scenes  21.84  40.06  18.58  9.53  2.79  2.44  1.7  1.29  0.71   \n",
       "\n",
       "0                       10    12  \n",
       "number_of_speakers                \n",
       "percentage_of_scenes  0.71  0.36  "
      ]
     },
     "execution_count": 34,
     "metadata": {},
     "output_type": "execute_result"
    }
   ],
   "source": [
    "speech_distribution_by_period(russian_period_one)"
   ]
  },
  {
   "cell_type": "code",
   "execution_count": 35,
   "metadata": {},
   "outputs": [
    {
     "data": {
      "text/plain": [
       "4.77"
      ]
     },
     "execution_count": 35,
     "metadata": {},
     "output_type": "execute_result"
    }
   ],
   "source": [
    "round(np.sum(speech_distribution_by_period(russian_period_one).values[0][6:]), 2)"
   ]
  },
  {
   "cell_type": "markdown",
   "metadata": {},
   "source": [
    "### Speech Distribution in the Russian Five-Act Comedy In Verse in The Tentative Period One"
   ]
  },
  {
   "cell_type": "code",
   "execution_count": 36,
   "metadata": {},
   "outputs": [
    {
     "data": {
      "image/png": "[encoded data removed]",
      "text/plain": [
       "<Figure size 720x360 with 1 Axes>"
      ]
     },
     "metadata": {
      "needs_background": "light"
     },
     "output_type": "display_data"
    }
   ],
   "source": [
    "plot_speech_distribution(speech_distribution_by_period(russian_period_two), \n",
    "                         'Speech Distribition in the Russian Five-Act Verse Comedy of The Tentative Period Two')"
   ]
  },
  {
   "cell_type": "markdown",
   "metadata": {},
   "source": [
    "Note that in the Russian corpus there is a comedy that has zero speakers in a scene, Boris Fedorov's *Chudnya vstrechi* (1818)."
   ]
  },
  {
   "cell_type": "code",
   "execution_count": 37,
   "metadata": {},
   "outputs": [
    {
     "data": {
      "text/html": [
       "<div>\n",
       "<style scoped>\n",
       "    .dataframe tbody tr th:only-of-type {\n",
       "        vertical-align: middle;\n",
       "    }\n",
       "\n",
       "    .dataframe tbody tr th {\n",
       "        vertical-align: top;\n",
       "    }\n",
       "\n",
       "    .dataframe thead th {\n",
       "        text-align: right;\n",
       "    }\n",
       "</style>\n",
       "<table border=\"1\" class=\"dataframe\">\n",
       "  <thead>\n",
       "    <tr style=\"text-align: right;\">\n",
       "      <th></th>\n",
       "      <th>0</th>\n",
       "      <th>1</th>\n",
       "      <th>2</th>\n",
       "      <th>3</th>\n",
       "      <th>4</th>\n",
       "      <th>5</th>\n",
       "      <th>6</th>\n",
       "      <th>7</th>\n",
       "      <th>9</th>\n",
       "      <th>10</th>\n",
       "      <th>13</th>\n",
       "    </tr>\n",
       "    <tr>\n",
       "      <th>number_of_speakers</th>\n",
       "      <th></th>\n",
       "      <th></th>\n",
       "      <th></th>\n",
       "      <th></th>\n",
       "      <th></th>\n",
       "      <th></th>\n",
       "      <th></th>\n",
       "      <th></th>\n",
       "      <th></th>\n",
       "      <th></th>\n",
       "      <th></th>\n",
       "    </tr>\n",
       "  </thead>\n",
       "  <tbody>\n",
       "    <tr>\n",
       "      <th>percentage_of_scenes</th>\n",
       "      <td>0.3</td>\n",
       "      <td>20.66</td>\n",
       "      <td>39.36</td>\n",
       "      <td>18.39</td>\n",
       "      <td>11.45</td>\n",
       "      <td>4.58</td>\n",
       "      <td>1.99</td>\n",
       "      <td>1.42</td>\n",
       "      <td>1.45</td>\n",
       "      <td>0.17</td>\n",
       "      <td>0.22</td>\n",
       "    </tr>\n",
       "  </tbody>\n",
       "</table>\n",
       "</div>"
      ],
      "text/plain": [
       "0                      0      1      2      3      4     5     6     7     9   \\\n",
       "number_of_speakers                                                              \n",
       "percentage_of_scenes  0.3  20.66  39.36  18.39  11.45  4.58  1.99  1.42  1.45   \n",
       "\n",
       "0                       10    13  \n",
       "number_of_speakers                \n",
       "percentage_of_scenes  0.17  0.22  "
      ]
     },
     "execution_count": 37,
     "metadata": {},
     "output_type": "execute_result"
    }
   ],
   "source": [
    "speech_distribution_by_period(russian_period_two)"
   ]
  },
  {
   "cell_type": "markdown",
   "metadata": {},
   "source": [
    "### Comparison of The Russian and French Five-Act Comedies in Verse:\n",
    "1. The mean number of dramatic characters is the Russian five-act comedy in verse of the tentative Period One (11.50) was lower than the mean number of dramatic characters in the French Comedies of Period One. However, it was higher than the mean number of dramatic characters in the French Comedies of Period Two (10.64). In the tentative Period Two, the mean number of dramatic characters (14.70) was higher than the mean number of dramatic characters in French Comedy in Period Three (11.96).\n",
    "2. The mean mobility coefficient of the Russian five-act comedy in verse of the tentative Period One (53.17) was higher than the mean mobility coefficient of the French Period One (41.82), Period Two (49.56). The mean mobility coefficient of the Russian tentative Period Three (61.60) was higher than the French Period Three (54.31).\n",
    "3. The standard range of the Russian comedy in the tentative Period One (1.48) and in the tentative Period Two (1.52) was higher than the standard range of the French five-act comedy in verse of all periods (1.23 in Period One, 1.12 in Period Two, and 1.33 in Period Three). \n",
    "4. The mean percentage of non-dialogues in the Russian tentative Periods One (59.94%) and Two (60.64%) was higher than the mean percentage of non-dialogues in the French comedies of all periods (56.11% in Period One, 53.50% in Period Two, and 58.12% in Period Three).\n",
    "5. The mean percentage of polylogues in the Russian tentative Period One (38.11%) is lower than the percentage of polylogues in the French Period One (43.81%), however, it is higher than the percentage of polylogues in the French Period Two (31.37%). The percentage of polylogues in the Russian tentative Period Two (39.68%) is higher than the percentage of polylogues in the French Period Three.\n",
    "6. The mean percentage of monologues in the Russian tentative Period One (21.84%) is higher than the percentage of monologues in the French Period One (13.18%) but it is lower than the mean percentage of monologues in the French Period Two (22.08%). In the Russian tentative Period Two, the percentage of monologues (20.65%) is slightly higher but very close to the percentage of monologues in the French Period Three (20.35%).\n",
    "7. The mean coefficient of unused dramatic characters is higher in the Russian tentative Periods One (19.04) and Two (21.40) than in all French periods (12.17 in Period One, 12.75 in Period Two, and 13.74 in Period Three).\n",
    "8. The mean percentage of discontinuous scenes in the Russian tentative Period One (6.05) was lower than the mean percentage of discontinuous scenes in the French Period One (13.37) and Period Two (6.88). However, the mean percentage of discontinuous scenes was higher in the Russian tentative Period Two (6.55) than in the French Period Three (5.83).\n",
    "9. The maximum number of speaking characters in the Russian tentative Period One is 12, which is the same the maximum number of speaking characters in the French Period One and is higher than the maximum number of speaking characters in the French Period Two (11). However, in the Russian tentative Period One, 4.77% of the scenes have over 6 speakers, whereas in the French Period One (2.08%) and in the French Period Two (1.29%) have over 6 speakers. In the Russian tentative Period Two, the maximum number of speakers is 13, which is lower than the maximum number of speakers in the French Period Three (16). Yet, the percentage of the scenes with more than 6 speakers in the Russian tentative Period Two is 5.25% and in the French Period Three is 1.71%. In the French comedy of Periods One and Two, there are scenes with no speakers. In the Russian tentative Period Two, there is a comedy with a scene without any speakers."
   ]
  },
  {
   "cell_type": "markdown",
   "metadata": {},
   "source": [
    "### Contrastive Material"
   ]
  },
  {
   "cell_type": "markdown",
   "metadata": {},
   "source": [
    "### William Shakespeare (1582 - 1616)"
   ]
  },
  {
   "cell_type": "code",
   "execution_count": 38,
   "metadata": {},
   "outputs": [],
   "source": [
    "shakespeare_summary = pd.DataFrame(shakespeare_df.describe().loc['mean', features]).round(2)\n",
    "                       #pd.DataFrame(goldoni_df.describe().loc['mean', features]).round(2)], axis=1)\n",
    "shakespeare_summary.columns = ['Shakespeare']"
   ]
  },
  {
   "cell_type": "code",
   "execution_count": 39,
   "metadata": {},
   "outputs": [
    {
     "data": {
      "text/html": [
       "<div>\n",
       "<style scoped>\n",
       "    .dataframe tbody tr th:only-of-type {\n",
       "        vertical-align: middle;\n",
       "    }\n",
       "\n",
       "    .dataframe tbody tr th {\n",
       "        vertical-align: top;\n",
       "    }\n",
       "\n",
       "    .dataframe thead th {\n",
       "        text-align: right;\n",
       "    }\n",
       "</style>\n",
       "<table border=\"1\" class=\"dataframe\">\n",
       "  <thead>\n",
       "    <tr style=\"text-align: right;\">\n",
       "      <th></th>\n",
       "      <th>Shakespeare</th>\n",
       "    </tr>\n",
       "  </thead>\n",
       "  <tbody>\n",
       "    <tr>\n",
       "      <th>num_present_characters</th>\n",
       "      <td>25.83</td>\n",
       "    </tr>\n",
       "    <tr>\n",
       "      <th>mobility_coefficient</th>\n",
       "      <td>78.00</td>\n",
       "    </tr>\n",
       "    <tr>\n",
       "      <th>standard_range</th>\n",
       "      <td>1.33</td>\n",
       "    </tr>\n",
       "    <tr>\n",
       "      <th>percentage_non_dialogues</th>\n",
       "      <td>61.76</td>\n",
       "    </tr>\n",
       "    <tr>\n",
       "      <th>percentage_polylogues</th>\n",
       "      <td>37.85</td>\n",
       "    </tr>\n",
       "    <tr>\n",
       "      <th>percentage_monologues</th>\n",
       "      <td>23.56</td>\n",
       "    </tr>\n",
       "    <tr>\n",
       "      <th>coefficient_unused</th>\n",
       "      <td>40.99</td>\n",
       "    </tr>\n",
       "    <tr>\n",
       "      <th>discontinuous_scenes</th>\n",
       "      <td>19.35</td>\n",
       "    </tr>\n",
       "  </tbody>\n",
       "</table>\n",
       "</div>"
      ],
      "text/plain": [
       "                          Shakespeare\n",
       "num_present_characters          25.83\n",
       "mobility_coefficient            78.00\n",
       "standard_range                   1.33\n",
       "percentage_non_dialogues        61.76\n",
       "percentage_polylogues           37.85\n",
       "percentage_monologues           23.56\n",
       "coefficient_unused              40.99\n",
       "discontinuous_scenes            19.35"
      ]
     },
     "execution_count": 39,
     "metadata": {},
     "output_type": "execute_result"
    }
   ],
   "source": [
    "shakespeare_summary"
   ]
  },
  {
   "cell_type": "code",
   "execution_count": 40,
   "metadata": {},
   "outputs": [
    {
     "data": {
      "image/png": "[encoded data removed]",
      "text/plain": [
       "<Figure size 720x360 with 1 Axes>"
      ]
     },
     "metadata": {
      "needs_background": "light"
     },
     "output_type": "display_data"
    }
   ],
   "source": [
    "plot_speech_distribution(speech_distribution_by_period(shakespeare_df), \n",
    "                         'Speech Distribition in Shakespeare\\'s Five-Act Verse Comedy')"
   ]
  },
  {
   "cell_type": "markdown",
   "metadata": {},
   "source": [
    "### Comparison of Shakespeare's Five-Act Verse Comedies With The Russian, French, and Goldoni's Comedies:\n",
    "1. The mean number of dramatic characters in Shakespeare's five-act verse comedies (25.83) is the highest observed in our material (French, Russian, and Contrastive).\n",
    "2. The mean mobility coefficient in Shakespeare's comedies is the highest in our material (78).\n",
    "3. The mean percentage of non-dialogues in Shakespeare's comedies is the highest observed (61.76%).\n",
    "4. The mean percentage of monologues is also the highest in our material (23.56%).\n",
    "5. The mean coefficient of unused dramatic characters is the highest observed (40.99%). The second highest coefficient of unused dramatic characters (in Goldoni, 17.28 does not come even close to that of Shakespeare). There are many dramatic characters who appear on stage but do not speak.\n",
    "6. The mean percentage of discontinuous scenes in Shakespeare's comedies (19.35%) is the highest in our material.\n",
    "7. The mean percentage of polylogues (37.85%) is slightly higher than that in the French Period Three (37.69) and lower than that in the Russian tentative Periods One (38.11%) and Two (39.68%).\n",
    "8. The standard range of the speaking characters (1.33) is the same as the standard range of the speaking characters in the French Period Three. It is lower than in the Russian tentative Periods One (1.48) and Two (1.54). \n",
    "9. The maximum number of speaking dramatic characters is 11, which is the same as the maximum number of speakers in the French comedy of Period Two. In the French Periods One and Three, the maximum number of speakers is higher (12 and 16 respectively). In the Russian tentative Periods One and Two, the maximum number of speakers is also higher (12 and 13).\n",
    "17. In Shakespeare's comedies, there are scenes with no speakers (cf. in the French comedy of Periods One and Two, there are scenes with no speakers. In the Russian tentative Period Two, there is a comedy with a scene without any speakers)."
   ]
  },
  {
   "cell_type": "markdown",
   "metadata": {},
   "source": [
    "### Carlo Goldoni (1707 - 1793)"
   ]
  },
  {
   "cell_type": "code",
   "execution_count": 41,
   "metadata": {},
   "outputs": [],
   "source": [
    "goldoni_summary = pd.DataFrame(goldoni_df.describe().loc['mean', features]).round(2)\n",
    "goldoni_summary.columns = ['Goldoni']"
   ]
  },
  {
   "cell_type": "code",
   "execution_count": 42,
   "metadata": {},
   "outputs": [
    {
     "data": {
      "text/html": [
       "<div>\n",
       "<style scoped>\n",
       "    .dataframe tbody tr th:only-of-type {\n",
       "        vertical-align: middle;\n",
       "    }\n",
       "\n",
       "    .dataframe tbody tr th {\n",
       "        vertical-align: top;\n",
       "    }\n",
       "\n",
       "    .dataframe thead th {\n",
       "        text-align: right;\n",
       "    }\n",
       "</style>\n",
       "<table border=\"1\" class=\"dataframe\">\n",
       "  <thead>\n",
       "    <tr style=\"text-align: right;\">\n",
       "      <th></th>\n",
       "      <th>Goldoni</th>\n",
       "    </tr>\n",
       "  </thead>\n",
       "  <tbody>\n",
       "    <tr>\n",
       "      <th>num_present_characters</th>\n",
       "      <td>11.88</td>\n",
       "    </tr>\n",
       "    <tr>\n",
       "      <th>mobility_coefficient</th>\n",
       "      <td>62.25</td>\n",
       "    </tr>\n",
       "    <tr>\n",
       "      <th>standard_range</th>\n",
       "      <td>1.21</td>\n",
       "    </tr>\n",
       "    <tr>\n",
       "      <th>percentage_non_dialogues</th>\n",
       "      <td>58.64</td>\n",
       "    </tr>\n",
       "    <tr>\n",
       "      <th>percentage_polylogues</th>\n",
       "      <td>38.74</td>\n",
       "    </tr>\n",
       "    <tr>\n",
       "      <th>percentage_monologues</th>\n",
       "      <td>19.65</td>\n",
       "    </tr>\n",
       "    <tr>\n",
       "      <th>coefficient_unused</th>\n",
       "      <td>17.28</td>\n",
       "    </tr>\n",
       "    <tr>\n",
       "      <th>discontinuous_scenes</th>\n",
       "      <td>9.80</td>\n",
       "    </tr>\n",
       "  </tbody>\n",
       "</table>\n",
       "</div>"
      ],
      "text/plain": [
       "                          Goldoni\n",
       "num_present_characters      11.88\n",
       "mobility_coefficient        62.25\n",
       "standard_range               1.21\n",
       "percentage_non_dialogues    58.64\n",
       "percentage_polylogues       38.74\n",
       "percentage_monologues       19.65\n",
       "coefficient_unused          17.28\n",
       "discontinuous_scenes         9.80"
      ]
     },
     "execution_count": 42,
     "metadata": {},
     "output_type": "execute_result"
    }
   ],
   "source": [
    "goldoni_summary"
   ]
  },
  {
   "cell_type": "markdown",
   "metadata": {},
   "source": [
    "### Speech Distribution in Carlo Goldoni's Five-Act Comedies in Verse"
   ]
  },
  {
   "cell_type": "code",
   "execution_count": 43,
   "metadata": {},
   "outputs": [
    {
     "data": {
      "image/png": "[encoded data removed]",
      "text/plain": [
       "<Figure size 720x360 with 1 Axes>"
      ]
     },
     "metadata": {
      "needs_background": "light"
     },
     "output_type": "display_data"
    }
   ],
   "source": [
    "plot_speech_distribution(speech_distribution_by_period(goldoni_df), \n",
    "                         'Speech Distribition in Carlo Goldoni\\'s Five-Act Verse Comedy')"
   ]
  },
  {
   "cell_type": "code",
   "execution_count": 44,
   "metadata": {},
   "outputs": [
    {
     "data": {
      "text/html": [
       "<div>\n",
       "<style scoped>\n",
       "    .dataframe tbody tr th:only-of-type {\n",
       "        vertical-align: middle;\n",
       "    }\n",
       "\n",
       "    .dataframe tbody tr th {\n",
       "        vertical-align: top;\n",
       "    }\n",
       "\n",
       "    .dataframe thead th {\n",
       "        text-align: right;\n",
       "    }\n",
       "</style>\n",
       "<table border=\"1\" class=\"dataframe\">\n",
       "  <thead>\n",
       "    <tr style=\"text-align: right;\">\n",
       "      <th></th>\n",
       "      <th>0</th>\n",
       "      <th>1</th>\n",
       "      <th>2</th>\n",
       "      <th>3</th>\n",
       "      <th>4</th>\n",
       "      <th>5</th>\n",
       "      <th>6</th>\n",
       "      <th>7</th>\n",
       "      <th>8</th>\n",
       "      <th>9</th>\n",
       "    </tr>\n",
       "    <tr>\n",
       "      <th>number_of_speakers</th>\n",
       "      <th></th>\n",
       "      <th></th>\n",
       "      <th></th>\n",
       "      <th></th>\n",
       "      <th></th>\n",
       "      <th></th>\n",
       "      <th></th>\n",
       "      <th></th>\n",
       "      <th></th>\n",
       "      <th></th>\n",
       "    </tr>\n",
       "  </thead>\n",
       "  <tbody>\n",
       "    <tr>\n",
       "      <th>percentage_of_scenes</th>\n",
       "      <td>0.25</td>\n",
       "      <td>19.65</td>\n",
       "      <td>41.36</td>\n",
       "      <td>19.2</td>\n",
       "      <td>11.6</td>\n",
       "      <td>5.41</td>\n",
       "      <td>1.5</td>\n",
       "      <td>0.53</td>\n",
       "      <td>0.36</td>\n",
       "      <td>0.14</td>\n",
       "    </tr>\n",
       "  </tbody>\n",
       "</table>\n",
       "</div>"
      ],
      "text/plain": [
       "0                        0      1      2     3     4     5    6     7     8  \\\n",
       "number_of_speakers                                                            \n",
       "percentage_of_scenes  0.25  19.65  41.36  19.2  11.6  5.41  1.5  0.53  0.36   \n",
       "\n",
       "0                        9  \n",
       "number_of_speakers          \n",
       "percentage_of_scenes  0.14  "
      ]
     },
     "execution_count": 44,
     "metadata": {},
     "output_type": "execute_result"
    }
   ],
   "source": [
    "speech_distribution_by_period(goldoni_df)"
   ]
  },
  {
   "cell_type": "markdown",
   "metadata": {},
   "source": [
    "In Goldoni's comedy I morbinosi, there is indeed a ball scene where no dramatic characters speak."
   ]
  },
  {
   "cell_type": "markdown",
   "metadata": {},
   "source": [
    "### Comparison of Goldoni's Five-Act Verse Comedies With The Russian and French Comedies:\n",
    "1. The mean number of dramatic characters in Goldoni's five-act verse comedies was 11.88, which is close to the mean number of dramatic characters in the French Period One (11.81), Period Three (11.96), and the Russian tentative Period One (11.50).It is much lower than than in Shakespeare's comedies (25.83).\n",
    "2. The mean mobility coefficient in Goldoni's comedies is 62.25, which is higher than the mean mobility coefficient in all periods of the French and Russian five-act comedy in verse. However, the Russian tentative Period Two comes close with the mean mobility coefficient of 61.60. Shakespeare still has a much higher mean mobility coefficient of 78.\n",
    "3. The standard range of the speaking dramatic characters in Goldoni's comedies (1.21) is low: it is lower than the standard range in all tentative periods of the Russian comedy (1.48 and 1.54), lower than in Shakespeare, and lower than the standard range of the French comedy in Periods One (1.12) and Three (1.33). However, it is higher than the standard range of the French comedy of Period Two (1.12).\n",
    "4. The percentage of non-dialogues (58.64) is lower than that in the Russian comedy of both tentative periods (59.94% and 60.64%). It is also lower than in Shakespeare (61.76%). However, the percentage of non-dialogues in Goldoni's comedies is higher than that in the French comedies of Periods One (56.11%) and Two (53.50%).\n",
    "5. The percentage of polylogues in Goldoni's comedies (38.74%) is close to the percentage of polylogues in the Russian comedies of the tentative Period One (38.11%) and Two (39.68%). It is also higher than in Shakespeare's comedies (37.85%). The percentage of polylogues in Goldoni's comedies is higher than that in the French Period One (37.69%) and Period Two (31.37%). However, it is lower than that of the French Period Three (58.12%).\n",
    "6. The percentage of monologues in Goldoni (19.65%) is lower than the percentage of monologues in the Russian comedies of the two tentative periods (21.84% and 20.65%). It is lower than that in Shakespeare's comedies (23.56%). It is also lower than the percentage of monologues in the French Periods Two (22.08%) and Three (20.35%).  it is higher than the percentage of monologues in the French Period One (13.18). \n",
    "7. The coefficient of unused dramatic characters in Goldoni's comedies (17.28%) is higher than that of the French comedies in all periods (12.17% in Period One, 12.75% in Period Two, and 13.74% in Period Three). It is, however, lower than that of the Russian comedies of all tentative periods (19.05 and 21.40). The coefficient is much lower in Goldoni's comedies than in Shakespeare's comedies (40.99).\n",
    "8. The percentage of discontinuous scenes in Goldoni (9.8) is higher than in both Russian tentative periods (6.05% and 6.55%). It is also higher than that of the French comedies of Periods Two (6.88%) and Three (5.83%). Yet, it is lower than than that in the French Period One (13.37%)."
   ]
  },
  {
   "cell_type": "markdown",
   "metadata": {},
   "source": [
    "## Euclidean Distances Between Russian, French, Shakespeare's, and Goldoni's Five-Act Comedies in Verse"
   ]
  },
  {
   "cell_type": "code",
   "execution_count": 146,
   "metadata": {},
   "outputs": [],
   "source": [
    "normalized_french = normalize(french_summary_comedies.iloc[:-2,:], axis=0)\n",
    "normalized_russian = normalize(russian_summary_comedies.iloc[:-2,:], axis=0)\n",
    "normalized_shakespeare = normalize(shakespeare_summary.iloc[:-2,:], axis=0)\n",
    "normalized_shakespeare = normalize(shakespeare_summary.iloc[:-2,:], axis=0)\n",
    "normalized_goldoni = normalize(goldoni_summary.iloc[:-2,:], axis=0)"
   ]
  },
  {
   "cell_type": "code",
   "execution_count": 152,
   "metadata": {},
   "outputs": [
    {
     "name": "stdout",
     "output_type": "stream",
     "text": [
      "Euclidean distances between the Russian five-act comedies and other groups:\n",
      "\n",
      "\t• the Russian tentative Period One and the French Period One: 0.15\n",
      "\t• the Russian tentative Period One and the French Period Two: 0.051\n",
      "\t• the Russian tentative Period One and the French Period Three: 0.027\n",
      "\n",
      "\t• the Russian tentative Period Two and the French Period One: 0.183\n",
      "\t• the Russian tentative Period Two and the French Period Two: 0.077\n",
      "\t• the Russian tentative Period Two and the French Period Three: 0.045\n",
      "\n",
      "\t• the Russian tentative Period One and Shakespeare: 0.204\n",
      "\t• the Russian tentative Period Two and Shakespeare: 0.141\n",
      "\n",
      "\t• the Russian tentative Period One and Goldoni: 0.088\n",
      "\t• the Russian tentative Period Two and Goldoni: 0.034\n"
     ]
    }
   ],
   "source": [
    "print('Euclidean distances between the Russian five-act comedies and other groups:')\n",
    "print('\\n\\t\\u2022 the Russian tentative Period One and the French Period One:',\n",
    "      round(euclidean_distances(normalized_russian[:, 0].reshape(1, -1),\n",
    "                  normalized_french[:, 0].reshape(1, -1))[0][0], 3))\n",
    "print('\\t\\u2022 the Russian tentative Period One and the French Period Two:',\n",
    "      round(euclidean_distances(normalized_russian[:, 0].reshape(1, -1),\n",
    "                  normalized_french[:, 1].reshape(1, -1))[0][0], 3))\n",
    "print('\\t\\u2022 the Russian tentative Period One and the French Period Three:',\n",
    "      round(euclidean_distances(normalized_russian[:, 0].reshape(1, -1),\n",
    "                  normalized_french[:, 2].reshape(1, -1))[0][0], 3))\n",
    "print('\\n\\t\\u2022 the Russian tentative Period Two and the French Period One:',\n",
    "      round(euclidean_distances(normalized_russian[:, 1].reshape(1, -1),\n",
    "                  normalized_french[:, 0].reshape(1, -1))[0][0], 3))\n",
    "print('\\t\\u2022 the Russian tentative Period Two and the French Period Two:',\n",
    "      round(euclidean_distances(normalized_russian[:, 1].reshape(1, -1),\n",
    "                  normalized_french[:, 1].reshape(1, -1))[0][0], 3))\n",
    "print('\\t\\u2022 the Russian tentative Period Two and the French Period Three:',\n",
    "      round(euclidean_distances(normalized_russian[:, 1].reshape(1, -1),\n",
    "                  normalized_french[:, 2].reshape(1, -1))[0][0], 3))\n",
    "print('\\n\\t\\u2022 the Russian tentative Period One and Shakespeare:',\n",
    "      round(euclidean_distances(normalized_russian[:, 0].reshape(1, -1),\n",
    "                  normalized_shakespeare[:, 0].reshape(1, -1))[0][0], 3))\n",
    "print('\\t\\u2022 the Russian tentative Period Two and Shakespeare:',\n",
    "      round(euclidean_distances(normalized_russian[:, 1].reshape(1, -1),\n",
    "                  normalized_shakespeare[:, 0].reshape(1, -1))[0][0], 3))\n",
    "print('\\n\\t\\u2022 the Russian tentative Period One and Goldoni:',\n",
    "      round(euclidean_distances(normalized_russian[:, 0].reshape(1, -1),\n",
    "                  normalized_goldoni[:, 0].reshape(1, -1))[0][0], 3))\n",
    "print('\\t\\u2022 the Russian tentative Period Two and Goldoni:',\n",
    "      round(euclidean_distances(normalized_russian[:, 1].reshape(1, -1),\n",
    "                  normalized_goldoni[:, 0].reshape(1, -1))[0][0], 3))"
   ]
  },
  {
   "cell_type": "code",
   "execution_count": 154,
   "metadata": {},
   "outputs": [
    {
     "name": "stdout",
     "output_type": "stream",
     "text": [
      "\n",
      "Euclidean distances between the French five-act comedies and other groups:\n",
      "\n",
      "\t• the French Period One and Shakespeare: 0.306\n",
      "\t• the French Period Two and Shakespeare: 0.184\n",
      "\t• the French Period Three and Shakespeare: 0.182\n",
      "\n",
      "\t• the French Period One and Goldoni: 0.199\n",
      "\t• the French Period Two and Goldoni: 0.09\n",
      "\t• the French Period Three and Goldoni: 0.063\n"
     ]
    }
   ],
   "source": [
    "print('\\nEuclidean distances between the French five-act comedies and other groups:')\n",
    "print('\\n\\t\\u2022 the French Period One and Shakespeare:',\n",
    "      round(euclidean_distances(normalized_shakespeare[:, 0].reshape(1, -1),\n",
    "                  normalized_french[:, 0].reshape(1, -1))[0][0], 3))\n",
    "print('\\t\\u2022 the French Period Two and Shakespeare:',\n",
    "      round(euclidean_distances(normalized_shakespeare[:, 0].reshape(1, -1),\n",
    "                  normalized_french[:, 1].reshape(1, -1))[0][0], 3))\n",
    "print('\\t\\u2022 the French Period Three and Shakespeare:',\n",
    "      round(euclidean_distances(normalized_shakespeare[:, 0].reshape(1, -1),\n",
    "                  normalized_french[:, 2].reshape(1, -1))[0][0], 3))\n",
    "print('\\n\\t\\u2022 the French Period One and Goldoni:',\n",
    "      round(euclidean_distances(normalized_goldoni[:, 0].reshape(1, -1),\n",
    "                  normalized_french[:, 0].reshape(1, -1))[0][0], 3))\n",
    "print('\\t\\u2022 the French Period Two and Goldoni:',\n",
    "      round(euclidean_distances(normalized_goldoni[:, 0].reshape(1, -1),\n",
    "                  normalized_french[:, 1].reshape(1, -1))[0][0], 3))\n",
    "print('\\t\\u2022 the French Period Three and Goldoni:',\n",
    "      round(euclidean_distances(normalized_goldoni[:, 0].reshape(1, -1),\n",
    "                  normalized_french[:, 2].reshape(1, -1))[0][0], 3))"
   ]
  },
  {
   "cell_type": "code",
   "execution_count": 155,
   "metadata": {},
   "outputs": [
    {
     "name": "stdout",
     "output_type": "stream",
     "text": [
      "\n",
      "Euclidean distance between Shakespeare and Goldoni: 0.146\n"
     ]
    }
   ],
   "source": [
    "print('\\nEuclidean distance between Shakespeare and Goldoni:',\n",
    "     round(euclidean_distances(normalized_shakespeare[:, 0].reshape(1, -1),\n",
    "                  normalized_goldoni[:, 0].reshape(1, -1))[0][0], 3))"
   ]
  },
  {
   "cell_type": "code",
   "execution_count": null,
   "metadata": {},
   "outputs": [],
   "source": []
  }
 ],
 "metadata": {
  "kernelspec": {
   "display_name": "Python 3",
   "language": "python",
   "name": "python3"
  },
  "language_info": {
   "codemirror_mode": {
    "name": "ipython",
    "version": 3
   },
   "file_extension": ".py",
   "mimetype": "text/x-python",
   "name": "python",
   "nbconvert_exporter": "python",
   "pygments_lexer": "ipython3",
   "version": "3.7.6"
  }
 },
 "nbformat": 4,
 "nbformat_minor": 4
}
