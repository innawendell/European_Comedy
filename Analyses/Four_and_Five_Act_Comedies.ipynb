{
 "cells": [
  {
   "cell_type": "markdown",
   "metadata": {},
   "source": [
    "## The Comparison of The Four and Five-Act Comedies in Verse"
   ]
  },
  {
   "cell_type": "markdown",
   "metadata": {},
   "source": [
    "In this analysis, we will compare the Russian and French four-act verse comedies with the five-act verse comedies based on such features as:\n",
    "\n",
    "- The number of dramatic characters;\n",
    "- The mobility coefficient;\n",
    "- The standard range of the speaking characters (sigma);\n",
    "- The percentage of non-dialogues;\n",
    "- The percentage of polylogues;\n",
    "- The percentage of monologues;\n",
    "- The coefficient of unused dramatic characters;\n",
    "- The percentage of discontinuous scenes.\n",
    "\n",
    "To account for different number of acts (4 vs. 5), we will multiply such features as the number of dramatic characters and the mobility coefficient by 5/4 and rounded to the nearest integer.\n",
    "\n",
    "Since the 4-act verse comedies were only written in the tentative Period Two in Russian and in Period Three in France, we will use only these periods for comparison.\n",
    "\n",
    "Additionally, we will compare the values with Kotzebue's only 4-act verse comedy *Der Russe in Deutschland* (1806), Shakespeare, and Goldoni."
   ]
  },
  {
   "cell_type": "code",
   "execution_count": 1,
   "metadata": {},
   "outputs": [],
   "source": [
    "import pandas as pd\n",
    "import numpy as np\n",
    "import json\n",
    "from os import listdir\n",
    "import matplotlib.pyplot as plt\n",
    "%matplotlib inline \n",
    "import seaborn as sns"
   ]
  },
  {
   "cell_type": "code",
   "execution_count": 2,
   "metadata": {},
   "outputs": [],
   "source": [
    "def get_data(input_directory):\n",
    "    all_files = [f for f in listdir(input_directory) if f.count('.json') > 0]\n",
    "    dfs = []\n",
    "    for file in all_files:\n",
    "        with open(input_directory + '/' + file) as json_file:\n",
    "            data = json.load(json_file)\n",
    "            not_used = coefficient_unused_dramatic_characters(data)\n",
    "            df = pd.DataFrame([not_used], columns=['coefficient_unused'], index=[file.replace('.json','')])\n",
    "            dfs.append(df)\n",
    "            \n",
    "    features_df = pd.concat(dfs, axis=0, sort=False).round(2)\n",
    "    \n",
    "    return features_df"
   ]
  },
  {
   "cell_type": "code",
   "execution_count": 3,
   "metadata": {},
   "outputs": [],
   "source": [
    "def coefficient_unused_dramatic_characters(data):\n",
    "    total_present = 0\n",
    "    total_non_speakers = 0\n",
    "    for act in data['play_summary'].keys():\n",
    "        for scene in data['play_summary'][act].keys():\n",
    "            # identify the raw number of non-speaking dramatic characters\n",
    "            num_non_speakers = len([item for item in data['play_summary'][act][scene].items() \n",
    "                                if (item[1] == 0  or item[1] == 'non_speaking') and item[0] not in ['num_utterances',\n",
    "                                                                   'num_speakers',\n",
    "                                                                   'perc_non_speakers']])\n",
    "            total_non_speakers += num_non_speakers\n",
    "            # calculate the total number of dramatic characters\n",
    "            total_present += (data['play_summary'][act][scene]['num_speakers'] + num_non_speakers)\n",
    "    coefficient_unused = (total_non_speakers / total_present ) * 100        \n",
    "    \n",
    "    return coefficient_unused"
   ]
  },
  {
   "cell_type": "code",
   "execution_count": 4,
   "metadata": {},
   "outputs": [],
   "source": [
    "comedies = pd.read_csv('../Russian_Comedies/Data/Comedies_Raw_Data.csv')\n",
    "# sort by creation date\n",
    "comedies_sorted = comedies.sort_values(by='creation_date').copy()"
   ]
  },
  {
   "cell_type": "code",
   "execution_count": 5,
   "metadata": {},
   "outputs": [],
   "source": [
    "# rename column names for clarity\n",
    "comedies_sorted = comedies_sorted.rename(columns={'num_scenes_iarkho': 'mobility_coefficient', \n",
    "                                                  'percentage_non_duologues': 'percentage_non_dialogues',\n",
    "                                                  'percentage_above_two_speakers': 'percentage_polylogues',\n",
    "                                                  'percentage_scenes_with_discontinuous_change_characters': \n",
    "                                                  'discontinuous_scenes'})"
   ]
  },
  {
   "cell_type": "code",
   "execution_count": 6,
   "metadata": {},
   "outputs": [],
   "source": [
    "# calculate the coefficient of non-used dramatic characters\n",
    "unused_coefficient = get_data('../Russian_Comedies/Play_Jsons/')\n",
    "unused_coefficient['index'] = unused_coefficient.index.tolist()\n",
    "comedies_sorted = comedies_sorted.merge(unused_coefficient, on='index')"
   ]
  },
  {
   "cell_type": "markdown",
   "metadata": {},
   "source": [
    "### Find Out When The Four-Act Comedies Were Written"
   ]
  },
  {
   "cell_type": "code",
   "execution_count": 7,
   "metadata": {},
   "outputs": [
    {
     "data": {
      "text/html": [
       "<div>\n",
       "<style scoped>\n",
       "    .dataframe tbody tr th:only-of-type {\n",
       "        vertical-align: middle;\n",
       "    }\n",
       "\n",
       "    .dataframe tbody tr th {\n",
       "        vertical-align: top;\n",
       "    }\n",
       "\n",
       "    .dataframe thead th {\n",
       "        text-align: right;\n",
       "    }\n",
       "</style>\n",
       "<table border=\"1\" class=\"dataframe\">\n",
       "  <thead>\n",
       "    <tr style=\"text-align: right;\">\n",
       "      <th></th>\n",
       "      <th>index</th>\n",
       "      <th>title</th>\n",
       "      <th>first_name</th>\n",
       "      <th>last_name</th>\n",
       "      <th>creation_date</th>\n",
       "      <th>translation/adaptation</th>\n",
       "      <th>num_acts</th>\n",
       "      <th>free_iambs</th>\n",
       "      <th>num_present_characters</th>\n",
       "      <th>num_scenes_text</th>\n",
       "      <th>...</th>\n",
       "      <th>percentage_scenes_rhymes_split_verse</th>\n",
       "      <th>num_stage_directions</th>\n",
       "      <th>stage_directions_frequency</th>\n",
       "      <th>num_word_tokens_in_stage_directions</th>\n",
       "      <th>average_length_of_stage_direction</th>\n",
       "      <th>num_verse_splitting_stage_directions</th>\n",
       "      <th>degree_of_verse_prose_interaction</th>\n",
       "      <th>number_scenes_with_discontinuous_change_characters</th>\n",
       "      <th>discontinuous_scenes</th>\n",
       "      <th>coefficient_unused</th>\n",
       "    </tr>\n",
       "  </thead>\n",
       "  <tbody>\n",
       "    <tr>\n",
       "      <th>16</th>\n",
       "      <td>R_16</td>\n",
       "      <td>Vospitalie, ili vot pridanoe</td>\n",
       "      <td>Fiodor</td>\n",
       "      <td>Kokoshkin</td>\n",
       "      <td>1824</td>\n",
       "      <td>0</td>\n",
       "      <td>4</td>\n",
       "      <td>0</td>\n",
       "      <td>11</td>\n",
       "      <td>33</td>\n",
       "      <td>...</td>\n",
       "      <td>10.811</td>\n",
       "      <td>407</td>\n",
       "      <td>23.567</td>\n",
       "      <td>1228</td>\n",
       "      <td>3.017</td>\n",
       "      <td>163</td>\n",
       "      <td>9.438</td>\n",
       "      <td>1</td>\n",
       "      <td>3.030</td>\n",
       "      <td>14.05</td>\n",
       "    </tr>\n",
       "    <tr>\n",
       "      <th>17</th>\n",
       "      <td>R_18</td>\n",
       "      <td>Gore ot uma</td>\n",
       "      <td>Aleksandr</td>\n",
       "      <td>Griboedov</td>\n",
       "      <td>1824</td>\n",
       "      <td>0</td>\n",
       "      <td>4</td>\n",
       "      <td>1</td>\n",
       "      <td>34</td>\n",
       "      <td>60</td>\n",
       "      <td>...</td>\n",
       "      <td>9.333</td>\n",
       "      <td>251</td>\n",
       "      <td>14.204</td>\n",
       "      <td>990</td>\n",
       "      <td>3.944</td>\n",
       "      <td>78</td>\n",
       "      <td>4.414</td>\n",
       "      <td>4</td>\n",
       "      <td>5.333</td>\n",
       "      <td>36.77</td>\n",
       "    </tr>\n",
       "    <tr>\n",
       "      <th>21</th>\n",
       "      <td>R_22</td>\n",
       "      <td>Blagorodnyi teatr</td>\n",
       "      <td>Mikhail</td>\n",
       "      <td>Zagoskin</td>\n",
       "      <td>1828</td>\n",
       "      <td>0</td>\n",
       "      <td>4</td>\n",
       "      <td>0</td>\n",
       "      <td>24</td>\n",
       "      <td>47</td>\n",
       "      <td>...</td>\n",
       "      <td>24.242</td>\n",
       "      <td>360</td>\n",
       "      <td>18.557</td>\n",
       "      <td>993</td>\n",
       "      <td>2.758</td>\n",
       "      <td>198</td>\n",
       "      <td>10.206</td>\n",
       "      <td>1</td>\n",
       "      <td>1.515</td>\n",
       "      <td>45.48</td>\n",
       "    </tr>\n",
       "    <tr>\n",
       "      <th>22</th>\n",
       "      <td>R_23</td>\n",
       "      <td>Nedovol’nye</td>\n",
       "      <td>Mikhail</td>\n",
       "      <td>Zagoskin</td>\n",
       "      <td>1835</td>\n",
       "      <td>0</td>\n",
       "      <td>4</td>\n",
       "      <td>1</td>\n",
       "      <td>23</td>\n",
       "      <td>33</td>\n",
       "      <td>...</td>\n",
       "      <td>17.241</td>\n",
       "      <td>272</td>\n",
       "      <td>15.888</td>\n",
       "      <td>976</td>\n",
       "      <td>3.588</td>\n",
       "      <td>151</td>\n",
       "      <td>8.820</td>\n",
       "      <td>3</td>\n",
       "      <td>5.172</td>\n",
       "      <td>41.73</td>\n",
       "    </tr>\n",
       "    <tr>\n",
       "      <th>24</th>\n",
       "      <td>R_25</td>\n",
       "      <td>Komediia iz sovremennoi zhizni</td>\n",
       "      <td>Nikolai</td>\n",
       "      <td>Krol’</td>\n",
       "      <td>1849</td>\n",
       "      <td>0</td>\n",
       "      <td>4</td>\n",
       "      <td>1</td>\n",
       "      <td>21</td>\n",
       "      <td>33</td>\n",
       "      <td>...</td>\n",
       "      <td>11.321</td>\n",
       "      <td>219</td>\n",
       "      <td>15.466</td>\n",
       "      <td>364</td>\n",
       "      <td>1.662</td>\n",
       "      <td>101</td>\n",
       "      <td>7.133</td>\n",
       "      <td>9</td>\n",
       "      <td>16.981</td>\n",
       "      <td>24.62</td>\n",
       "    </tr>\n",
       "  </tbody>\n",
       "</table>\n",
       "<p>5 rows × 39 columns</p>\n",
       "</div>"
      ],
      "text/plain": [
       "   index                           title first_name  last_name  creation_date  \\\n",
       "16  R_16    Vospitalie, ili vot pridanoe     Fiodor  Kokoshkin           1824   \n",
       "17  R_18                     Gore ot uma  Aleksandr  Griboedov           1824   \n",
       "21  R_22               Blagorodnyi teatr    Mikhail   Zagoskin           1828   \n",
       "22  R_23                     Nedovol’nye    Mikhail   Zagoskin           1835   \n",
       "24  R_25  Komediia iz sovremennoi zhizni    Nikolai      Krol’           1849   \n",
       "\n",
       "    translation/adaptation  num_acts  free_iambs  num_present_characters  \\\n",
       "16                       0         4           0                      11   \n",
       "17                       0         4           1                      34   \n",
       "21                       0         4           0                      24   \n",
       "22                       0         4           1                      23   \n",
       "24                       0         4           1                      21   \n",
       "\n",
       "    num_scenes_text  ...  percentage_scenes_rhymes_split_verse  \\\n",
       "16               33  ...                                10.811   \n",
       "17               60  ...                                 9.333   \n",
       "21               47  ...                                24.242   \n",
       "22               33  ...                                17.241   \n",
       "24               33  ...                                11.321   \n",
       "\n",
       "   num_stage_directions  stage_directions_frequency  \\\n",
       "16                  407                      23.567   \n",
       "17                  251                      14.204   \n",
       "21                  360                      18.557   \n",
       "22                  272                      15.888   \n",
       "24                  219                      15.466   \n",
       "\n",
       "    num_word_tokens_in_stage_directions  average_length_of_stage_direction  \\\n",
       "16                                 1228                              3.017   \n",
       "17                                  990                              3.944   \n",
       "21                                  993                              2.758   \n",
       "22                                  976                              3.588   \n",
       "24                                  364                              1.662   \n",
       "\n",
       "    num_verse_splitting_stage_directions  degree_of_verse_prose_interaction  \\\n",
       "16                                   163                              9.438   \n",
       "17                                    78                              4.414   \n",
       "21                                   198                             10.206   \n",
       "22                                   151                              8.820   \n",
       "24                                   101                              7.133   \n",
       "\n",
       "    number_scenes_with_discontinuous_change_characters  discontinuous_scenes  \\\n",
       "16                                                  1                  3.030   \n",
       "17                                                  4                  5.333   \n",
       "21                                                  1                  1.515   \n",
       "22                                                  3                  5.172   \n",
       "24                                                  9                 16.981   \n",
       "\n",
       "    coefficient_unused  \n",
       "16               14.05  \n",
       "17               36.77  \n",
       "21               45.48  \n",
       "22               41.73  \n",
       "24               24.62  \n",
       "\n",
       "[5 rows x 39 columns]"
      ]
     },
     "execution_count": 7,
     "metadata": {},
     "output_type": "execute_result"
    }
   ],
   "source": [
    "comedies_sorted[(comedies_sorted['translation/adaptation'] == 0) & \n",
    "                                   (comedies_sorted['num_acts'] == 4)].copy()"
   ]
  },
  {
   "cell_type": "code",
   "execution_count": 8,
   "metadata": {},
   "outputs": [],
   "source": [
    "five_act = comedies_sorted[(comedies_sorted['translation/adaptation'] == 0) & (comedies_sorted['num_acts'] == 5) &\n",
    "                                   (comedies_sorted['creation_date'].between(1796, 1849))].copy()"
   ]
  },
  {
   "cell_type": "code",
   "execution_count": 9,
   "metadata": {},
   "outputs": [],
   "source": [
    "four_act = comedies_sorted[(comedies_sorted['translation/adaptation'] == 0) & (comedies_sorted['num_acts'] == 4) &\n",
    "                                   (comedies_sorted['creation_date'].between(1796, 1849))].copy()"
   ]
  },
  {
   "cell_type": "code",
   "execution_count": 10,
   "metadata": {},
   "outputs": [
    {
     "data": {
      "text/plain": [
       "(5, 39)"
      ]
     },
     "execution_count": 10,
     "metadata": {},
     "output_type": "execute_result"
    }
   ],
   "source": [
    "four_act.shape"
   ]
  },
  {
   "cell_type": "code",
   "execution_count": 11,
   "metadata": {},
   "outputs": [
    {
     "data": {
      "text/plain": [
       "(10, 39)"
      ]
     },
     "execution_count": 11,
     "metadata": {},
     "output_type": "execute_result"
    }
   ],
   "source": [
    "five_act.shape"
   ]
  },
  {
   "cell_type": "markdown",
   "metadata": {},
   "source": [
    "### Rescale Non-Absolute Features"
   ]
  },
  {
   "cell_type": "code",
   "execution_count": 12,
   "metadata": {},
   "outputs": [],
   "source": [
    "four_act['num_present_characters'] = round(four_act['num_present_characters'] * 5/4, 0)\n",
    "four_act['mobility_coefficient'] = round(four_act['mobility_coefficient'] * 5/4, 0)"
   ]
  },
  {
   "cell_type": "markdown",
   "metadata": {},
   "source": [
    "### Load French Data"
   ]
  },
  {
   "cell_type": "code",
   "execution_count": 13,
   "metadata": {},
   "outputs": [],
   "source": [
    "french_data = pd.read_csv('../French_Comedies/Data/French_Comedies_Data.csv')\n",
    "\n",
    "# include only five act comedies and only the comedies that are not translations/adaptations \n",
    "french_original_comedies = french_data[\n",
    "                               (french_data['translation/adaptation/contrastive'] == 0)].copy()\n",
    "\n",
    "\n",
    "# read the sample data\n",
    "french_sample_df = pd.read_csv('../French_Comedies/Data/French_Comedies_Data_Sample.csv')\n",
    "\n",
    "# exclude the comedies used for the sample analysis\n",
    "not_sample = french_original_comedies[~french_original_comedies['index'].isin(french_sample_df['index'])].copy()\n",
    "# rename column names for clarity\n",
    "not_sample = not_sample.rename(columns={'num_scenes_iarkho': 'mobility_coefficient', \n",
    "                                                 'percentage_non_duologues': 'percentage_non_dialogues',\n",
    "                                                  'percentage_above_two_speakers': 'percentage_polylogues',\n",
    "                                                 'percentage_scenes_with_discontinuous_change_characters': 'discontinuous_scenes'})\n",
    "# sort by date\n",
    "french_sorted_comedies = not_sample.sort_values(by='date')\n",
    "# calculate the coefficient of non-used dramatic characters\n",
    "unused_coefficient = get_data('../French_Comedies/Play_Jsons/')\n",
    "unused_coefficient['index'] = unused_coefficient.index.tolist()\n",
    "french_sorted_comedies = french_sorted_comedies.merge(unused_coefficient, on='index')"
   ]
  },
  {
   "cell_type": "code",
   "execution_count": 14,
   "metadata": {},
   "outputs": [],
   "source": [
    "french_five_act = french_sorted_comedies[(french_sorted_comedies.num_acts == 5)&\n",
    "                                       (french_sorted_comedies['date'].between(1796, 1849))].copy()"
   ]
  },
  {
   "cell_type": "code",
   "execution_count": 15,
   "metadata": {},
   "outputs": [],
   "source": [
    "french_four_act = french_sorted_comedies[(french_sorted_comedies.num_acts == 4)&(\n",
    "                  french_sorted_comedies['date'].between(1796, 1849))].copy()"
   ]
  },
  {
   "cell_type": "code",
   "execution_count": 16,
   "metadata": {},
   "outputs": [
    {
     "data": {
      "text/plain": [
       "(54, 26)"
      ]
     },
     "execution_count": 16,
     "metadata": {},
     "output_type": "execute_result"
    }
   ],
   "source": [
    "french_five_act.shape"
   ]
  },
  {
   "cell_type": "code",
   "execution_count": 17,
   "metadata": {},
   "outputs": [],
   "source": [
    "french_four_act['num_present_characters'] = round(french_four_act['num_present_characters'] * 5/4, 0)\n",
    "french_four_act['mobility_coefficient'] = round(french_four_act['mobility_coefficient'] * 5/4, 0)"
   ]
  },
  {
   "cell_type": "code",
   "execution_count": 18,
   "metadata": {},
   "outputs": [
    {
     "data": {
      "text/plain": [
       "(3, 26)"
      ]
     },
     "execution_count": 18,
     "metadata": {},
     "output_type": "execute_result"
    }
   ],
   "source": [
    "french_four_act.shape"
   ]
  },
  {
   "cell_type": "code",
   "execution_count": 19,
   "metadata": {},
   "outputs": [
    {
     "data": {
      "text/plain": [
       "184    1807\n",
       "224    1843\n",
       "226    1846\n",
       "Name: date, dtype: int64"
      ]
     },
     "execution_count": 19,
     "metadata": {},
     "output_type": "execute_result"
    }
   ],
   "source": [
    "french_four_act['date']"
   ]
  },
  {
   "cell_type": "markdown",
   "metadata": {},
   "source": [
    "### Load Contrastive"
   ]
  },
  {
   "cell_type": "code",
   "execution_count": 20,
   "metadata": {},
   "outputs": [],
   "source": [
    "contr_data_df = pd.read_csv('../Contrastive_Material/Contrastive_Material_Data.csv')\n",
    "# sort by date\n",
    "sorted_contr_data_df = contr_data_df.sort_values(by='date')\n",
    "\n",
    "sorted_contr_data_df  = sorted_contr_data_df.rename(columns={'num_scenes_iarkho': 'mobility_coefficient', \n",
    "                                                           'percentage_non_duologues': 'percentage_non_dialogues',\n",
    "                                                           'percentage_above_two_speakers': 'percentage_polylogues',\n",
    "                                                            'percentage_scenes_with_discontinuous_change_characters': \n",
    "                                                            'discontinuous_scenes'})\n",
    "sorted_contr_data_df['date'] = sorted_contr_data_df['date'].astype('int')\n",
    "sorted_contr_data_df['last_name'] = sorted_contr_data_df['last_name'].str.strip()\n",
    "\n",
    "shakespeare_df = sorted_contr_data_df[sorted_contr_data_df.last_name == 'Shakespeare'].copy()\n",
    "goldoni_df = sorted_contr_data_df[sorted_contr_data_df.last_name == 'Goldoni'].copy()\n",
    "kotzebue = sorted_contr_data_df[sorted_contr_data_df.last_name == 'Kotzebue'].copy()\n",
    "#rescale\n",
    "kotzebue['num_present_characters'] = round(kotzebue['num_present_characters'] * 5/4, 0)\n",
    "kotzebue['mobility_coefficient'] = round(kotzebue['mobility_coefficient'] * 5/4, 0)\n"
   ]
  },
  {
   "cell_type": "code",
   "execution_count": 21,
   "metadata": {},
   "outputs": [],
   "source": [
    "def scatter(feature, title):\n",
    "    plt.figure(figsize=(10, 7))\n",
    "    plt.title(title, fontsize=15)\n",
    "    sns.scatterplot(x='creation_date', \n",
    "                   y=feature,\n",
    "                   data=four_act, \n",
    "                   color='blue', \n",
    "                   palette='deep', \n",
    "                   marker='s', \n",
    "                   label='Russian 4-act comedies')\n",
    "\n",
    "    sns.scatterplot(x='creation_date', \n",
    "                   y=feature,\n",
    "                   data=five_act, \n",
    "                   color='#FF3355', \n",
    "                   palette='deep', \n",
    "                   marker='s', \n",
    "                   label='Russian 5-act comedies')\n",
    "    sns.scatterplot(x='date', \n",
    "                   y=feature,\n",
    "                   data=french_five_act, \n",
    "                   color='#3D691B', \n",
    "                   palette='deep', \n",
    "                   marker='o', \n",
    "                   label='French 5-act comedies')\n",
    "    sns.scatterplot(x='date', \n",
    "                   y=feature,\n",
    "                   data=french_four_act, \n",
    "                   color='#0CF93E', \n",
    "                   palette='deep', \n",
    "                   marker='o', \n",
    "                   label='French 4-act comedies')\n",
    "    \n",
    "    sns.scatterplot(x='date', \n",
    "                   y=feature,\n",
    "                   data=kotzebue, \n",
    "                   color='#BD4EF4', \n",
    "                   palette='deep', \n",
    "                   marker='D', \n",
    "                   label='Kotzebue')\n",
    "    plt.xlabel('Creation Year')\n",
    "    plt.ylabel(title)\n",
    "    plt.legend(loc='best')\n",
    "    plt.show()"
   ]
  },
  {
   "cell_type": "markdown",
   "metadata": {},
   "source": [
    "### Prepare the Data For Reporting"
   ]
  },
  {
   "cell_type": "code",
   "execution_count": 22,
   "metadata": {},
   "outputs": [],
   "source": [
    "russian_orig = pd.concat([five_act, four_act])\n",
    "russian_orig['source'] = 'russian'\n",
    "french_orig = pd.concat([french_four_act, french_five_act])\n",
    "french_orig['source'] = 'french'\n",
    "shakespeare_df['source'] = 'shakespeare'\n",
    "goldoni_df['source'] = 'goldoni'"
   ]
  },
  {
   "cell_type": "code",
   "execution_count": 23,
   "metadata": {},
   "outputs": [],
   "source": [
    "combined_df = pd.concat([russian_orig, french_orig, shakespeare_df, goldoni_df])"
   ]
  },
  {
   "cell_type": "code",
   "execution_count": 24,
   "metadata": {},
   "outputs": [],
   "source": [
    "def summary(feature):\n",
    "    summary_df = combined_df.groupby(['source', 'num_acts']).describe().loc[:,\n",
    "                                                           [(feature, 'mean'), \n",
    "                                                            (feature, '50%'),\n",
    "                                                            (feature, 'std')]].round(2)\n",
    "\n",
    "    display(summary_df.iloc[[3, 4, 0, 1, 2, 5], :].round(2))\n",
    "    \n",
    "    display(pd.DataFrame({feature: \n",
    "                  [four_act[four_act.title == 'Gore ot uma'][feature].values[0]]}, index=['Gore ot uma']).round(2))\n",
    "    \n",
    "    display(pd.DataFrame({feature: \n",
    "                  [kotzebue[feature].values[0]]}, index=['Kotzebue']).round(2))\n",
    "    "
   ]
  },
  {
   "cell_type": "markdown",
   "metadata": {},
   "source": [
    "### The Number of Dramtic Characters"
   ]
  },
  {
   "cell_type": "code",
   "execution_count": 25,
   "metadata": {},
   "outputs": [
    {
     "data": {
      "image/png": "[encoded data removed]",
      "text/plain": [
       "<Figure size 720x504 with 1 Axes>"
      ]
     },
     "metadata": {
      "needs_background": "light"
     },
     "output_type": "display_data"
    }
   ],
   "source": [
    "scatter('num_present_characters', 'The Number of Dramtic Characters')"
   ]
  },
  {
   "cell_type": "code",
   "execution_count": 26,
   "metadata": {},
   "outputs": [
    {
     "data": {
      "text/html": [
       "<div>\n",
       "<style scoped>\n",
       "    .dataframe tbody tr th:only-of-type {\n",
       "        vertical-align: middle;\n",
       "    }\n",
       "\n",
       "    .dataframe tbody tr th {\n",
       "        vertical-align: top;\n",
       "    }\n",
       "\n",
       "    .dataframe thead tr th {\n",
       "        text-align: left;\n",
       "    }\n",
       "\n",
       "    .dataframe thead tr:last-of-type th {\n",
       "        text-align: right;\n",
       "    }\n",
       "</style>\n",
       "<table border=\"1\" class=\"dataframe\">\n",
       "  <thead>\n",
       "    <tr>\n",
       "      <th></th>\n",
       "      <th></th>\n",
       "      <th colspan=\"3\" halign=\"left\">num_present_characters</th>\n",
       "    </tr>\n",
       "    <tr>\n",
       "      <th></th>\n",
       "      <th></th>\n",
       "      <th>mean</th>\n",
       "      <th>50%</th>\n",
       "      <th>std</th>\n",
       "    </tr>\n",
       "    <tr>\n",
       "      <th>source</th>\n",
       "      <th>num_acts</th>\n",
       "      <th></th>\n",
       "      <th></th>\n",
       "      <th></th>\n",
       "    </tr>\n",
       "  </thead>\n",
       "  <tbody>\n",
       "    <tr>\n",
       "      <th rowspan=\"2\" valign=\"top\">russian</th>\n",
       "      <th>4.0</th>\n",
       "      <td>28.20</td>\n",
       "      <td>29.0</td>\n",
       "      <td>10.01</td>\n",
       "    </tr>\n",
       "    <tr>\n",
       "      <th>5.0</th>\n",
       "      <td>14.70</td>\n",
       "      <td>13.0</td>\n",
       "      <td>5.33</td>\n",
       "    </tr>\n",
       "    <tr>\n",
       "      <th rowspan=\"2\" valign=\"top\">french</th>\n",
       "      <th>4.0</th>\n",
       "      <td>19.67</td>\n",
       "      <td>20.0</td>\n",
       "      <td>8.50</td>\n",
       "    </tr>\n",
       "    <tr>\n",
       "      <th>5.0</th>\n",
       "      <td>11.96</td>\n",
       "      <td>11.0</td>\n",
       "      <td>4.26</td>\n",
       "    </tr>\n",
       "    <tr>\n",
       "      <th>goldoni</th>\n",
       "      <th>5.0</th>\n",
       "      <td>11.88</td>\n",
       "      <td>12.5</td>\n",
       "      <td>3.04</td>\n",
       "    </tr>\n",
       "    <tr>\n",
       "      <th>shakespeare</th>\n",
       "      <th>5.0</th>\n",
       "      <td>25.83</td>\n",
       "      <td>24.0</td>\n",
       "      <td>7.15</td>\n",
       "    </tr>\n",
       "  </tbody>\n",
       "</table>\n",
       "</div>"
      ],
      "text/plain": [
       "                     num_present_characters             \n",
       "                                       mean   50%    std\n",
       "source      num_acts                                    \n",
       "russian     4.0                       28.20  29.0  10.01\n",
       "            5.0                       14.70  13.0   5.33\n",
       "french      4.0                       19.67  20.0   8.50\n",
       "            5.0                       11.96  11.0   4.26\n",
       "goldoni     5.0                       11.88  12.5   3.04\n",
       "shakespeare 5.0                       25.83  24.0   7.15"
      ]
     },
     "metadata": {},
     "output_type": "display_data"
    },
    {
     "data": {
      "text/html": [
       "<div>\n",
       "<style scoped>\n",
       "    .dataframe tbody tr th:only-of-type {\n",
       "        vertical-align: middle;\n",
       "    }\n",
       "\n",
       "    .dataframe tbody tr th {\n",
       "        vertical-align: top;\n",
       "    }\n",
       "\n",
       "    .dataframe thead th {\n",
       "        text-align: right;\n",
       "    }\n",
       "</style>\n",
       "<table border=\"1\" class=\"dataframe\">\n",
       "  <thead>\n",
       "    <tr style=\"text-align: right;\">\n",
       "      <th></th>\n",
       "      <th>num_present_characters</th>\n",
       "    </tr>\n",
       "  </thead>\n",
       "  <tbody>\n",
       "    <tr>\n",
       "      <th>Gore ot uma</th>\n",
       "      <td>42.0</td>\n",
       "    </tr>\n",
       "  </tbody>\n",
       "</table>\n",
       "</div>"
      ],
      "text/plain": [
       "             num_present_characters\n",
       "Gore ot uma                    42.0"
      ]
     },
     "metadata": {},
     "output_type": "display_data"
    },
    {
     "data": {
      "text/html": [
       "<div>\n",
       "<style scoped>\n",
       "    .dataframe tbody tr th:only-of-type {\n",
       "        vertical-align: middle;\n",
       "    }\n",
       "\n",
       "    .dataframe tbody tr th {\n",
       "        vertical-align: top;\n",
       "    }\n",
       "\n",
       "    .dataframe thead th {\n",
       "        text-align: right;\n",
       "    }\n",
       "</style>\n",
       "<table border=\"1\" class=\"dataframe\">\n",
       "  <thead>\n",
       "    <tr style=\"text-align: right;\">\n",
       "      <th></th>\n",
       "      <th>num_present_characters</th>\n",
       "    </tr>\n",
       "  </thead>\n",
       "  <tbody>\n",
       "    <tr>\n",
       "      <th>Kotzebue</th>\n",
       "      <td>9.0</td>\n",
       "    </tr>\n",
       "  </tbody>\n",
       "</table>\n",
       "</div>"
      ],
      "text/plain": [
       "          num_present_characters\n",
       "Kotzebue                     9.0"
      ]
     },
     "metadata": {},
     "output_type": "display_data"
    }
   ],
   "source": [
    "summary('num_present_characters')"
   ]
  },
  {
   "cell_type": "markdown",
   "metadata": {},
   "source": [
    "### Summary\n",
    "- The mean number of dramatic characters and the standard deviation tended to be higher in the Russian four-act comedies (28.20, std of 10.01) than in the Russian five-act comedies (14.70, std of 5.33). \n",
    "- The same was true of the French four-act comedies: they tended to have a higher mean and standard deviation (19.67 with the standard deviation of 8.50) than the five-act comedies (11.96 with the standard deviation of 4.26). \n",
    "- The Russian four-act comedies had a higher mean number of dramatic characters (28.20) than the French four-act comedies (19.67)\n",
    "- The Russian four-act comedies even had a higher mean number of dramatic characters than Shakespeare (25.83), which could have a few possible explanations: they could have been influenced by Shakespeare's later comedies (after 1600, with the mean number of dramatic characters of 30.20, they could have been influenced by Shakspeare's tragedies (with the mean number of dramatic characters of 38.67 before 1600 and 44.71 after 1600). They also could have experienced the influence of another Romantic tradition. \n",
    "- Aleksandr Griboedov's *Gore ot uma* had the highest number of dramatic characters (42). Out of the examined material, only Shakespeare had tragedies and one comedy that would have over 40 dramatic characters. \n",
    "- The number of dramatic characters in Kotzebue's comedy (9) was at the lower spectrum of the contemporaneous French comedies. It doesn't appear to be similar to Griboedov's comedy.\n",
    "- It appears that the Russian five-act comedies of the 1810s and 1840s had two divergent trends: some tended to have a higher number of dramatic characters while others were similar to the contemporaneous French comedies. Neoclassical and Romantic tendencies co-existed."
   ]
  },
  {
   "cell_type": "markdown",
   "metadata": {},
   "source": [
    "### The Mobility Coefficient"
   ]
  },
  {
   "cell_type": "code",
   "execution_count": 27,
   "metadata": {},
   "outputs": [
    {
     "data": {
      "image/png": "[encoded data removed]",
      "text/plain": [
       "<Figure size 720x504 with 1 Axes>"
      ]
     },
     "metadata": {
      "needs_background": "light"
     },
     "output_type": "display_data"
    }
   ],
   "source": [
    "scatter('mobility_coefficient', 'The Mobility Coefficient')"
   ]
  },
  {
   "cell_type": "code",
   "execution_count": 28,
   "metadata": {},
   "outputs": [
    {
     "data": {
      "text/html": [
       "<div>\n",
       "<style scoped>\n",
       "    .dataframe tbody tr th:only-of-type {\n",
       "        vertical-align: middle;\n",
       "    }\n",
       "\n",
       "    .dataframe tbody tr th {\n",
       "        vertical-align: top;\n",
       "    }\n",
       "\n",
       "    .dataframe thead tr th {\n",
       "        text-align: left;\n",
       "    }\n",
       "\n",
       "    .dataframe thead tr:last-of-type th {\n",
       "        text-align: right;\n",
       "    }\n",
       "</style>\n",
       "<table border=\"1\" class=\"dataframe\">\n",
       "  <thead>\n",
       "    <tr>\n",
       "      <th></th>\n",
       "      <th></th>\n",
       "      <th colspan=\"3\" halign=\"left\">mobility_coefficient</th>\n",
       "    </tr>\n",
       "    <tr>\n",
       "      <th></th>\n",
       "      <th></th>\n",
       "      <th>mean</th>\n",
       "      <th>50%</th>\n",
       "      <th>std</th>\n",
       "    </tr>\n",
       "    <tr>\n",
       "      <th>source</th>\n",
       "      <th>num_acts</th>\n",
       "      <th></th>\n",
       "      <th></th>\n",
       "      <th></th>\n",
       "    </tr>\n",
       "  </thead>\n",
       "  <tbody>\n",
       "    <tr>\n",
       "      <th rowspan=\"2\" valign=\"top\">russian</th>\n",
       "      <th>4.0</th>\n",
       "      <td>71.00</td>\n",
       "      <td>72.0</td>\n",
       "      <td>19.85</td>\n",
       "    </tr>\n",
       "    <tr>\n",
       "      <th>5.0</th>\n",
       "      <td>61.60</td>\n",
       "      <td>55.5</td>\n",
       "      <td>20.91</td>\n",
       "    </tr>\n",
       "    <tr>\n",
       "      <th rowspan=\"2\" valign=\"top\">french</th>\n",
       "      <th>4.0</th>\n",
       "      <td>46.33</td>\n",
       "      <td>52.0</td>\n",
       "      <td>12.50</td>\n",
       "    </tr>\n",
       "    <tr>\n",
       "      <th>5.0</th>\n",
       "      <td>54.31</td>\n",
       "      <td>53.5</td>\n",
       "      <td>9.96</td>\n",
       "    </tr>\n",
       "    <tr>\n",
       "      <th>goldoni</th>\n",
       "      <th>5.0</th>\n",
       "      <td>62.25</td>\n",
       "      <td>56.0</td>\n",
       "      <td>19.33</td>\n",
       "    </tr>\n",
       "    <tr>\n",
       "      <th>shakespeare</th>\n",
       "      <th>5.0</th>\n",
       "      <td>78.00</td>\n",
       "      <td>74.0</td>\n",
       "      <td>16.68</td>\n",
       "    </tr>\n",
       "  </tbody>\n",
       "</table>\n",
       "</div>"
      ],
      "text/plain": [
       "                     mobility_coefficient             \n",
       "                                     mean   50%    std\n",
       "source      num_acts                                  \n",
       "russian     4.0                     71.00  72.0  19.85\n",
       "            5.0                     61.60  55.5  20.91\n",
       "french      4.0                     46.33  52.0  12.50\n",
       "            5.0                     54.31  53.5   9.96\n",
       "goldoni     5.0                     62.25  56.0  19.33\n",
       "shakespeare 5.0                     78.00  74.0  16.68"
      ]
     },
     "metadata": {},
     "output_type": "display_data"
    },
    {
     "data": {
      "text/html": [
       "<div>\n",
       "<style scoped>\n",
       "    .dataframe tbody tr th:only-of-type {\n",
       "        vertical-align: middle;\n",
       "    }\n",
       "\n",
       "    .dataframe tbody tr th {\n",
       "        vertical-align: top;\n",
       "    }\n",
       "\n",
       "    .dataframe thead th {\n",
       "        text-align: right;\n",
       "    }\n",
       "</style>\n",
       "<table border=\"1\" class=\"dataframe\">\n",
       "  <thead>\n",
       "    <tr style=\"text-align: right;\">\n",
       "      <th></th>\n",
       "      <th>mobility_coefficient</th>\n",
       "    </tr>\n",
       "  </thead>\n",
       "  <tbody>\n",
       "    <tr>\n",
       "      <th>Gore ot uma</th>\n",
       "      <td>94.0</td>\n",
       "    </tr>\n",
       "  </tbody>\n",
       "</table>\n",
       "</div>"
      ],
      "text/plain": [
       "             mobility_coefficient\n",
       "Gore ot uma                  94.0"
      ]
     },
     "metadata": {},
     "output_type": "display_data"
    },
    {
     "data": {
      "text/html": [
       "<div>\n",
       "<style scoped>\n",
       "    .dataframe tbody tr th:only-of-type {\n",
       "        vertical-align: middle;\n",
       "    }\n",
       "\n",
       "    .dataframe tbody tr th {\n",
       "        vertical-align: top;\n",
       "    }\n",
       "\n",
       "    .dataframe thead th {\n",
       "        text-align: right;\n",
       "    }\n",
       "</style>\n",
       "<table border=\"1\" class=\"dataframe\">\n",
       "  <thead>\n",
       "    <tr style=\"text-align: right;\">\n",
       "      <th></th>\n",
       "      <th>mobility_coefficient</th>\n",
       "    </tr>\n",
       "  </thead>\n",
       "  <tbody>\n",
       "    <tr>\n",
       "      <th>Kotzebue</th>\n",
       "      <td>54.0</td>\n",
       "    </tr>\n",
       "  </tbody>\n",
       "</table>\n",
       "</div>"
      ],
      "text/plain": [
       "          mobility_coefficient\n",
       "Kotzebue                  54.0"
      ]
     },
     "metadata": {},
     "output_type": "display_data"
    }
   ],
   "source": [
    "summary('mobility_coefficient')"
   ]
  },
  {
   "cell_type": "markdown",
   "metadata": {},
   "source": [
    "### Summary:\n",
    "- The Russian four-act comedies tended to have a higher mean mobility coefficient (71) than the Russian five-act comedies (61.60). However, the standard deviation was slightly higher in the five-act comedies (20.91) than in the four-act comedies (19.85).\n",
    "- The opposite is true of the French four-act comedies: they had a lower mean mobility coefficient (46.33) than the French five-act comedies (54.31). Their standard deviation, however, was higher (12.50 vs. 9.96).\n",
    "- The Russian four-act comedies had a higher mean mobility coefficient (71) than the French four-act comedies (46.33).\n",
    "- The Russian four-act comedies had a higher mean mobility coefficient than Goldoni (62.25) but lower than Shakspeare (78).\n",
    "- Kotzbue's four-act comedy had a much lower mobility coefficient of 54.\n",
    "- *Gore ot uma* had a very high mobility coefficient (94), however, in the Russian five-act tradition, there was one comedy, Petr Grigor’ev's *Zhiteiiskaia shkola* (1849).\n",
    "- Based on this feature, the Russian five-act comedies of the 1810s and 1840s also had two divergent trends: Romantic and Neoclassical."
   ]
  },
  {
   "cell_type": "markdown",
   "metadata": {},
   "source": [
    "### The Standard Range of The Speaking Characters"
   ]
  },
  {
   "cell_type": "code",
   "execution_count": 30,
   "metadata": {},
   "outputs": [
    {
     "data": {
      "image/png": "[encoded data removed]",
      "text/plain": [
       "<Figure size 720x504 with 1 Axes>"
      ]
     },
     "metadata": {
      "needs_background": "light"
     },
     "output_type": "display_data"
    }
   ],
   "source": [
    "scatter('sigma_iarkho', 'The Standard Range')"
   ]
  },
  {
   "cell_type": "code",
   "execution_count": 31,
   "metadata": {},
   "outputs": [
    {
     "data": {
      "text/html": [
       "<div>\n",
       "<style scoped>\n",
       "    .dataframe tbody tr th:only-of-type {\n",
       "        vertical-align: middle;\n",
       "    }\n",
       "\n",
       "    .dataframe tbody tr th {\n",
       "        vertical-align: top;\n",
       "    }\n",
       "\n",
       "    .dataframe thead th {\n",
       "        text-align: right;\n",
       "    }\n",
       "</style>\n",
       "<table border=\"1\" class=\"dataframe\">\n",
       "  <thead>\n",
       "    <tr style=\"text-align: right;\">\n",
       "      <th></th>\n",
       "      <th>title</th>\n",
       "      <th>last_name</th>\n",
       "      <th>sigma_iarkho</th>\n",
       "    </tr>\n",
       "  </thead>\n",
       "  <tbody>\n",
       "    <tr>\n",
       "      <th>217</th>\n",
       "      <td>La Princesse Aurélie</td>\n",
       "      <td>Delavigne</td>\n",
       "      <td>2.545</td>\n",
       "    </tr>\n",
       "    <tr>\n",
       "      <th>17</th>\n",
       "      <td>Gore ot uma</td>\n",
       "      <td>Griboedov</td>\n",
       "      <td>2.545</td>\n",
       "    </tr>\n",
       "    <tr>\n",
       "      <th>8</th>\n",
       "      <td>V sem''e ne bez uroda</td>\n",
       "      <td>Unknown</td>\n",
       "      <td>2.323</td>\n",
       "    </tr>\n",
       "    <tr>\n",
       "      <th>223</th>\n",
       "      <td>L'école des journalistes</td>\n",
       "      <td>Girardin</td>\n",
       "      <td>2.123</td>\n",
       "    </tr>\n",
       "    <tr>\n",
       "      <th>2</th>\n",
       "      <td>Love’s Labor’s Lost</td>\n",
       "      <td>Shakespeare</td>\n",
       "      <td>1.890</td>\n",
       "    </tr>\n",
       "    <tr>\n",
       "      <th>...</th>\n",
       "      <td>...</td>\n",
       "      <td>...</td>\n",
       "      <td>...</td>\n",
       "    </tr>\n",
       "    <tr>\n",
       "      <th>204</th>\n",
       "      <td>L'École des vieillards</td>\n",
       "      <td>Delavigne</td>\n",
       "      <td>0.884</td>\n",
       "    </tr>\n",
       "    <tr>\n",
       "      <th>197</th>\n",
       "      <td>Le Faux ami de cour, ou le Danger des liaisons</td>\n",
       "      <td>Michaud</td>\n",
       "      <td>0.840</td>\n",
       "    </tr>\n",
       "    <tr>\n",
       "      <th>23</th>\n",
       "      <td>Novaia shkola muzhei</td>\n",
       "      <td>Zotov</td>\n",
       "      <td>0.810</td>\n",
       "    </tr>\n",
       "    <tr>\n",
       "      <th>24</th>\n",
       "      <td>Komediia iz sovremennoi zhizni</td>\n",
       "      <td>Krol’</td>\n",
       "      <td>0.737</td>\n",
       "    </tr>\n",
       "    <tr>\n",
       "      <th>16</th>\n",
       "      <td>Il cavaliere di spirito o sia La donna di test...</td>\n",
       "      <td>Goldoni</td>\n",
       "      <td>0.592</td>\n",
       "    </tr>\n",
       "  </tbody>\n",
       "</table>\n",
       "<p>92 rows × 3 columns</p>\n",
       "</div>"
      ],
      "text/plain": [
       "                                                 title    last_name  \\\n",
       "217                               La Princesse Aurélie    Delavigne   \n",
       "17                                         Gore ot uma    Griboedov   \n",
       "8                                V sem''e ne bez uroda      Unknown   \n",
       "223                           L'école des journalistes     Girardin   \n",
       "2                                  Love’s Labor’s Lost  Shakespeare   \n",
       "..                                                 ...          ...   \n",
       "204                             L'École des vieillards    Delavigne   \n",
       "197     Le Faux ami de cour, ou le Danger des liaisons      Michaud   \n",
       "23                                Novaia shkola muzhei        Zotov   \n",
       "24                      Komediia iz sovremennoi zhizni        Krol’   \n",
       "16   Il cavaliere di spirito o sia La donna di test...      Goldoni   \n",
       "\n",
       "     sigma_iarkho  \n",
       "217         2.545  \n",
       "17          2.545  \n",
       "8           2.323  \n",
       "223         2.123  \n",
       "2           1.890  \n",
       "..            ...  \n",
       "204         0.884  \n",
       "197         0.840  \n",
       "23          0.810  \n",
       "24          0.737  \n",
       "16          0.592  \n",
       "\n",
       "[92 rows x 3 columns]"
      ]
     },
     "execution_count": 31,
     "metadata": {},
     "output_type": "execute_result"
    }
   ],
   "source": [
    "combined_df.sort_values(by='sigma_iarkho', ascending=False)[['title', 'last_name', 'sigma_iarkho']]"
   ]
  },
  {
   "cell_type": "code",
   "execution_count": 32,
   "metadata": {},
   "outputs": [
    {
     "data": {
      "text/html": [
       "<div>\n",
       "<style scoped>\n",
       "    .dataframe tbody tr th:only-of-type {\n",
       "        vertical-align: middle;\n",
       "    }\n",
       "\n",
       "    .dataframe tbody tr th {\n",
       "        vertical-align: top;\n",
       "    }\n",
       "\n",
       "    .dataframe thead tr th {\n",
       "        text-align: left;\n",
       "    }\n",
       "\n",
       "    .dataframe thead tr:last-of-type th {\n",
       "        text-align: right;\n",
       "    }\n",
       "</style>\n",
       "<table border=\"1\" class=\"dataframe\">\n",
       "  <thead>\n",
       "    <tr>\n",
       "      <th></th>\n",
       "      <th></th>\n",
       "      <th colspan=\"3\" halign=\"left\">sigma_iarkho</th>\n",
       "    </tr>\n",
       "    <tr>\n",
       "      <th></th>\n",
       "      <th></th>\n",
       "      <th>mean</th>\n",
       "      <th>50%</th>\n",
       "      <th>std</th>\n",
       "    </tr>\n",
       "    <tr>\n",
       "      <th>source</th>\n",
       "      <th>num_acts</th>\n",
       "      <th></th>\n",
       "      <th></th>\n",
       "      <th></th>\n",
       "    </tr>\n",
       "  </thead>\n",
       "  <tbody>\n",
       "    <tr>\n",
       "      <th rowspan=\"2\" valign=\"top\">russian</th>\n",
       "      <th>4.0</th>\n",
       "      <td>1.60</td>\n",
       "      <td>1.57</td>\n",
       "      <td>0.67</td>\n",
       "    </tr>\n",
       "    <tr>\n",
       "      <th>5.0</th>\n",
       "      <td>1.54</td>\n",
       "      <td>1.53</td>\n",
       "      <td>0.39</td>\n",
       "    </tr>\n",
       "    <tr>\n",
       "      <th rowspan=\"2\" valign=\"top\">french</th>\n",
       "      <th>4.0</th>\n",
       "      <td>1.45</td>\n",
       "      <td>1.33</td>\n",
       "      <td>0.27</td>\n",
       "    </tr>\n",
       "    <tr>\n",
       "      <th>5.0</th>\n",
       "      <td>1.33</td>\n",
       "      <td>1.26</td>\n",
       "      <td>0.33</td>\n",
       "    </tr>\n",
       "    <tr>\n",
       "      <th>goldoni</th>\n",
       "      <th>5.0</th>\n",
       "      <td>1.21</td>\n",
       "      <td>1.20</td>\n",
       "      <td>0.32</td>\n",
       "    </tr>\n",
       "    <tr>\n",
       "      <th>shakespeare</th>\n",
       "      <th>5.0</th>\n",
       "      <td>1.33</td>\n",
       "      <td>1.28</td>\n",
       "      <td>0.30</td>\n",
       "    </tr>\n",
       "  </tbody>\n",
       "</table>\n",
       "</div>"
      ],
      "text/plain": [
       "                     sigma_iarkho            \n",
       "                             mean   50%   std\n",
       "source      num_acts                         \n",
       "russian     4.0              1.60  1.57  0.67\n",
       "            5.0              1.54  1.53  0.39\n",
       "french      4.0              1.45  1.33  0.27\n",
       "            5.0              1.33  1.26  0.33\n",
       "goldoni     5.0              1.21  1.20  0.32\n",
       "shakespeare 5.0              1.33  1.28  0.30"
      ]
     },
     "metadata": {},
     "output_type": "display_data"
    },
    {
     "data": {
      "text/html": [
       "<div>\n",
       "<style scoped>\n",
       "    .dataframe tbody tr th:only-of-type {\n",
       "        vertical-align: middle;\n",
       "    }\n",
       "\n",
       "    .dataframe tbody tr th {\n",
       "        vertical-align: top;\n",
       "    }\n",
       "\n",
       "    .dataframe thead th {\n",
       "        text-align: right;\n",
       "    }\n",
       "</style>\n",
       "<table border=\"1\" class=\"dataframe\">\n",
       "  <thead>\n",
       "    <tr style=\"text-align: right;\">\n",
       "      <th></th>\n",
       "      <th>sigma_iarkho</th>\n",
       "    </tr>\n",
       "  </thead>\n",
       "  <tbody>\n",
       "    <tr>\n",
       "      <th>Gore ot uma</th>\n",
       "      <td>2.54</td>\n",
       "    </tr>\n",
       "  </tbody>\n",
       "</table>\n",
       "</div>"
      ],
      "text/plain": [
       "             sigma_iarkho\n",
       "Gore ot uma          2.54"
      ]
     },
     "metadata": {},
     "output_type": "display_data"
    },
    {
     "data": {
      "text/html": [
       "<div>\n",
       "<style scoped>\n",
       "    .dataframe tbody tr th:only-of-type {\n",
       "        vertical-align: middle;\n",
       "    }\n",
       "\n",
       "    .dataframe tbody tr th {\n",
       "        vertical-align: top;\n",
       "    }\n",
       "\n",
       "    .dataframe thead th {\n",
       "        text-align: right;\n",
       "    }\n",
       "</style>\n",
       "<table border=\"1\" class=\"dataframe\">\n",
       "  <thead>\n",
       "    <tr style=\"text-align: right;\">\n",
       "      <th></th>\n",
       "      <th>sigma_iarkho</th>\n",
       "    </tr>\n",
       "  </thead>\n",
       "  <tbody>\n",
       "    <tr>\n",
       "      <th>Kotzebue</th>\n",
       "      <td>0.82</td>\n",
       "    </tr>\n",
       "  </tbody>\n",
       "</table>\n",
       "</div>"
      ],
      "text/plain": [
       "          sigma_iarkho\n",
       "Kotzebue          0.82"
      ]
     },
     "metadata": {},
     "output_type": "display_data"
    }
   ],
   "source": [
    "summary('sigma_iarkho')"
   ]
  },
  {
   "cell_type": "markdown",
   "metadata": {},
   "source": [
    "### Summary\n",
    "- The Russian four-act comedies tended to have a slightly higher mean number standard range of the number of speaking characters (1.60) than the Russian five-act comedies (1.54).\n",
    "- The French four-act comedies also had a higher mean standard range (1.45) than the five-act comedies (1.33).\n",
    "- The Russian four-act comedies had a higher mean standard range (1.60) than the French four-act comedies (1.45).\n",
    "- The standard range in the Russian four-act comedies was higher than in Shakespeare's comedies (1.33) and Goldoni's comedies (1.21).\n",
    "- *Gore ot Uma* had a very high standard range of  2.54, which was the same as in Casimir Delavigne's five-act comedy *La Princesse Aurélie* (1828).\n",
    "- Kotzebue's comedy with the standard range of 0.82 was at the very bottom of the French and Russian Neoclassical comedies.\n",
    "- Based on this feature, the Russian five-act comedies of the 1810s and 1840s also had two divergent trends: Romantic and Neoclassical."
   ]
  },
  {
   "cell_type": "markdown",
   "metadata": {},
   "source": [
    "### The Percentage of Non-Dialogues"
   ]
  },
  {
   "cell_type": "code",
   "execution_count": 33,
   "metadata": {},
   "outputs": [
    {
     "data": {
      "image/png": "[encoded data removed]",
      "text/plain": [
       "<Figure size 720x504 with 1 Axes>"
      ]
     },
     "metadata": {
      "needs_background": "light"
     },
     "output_type": "display_data"
    }
   ],
   "source": [
    "scatter('percentage_non_dialogues', 'The Percentage of Non-Dialogues')"
   ]
  },
  {
   "cell_type": "code",
   "execution_count": 34,
   "metadata": {},
   "outputs": [
    {
     "data": {
      "text/html": [
       "<div>\n",
       "<style scoped>\n",
       "    .dataframe tbody tr th:only-of-type {\n",
       "        vertical-align: middle;\n",
       "    }\n",
       "\n",
       "    .dataframe tbody tr th {\n",
       "        vertical-align: top;\n",
       "    }\n",
       "\n",
       "    .dataframe thead tr th {\n",
       "        text-align: left;\n",
       "    }\n",
       "\n",
       "    .dataframe thead tr:last-of-type th {\n",
       "        text-align: right;\n",
       "    }\n",
       "</style>\n",
       "<table border=\"1\" class=\"dataframe\">\n",
       "  <thead>\n",
       "    <tr>\n",
       "      <th></th>\n",
       "      <th></th>\n",
       "      <th colspan=\"3\" halign=\"left\">percentage_non_dialogues</th>\n",
       "    </tr>\n",
       "    <tr>\n",
       "      <th></th>\n",
       "      <th></th>\n",
       "      <th>mean</th>\n",
       "      <th>50%</th>\n",
       "      <th>std</th>\n",
       "    </tr>\n",
       "    <tr>\n",
       "      <th>source</th>\n",
       "      <th>num_acts</th>\n",
       "      <th></th>\n",
       "      <th></th>\n",
       "      <th></th>\n",
       "    </tr>\n",
       "  </thead>\n",
       "  <tbody>\n",
       "    <tr>\n",
       "      <th rowspan=\"2\" valign=\"top\">russian</th>\n",
       "      <th>4.0</th>\n",
       "      <td>61.69</td>\n",
       "      <td>63.64</td>\n",
       "      <td>7.20</td>\n",
       "    </tr>\n",
       "    <tr>\n",
       "      <th>5.0</th>\n",
       "      <td>60.64</td>\n",
       "      <td>63.77</td>\n",
       "      <td>9.23</td>\n",
       "    </tr>\n",
       "    <tr>\n",
       "      <th rowspan=\"2\" valign=\"top\">french</th>\n",
       "      <th>4.0</th>\n",
       "      <td>48.21</td>\n",
       "      <td>54.76</td>\n",
       "      <td>15.26</td>\n",
       "    </tr>\n",
       "    <tr>\n",
       "      <th>5.0</th>\n",
       "      <td>58.12</td>\n",
       "      <td>57.92</td>\n",
       "      <td>5.89</td>\n",
       "    </tr>\n",
       "    <tr>\n",
       "      <th>goldoni</th>\n",
       "      <th>5.0</th>\n",
       "      <td>58.64</td>\n",
       "      <td>57.98</td>\n",
       "      <td>11.56</td>\n",
       "    </tr>\n",
       "    <tr>\n",
       "      <th>shakespeare</th>\n",
       "      <th>5.0</th>\n",
       "      <td>61.76</td>\n",
       "      <td>63.28</td>\n",
       "      <td>7.56</td>\n",
       "    </tr>\n",
       "  </tbody>\n",
       "</table>\n",
       "</div>"
      ],
      "text/plain": [
       "                     percentage_non_dialogues              \n",
       "                                         mean    50%    std\n",
       "source      num_acts                                       \n",
       "russian     4.0                         61.69  63.64   7.20\n",
       "            5.0                         60.64  63.77   9.23\n",
       "french      4.0                         48.21  54.76  15.26\n",
       "            5.0                         58.12  57.92   5.89\n",
       "goldoni     5.0                         58.64  57.98  11.56\n",
       "shakespeare 5.0                         61.76  63.28   7.56"
      ]
     },
     "metadata": {},
     "output_type": "display_data"
    },
    {
     "data": {
      "text/html": [
       "<div>\n",
       "<style scoped>\n",
       "    .dataframe tbody tr th:only-of-type {\n",
       "        vertical-align: middle;\n",
       "    }\n",
       "\n",
       "    .dataframe tbody tr th {\n",
       "        vertical-align: top;\n",
       "    }\n",
       "\n",
       "    .dataframe thead th {\n",
       "        text-align: right;\n",
       "    }\n",
       "</style>\n",
       "<table border=\"1\" class=\"dataframe\">\n",
       "  <thead>\n",
       "    <tr style=\"text-align: right;\">\n",
       "      <th></th>\n",
       "      <th>percentage_non_dialogues</th>\n",
       "    </tr>\n",
       "  </thead>\n",
       "  <tbody>\n",
       "    <tr>\n",
       "      <th>Gore ot uma</th>\n",
       "      <td>58.67</td>\n",
       "    </tr>\n",
       "  </tbody>\n",
       "</table>\n",
       "</div>"
      ],
      "text/plain": [
       "             percentage_non_dialogues\n",
       "Gore ot uma                     58.67"
      ]
     },
     "metadata": {},
     "output_type": "display_data"
    },
    {
     "data": {
      "text/html": [
       "<div>\n",
       "<style scoped>\n",
       "    .dataframe tbody tr th:only-of-type {\n",
       "        vertical-align: middle;\n",
       "    }\n",
       "\n",
       "    .dataframe tbody tr th {\n",
       "        vertical-align: top;\n",
       "    }\n",
       "\n",
       "    .dataframe thead th {\n",
       "        text-align: right;\n",
       "    }\n",
       "</style>\n",
       "<table border=\"1\" class=\"dataframe\">\n",
       "  <thead>\n",
       "    <tr style=\"text-align: right;\">\n",
       "      <th></th>\n",
       "      <th>percentage_non_dialogues</th>\n",
       "    </tr>\n",
       "  </thead>\n",
       "  <tbody>\n",
       "    <tr>\n",
       "      <th>Kotzebue</th>\n",
       "      <td>53.49</td>\n",
       "    </tr>\n",
       "  </tbody>\n",
       "</table>\n",
       "</div>"
      ],
      "text/plain": [
       "          percentage_non_dialogues\n",
       "Kotzebue                     53.49"
      ]
     },
     "metadata": {},
     "output_type": "display_data"
    }
   ],
   "source": [
    "summary('percentage_non_dialogues')"
   ]
  },
  {
   "cell_type": "markdown",
   "metadata": {},
   "source": [
    "### Summary\n",
    "- The mean percentage of non-dialogues in the Russian four-act comedies in verse (61.69%) was higher than in the Russian five-act comedies in verse (60.64%). The standard deviation, however, was lower in the four-act comedies (7.20%) than in the five-act comedies (9.23%).\n",
    "- The French four-act comedies tended to have a lower mean percentage of non-dialogues (48.21%) than the French five-act comedies (58.12%). The standard deviation was higher in the four-act comedies (15.26%) vs. five-act comedies (5.89%).\n",
    "- The Russian four-act comedies had a higher mean percentage of non-dialogues (61.69%) than the French four-act comedies (48.21%).\n",
    "- The Russian four-act comedies had a higher percentage of non-dialogues than Shakespeare (with a mean of 61.76%) and Goldoni (with a mean of 53.49%).\n",
    "- The percentage of non-dialogues in *Gore ot uma* was slightly below the mean for the Russian four-act comedies (61.64%).\n",
    "- The percentage of non-dialogues in Kotzbue's *Der Russe in Deutschland* (53.49%) corresponded to the Neoclassical French and Russian comedies of the time."
   ]
  },
  {
   "cell_type": "markdown",
   "metadata": {},
   "source": [
    "### The Percentage of Polylogues"
   ]
  },
  {
   "cell_type": "code",
   "execution_count": 35,
   "metadata": {},
   "outputs": [
    {
     "data": {
      "image/png": "[encoded data removed]",
      "text/plain": [
       "<Figure size 720x504 with 1 Axes>"
      ]
     },
     "metadata": {
      "needs_background": "light"
     },
     "output_type": "display_data"
    }
   ],
   "source": [
    "scatter('percentage_polylogues', 'The Percentage of Polylogues')"
   ]
  },
  {
   "cell_type": "code",
   "execution_count": 36,
   "metadata": {},
   "outputs": [
    {
     "data": {
      "text/html": [
       "<div>\n",
       "<style scoped>\n",
       "    .dataframe tbody tr th:only-of-type {\n",
       "        vertical-align: middle;\n",
       "    }\n",
       "\n",
       "    .dataframe tbody tr th {\n",
       "        vertical-align: top;\n",
       "    }\n",
       "\n",
       "    .dataframe thead tr th {\n",
       "        text-align: left;\n",
       "    }\n",
       "\n",
       "    .dataframe thead tr:last-of-type th {\n",
       "        text-align: right;\n",
       "    }\n",
       "</style>\n",
       "<table border=\"1\" class=\"dataframe\">\n",
       "  <thead>\n",
       "    <tr>\n",
       "      <th></th>\n",
       "      <th></th>\n",
       "      <th colspan=\"3\" halign=\"left\">percentage_polylogues</th>\n",
       "    </tr>\n",
       "    <tr>\n",
       "      <th></th>\n",
       "      <th></th>\n",
       "      <th>mean</th>\n",
       "      <th>50%</th>\n",
       "      <th>std</th>\n",
       "    </tr>\n",
       "    <tr>\n",
       "      <th>source</th>\n",
       "      <th>num_acts</th>\n",
       "      <th></th>\n",
       "      <th></th>\n",
       "      <th></th>\n",
       "    </tr>\n",
       "  </thead>\n",
       "  <tbody>\n",
       "    <tr>\n",
       "      <th rowspan=\"2\" valign=\"top\">russian</th>\n",
       "      <th>4.0</th>\n",
       "      <td>36.68</td>\n",
       "      <td>39.39</td>\n",
       "      <td>12.79</td>\n",
       "    </tr>\n",
       "    <tr>\n",
       "      <th>5.0</th>\n",
       "      <td>39.68</td>\n",
       "      <td>39.26</td>\n",
       "      <td>13.03</td>\n",
       "    </tr>\n",
       "    <tr>\n",
       "      <th rowspan=\"2\" valign=\"top\">french</th>\n",
       "      <th>4.0</th>\n",
       "      <td>27.37</td>\n",
       "      <td>29.55</td>\n",
       "      <td>7.30</td>\n",
       "    </tr>\n",
       "    <tr>\n",
       "      <th>5.0</th>\n",
       "      <td>37.69</td>\n",
       "      <td>36.83</td>\n",
       "      <td>8.49</td>\n",
       "    </tr>\n",
       "    <tr>\n",
       "      <th>goldoni</th>\n",
       "      <th>5.0</th>\n",
       "      <td>38.74</td>\n",
       "      <td>40.30</td>\n",
       "      <td>14.48</td>\n",
       "    </tr>\n",
       "    <tr>\n",
       "      <th>shakespeare</th>\n",
       "      <th>5.0</th>\n",
       "      <td>37.85</td>\n",
       "      <td>36.90</td>\n",
       "      <td>9.72</td>\n",
       "    </tr>\n",
       "  </tbody>\n",
       "</table>\n",
       "</div>"
      ],
      "text/plain": [
       "                     percentage_polylogues              \n",
       "                                      mean    50%    std\n",
       "source      num_acts                                    \n",
       "russian     4.0                      36.68  39.39  12.79\n",
       "            5.0                      39.68  39.26  13.03\n",
       "french      4.0                      27.37  29.55   7.30\n",
       "            5.0                      37.69  36.83   8.49\n",
       "goldoni     5.0                      38.74  40.30  14.48\n",
       "shakespeare 5.0                      37.85  36.90   9.72"
      ]
     },
     "metadata": {},
     "output_type": "display_data"
    },
    {
     "data": {
      "text/html": [
       "<div>\n",
       "<style scoped>\n",
       "    .dataframe tbody tr th:only-of-type {\n",
       "        vertical-align: middle;\n",
       "    }\n",
       "\n",
       "    .dataframe tbody tr th {\n",
       "        vertical-align: top;\n",
       "    }\n",
       "\n",
       "    .dataframe thead th {\n",
       "        text-align: right;\n",
       "    }\n",
       "</style>\n",
       "<table border=\"1\" class=\"dataframe\">\n",
       "  <thead>\n",
       "    <tr style=\"text-align: right;\">\n",
       "      <th></th>\n",
       "      <th>percentage_polylogues</th>\n",
       "    </tr>\n",
       "  </thead>\n",
       "  <tbody>\n",
       "    <tr>\n",
       "      <th>Gore ot uma</th>\n",
       "      <td>32.0</td>\n",
       "    </tr>\n",
       "  </tbody>\n",
       "</table>\n",
       "</div>"
      ],
      "text/plain": [
       "             percentage_polylogues\n",
       "Gore ot uma                   32.0"
      ]
     },
     "metadata": {},
     "output_type": "display_data"
    },
    {
     "data": {
      "text/html": [
       "<div>\n",
       "<style scoped>\n",
       "    .dataframe tbody tr th:only-of-type {\n",
       "        vertical-align: middle;\n",
       "    }\n",
       "\n",
       "    .dataframe tbody tr th {\n",
       "        vertical-align: top;\n",
       "    }\n",
       "\n",
       "    .dataframe thead th {\n",
       "        text-align: right;\n",
       "    }\n",
       "</style>\n",
       "<table border=\"1\" class=\"dataframe\">\n",
       "  <thead>\n",
       "    <tr style=\"text-align: right;\">\n",
       "      <th></th>\n",
       "      <th>percentage_polylogues</th>\n",
       "    </tr>\n",
       "  </thead>\n",
       "  <tbody>\n",
       "    <tr>\n",
       "      <th>Kotzebue</th>\n",
       "      <td>20.93</td>\n",
       "    </tr>\n",
       "  </tbody>\n",
       "</table>\n",
       "</div>"
      ],
      "text/plain": [
       "          percentage_polylogues\n",
       "Kotzebue                  20.93"
      ]
     },
     "metadata": {},
     "output_type": "display_data"
    }
   ],
   "source": [
    "summary('percentage_polylogues')"
   ]
  },
  {
   "cell_type": "markdown",
   "metadata": {},
   "source": [
    "### Summary\n",
    "- The mean percentage of polylogues in the Russian four-act comedies (36.68%) was lower than in the Russian five-act comedies (39.68%). The standard deviation was also lower in the four-act comedies (12.79%) vs. 13.03% in the five-act comedies.\n",
    "- The mean percentage of polylogues in the French four-act comedies (27.37%) was lower than in the French five-act comedies (37.69%). The standard deviation was also lower in the four-act comedies (7.30% vs. 8.49%).\n",
    "- The mean percentage of polylogues in the Russian four-act comedies (36.68%) was higher than in the French four-act comedies (27.37%).\n",
    "- The percentage of polylogues in the Russian four-act comedies was lower than in Shakespeare (37.85%) and Goldoni (38.74%).\n",
    "- The percentage of polylogues in *Gore ot Uma* (32%) was below the average for the Russian four-act plays (36.68%).\n",
    "- The percentage of polylogues in Kotzebue's four-act comedy was 20.93%, which was at the very bottom of the French and Russian Neoclassical comedies.\n",
    "- Based on this feature, the Russian five-act comedies of the 1810s and 1840s also had two divergent trends: Romantic and Neoclassical.\n",
    "- The comedy with the largest percentage of polylogues in our corpus (65%) was Merville's *La Famille Glinet*  (1818)."
   ]
  },
  {
   "cell_type": "markdown",
   "metadata": {},
   "source": [
    "### The Percentage of Monologues"
   ]
  },
  {
   "cell_type": "code",
   "execution_count": 37,
   "metadata": {},
   "outputs": [
    {
     "data": {
      "image/png": "[encoded data removed]",
      "text/plain": [
       "<Figure size 720x504 with 1 Axes>"
      ]
     },
     "metadata": {
      "needs_background": "light"
     },
     "output_type": "display_data"
    }
   ],
   "source": [
    "scatter('percentage_monologues', 'The Percentage of Monologues')"
   ]
  },
  {
   "cell_type": "code",
   "execution_count": 38,
   "metadata": {},
   "outputs": [
    {
     "data": {
      "text/html": [
       "<div>\n",
       "<style scoped>\n",
       "    .dataframe tbody tr th:only-of-type {\n",
       "        vertical-align: middle;\n",
       "    }\n",
       "\n",
       "    .dataframe tbody tr th {\n",
       "        vertical-align: top;\n",
       "    }\n",
       "\n",
       "    .dataframe thead tr th {\n",
       "        text-align: left;\n",
       "    }\n",
       "\n",
       "    .dataframe thead tr:last-of-type th {\n",
       "        text-align: right;\n",
       "    }\n",
       "</style>\n",
       "<table border=\"1\" class=\"dataframe\">\n",
       "  <thead>\n",
       "    <tr>\n",
       "      <th></th>\n",
       "      <th></th>\n",
       "      <th colspan=\"3\" halign=\"left\">percentage_monologues</th>\n",
       "    </tr>\n",
       "    <tr>\n",
       "      <th></th>\n",
       "      <th></th>\n",
       "      <th>mean</th>\n",
       "      <th>50%</th>\n",
       "      <th>std</th>\n",
       "    </tr>\n",
       "    <tr>\n",
       "      <th>source</th>\n",
       "      <th>num_acts</th>\n",
       "      <th></th>\n",
       "      <th></th>\n",
       "      <th></th>\n",
       "    </tr>\n",
       "  </thead>\n",
       "  <tbody>\n",
       "    <tr>\n",
       "      <th rowspan=\"2\" valign=\"top\">russian</th>\n",
       "      <th>4.0</th>\n",
       "      <td>25.01</td>\n",
       "      <td>24.24</td>\n",
       "      <td>5.80</td>\n",
       "    </tr>\n",
       "    <tr>\n",
       "      <th>5.0</th>\n",
       "      <td>20.65</td>\n",
       "      <td>21.26</td>\n",
       "      <td>7.60</td>\n",
       "    </tr>\n",
       "    <tr>\n",
       "      <th rowspan=\"2\" valign=\"top\">french</th>\n",
       "      <th>4.0</th>\n",
       "      <td>20.84</td>\n",
       "      <td>21.43</td>\n",
       "      <td>9.02</td>\n",
       "    </tr>\n",
       "    <tr>\n",
       "      <th>5.0</th>\n",
       "      <td>20.35</td>\n",
       "      <td>19.58</td>\n",
       "      <td>5.97</td>\n",
       "    </tr>\n",
       "    <tr>\n",
       "      <th>goldoni</th>\n",
       "      <th>5.0</th>\n",
       "      <td>19.65</td>\n",
       "      <td>19.89</td>\n",
       "      <td>4.97</td>\n",
       "    </tr>\n",
       "    <tr>\n",
       "      <th>shakespeare</th>\n",
       "      <th>5.0</th>\n",
       "      <td>23.56</td>\n",
       "      <td>22.23</td>\n",
       "      <td>7.07</td>\n",
       "    </tr>\n",
       "  </tbody>\n",
       "</table>\n",
       "</div>"
      ],
      "text/plain": [
       "                     percentage_monologues             \n",
       "                                      mean    50%   std\n",
       "source      num_acts                                   \n",
       "russian     4.0                      25.01  24.24  5.80\n",
       "            5.0                      20.65  21.26  7.60\n",
       "french      4.0                      20.84  21.43  9.02\n",
       "            5.0                      20.35  19.58  5.97\n",
       "goldoni     5.0                      19.65  19.89  4.97\n",
       "shakespeare 5.0                      23.56  22.23  7.07"
      ]
     },
     "metadata": {},
     "output_type": "display_data"
    },
    {
     "data": {
      "text/html": [
       "<div>\n",
       "<style scoped>\n",
       "    .dataframe tbody tr th:only-of-type {\n",
       "        vertical-align: middle;\n",
       "    }\n",
       "\n",
       "    .dataframe tbody tr th {\n",
       "        vertical-align: top;\n",
       "    }\n",
       "\n",
       "    .dataframe thead th {\n",
       "        text-align: right;\n",
       "    }\n",
       "</style>\n",
       "<table border=\"1\" class=\"dataframe\">\n",
       "  <thead>\n",
       "    <tr style=\"text-align: right;\">\n",
       "      <th></th>\n",
       "      <th>percentage_monologues</th>\n",
       "    </tr>\n",
       "  </thead>\n",
       "  <tbody>\n",
       "    <tr>\n",
       "      <th>Gore ot uma</th>\n",
       "      <td>26.67</td>\n",
       "    </tr>\n",
       "  </tbody>\n",
       "</table>\n",
       "</div>"
      ],
      "text/plain": [
       "             percentage_monologues\n",
       "Gore ot uma                  26.67"
      ]
     },
     "metadata": {},
     "output_type": "display_data"
    },
    {
     "data": {
      "text/html": [
       "<div>\n",
       "<style scoped>\n",
       "    .dataframe tbody tr th:only-of-type {\n",
       "        vertical-align: middle;\n",
       "    }\n",
       "\n",
       "    .dataframe tbody tr th {\n",
       "        vertical-align: top;\n",
       "    }\n",
       "\n",
       "    .dataframe thead th {\n",
       "        text-align: right;\n",
       "    }\n",
       "</style>\n",
       "<table border=\"1\" class=\"dataframe\">\n",
       "  <thead>\n",
       "    <tr style=\"text-align: right;\">\n",
       "      <th></th>\n",
       "      <th>percentage_monologues</th>\n",
       "    </tr>\n",
       "  </thead>\n",
       "  <tbody>\n",
       "    <tr>\n",
       "      <th>Kotzebue</th>\n",
       "      <td>32.56</td>\n",
       "    </tr>\n",
       "  </tbody>\n",
       "</table>\n",
       "</div>"
      ],
      "text/plain": [
       "          percentage_monologues\n",
       "Kotzebue                  32.56"
      ]
     },
     "metadata": {},
     "output_type": "display_data"
    }
   ],
   "source": [
    "summary('percentage_monologues')"
   ]
  },
  {
   "cell_type": "markdown",
   "metadata": {},
   "source": [
    "### Summary:\n",
    "- The Russian four-act comedies tended to have a higher mean percentage of monologues (25.01%) than the Russian five-act comedies (20.65%). They had a lower standard deviation (5.80% vs. 7.60%).\n",
    "- The Frencc four-act comedies had a slightly higher percentage of monologues (20.84%) than the French five-act comedies (20.35%). The four-act comedies also had a higher standard deviation of 9.02% than the five-act comedies (5.975).\n",
    "- The Russian four-act comedies had a higher mean percentage of monologues than Shakspeare (with a mean of 23.56%) and Goldoni (with a mean of 19.65%), but still much lower than the percentage of monologues in Kotzebue's comedy (32.56%).\n",
    "- The comedy with the largest percentage of monologues in our corpus (43.08%) was Casimir Bonjour's *Le Mari à bonnes fortunes, ou La Leçon* (1824).\n",
    "- *Gore ot uma* with 26.67% of monologues was slightly above the mean for the Russian four-act comedies (25.01%)"
   ]
  },
  {
   "cell_type": "markdown",
   "metadata": {},
   "source": [
    "### The Coefficient of Unused Dramatic Characters"
   ]
  },
  {
   "cell_type": "code",
   "execution_count": 39,
   "metadata": {},
   "outputs": [
    {
     "data": {
      "image/png": "[encoded data removed]",
      "text/plain": [
       "<Figure size 720x504 with 1 Axes>"
      ]
     },
     "metadata": {
      "needs_background": "light"
     },
     "output_type": "display_data"
    }
   ],
   "source": [
    "scatter('coefficient_unused', 'The Coefficient of Unused Dramatic Characters')"
   ]
  },
  {
   "cell_type": "code",
   "execution_count": 40,
   "metadata": {},
   "outputs": [
    {
     "data": {
      "text/html": [
       "<div>\n",
       "<style scoped>\n",
       "    .dataframe tbody tr th:only-of-type {\n",
       "        vertical-align: middle;\n",
       "    }\n",
       "\n",
       "    .dataframe tbody tr th {\n",
       "        vertical-align: top;\n",
       "    }\n",
       "\n",
       "    .dataframe thead tr th {\n",
       "        text-align: left;\n",
       "    }\n",
       "\n",
       "    .dataframe thead tr:last-of-type th {\n",
       "        text-align: right;\n",
       "    }\n",
       "</style>\n",
       "<table border=\"1\" class=\"dataframe\">\n",
       "  <thead>\n",
       "    <tr>\n",
       "      <th></th>\n",
       "      <th></th>\n",
       "      <th colspan=\"3\" halign=\"left\">coefficient_unused</th>\n",
       "    </tr>\n",
       "    <tr>\n",
       "      <th></th>\n",
       "      <th></th>\n",
       "      <th>mean</th>\n",
       "      <th>50%</th>\n",
       "      <th>std</th>\n",
       "    </tr>\n",
       "    <tr>\n",
       "      <th>source</th>\n",
       "      <th>num_acts</th>\n",
       "      <th></th>\n",
       "      <th></th>\n",
       "      <th></th>\n",
       "    </tr>\n",
       "  </thead>\n",
       "  <tbody>\n",
       "    <tr>\n",
       "      <th rowspan=\"2\" valign=\"top\">russian</th>\n",
       "      <th>4.0</th>\n",
       "      <td>32.53</td>\n",
       "      <td>36.77</td>\n",
       "      <td>12.98</td>\n",
       "    </tr>\n",
       "    <tr>\n",
       "      <th>5.0</th>\n",
       "      <td>21.40</td>\n",
       "      <td>23.64</td>\n",
       "      <td>9.95</td>\n",
       "    </tr>\n",
       "    <tr>\n",
       "      <th rowspan=\"2\" valign=\"top\">french</th>\n",
       "      <th>4.0</th>\n",
       "      <td>13.00</td>\n",
       "      <td>18.25</td>\n",
       "      <td>10.41</td>\n",
       "    </tr>\n",
       "    <tr>\n",
       "      <th>5.0</th>\n",
       "      <td>13.74</td>\n",
       "      <td>11.94</td>\n",
       "      <td>8.25</td>\n",
       "    </tr>\n",
       "    <tr>\n",
       "      <th>goldoni</th>\n",
       "      <th>5.0</th>\n",
       "      <td>17.28</td>\n",
       "      <td>14.80</td>\n",
       "      <td>8.63</td>\n",
       "    </tr>\n",
       "    <tr>\n",
       "      <th>shakespeare</th>\n",
       "      <th>5.0</th>\n",
       "      <td>40.99</td>\n",
       "      <td>41.90</td>\n",
       "      <td>9.01</td>\n",
       "    </tr>\n",
       "  </tbody>\n",
       "</table>\n",
       "</div>"
      ],
      "text/plain": [
       "                     coefficient_unused              \n",
       "                                   mean    50%    std\n",
       "source      num_acts                                 \n",
       "russian     4.0                   32.53  36.77  12.98\n",
       "            5.0                   21.40  23.64   9.95\n",
       "french      4.0                   13.00  18.25  10.41\n",
       "            5.0                   13.74  11.94   8.25\n",
       "goldoni     5.0                   17.28  14.80   8.63\n",
       "shakespeare 5.0                   40.99  41.90   9.01"
      ]
     },
     "metadata": {},
     "output_type": "display_data"
    },
    {
     "data": {
      "text/html": [
       "<div>\n",
       "<style scoped>\n",
       "    .dataframe tbody tr th:only-of-type {\n",
       "        vertical-align: middle;\n",
       "    }\n",
       "\n",
       "    .dataframe tbody tr th {\n",
       "        vertical-align: top;\n",
       "    }\n",
       "\n",
       "    .dataframe thead th {\n",
       "        text-align: right;\n",
       "    }\n",
       "</style>\n",
       "<table border=\"1\" class=\"dataframe\">\n",
       "  <thead>\n",
       "    <tr style=\"text-align: right;\">\n",
       "      <th></th>\n",
       "      <th>coefficient_unused</th>\n",
       "    </tr>\n",
       "  </thead>\n",
       "  <tbody>\n",
       "    <tr>\n",
       "      <th>Gore ot uma</th>\n",
       "      <td>36.77</td>\n",
       "    </tr>\n",
       "  </tbody>\n",
       "</table>\n",
       "</div>"
      ],
      "text/plain": [
       "             coefficient_unused\n",
       "Gore ot uma               36.77"
      ]
     },
     "metadata": {},
     "output_type": "display_data"
    },
    {
     "data": {
      "text/html": [
       "<div>\n",
       "<style scoped>\n",
       "    .dataframe tbody tr th:only-of-type {\n",
       "        vertical-align: middle;\n",
       "    }\n",
       "\n",
       "    .dataframe tbody tr th {\n",
       "        vertical-align: top;\n",
       "    }\n",
       "\n",
       "    .dataframe thead th {\n",
       "        text-align: right;\n",
       "    }\n",
       "</style>\n",
       "<table border=\"1\" class=\"dataframe\">\n",
       "  <thead>\n",
       "    <tr style=\"text-align: right;\">\n",
       "      <th></th>\n",
       "      <th>coefficient_unused</th>\n",
       "    </tr>\n",
       "  </thead>\n",
       "  <tbody>\n",
       "    <tr>\n",
       "      <th>Kotzebue</th>\n",
       "      <td>6.59</td>\n",
       "    </tr>\n",
       "  </tbody>\n",
       "</table>\n",
       "</div>"
      ],
      "text/plain": [
       "          coefficient_unused\n",
       "Kotzebue                6.59"
      ]
     },
     "metadata": {},
     "output_type": "display_data"
    }
   ],
   "source": [
    "summary('coefficient_unused')"
   ]
  },
  {
   "cell_type": "markdown",
   "metadata": {},
   "source": [
    "### Summary:\n",
    "- The Russian four-act comedies had a higher mean coefficient of unused dramatic characters (32.53) than the Russian five-act comedies with the mean of 21.40. The standard deviation in the four-act comedies was also higher (12.98 vs. 9.95 in the five-act ones).\n",
    "- The French four-act comedies had a lower mean coefficient of unused dramatic characters (13 vs. 13.74), however, they had a higher median (18.25 vs. 11.94). They had a higher standard deviaiton of 10.41 vs. 8.25 for the French five-act comedies.\n",
    "- The Russian four-ac comedies had a higher mean percentage of unused dramatic characters than the French four-act coemdies (with a mean of 13).\n",
    "- The Russian four-act comedies had a higher mean coefficient of unused dramatic characters (32.53) than Goldoni (with a mean of 17.28) but lower than Shakespeare (40.99). They had a much higher coefficient of unused dramatic characters than Kotzebue with 6.59 who again was among the lower spectrum of the Neoclassical comedies.\n",
    "- *Gore ot uma* had the coefficient of unused dramatic characters of 36.77, which was above the mean for the Russian four-act comedies (32.53)."
   ]
  },
  {
   "cell_type": "markdown",
   "metadata": {},
   "source": [
    "### The Percentage of Discontinuous Scenes"
   ]
  },
  {
   "cell_type": "code",
   "execution_count": 41,
   "metadata": {},
   "outputs": [
    {
     "data": {
      "image/png": "[encoded data removed]",
      "text/plain": [
       "<Figure size 720x504 with 1 Axes>"
      ]
     },
     "metadata": {
      "needs_background": "light"
     },
     "output_type": "display_data"
    }
   ],
   "source": [
    "scatter('discontinuous_scenes', 'The Percentage of Discontinuous Scenes')"
   ]
  },
  {
   "cell_type": "code",
   "execution_count": 42,
   "metadata": {},
   "outputs": [
    {
     "data": {
      "text/html": [
       "<div>\n",
       "<style scoped>\n",
       "    .dataframe tbody tr th:only-of-type {\n",
       "        vertical-align: middle;\n",
       "    }\n",
       "\n",
       "    .dataframe tbody tr th {\n",
       "        vertical-align: top;\n",
       "    }\n",
       "\n",
       "    .dataframe thead tr th {\n",
       "        text-align: left;\n",
       "    }\n",
       "\n",
       "    .dataframe thead tr:last-of-type th {\n",
       "        text-align: right;\n",
       "    }\n",
       "</style>\n",
       "<table border=\"1\" class=\"dataframe\">\n",
       "  <thead>\n",
       "    <tr>\n",
       "      <th></th>\n",
       "      <th></th>\n",
       "      <th colspan=\"3\" halign=\"left\">discontinuous_scenes</th>\n",
       "    </tr>\n",
       "    <tr>\n",
       "      <th></th>\n",
       "      <th></th>\n",
       "      <th>mean</th>\n",
       "      <th>50%</th>\n",
       "      <th>std</th>\n",
       "    </tr>\n",
       "    <tr>\n",
       "      <th>source</th>\n",
       "      <th>num_acts</th>\n",
       "      <th></th>\n",
       "      <th></th>\n",
       "      <th></th>\n",
       "    </tr>\n",
       "  </thead>\n",
       "  <tbody>\n",
       "    <tr>\n",
       "      <th rowspan=\"2\" valign=\"top\">russian</th>\n",
       "      <th>4.0</th>\n",
       "      <td>6.41</td>\n",
       "      <td>5.17</td>\n",
       "      <td>6.12</td>\n",
       "    </tr>\n",
       "    <tr>\n",
       "      <th>5.0</th>\n",
       "      <td>6.55</td>\n",
       "      <td>6.67</td>\n",
       "      <td>4.32</td>\n",
       "    </tr>\n",
       "    <tr>\n",
       "      <th rowspan=\"2\" valign=\"top\">french</th>\n",
       "      <th>4.0</th>\n",
       "      <td>6.46</td>\n",
       "      <td>7.14</td>\n",
       "      <td>1.68</td>\n",
       "    </tr>\n",
       "    <tr>\n",
       "      <th>5.0</th>\n",
       "      <td>5.83</td>\n",
       "      <td>5.88</td>\n",
       "      <td>2.71</td>\n",
       "    </tr>\n",
       "    <tr>\n",
       "      <th>goldoni</th>\n",
       "      <th>5.0</th>\n",
       "      <td>9.80</td>\n",
       "      <td>10.40</td>\n",
       "      <td>2.87</td>\n",
       "    </tr>\n",
       "    <tr>\n",
       "      <th>shakespeare</th>\n",
       "      <th>5.0</th>\n",
       "      <td>19.35</td>\n",
       "      <td>18.88</td>\n",
       "      <td>5.77</td>\n",
       "    </tr>\n",
       "  </tbody>\n",
       "</table>\n",
       "</div>"
      ],
      "text/plain": [
       "                     discontinuous_scenes             \n",
       "                                     mean    50%   std\n",
       "source      num_acts                                  \n",
       "russian     4.0                      6.41   5.17  6.12\n",
       "            5.0                      6.55   6.67  4.32\n",
       "french      4.0                      6.46   7.14  1.68\n",
       "            5.0                      5.83   5.88  2.71\n",
       "goldoni     5.0                      9.80  10.40  2.87\n",
       "shakespeare 5.0                     19.35  18.88  5.77"
      ]
     },
     "metadata": {},
     "output_type": "display_data"
    },
    {
     "data": {
      "text/html": [
       "<div>\n",
       "<style scoped>\n",
       "    .dataframe tbody tr th:only-of-type {\n",
       "        vertical-align: middle;\n",
       "    }\n",
       "\n",
       "    .dataframe tbody tr th {\n",
       "        vertical-align: top;\n",
       "    }\n",
       "\n",
       "    .dataframe thead th {\n",
       "        text-align: right;\n",
       "    }\n",
       "</style>\n",
       "<table border=\"1\" class=\"dataframe\">\n",
       "  <thead>\n",
       "    <tr style=\"text-align: right;\">\n",
       "      <th></th>\n",
       "      <th>discontinuous_scenes</th>\n",
       "    </tr>\n",
       "  </thead>\n",
       "  <tbody>\n",
       "    <tr>\n",
       "      <th>Gore ot uma</th>\n",
       "      <td>5.33</td>\n",
       "    </tr>\n",
       "  </tbody>\n",
       "</table>\n",
       "</div>"
      ],
      "text/plain": [
       "             discontinuous_scenes\n",
       "Gore ot uma                  5.33"
      ]
     },
     "metadata": {},
     "output_type": "display_data"
    },
    {
     "data": {
      "text/html": [
       "<div>\n",
       "<style scoped>\n",
       "    .dataframe tbody tr th:only-of-type {\n",
       "        vertical-align: middle;\n",
       "    }\n",
       "\n",
       "    .dataframe tbody tr th {\n",
       "        vertical-align: top;\n",
       "    }\n",
       "\n",
       "    .dataframe thead th {\n",
       "        text-align: right;\n",
       "    }\n",
       "</style>\n",
       "<table border=\"1\" class=\"dataframe\">\n",
       "  <thead>\n",
       "    <tr style=\"text-align: right;\">\n",
       "      <th></th>\n",
       "      <th>discontinuous_scenes</th>\n",
       "    </tr>\n",
       "  </thead>\n",
       "  <tbody>\n",
       "    <tr>\n",
       "      <th>Kotzebue</th>\n",
       "      <td>2.33</td>\n",
       "    </tr>\n",
       "  </tbody>\n",
       "</table>\n",
       "</div>"
      ],
      "text/plain": [
       "          discontinuous_scenes\n",
       "Kotzebue                  2.33"
      ]
     },
     "metadata": {},
     "output_type": "display_data"
    }
   ],
   "source": [
    "summary('discontinuous_scenes')"
   ]
  },
  {
   "cell_type": "markdown",
   "metadata": {},
   "source": [
    "### Summary:\n",
    "- The Russian four-act comedies had a lower mean percentage of discontinuous scenes (6.41%) than the Russian five-act comedies (6.55%). The four-act comedies had a higher standard deviation (6.12% vs. 4.32% for the five-act comedies).\n",
    "- The French four-act comedies had a higher mean percentage of discontinuous scenes (6.46%) than the French five-act comedies (5.83%). They had a lower standard deviation (1.68% vs. 2.71% for the French five-act comedies). \n",
    "- The Russian four-act comedies had a lower mean percentage of discontinuous scenes than the French four-act comedies (6.46%), Goldoni (with a mean of 9.80%), and Shakespeare (19.35%). They had a higher mean percentage of discontinuous scenes than the French five-act comedies (5.83%) and Kotzebue (2.33%).\n",
    "- *Gore ot uma* had 5.33% of discontinous scenes, which was below the mean for the Russian four-act comedies."
   ]
  },
  {
   "cell_type": "markdown",
   "metadata": {},
   "source": [
    "## Conclusions:\n",
    "1. Based on all features, except the percentage of polylogues and the percentage of discontinuous scenes, the Russian four-act comedies had higher mean values than the Russian five-act comedies.\n",
    "2. For all features, except for the percentage of discontinuous scenes, the Russian four-act comedies had higher mean values than the French four-act comedies.\n",
    "3. Based on some features, including the number of dramatic characters, the standard range of the number of speaking characters, the percentage of monologues, and the percentage of discontinuous scenes, the French four-act comedies had higher mean values than the French five-act comedies. The opposite was true for such features as the mobility coefficient, the percentage of non-dialogues, the percentage of polylogues, and the coefficient of unused dramatic characters.\n",
    "3. The Russian four-act comedies had a higher mean number of dramatic characters, the mean standard range of the number of speaking characters, the percentage of non-dialogues, and the percentage of polylogues than the mean for Shakespeare. They had a lower mean mobility coefficient, the percentage of polylogues, the percentage of discontinuous scenes, and the coefficient of unused dramatic characters than Shakespeare. \n",
    "4. The Russian four-act comedies had lower mean values than Goldoni only for the percentage of polylogues and the percentage of discontinuous scenes.\n",
    "5. Aleksandr Griboedov's *Gore ot uma* had the maximum number of dramatic characters (42), which was the same as the maximum number of dramatic characters in Shakespeare's comedies (in *Cymbeline* (1609), yet, it was lower than some of Shakespeare's tragedies that would have over 50 dramatic characters. Among the Russian and French comedies, *Gore ot uma* had the second-highest mobility coefficient (94) after Petr Grigor’ev's *Zhiteiiskaia shkola* (1849) with 111. In fact, *Zhiteiiskaia shkola* exceeded even the maximum for Shakespeare's comedies (*Cymbeline* with the mobility coefficient of 107). *Gore ot uma* had the second highest standard range of the speaking characters in the Russian verse comedy (2.54), after Vasilii Kapnist's *Iabeda* (1794) with sigma of 2.77. *Gore ot uma* was below the mean for the Russian four-act comedies based on the percentage of non-dialogues, the percentage of polylogues, and the percetantage of discontinuous scenes. It was above the mean based on the percentage of monologues and the coefficient of unused dramatic characters.\n",
    "6. Based on its structural characteristics, Kotzebue's *Der Russe in Deutschland* (1806) was a conservative Neoclassical comedy.\n",
    "7. In the Russian five-act comedies of the 1810 and 1840s, two styles, the Neoclassical and Romantic, coexisted."
   ]
  },
  {
   "cell_type": "code",
   "execution_count": null,
   "metadata": {},
   "outputs": [],
   "source": []
  }
 ],
 "metadata": {
  "kernelspec": {
   "display_name": "Python 3",
   "language": "python",
   "name": "python3"
  },
  "language_info": {
   "codemirror_mode": {
    "name": "ipython",
    "version": 3
   },
   "file_extension": ".py",
   "mimetype": "text/x-python",
   "name": "python",
   "nbconvert_exporter": "python",
   "pygments_lexer": "ipython3",
   "version": "3.7.6"
  }
 },
 "nbformat": 4,
 "nbformat_minor": 4
}
