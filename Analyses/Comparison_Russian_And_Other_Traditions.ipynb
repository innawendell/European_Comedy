{
 "cells": [
  {
   "cell_type": "markdown",
   "metadata": {},
   "source": [
    "## Comparison of the Russian Five-Act Comedies in Verse With Other Traditions"
   ]
  },
  {
   "cell_type": "markdown",
   "metadata": {},
   "source": [
    "In this analysis, we will compare the Russian five-act comedy in verse with the French five-act comedy in verse as well as Shakespeare and Goldoni's five-act comedies in verse. \n",
    "\n",
    "We will compare the mean values of each feature. For the French tradition, we will rely on the periodization that we introduced in our previous analyses. However, we will need to split Period Two into two to be able to compare the French tradition with the contemporaneous Russian tradition:\n",
    "- Period One: from 1629 to 1695\n",
    "- Period Two First Part: from 1696 to 1774\n",
    "- Period Two Second Part: from 1775 to 1795.\n",
    "- Period Three: from 1796 to 1849.\n",
    "\n",
    "For the Russian tradition, we were unable to distinguish periods that would have significanltly different distribution of the examined features. However, for comparison with the French tradition, we will assume \"tentative\" periods:\n",
    "- Tentative Period One: 1775 to 1795\n",
    "- Tentative Period Two: 1796 to 1849.\n",
    "\n",
    "For Shakespeare, we will use the mean values of the features for his entire corpus of the five-act comedies in verse. For Goldoni, we will use the mean values of the features for the stratified 30% random sample of his comedies. \n",
    "\n",
    "The sampling is described in this notebook: https://github.com/innawendell/European_Comedy/blob/master/Analyses/Goldoni_Sample.ipynb. \n",
    "\n",
    "We will compare Goldoni with the contemporaneous French comedies and Russian comedies of the tentative Period One and Two since there were no Russian comedies written during the time when Goldoni was active.\n",
    "\n",
    "1. The comparison will be based on the following features:\n",
    "    - The number of dramatic characters;\n",
    "    - The mobility coefficient;\n",
    "    - The standard range of the number of speaking characters (sigma);\n",
    "    - The percentage of non-dialogues;\n",
    "    - The percentage of polylogues;\n",
    "    - The percentage of monologues;\n",
    "    - The coefficient of unused dramatic characters;\n",
    "    - The percentage of discontinuous scenes;\n",
    "    - The speech distribution.\n",
    "    \n",
    "2. We will produce open-form scores for each tradition by decade. These open-form scores will allow us to compare different traditions in terms of being more or less experimental."
   ]
  },
  {
   "cell_type": "code",
   "execution_count": 1,
   "metadata": {},
   "outputs": [],
   "source": [
    "import pandas as pd\n",
    "import numpy as np\n",
    "import matplotlib.pyplot as plt\n",
    "%matplotlib inline\n",
    "import seaborn as sns\n",
    "from os import listdir\n",
    "from scipy.stats import mannwhitneyu\n",
    "from sklearn.preprocessing import normalize\n",
    "import json\n",
    "import re"
   ]
  },
  {
   "cell_type": "code",
   "execution_count": 2,
   "metadata": {},
   "outputs": [],
   "source": [
    "# update the boundaries as we determined based on our hypothesis testing\n",
    "def determine_period(row):\n",
    "    if row <= 1695:\n",
    "        period = '1'\n",
    "    elif row >= 1696 and row <= 1774:\n",
    "        period = '2_a'\n",
    "    elif row >= 1775 and row <= 1795:\n",
    "        period = '2_b'\n",
    "    else:\n",
    "        period = '3'\n",
    "    \n",
    "    return period"
   ]
  },
  {
   "cell_type": "code",
   "execution_count": 3,
   "metadata": {},
   "outputs": [],
   "source": [
    "def make_list(row):\n",
    "    speech_dist = []\n",
    "    for value in row[1:-1].split('\\n '):\n",
    "        speech_dist.append([int(num) for num in re.findall('[0-9]+', value)])\n",
    "        \n",
    "    return speech_dist"
   ]
  },
  {
   "cell_type": "code",
   "execution_count": 4,
   "metadata": {},
   "outputs": [],
   "source": [
    "def speech_distribution_by_period(period_df):\n",
    "    all_distributions = []\n",
    "    for row in period_df['speech_distribution']:\n",
    "        speech_dist_df = pd.DataFrame(row).T\n",
    "        # rename columns to make sure they start with 1 and not 0\n",
    "        speech_dist_df.columns = speech_dist_df.iloc[0, :]\n",
    "        # no need to include the variants as a row - they will be column names\n",
    "        only_counts_df = pd.DataFrame(speech_dist_df.iloc[1, :])\n",
    "        only_counts_df.columns = ['raw_numbers']\n",
    "        only_counts_df['percentage'] = only_counts_df['raw_numbers'] / only_counts_df.sum().values[0]\n",
    "        all_distributions.append(round(only_counts_df['percentage'], 4))\n",
    "        \n",
    "    period_df_dist = pd.concat(all_distributions, axis=1).fillna(0)\n",
    "    # take the mean for each period\n",
    "    mean_per_type = pd.DataFrame(period_df_dist.mean(axis=1)).T \n",
    "    mean_per_type = (mean_per_type * 100).round(2)\n",
    "    mean_per_type.index = ['percentage_of_scenes']\n",
    "    mean_per_type.index.name = 'number_of_speakers'\n",
    "    \n",
    "    return mean_per_type"
   ]
  },
  {
   "cell_type": "code",
   "execution_count": 5,
   "metadata": {},
   "outputs": [],
   "source": [
    "def sigma_iarkho(variants, weights):\n",
    "    \"\"\"\n",
    "    The function allows calculating standard range following iarkho's procedure.\n",
    "    Parameters:\n",
    "        variants - a list with distinct variants in the ascending order, e.g. [1, 2, 3, 4, 5]\n",
    "        weights - a list of weights corresponding to these variants, e.g. [20, 32, 18, 9, 1]\n",
    "    Returns:\n",
    "        sigma - standard range per iarkho\n",
    "    \"\"\"\n",
    "    weighted_mean_variants = np.average(variants, weights=weights)\n",
    "    differences_squared = [(variant - weighted_mean_variants)**2 for variant in variants]\n",
    "    weighted_mean_difference = np.average(differences_squared, weights=weights)\n",
    "    sigma = weighted_mean_difference**0.5\n",
    "\n",
    "    return sigma"
   ]
  },
  {
   "cell_type": "code",
   "execution_count": 6,
   "metadata": {},
   "outputs": [],
   "source": [
    "def coefficient_unused_dramatic_characters(data):\n",
    "    total_present = 0\n",
    "    total_non_speakers = 0\n",
    "    for act in data['play_summary'].keys():\n",
    "        for scene in data['play_summary'][act].keys():\n",
    "            # identify the raw number of non-speaking dramatic characters\n",
    "            num_non_speakers = len([item for item in data['play_summary'][act][scene].items() \n",
    "                                if (item[1] == 0  or item[1] == 'non_speaking') and item[0] not in ['num_utterances',\n",
    "                                                                   'num_speakers',\n",
    "                                                                   'perc_non_speakers']])\n",
    "            total_non_speakers += num_non_speakers\n",
    "            # calculate the total number of dramatic characters\n",
    "            total_present += (data['play_summary'][act][scene]['num_speakers'] + num_non_speakers)\n",
    "    coefficient_unused = (total_non_speakers / total_present ) * 100        \n",
    "    \n",
    "    return coefficient_unused"
   ]
  },
  {
   "cell_type": "code",
   "execution_count": 7,
   "metadata": {},
   "outputs": [],
   "source": [
    "def get_data(input_directory):\n",
    "    all_files = [f for f in listdir(input_directory) if f.count('.json') > 0]\n",
    "    dfs = []\n",
    "    for file in all_files:\n",
    "        with open(input_directory + '/' + file) as json_file:\n",
    "            data = json.load(json_file)\n",
    "            not_used = coefficient_unused_dramatic_characters(data)\n",
    "            df = pd.DataFrame([not_used], columns=['coefficient_unused'], index=[file.replace('.json','')])\n",
    "            dfs.append(df)\n",
    "            \n",
    "    features_df = pd.concat(dfs, axis=0, sort=False).round(2)\n",
    "    \n",
    "    return features_df"
   ]
  },
  {
   "cell_type": "code",
   "execution_count": 8,
   "metadata": {},
   "outputs": [],
   "source": [
    "def plot_speech_distribution(speech_dist_df, title):\n",
    "    plt.figure(figsize=(10, 5))\n",
    "    plt.title(title, fontsize=14)\n",
    "    sns.barplot(x=speech_dist_df.columns.tolist(), \n",
    "                y=speech_dist_df.values.tolist()[0])\n",
    "    plt.xlabel('Number of Speakers', fontsize=12)\n",
    "    plt.ylabel('Percentage of Scenes', fontsize=12)\n",
    "\n",
    "    plt.show()"
   ]
  },
  {
   "cell_type": "code",
   "execution_count": 9,
   "metadata": {},
   "outputs": [],
   "source": [
    "def interval_data(data_df, feature, other_tradition_df=None):\n",
    "    if other_tradition_df is not None:\n",
    "        overall_mean = round(other_tradition_df[feature].mean(), 2)\n",
    "        overall_std = round(other_tradition_df[feature].std(), 2)\n",
    "    else:\n",
    "        overall_mean = round(data_df[feature].mean(), 2)\n",
    "        overall_std = round(data_df[feature].std(), 2)\n",
    "    \n",
    "    statistics = ['mean'] \n",
    "    all_data = pd.DataFrame(data_df.groupby(['decades'])[feature].mean())\n",
    "    all_data.columns= ['mean']\n",
    "    all_data['z_score'] = (all_data['mean'] - overall_mean) / overall_std\n",
    "    \n",
    "    return  all_data"
   ]
  },
  {
   "cell_type": "code",
   "execution_count": 10,
   "metadata": {},
   "outputs": [],
   "source": [
    "def scores_calculation(df, with_z_score=True, other_tradition_df=None):\n",
    "    if with_z_score:\n",
    "        column = 'z_score'\n",
    "        sigma_col = column\n",
    "    else:\n",
    "        column = ['mean']\n",
    "        sigma_col = 'sigma_iarkho'       \n",
    "    summary = pd.DataFrame(interval_data(df, 'num_present_characters', other_tradition_df)[column])\n",
    "    summary.columns = ['num_present_characters']\n",
    "    # make sure the order of the playwrights is the same\n",
    "    \n",
    "    ind = summary.index\n",
    "    summary['mobility_coefficient'] = interval_data(df, 'mobility_coefficient', \n",
    "                                                   other_tradition_df).loc[ind, column]\n",
    "    summary['sigma_iarkho'] = interval_data(df, 'sigma_iarkho', \n",
    "                                           other_tradition_df).loc[ind, column]\n",
    "    summary['polylogues'] = interval_data(df, 'percentage_polylogues', \n",
    "                                          other_tradition_df).loc[ind, column]\n",
    "    summary['monologues'] = interval_data(df, 'percentage_monologues', \n",
    "                                          other_tradition_df).loc[ind, column]\n",
    "    summary = summary.round(2)\n",
    "    if with_z_score:\n",
    "        summary['monologues'] = summary['monologues'].apply(lambda x: -x)\n",
    "        summary['open_form_score'] = round(summary.apply(lambda x: x.mean(), axis=1), 2)\n",
    "        summary = summary.sort_values(by='open_form_score', ascending=False)\n",
    "  \n",
    "    return summary"
   ]
  },
  {
   "cell_type": "code",
   "execution_count": 11,
   "metadata": {},
   "outputs": [],
   "source": [
    "def report(dictionary):\n",
    "    dictionary = dict(sorted(dictionary.items(), key=lambda item: np.abs(item[1])))\n",
    "    for item in dictionary.items():\n",
    "        print('\\t' + item[0] + ':', item[1])\n",
    "    print('\\n')       "
   ]
  },
  {
   "cell_type": "code",
   "execution_count": 12,
   "metadata": {},
   "outputs": [],
   "source": [
    "def difference_russian(feature):\n",
    "    period_one = {}\n",
    "    period_two = {}\n",
    "    period_one['Russian tentative Period One and French Period One'] = round(russian_period_one[feature].mean() - \n",
    "                                                                               french_period_one[feature].mean(), 3)\n",
    "    period_one['Russian tentative Period One and French Period Two (First Part)'] = round(russian_period_one[feature].mean() - \n",
    "                                                                                        french_period_two_first_part[feature].mean(), 3)\n",
    "    period_one['Russian tentative Period One and French Period Two (Second Part)'] = round(russian_period_one[feature].mean() - \n",
    "                                                                                        french_period_two_second_part[feature].mean(), 3)\n",
    "    period_one['Russian tentative Period One and Goldoni'] = round(russian_period_one[feature].mean() -  \n",
    "                                                                               goldoni_df[feature].mean(), 3)\n",
    "    period_one['Russian tentative Period One and Shakespeare'] = round(russian_period_one[feature].mean() - \n",
    "                                                                                   shakespeare_df[feature].mean(), 3)\n",
    "\n",
    "    period_two['Russian tentative Period Two and French Period One'] = round(russian_period_two[feature].mean() -  \n",
    "                                                                                         french_period_one[feature].mean(), 3)\n",
    "    period_two['Russian tentative Period Two and French Period Two (First Part)'] = round(russian_period_two[feature].mean() -  \n",
    "                                                                                        french_period_two_first_part[feature].mean(), 3)\n",
    "    period_two['Russian tentative Period Two and French Period Two (Second Part)'] = round(russian_period_two[feature].mean() - \n",
    "                                                                                                       french_period_two_second_part[feature].mean(), 3)\n",
    "    period_two['Russian tentative Period Two and French Period Three'] = round(russian_period_two[feature].mean() - \n",
    "                                                                                           french_period_three[feature].mean(), 3)\n",
    "    period_two['Russian tentative Period Two and Goldoni'] = round(russian_period_two[feature].mean() - \n",
    "                                                                          goldoni_df[feature].mean(), 3)\n",
    "    period_two['Russian tentative Period Two and Shakespeare'] = round(russian_period_two[feature].mean() - \n",
    "                                                                             shakespeare_df[feature].mean(), 3)\n",
    "    \n",
    "    return period_one, period_two"
   ]
  },
  {
   "cell_type": "code",
   "execution_count": 13,
   "metadata": {},
   "outputs": [],
   "source": [
    "def difference_french(feature):\n",
    "    french = {}\n",
    "    french['French Period One and Shakespeare'] = round((french_period_one[feature].mean() - \n",
    "                                                                  shakespeare_df[feature].mean()), 3)\n",
    "    french['French Period Two (First Part) and Shakespeare'] = round((french_period_two_first_part[feature].mean() \n",
    "                                                                            - shakespeare_df[feature].mean()), 3)\n",
    "    french['French Period Two (Second Part) and Shakespeare'] = round((french_period_two_second_part[feature].mean() -  \n",
    "                                                                   shakespeare_df[feature]).mean(), 3)\n",
    "    french['French Period Three and Shakespeare'] = round(french_period_three[feature].mean() - \n",
    "                                                                 shakespeare_df[feature].mean(), 3)\n",
    "\n",
    "    french['French Period One and Goldoni'] = round((french_period_one[feature].mean() - goldoni_df[feature]).mean(), 3)\n",
    "    french['French Period Two (First Part) and Goldoni'] = round(french_period_two_first_part[feature].mean() -  \n",
    "                                                             goldoni_df[feature].mean(), 3)\n",
    "    french['French Comedies Between 1751 and 1759 and Goldoni'] = round(french_period_two_second_part[feature].mean() -  \n",
    "                                                                     goldoni_df[feature].mean(), 3)\n",
    "    french['French Period Three and Goldoni'] = round(french_period_three[feature].mean() -  goldoni_df[feature].mean(), 3)\n",
    "    \n",
    "    return french"
   ]
  },
  {
   "cell_type": "code",
   "execution_count": 14,
   "metadata": {},
   "outputs": [],
   "source": [
    "def difference_contrastive(feature):\n",
    "    cont = {}\n",
    "    cont['Shakespeare and Goldoni'] = round(goldoni_df[feature].mean() - shakespeare_df[feature].mean() , 3)\n",
    "    \n",
    "    return cont"
   ]
  },
  {
   "cell_type": "code",
   "execution_count": 15,
   "metadata": {},
   "outputs": [],
   "source": [
    "def difference_calculation(feature):\n",
    "    print(feature)\n",
    "    period_one, period_two = difference_russian(feature)\n",
    "    french = difference_french(feature)\n",
    "    contrastive = difference_contrastive(feature)  \n",
    "    report(period_one)\n",
    "    report(period_two)\n",
    "    report(french)\n",
    "    report(contrastive)"
   ]
  },
  {
   "cell_type": "code",
   "execution_count": 16,
   "metadata": {},
   "outputs": [],
   "source": [
    "def decade(n):\n",
    "    return (n + (10 - n) % 10) - 10"
   ]
  },
  {
   "cell_type": "markdown",
   "metadata": {},
   "source": [
    "### Part 1. Comparison of The French and Russian Five-Act Comedy in Verse"
   ]
  },
  {
   "cell_type": "markdown",
   "metadata": {},
   "source": [
    "### Load and Process The French Data"
   ]
  },
  {
   "cell_type": "code",
   "execution_count": 17,
   "metadata": {},
   "outputs": [],
   "source": [
    "# read the data\n",
    "french_data = pd.read_csv('../French_Comedies/Data/French_Comedies_Data.csv')\n",
    "\n",
    "# include only five act comedies and only the comedies that are not translations/adaptations \n",
    "french_original_comedies = french_data[(french_data['num_acts'] ==5)&\n",
    "                               (french_data['translation/adaptation/contrastive'] == 0)].copy()\n",
    "\n",
    "# rename column names for clarity\n",
    "french_original_comedies = french_original_comedies.rename(columns={'num_scenes_iarkho': 'mobility_coefficient', \n",
    "                                                 'percentage_non_duologues': 'percentage_non_dialogues',\n",
    "                                                  'percentage_above_two_speakers': 'percentage_polylogues',\n",
    "                                                 'percentage_scenes_with_discontinuous_change_characters': 'discontinuous_scenes'})\n",
    "# read the sample data\n",
    "french_sample_df = pd.read_csv('../French_Comedies/Data/French_Comedies_Data_Sample.csv')\n",
    "\n",
    "\n",
    "# exclude the comedies used for the sample analysis\n",
    "not_sample = french_original_comedies[~french_original_comedies['index'].isin(french_sample_df['index'])].copy()\n",
    "\n",
    "# sort by date\n",
    "french_sorted_comedies = not_sample.sort_values(by='date')\n",
    "\n",
    "# identify decades\n",
    "french_sorted_comedies['decades'] = french_sorted_comedies['date'].apply(decade)"
   ]
  },
  {
   "cell_type": "code",
   "execution_count": 18,
   "metadata": {},
   "outputs": [],
   "source": [
    "features = ['num_present_characters',\n",
    "            'mobility_coefficient', \n",
    "            'standard_range', \n",
    "            'percentage_non_dialogues',\n",
    "            'percentage_polylogues',\n",
    "            'percentage_monologues',\n",
    "             'coefficient_unused',\n",
    "             'discontinuous_scenes']"
   ]
  },
  {
   "cell_type": "code",
   "execution_count": 19,
   "metadata": {},
   "outputs": [],
   "source": [
    "# calculate the coefficient of non-used dramatic characters\n",
    "unused_coefficient = get_data('../French_Comedies/Play_Jsons/')\n",
    "unused_coefficient['index'] = unused_coefficient.index.tolist()\n",
    "french_sorted_comedies = french_sorted_comedies.merge(unused_coefficient, on='index')"
   ]
  },
  {
   "cell_type": "code",
   "execution_count": 20,
   "metadata": {},
   "outputs": [],
   "source": [
    "french_sorted_comedies['period'] = french_sorted_comedies.date.apply(determine_period)"
   ]
  },
  {
   "cell_type": "markdown",
   "metadata": {},
   "source": [
    "#### Exploration of The Scenes with No Speakers "
   ]
  },
  {
   "cell_type": "markdown",
   "metadata": {},
   "source": [
    "Upon close examination of our data, we discovered that some comedies had scenes with no speakers. We decided to investigate this issue. \n",
    "\n",
    "Scenes with no Speakers in Period One:\n",
    "- N.Gillet de la Tessonnerie's *Le Campagnard* (1657) has a scene with no speakers (act 5 scene 1)\n",
    "- Marcel's *Le Mariage sans mariage* (1671) has two errors in the markup (act 5 scene 3.1 extra - Gusman is speaking, marked as non-speaking; in act 5 scene 6.1 extra is an erroneously distinguished scene with no speaking characters).\n",
    "- Noël Lebreton, sieur de Hauteroche's *Crispin musicien* (1674) has a scene with no speaking characters (act 1 scene 11).\n",
    "\n",
    "Scenes With No Speakers in Period Two (first part):\n",
    "- Bouy and Fétiq's comedy *La Famille ridicule, comédie messine* (1720) has an error in the markup (act 4 scene 9, Ourselle is speaking).\n",
    "\n",
    "Scenes With No Speakers in Period Two (second part):\n",
    "- Marc-Antoine-Jacques Rochon de Chabannes's *Le Jaloux* (1784) act 5 scene 5 has no speakers.\n",
    "\n",
    "Scenes With No Speakers in Period Three:\n",
    "- Ancien militaire's *L'Ami de cour* (1801) has an error in the markup (in act 3 scene 9 Floriman is speaking).\n",
    "- Th. Princeteau's *Constance ou l'indifférence vaincue* (1824) has an error in the markup (in act 1 has an incorrectly identified scene 5.1 extra with no speakers).\n",
    "\n",
    "This brief investigation showed that there were three comedies, N.Gillet de la Tessonnerie's *Le Campagnard* (1657), Noël Lebreton, sieur de Hauteroche's *Crispin musicien* (1674), Marc-Antoine-Jacques Rochon de Chabannes's *Le Jaloux* (1784), that indeed had scenes no speaking dramatic characters. Other comedies, Marcel's *Le Mariage sans mariage* (1671), Bouy and Fétiq's comedy *La Famille ridicule, comédie messine* (1720), Ancien militaire's *L'Ami de cour* (1801), and Th. Princeteau's *Constance ou l'indifférence vaincue* (1824) have errors in the markup. We addressed this issue by correcting the speech distribution in these comedies."
   ]
  },
  {
   "cell_type": "code",
   "execution_count": 21,
   "metadata": {},
   "outputs": [],
   "source": [
    "# correct speech distribution where we identified errors in the markup\n",
    "french_sorted_comedies.loc[64, 'speech_distribution'] = '[[1, 8], [2, 14], [3, 10], [4, 1], [5, 1], [6, 2]]'\n",
    "french_sorted_comedies.loc[97, 'speech_distribution'] = '[[1, 9], [2, 33], [3, 6], [4, 2]])'\n",
    "french_sorted_comedies.loc[178, 'speech_distribution'] = '[[1, 19], [2, 22], [3, 5], [4, 5], [5, 1]]'\n",
    "french_sorted_comedies.loc[208, 'speech_distribution'] = '[[1, 10], [2, 19], [3, 7], [4, 4], [5, 2], [7, 1], [8, 2]]'\n",
    "\n",
    "french_sorted_comedies['speech_distribution'] = french_sorted_comedies['speech_distribution'].apply(make_list)"
   ]
  },
  {
   "cell_type": "code",
   "execution_count": 22,
   "metadata": {},
   "outputs": [],
   "source": [
    "french_feature_one = french_sorted_comedies.groupby('period').describe().loc[:, 'num_present_characters'][['mean']]\n",
    "french_feature_two = french_sorted_comedies.groupby('period').describe().loc[:, 'mobility_coefficient'][['mean']]\n",
    "french_feature_three = french_sorted_comedies.groupby('period').describe().loc[:, 'sigma_iarkho'][['mean']]\n",
    "french_feature_four = french_sorted_comedies.groupby('period').describe().loc[:, 'percentage_non_dialogues'][['mean']]\n",
    "french_feature_five = french_sorted_comedies.groupby('period').describe().loc[:, 'percentage_polylogues'][['mean']]\n",
    "french_feature_six = french_sorted_comedies.groupby('period').describe().loc[:, 'percentage_monologues'][['mean']]\n",
    "french_feature_seven = french_sorted_comedies.groupby('period').describe().loc[:, 'coefficient_unused'][['mean']]\n",
    "french_feature_eight = french_sorted_comedies.groupby('period').describe().loc[:, 'discontinuous_scenes'][['mean']]\n",
    "\n",
    "french_summary_comedies = pd.concat([french_feature_one, \n",
    "                              french_feature_two, \n",
    "                              french_feature_three, \n",
    "                              french_feature_four, \n",
    "                              french_feature_five, \n",
    "                              french_feature_six,\n",
    "                              french_feature_seven,\n",
    "                              french_feature_eight], axis=1)\n",
    "french_summary_comedies.columns = features\n",
    "french_summary_comedies = french_summary_comedies.T\n",
    "french_summary_comedies.columns = ['Period One: 1629 to 1695', \n",
    "                                   'Period Two First Part: 1696 to 1774',\n",
    "                                   'Period Two Second Part: 1775 to 1795',\n",
    "                                   'Period Three: 1796 to 1849'\n",
    "                                  ]\n",
    "french_summary_comedies = french_summary_comedies.round(2)"
   ]
  },
  {
   "cell_type": "code",
   "execution_count": 23,
   "metadata": {},
   "outputs": [],
   "source": [
    "french_period_one = french_sorted_comedies[french_sorted_comedies.period == '1'].copy()\n",
    "french_period_two_first_part = french_sorted_comedies[french_sorted_comedies.period == '2_a'].copy()\n",
    "french_period_two_second_part = french_sorted_comedies[french_sorted_comedies.period == '2_b'].copy()\n",
    "french_period_three = french_sorted_comedies[french_sorted_comedies.period == '3'].copy()"
   ]
  },
  {
   "cell_type": "markdown",
   "metadata": {},
   "source": [
    "### Load and Process Russian Data"
   ]
  },
  {
   "cell_type": "code",
   "execution_count": 24,
   "metadata": {},
   "outputs": [],
   "source": [
    "# updated boundaries\n",
    "def determine_period_russian(row):\n",
    "    if row <= 1795:\n",
    "        period = 1\n",
    "    else:\n",
    "        period = 2\n",
    "    \n",
    "    return period"
   ]
  },
  {
   "cell_type": "code",
   "execution_count": 25,
   "metadata": {},
   "outputs": [],
   "source": [
    "russian_comedies = pd.read_csv('../Russian_Comedies/Data/Comedies_Raw_Data.csv')\n",
    "# sort by creation date\n",
    "russian_comedies_sorted = russian_comedies.sort_values(by='creation_date').copy()\n",
    "\n",
    "# select only original comedies and five act\n",
    "russian_original_comedies = russian_comedies_sorted[(russian_comedies_sorted['translation/adaptation'] == 0) & \n",
    "                                   (russian_comedies_sorted['num_acts'] == 5)].copy()\n",
    "# calculate the coefficient of non-used dramatic characters\n",
    "unused_coefficient = get_data('../Russian_Comedies/Play_Jsons/')\n",
    "unused_coefficient['index'] = unused_coefficient.index.tolist()\n",
    "russian_comedies_df = russian_original_comedies.merge(unused_coefficient, on='index')"
   ]
  },
  {
   "cell_type": "code",
   "execution_count": 26,
   "metadata": {},
   "outputs": [],
   "source": [
    "russian_comedies_df['period'] = russian_comedies_df['creation_date'].apply(determine_period_russian)\n",
    "russian_comedies_df['speech_distribution'] = russian_comedies_df['speech_distribution'].apply(make_list)\n",
    "# rename column names for clarity\n",
    "russian_comedies_df = russian_comedies_df.rename(columns={'num_scenes_iarkho': 'mobility_coefficient', \n",
    "                                                 'percentage_non_duologues': 'percentage_non_dialogues',\n",
    "                                                 'percentage_above_two_speakers': 'percentage_polylogues',\n",
    "                                                 'percentage_scenes_with_discontinuous_change_characters': 'discontinuous_scenes'})#,\n",
    "                                                 #'sigma_iarkho': 'standard_range'})\n",
    "russian_comedies_df['decades'] = russian_comedies_df.creation_date.apply(decade)"
   ]
  },
  {
   "cell_type": "code",
   "execution_count": 27,
   "metadata": {},
   "outputs": [],
   "source": [
    "russian_period_one = russian_comedies_df[russian_comedies_df.period == 1].copy()\n",
    "russian_period_two = russian_comedies_df[russian_comedies_df.period == 2].copy()"
   ]
  },
  {
   "cell_type": "code",
   "execution_count": 28,
   "metadata": {},
   "outputs": [],
   "source": [
    "russian_feature_one = russian_comedies_df.groupby('period').describe().loc[:, 'num_present_characters'][['mean']]\n",
    "russian_feature_two = russian_comedies_df.groupby('period').describe().loc[:, 'mobility_coefficient'][['mean']]\n",
    "russian_feature_three = russian_comedies_df.groupby('period').describe().loc[:, 'sigma_iarkho'][['mean']]\n",
    "russian_feature_four = russian_comedies_df.groupby('period').describe().loc[:, 'percentage_non_dialogues'][['mean']]\n",
    "russian_feature_five = russian_comedies_df.groupby('period').describe().loc[:, 'percentage_polylogues'][['mean']]\n",
    "russian_feature_six = russian_comedies_df.groupby('period').describe().loc[:, 'percentage_monologues'][['mean']]\n",
    "russian_feature_seven = russian_comedies_df.groupby('period').describe().loc[:, 'coefficient_unused'][['mean']]\n",
    "russian_feature_eight = russian_comedies_df.groupby('period').describe().loc[:, 'discontinuous_scenes'][['mean']]\n",
    "\n",
    "russian_summary_comedies = pd.concat([russian_feature_one, \n",
    "                              russian_feature_two, \n",
    "                              russian_feature_three, \n",
    "                              russian_feature_four, \n",
    "                              russian_feature_five, \n",
    "                              russian_feature_six,\n",
    "                              russian_feature_seven,\n",
    "                              russian_feature_eight], axis=1)\n",
    "russian_summary_comedies.columns = features\n",
    "russian_summary_comedies = russian_summary_comedies.T\n",
    "russian_summary_comedies.columns = ['tentative Period One: 1775 to 1795', \n",
    "                                    'tentative Period Two: 1796 to 1849']\n",
    "russian_summary_comedies = russian_summary_comedies.round(2)"
   ]
  },
  {
   "cell_type": "markdown",
   "metadata": {},
   "source": [
    "### French Comedies Five-Act Comedies in Verse"
   ]
  },
  {
   "cell_type": "code",
   "execution_count": 29,
   "metadata": {},
   "outputs": [
    {
     "data": {
      "text/html": [
       "<div>\n",
       "<style scoped>\n",
       "    .dataframe tbody tr th:only-of-type {\n",
       "        vertical-align: middle;\n",
       "    }\n",
       "\n",
       "    .dataframe tbody tr th {\n",
       "        vertical-align: top;\n",
       "    }\n",
       "\n",
       "    .dataframe thead th {\n",
       "        text-align: right;\n",
       "    }\n",
       "</style>\n",
       "<table border=\"1\" class=\"dataframe\">\n",
       "  <thead>\n",
       "    <tr style=\"text-align: right;\">\n",
       "      <th></th>\n",
       "      <th>Period Two Second Part: 1775 to 1795</th>\n",
       "      <th>Period Three: 1796 to 1849</th>\n",
       "    </tr>\n",
       "  </thead>\n",
       "  <tbody>\n",
       "    <tr>\n",
       "      <th>num_present_characters</th>\n",
       "      <td>11.27</td>\n",
       "      <td>11.96</td>\n",
       "    </tr>\n",
       "    <tr>\n",
       "      <th>mobility_coefficient</th>\n",
       "      <td>51.79</td>\n",
       "      <td>54.31</td>\n",
       "    </tr>\n",
       "    <tr>\n",
       "      <th>standard_range</th>\n",
       "      <td>1.14</td>\n",
       "      <td>1.33</td>\n",
       "    </tr>\n",
       "    <tr>\n",
       "      <th>percentage_non_dialogues</th>\n",
       "      <td>53.73</td>\n",
       "      <td>58.12</td>\n",
       "    </tr>\n",
       "    <tr>\n",
       "      <th>percentage_polylogues</th>\n",
       "      <td>29.80</td>\n",
       "      <td>37.69</td>\n",
       "    </tr>\n",
       "    <tr>\n",
       "      <th>percentage_monologues</th>\n",
       "      <td>23.87</td>\n",
       "      <td>20.35</td>\n",
       "    </tr>\n",
       "    <tr>\n",
       "      <th>coefficient_unused</th>\n",
       "      <td>14.01</td>\n",
       "      <td>13.74</td>\n",
       "    </tr>\n",
       "    <tr>\n",
       "      <th>discontinuous_scenes</th>\n",
       "      <td>7.55</td>\n",
       "      <td>5.83</td>\n",
       "    </tr>\n",
       "  </tbody>\n",
       "</table>\n",
       "</div>"
      ],
      "text/plain": [
       "                          Period Two Second Part: 1775 to 1795  \\\n",
       "num_present_characters                                   11.27   \n",
       "mobility_coefficient                                     51.79   \n",
       "standard_range                                            1.14   \n",
       "percentage_non_dialogues                                 53.73   \n",
       "percentage_polylogues                                    29.80   \n",
       "percentage_monologues                                    23.87   \n",
       "coefficient_unused                                       14.01   \n",
       "discontinuous_scenes                                      7.55   \n",
       "\n",
       "                          Period Three: 1796 to 1849  \n",
       "num_present_characters                         11.96  \n",
       "mobility_coefficient                           54.31  \n",
       "standard_range                                  1.33  \n",
       "percentage_non_dialogues                       58.12  \n",
       "percentage_polylogues                          37.69  \n",
       "percentage_monologues                          20.35  \n",
       "coefficient_unused                             13.74  \n",
       "discontinuous_scenes                            5.83  "
      ]
     },
     "execution_count": 29,
     "metadata": {},
     "output_type": "execute_result"
    }
   ],
   "source": [
    "french_summary_comedies.iloc[:, 2:]"
   ]
  },
  {
   "cell_type": "markdown",
   "metadata": {},
   "source": [
    "### Russian Comedies Five-Act Comedies in Verse"
   ]
  },
  {
   "cell_type": "code",
   "execution_count": 30,
   "metadata": {},
   "outputs": [
    {
     "data": {
      "text/html": [
       "<div>\n",
       "<style scoped>\n",
       "    .dataframe tbody tr th:only-of-type {\n",
       "        vertical-align: middle;\n",
       "    }\n",
       "\n",
       "    .dataframe tbody tr th {\n",
       "        vertical-align: top;\n",
       "    }\n",
       "\n",
       "    .dataframe thead th {\n",
       "        text-align: right;\n",
       "    }\n",
       "</style>\n",
       "<table border=\"1\" class=\"dataframe\">\n",
       "  <thead>\n",
       "    <tr style=\"text-align: right;\">\n",
       "      <th></th>\n",
       "      <th>tentative Period One: 1775 to 1795</th>\n",
       "      <th>tentative Period Two: 1796 to 1849</th>\n",
       "    </tr>\n",
       "  </thead>\n",
       "  <tbody>\n",
       "    <tr>\n",
       "      <th>num_present_characters</th>\n",
       "      <td>11.50</td>\n",
       "      <td>14.70</td>\n",
       "    </tr>\n",
       "    <tr>\n",
       "      <th>mobility_coefficient</th>\n",
       "      <td>53.17</td>\n",
       "      <td>61.60</td>\n",
       "    </tr>\n",
       "    <tr>\n",
       "      <th>standard_range</th>\n",
       "      <td>1.48</td>\n",
       "      <td>1.54</td>\n",
       "    </tr>\n",
       "    <tr>\n",
       "      <th>percentage_non_dialogues</th>\n",
       "      <td>59.94</td>\n",
       "      <td>60.64</td>\n",
       "    </tr>\n",
       "    <tr>\n",
       "      <th>percentage_polylogues</th>\n",
       "      <td>38.11</td>\n",
       "      <td>39.68</td>\n",
       "    </tr>\n",
       "    <tr>\n",
       "      <th>percentage_monologues</th>\n",
       "      <td>21.84</td>\n",
       "      <td>20.65</td>\n",
       "    </tr>\n",
       "    <tr>\n",
       "      <th>coefficient_unused</th>\n",
       "      <td>19.04</td>\n",
       "      <td>21.40</td>\n",
       "    </tr>\n",
       "    <tr>\n",
       "      <th>discontinuous_scenes</th>\n",
       "      <td>6.05</td>\n",
       "      <td>6.55</td>\n",
       "    </tr>\n",
       "  </tbody>\n",
       "</table>\n",
       "</div>"
      ],
      "text/plain": [
       "                          tentative Period One: 1775 to 1795  \\\n",
       "num_present_characters                                 11.50   \n",
       "mobility_coefficient                                   53.17   \n",
       "standard_range                                          1.48   \n",
       "percentage_non_dialogues                               59.94   \n",
       "percentage_polylogues                                  38.11   \n",
       "percentage_monologues                                  21.84   \n",
       "coefficient_unused                                     19.04   \n",
       "discontinuous_scenes                                    6.05   \n",
       "\n",
       "                          tentative Period Two: 1796 to 1849  \n",
       "num_present_characters                                 14.70  \n",
       "mobility_coefficient                                   61.60  \n",
       "standard_range                                          1.54  \n",
       "percentage_non_dialogues                               60.64  \n",
       "percentage_polylogues                                  39.68  \n",
       "percentage_monologues                                  20.65  \n",
       "coefficient_unused                                     21.40  \n",
       "discontinuous_scenes                                    6.55  "
      ]
     },
     "execution_count": 30,
     "metadata": {},
     "output_type": "execute_result"
    }
   ],
   "source": [
    "russian_summary_comedies"
   ]
  },
  {
   "cell_type": "markdown",
   "metadata": {},
   "source": [
    "### Summary:\n",
    "#### The Russian tentative Period One (1775 to 1795) vs. the second part of the French Period Two (1775 to 1795):\n",
    "1. In the Russian tentative Period One (1775 to 1794), most of the mean values of the features were higher than the those in the second part of the French Period Two (1775 to 1795):\n",
    "    - The number of dramatic characters (11.50 in Russian vs. 11.27 in French);\n",
    "    - The mobility coefficient (53.17 in Russian vs. 51.79 in French);\n",
    "    - The standard range (1.48 in Russian vs. 1.14 in French);\n",
    "    - The percentage of non-dialogues (59.94% vs. 53.73%);\n",
    "    - The percentage of polylogues (38.11% vs. 29.80%).\n",
    "    - The coefficient of unused dramatic characters (19.04% vs. 14.01%).\n",
    "2. In the case of two features, the mean percentage of monologues and the percentage of discontinuous scenes, the Russian comedies had lower mean values than the French ones:\n",
    "    - The percentage of monologues (21.84% in Russian vs. 23.87% in French);\n",
    "    - The percentage of discontinuous scenes (6.05% in Russian vs. 7.55% in French).\n",
    "    \n",
    "#### The Russian tentative Period Two (1795 - 1849) vs. the French Period Three (1796 to 1849):\n",
    "1. In the Russian tentative Period Two, all of the examined features had higher mean values than those in the French Period Three:\n",
    "    - The number of dramatic characters (14.70 in Russian vs. 11.96 in French);\n",
    "    - The mobility coefficient (61.60 vs. 54.31);\n",
    "    - The standard range (1.54 vs. 1.33);\n",
    "    - The percentage of non-dialogues (60.64% vs. 58.12%);\n",
    "    - The percentage of polylogues (39.68% vs. 37.69%);\n",
    "    - The percentage of monologues (20.65% vs. 20.35%);\n",
    "    - The coefficient of unused dramatic characters (21.40 vs.13.74);\n",
    "    - The percentage of discontinuous scenes (6.55% vs. 5.83%)."
   ]
  },
  {
   "cell_type": "code",
   "execution_count": 31,
   "metadata": {},
   "outputs": [
    {
     "data": {
      "text/html": [
       "<div>\n",
       "<style scoped>\n",
       "    .dataframe tbody tr th:only-of-type {\n",
       "        vertical-align: middle;\n",
       "    }\n",
       "\n",
       "    .dataframe tbody tr th {\n",
       "        vertical-align: top;\n",
       "    }\n",
       "\n",
       "    .dataframe thead th {\n",
       "        text-align: right;\n",
       "    }\n",
       "</style>\n",
       "<table border=\"1\" class=\"dataframe\">\n",
       "  <thead>\n",
       "    <tr style=\"text-align: right;\">\n",
       "      <th></th>\n",
       "      <th>Period One: 1629 to 1695</th>\n",
       "      <th>Period Two First Part: 1696 to 1774</th>\n",
       "    </tr>\n",
       "  </thead>\n",
       "  <tbody>\n",
       "    <tr>\n",
       "      <th>num_present_characters</th>\n",
       "      <td>11.81</td>\n",
       "      <td>10.28</td>\n",
       "    </tr>\n",
       "    <tr>\n",
       "      <th>mobility_coefficient</th>\n",
       "      <td>41.82</td>\n",
       "      <td>48.29</td>\n",
       "    </tr>\n",
       "    <tr>\n",
       "      <th>standard_range</th>\n",
       "      <td>1.23</td>\n",
       "      <td>1.12</td>\n",
       "    </tr>\n",
       "    <tr>\n",
       "      <th>percentage_non_dialogues</th>\n",
       "      <td>56.11</td>\n",
       "      <td>53.37</td>\n",
       "    </tr>\n",
       "    <tr>\n",
       "      <th>percentage_polylogues</th>\n",
       "      <td>42.81</td>\n",
       "      <td>32.26</td>\n",
       "    </tr>\n",
       "    <tr>\n",
       "      <th>percentage_monologues</th>\n",
       "      <td>13.18</td>\n",
       "      <td>21.07</td>\n",
       "    </tr>\n",
       "    <tr>\n",
       "      <th>coefficient_unused</th>\n",
       "      <td>12.17</td>\n",
       "      <td>12.03</td>\n",
       "    </tr>\n",
       "    <tr>\n",
       "      <th>discontinuous_scenes</th>\n",
       "      <td>13.37</td>\n",
       "      <td>6.49</td>\n",
       "    </tr>\n",
       "  </tbody>\n",
       "</table>\n",
       "</div>"
      ],
      "text/plain": [
       "                          Period One: 1629 to 1695  \\\n",
       "num_present_characters                       11.81   \n",
       "mobility_coefficient                         41.82   \n",
       "standard_range                                1.23   \n",
       "percentage_non_dialogues                     56.11   \n",
       "percentage_polylogues                        42.81   \n",
       "percentage_monologues                        13.18   \n",
       "coefficient_unused                           12.17   \n",
       "discontinuous_scenes                         13.37   \n",
       "\n",
       "                          Period Two First Part: 1696 to 1774  \n",
       "num_present_characters                                  10.28  \n",
       "mobility_coefficient                                    48.29  \n",
       "standard_range                                           1.12  \n",
       "percentage_non_dialogues                                53.37  \n",
       "percentage_polylogues                                   32.26  \n",
       "percentage_monologues                                   21.07  \n",
       "coefficient_unused                                      12.03  \n",
       "discontinuous_scenes                                     6.49  "
      ]
     },
     "execution_count": 31,
     "metadata": {},
     "output_type": "execute_result"
    }
   ],
   "source": [
    "french_summary_comedies.iloc[:, :2]"
   ]
  },
  {
   "cell_type": "markdown",
   "metadata": {},
   "source": [
    "### Comparison:\n",
    "####  The Russian tentative Period One (1775 to 1795) vs. the first part of the French Period Two (1696 to 1774):\n",
    "1.  The mean values of almost all features were higher in the Russian tentative Period One as compared to the first part of the French Period Two.\n",
    "    - The number of dramatic characters (11.50 in Russian vs. 10.28 in French);\n",
    "    - The mobility coefficient (53.17 in Russian vs. 48.29 in French);\n",
    "    - The standard range (1.48 in Russian vs. 1.12 in French);\n",
    "    - The percentage of non-dialogues (59.94% vs. 53.37%);\n",
    "    - The percentage of polylogues (38.11% vs. 32.26%);\n",
    "    - The percentage of monologues (21.84% in Russian vs. 21.07% in French);\n",
    "    - The coefficient of unused dramatic characters (19.04% vs. 12.03%).\n",
    "2. The mean percentage of discontinuous scenes was lower in the Russian tentative Period Two than in the first part of the French Period Two (6.05% in Russian vs.  6.49% in French).\n",
    "\n",
    "####  The Russian tentative Period One (1775 to 1795) vs. the French Period One (1629 to 1695):\n",
    "1. The mean values of some features were higher in the Russian tentative Period One as compared to the French Period One:\n",
    "    - The mobility coefficient (53.17 in Russian vs. 41.82);\n",
    "    - The standard range of the speaking characters (1.48 vs. 1.23);\n",
    "    - The percentage of non-dialogues (59.94% vs. 56.11%);\n",
    "    - The percentage of monologues (21.84% vs. 13.18%);\n",
    "    - The coefficient of unused dramatic characters (19.04 vs. 12.17).\n",
    "    \n",
    "2. Three features had lower mean values in the Russian tentative Period One than in the French Period One:\n",
    "    - The number of dramatic characters (11.50 in Russian vs. 11.81 in the French);\n",
    "    - The percentage of monologues (21.84% in the Russian vs. 13.18% in the French);\n",
    "    - The percentage of discontinuous scenes (6.05% in the Russian vs. 13.37% in the French);"
   ]
  },
  {
   "cell_type": "markdown",
   "metadata": {},
   "source": [
    "### Comparison By Decades"
   ]
  },
  {
   "cell_type": "code",
   "execution_count": 32,
   "metadata": {},
   "outputs": [],
   "source": [
    "columns = ['num_present_characters',\n",
    "            'mobility_coefficient', \n",
    "            'sigma_iarkho', \n",
    "            'percentage_non_dialogues',\n",
    "            'percentage_polylogues',\n",
    "            'percentage_monologues']\n",
    "             \n",
    "other_columns= ['coefficient_unused',\n",
    "               'discontinuous_scenes']"
   ]
  },
  {
   "cell_type": "markdown",
   "metadata": {},
   "source": [
    "### French Comedies: Mean Feature Values by Decades"
   ]
  },
  {
   "cell_type": "markdown",
   "metadata": {},
   "source": [
    "We also wanted to examine the mean feature values by decades. Based on this analysis, we discovered that the Russian comedies did not have higher mean values in all decades."
   ]
  },
  {
   "cell_type": "code",
   "execution_count": 33,
   "metadata": {},
   "outputs": [
    {
     "data": {
      "text/html": [
       "<div>\n",
       "<style scoped>\n",
       "    .dataframe tbody tr th:only-of-type {\n",
       "        vertical-align: middle;\n",
       "    }\n",
       "\n",
       "    .dataframe tbody tr th {\n",
       "        vertical-align: top;\n",
       "    }\n",
       "\n",
       "    .dataframe thead th {\n",
       "        text-align: right;\n",
       "    }\n",
       "</style>\n",
       "<table border=\"1\" class=\"dataframe\">\n",
       "  <thead>\n",
       "    <tr style=\"text-align: right;\">\n",
       "      <th></th>\n",
       "      <th>num_present_characters</th>\n",
       "      <th>mobility_coefficient</th>\n",
       "      <th>sigma_iarkho</th>\n",
       "      <th>percentage_non_dialogues</th>\n",
       "      <th>percentage_polylogues</th>\n",
       "      <th>percentage_monologues</th>\n",
       "    </tr>\n",
       "    <tr>\n",
       "      <th>decades</th>\n",
       "      <th></th>\n",
       "      <th></th>\n",
       "      <th></th>\n",
       "      <th></th>\n",
       "      <th></th>\n",
       "      <th></th>\n",
       "    </tr>\n",
       "  </thead>\n",
       "  <tbody>\n",
       "    <tr>\n",
       "      <th>1620</th>\n",
       "      <td>8.00</td>\n",
       "      <td>39.00</td>\n",
       "      <td>0.91</td>\n",
       "      <td>53.85</td>\n",
       "      <td>23.08</td>\n",
       "      <td>30.77</td>\n",
       "    </tr>\n",
       "    <tr>\n",
       "      <th>1630</th>\n",
       "      <td>11.08</td>\n",
       "      <td>36.58</td>\n",
       "      <td>1.26</td>\n",
       "      <td>54.99</td>\n",
       "      <td>35.34</td>\n",
       "      <td>19.65</td>\n",
       "    </tr>\n",
       "    <tr>\n",
       "      <th>1640</th>\n",
       "      <td>10.50</td>\n",
       "      <td>41.64</td>\n",
       "      <td>1.24</td>\n",
       "      <td>53.96</td>\n",
       "      <td>43.47</td>\n",
       "      <td>10.50</td>\n",
       "    </tr>\n",
       "    <tr>\n",
       "      <th>1650</th>\n",
       "      <td>12.75</td>\n",
       "      <td>38.60</td>\n",
       "      <td>1.30</td>\n",
       "      <td>58.63</td>\n",
       "      <td>48.94</td>\n",
       "      <td>9.51</td>\n",
       "    </tr>\n",
       "    <tr>\n",
       "      <th>1660</th>\n",
       "      <td>10.29</td>\n",
       "      <td>44.41</td>\n",
       "      <td>1.18</td>\n",
       "      <td>55.78</td>\n",
       "      <td>42.56</td>\n",
       "      <td>13.22</td>\n",
       "    </tr>\n",
       "    <tr>\n",
       "      <th>1670</th>\n",
       "      <td>12.50</td>\n",
       "      <td>46.30</td>\n",
       "      <td>1.25</td>\n",
       "      <td>56.54</td>\n",
       "      <td>42.23</td>\n",
       "      <td>13.66</td>\n",
       "    </tr>\n",
       "    <tr>\n",
       "      <th>1680</th>\n",
       "      <td>15.57</td>\n",
       "      <td>47.57</td>\n",
       "      <td>1.08</td>\n",
       "      <td>57.62</td>\n",
       "      <td>43.31</td>\n",
       "      <td>14.31</td>\n",
       "    </tr>\n",
       "    <tr>\n",
       "      <th>1690</th>\n",
       "      <td>11.86</td>\n",
       "      <td>52.29</td>\n",
       "      <td>1.19</td>\n",
       "      <td>54.24</td>\n",
       "      <td>34.33</td>\n",
       "      <td>19.91</td>\n",
       "    </tr>\n",
       "    <tr>\n",
       "      <th>1700</th>\n",
       "      <td>11.17</td>\n",
       "      <td>48.17</td>\n",
       "      <td>1.21</td>\n",
       "      <td>56.66</td>\n",
       "      <td>39.23</td>\n",
       "      <td>17.43</td>\n",
       "    </tr>\n",
       "    <tr>\n",
       "      <th>1710</th>\n",
       "      <td>11.00</td>\n",
       "      <td>52.50</td>\n",
       "      <td>1.13</td>\n",
       "      <td>50.68</td>\n",
       "      <td>31.16</td>\n",
       "      <td>19.02</td>\n",
       "    </tr>\n",
       "    <tr>\n",
       "      <th>1720</th>\n",
       "      <td>10.00</td>\n",
       "      <td>51.75</td>\n",
       "      <td>1.14</td>\n",
       "      <td>58.58</td>\n",
       "      <td>33.82</td>\n",
       "      <td>24.76</td>\n",
       "    </tr>\n",
       "    <tr>\n",
       "      <th>1730</th>\n",
       "      <td>9.77</td>\n",
       "      <td>48.85</td>\n",
       "      <td>1.02</td>\n",
       "      <td>52.82</td>\n",
       "      <td>29.50</td>\n",
       "      <td>23.32</td>\n",
       "    </tr>\n",
       "    <tr>\n",
       "      <th>1740</th>\n",
       "      <td>9.50</td>\n",
       "      <td>45.40</td>\n",
       "      <td>1.00</td>\n",
       "      <td>47.12</td>\n",
       "      <td>28.07</td>\n",
       "      <td>19.05</td>\n",
       "    </tr>\n",
       "    <tr>\n",
       "      <th>1750</th>\n",
       "      <td>11.00</td>\n",
       "      <td>43.80</td>\n",
       "      <td>1.23</td>\n",
       "      <td>54.96</td>\n",
       "      <td>35.71</td>\n",
       "      <td>19.25</td>\n",
       "    </tr>\n",
       "    <tr>\n",
       "      <th>1760</th>\n",
       "      <td>10.60</td>\n",
       "      <td>45.90</td>\n",
       "      <td>1.20</td>\n",
       "      <td>55.36</td>\n",
       "      <td>34.44</td>\n",
       "      <td>20.92</td>\n",
       "    </tr>\n",
       "    <tr>\n",
       "      <th>1770</th>\n",
       "      <td>10.75</td>\n",
       "      <td>46.88</td>\n",
       "      <td>1.01</td>\n",
       "      <td>48.32</td>\n",
       "      <td>20.73</td>\n",
       "      <td>27.58</td>\n",
       "    </tr>\n",
       "    <tr>\n",
       "      <th>1780</th>\n",
       "      <td>11.39</td>\n",
       "      <td>53.78</td>\n",
       "      <td>1.09</td>\n",
       "      <td>53.70</td>\n",
       "      <td>30.58</td>\n",
       "      <td>23.02</td>\n",
       "    </tr>\n",
       "    <tr>\n",
       "      <th>1790</th>\n",
       "      <td>11.42</td>\n",
       "      <td>53.08</td>\n",
       "      <td>1.28</td>\n",
       "      <td>57.69</td>\n",
       "      <td>36.03</td>\n",
       "      <td>21.66</td>\n",
       "    </tr>\n",
       "    <tr>\n",
       "      <th>1800</th>\n",
       "      <td>10.56</td>\n",
       "      <td>53.67</td>\n",
       "      <td>1.26</td>\n",
       "      <td>57.60</td>\n",
       "      <td>38.36</td>\n",
       "      <td>19.03</td>\n",
       "    </tr>\n",
       "    <tr>\n",
       "      <th>1810</th>\n",
       "      <td>10.57</td>\n",
       "      <td>52.00</td>\n",
       "      <td>1.29</td>\n",
       "      <td>59.71</td>\n",
       "      <td>40.39</td>\n",
       "      <td>19.32</td>\n",
       "    </tr>\n",
       "    <tr>\n",
       "      <th>1820</th>\n",
       "      <td>11.82</td>\n",
       "      <td>54.59</td>\n",
       "      <td>1.37</td>\n",
       "      <td>59.01</td>\n",
       "      <td>35.77</td>\n",
       "      <td>23.11</td>\n",
       "    </tr>\n",
       "    <tr>\n",
       "      <th>1830</th>\n",
       "      <td>19.00</td>\n",
       "      <td>57.20</td>\n",
       "      <td>1.50</td>\n",
       "      <td>58.66</td>\n",
       "      <td>38.84</td>\n",
       "      <td>19.82</td>\n",
       "    </tr>\n",
       "    <tr>\n",
       "      <th>1840</th>\n",
       "      <td>11.60</td>\n",
       "      <td>57.20</td>\n",
       "      <td>1.39</td>\n",
       "      <td>53.30</td>\n",
       "      <td>35.15</td>\n",
       "      <td>18.14</td>\n",
       "    </tr>\n",
       "  </tbody>\n",
       "</table>\n",
       "</div>"
      ],
      "text/plain": [
       "         num_present_characters  mobility_coefficient  sigma_iarkho  \\\n",
       "decades                                                               \n",
       "1620                       8.00                 39.00          0.91   \n",
       "1630                      11.08                 36.58          1.26   \n",
       "1640                      10.50                 41.64          1.24   \n",
       "1650                      12.75                 38.60          1.30   \n",
       "1660                      10.29                 44.41          1.18   \n",
       "1670                      12.50                 46.30          1.25   \n",
       "1680                      15.57                 47.57          1.08   \n",
       "1690                      11.86                 52.29          1.19   \n",
       "1700                      11.17                 48.17          1.21   \n",
       "1710                      11.00                 52.50          1.13   \n",
       "1720                      10.00                 51.75          1.14   \n",
       "1730                       9.77                 48.85          1.02   \n",
       "1740                       9.50                 45.40          1.00   \n",
       "1750                      11.00                 43.80          1.23   \n",
       "1760                      10.60                 45.90          1.20   \n",
       "1770                      10.75                 46.88          1.01   \n",
       "1780                      11.39                 53.78          1.09   \n",
       "1790                      11.42                 53.08          1.28   \n",
       "1800                      10.56                 53.67          1.26   \n",
       "1810                      10.57                 52.00          1.29   \n",
       "1820                      11.82                 54.59          1.37   \n",
       "1830                      19.00                 57.20          1.50   \n",
       "1840                      11.60                 57.20          1.39   \n",
       "\n",
       "         percentage_non_dialogues  percentage_polylogues  \\\n",
       "decades                                                    \n",
       "1620                        53.85                  23.08   \n",
       "1630                        54.99                  35.34   \n",
       "1640                        53.96                  43.47   \n",
       "1650                        58.63                  48.94   \n",
       "1660                        55.78                  42.56   \n",
       "1670                        56.54                  42.23   \n",
       "1680                        57.62                  43.31   \n",
       "1690                        54.24                  34.33   \n",
       "1700                        56.66                  39.23   \n",
       "1710                        50.68                  31.16   \n",
       "1720                        58.58                  33.82   \n",
       "1730                        52.82                  29.50   \n",
       "1740                        47.12                  28.07   \n",
       "1750                        54.96                  35.71   \n",
       "1760                        55.36                  34.44   \n",
       "1770                        48.32                  20.73   \n",
       "1780                        53.70                  30.58   \n",
       "1790                        57.69                  36.03   \n",
       "1800                        57.60                  38.36   \n",
       "1810                        59.71                  40.39   \n",
       "1820                        59.01                  35.77   \n",
       "1830                        58.66                  38.84   \n",
       "1840                        53.30                  35.15   \n",
       "\n",
       "         percentage_monologues  \n",
       "decades                         \n",
       "1620                     30.77  \n",
       "1630                     19.65  \n",
       "1640                     10.50  \n",
       "1650                      9.51  \n",
       "1660                     13.22  \n",
       "1670                     13.66  \n",
       "1680                     14.31  \n",
       "1690                     19.91  \n",
       "1700                     17.43  \n",
       "1710                     19.02  \n",
       "1720                     24.76  \n",
       "1730                     23.32  \n",
       "1740                     19.05  \n",
       "1750                     19.25  \n",
       "1760                     20.92  \n",
       "1770                     27.58  \n",
       "1780                     23.02  \n",
       "1790                     21.66  \n",
       "1800                     19.03  \n",
       "1810                     19.32  \n",
       "1820                     23.11  \n",
       "1830                     19.82  \n",
       "1840                     18.14  "
      ]
     },
     "execution_count": 33,
     "metadata": {},
     "output_type": "execute_result"
    }
   ],
   "source": [
    "french_sorted_comedies.groupby('decades').mean().loc[:, columns].round(2)"
   ]
  },
  {
   "cell_type": "code",
   "execution_count": 34,
   "metadata": {},
   "outputs": [
    {
     "data": {
      "text/html": [
       "<div>\n",
       "<style scoped>\n",
       "    .dataframe tbody tr th:only-of-type {\n",
       "        vertical-align: middle;\n",
       "    }\n",
       "\n",
       "    .dataframe tbody tr th {\n",
       "        vertical-align: top;\n",
       "    }\n",
       "\n",
       "    .dataframe thead th {\n",
       "        text-align: right;\n",
       "    }\n",
       "</style>\n",
       "<table border=\"1\" class=\"dataframe\">\n",
       "  <thead>\n",
       "    <tr style=\"text-align: right;\">\n",
       "      <th></th>\n",
       "      <th>coefficient_unused</th>\n",
       "      <th>discontinuous_scenes</th>\n",
       "    </tr>\n",
       "    <tr>\n",
       "      <th>decades</th>\n",
       "      <th></th>\n",
       "      <th></th>\n",
       "    </tr>\n",
       "  </thead>\n",
       "  <tbody>\n",
       "    <tr>\n",
       "      <th>1620</th>\n",
       "      <td>1.27</td>\n",
       "      <td>30.77</td>\n",
       "    </tr>\n",
       "    <tr>\n",
       "      <th>1630</th>\n",
       "      <td>5.64</td>\n",
       "      <td>25.30</td>\n",
       "    </tr>\n",
       "    <tr>\n",
       "      <th>1640</th>\n",
       "      <td>15.22</td>\n",
       "      <td>16.24</td>\n",
       "    </tr>\n",
       "    <tr>\n",
       "      <th>1650</th>\n",
       "      <td>11.22</td>\n",
       "      <td>12.11</td>\n",
       "    </tr>\n",
       "    <tr>\n",
       "      <th>1660</th>\n",
       "      <td>12.20</td>\n",
       "      <td>9.00</td>\n",
       "    </tr>\n",
       "    <tr>\n",
       "      <th>1670</th>\n",
       "      <td>13.99</td>\n",
       "      <td>7.92</td>\n",
       "    </tr>\n",
       "    <tr>\n",
       "      <th>1680</th>\n",
       "      <td>14.97</td>\n",
       "      <td>8.65</td>\n",
       "    </tr>\n",
       "    <tr>\n",
       "      <th>1690</th>\n",
       "      <td>18.07</td>\n",
       "      <td>5.76</td>\n",
       "    </tr>\n",
       "    <tr>\n",
       "      <th>1700</th>\n",
       "      <td>12.23</td>\n",
       "      <td>5.43</td>\n",
       "    </tr>\n",
       "    <tr>\n",
       "      <th>1710</th>\n",
       "      <td>12.60</td>\n",
       "      <td>9.21</td>\n",
       "    </tr>\n",
       "    <tr>\n",
       "      <th>1720</th>\n",
       "      <td>11.38</td>\n",
       "      <td>4.48</td>\n",
       "    </tr>\n",
       "    <tr>\n",
       "      <th>1730</th>\n",
       "      <td>10.97</td>\n",
       "      <td>6.79</td>\n",
       "    </tr>\n",
       "    <tr>\n",
       "      <th>1740</th>\n",
       "      <td>12.36</td>\n",
       "      <td>6.58</td>\n",
       "    </tr>\n",
       "    <tr>\n",
       "      <th>1750</th>\n",
       "      <td>12.69</td>\n",
       "      <td>3.34</td>\n",
       "    </tr>\n",
       "    <tr>\n",
       "      <th>1760</th>\n",
       "      <td>11.91</td>\n",
       "      <td>8.54</td>\n",
       "    </tr>\n",
       "    <tr>\n",
       "      <th>1770</th>\n",
       "      <td>9.74</td>\n",
       "      <td>10.79</td>\n",
       "    </tr>\n",
       "    <tr>\n",
       "      <th>1780</th>\n",
       "      <td>14.26</td>\n",
       "      <td>6.29</td>\n",
       "    </tr>\n",
       "    <tr>\n",
       "      <th>1790</th>\n",
       "      <td>15.62</td>\n",
       "      <td>6.75</td>\n",
       "    </tr>\n",
       "    <tr>\n",
       "      <th>1800</th>\n",
       "      <td>10.80</td>\n",
       "      <td>4.86</td>\n",
       "    </tr>\n",
       "    <tr>\n",
       "      <th>1810</th>\n",
       "      <td>15.34</td>\n",
       "      <td>6.09</td>\n",
       "    </tr>\n",
       "    <tr>\n",
       "      <th>1820</th>\n",
       "      <td>12.09</td>\n",
       "      <td>6.17</td>\n",
       "    </tr>\n",
       "    <tr>\n",
       "      <th>1830</th>\n",
       "      <td>16.27</td>\n",
       "      <td>5.53</td>\n",
       "    </tr>\n",
       "    <tr>\n",
       "      <th>1840</th>\n",
       "      <td>17.68</td>\n",
       "      <td>5.62</td>\n",
       "    </tr>\n",
       "  </tbody>\n",
       "</table>\n",
       "</div>"
      ],
      "text/plain": [
       "         coefficient_unused  discontinuous_scenes\n",
       "decades                                          \n",
       "1620                   1.27                 30.77\n",
       "1630                   5.64                 25.30\n",
       "1640                  15.22                 16.24\n",
       "1650                  11.22                 12.11\n",
       "1660                  12.20                  9.00\n",
       "1670                  13.99                  7.92\n",
       "1680                  14.97                  8.65\n",
       "1690                  18.07                  5.76\n",
       "1700                  12.23                  5.43\n",
       "1710                  12.60                  9.21\n",
       "1720                  11.38                  4.48\n",
       "1730                  10.97                  6.79\n",
       "1740                  12.36                  6.58\n",
       "1750                  12.69                  3.34\n",
       "1760                  11.91                  8.54\n",
       "1770                   9.74                 10.79\n",
       "1780                  14.26                  6.29\n",
       "1790                  15.62                  6.75\n",
       "1800                  10.80                  4.86\n",
       "1810                  15.34                  6.09\n",
       "1820                  12.09                  6.17\n",
       "1830                  16.27                  5.53\n",
       "1840                  17.68                  5.62"
      ]
     },
     "execution_count": 34,
     "metadata": {},
     "output_type": "execute_result"
    }
   ],
   "source": [
    "french_sorted_comedies.groupby('decades').mean().loc[:, other_columns].round(2)"
   ]
  },
  {
   "cell_type": "markdown",
   "metadata": {},
   "source": [
    "### Russian Comedies: : Mean Feature Values by Decades"
   ]
  },
  {
   "cell_type": "code",
   "execution_count": 35,
   "metadata": {},
   "outputs": [
    {
     "data": {
      "text/html": [
       "<div>\n",
       "<style scoped>\n",
       "    .dataframe tbody tr th:only-of-type {\n",
       "        vertical-align: middle;\n",
       "    }\n",
       "\n",
       "    .dataframe tbody tr th {\n",
       "        vertical-align: top;\n",
       "    }\n",
       "\n",
       "    .dataframe thead th {\n",
       "        text-align: right;\n",
       "    }\n",
       "</style>\n",
       "<table border=\"1\" class=\"dataframe\">\n",
       "  <thead>\n",
       "    <tr style=\"text-align: right;\">\n",
       "      <th></th>\n",
       "      <th>num_present_characters</th>\n",
       "      <th>mobility_coefficient</th>\n",
       "      <th>sigma_iarkho</th>\n",
       "      <th>percentage_non_dialogues</th>\n",
       "      <th>percentage_polylogues</th>\n",
       "      <th>percentage_monologues</th>\n",
       "    </tr>\n",
       "    <tr>\n",
       "      <th>decades</th>\n",
       "      <th></th>\n",
       "      <th></th>\n",
       "      <th></th>\n",
       "      <th></th>\n",
       "      <th></th>\n",
       "      <th></th>\n",
       "    </tr>\n",
       "  </thead>\n",
       "  <tbody>\n",
       "    <tr>\n",
       "      <th>1770</th>\n",
       "      <td>8.00</td>\n",
       "      <td>45.00</td>\n",
       "      <td>1.12</td>\n",
       "      <td>48.89</td>\n",
       "      <td>17.78</td>\n",
       "      <td>31.11</td>\n",
       "    </tr>\n",
       "    <tr>\n",
       "      <th>1780</th>\n",
       "      <td>12.33</td>\n",
       "      <td>55.67</td>\n",
       "      <td>1.16</td>\n",
       "      <td>59.38</td>\n",
       "      <td>34.87</td>\n",
       "      <td>24.51</td>\n",
       "    </tr>\n",
       "    <tr>\n",
       "      <th>1790</th>\n",
       "      <td>13.67</td>\n",
       "      <td>51.33</td>\n",
       "      <td>2.00</td>\n",
       "      <td>66.20</td>\n",
       "      <td>47.47</td>\n",
       "      <td>18.72</td>\n",
       "    </tr>\n",
       "    <tr>\n",
       "      <th>1800</th>\n",
       "      <td>13.00</td>\n",
       "      <td>59.00</td>\n",
       "      <td>1.42</td>\n",
       "      <td>49.15</td>\n",
       "      <td>23.73</td>\n",
       "      <td>25.42</td>\n",
       "    </tr>\n",
       "    <tr>\n",
       "      <th>1810</th>\n",
       "      <td>15.60</td>\n",
       "      <td>56.80</td>\n",
       "      <td>1.68</td>\n",
       "      <td>65.66</td>\n",
       "      <td>48.44</td>\n",
       "      <td>16.97</td>\n",
       "    </tr>\n",
       "    <tr>\n",
       "      <th>1820</th>\n",
       "      <td>9.00</td>\n",
       "      <td>63.00</td>\n",
       "      <td>1.57</td>\n",
       "      <td>53.97</td>\n",
       "      <td>25.40</td>\n",
       "      <td>28.57</td>\n",
       "    </tr>\n",
       "    <tr>\n",
       "      <th>1840</th>\n",
       "      <td>15.00</td>\n",
       "      <td>81.50</td>\n",
       "      <td>1.15</td>\n",
       "      <td>54.49</td>\n",
       "      <td>34.63</td>\n",
       "      <td>18.95</td>\n",
       "    </tr>\n",
       "  </tbody>\n",
       "</table>\n",
       "</div>"
      ],
      "text/plain": [
       "         num_present_characters  mobility_coefficient  sigma_iarkho  \\\n",
       "decades                                                               \n",
       "1770                       8.00                 45.00          1.12   \n",
       "1780                      12.33                 55.67          1.16   \n",
       "1790                      13.67                 51.33          2.00   \n",
       "1800                      13.00                 59.00          1.42   \n",
       "1810                      15.60                 56.80          1.68   \n",
       "1820                       9.00                 63.00          1.57   \n",
       "1840                      15.00                 81.50          1.15   \n",
       "\n",
       "         percentage_non_dialogues  percentage_polylogues  \\\n",
       "decades                                                    \n",
       "1770                        48.89                  17.78   \n",
       "1780                        59.38                  34.87   \n",
       "1790                        66.20                  47.47   \n",
       "1800                        49.15                  23.73   \n",
       "1810                        65.66                  48.44   \n",
       "1820                        53.97                  25.40   \n",
       "1840                        54.49                  34.63   \n",
       "\n",
       "         percentage_monologues  \n",
       "decades                         \n",
       "1770                     31.11  \n",
       "1780                     24.51  \n",
       "1790                     18.72  \n",
       "1800                     25.42  \n",
       "1810                     16.97  \n",
       "1820                     28.57  \n",
       "1840                     18.95  "
      ]
     },
     "execution_count": 35,
     "metadata": {},
     "output_type": "execute_result"
    }
   ],
   "source": [
    "russian_comedies_df.groupby('decades').mean().loc[:, columns].round(2)"
   ]
  },
  {
   "cell_type": "code",
   "execution_count": 36,
   "metadata": {},
   "outputs": [
    {
     "data": {
      "text/html": [
       "<div>\n",
       "<style scoped>\n",
       "    .dataframe tbody tr th:only-of-type {\n",
       "        vertical-align: middle;\n",
       "    }\n",
       "\n",
       "    .dataframe tbody tr th {\n",
       "        vertical-align: top;\n",
       "    }\n",
       "\n",
       "    .dataframe thead th {\n",
       "        text-align: right;\n",
       "    }\n",
       "</style>\n",
       "<table border=\"1\" class=\"dataframe\">\n",
       "  <thead>\n",
       "    <tr style=\"text-align: right;\">\n",
       "      <th></th>\n",
       "      <th>coefficient_unused</th>\n",
       "      <th>discontinuous_scenes</th>\n",
       "    </tr>\n",
       "    <tr>\n",
       "      <th>decades</th>\n",
       "      <th></th>\n",
       "      <th></th>\n",
       "    </tr>\n",
       "  </thead>\n",
       "  <tbody>\n",
       "    <tr>\n",
       "      <th>1770</th>\n",
       "      <td>12.84</td>\n",
       "      <td>6.67</td>\n",
       "    </tr>\n",
       "    <tr>\n",
       "      <th>1780</th>\n",
       "      <td>20.77</td>\n",
       "      <td>5.53</td>\n",
       "    </tr>\n",
       "    <tr>\n",
       "      <th>1790</th>\n",
       "      <td>21.31</td>\n",
       "      <td>10.02</td>\n",
       "    </tr>\n",
       "    <tr>\n",
       "      <th>1800</th>\n",
       "      <td>5.00</td>\n",
       "      <td>6.78</td>\n",
       "    </tr>\n",
       "    <tr>\n",
       "      <th>1810</th>\n",
       "      <td>26.53</td>\n",
       "      <td>6.65</td>\n",
       "    </tr>\n",
       "    <tr>\n",
       "      <th>1820</th>\n",
       "      <td>6.96</td>\n",
       "      <td>4.76</td>\n",
       "    </tr>\n",
       "    <tr>\n",
       "      <th>1840</th>\n",
       "      <td>22.26</td>\n",
       "      <td>1.86</td>\n",
       "    </tr>\n",
       "  </tbody>\n",
       "</table>\n",
       "</div>"
      ],
      "text/plain": [
       "         coefficient_unused  discontinuous_scenes\n",
       "decades                                          \n",
       "1770                  12.84                  6.67\n",
       "1780                  20.77                  5.53\n",
       "1790                  21.31                 10.02\n",
       "1800                   5.00                  6.78\n",
       "1810                  26.53                  6.65\n",
       "1820                   6.96                  4.76\n",
       "1840                  22.26                  1.86"
      ]
     },
     "execution_count": 36,
     "metadata": {},
     "output_type": "execute_result"
    }
   ],
   "source": [
    "russian_comedies_df.groupby('decades').mean().loc[1770:, other_columns].round(2)"
   ]
  },
  {
   "cell_type": "code",
   "execution_count": 37,
   "metadata": {},
   "outputs": [],
   "source": [
    "french_selected_decades = french_sorted_comedies.copy()\n",
    "french_selected_decades['source'] = 'French'\n",
    "russian_decades = russian_comedies_df.copy()\n",
    "russian_decades['source'] = 'Russian'\n",
    "combined_df = pd.concat([french_selected_decades, russian_decades])"
   ]
  },
  {
   "cell_type": "code",
   "execution_count": 38,
   "metadata": {},
   "outputs": [
    {
     "data": {
      "image/png": "[encoded data removed]",
      "text/plain": [
       "<Figure size 1080x504 with 1 Axes>"
      ]
     },
     "metadata": {
      "needs_background": "light"
     },
     "output_type": "display_data"
    }
   ],
   "source": [
    "plt.figure(figsize=(15, 7))\n",
    "plt.title('The Number of Dramatic Characters by Decades in The Russian and French Comedies', fontsize=14)\n",
    "sns.barplot(x=combined_df['decades'], y=combined_df['num_present_characters'], hue=combined_df['source'])\n",
    "plt.ylabel('Number of Dramatic Characters')\n",
    "plt.show()"
   ]
  },
  {
   "cell_type": "markdown",
   "metadata": {},
   "source": [
    "#### The Number of Dramatic Characters\n",
    "The mean value was higher in the Russian comedies in every decade except for these two decades:\n",
    "- In the 1770s, the mean value was 10.75 in French vs. 8 in Russian\n",
    "- In the 1820s, it was 11.82 in French vs. 9 in Russian. \n",
    "\n",
    "However, it is worth mentioning that older French comedies of the 1680s had a high mean number of dramatic characters (15.57). The French comedies of the 1830s had the highest mean number of dramatic characters (19). During this decade, there were no Russian five-act verse comedies."
   ]
  },
  {
   "cell_type": "code",
   "execution_count": 39,
   "metadata": {},
   "outputs": [
    {
     "data": {
      "image/png": "[encoded data removed]",
      "text/plain": [
       "<Figure size 1080x504 with 1 Axes>"
      ]
     },
     "metadata": {
      "needs_background": "light"
     },
     "output_type": "display_data"
    }
   ],
   "source": [
    "plt.figure(figsize=(15, 7))\n",
    "plt.title('The Mobility Coefficient by Decades in The Russian and French Comedies', fontsize=14)\n",
    "sns.barplot(x=combined_df['decades'], y=combined_df['mobility_coefficient'], hue=combined_df['source'])\n",
    "plt.ylabel('Mobility Coefficient')\n",
    "plt.show()"
   ]
  },
  {
   "cell_type": "code",
   "execution_count": 40,
   "metadata": {},
   "outputs": [
    {
     "data": {
      "text/html": [
       "<div>\n",
       "<style scoped>\n",
       "    .dataframe tbody tr th:only-of-type {\n",
       "        vertical-align: middle;\n",
       "    }\n",
       "\n",
       "    .dataframe tbody tr th {\n",
       "        vertical-align: top;\n",
       "    }\n",
       "\n",
       "    .dataframe thead th {\n",
       "        text-align: right;\n",
       "    }\n",
       "</style>\n",
       "<table border=\"1\" class=\"dataframe\">\n",
       "  <thead>\n",
       "    <tr style=\"text-align: right;\">\n",
       "      <th></th>\n",
       "      <th>title</th>\n",
       "      <th>last_name</th>\n",
       "      <th>first_name</th>\n",
       "      <th>creation_date</th>\n",
       "      <th>mobility_coefficient</th>\n",
       "    </tr>\n",
       "  </thead>\n",
       "  <tbody>\n",
       "    <tr>\n",
       "      <th>14</th>\n",
       "      <td>Novaia shkola muzhei</td>\n",
       "      <td>Zotov</td>\n",
       "      <td>Rafail</td>\n",
       "      <td>1842</td>\n",
       "      <td>52</td>\n",
       "    </tr>\n",
       "    <tr>\n",
       "      <th>15</th>\n",
       "      <td>Zhiteiiskaia shkola</td>\n",
       "      <td>Grigor’ev</td>\n",
       "      <td>Petr</td>\n",
       "      <td>1849</td>\n",
       "      <td>111</td>\n",
       "    </tr>\n",
       "  </tbody>\n",
       "</table>\n",
       "</div>"
      ],
      "text/plain": [
       "                   title   last_name first_name  creation_date  \\\n",
       "14  Novaia shkola muzhei       Zotov     Rafail           1842   \n",
       "15   Zhiteiiskaia shkola  Grigor’ev        Petr           1849   \n",
       "\n",
       "    mobility_coefficient  \n",
       "14                    52  \n",
       "15                   111  "
      ]
     },
     "execution_count": 40,
     "metadata": {},
     "output_type": "execute_result"
    }
   ],
   "source": [
    "russian_comedies_df[russian_comedies_df.decades == 1840][['title', \n",
    "                                                          'last_name', \n",
    "                                                          'first_name', \n",
    "                                                          'creation_date', \n",
    "                                                          'mobility_coefficient']]"
   ]
  },
  {
   "cell_type": "markdown",
   "metadata": {},
   "source": [
    "#### The Mobility Coefficient\n",
    "The mean mobility coefficient was slightly higher in the Russian comedies in every decade except for two decades:\n",
    "- In the 1770s, 46.88 in French vs. 45 in Russian\n",
    "- In the 1790s, 53.08 in French vs. 51.33 in Russian.\n",
    "\n",
    "The mean mobility coefficient in the Russian comedies of the 1840s was much higher than the corresponding French: 81.5 vs. 57.2. More investigation showed that there were two Russian five-act verse comedies in the 1840s: Rafail Zotov's *Novaia shkola muzhei* (1842) that had a reasonble mobility coefficient (52) and Petr Grigor’ev's *Zhiteiiskaia shkola* (1849) that had an extremely high mobility coefficient of 111."
   ]
  },
  {
   "cell_type": "code",
   "execution_count": 41,
   "metadata": {},
   "outputs": [
    {
     "data": {
      "image/png": "[encoded data removed]",
      "text/plain": [
       "<Figure size 1080x504 with 1 Axes>"
      ]
     },
     "metadata": {
      "needs_background": "light"
     },
     "output_type": "display_data"
    }
   ],
   "source": [
    "plt.figure(figsize=(15, 7))\n",
    "plt.title('The Standard Range by Decades in The Russian and French Comedies', fontsize=14)\n",
    "sns.barplot(x=combined_df['decades'], y=combined_df['sigma_iarkho'], hue=combined_df['source'])\n",
    "plt.ylabel('Standard Range')\n",
    "plt.show()"
   ]
  },
  {
   "cell_type": "markdown",
   "metadata": {},
   "source": [
    "#### The Standard Range of The Speaking Characters\n",
    "The standard range of the number of speaking characters: the mean value was higher in the Russian comedies of every decade except for the 1840s, 1.39 in French vs. 1.15 in Russian. The Russian five-act verse comedies of the 1770s (1.12) and 1780s (1.16) had a higher sigma than the French comedies of the same decaces. However, the French comedies of the preceding decades had higher sigmas (e.g., 1.3 in the 1650s, 1.26 in the 1630s, 1.25 in the 1670s, 1.24 in the 1640s, 1.21 in the 1700s, 1.23 in the 1750s, and 1.20 in the 1760s."
   ]
  },
  {
   "cell_type": "code",
   "execution_count": 42,
   "metadata": {},
   "outputs": [
    {
     "data": {
      "image/png": "[encoded data removed]",
      "text/plain": [
       "<Figure size 1080x504 with 1 Axes>"
      ]
     },
     "metadata": {
      "needs_background": "light"
     },
     "output_type": "display_data"
    }
   ],
   "source": [
    "plt.figure(figsize=(15, 7))\n",
    "plt.title('The Percentage of Non-Dialogues by Decades in The Russian and French Comedies', fontsize=14)\n",
    "sns.barplot(x=combined_df['decades'], y=combined_df['percentage_non_dialogues'], hue=combined_df['source'])\n",
    "plt.ylabel('Percentage of Non-Dialogues')\n",
    "plt.show()"
   ]
  },
  {
   "cell_type": "markdown",
   "metadata": {},
   "source": [
    "#### The Percentage of Non-Dialogues\n",
    "The mean percentage of non-dialogues was higher in every decade in the Russian comedies except for three decades:\n",
    "- The 1800s, 57.60% in French vs. 49.15% in Russian\n",
    "- The 1820s, 59.01% in French vs.53.97% in Russian, 1830s, 58.66% in French vs. 53.97%\n",
    "\n",
    "Despite the fact that the mean percentage of polylogues tended to be higher in the Russian comedies during the same decade, the French comedies of the preceding decades had higher or comparable mean values: the 1650s - 48.94%, the 1640s - 43.47%, the 1680s - 43.31%."
   ]
  },
  {
   "cell_type": "code",
   "execution_count": 43,
   "metadata": {},
   "outputs": [
    {
     "data": {
      "image/png": "[encoded data removed]",
      "text/plain": [
       "<Figure size 1080x504 with 1 Axes>"
      ]
     },
     "metadata": {
      "needs_background": "light"
     },
     "output_type": "display_data"
    }
   ],
   "source": [
    "plt.figure(figsize=(15, 7))\n",
    "plt.title('The Percentage of Polylogues by Decades in The Russian and French Comedies', fontsize=14)\n",
    "sns.barplot(x=combined_df['decades'], y=combined_df['percentage_polylogues'], hue=combined_df['source'])\n",
    "plt.ylabel('Percentage of Polylogues')\n",
    "plt.show()"
   ]
  },
  {
   "cell_type": "code",
   "execution_count": 44,
   "metadata": {},
   "outputs": [
    {
     "data": {
      "image/png": "[encoded data removed]",
      "text/plain": [
       "<Figure size 1080x504 with 1 Axes>"
      ]
     },
     "metadata": {
      "needs_background": "light"
     },
     "output_type": "display_data"
    }
   ],
   "source": [
    "plt.figure(figsize=(15, 7))\n",
    "plt.title('The Percentage of Monologues by Decades in The Russian and French Comedies', fontsize=14)\n",
    "sns.barplot(x=combined_df['decades'], y=combined_df['percentage_monologues'], hue=combined_df['source'])\n",
    "plt.ylabel('Percentage of Monologues')\n",
    "plt.show()"
   ]
  },
  {
   "cell_type": "code",
   "execution_count": 45,
   "metadata": {},
   "outputs": [
    {
     "data": {
      "text/html": [
       "<div>\n",
       "<style scoped>\n",
       "    .dataframe tbody tr th:only-of-type {\n",
       "        vertical-align: middle;\n",
       "    }\n",
       "\n",
       "    .dataframe tbody tr th {\n",
       "        vertical-align: top;\n",
       "    }\n",
       "\n",
       "    .dataframe thead th {\n",
       "        text-align: right;\n",
       "    }\n",
       "</style>\n",
       "<table border=\"1\" class=\"dataframe\">\n",
       "  <thead>\n",
       "    <tr style=\"text-align: right;\">\n",
       "      <th></th>\n",
       "      <th>title</th>\n",
       "      <th>date</th>\n",
       "      <th>last_name</th>\n",
       "      <th>first_name</th>\n",
       "      <th>percentage_monologues</th>\n",
       "    </tr>\n",
       "  </thead>\n",
       "  <tbody>\n",
       "    <tr>\n",
       "      <th>0</th>\n",
       "      <td>Mélite ou Les fausses lettres</td>\n",
       "      <td>1629.0</td>\n",
       "      <td>Corneille</td>\n",
       "      <td>Pierre</td>\n",
       "      <td>30.77</td>\n",
       "    </tr>\n",
       "  </tbody>\n",
       "</table>\n",
       "</div>"
      ],
      "text/plain": [
       "                           title    date  last_name first_name  \\\n",
       "0  Mélite ou Les fausses lettres  1629.0  Corneille     Pierre   \n",
       "\n",
       "   percentage_monologues  \n",
       "0                  30.77  "
      ]
     },
     "execution_count": 45,
     "metadata": {},
     "output_type": "execute_result"
    }
   ],
   "source": [
    "combined_df[combined_df.decades == 1620][['title', 'date', 'last_name', 'first_name', 'percentage_monologues']]"
   ]
  },
  {
   "cell_type": "markdown",
   "metadata": {},
   "source": [
    "#### The Percentage of Monologues\n",
    "The mean percentage of monologues was higher in two periods in the French tradition.\n",
    "- In the 1790s, it was 21.66 in French vs. 18.72 in the Russian tradition. \n",
    "- In the 1810s, the mean percentage of monologues was 19.32% in the French and 16.97% in the Russian tradition.\n",
    "\n",
    "The only French comedy of the 1620s, Pierre Corneille's *Mélite ou Les fausses lettres* (1629) had a high percentage of monologues - 30.77%. According to Iarkho, the percentage of monologues in Pierre Corneille's comedies was 25.3% (Iarkho 2006, 445)."
   ]
  },
  {
   "cell_type": "code",
   "execution_count": 46,
   "metadata": {},
   "outputs": [
    {
     "data": {
      "image/png": "[encoded data removed]",
      "text/plain": [
       "<Figure size 1080x504 with 1 Axes>"
      ]
     },
     "metadata": {
      "needs_background": "light"
     },
     "output_type": "display_data"
    }
   ],
   "source": [
    "plt.figure(figsize=(15, 7))\n",
    "plt.title('The Coefficient of Unused Dramatic Characters by Decades in The Russian and French Comedies', fontsize=14)\n",
    "sns.barplot(x=combined_df['decades'], y=combined_df['coefficient_unused'], hue=combined_df['source'])\n",
    "plt.ylabel('The Coefficient of Unused Dramatic Characters')\n",
    "plt.show()"
   ]
  },
  {
   "cell_type": "markdown",
   "metadata": {},
   "source": [
    "#### The Coefficient of Unused Dramatic Characters\n",
    "The mean coefficient of unused dramatic characters tended to be higher in the Russian comedy every decade, except for the 1800s and 1820s. \n",
    "- In the French comedies of the 1800s, it was 10.8 vs. 5 in the Russian. \n",
    "- In the 1820s, the mean coefficient of unused dramatic characters was 12.09 in French vs. 6.96 in the Russian comedies.\n",
    "\n",
    "We noticed that the coefficient of unused dramatic characters in the Russian comedy oscillated by decades: 5 in the 1800s, 26.53 in the 1810s, 6.96 in the 1820s, 22.26 in the 1840s. This oscillation could be a sign of different stylistic preferences of the corresponding decades.\n",
    "\n",
    "Additionally, the French comedies of the 1690s and the 1640s had relatively high mean coefficients of unused dramatic characters - 18.07 and 15.22 respectively."
   ]
  },
  {
   "cell_type": "code",
   "execution_count": 47,
   "metadata": {},
   "outputs": [
    {
     "data": {
      "image/png": "[encoded data removed]",
      "text/plain": [
       "<Figure size 1080x504 with 1 Axes>"
      ]
     },
     "metadata": {
      "needs_background": "light"
     },
     "output_type": "display_data"
    }
   ],
   "source": [
    "plt.figure(figsize=(15, 7))\n",
    "plt.title('The Percentage of Discontinuous Scenes by Decades in The Russian and French Comedies', fontsize=14)\n",
    "sns.barplot(x=combined_df['decades'], y=combined_df['discontinuous_scenes'], hue=combined_df['source'])\n",
    "plt.ylabel('The Percentage of Discontinuous Scenes')\n",
    "plt.show()"
   ]
  },
  {
   "cell_type": "markdown",
   "metadata": {},
   "source": [
    "#### The Percentage of Discontinuous Scenes\n",
    "The mean percentage of discontinuous scenes was higher in the French comedies in almost half of the decades:\n",
    "- In the 1770s, the mean percentage of discontinuous scenes was 10.79% in the French and 6.67% in the Russian comedies. \n",
    "- In the 1780s, the gap decreased but still the French comedies on average more discontinuous scenes: 6.29% in the French and 5.53% in the Russian tradition. \n",
    "- In the 1820s, 5.53% of the French comedies' scenes were discontinuous and 4.76% of the Russian comedies' scenes.  \n",
    "- In the 1840s, the mean percentage of discontinuous scenes in the French tradition was 5.62%  and 1.86% in Russian.\n",
    "\n",
    "In general, the French comedies during earlier decades tended to have a high percentage of discontinuous scenes that was gradually declining from 30.77% in the 1620s to 7.92% in the 1670s followed by a more complex alternting development."
   ]
  },
  {
   "cell_type": "markdown",
   "metadata": {},
   "source": [
    "### Observations:\n",
    "Despite that in many cases, the mean decade values of the features in the Russian five-act comedies were higher than the contemporaneous French, we noticed that the French comedies of the preceding decades had higher or similar mean values. The features included the number of dramatic characters, the percentage of polylogues, the percentage of monologues, and the percentage of discontinuous scenes."
   ]
  },
  {
   "cell_type": "markdown",
   "metadata": {},
   "source": [
    "### Speech Distribution in the French Five-Act Comedy In Verse in Period One"
   ]
  },
  {
   "cell_type": "code",
   "execution_count": 48,
   "metadata": {},
   "outputs": [
    {
     "data": {
      "image/png": "[encoded data removed]",
      "text/plain": [
       "<Figure size 720x360 with 1 Axes>"
      ]
     },
     "metadata": {
      "needs_background": "light"
     },
     "output_type": "display_data"
    }
   ],
   "source": [
    "plot_speech_distribution(speech_distribution_by_period(french_period_one), \n",
    "                         'Speech Distribition in the French Five-Act Verse Comedy of Period One')"
   ]
  },
  {
   "cell_type": "code",
   "execution_count": 49,
   "metadata": {},
   "outputs": [
    {
     "data": {
      "text/html": [
       "<div>\n",
       "<style scoped>\n",
       "    .dataframe tbody tr th:only-of-type {\n",
       "        vertical-align: middle;\n",
       "    }\n",
       "\n",
       "    .dataframe tbody tr th {\n",
       "        vertical-align: top;\n",
       "    }\n",
       "\n",
       "    .dataframe thead th {\n",
       "        text-align: right;\n",
       "    }\n",
       "</style>\n",
       "<table border=\"1\" class=\"dataframe\">\n",
       "  <thead>\n",
       "    <tr style=\"text-align: right;\">\n",
       "      <th></th>\n",
       "      <th>0</th>\n",
       "      <th>1</th>\n",
       "      <th>2</th>\n",
       "      <th>3</th>\n",
       "      <th>4</th>\n",
       "      <th>5</th>\n",
       "      <th>6</th>\n",
       "      <th>7</th>\n",
       "      <th>8</th>\n",
       "      <th>9</th>\n",
       "      <th>12</th>\n",
       "    </tr>\n",
       "    <tr>\n",
       "      <th>number_of_speakers</th>\n",
       "      <th></th>\n",
       "      <th></th>\n",
       "      <th></th>\n",
       "      <th></th>\n",
       "      <th></th>\n",
       "      <th></th>\n",
       "      <th></th>\n",
       "      <th></th>\n",
       "      <th></th>\n",
       "      <th></th>\n",
       "      <th></th>\n",
       "    </tr>\n",
       "  </thead>\n",
       "  <tbody>\n",
       "    <tr>\n",
       "      <th>percentage_of_scenes</th>\n",
       "      <td>0.06</td>\n",
       "      <td>14.16</td>\n",
       "      <td>43.43</td>\n",
       "      <td>23.42</td>\n",
       "      <td>10.6</td>\n",
       "      <td>4.39</td>\n",
       "      <td>1.86</td>\n",
       "      <td>0.91</td>\n",
       "      <td>0.68</td>\n",
       "      <td>0.48</td>\n",
       "      <td>0.01</td>\n",
       "    </tr>\n",
       "  </tbody>\n",
       "</table>\n",
       "</div>"
      ],
      "text/plain": [
       "0                       0      1      2      3     4     5     6     7     8   \\\n",
       "number_of_speakers                                                              \n",
       "percentage_of_scenes  0.06  14.16  43.43  23.42  10.6  4.39  1.86  0.91  0.68   \n",
       "\n",
       "0                       9     12  \n",
       "number_of_speakers                \n",
       "percentage_of_scenes  0.48  0.01  "
      ]
     },
     "execution_count": 49,
     "metadata": {},
     "output_type": "execute_result"
    }
   ],
   "source": [
    "speech_distribution_by_period(french_period_one)"
   ]
  },
  {
   "cell_type": "markdown",
   "metadata": {},
   "source": [
    "N.Gillet de la Tessonnerie's *Le Campagnard* (1657) and Noël Lebreton, sieur de Hauteroche's *Crispin musicien* (1674) have scenes with no speakers."
   ]
  },
  {
   "cell_type": "code",
   "execution_count": 50,
   "metadata": {},
   "outputs": [
    {
     "data": {
      "text/plain": [
       "2.08"
      ]
     },
     "execution_count": 50,
     "metadata": {},
     "output_type": "execute_result"
    }
   ],
   "source": [
    "np.sum(speech_distribution_by_period(french_period_one).values[0][7:])"
   ]
  },
  {
   "cell_type": "markdown",
   "metadata": {},
   "source": [
    "### Speech Distribution in the French Five-Act Comedy In Verse in Period Two (First Part)"
   ]
  },
  {
   "cell_type": "code",
   "execution_count": 51,
   "metadata": {},
   "outputs": [
    {
     "data": {
      "image/png": "[encoded data removed]",
      "text/plain": [
       "<Figure size 720x360 with 1 Axes>"
      ]
     },
     "metadata": {
      "needs_background": "light"
     },
     "output_type": "display_data"
    }
   ],
   "source": [
    "plot_speech_distribution(speech_distribution_by_period(french_period_two_first_part), \n",
    "                         'Speech Distribition in the French Five-Act Verse Comedy of Period Two (First Part)')"
   ]
  },
  {
   "cell_type": "code",
   "execution_count": 52,
   "metadata": {},
   "outputs": [
    {
     "data": {
      "text/html": [
       "<div>\n",
       "<style scoped>\n",
       "    .dataframe tbody tr th:only-of-type {\n",
       "        vertical-align: middle;\n",
       "    }\n",
       "\n",
       "    .dataframe tbody tr th {\n",
       "        vertical-align: top;\n",
       "    }\n",
       "\n",
       "    .dataframe thead th {\n",
       "        text-align: right;\n",
       "    }\n",
       "</style>\n",
       "<table border=\"1\" class=\"dataframe\">\n",
       "  <thead>\n",
       "    <tr style=\"text-align: right;\">\n",
       "      <th></th>\n",
       "      <th>1</th>\n",
       "      <th>2</th>\n",
       "      <th>3</th>\n",
       "      <th>4</th>\n",
       "      <th>5</th>\n",
       "      <th>6</th>\n",
       "      <th>7</th>\n",
       "      <th>8</th>\n",
       "      <th>9</th>\n",
       "      <th>11</th>\n",
       "    </tr>\n",
       "    <tr>\n",
       "      <th>number_of_speakers</th>\n",
       "      <th></th>\n",
       "      <th></th>\n",
       "      <th></th>\n",
       "      <th></th>\n",
       "      <th></th>\n",
       "      <th></th>\n",
       "      <th></th>\n",
       "      <th></th>\n",
       "      <th></th>\n",
       "      <th></th>\n",
       "    </tr>\n",
       "  </thead>\n",
       "  <tbody>\n",
       "    <tr>\n",
       "      <th>percentage_of_scenes</th>\n",
       "      <td>22.52</td>\n",
       "      <td>45.49</td>\n",
       "      <td>19.32</td>\n",
       "      <td>7.63</td>\n",
       "      <td>2.64</td>\n",
       "      <td>1.3</td>\n",
       "      <td>0.59</td>\n",
       "      <td>0.41</td>\n",
       "      <td>0.08</td>\n",
       "      <td>0.03</td>\n",
       "    </tr>\n",
       "  </tbody>\n",
       "</table>\n",
       "</div>"
      ],
      "text/plain": [
       "0                        1      2      3     4     5    6     7     8     9   \\\n",
       "number_of_speakers                                                             \n",
       "percentage_of_scenes  22.52  45.49  19.32  7.63  2.64  1.3  0.59  0.41  0.08   \n",
       "\n",
       "0                       11  \n",
       "number_of_speakers          \n",
       "percentage_of_scenes  0.03  "
      ]
     },
     "execution_count": 52,
     "metadata": {},
     "output_type": "execute_result"
    }
   ],
   "source": [
    "speech_distribution_by_period(french_period_two_first_part)"
   ]
  },
  {
   "cell_type": "code",
   "execution_count": 53,
   "metadata": {},
   "outputs": [
    {
     "data": {
      "text/plain": [
       "1.11"
      ]
     },
     "execution_count": 53,
     "metadata": {},
     "output_type": "execute_result"
    }
   ],
   "source": [
    "np.sum(speech_distribution_by_period(french_period_two_first_part).values[0][6:])"
   ]
  },
  {
   "cell_type": "markdown",
   "metadata": {},
   "source": [
    "### Speech Distribution in the French Five-Act Comedy In Verse in Period Two (Second Part)"
   ]
  },
  {
   "cell_type": "code",
   "execution_count": 54,
   "metadata": {},
   "outputs": [
    {
     "data": {
      "image/png": "[encoded data removed]",
      "text/plain": [
       "<Figure size 720x360 with 1 Axes>"
      ]
     },
     "metadata": {
      "needs_background": "light"
     },
     "output_type": "display_data"
    }
   ],
   "source": [
    "plot_speech_distribution(speech_distribution_by_period(french_period_two_second_part), \n",
    "                         'Speech Distribition in the French Five-Act Verse Comedy of Period Two (Second Part)')"
   ]
  },
  {
   "cell_type": "code",
   "execution_count": 55,
   "metadata": {},
   "outputs": [
    {
     "data": {
      "text/html": [
       "<div>\n",
       "<style scoped>\n",
       "    .dataframe tbody tr th:only-of-type {\n",
       "        vertical-align: middle;\n",
       "    }\n",
       "\n",
       "    .dataframe tbody tr th {\n",
       "        vertical-align: top;\n",
       "    }\n",
       "\n",
       "    .dataframe thead th {\n",
       "        text-align: right;\n",
       "    }\n",
       "</style>\n",
       "<table border=\"1\" class=\"dataframe\">\n",
       "  <thead>\n",
       "    <tr style=\"text-align: right;\">\n",
       "      <th></th>\n",
       "      <th>0</th>\n",
       "      <th>1</th>\n",
       "      <th>2</th>\n",
       "      <th>3</th>\n",
       "      <th>4</th>\n",
       "      <th>5</th>\n",
       "      <th>6</th>\n",
       "      <th>7</th>\n",
       "      <th>8</th>\n",
       "      <th>9</th>\n",
       "      <th>10</th>\n",
       "    </tr>\n",
       "    <tr>\n",
       "      <th>number_of_speakers</th>\n",
       "      <th></th>\n",
       "      <th></th>\n",
       "      <th></th>\n",
       "      <th></th>\n",
       "      <th></th>\n",
       "      <th></th>\n",
       "      <th></th>\n",
       "      <th></th>\n",
       "      <th></th>\n",
       "      <th></th>\n",
       "      <th></th>\n",
       "    </tr>\n",
       "  </thead>\n",
       "  <tbody>\n",
       "    <tr>\n",
       "      <th>percentage_of_scenes</th>\n",
       "      <td>0.06</td>\n",
       "      <td>23.87</td>\n",
       "      <td>46.27</td>\n",
       "      <td>18.92</td>\n",
       "      <td>5.15</td>\n",
       "      <td>2.84</td>\n",
       "      <td>1.3</td>\n",
       "      <td>1.0</td>\n",
       "      <td>0.35</td>\n",
       "      <td>0.19</td>\n",
       "      <td>0.06</td>\n",
       "    </tr>\n",
       "  </tbody>\n",
       "</table>\n",
       "</div>"
      ],
      "text/plain": [
       "0                       0      1      2      3     4     5    6    7     8   \\\n",
       "number_of_speakers                                                            \n",
       "percentage_of_scenes  0.06  23.87  46.27  18.92  5.15  2.84  1.3  1.0  0.35   \n",
       "\n",
       "0                       9     10  \n",
       "number_of_speakers                \n",
       "percentage_of_scenes  0.19  0.06  "
      ]
     },
     "execution_count": 55,
     "metadata": {},
     "output_type": "execute_result"
    }
   ],
   "source": [
    "speech_distribution_by_period(french_period_two_second_part)"
   ]
  },
  {
   "cell_type": "code",
   "execution_count": 56,
   "metadata": {},
   "outputs": [
    {
     "data": {
      "text/plain": [
       "1.6"
      ]
     },
     "execution_count": 56,
     "metadata": {},
     "output_type": "execute_result"
    }
   ],
   "source": [
    "np.sum(speech_distribution_by_period(french_period_two_second_part).values[0][7:])"
   ]
  },
  {
   "cell_type": "markdown",
   "metadata": {},
   "source": [
    "Marc-Antoine-Jacques Rochon de Chabannes's *Le Jaloux* (1784) has a scene with no speakers."
   ]
  },
  {
   "cell_type": "markdown",
   "metadata": {},
   "source": [
    "### Speech Distribution in the French Five-Act Comedy In Verse in Period Three"
   ]
  },
  {
   "cell_type": "code",
   "execution_count": 57,
   "metadata": {},
   "outputs": [
    {
     "data": {
      "image/png": "[encoded data removed]",
      "text/plain": [
       "<Figure size 720x360 with 1 Axes>"
      ]
     },
     "metadata": {
      "needs_background": "light"
     },
     "output_type": "display_data"
    }
   ],
   "source": [
    "plot_speech_distribution(speech_distribution_by_period(french_period_three), \n",
    "                         'Speech Distribition in the French Five-Act Verse Comedy of Period Three')"
   ]
  },
  {
   "cell_type": "code",
   "execution_count": 58,
   "metadata": {},
   "outputs": [
    {
     "data": {
      "text/html": [
       "<div>\n",
       "<style scoped>\n",
       "    .dataframe tbody tr th:only-of-type {\n",
       "        vertical-align: middle;\n",
       "    }\n",
       "\n",
       "    .dataframe tbody tr th {\n",
       "        vertical-align: top;\n",
       "    }\n",
       "\n",
       "    .dataframe thead th {\n",
       "        text-align: right;\n",
       "    }\n",
       "</style>\n",
       "<table border=\"1\" class=\"dataframe\">\n",
       "  <thead>\n",
       "    <tr style=\"text-align: right;\">\n",
       "      <th></th>\n",
       "      <th>1</th>\n",
       "      <th>2</th>\n",
       "      <th>3</th>\n",
       "      <th>4</th>\n",
       "      <th>5</th>\n",
       "      <th>6</th>\n",
       "      <th>7</th>\n",
       "      <th>8</th>\n",
       "      <th>9</th>\n",
       "      <th>11</th>\n",
       "      <th>12</th>\n",
       "      <th>15</th>\n",
       "      <th>16</th>\n",
       "    </tr>\n",
       "    <tr>\n",
       "      <th>number_of_speakers</th>\n",
       "      <th></th>\n",
       "      <th></th>\n",
       "      <th></th>\n",
       "      <th></th>\n",
       "      <th></th>\n",
       "      <th></th>\n",
       "      <th></th>\n",
       "      <th></th>\n",
       "      <th></th>\n",
       "      <th></th>\n",
       "      <th></th>\n",
       "      <th></th>\n",
       "      <th></th>\n",
       "    </tr>\n",
       "  </thead>\n",
       "  <tbody>\n",
       "    <tr>\n",
       "      <th>percentage_of_scenes</th>\n",
       "      <td>23.01</td>\n",
       "      <td>40.33</td>\n",
       "      <td>21.09</td>\n",
       "      <td>7.59</td>\n",
       "      <td>4.31</td>\n",
       "      <td>1.96</td>\n",
       "      <td>0.88</td>\n",
       "      <td>0.5</td>\n",
       "      <td>0.18</td>\n",
       "      <td>0.04</td>\n",
       "      <td>0.04</td>\n",
       "      <td>0.02</td>\n",
       "      <td>0.05</td>\n",
       "    </tr>\n",
       "  </tbody>\n",
       "</table>\n",
       "</div>"
      ],
      "text/plain": [
       "0                        1      2      3     4     5     6     7    8     9   \\\n",
       "number_of_speakers                                                             \n",
       "percentage_of_scenes  23.01  40.33  21.09  7.59  4.31  1.96  0.88  0.5  0.18   \n",
       "\n",
       "0                       11    12    15    16  \n",
       "number_of_speakers                            \n",
       "percentage_of_scenes  0.04  0.04  0.02  0.05  "
      ]
     },
     "execution_count": 58,
     "metadata": {},
     "output_type": "execute_result"
    }
   ],
   "source": [
    "speech_distribution_by_period(french_period_three)"
   ]
  },
  {
   "cell_type": "code",
   "execution_count": 59,
   "metadata": {},
   "outputs": [
    {
     "data": {
      "text/plain": [
       "1.71"
      ]
     },
     "execution_count": 59,
     "metadata": {},
     "output_type": "execute_result"
    }
   ],
   "source": [
    "np.sum(speech_distribution_by_period(french_period_three).values[0][6:])"
   ]
  },
  {
   "cell_type": "markdown",
   "metadata": {},
   "source": [
    "### Speech Distribution in the Russian Five-Act Comedy In Verse in The Tentative Period One"
   ]
  },
  {
   "cell_type": "code",
   "execution_count": 60,
   "metadata": {},
   "outputs": [
    {
     "data": {
      "image/png": "[encoded data removed]",
      "text/plain": [
       "<Figure size 720x360 with 1 Axes>"
      ]
     },
     "metadata": {
      "needs_background": "light"
     },
     "output_type": "display_data"
    }
   ],
   "source": [
    "plot_speech_distribution(speech_distribution_by_period(russian_period_one), \n",
    "                         'Speech Distribition in the Russian Five-Act Verse Comedy of The Tentative Period One')"
   ]
  },
  {
   "cell_type": "code",
   "execution_count": 61,
   "metadata": {},
   "outputs": [
    {
     "data": {
      "text/html": [
       "<div>\n",
       "<style scoped>\n",
       "    .dataframe tbody tr th:only-of-type {\n",
       "        vertical-align: middle;\n",
       "    }\n",
       "\n",
       "    .dataframe tbody tr th {\n",
       "        vertical-align: top;\n",
       "    }\n",
       "\n",
       "    .dataframe thead th {\n",
       "        text-align: right;\n",
       "    }\n",
       "</style>\n",
       "<table border=\"1\" class=\"dataframe\">\n",
       "  <thead>\n",
       "    <tr style=\"text-align: right;\">\n",
       "      <th></th>\n",
       "      <th>1</th>\n",
       "      <th>2</th>\n",
       "      <th>3</th>\n",
       "      <th>4</th>\n",
       "      <th>5</th>\n",
       "      <th>6</th>\n",
       "      <th>7</th>\n",
       "      <th>8</th>\n",
       "      <th>9</th>\n",
       "      <th>10</th>\n",
       "      <th>12</th>\n",
       "    </tr>\n",
       "    <tr>\n",
       "      <th>number_of_speakers</th>\n",
       "      <th></th>\n",
       "      <th></th>\n",
       "      <th></th>\n",
       "      <th></th>\n",
       "      <th></th>\n",
       "      <th></th>\n",
       "      <th></th>\n",
       "      <th></th>\n",
       "      <th></th>\n",
       "      <th></th>\n",
       "      <th></th>\n",
       "    </tr>\n",
       "  </thead>\n",
       "  <tbody>\n",
       "    <tr>\n",
       "      <th>percentage_of_scenes</th>\n",
       "      <td>21.84</td>\n",
       "      <td>40.06</td>\n",
       "      <td>18.58</td>\n",
       "      <td>9.53</td>\n",
       "      <td>2.79</td>\n",
       "      <td>2.44</td>\n",
       "      <td>1.7</td>\n",
       "      <td>1.29</td>\n",
       "      <td>0.71</td>\n",
       "      <td>0.71</td>\n",
       "      <td>0.36</td>\n",
       "    </tr>\n",
       "  </tbody>\n",
       "</table>\n",
       "</div>"
      ],
      "text/plain": [
       "0                        1      2      3     4     5     6    7     8     9   \\\n",
       "number_of_speakers                                                             \n",
       "percentage_of_scenes  21.84  40.06  18.58  9.53  2.79  2.44  1.7  1.29  0.71   \n",
       "\n",
       "0                       10    12  \n",
       "number_of_speakers                \n",
       "percentage_of_scenes  0.71  0.36  "
      ]
     },
     "execution_count": 61,
     "metadata": {},
     "output_type": "execute_result"
    }
   ],
   "source": [
    "speech_distribution_by_period(russian_period_one)"
   ]
  },
  {
   "cell_type": "code",
   "execution_count": 62,
   "metadata": {},
   "outputs": [
    {
     "data": {
      "text/plain": [
       "4.77"
      ]
     },
     "execution_count": 62,
     "metadata": {},
     "output_type": "execute_result"
    }
   ],
   "source": [
    "round(np.sum(speech_distribution_by_period(russian_period_one).values[0][6:]), 2)"
   ]
  },
  {
   "cell_type": "markdown",
   "metadata": {},
   "source": [
    "### Speech Distribution in the Russian Five-Act Comedy In Verse in The Tentative Period Two"
   ]
  },
  {
   "cell_type": "code",
   "execution_count": 63,
   "metadata": {},
   "outputs": [
    {
     "data": {
      "image/png": "[encoded data removed]",
      "text/plain": [
       "<Figure size 720x360 with 1 Axes>"
      ]
     },
     "metadata": {
      "needs_background": "light"
     },
     "output_type": "display_data"
    }
   ],
   "source": [
    "plot_speech_distribution(speech_distribution_by_period(russian_period_two), \n",
    "                         'Speech Distribition in the Russian Five-Act Verse Comedy of The Tentative Period Two')"
   ]
  },
  {
   "cell_type": "markdown",
   "metadata": {},
   "source": [
    "Note that in the Russian corpus there is a comedy that has zero speakers in a scene, Boris Fedorov's *Chudnya vstrechi* (1818)."
   ]
  },
  {
   "cell_type": "code",
   "execution_count": 64,
   "metadata": {},
   "outputs": [
    {
     "data": {
      "text/html": [
       "<div>\n",
       "<style scoped>\n",
       "    .dataframe tbody tr th:only-of-type {\n",
       "        vertical-align: middle;\n",
       "    }\n",
       "\n",
       "    .dataframe tbody tr th {\n",
       "        vertical-align: top;\n",
       "    }\n",
       "\n",
       "    .dataframe thead th {\n",
       "        text-align: right;\n",
       "    }\n",
       "</style>\n",
       "<table border=\"1\" class=\"dataframe\">\n",
       "  <thead>\n",
       "    <tr style=\"text-align: right;\">\n",
       "      <th></th>\n",
       "      <th>0</th>\n",
       "      <th>1</th>\n",
       "      <th>2</th>\n",
       "      <th>3</th>\n",
       "      <th>4</th>\n",
       "      <th>5</th>\n",
       "      <th>6</th>\n",
       "      <th>7</th>\n",
       "      <th>9</th>\n",
       "      <th>10</th>\n",
       "      <th>13</th>\n",
       "    </tr>\n",
       "    <tr>\n",
       "      <th>number_of_speakers</th>\n",
       "      <th></th>\n",
       "      <th></th>\n",
       "      <th></th>\n",
       "      <th></th>\n",
       "      <th></th>\n",
       "      <th></th>\n",
       "      <th></th>\n",
       "      <th></th>\n",
       "      <th></th>\n",
       "      <th></th>\n",
       "      <th></th>\n",
       "    </tr>\n",
       "  </thead>\n",
       "  <tbody>\n",
       "    <tr>\n",
       "      <th>percentage_of_scenes</th>\n",
       "      <td>0.3</td>\n",
       "      <td>20.66</td>\n",
       "      <td>39.36</td>\n",
       "      <td>18.39</td>\n",
       "      <td>11.45</td>\n",
       "      <td>4.58</td>\n",
       "      <td>1.99</td>\n",
       "      <td>1.42</td>\n",
       "      <td>1.45</td>\n",
       "      <td>0.17</td>\n",
       "      <td>0.22</td>\n",
       "    </tr>\n",
       "  </tbody>\n",
       "</table>\n",
       "</div>"
      ],
      "text/plain": [
       "0                      0      1      2      3      4     5     6     7     9   \\\n",
       "number_of_speakers                                                              \n",
       "percentage_of_scenes  0.3  20.66  39.36  18.39  11.45  4.58  1.99  1.42  1.45   \n",
       "\n",
       "0                       10    13  \n",
       "number_of_speakers                \n",
       "percentage_of_scenes  0.17  0.22  "
      ]
     },
     "execution_count": 64,
     "metadata": {},
     "output_type": "execute_result"
    }
   ],
   "source": [
    "speech_distribution_by_period(russian_period_two)"
   ]
  },
  {
   "cell_type": "code",
   "execution_count": 65,
   "metadata": {},
   "outputs": [
    {
     "data": {
      "text/plain": [
       "3.26"
      ]
     },
     "execution_count": 65,
     "metadata": {},
     "output_type": "execute_result"
    }
   ],
   "source": [
    "round(np.sum(speech_distribution_by_period(russian_period_two).values[0][7:]), 2)"
   ]
  },
  {
   "cell_type": "markdown",
   "metadata": {},
   "source": [
    "### Summary:\n",
    "\n",
    "#### Comparison of The Speech Distribution in the Russian tentative Period One and the French Period Two (second part):\n",
    "The maximum number of speaking characters in the Russian tentative Period One was 12; 4.77% had above six speakers. In the French Period Two (second part), the maximum number of speakers was 10, with 1.6% of the scenes having over six speakers. In the French Period Two (second part, there was a comedy with a scene that had no speakers - Marc-Antoine-Jacques Rochon de Chabannes's *Le Jaloux* (1784). In the Russian tentative Period One, there were no such comedies.\n",
    "\n",
    "\n",
    "#### Comparison of The Speech Distribution in the Russian tentative Period Two and the French Period Three:\n",
    "The maximum number of speakers in the Russian tentative Period Two was 13, with 3.26% of the scenes having over six speakers. In the French Period Three, the maximum number of speakers was 16, with 1.71% of the scenes having over 6 speakers. In the Russian tentative Period Two, there was one comedy with a scene without any speakers (Boris Fedorov's *Chudnya vstrechi* (1818)). In the French Period Three, there were no such comedies.\n",
    "\n",
    "### Additional Comparisons:\n",
    "\n",
    "#### Comparison of The Speech Distribution in the Russian tentative Period One and the French Period Two (first part):\n",
    "The maximum number of speaking characters in the Russian tentative Period One was 12; 4.77% had above six speakers.  In the French Period Two (first part), the maximum number of speakers was 11, with 1.11% having over 6 speakers. Neither Russian nor French comedies of the above mentioned periods had scenes without speakers.\n",
    "\n",
    "#### Comparison of The Speech Distribution in the Russian tentative Period One and the French Period One:\n",
    "The maximum number of speaking characters in the Russian tentative Period One was 12; 4.77% had above six speakers. In the French Period One, the maximum number of speakers was also 12. However, only 2.08% of the scenes had over six speakers. In the French Periods One, two comedies had scenes without any speakers, N.Gillet de la Tessonnerie's Le Campagnard (1657) and Noël Lebreton, sieur de Hauteroche's Crispin musicien (1674). In the Russian tentative Period One, there were no such comedies.\n"
   ]
  },
  {
   "cell_type": "markdown",
   "metadata": {},
   "source": [
    "### Contrastive Material"
   ]
  },
  {
   "cell_type": "markdown",
   "metadata": {},
   "source": [
    "#### Load Contrastive Material Data"
   ]
  },
  {
   "cell_type": "code",
   "execution_count": 66,
   "metadata": {},
   "outputs": [],
   "source": [
    "contr_data_df = pd.read_csv('../Contrastive_Material/Contrastive_Material_Data.csv')\n",
    "contr_data_df['speech_distribution'] = contr_data_df['speech_distribution'].apply(make_list)\n",
    "# sort by date\n",
    "sorted_contr_data_df = contr_data_df.sort_values(by='date')\n",
    "\n",
    "sorted_contr_data_df  = sorted_contr_data_df.rename(columns={'num_scenes_iarkho': 'mobility_coefficient', \n",
    "                                                           'percentage_non_duologues': 'percentage_non_dialogues',\n",
    "                                                           'percentage_above_two_speakers': 'percentage_polylogues',\n",
    "                                                            'percentage_scenes_with_discontinuous_change_characters': \n",
    "                                                            'discontinuous_scenes',\n",
    "                                                            'sigma_iarkho': 'standard_range'})\n",
    "sorted_contr_data_df['date'] = sorted_contr_data_df['date'].astype('int')\n",
    "sorted_contr_data_df['last_name'] = sorted_contr_data_df['last_name'].str.strip()\n",
    "\n",
    "shakespeare_df = sorted_contr_data_df[sorted_contr_data_df.last_name == 'Shakespeare'].copy()\n",
    "goldoni_df = sorted_contr_data_df[sorted_contr_data_df.last_name == 'Goldoni'].copy()"
   ]
  },
  {
   "cell_type": "markdown",
   "metadata": {},
   "source": [
    "### William Shakespeare (1582 - 1616)"
   ]
  },
  {
   "cell_type": "code",
   "execution_count": 67,
   "metadata": {},
   "outputs": [],
   "source": [
    "shakespeare_summary = pd.DataFrame(shakespeare_df.describe().loc['mean', features]).round(2)\n",
    "shakespeare_summary.columns = ['Shakespeare']"
   ]
  },
  {
   "cell_type": "code",
   "execution_count": 68,
   "metadata": {},
   "outputs": [
    {
     "data": {
      "text/html": [
       "<div>\n",
       "<style scoped>\n",
       "    .dataframe tbody tr th:only-of-type {\n",
       "        vertical-align: middle;\n",
       "    }\n",
       "\n",
       "    .dataframe tbody tr th {\n",
       "        vertical-align: top;\n",
       "    }\n",
       "\n",
       "    .dataframe thead th {\n",
       "        text-align: right;\n",
       "    }\n",
       "</style>\n",
       "<table border=\"1\" class=\"dataframe\">\n",
       "  <thead>\n",
       "    <tr style=\"text-align: right;\">\n",
       "      <th></th>\n",
       "      <th>Shakespeare</th>\n",
       "    </tr>\n",
       "  </thead>\n",
       "  <tbody>\n",
       "    <tr>\n",
       "      <th>num_present_characters</th>\n",
       "      <td>25.83</td>\n",
       "    </tr>\n",
       "    <tr>\n",
       "      <th>mobility_coefficient</th>\n",
       "      <td>78.00</td>\n",
       "    </tr>\n",
       "    <tr>\n",
       "      <th>standard_range</th>\n",
       "      <td>1.33</td>\n",
       "    </tr>\n",
       "    <tr>\n",
       "      <th>percentage_non_dialogues</th>\n",
       "      <td>61.76</td>\n",
       "    </tr>\n",
       "    <tr>\n",
       "      <th>percentage_polylogues</th>\n",
       "      <td>37.85</td>\n",
       "    </tr>\n",
       "    <tr>\n",
       "      <th>percentage_monologues</th>\n",
       "      <td>23.56</td>\n",
       "    </tr>\n",
       "    <tr>\n",
       "      <th>coefficient_unused</th>\n",
       "      <td>40.99</td>\n",
       "    </tr>\n",
       "    <tr>\n",
       "      <th>discontinuous_scenes</th>\n",
       "      <td>19.35</td>\n",
       "    </tr>\n",
       "  </tbody>\n",
       "</table>\n",
       "</div>"
      ],
      "text/plain": [
       "                          Shakespeare\n",
       "num_present_characters          25.83\n",
       "mobility_coefficient            78.00\n",
       "standard_range                   1.33\n",
       "percentage_non_dialogues        61.76\n",
       "percentage_polylogues           37.85\n",
       "percentage_monologues           23.56\n",
       "coefficient_unused              40.99\n",
       "discontinuous_scenes            19.35"
      ]
     },
     "execution_count": 68,
     "metadata": {},
     "output_type": "execute_result"
    }
   ],
   "source": [
    "shakespeare_summary"
   ]
  },
  {
   "cell_type": "code",
   "execution_count": 69,
   "metadata": {},
   "outputs": [
    {
     "data": {
      "image/png": "[encoded data removed]",
      "text/plain": [
       "<Figure size 720x360 with 1 Axes>"
      ]
     },
     "metadata": {
      "needs_background": "light"
     },
     "output_type": "display_data"
    }
   ],
   "source": [
    "plot_speech_distribution(speech_distribution_by_period(shakespeare_df), \n",
    "                         'Speech Distribition in Shakespeare\\'s Five-Act Verse Comedy')"
   ]
  },
  {
   "cell_type": "markdown",
   "metadata": {},
   "source": [
    "### Shakespeare in The Context of Other Traditions:\n",
    "1. The mean number of dramatic characters in Shakespeare's five-act verse comedies (25.83) was the highest observed in our material (French, Russian, and Contrastive).\n",
    "2. The mean mobility coefficient in Shakespeare's comedies was the highest in our material (78).\n",
    "3. The mean percentage of non-dialogues in Shakespeare's comedies was the highest observed (61.76%).\n",
    "4. The mean percentage of monologues was also the highest in our material (23.56%).\n",
    "5. The mean coefficient of unused dramatic characters is the highest observed (40.99%). The second highest coefficient of unused dramatic characters (in Goldoni, 17.28 does not come even close to that of Shakespeare). There are many dramatic characters who appear on stage but do not speak.\n",
    "6. The mean percentage of discontinuous scenes in Shakespeare's comedies (19.35%) was the highest in our material.\n",
    "7. The mean percentage of polylogues (37.85%) was slightly higher than that in the French Period Three (37.69) and lower than that in the Russian tentative Periods One (38.11%) and Two (39.68%).\n",
    "8. The standard range of the speaking characters (1.33) was the same as the standard range of the speaking characters in the French Period Three. It was lower than in the Russian tentative Periods One (1.48) and Two (1.54). \n",
    "9. The maximum number of speaking dramatic characters was 11, which was the same as the maximum number of speakers in the French comedy of Period Two (first part). In the French Period Two (second half), the maximum number of speakers was lower (10).In the French Periods One and Three, the maximum number of speakers was higher (12 and 16 respectively). In the Russian tentative Periods One and Two, the maximum number of speakers was also higher (12 and 13).\n",
    "17. In Shakespeare's comedies, there were scenes with no speakers (cf. in the French comedy of Periods One and Two (second part), there were scenes with no speakers. In the Russian tentative Period Two, there was a comedy with a scene without any speakers)."
   ]
  },
  {
   "cell_type": "markdown",
   "metadata": {},
   "source": [
    "### Carlo Goldoni (1707 - 1793)"
   ]
  },
  {
   "cell_type": "code",
   "execution_count": 70,
   "metadata": {},
   "outputs": [],
   "source": [
    "goldoni_summary = pd.DataFrame(goldoni_df.describe().loc['mean', features]).round(2)\n",
    "goldoni_summary.columns = ['Goldoni']"
   ]
  },
  {
   "cell_type": "code",
   "execution_count": 71,
   "metadata": {},
   "outputs": [
    {
     "data": {
      "text/html": [
       "<div>\n",
       "<style scoped>\n",
       "    .dataframe tbody tr th:only-of-type {\n",
       "        vertical-align: middle;\n",
       "    }\n",
       "\n",
       "    .dataframe tbody tr th {\n",
       "        vertical-align: top;\n",
       "    }\n",
       "\n",
       "    .dataframe thead th {\n",
       "        text-align: right;\n",
       "    }\n",
       "</style>\n",
       "<table border=\"1\" class=\"dataframe\">\n",
       "  <thead>\n",
       "    <tr style=\"text-align: right;\">\n",
       "      <th></th>\n",
       "      <th>Goldoni</th>\n",
       "    </tr>\n",
       "  </thead>\n",
       "  <tbody>\n",
       "    <tr>\n",
       "      <th>num_present_characters</th>\n",
       "      <td>11.88</td>\n",
       "    </tr>\n",
       "    <tr>\n",
       "      <th>mobility_coefficient</th>\n",
       "      <td>62.25</td>\n",
       "    </tr>\n",
       "    <tr>\n",
       "      <th>standard_range</th>\n",
       "      <td>1.21</td>\n",
       "    </tr>\n",
       "    <tr>\n",
       "      <th>percentage_non_dialogues</th>\n",
       "      <td>58.64</td>\n",
       "    </tr>\n",
       "    <tr>\n",
       "      <th>percentage_polylogues</th>\n",
       "      <td>38.74</td>\n",
       "    </tr>\n",
       "    <tr>\n",
       "      <th>percentage_monologues</th>\n",
       "      <td>19.65</td>\n",
       "    </tr>\n",
       "    <tr>\n",
       "      <th>coefficient_unused</th>\n",
       "      <td>17.28</td>\n",
       "    </tr>\n",
       "    <tr>\n",
       "      <th>discontinuous_scenes</th>\n",
       "      <td>9.80</td>\n",
       "    </tr>\n",
       "  </tbody>\n",
       "</table>\n",
       "</div>"
      ],
      "text/plain": [
       "                          Goldoni\n",
       "num_present_characters      11.88\n",
       "mobility_coefficient        62.25\n",
       "standard_range               1.21\n",
       "percentage_non_dialogues    58.64\n",
       "percentage_polylogues       38.74\n",
       "percentage_monologues       19.65\n",
       "coefficient_unused          17.28\n",
       "discontinuous_scenes         9.80"
      ]
     },
     "execution_count": 71,
     "metadata": {},
     "output_type": "execute_result"
    }
   ],
   "source": [
    "goldoni_summary"
   ]
  },
  {
   "cell_type": "code",
   "execution_count": 72,
   "metadata": {},
   "outputs": [],
   "source": [
    "french_sorted_comedies = french_sorted_comedies.rename(columns={'sigma_iarkho': 'standard_range'}).copy()"
   ]
  },
  {
   "cell_type": "code",
   "execution_count": 73,
   "metadata": {},
   "outputs": [],
   "source": [
    "french_time_limit = french_sorted_comedies[french_sorted_comedies.date.between(1751, 1759)].copy()\n",
    "french_cont = pd.DataFrame(french_time_limit.describe().loc['mean', features]).round(2).copy()"
   ]
  },
  {
   "cell_type": "code",
   "execution_count": 74,
   "metadata": {},
   "outputs": [],
   "source": [
    "french_cont.columns = ['French_1751_to_1759']"
   ]
  },
  {
   "cell_type": "code",
   "execution_count": 75,
   "metadata": {},
   "outputs": [
    {
     "data": {
      "text/html": [
       "<div>\n",
       "<style scoped>\n",
       "    .dataframe tbody tr th:only-of-type {\n",
       "        vertical-align: middle;\n",
       "    }\n",
       "\n",
       "    .dataframe tbody tr th {\n",
       "        vertical-align: top;\n",
       "    }\n",
       "\n",
       "    .dataframe thead th {\n",
       "        text-align: right;\n",
       "    }\n",
       "</style>\n",
       "<table border=\"1\" class=\"dataframe\">\n",
       "  <thead>\n",
       "    <tr style=\"text-align: right;\">\n",
       "      <th></th>\n",
       "      <th>French_1751_to_1759</th>\n",
       "    </tr>\n",
       "  </thead>\n",
       "  <tbody>\n",
       "    <tr>\n",
       "      <th>num_present_characters</th>\n",
       "      <td>11.00</td>\n",
       "    </tr>\n",
       "    <tr>\n",
       "      <th>mobility_coefficient</th>\n",
       "      <td>43.80</td>\n",
       "    </tr>\n",
       "    <tr>\n",
       "      <th>standard_range</th>\n",
       "      <td>1.23</td>\n",
       "    </tr>\n",
       "    <tr>\n",
       "      <th>percentage_non_dialogues</th>\n",
       "      <td>54.96</td>\n",
       "    </tr>\n",
       "    <tr>\n",
       "      <th>percentage_polylogues</th>\n",
       "      <td>35.71</td>\n",
       "    </tr>\n",
       "    <tr>\n",
       "      <th>percentage_monologues</th>\n",
       "      <td>19.25</td>\n",
       "    </tr>\n",
       "    <tr>\n",
       "      <th>coefficient_unused</th>\n",
       "      <td>12.69</td>\n",
       "    </tr>\n",
       "    <tr>\n",
       "      <th>discontinuous_scenes</th>\n",
       "      <td>3.34</td>\n",
       "    </tr>\n",
       "  </tbody>\n",
       "</table>\n",
       "</div>"
      ],
      "text/plain": [
       "                          French_1751_to_1759\n",
       "num_present_characters                  11.00\n",
       "mobility_coefficient                    43.80\n",
       "standard_range                           1.23\n",
       "percentage_non_dialogues                54.96\n",
       "percentage_polylogues                   35.71\n",
       "percentage_monologues                   19.25\n",
       "coefficient_unused                      12.69\n",
       "discontinuous_scenes                     3.34"
      ]
     },
     "execution_count": 75,
     "metadata": {},
     "output_type": "execute_result"
    }
   ],
   "source": [
    "french_cont"
   ]
  },
  {
   "cell_type": "markdown",
   "metadata": {},
   "source": [
    "### Speech Distribution in Carlo Goldoni's Five-Act Comedies in Verse"
   ]
  },
  {
   "cell_type": "code",
   "execution_count": 76,
   "metadata": {},
   "outputs": [
    {
     "data": {
      "image/png": "[encoded data removed]",
      "text/plain": [
       "<Figure size 720x360 with 1 Axes>"
      ]
     },
     "metadata": {
      "needs_background": "light"
     },
     "output_type": "display_data"
    }
   ],
   "source": [
    "plot_speech_distribution(speech_distribution_by_period(goldoni_df), \n",
    "                         'Speech Distribition in Carlo Goldoni\\'s Five-Act Verse Comedy')"
   ]
  },
  {
   "cell_type": "markdown",
   "metadata": {},
   "source": [
    "In Goldoni's comedy I morbinosi, there is indeed a ball scene where no dramatic characters speak."
   ]
  },
  {
   "cell_type": "code",
   "execution_count": 77,
   "metadata": {},
   "outputs": [
    {
     "data": {
      "text/html": [
       "<div>\n",
       "<style scoped>\n",
       "    .dataframe tbody tr th:only-of-type {\n",
       "        vertical-align: middle;\n",
       "    }\n",
       "\n",
       "    .dataframe tbody tr th {\n",
       "        vertical-align: top;\n",
       "    }\n",
       "\n",
       "    .dataframe thead th {\n",
       "        text-align: right;\n",
       "    }\n",
       "</style>\n",
       "<table border=\"1\" class=\"dataframe\">\n",
       "  <thead>\n",
       "    <tr style=\"text-align: right;\">\n",
       "      <th></th>\n",
       "      <th>0</th>\n",
       "      <th>1</th>\n",
       "      <th>2</th>\n",
       "      <th>3</th>\n",
       "      <th>4</th>\n",
       "      <th>5</th>\n",
       "      <th>6</th>\n",
       "      <th>7</th>\n",
       "      <th>8</th>\n",
       "      <th>9</th>\n",
       "    </tr>\n",
       "    <tr>\n",
       "      <th>number_of_speakers</th>\n",
       "      <th></th>\n",
       "      <th></th>\n",
       "      <th></th>\n",
       "      <th></th>\n",
       "      <th></th>\n",
       "      <th></th>\n",
       "      <th></th>\n",
       "      <th></th>\n",
       "      <th></th>\n",
       "      <th></th>\n",
       "    </tr>\n",
       "  </thead>\n",
       "  <tbody>\n",
       "    <tr>\n",
       "      <th>percentage_of_scenes</th>\n",
       "      <td>0.25</td>\n",
       "      <td>19.65</td>\n",
       "      <td>41.36</td>\n",
       "      <td>19.2</td>\n",
       "      <td>11.6</td>\n",
       "      <td>5.41</td>\n",
       "      <td>1.5</td>\n",
       "      <td>0.53</td>\n",
       "      <td>0.36</td>\n",
       "      <td>0.14</td>\n",
       "    </tr>\n",
       "  </tbody>\n",
       "</table>\n",
       "</div>"
      ],
      "text/plain": [
       "0                        0      1      2     3     4     5    6     7     8  \\\n",
       "number_of_speakers                                                            \n",
       "percentage_of_scenes  0.25  19.65  41.36  19.2  11.6  5.41  1.5  0.53  0.36   \n",
       "\n",
       "0                        9  \n",
       "number_of_speakers          \n",
       "percentage_of_scenes  0.14  "
      ]
     },
     "execution_count": 77,
     "metadata": {},
     "output_type": "execute_result"
    }
   ],
   "source": [
    "speech_distribution_by_period(goldoni_df)"
   ]
  },
  {
   "cell_type": "markdown",
   "metadata": {},
   "source": [
    "### French Five-Act Verse Comedies Between 1751 and 1759"
   ]
  },
  {
   "cell_type": "code",
   "execution_count": 78,
   "metadata": {},
   "outputs": [
    {
     "data": {
      "image/png": "[encoded data removed]",
      "text/plain": [
       "<Figure size 720x360 with 1 Axes>"
      ]
     },
     "metadata": {
      "needs_background": "light"
     },
     "output_type": "display_data"
    }
   ],
   "source": [
    "plot_speech_distribution(speech_distribution_by_period(french_time_limit), \n",
    "                         'Speech Distribition in the French Five-Act Comedies (1751-1759)')"
   ]
  },
  {
   "cell_type": "code",
   "execution_count": 79,
   "metadata": {},
   "outputs": [
    {
     "data": {
      "text/html": [
       "<div>\n",
       "<style scoped>\n",
       "    .dataframe tbody tr th:only-of-type {\n",
       "        vertical-align: middle;\n",
       "    }\n",
       "\n",
       "    .dataframe tbody tr th {\n",
       "        vertical-align: top;\n",
       "    }\n",
       "\n",
       "    .dataframe thead th {\n",
       "        text-align: right;\n",
       "    }\n",
       "</style>\n",
       "<table border=\"1\" class=\"dataframe\">\n",
       "  <thead>\n",
       "    <tr style=\"text-align: right;\">\n",
       "      <th></th>\n",
       "      <th>1</th>\n",
       "      <th>2</th>\n",
       "      <th>3</th>\n",
       "      <th>4</th>\n",
       "      <th>5</th>\n",
       "      <th>6</th>\n",
       "      <th>8</th>\n",
       "      <th>9</th>\n",
       "      <th>11</th>\n",
       "    </tr>\n",
       "    <tr>\n",
       "      <th>number_of_speakers</th>\n",
       "      <th></th>\n",
       "      <th></th>\n",
       "      <th></th>\n",
       "      <th></th>\n",
       "      <th></th>\n",
       "      <th></th>\n",
       "      <th></th>\n",
       "      <th></th>\n",
       "      <th></th>\n",
       "    </tr>\n",
       "  </thead>\n",
       "  <tbody>\n",
       "    <tr>\n",
       "      <th>percentage_of_scenes</th>\n",
       "      <td>19.25</td>\n",
       "      <td>45.04</td>\n",
       "      <td>22.91</td>\n",
       "      <td>6.09</td>\n",
       "      <td>2.66</td>\n",
       "      <td>2.5</td>\n",
       "      <td>0.59</td>\n",
       "      <td>0.59</td>\n",
       "      <td>0.37</td>\n",
       "    </tr>\n",
       "  </tbody>\n",
       "</table>\n",
       "</div>"
      ],
      "text/plain": [
       "0                        1      2      3     4     5    6     8     9     11\n",
       "number_of_speakers                                                          \n",
       "percentage_of_scenes  19.25  45.04  22.91  6.09  2.66  2.5  0.59  0.59  0.37"
      ]
     },
     "execution_count": 79,
     "metadata": {},
     "output_type": "execute_result"
    }
   ],
   "source": [
    "speech_distribution_by_period(french_time_limit)"
   ]
  },
  {
   "cell_type": "markdown",
   "metadata": {},
   "source": [
    "#### Comparison of Goldoni's Five-Act Verse Comedies with the Contemporaneous French Five-Act Comedies in Verse:\n",
    "Carlo Goldoni wrote five-act verse comedies between 1751 and 1759. We will compare them with the French comedies from the same time frame.\n",
    "1. Goldoni's comedies had higher mean values of the following features:\n",
    "    - The mean number of dramatic characters (11.88 vs. 11 in French comedies);\n",
    "    - The mobility coefficient (62.25 vs. 43.80);\n",
    "    - The percentage of non-dialogues (58.64% vs. 54.96%);\n",
    "    - The percentage of polylogues (38.74% vs. 35.71%).\n",
    "    - The percentage of monologues (19.65% vs. 19.25%), which was only slightly higher in Goldoni;\n",
    "    - The coefficient of unused dramatic characters (17.28 vs. 12.69);\n",
    "    - The percentage of discontinuous scenes (9.80% vs. 3.34%).\n",
    "\n",
    "2. Goldoni's comedies had lower mean values of the standard range of the number of speaking characters (1.21 in Goldoni vs. 1.23 in the French comedies), which was very still very close.\n",
    "3. The maximum number of speakers in Goldoni's five-act comedies was nine, whereas, in the French five-act verse comedies of that time, it was 11.\n",
    "3. Goldoni had a comedy with a scene without any speakers, whereas the French comedies of that period did not have such scenes.\n",
    "\n",
    "#### Comparison of Goldoni's Five-Act Verse Comedies with the Russian Five-Act Comedies in Verse of the Tentative Period One:\n",
    "1. Goldoni had higher mean values than the Russian comedies of the tentative Period One for the following features:\n",
    "    - The mean number of dramatic characters (11.88 vs. 11.50 in Russian);\n",
    "    - The mobility coefficient (62.25 vs. 53.17);\n",
    "    - The percentage of polylogues (38.74% vs. 38.11%), which was only slightly higher;\n",
    "    - The percentage of discontinuous scenes (9.8% vs. 6.05).\n",
    "\n",
    "2. Goldoni had lower mean values than the Russian comedies of the tentative Period One for the following features:\n",
    "    - The standard range of the number of speaking characters (1.21 vs. 1.48 in Russian);\n",
    "    - The percentage of non-dialogues (58.64% vs. 59.94%);\n",
    "    - The percentage of monologues (19.65% vs. 21.84%);\n",
    "    - The coefficient of unused dramatic characters (17.28 vs. 19.04).\n",
    "3. The maximum number of speakers in Goldoni was 9, whereas in the Russian comedies of the tentative Period One, it was 12.\n",
    "\n",
    "#### Comparison of Goldoni's Five-Act Verse Comedies with the Russian Five-Act Comedies in Verse of the Tentative Period Two:\n",
    "- Goldoni had lower mean values than the Russian five-act verse comedies of the tentative Period Two in all features, except for the mobility coefficient (62.25 in Goldoni vs. 61.60 in Russian comedies) and the percentage of discontinuous scenes (9.80 vs. 6.55 in Russian comedies).\n",
    "\n",
    "- The maximum number of speakers in Goldoni was 9, whereas in the Russian comedies of the tentative Period Two, it was 13."
   ]
  },
  {
   "cell_type": "markdown",
   "metadata": {},
   "source": [
    "### The Closest Traditions"
   ]
  },
  {
   "cell_type": "markdown",
   "metadata": {},
   "source": [
    "In this section, we will calculate the difference between different traditions and rank them in ascending order, from the smallest to largest difference. We will repeat this process for all features. Negative difference (e.g., the Russian tentative Period One and Goldoni difference = -0.375) would mean that Goldoni has a higher mean value of the feature than the Russian period."
   ]
  },
  {
   "cell_type": "code",
   "execution_count": 80,
   "metadata": {},
   "outputs": [],
   "source": [
    "goldoni_df = goldoni_df.rename(columns={'standard_range': 'sigma_iarkho', 'date': 'creation_date'})\n",
    "shakespeare_df = shakespeare_df.rename(columns={'standard_range': 'sigma_iarkho', 'date': 'creation_date'})"
   ]
  },
  {
   "cell_type": "code",
   "execution_count": 81,
   "metadata": {},
   "outputs": [
    {
     "name": "stdout",
     "output_type": "stream",
     "text": [
      "num_present_characters\n",
      "\tRussian tentative Period One and French Period Two (Second Part): 0.227\n",
      "\tRussian tentative Period One and French Period One: -0.307\n",
      "\tRussian tentative Period One and Goldoni: -0.375\n",
      "\tRussian tentative Period One and French Period Two (First Part): 1.224\n",
      "\tRussian tentative Period One and Shakespeare: -14.333\n",
      "\n",
      "\n",
      "\tRussian tentative Period Two and French Period Three: 2.737\n",
      "\tRussian tentative Period Two and Goldoni: 2.825\n",
      "\tRussian tentative Period Two and French Period One: 2.893\n",
      "\tRussian tentative Period Two and French Period Two (Second Part): 3.427\n",
      "\tRussian tentative Period Two and French Period Two (First Part): 4.424\n",
      "\tRussian tentative Period Two and Shakespeare: -11.133\n",
      "\n",
      "\n",
      "\tFrench Period One and Goldoni: -0.068\n",
      "\tFrench Period Three and Goldoni: 0.088\n",
      "\tFrench Comedies Between 1751 and 1759 and Goldoni: -0.602\n",
      "\tFrench Period Two (First Part) and Goldoni: -1.599\n",
      "\tFrench Period Three and Shakespeare: -13.87\n",
      "\tFrench Period One and Shakespeare: -14.026\n",
      "\tFrench Period Two (Second Part) and Shakespeare: -14.561\n",
      "\tFrench Period Two (First Part) and Shakespeare: -15.557\n",
      "\n",
      "\n",
      "\tShakespeare and Goldoni: -13.958\n",
      "\n",
      "\n"
     ]
    }
   ],
   "source": [
    "difference_calculation('num_present_characters')"
   ]
  },
  {
   "cell_type": "code",
   "execution_count": 82,
   "metadata": {},
   "outputs": [
    {
     "name": "stdout",
     "output_type": "stream",
     "text": [
      "coefficient_unused\n",
      "\tRussian tentative Period One and Goldoni: 1.754\n",
      "\tRussian tentative Period One and French Period Two (Second Part): 5.026\n",
      "\tRussian tentative Period One and French Period One: 6.867\n",
      "\tRussian tentative Period One and French Period Two (First Part): 7.006\n",
      "\tRussian tentative Period One and Shakespeare: -21.953\n",
      "\n",
      "\n",
      "\tRussian tentative Period Two and Goldoni: 4.113\n",
      "\tRussian tentative Period Two and French Period Two (Second Part): 7.384\n",
      "\tRussian tentative Period Two and French Period Three: 7.654\n",
      "\tRussian tentative Period Two and French Period One: 9.226\n",
      "\tRussian tentative Period Two and French Period Two (First Part): 9.364\n",
      "\tRussian tentative Period Two and Shakespeare: -19.595\n",
      "\n",
      "\n",
      "\tFrench Comedies Between 1751 and 1759 and Goldoni: -3.272\n",
      "\tFrench Period Three and Goldoni: -3.541\n",
      "\tFrench Period One and Goldoni: -5.113\n",
      "\tFrench Period Two (First Part) and Goldoni: -5.252\n",
      "\tFrench Period Two (Second Part) and Shakespeare: -26.979\n",
      "\tFrench Period Three and Shakespeare: -27.249\n",
      "\tFrench Period One and Shakespeare: -28.821\n",
      "\tFrench Period Two (First Part) and Shakespeare: -28.959\n",
      "\n",
      "\n",
      "\tShakespeare and Goldoni: -23.708\n",
      "\n",
      "\n"
     ]
    }
   ],
   "source": [
    "difference_calculation('coefficient_unused')"
   ]
  },
  {
   "cell_type": "code",
   "execution_count": 83,
   "metadata": {},
   "outputs": [
    {
     "name": "stdout",
     "output_type": "stream",
     "text": [
      "mobility_coefficient\n",
      "\tRussian tentative Period One and French Period Two (Second Part): 1.379\n",
      "\tRussian tentative Period One and French Period Two (First Part): 4.874\n",
      "\tRussian tentative Period One and Goldoni: -9.083\n",
      "\tRussian tentative Period One and French Period One: 11.347\n",
      "\tRussian tentative Period One and Shakespeare: -24.833\n",
      "\n",
      "\n",
      "\tRussian tentative Period Two and Goldoni: -0.65\n",
      "\tRussian tentative Period Two and French Period Three: 7.285\n",
      "\tRussian tentative Period Two and French Period Two (Second Part): 9.812\n",
      "\tRussian tentative Period Two and French Period Two (First Part): 13.307\n",
      "\tRussian tentative Period Two and Shakespeare: -16.4\n",
      "\tRussian tentative Period Two and French Period One: 19.781\n",
      "\n",
      "\n",
      "\tFrench Period Three and Goldoni: -7.935\n",
      "\tFrench Comedies Between 1751 and 1759 and Goldoni: -10.462\n",
      "\tFrench Period Two (First Part) and Goldoni: -13.957\n",
      "\tFrench Period One and Goldoni: -20.431\n",
      "\tFrench Period Three and Shakespeare: -23.685\n",
      "\tFrench Period Two (Second Part) and Shakespeare: -26.212\n",
      "\tFrench Period Two (First Part) and Shakespeare: -29.707\n",
      "\tFrench Period One and Shakespeare: -36.181\n",
      "\n",
      "\n",
      "\tShakespeare and Goldoni: -15.75\n",
      "\n",
      "\n"
     ]
    }
   ],
   "source": [
    "difference_calculation('mobility_coefficient')"
   ]
  },
  {
   "cell_type": "markdown",
   "metadata": {},
   "source": [
    "#### Features Describing Dramatic Characters and Their Movements:\n",
    "1. **The number of dramatic characters**:\n",
    "  - the Russian tentative Period One was most similar to the contemporaneous French second half of Period Two (only 0.227 difference). The second most similar period tradition was the French Period One (-0.307, where the negative number means that the French Period One had a higher mean number of dramatic characters). The third most similar tradition was Goldoni (difference = -0.375).\n",
    "  \n",
    "  - the Russian tentative Period Two was not as similar to other traditions as the tentative Period One. It was the most similar to the contemporaneous French Period Three (difference = 2.737), followed by Goldoni (2.825), and the French Period One (difference = 2.893).\n",
    "   - the French comedies of Period One were most similar to Goldoni (difference = 0.068), followed by the French comedies of Period Three (difference = 0.088), and French comedies contemporaneous to Goldoni (difference = -0.602).\n",
    "  - Both Russian tentative periods were extremely different from Shakespeare. The Russian tentative Period One had a -14.333 difference with Shakespeare. The Russian tentative Period Two had a -11.133 difference with Shakespeare).\n",
    "  - French comedies of all periods were also very different from Shakespeare. The least different were the French Period Three  (-13.87 difference. The next least difference was with the French Period One ((-14.026), followed by the second half of the French Period Two (difference = -14.561). The French Period Three was the most dissimilar to Shakespeare (difference = -15.557).\n",
    "  -  Goldoni and Shakespeare were almost as dissimilar as the French and Russian traditions with Shakespeare (difference = -13.958).\n",
    "\n",
    "  \n",
    "2. **The coefficient of unused dramatic characters**:\n",
    "   - the Russian tentative Period One was the closest to Goldoni (difference = 1.754), followed by the contemporaneous French comedies (5.026), and French comedies of the first part of Period One (difference = 6.867).\n",
    "   - the Russian tentative Period Two was most similar to Goldoni, though not as much as the Russian tentative Period One (difference = 4.113), followed by the French comedies of the second part of Period Two (difference = 7.384), and period Three (difference = 7.654).\n",
    "   - the French comedies contemporaneous to Goldoni were most similar to him (difference = -3.272), followed by the French comedies of Period Three (-3.541), and Period One (difference = -5.113).\n",
    "   - Both tentative Periods of the Russian comedies were very far from Shakespeare (difference = -21.953 and difference = -19.595).\n",
    "   - French comedies of all periods were even further away from Shakespeare, with the smallest difference observed in the second part of Period Two (difference = -26.979).\n",
    "   - Goldoni and Shakespeare had a slightly smaller but still very large difference (difference = -23.708).\n",
    "\n",
    "    \n",
    "3. **The mobility coefficient**:\n",
    "  - the Russian tentative Period One was most similar to the contemporaneous French comedies (difference = 1.379), followed by the first half of Period Two (difference = 4.874), and Goldoni (difference = -9.083). \n",
    "  - the Russian tentative Period Two was most similar to Goldoni (difference = -0.65), followed by the contemporaneous French Period Three (difference = 7.285), and the second half of the French Period Two (difference = 9.812).\n",
    "   - the French comedies of Period Three were most similar to Goldoni (difference = -7.935).\n",
    "   - the Russian comedies of both tentative periods were dissimilar to Shakespeare, however, Period Two was less dissimilar than Period One (difference with the tentative Period One = -24.833, with the Period Two = -16.4).\n",
    "   - All French periods were also dissimilar from Shakespeare (with the difference ranging from -23.685 in the French Period Three to -36.181 in the French Period One).\n",
    "   - Shakespeare and Goldoni were also rather distant (difference = -15.75).\n",
    "        \n",
    "    \n",
    "4. **The percentage of discontinuous scenes**:\n",
    "  - the Russian tentative Period One had the highest similarity with the first part of the French Period Two (difference = -0.442), followed by the contemporaneous French comedies (difference = -1.502), and Goldoni (difference = -3.747).\n",
    "  - the Russian tentative Period Two also had the highest similarity with the first part of the French Period Two (0.062), followed by contemporaneous French comedies (difference = 0.724).\n",
    "  - Russian comedies of both periods were very dissimilar from Shakespeare (difference = -13.301 and difference = -12.797).\n",
    "  - French comedies contemporaneous to Goldoni were most similar to him (difference = -2.245).\n",
    "  - French comedies of all periods were dissimilar with Shakespeare, with differences ranging from 3.575 (Period One) to 13.521 in Period Three. \n",
    "  - Shakespeare and Goldoni had a large difference (difference = -9.554)."
   ]
  },
  {
   "cell_type": "code",
   "execution_count": 84,
   "metadata": {},
   "outputs": [
    {
     "name": "stdout",
     "output_type": "stream",
     "text": [
      "discontinuous_scenes\n",
      "\tRussian tentative Period One and French Period Two (First Part): -0.442\n",
      "\tRussian tentative Period One and French Period Two (Second Part): -1.502\n",
      "\tRussian tentative Period One and Goldoni: -3.747\n",
      "\tRussian tentative Period One and French Period One: -7.323\n",
      "\tRussian tentative Period One and Shakespeare: -13.301\n",
      "\n",
      "\n",
      "\tRussian tentative Period Two and French Period Two (First Part): 0.062\n",
      "\tRussian tentative Period Two and French Period Three: 0.724\n",
      "\tRussian tentative Period Two and French Period Two (Second Part): -0.998\n",
      "\tRussian tentative Period Two and Goldoni: -3.243\n",
      "\tRussian tentative Period Two and French Period One: -6.819\n",
      "\tRussian tentative Period Two and Shakespeare: -12.797\n",
      "\n",
      "\n",
      "\tFrench Comedies Between 1751 and 1759 and Goldoni: -2.245\n",
      "\tFrench Period Two (First Part) and Goldoni: -3.305\n",
      "\tFrench Period One and Goldoni: 3.575\n",
      "\tFrench Period Three and Goldoni: -3.967\n",
      "\tFrench Period One and Shakespeare: -5.978\n",
      "\tFrench Period Two (Second Part) and Shakespeare: -11.799\n",
      "\tFrench Period Two (First Part) and Shakespeare: -12.859\n",
      "\tFrench Period Three and Shakespeare: -13.521\n",
      "\n",
      "\n",
      "\tShakespeare and Goldoni: -9.554\n",
      "\n",
      "\n"
     ]
    }
   ],
   "source": [
    "difference_calculation('discontinuous_scenes')"
   ]
  },
  {
   "cell_type": "code",
   "execution_count": 85,
   "metadata": {},
   "outputs": [
    {
     "name": "stdout",
     "output_type": "stream",
     "text": [
      "sigma_iarkho\n",
      "\tRussian tentative Period One and Shakespeare: 0.145\n",
      "\tRussian tentative Period One and French Period One: 0.249\n",
      "\tRussian tentative Period One and Goldoni: 0.269\n",
      "\tRussian tentative Period One and French Period Two (Second Part): 0.338\n",
      "\tRussian tentative Period One and French Period Two (First Part): 0.359\n",
      "\n",
      "\n",
      "\tRussian tentative Period Two and Shakespeare: 0.212\n",
      "\tRussian tentative Period Two and French Period Three: 0.213\n",
      "\tRussian tentative Period Two and French Period One: 0.316\n",
      "\tRussian tentative Period Two and Goldoni: 0.336\n",
      "\tRussian tentative Period Two and French Period Two (Second Part): 0.406\n",
      "\tRussian tentative Period Two and French Period Two (First Part): 0.426\n",
      "\n",
      "\n",
      "\tFrench Period Three and Shakespeare: -0.0\n",
      "\tFrench Period One and Goldoni: 0.02\n",
      "\tFrench Comedies Between 1751 and 1759 and Goldoni: -0.07\n",
      "\tFrench Period Two (First Part) and Goldoni: -0.091\n",
      "\tFrench Period One and Shakespeare: -0.104\n",
      "\tFrench Period Three and Goldoni: 0.123\n",
      "\tFrench Period Two (Second Part) and Shakespeare: -0.193\n",
      "\tFrench Period Two (First Part) and Shakespeare: -0.214\n",
      "\n",
      "\n",
      "\tShakespeare and Goldoni: -0.124\n",
      "\n",
      "\n"
     ]
    }
   ],
   "source": [
    "difference_calculation('sigma_iarkho')"
   ]
  },
  {
   "cell_type": "code",
   "execution_count": 86,
   "metadata": {},
   "outputs": [
    {
     "name": "stdout",
     "output_type": "stream",
     "text": [
      "percentage_non_dialogues\n",
      "\tRussian tentative Period One and Goldoni: 1.305\n",
      "\tRussian tentative Period One and Shakespeare: -1.815\n",
      "\tRussian tentative Period One and French Period One: 3.83\n",
      "\tRussian tentative Period One and French Period Two (Second Part): 6.216\n",
      "\tRussian tentative Period One and French Period Two (First Part): 6.576\n",
      "\n",
      "\n",
      "\tRussian tentative Period Two and Shakespeare: -1.122\n",
      "\tRussian tentative Period Two and Goldoni: 1.997\n",
      "\tRussian tentative Period Two and French Period Three: 2.512\n",
      "\tRussian tentative Period Two and French Period One: 4.522\n",
      "\tRussian tentative Period Two and French Period Two (Second Part): 6.909\n",
      "\tRussian tentative Period Two and French Period Two (First Part): 7.269\n",
      "\n",
      "\n",
      "\tFrench Period Three and Goldoni: -0.515\n",
      "\tFrench Period One and Goldoni: -2.525\n",
      "\tFrench Period Three and Shakespeare: -3.634\n",
      "\tFrench Comedies Between 1751 and 1759 and Goldoni: -4.912\n",
      "\tFrench Period Two (First Part) and Goldoni: -5.272\n",
      "\tFrench Period One and Shakespeare: -5.645\n",
      "\tFrench Period Two (Second Part) and Shakespeare: -8.031\n",
      "\tFrench Period Two (First Part) and Shakespeare: -8.391\n",
      "\n",
      "\n",
      "\tShakespeare and Goldoni: -3.12\n",
      "\n",
      "\n"
     ]
    }
   ],
   "source": [
    "difference_calculation('percentage_non_dialogues')"
   ]
  },
  {
   "cell_type": "code",
   "execution_count": 87,
   "metadata": {},
   "outputs": [
    {
     "name": "stdout",
     "output_type": "stream",
     "text": [
      "percentage_polylogues\n",
      "\tRussian tentative Period One and Shakespeare: 0.259\n",
      "\tRussian tentative Period One and Goldoni: -0.63\n",
      "\tRussian tentative Period One and French Period One: -4.704\n",
      "\tRussian tentative Period One and French Period Two (First Part): 5.843\n",
      "\tRussian tentative Period One and French Period Two (Second Part): 8.303\n",
      "\n",
      "\n",
      "\tRussian tentative Period Two and Goldoni: 0.941\n",
      "\tRussian tentative Period Two and Shakespeare: 1.829\n",
      "\tRussian tentative Period Two and French Period Three: 1.983\n",
      "\tRussian tentative Period Two and French Period One: -3.134\n",
      "\tRussian tentative Period Two and French Period Two (First Part): 7.413\n",
      "\tRussian tentative Period Two and French Period Two (Second Part): 9.874\n",
      "\n",
      "\n",
      "\tFrench Period Three and Shakespeare: -0.153\n",
      "\tFrench Period Three and Goldoni: -1.042\n",
      "\tFrench Period One and Goldoni: 4.074\n",
      "\tFrench Period One and Shakespeare: 4.963\n",
      "\tFrench Period Two (First Part) and Shakespeare: -5.584\n",
      "\tFrench Period Two (First Part) and Goldoni: -6.472\n",
      "\tFrench Period Two (Second Part) and Shakespeare: -8.044\n",
      "\tFrench Comedies Between 1751 and 1759 and Goldoni: -8.933\n",
      "\n",
      "\n",
      "\tShakespeare and Goldoni: 0.889\n",
      "\n",
      "\n"
     ]
    }
   ],
   "source": [
    "difference_calculation('percentage_polylogues')"
   ]
  },
  {
   "cell_type": "code",
   "execution_count": 88,
   "metadata": {},
   "outputs": [
    {
     "name": "stdout",
     "output_type": "stream",
     "text": [
      "percentage_monologues\n",
      "\tRussian tentative Period One and French Period Two (First Part): 0.767\n",
      "\tRussian tentative Period One and Shakespeare: -1.719\n",
      "\tRussian tentative Period One and French Period Two (Second Part): -2.032\n",
      "\tRussian tentative Period One and Goldoni: 2.183\n",
      "\tRussian tentative Period One and French Period One: 8.658\n",
      "\n",
      "\n",
      "\tRussian tentative Period Two and French Period Three: 0.301\n",
      "\tRussian tentative Period Two and French Period Two (First Part): -0.415\n",
      "\tRussian tentative Period Two and Goldoni: 1.001\n",
      "\tRussian tentative Period Two and Shakespeare: -2.901\n",
      "\tRussian tentative Period Two and French Period Two (Second Part): -3.214\n",
      "\tRussian tentative Period Two and French Period One: 7.476\n",
      "\n",
      "\n",
      "\tFrench Period Two (Second Part) and Shakespeare: 0.313\n",
      "\tFrench Period Three and Goldoni: 0.7\n",
      "\tFrench Period Two (First Part) and Goldoni: 1.416\n",
      "\tFrench Period Two (First Part) and Shakespeare: -2.486\n",
      "\tFrench Period Three and Shakespeare: -3.202\n",
      "\tFrench Comedies Between 1751 and 1759 and Goldoni: 4.215\n",
      "\tFrench Period One and Goldoni: -6.475\n",
      "\tFrench Period One and Shakespeare: -10.377\n",
      "\n",
      "\n",
      "\tShakespeare and Goldoni: -3.902\n",
      "\n",
      "\n"
     ]
    }
   ],
   "source": [
    "difference_calculation('percentage_monologues')"
   ]
  },
  {
   "cell_type": "markdown",
   "metadata": {},
   "source": [
    "#### Features Describing Dramatic Characters' Speech:   \n",
    "1. **The standard range of the number of speaking characters**:\n",
    "  - the Russian tentative Period One was the closest to Shakespeare (difference =0.145), followed by the French Period One (0.249).\n",
    "  - the Russian tentative Period Two also was the cloest to Shakespeare (difference = 0.212), followed by the contemporaneous French comedies (difference = 0.213).\n",
    "  - the French Period Three had no difference with Shakespeare.\n",
    "  - the French Period One had the smallest difference with Goldoni (difference = 0.02), followed by the contemporaneous French comedies (difference = -0.07).\n",
    "  - Shakespeare and Goldoni had a very small difference (difference = -0.124).\n",
    "\n",
    "\n",
    "2. **The percentage of non-dialogues**:\n",
    "  - the Russian tentative Period One was the closest to Goldoni (difference = 1.305), followed by Shakespeare (difference = -1.815).\n",
    "  - the Russian tentative Period Two was most similar with Shakespeare (difference = -1.122), followed by Goldoni (difference = 1.997).\n",
    "  - the French, which was the closest to Shakespeare, was Period Three (difference = -3.634).\n",
    "  - French Period Three was also the closest to  Goldoni (difference = -0.515).\n",
    "  - Shakespeare and Goldoni had a rather small difference (difference = -3.12).\n",
    "    \n",
    "    \n",
    "3. **The percentage of polylogues**:\n",
    "  - the Russian tentative Period One had the highest similarity with Shakespeare (difference = 0.259), followed by Goldoni (-0.63).\n",
    "  - the Russian tentative Period Two was most similar with Goldoni (difference=0.941), followed by Shakespeare (1.829).\n",
    "  - the French Period Three had the highest similarity with Shakespeare (difference = -0.153).\n",
    "  - the French Period was also the period in the French history, which was most similar to Shakespere (difference=  -1.042).\n",
    "  - Shakespeare and Goldoni had a very small difference (difference = 0.889)\n",
    "  \n",
    "  \n",
    "4. **The percentage of monologues**:\n",
    "  - the Russian tentative Period One was most similar to the first part of the French Period Two (difference = 0.767), followed by Shakespeare (difference = -1.719). \n",
    "  - the Russian tentative Period Two was most similar to the contemporaneous French Period Three (difference = 0.301), followed by the first part of the French Period Two (difference = -0.415).\n",
    "  - the French comedies of the second part of of Period Two had smallest difference with Shakespeare (difference = 0.313).\n",
    "  - the French comedies of Period Three were most similar to Goldoni (difference =  0.7)\n",
    "  - Shakespeare and Goldoni were reasonably similar (difference = -3.902)."
   ]
  },
  {
   "cell_type": "markdown",
   "metadata": {},
   "source": [
    "## Conclusions:\n",
    "1. In two tentative periods, Russian comedies had higher values than the contemporaneous French. There could be a few possible explanations for this. The Russian tradition could have been mainly influenced by a specific substratum of the French comedians who were popular in Russia at that time, instead of an entire corpus of contemporaneous five-act verse comedies. Another possiblity could have been that a specific group of Russian comedies was influences by the French comedies, while the other group experienced the influence of another national tradition (or the influence of another genre).\n",
    "\n",
    "2. Despite having higher values than the contemporaneous French comedies, for all features describing dramatic characters and their movements except for the coefficient of unused dramatic characters, either contemporaneousFrench comedies or French comedies of preceding periods were the most similar tradition. For the coefficient of unused dramatic characters, Goldoni's comedies were the most similar tradition, followed by the contemporaneous French tradition. Based on these features describing dramatic characters and their movements, the Russian, the French, and the Italian  (as represented by Goldoni) traditions were very dissimilar from Shakespeare. These features most likely differentiated the continental, French-Italian tradition, which served as a model for the Russians, from the English tradition.\n",
    "\n",
    "\n",
    "3. Based on the features describing dramatic characters speech, Shakespeare was far less \"distant\" from the continental tradition than based on the features describing dramatic characters and their movements. For all features, except the percentage of monologues, Shakespeare's comedies were among the top two most similar traditions to the Russian comedies. For two of them (the percentage of non-dialogues and the percentage of polylogues), Goldoni's comedies were either the first or second most similar traditions. The behavior of the percentage of monologues was somewhat different. Here, it was the French tradition, either of the preceding or contemporaneous periods, which was most similar to the Russian tradition. For all features, except for the percentage of monologues, the French Period Three was the most similar to Shakespeare - for the percentage of monologues, the second part of Period Two was most similar to Shakespeare. For all features, the French Period Three was the most similar period to Goldoni, which could be a sign of the influence of Italian tradition on the subsequent French tradition. In general, the speech-based features revealed more similarities between the continental and the English comic tradition - they appear to reflect a shared European taste."
   ]
  },
  {
   "cell_type": "markdown",
   "metadata": {},
   "source": [
    "## Part 2. Open-Form Scores"
   ]
  },
  {
   "cell_type": "markdown",
   "metadata": {},
   "source": [
    "The open-form score measures how experimental a style of a particular tradition during a specified decade is. Generation of open-form scores is described in detail in the following notebook: https://github.com/innawendell/European_Comedy/blob/master/Analyses/Open_Form_Scores_Evolution.ipynb. In our current analysis, we will calculate open-form scores for each tradition (Russian five-act verse comedies, French five-act verse comedies as well as Shakespeare's and Goldoni's five-act comedies in verse) by decades. Finally, we will trace and compare the evolution of these traditions."
   ]
  },
  {
   "cell_type": "code",
   "execution_count": 89,
   "metadata": {},
   "outputs": [],
   "source": [
    "french_original_comedies['decades'] = french_original_comedies.date.apply(decade)"
   ]
  },
  {
   "cell_type": "code",
   "execution_count": 90,
   "metadata": {},
   "outputs": [],
   "source": [
    "summary_french = scores_calculation(french_original_comedies, True)"
   ]
  },
  {
   "cell_type": "code",
   "execution_count": 91,
   "metadata": {},
   "outputs": [],
   "source": [
    "russian_comedies_df = russian_comedies_df.rename(columns={'standard_range': 'sigma_iarkho'})\n",
    "summary_russian = scores_calculation(russian_comedies_df, True, french_original_comedies)"
   ]
  },
  {
   "cell_type": "code",
   "execution_count": 92,
   "metadata": {},
   "outputs": [],
   "source": [
    "goldoni_df['decades'] = goldoni_df.creation_date.apply(decade)\n",
    "summary_goldoni = scores_calculation(goldoni_df , True, french_original_comedies)"
   ]
  },
  {
   "cell_type": "code",
   "execution_count": 93,
   "metadata": {},
   "outputs": [],
   "source": [
    "shakespeare_df['decades'] = shakespeare_df.creation_date.apply(decade)\n",
    "summary_shakespeare = scores_calculation(shakespeare_df , True, french_original_comedies)"
   ]
  },
  {
   "cell_type": "markdown",
   "metadata": {},
   "source": [
    "### Open-Form Scores For Shakespeare"
   ]
  },
  {
   "cell_type": "code",
   "execution_count": 94,
   "metadata": {},
   "outputs": [
    {
     "data": {
      "text/html": [
       "<div>\n",
       "<style scoped>\n",
       "    .dataframe tbody tr th:only-of-type {\n",
       "        vertical-align: middle;\n",
       "    }\n",
       "\n",
       "    .dataframe tbody tr th {\n",
       "        vertical-align: top;\n",
       "    }\n",
       "\n",
       "    .dataframe thead th {\n",
       "        text-align: right;\n",
       "    }\n",
       "</style>\n",
       "<table border=\"1\" class=\"dataframe\">\n",
       "  <thead>\n",
       "    <tr style=\"text-align: right;\">\n",
       "      <th></th>\n",
       "      <th>num_present_characters</th>\n",
       "      <th>mobility_coefficient</th>\n",
       "      <th>sigma_iarkho</th>\n",
       "      <th>polylogues</th>\n",
       "      <th>monologues</th>\n",
       "      <th>open_form_score</th>\n",
       "    </tr>\n",
       "    <tr>\n",
       "      <th>decades</th>\n",
       "      <th></th>\n",
       "      <th></th>\n",
       "      <th></th>\n",
       "      <th></th>\n",
       "      <th></th>\n",
       "      <th></th>\n",
       "    </tr>\n",
       "  </thead>\n",
       "  <tbody>\n",
       "    <tr>\n",
       "      <th>1600</th>\n",
       "      <td>5.01</td>\n",
       "      <td>3.52</td>\n",
       "      <td>0.03</td>\n",
       "      <td>-0.09</td>\n",
       "      <td>-0.52</td>\n",
       "      <td>1.59</td>\n",
       "    </tr>\n",
       "    <tr>\n",
       "      <th>1590</th>\n",
       "      <td>3.01</td>\n",
       "      <td>1.74</td>\n",
       "      <td>0.52</td>\n",
       "      <td>0.17</td>\n",
       "      <td>-0.60</td>\n",
       "      <td>0.97</td>\n",
       "    </tr>\n",
       "  </tbody>\n",
       "</table>\n",
       "</div>"
      ],
      "text/plain": [
       "         num_present_characters  mobility_coefficient  sigma_iarkho  \\\n",
       "decades                                                               \n",
       "1600                       5.01                  3.52          0.03   \n",
       "1590                       3.01                  1.74          0.52   \n",
       "\n",
       "         polylogues  monologues  open_form_score  \n",
       "decades                                           \n",
       "1600          -0.09       -0.52             1.59  \n",
       "1590           0.17       -0.60             0.97  "
      ]
     },
     "execution_count": 94,
     "metadata": {},
     "output_type": "execute_result"
    }
   ],
   "source": [
    "summary_shakespeare"
   ]
  },
  {
   "cell_type": "markdown",
   "metadata": {},
   "source": [
    "### Open-Form Scores For Goldoni"
   ]
  },
  {
   "cell_type": "code",
   "execution_count": 95,
   "metadata": {},
   "outputs": [
    {
     "data": {
      "text/html": [
       "<div>\n",
       "<style scoped>\n",
       "    .dataframe tbody tr th:only-of-type {\n",
       "        vertical-align: middle;\n",
       "    }\n",
       "\n",
       "    .dataframe tbody tr th {\n",
       "        vertical-align: top;\n",
       "    }\n",
       "\n",
       "    .dataframe thead th {\n",
       "        text-align: right;\n",
       "    }\n",
       "</style>\n",
       "<table border=\"1\" class=\"dataframe\">\n",
       "  <thead>\n",
       "    <tr style=\"text-align: right;\">\n",
       "      <th></th>\n",
       "      <th>num_present_characters</th>\n",
       "      <th>mobility_coefficient</th>\n",
       "      <th>sigma_iarkho</th>\n",
       "      <th>polylogues</th>\n",
       "      <th>monologues</th>\n",
       "      <th>open_form_score</th>\n",
       "    </tr>\n",
       "    <tr>\n",
       "      <th>decades</th>\n",
       "      <th></th>\n",
       "      <th></th>\n",
       "      <th></th>\n",
       "      <th></th>\n",
       "      <th></th>\n",
       "      <th></th>\n",
       "    </tr>\n",
       "  </thead>\n",
       "  <tbody>\n",
       "    <tr>\n",
       "      <th>1750</th>\n",
       "      <td>0.12</td>\n",
       "      <td>1.18</td>\n",
       "      <td>-0.04</td>\n",
       "      <td>0.13</td>\n",
       "      <td>-0.13</td>\n",
       "      <td>0.25</td>\n",
       "    </tr>\n",
       "  </tbody>\n",
       "</table>\n",
       "</div>"
      ],
      "text/plain": [
       "         num_present_characters  mobility_coefficient  sigma_iarkho  \\\n",
       "decades                                                               \n",
       "1750                       0.12                  1.18         -0.04   \n",
       "\n",
       "         polylogues  monologues  open_form_score  \n",
       "decades                                           \n",
       "1750           0.13       -0.13             0.25  "
      ]
     },
     "execution_count": 95,
     "metadata": {},
     "output_type": "execute_result"
    }
   ],
   "source": [
    "summary_goldoni"
   ]
  },
  {
   "cell_type": "markdown",
   "metadata": {},
   "source": [
    "### Open-Form Scores For Russian Five-Act Verse Comedies"
   ]
  },
  {
   "cell_type": "code",
   "execution_count": 96,
   "metadata": {},
   "outputs": [
    {
     "data": {
      "text/html": [
       "<div>\n",
       "<style scoped>\n",
       "    .dataframe tbody tr th:only-of-type {\n",
       "        vertical-align: middle;\n",
       "    }\n",
       "\n",
       "    .dataframe tbody tr th {\n",
       "        vertical-align: top;\n",
       "    }\n",
       "\n",
       "    .dataframe thead th {\n",
       "        text-align: right;\n",
       "    }\n",
       "</style>\n",
       "<table border=\"1\" class=\"dataframe\">\n",
       "  <thead>\n",
       "    <tr style=\"text-align: right;\">\n",
       "      <th></th>\n",
       "      <th>num_present_characters</th>\n",
       "      <th>mobility_coefficient</th>\n",
       "      <th>sigma_iarkho</th>\n",
       "      <th>polylogues</th>\n",
       "      <th>monologues</th>\n",
       "      <th>open_form_score</th>\n",
       "    </tr>\n",
       "    <tr>\n",
       "      <th>decades</th>\n",
       "      <th></th>\n",
       "      <th></th>\n",
       "      <th></th>\n",
       "      <th></th>\n",
       "      <th></th>\n",
       "      <th></th>\n",
       "    </tr>\n",
       "  </thead>\n",
       "  <tbody>\n",
       "    <tr>\n",
       "      <th>1810</th>\n",
       "      <td>1.12</td>\n",
       "      <td>0.73</td>\n",
       "      <td>1.31</td>\n",
       "      <td>0.91</td>\n",
       "      <td>0.17</td>\n",
       "      <td>0.85</td>\n",
       "    </tr>\n",
       "    <tr>\n",
       "      <th>1790</th>\n",
       "      <td>0.60</td>\n",
       "      <td>0.28</td>\n",
       "      <td>2.23</td>\n",
       "      <td>0.83</td>\n",
       "      <td>-0.03</td>\n",
       "      <td>0.78</td>\n",
       "    </tr>\n",
       "    <tr>\n",
       "      <th>1840</th>\n",
       "      <td>0.96</td>\n",
       "      <td>2.77</td>\n",
       "      <td>-0.21</td>\n",
       "      <td>-0.19</td>\n",
       "      <td>-0.05</td>\n",
       "      <td>0.66</td>\n",
       "    </tr>\n",
       "    <tr>\n",
       "      <th>1800</th>\n",
       "      <td>0.42</td>\n",
       "      <td>0.92</td>\n",
       "      <td>0.57</td>\n",
       "      <td>-1.06</td>\n",
       "      <td>-0.78</td>\n",
       "      <td>0.01</td>\n",
       "    </tr>\n",
       "    <tr>\n",
       "      <th>1780</th>\n",
       "      <td>0.25</td>\n",
       "      <td>0.64</td>\n",
       "      <td>-0.17</td>\n",
       "      <td>-0.18</td>\n",
       "      <td>-0.68</td>\n",
       "      <td>-0.03</td>\n",
       "    </tr>\n",
       "    <tr>\n",
       "      <th>1820</th>\n",
       "      <td>-0.64</td>\n",
       "      <td>1.24</td>\n",
       "      <td>1.01</td>\n",
       "      <td>-0.93</td>\n",
       "      <td>-1.13</td>\n",
       "      <td>-0.09</td>\n",
       "    </tr>\n",
       "    <tr>\n",
       "      <th>1770</th>\n",
       "      <td>-0.91</td>\n",
       "      <td>-0.24</td>\n",
       "      <td>-0.28</td>\n",
       "      <td>-1.54</td>\n",
       "      <td>-1.41</td>\n",
       "      <td>-0.88</td>\n",
       "    </tr>\n",
       "  </tbody>\n",
       "</table>\n",
       "</div>"
      ],
      "text/plain": [
       "         num_present_characters  mobility_coefficient  sigma_iarkho  \\\n",
       "decades                                                               \n",
       "1810                       1.12                  0.73          1.31   \n",
       "1790                       0.60                  0.28          2.23   \n",
       "1840                       0.96                  2.77         -0.21   \n",
       "1800                       0.42                  0.92          0.57   \n",
       "1780                       0.25                  0.64         -0.17   \n",
       "1820                      -0.64                  1.24          1.01   \n",
       "1770                      -0.91                 -0.24         -0.28   \n",
       "\n",
       "         polylogues  monologues  open_form_score  \n",
       "decades                                           \n",
       "1810           0.91        0.17             0.85  \n",
       "1790           0.83       -0.03             0.78  \n",
       "1840          -0.19       -0.05             0.66  \n",
       "1800          -1.06       -0.78             0.01  \n",
       "1780          -0.18       -0.68            -0.03  \n",
       "1820          -0.93       -1.13            -0.09  \n",
       "1770          -1.54       -1.41            -0.88  "
      ]
     },
     "execution_count": 96,
     "metadata": {},
     "output_type": "execute_result"
    }
   ],
   "source": [
    "summary_russian"
   ]
  },
  {
   "cell_type": "markdown",
   "metadata": {},
   "source": [
    "### Open-Form Scores For French Five-Act Verse Comedies"
   ]
  },
  {
   "cell_type": "code",
   "execution_count": 97,
   "metadata": {},
   "outputs": [
    {
     "data": {
      "text/html": [
       "<div>\n",
       "<style scoped>\n",
       "    .dataframe tbody tr th:only-of-type {\n",
       "        vertical-align: middle;\n",
       "    }\n",
       "\n",
       "    .dataframe tbody tr th {\n",
       "        vertical-align: top;\n",
       "    }\n",
       "\n",
       "    .dataframe thead th {\n",
       "        text-align: right;\n",
       "    }\n",
       "</style>\n",
       "<table border=\"1\" class=\"dataframe\">\n",
       "  <thead>\n",
       "    <tr style=\"text-align: right;\">\n",
       "      <th></th>\n",
       "      <th>num_present_characters</th>\n",
       "      <th>mobility_coefficient</th>\n",
       "      <th>sigma_iarkho</th>\n",
       "      <th>polylogues</th>\n",
       "      <th>monologues</th>\n",
       "      <th>open_form_score</th>\n",
       "    </tr>\n",
       "    <tr>\n",
       "      <th>decades</th>\n",
       "      <th></th>\n",
       "      <th></th>\n",
       "      <th></th>\n",
       "      <th></th>\n",
       "      <th></th>\n",
       "      <th></th>\n",
       "    </tr>\n",
       "  </thead>\n",
       "  <tbody>\n",
       "    <tr>\n",
       "      <th>1830</th>\n",
       "      <td>2.20</td>\n",
       "      <td>0.98</td>\n",
       "      <td>0.57</td>\n",
       "      <td>0.13</td>\n",
       "      <td>-0.06</td>\n",
       "      <td>0.76</td>\n",
       "    </tr>\n",
       "    <tr>\n",
       "      <th>1650</th>\n",
       "      <td>0.31</td>\n",
       "      <td>-0.75</td>\n",
       "      <td>0.25</td>\n",
       "      <td>0.90</td>\n",
       "      <td>1.02</td>\n",
       "      <td>0.35</td>\n",
       "    </tr>\n",
       "    <tr>\n",
       "      <th>1680</th>\n",
       "      <td>0.96</td>\n",
       "      <td>0.08</td>\n",
       "      <td>-0.39</td>\n",
       "      <td>0.51</td>\n",
       "      <td>0.42</td>\n",
       "      <td>0.32</td>\n",
       "    </tr>\n",
       "    <tr>\n",
       "      <th>1670</th>\n",
       "      <td>0.45</td>\n",
       "      <td>0.09</td>\n",
       "      <td>0.10</td>\n",
       "      <td>0.43</td>\n",
       "      <td>0.50</td>\n",
       "      <td>0.31</td>\n",
       "    </tr>\n",
       "    <tr>\n",
       "      <th>1840</th>\n",
       "      <td>-0.02</td>\n",
       "      <td>0.90</td>\n",
       "      <td>0.42</td>\n",
       "      <td>-0.12</td>\n",
       "      <td>0.07</td>\n",
       "      <td>0.25</td>\n",
       "    </tr>\n",
       "    <tr>\n",
       "      <th>1660</th>\n",
       "      <td>-0.01</td>\n",
       "      <td>-0.50</td>\n",
       "      <td>0.30</td>\n",
       "      <td>0.46</td>\n",
       "      <td>0.68</td>\n",
       "      <td>0.19</td>\n",
       "    </tr>\n",
       "    <tr>\n",
       "      <th>1810</th>\n",
       "      <td>-0.19</td>\n",
       "      <td>0.28</td>\n",
       "      <td>0.30</td>\n",
       "      <td>0.38</td>\n",
       "      <td>-0.08</td>\n",
       "      <td>0.14</td>\n",
       "    </tr>\n",
       "    <tr>\n",
       "      <th>1790</th>\n",
       "      <td>0.05</td>\n",
       "      <td>0.50</td>\n",
       "      <td>0.18</td>\n",
       "      <td>-0.03</td>\n",
       "      <td>-0.30</td>\n",
       "      <td>0.08</td>\n",
       "    </tr>\n",
       "    <tr>\n",
       "      <th>1800</th>\n",
       "      <td>-0.14</td>\n",
       "      <td>0.49</td>\n",
       "      <td>0.05</td>\n",
       "      <td>0.04</td>\n",
       "      <td>-0.05</td>\n",
       "      <td>0.08</td>\n",
       "    </tr>\n",
       "    <tr>\n",
       "      <th>1640</th>\n",
       "      <td>-0.34</td>\n",
       "      <td>-0.46</td>\n",
       "      <td>-0.03</td>\n",
       "      <td>0.42</td>\n",
       "      <td>0.81</td>\n",
       "      <td>0.08</td>\n",
       "    </tr>\n",
       "    <tr>\n",
       "      <th>1820</th>\n",
       "      <td>0.07</td>\n",
       "      <td>0.50</td>\n",
       "      <td>0.42</td>\n",
       "      <td>-0.11</td>\n",
       "      <td>-0.51</td>\n",
       "      <td>0.07</td>\n",
       "    </tr>\n",
       "    <tr>\n",
       "      <th>1700</th>\n",
       "      <td>-0.11</td>\n",
       "      <td>0.01</td>\n",
       "      <td>0.00</td>\n",
       "      <td>0.26</td>\n",
       "      <td>0.16</td>\n",
       "      <td>0.06</td>\n",
       "    </tr>\n",
       "    <tr>\n",
       "      <th>1750</th>\n",
       "      <td>-0.24</td>\n",
       "      <td>-0.29</td>\n",
       "      <td>-0.00</td>\n",
       "      <td>0.15</td>\n",
       "      <td>0.11</td>\n",
       "      <td>-0.05</td>\n",
       "    </tr>\n",
       "    <tr>\n",
       "      <th>1710</th>\n",
       "      <td>-0.16</td>\n",
       "      <td>0.36</td>\n",
       "      <td>-0.24</td>\n",
       "      <td>-0.28</td>\n",
       "      <td>0.01</td>\n",
       "      <td>-0.06</td>\n",
       "    </tr>\n",
       "    <tr>\n",
       "      <th>1690</th>\n",
       "      <td>-0.01</td>\n",
       "      <td>0.20</td>\n",
       "      <td>-0.12</td>\n",
       "      <td>-0.26</td>\n",
       "      <td>-0.26</td>\n",
       "      <td>-0.09</td>\n",
       "    </tr>\n",
       "    <tr>\n",
       "      <th>1760</th>\n",
       "      <td>-0.18</td>\n",
       "      <td>-0.22</td>\n",
       "      <td>-0.07</td>\n",
       "      <td>-0.11</td>\n",
       "      <td>-0.22</td>\n",
       "      <td>-0.16</td>\n",
       "    </tr>\n",
       "    <tr>\n",
       "      <th>1720</th>\n",
       "      <td>-0.32</td>\n",
       "      <td>0.24</td>\n",
       "      <td>-0.04</td>\n",
       "      <td>-0.29</td>\n",
       "      <td>-0.86</td>\n",
       "      <td>-0.25</td>\n",
       "    </tr>\n",
       "    <tr>\n",
       "      <th>1780</th>\n",
       "      <td>-0.06</td>\n",
       "      <td>0.49</td>\n",
       "      <td>-0.44</td>\n",
       "      <td>-0.64</td>\n",
       "      <td>-0.64</td>\n",
       "      <td>-0.26</td>\n",
       "    </tr>\n",
       "    <tr>\n",
       "      <th>1630</th>\n",
       "      <td>-0.13</td>\n",
       "      <td>-0.90</td>\n",
       "      <td>0.15</td>\n",
       "      <td>-0.24</td>\n",
       "      <td>-0.30</td>\n",
       "      <td>-0.28</td>\n",
       "    </tr>\n",
       "    <tr>\n",
       "      <th>1730</th>\n",
       "      <td>-0.45</td>\n",
       "      <td>0.08</td>\n",
       "      <td>-0.60</td>\n",
       "      <td>-0.62</td>\n",
       "      <td>-0.50</td>\n",
       "      <td>-0.42</td>\n",
       "    </tr>\n",
       "    <tr>\n",
       "      <th>1740</th>\n",
       "      <td>-0.57</td>\n",
       "      <td>-0.25</td>\n",
       "      <td>-0.67</td>\n",
       "      <td>-0.72</td>\n",
       "      <td>-0.08</td>\n",
       "      <td>-0.46</td>\n",
       "    </tr>\n",
       "    <tr>\n",
       "      <th>1770</th>\n",
       "      <td>-0.14</td>\n",
       "      <td>-0.03</td>\n",
       "      <td>-0.52</td>\n",
       "      <td>-1.22</td>\n",
       "      <td>-0.93</td>\n",
       "      <td>-0.57</td>\n",
       "    </tr>\n",
       "    <tr>\n",
       "      <th>1620</th>\n",
       "      <td>-0.91</td>\n",
       "      <td>-0.73</td>\n",
       "      <td>-0.90</td>\n",
       "      <td>-1.11</td>\n",
       "      <td>-1.38</td>\n",
       "      <td>-1.01</td>\n",
       "    </tr>\n",
       "  </tbody>\n",
       "</table>\n",
       "</div>"
      ],
      "text/plain": [
       "         num_present_characters  mobility_coefficient  sigma_iarkho  \\\n",
       "decades                                                               \n",
       "1830                       2.20                  0.98          0.57   \n",
       "1650                       0.31                 -0.75          0.25   \n",
       "1680                       0.96                  0.08         -0.39   \n",
       "1670                       0.45                  0.09          0.10   \n",
       "1840                      -0.02                  0.90          0.42   \n",
       "1660                      -0.01                 -0.50          0.30   \n",
       "1810                      -0.19                  0.28          0.30   \n",
       "1790                       0.05                  0.50          0.18   \n",
       "1800                      -0.14                  0.49          0.05   \n",
       "1640                      -0.34                 -0.46         -0.03   \n",
       "1820                       0.07                  0.50          0.42   \n",
       "1700                      -0.11                  0.01          0.00   \n",
       "1750                      -0.24                 -0.29         -0.00   \n",
       "1710                      -0.16                  0.36         -0.24   \n",
       "1690                      -0.01                  0.20         -0.12   \n",
       "1760                      -0.18                 -0.22         -0.07   \n",
       "1720                      -0.32                  0.24         -0.04   \n",
       "1780                      -0.06                  0.49         -0.44   \n",
       "1630                      -0.13                 -0.90          0.15   \n",
       "1730                      -0.45                  0.08         -0.60   \n",
       "1740                      -0.57                 -0.25         -0.67   \n",
       "1770                      -0.14                 -0.03         -0.52   \n",
       "1620                      -0.91                 -0.73         -0.90   \n",
       "\n",
       "         polylogues  monologues  open_form_score  \n",
       "decades                                           \n",
       "1830           0.13       -0.06             0.76  \n",
       "1650           0.90        1.02             0.35  \n",
       "1680           0.51        0.42             0.32  \n",
       "1670           0.43        0.50             0.31  \n",
       "1840          -0.12        0.07             0.25  \n",
       "1660           0.46        0.68             0.19  \n",
       "1810           0.38       -0.08             0.14  \n",
       "1790          -0.03       -0.30             0.08  \n",
       "1800           0.04       -0.05             0.08  \n",
       "1640           0.42        0.81             0.08  \n",
       "1820          -0.11       -0.51             0.07  \n",
       "1700           0.26        0.16             0.06  \n",
       "1750           0.15        0.11            -0.05  \n",
       "1710          -0.28        0.01            -0.06  \n",
       "1690          -0.26       -0.26            -0.09  \n",
       "1760          -0.11       -0.22            -0.16  \n",
       "1720          -0.29       -0.86            -0.25  \n",
       "1780          -0.64       -0.64            -0.26  \n",
       "1630          -0.24       -0.30            -0.28  \n",
       "1730          -0.62       -0.50            -0.42  \n",
       "1740          -0.72       -0.08            -0.46  \n",
       "1770          -1.22       -0.93            -0.57  \n",
       "1620          -1.11       -1.38            -1.01  "
      ]
     },
     "execution_count": 97,
     "metadata": {},
     "output_type": "execute_result"
    }
   ],
   "source": [
    "summary_french"
   ]
  },
  {
   "cell_type": "code",
   "execution_count": 98,
   "metadata": {},
   "outputs": [
    {
     "data": {
      "image/png": "[encoded data removed]",
      "text/plain": [
       "<Figure size 1080x576 with 1 Axes>"
      ]
     },
     "metadata": {
      "needs_background": "light"
     },
     "output_type": "display_data"
    }
   ],
   "source": [
    "plt.figure(figsize=(15, 8))\n",
    "plt.title('Open-Form Scores by Tradition and Decade', fontsize=20, pad=30)\n",
    "plt.scatter(summary_french.index.tolist(), \n",
    "            summary_french['open_form_score'], \n",
    "            color='blue', \n",
    "            marker='v', \n",
    "            label='French five-act comedies')\n",
    "\n",
    "plt.scatter(summary_russian.index.tolist(), \n",
    "            summary_russian['open_form_score'], \n",
    "            marker='s', \n",
    "            color='#FF3355', \n",
    "            label='Russian five-act comedies')\n",
    "\n",
    "\n",
    "plt.scatter(summary_goldoni.index.tolist(), \n",
    "            summary_goldoni['open_form_score'], \n",
    "            marker=\"o\", \n",
    "            color='#F7AA41', \n",
    "            label='Goldoni')\n",
    "\n",
    "plt.scatter(summary_shakespeare.index.tolist(), \n",
    "            summary_shakespeare['open_form_score'], \n",
    "            marker=\"D\", \n",
    "            color='#25EEFF', \n",
    "            label='Shakespeare')\n",
    "\n",
    "\n",
    "plt.xticks(summary_french.index.tolist() + [1590, 1600], rotation=90)\n",
    "plt.ylabel('Open-Form Scores', fontsize=15)\n",
    "plt.xlabel('Decades', fontsize=15)\n",
    "plt.axvline(1695, color='grey',linestyle='dashed', linewidth=2)\n",
    "plt.axvline(1795, color='grey',linestyle='dashed', linewidth=2)\n",
    "plt.text(1695.5, 1.1, '1695')\n",
    "plt.text(1795.5, 1.1, '1795')\n",
    "plt.legend()\n",
    "plt.show()"
   ]
  },
  {
   "cell_type": "markdown",
   "metadata": {},
   "source": [
    "### Summary:\n",
    "1. Shakespeare's five-act verse comedies were the most experimental in the examined material. Shakespeare's five-act verse comedies of the 1600s were more experimental (open-form score = 1.59) that his comedies of the 1590s (0.97).\n",
    "2. Goldoni's comedies were more open that French comedies of the 1750s (open-form score for Goldoni = 0.25, French = -0.05).\n",
    "3. The evolution of the open-form scores of the Russian five-act verse comedy revealed peculiar trends: \n",
    "    - In the 1770s, it was less experimental (open-form score = -0.88) than the French comedies of the same decade (open-form score = -0.57). In fact, the score was almost as low as the French comedy of 1620s (Pierre Corneille's *Mélite* with the open-form score = -1.01).\n",
    "    - In the 1780s, the Russian comedies had a slightly higher open-form score than the contemporaneous French comedies.\n",
    "    - In the 1790s, the Russian comedies had a much higher open-form score (0.78) than the contemporaneous French comedies (0.08).\n",
    "    - In the 1800s, the Russian comedies had a very similar open-form score (0.01) to the French (0.08).\n",
    "    - In the 1810s, the Russian comedies again had a much higher open-form score  (0.85) than the the contemporaneous French comedies (0.14).\n",
    "    - In the 1820, the Russian comedies were even more closed (-0.09) than the French (0.07).\n",
    "    - In the 1840s, the Russian comedies were more open (0.66) than the French (0.25).\n",
    "   "
   ]
  },
  {
   "cell_type": "markdown",
   "metadata": {},
   "source": [
    "### Conclusions:\n",
    "1. The evolution curve of the French five-act comedies in verse had a wave-like shape with alternating open and closed forms.\n",
    "2. The periods of most openness in the French comedy included\n",
    "    - the Molièrean period (1650 to 1680), which was very far from the openness of Shakespeare;\n",
    "    - the late Romantic period (1830 - 1840), the first half of which (the 1830s) almost approached the openness of Shakespeare of the 1590s and exceeded the openness the Molièrean period. The second half (the 1840s), did not reach the openness of the Molièrean period and also below the contemporaneous Russian comedies of the time.\n",
    "    - the 1750s - 1760s revealed an increase in openness. This question requires further investigation.\n",
    "2. The Russian evolution did not have a wave-shaped curve: since the 1790s, the open and closed forms co-existed (the appearing alternation of the open and closed forms between decades on the graph is simply the result of grouping by decades. In reality, if we were to examine each individual comedy, we would find both closed and open forms co-existing).\n",
    "3. The French tradition could have been influential for the Russian five-act comedies in verse of the 1770s, 1780s, 1800s, and 1820s. During the 1790s, 1810s, and 1840s, the Russian five-act comedies in verse tended to be more experimental and potentially influenced by another tradition. The high open-form score of the Russian comedies of the 1840s can be attributed to an extremely high mobility coefficient (111) in Petr Grigor’ev's *Zhiteiiskaia shkola* (1849). Based on such features as sigma, the percentage of polylogues, and monologues, this decade was not experimental.\n",
    "3. Based on the features, describing dramatic characters and their movements, the French tradition (either contemporaneous or preceding) was the most similar tradition to the tentative periods of the Russian comic tradition. This was not the case for the features, describing dramatic characters' speech, where Shakespeare and Goldoni were more similar to the two tentative periods of the Russian five-act comedy in verse.\n",
    "4. Shakespeare's five-act verse comedies were the most experimental in form out of all five-act verse comedies we analyzed. This is particularly true of the features describing dramatic characters and their movements. Based on the features describing dramatic characters' speech, Shakespeare was not as distant from the continental French-Italian comic tradition.\n",
    "5. Goldoni's five-act comedies were more experimental than the contemporaneous French five-act comedies in verse. They were close in style to the French comedies of the 1660s and 1840s."
   ]
  },
  {
   "cell_type": "code",
   "execution_count": null,
   "metadata": {},
   "outputs": [],
   "source": []
  }
 ],
 "metadata": {
  "kernelspec": {
   "display_name": "Python 3",
   "language": "python",
   "name": "python3"
  },
  "language_info": {
   "codemirror_mode": {
    "name": "ipython",
    "version": 3
   },
   "file_extension": ".py",
   "mimetype": "text/x-python",
   "name": "python",
   "nbconvert_exporter": "python",
   "pygments_lexer": "ipython3",
   "version": "3.7.6"
  }
 },
 "nbformat": 4,
 "nbformat_minor": 4
}
