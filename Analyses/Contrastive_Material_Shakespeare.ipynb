{
 "cells": [
  {
   "cell_type": "code",
   "execution_count": 1,
   "metadata": {},
   "outputs": [],
   "source": [
    "import pandas as pd\n",
    "import numpy as np\n",
    "import re\n",
    "import matplotlib.pyplot as plt\n",
    "%matplotlib inline\n",
    "import seaborn as sns"
   ]
  },
  {
   "cell_type": "code",
   "execution_count": 2,
   "metadata": {},
   "outputs": [],
   "source": [
    "def make_list(row):\n",
    "    speech_dist = []\n",
    "    for value in row[1:-1].split('\\n '):\n",
    "        speech_dist.append([int(num) for num in re.findall('[0-9]+', value)])\n",
    "        \n",
    "    return speech_dist"
   ]
  },
  {
   "cell_type": "code",
   "execution_count": 3,
   "metadata": {},
   "outputs": [],
   "source": [
    "def speech_distribution_by_author(author_df):\n",
    "    all_distributions = []\n",
    "    for row in author_df['speech_distribution']:\n",
    "        speech_dist_df = pd.DataFrame(row).T\n",
    "        # rename columns to make sure they start with 1 and not 0\n",
    "        speech_dist_df.columns = speech_dist_df.iloc[0, :]\n",
    "        # no need to include the variants as a row - they will be column names\n",
    "        only_counts_df = pd.DataFrame(speech_dist_df.iloc[1, :])\n",
    "        only_counts_df.columns = ['raw_numbers']\n",
    "        only_counts_df['percentage'] = only_counts_df['raw_numbers'] / only_counts_df.sum().values[0]\n",
    "        all_distributions.append(round(only_counts_df['percentage'], 4))\n",
    "    period_df_dist = pd.concat(all_distributions, axis=1).fillna(0)\n",
    "    # take the mean for each period\n",
    "    mean_per_type = pd.DataFrame(period_df_dist.mean(axis=1)).T \n",
    "    mean_per_type.index.name = 'number_of_speakers'\n",
    "    mean_per_type = (mean_per_type * 100).round(2)\n",
    "        \n",
    "    return mean_per_type"
   ]
  },
  {
   "cell_type": "code",
   "execution_count": 4,
   "metadata": {},
   "outputs": [],
   "source": [
    "def sigma_iarkho(df):\n",
    "    \"\"\"\n",
    "    The function allows calculating standard range following iarkho's procedure.\n",
    "    Parameters:\n",
    "        df  - a dataframe where columns are variants, i.e., the distinct number of speakers in the ascending order, \n",
    "              e.g. [1, 2, 3, 4, 5] and values weights corresponding to these variants, i.e.,\n",
    "              the number of scenes, e.g. [20, 32, 18, 9, 1]\n",
    "    Returns:\n",
    "        sigma - standard range per iarkho\n",
    "    \"\"\"\n",
    "    weighted_mean_variants = np.average(df.columns.tolist(), weights=df.values[0])\n",
    "    differences_squared = [(variant - weighted_mean_variants)**2 for variant in df.columns]\n",
    "    weighted_mean_difference = np.average(differences_squared, weights=df.values[0])\n",
    "    sigma = round(weighted_mean_difference**0.5, 2)\n",
    "\n",
    "    return sigma"
   ]
  },
  {
   "cell_type": "code",
   "execution_count": 5,
   "metadata": {},
   "outputs": [],
   "source": [
    "contr_data_df = pd.read_csv('../Contrastive_Material/Contrastive_Material_Data.csv')"
   ]
  },
  {
   "cell_type": "code",
   "execution_count": 6,
   "metadata": {},
   "outputs": [],
   "source": [
    "contr_data_df['speech_distribution'] = contr_data_df['speech_distribution'].apply(make_list)"
   ]
  },
  {
   "cell_type": "code",
   "execution_count": 7,
   "metadata": {},
   "outputs": [],
   "source": [
    "# sort by date\n",
    "sorted_contr_data_df = contr_data_df.sort_values(by='date')"
   ]
  },
  {
   "cell_type": "code",
   "execution_count": 8,
   "metadata": {},
   "outputs": [],
   "source": [
    "sorted_contr_data_df  = sorted_contr_data_df.rename(columns={'num_scenes_iarkho': 'mobility_coefficient', \n",
    "                                                           'percentage_non_duologues': 'percentage_non_dialogues',\n",
    "                                                           'percentage_above_two_speakers': 'percentage_polylogues',\n",
    "                                                            'percentage_scenes_with_discontinuous_change_characters': \n",
    "                                                            'discontinuous_scenes'\n",
    "                                                            })\n"
   ]
  },
  {
   "cell_type": "code",
   "execution_count": 9,
   "metadata": {},
   "outputs": [],
   "source": [
    "sorted_contr_data_df['date'] = sorted_contr_data_df['date'].astype('int')"
   ]
  },
  {
   "cell_type": "markdown",
   "metadata": {},
   "source": [
    "## Part I. Shakespeare's Comedies and Tragedies"
   ]
  },
  {
   "cell_type": "code",
   "execution_count": 10,
   "metadata": {},
   "outputs": [],
   "source": [
    "shakespeare_df = sorted_contr_data_df[sorted_contr_data_df.last_name == 'Shakespeare'].copy()"
   ]
  },
  {
   "cell_type": "code",
   "execution_count": 11,
   "metadata": {},
   "outputs": [
    {
     "data": {
      "text/plain": [
       "Index(['index', 'title', 'last_name', 'first_name', 'date', 'num_acts', 'url',\n",
       "       'num_present_characters', 'num_scenes_text', 'mobility_coefficient',\n",
       "       'speech_distribution', 'percentage_monologues', 'percentage_duologues',\n",
       "       'percentage_non_dialogues', 'percentage_polylogues',\n",
       "       'av_percentage_non_speakers', 'sigma_iarkho',\n",
       "       'number_scenes_with_discontinuous_change_characters',\n",
       "       'discontinuous_scenes', 'coefficient_unused'],\n",
       "      dtype='object')"
      ]
     },
     "execution_count": 11,
     "metadata": {},
     "output_type": "execute_result"
    }
   ],
   "source": [
    "shakespeare_df.columns"
   ]
  },
  {
   "cell_type": "markdown",
   "metadata": {},
   "source": [
    "## Feature Correlations"
   ]
  },
  {
   "cell_type": "code",
   "execution_count": 12,
   "metadata": {},
   "outputs": [
    {
     "data": {
      "text/html": [
       "<div>\n",
       "<style scoped>\n",
       "    .dataframe tbody tr th:only-of-type {\n",
       "        vertical-align: middle;\n",
       "    }\n",
       "\n",
       "    .dataframe tbody tr th {\n",
       "        vertical-align: top;\n",
       "    }\n",
       "\n",
       "    .dataframe thead th {\n",
       "        text-align: right;\n",
       "    }\n",
       "</style>\n",
       "<table border=\"1\" class=\"dataframe\">\n",
       "  <thead>\n",
       "    <tr style=\"text-align: right;\">\n",
       "      <th></th>\n",
       "      <th>index</th>\n",
       "      <th>title</th>\n",
       "      <th>last_name</th>\n",
       "      <th>first_name</th>\n",
       "      <th>date</th>\n",
       "      <th>num_acts</th>\n",
       "      <th>url</th>\n",
       "      <th>num_present_characters</th>\n",
       "      <th>num_scenes_text</th>\n",
       "      <th>mobility_coefficient</th>\n",
       "      <th>speech_distribution</th>\n",
       "      <th>percentage_monologues</th>\n",
       "      <th>percentage_duologues</th>\n",
       "      <th>percentage_non_dialogues</th>\n",
       "      <th>percentage_polylogues</th>\n",
       "      <th>av_percentage_non_speakers</th>\n",
       "      <th>sigma_iarkho</th>\n",
       "      <th>number_scenes_with_discontinuous_change_characters</th>\n",
       "      <th>discontinuous_scenes</th>\n",
       "      <th>coefficient_unused</th>\n",
       "    </tr>\n",
       "  </thead>\n",
       "  <tbody>\n",
       "    <tr>\n",
       "      <th>0</th>\n",
       "      <td>C_1</td>\n",
       "      <td>The Comedy of Errors</td>\n",
       "      <td>Shakespeare</td>\n",
       "      <td>William</td>\n",
       "      <td>1592</td>\n",
       "      <td>5.0</td>\n",
       "      <td>https://dracor.org/api/corpora/shake/play/the-...</td>\n",
       "      <td>19.0</td>\n",
       "      <td>11.0</td>\n",
       "      <td>53.0</td>\n",
       "      <td>[[1, 11], [2, 17], [3, 13], [4, 6], [5, 2], [6...</td>\n",
       "      <td>20.75</td>\n",
       "      <td>32.08</td>\n",
       "      <td>67.92</td>\n",
       "      <td>47.17</td>\n",
       "      <td>22.182</td>\n",
       "      <td>1.823</td>\n",
       "      <td>9.0</td>\n",
       "      <td>16.981</td>\n",
       "      <td>33.48</td>\n",
       "    </tr>\n",
       "    <tr>\n",
       "      <th>1</th>\n",
       "      <td>C_3</td>\n",
       "      <td>The Two Gentlemen of Verona</td>\n",
       "      <td>Shakespeare</td>\n",
       "      <td>William</td>\n",
       "      <td>1593</td>\n",
       "      <td>5.0</td>\n",
       "      <td>https://dracor.org/api/corpora/shake/play/two-...</td>\n",
       "      <td>17.0</td>\n",
       "      <td>20.0</td>\n",
       "      <td>71.0</td>\n",
       "      <td>[[1, 24], [2, 32], [3, 9], [4, 4], [5, 1], [6,...</td>\n",
       "      <td>33.80</td>\n",
       "      <td>45.07</td>\n",
       "      <td>54.93</td>\n",
       "      <td>21.13</td>\n",
       "      <td>14.272</td>\n",
       "      <td>1.021</td>\n",
       "      <td>19.0</td>\n",
       "      <td>26.761</td>\n",
       "      <td>21.11</td>\n",
       "    </tr>\n",
       "    <tr>\n",
       "      <th>2</th>\n",
       "      <td>C_4</td>\n",
       "      <td>Love’s Labor’s Lost</td>\n",
       "      <td>Shakespeare</td>\n",
       "      <td>William</td>\n",
       "      <td>1595</td>\n",
       "      <td>5.0</td>\n",
       "      <td>https://dracor.org/api/corpora/shake/play/love...</td>\n",
       "      <td>23.0</td>\n",
       "      <td>9.0</td>\n",
       "      <td>61.0</td>\n",
       "      <td>[[1, 9], [2, 17], [3, 13], [4, 8], [5, 7], [6,...</td>\n",
       "      <td>14.75</td>\n",
       "      <td>27.87</td>\n",
       "      <td>72.13</td>\n",
       "      <td>57.38</td>\n",
       "      <td>32.540</td>\n",
       "      <td>1.890</td>\n",
       "      <td>8.0</td>\n",
       "      <td>13.115</td>\n",
       "      <td>46.93</td>\n",
       "    </tr>\n",
       "    <tr>\n",
       "      <th>3</th>\n",
       "      <td>C_5</td>\n",
       "      <td>The Merchant of Venice</td>\n",
       "      <td>Shakespeare</td>\n",
       "      <td>William</td>\n",
       "      <td>1596</td>\n",
       "      <td>5.0</td>\n",
       "      <td>https://dracor.org/api/corpora/shake/play/the-...</td>\n",
       "      <td>24.0</td>\n",
       "      <td>20.0</td>\n",
       "      <td>75.0</td>\n",
       "      <td>[[1, 14], [2, 38], [3, 14], [4, 3], [5, 3], [6...</td>\n",
       "      <td>18.67</td>\n",
       "      <td>50.67</td>\n",
       "      <td>49.33</td>\n",
       "      <td>30.67</td>\n",
       "      <td>32.173</td>\n",
       "      <td>1.230</td>\n",
       "      <td>16.0</td>\n",
       "      <td>21.333</td>\n",
       "      <td>41.06</td>\n",
       "    </tr>\n",
       "    <tr>\n",
       "      <th>4</th>\n",
       "      <td>C_6</td>\n",
       "      <td>A Midsummer Night's Dream</td>\n",
       "      <td>Shakespeare</td>\n",
       "      <td>William</td>\n",
       "      <td>1596</td>\n",
       "      <td>5.0</td>\n",
       "      <td>https://dracor.org/api/corpora/shake/play/a-mi...</td>\n",
       "      <td>28.0</td>\n",
       "      <td>9.0</td>\n",
       "      <td>87.0</td>\n",
       "      <td>[[1, 28], [2, 31], [3, 13], [4, 9], [5, 2], [6...</td>\n",
       "      <td>32.18</td>\n",
       "      <td>35.63</td>\n",
       "      <td>64.37</td>\n",
       "      <td>32.18</td>\n",
       "      <td>42.766</td>\n",
       "      <td>1.321</td>\n",
       "      <td>10.0</td>\n",
       "      <td>11.494</td>\n",
       "      <td>53.40</td>\n",
       "    </tr>\n",
       "    <tr>\n",
       "      <th>5</th>\n",
       "      <td>C_7</td>\n",
       "      <td>The Tempest</td>\n",
       "      <td>Shakespeare</td>\n",
       "      <td>William</td>\n",
       "      <td>1599</td>\n",
       "      <td>5.0</td>\n",
       "      <td>https://dracor.org/api/corpora/shake/play/the-...</td>\n",
       "      <td>20.0</td>\n",
       "      <td>9.0</td>\n",
       "      <td>63.0</td>\n",
       "      <td>[[1, 20], [2, 19], [3, 8], [4, 9], [5, 4], [6,...</td>\n",
       "      <td>31.75</td>\n",
       "      <td>30.16</td>\n",
       "      <td>69.84</td>\n",
       "      <td>38.10</td>\n",
       "      <td>34.094</td>\n",
       "      <td>1.500</td>\n",
       "      <td>8.0</td>\n",
       "      <td>12.698</td>\n",
       "      <td>46.96</td>\n",
       "    </tr>\n",
       "    <tr>\n",
       "      <th>6</th>\n",
       "      <td>C_8</td>\n",
       "      <td>As You Like It</td>\n",
       "      <td>Shakespeare</td>\n",
       "      <td>William</td>\n",
       "      <td>1599</td>\n",
       "      <td>5.0</td>\n",
       "      <td>https://dracor.org/api/corpora/shake/play/as-y...</td>\n",
       "      <td>28.0</td>\n",
       "      <td>22.0</td>\n",
       "      <td>73.0</td>\n",
       "      <td>[[1, 11], [2, 27], [3, 25], [4, 7], [5, 2], [6...</td>\n",
       "      <td>15.07</td>\n",
       "      <td>36.99</td>\n",
       "      <td>63.01</td>\n",
       "      <td>47.95</td>\n",
       "      <td>21.379</td>\n",
       "      <td>1.035</td>\n",
       "      <td>20.0</td>\n",
       "      <td>27.397</td>\n",
       "      <td>33.81</td>\n",
       "    </tr>\n",
       "    <tr>\n",
       "      <th>7</th>\n",
       "      <td>C_9</td>\n",
       "      <td>Twelfth Night</td>\n",
       "      <td>Shakespeare</td>\n",
       "      <td>William</td>\n",
       "      <td>1601</td>\n",
       "      <td>5.0</td>\n",
       "      <td>https://dracor.org/api/corpora/shake/play/twel...</td>\n",
       "      <td>21.0</td>\n",
       "      <td>18.0</td>\n",
       "      <td>98.0</td>\n",
       "      <td>[[1, 17], [2, 46], [3, 18], [4, 13], [5, 3], [...</td>\n",
       "      <td>17.35</td>\n",
       "      <td>46.94</td>\n",
       "      <td>53.06</td>\n",
       "      <td>35.71</td>\n",
       "      <td>26.056</td>\n",
       "      <td>1.115</td>\n",
       "      <td>18.0</td>\n",
       "      <td>18.367</td>\n",
       "      <td>41.19</td>\n",
       "    </tr>\n",
       "    <tr>\n",
       "      <th>8</th>\n",
       "      <td>C_10</td>\n",
       "      <td>All’s Well That Ends Well</td>\n",
       "      <td>Shakespeare</td>\n",
       "      <td>William</td>\n",
       "      <td>1602</td>\n",
       "      <td>5.0</td>\n",
       "      <td>https://dracor.org/api/corpora/shake/play/all-...</td>\n",
       "      <td>29.0</td>\n",
       "      <td>23.0</td>\n",
       "      <td>84.0</td>\n",
       "      <td>[[1, 15], [2, 36], [3, 18], [4, 9], [5, 4], [6...</td>\n",
       "      <td>17.86</td>\n",
       "      <td>42.86</td>\n",
       "      <td>57.14</td>\n",
       "      <td>39.29</td>\n",
       "      <td>25.239</td>\n",
       "      <td>1.268</td>\n",
       "      <td>21.0</td>\n",
       "      <td>25.000</td>\n",
       "      <td>35.47</td>\n",
       "    </tr>\n",
       "    <tr>\n",
       "      <th>9</th>\n",
       "      <td>C_11</td>\n",
       "      <td>Measure for Measure</td>\n",
       "      <td>Shakespeare</td>\n",
       "      <td>William</td>\n",
       "      <td>1604</td>\n",
       "      <td>5.0</td>\n",
       "      <td>https://dracor.org/api/corpora/shake/play/meas...</td>\n",
       "      <td>24.0</td>\n",
       "      <td>17.0</td>\n",
       "      <td>97.0</td>\n",
       "      <td>[[1, 23], [2, 43], [3, 21], [4, 7], [5, 3]]</td>\n",
       "      <td>23.71</td>\n",
       "      <td>44.33</td>\n",
       "      <td>55.67</td>\n",
       "      <td>31.96</td>\n",
       "      <td>26.547</td>\n",
       "      <td>0.987</td>\n",
       "      <td>14.0</td>\n",
       "      <td>14.433</td>\n",
       "      <td>43.72</td>\n",
       "    </tr>\n",
       "    <tr>\n",
       "      <th>10</th>\n",
       "      <td>C_13</td>\n",
       "      <td>Cymbeline</td>\n",
       "      <td>Shakespeare</td>\n",
       "      <td>William</td>\n",
       "      <td>1609</td>\n",
       "      <td>5.0</td>\n",
       "      <td>https://dracor.org/api/corpora/shake/play/cymb...</td>\n",
       "      <td>42.0</td>\n",
       "      <td>27.0</td>\n",
       "      <td>107.0</td>\n",
       "      <td>[[0, 3], [1, 32], [2, 39], [3, 24], [4, 8], [1...</td>\n",
       "      <td>29.91</td>\n",
       "      <td>36.45</td>\n",
       "      <td>63.55</td>\n",
       "      <td>30.84</td>\n",
       "      <td>29.332</td>\n",
       "      <td>1.297</td>\n",
       "      <td>27.0</td>\n",
       "      <td>25.234</td>\n",
       "      <td>42.60</td>\n",
       "    </tr>\n",
       "    <tr>\n",
       "      <th>11</th>\n",
       "      <td>C_14</td>\n",
       "      <td>The Winter's Tale</td>\n",
       "      <td>Shakespeare</td>\n",
       "      <td>William</td>\n",
       "      <td>1610</td>\n",
       "      <td>5.0</td>\n",
       "      <td>https://dracor.org/api/corpora/shake/play/the-...</td>\n",
       "      <td>35.0</td>\n",
       "      <td>15.0</td>\n",
       "      <td>67.0</td>\n",
       "      <td>[[0, 1], [1, 18], [2, 20], [3, 14], [4, 8], [5...</td>\n",
       "      <td>26.87</td>\n",
       "      <td>29.85</td>\n",
       "      <td>70.15</td>\n",
       "      <td>41.79</td>\n",
       "      <td>34.661</td>\n",
       "      <td>1.480</td>\n",
       "      <td>13.0</td>\n",
       "      <td>19.403</td>\n",
       "      <td>52.15</td>\n",
       "    </tr>\n",
       "  </tbody>\n",
       "</table>\n",
       "</div>"
      ],
      "text/plain": [
       "   index                        title    last_name first_name  date  num_acts  \\\n",
       "0    C_1         The Comedy of Errors  Shakespeare    William  1592       5.0   \n",
       "1    C_3  The Two Gentlemen of Verona  Shakespeare    William  1593       5.0   \n",
       "2    C_4          Love’s Labor’s Lost  Shakespeare    William  1595       5.0   \n",
       "3    C_5       The Merchant of Venice  Shakespeare    William  1596       5.0   \n",
       "4    C_6    A Midsummer Night's Dream  Shakespeare    William  1596       5.0   \n",
       "5    C_7                  The Tempest  Shakespeare    William  1599       5.0   \n",
       "6    C_8               As You Like It  Shakespeare    William  1599       5.0   \n",
       "7    C_9                Twelfth Night  Shakespeare    William  1601       5.0   \n",
       "8   C_10    All’s Well That Ends Well  Shakespeare    William  1602       5.0   \n",
       "9   C_11          Measure for Measure  Shakespeare    William  1604       5.0   \n",
       "10  C_13                    Cymbeline  Shakespeare    William  1609       5.0   \n",
       "11  C_14            The Winter's Tale  Shakespeare    William  1610       5.0   \n",
       "\n",
       "                                                  url  num_present_characters  \\\n",
       "0   https://dracor.org/api/corpora/shake/play/the-...                    19.0   \n",
       "1   https://dracor.org/api/corpora/shake/play/two-...                    17.0   \n",
       "2   https://dracor.org/api/corpora/shake/play/love...                    23.0   \n",
       "3   https://dracor.org/api/corpora/shake/play/the-...                    24.0   \n",
       "4   https://dracor.org/api/corpora/shake/play/a-mi...                    28.0   \n",
       "5   https://dracor.org/api/corpora/shake/play/the-...                    20.0   \n",
       "6   https://dracor.org/api/corpora/shake/play/as-y...                    28.0   \n",
       "7   https://dracor.org/api/corpora/shake/play/twel...                    21.0   \n",
       "8   https://dracor.org/api/corpora/shake/play/all-...                    29.0   \n",
       "9   https://dracor.org/api/corpora/shake/play/meas...                    24.0   \n",
       "10  https://dracor.org/api/corpora/shake/play/cymb...                    42.0   \n",
       "11  https://dracor.org/api/corpora/shake/play/the-...                    35.0   \n",
       "\n",
       "    num_scenes_text  mobility_coefficient  \\\n",
       "0              11.0                  53.0   \n",
       "1              20.0                  71.0   \n",
       "2               9.0                  61.0   \n",
       "3              20.0                  75.0   \n",
       "4               9.0                  87.0   \n",
       "5               9.0                  63.0   \n",
       "6              22.0                  73.0   \n",
       "7              18.0                  98.0   \n",
       "8              23.0                  84.0   \n",
       "9              17.0                  97.0   \n",
       "10             27.0                 107.0   \n",
       "11             15.0                  67.0   \n",
       "\n",
       "                                  speech_distribution  percentage_monologues  \\\n",
       "0   [[1, 11], [2, 17], [3, 13], [4, 6], [5, 2], [6...                  20.75   \n",
       "1   [[1, 24], [2, 32], [3, 9], [4, 4], [5, 1], [6,...                  33.80   \n",
       "2   [[1, 9], [2, 17], [3, 13], [4, 8], [5, 7], [6,...                  14.75   \n",
       "3   [[1, 14], [2, 38], [3, 14], [4, 3], [5, 3], [6...                  18.67   \n",
       "4   [[1, 28], [2, 31], [3, 13], [4, 9], [5, 2], [6...                  32.18   \n",
       "5   [[1, 20], [2, 19], [3, 8], [4, 9], [5, 4], [6,...                  31.75   \n",
       "6   [[1, 11], [2, 27], [3, 25], [4, 7], [5, 2], [6...                  15.07   \n",
       "7   [[1, 17], [2, 46], [3, 18], [4, 13], [5, 3], [...                  17.35   \n",
       "8   [[1, 15], [2, 36], [3, 18], [4, 9], [5, 4], [6...                  17.86   \n",
       "9         [[1, 23], [2, 43], [3, 21], [4, 7], [5, 3]]                  23.71   \n",
       "10  [[0, 3], [1, 32], [2, 39], [3, 24], [4, 8], [1...                  29.91   \n",
       "11  [[0, 1], [1, 18], [2, 20], [3, 14], [4, 8], [5...                  26.87   \n",
       "\n",
       "    percentage_duologues  percentage_non_dialogues  percentage_polylogues  \\\n",
       "0                  32.08                     67.92                  47.17   \n",
       "1                  45.07                     54.93                  21.13   \n",
       "2                  27.87                     72.13                  57.38   \n",
       "3                  50.67                     49.33                  30.67   \n",
       "4                  35.63                     64.37                  32.18   \n",
       "5                  30.16                     69.84                  38.10   \n",
       "6                  36.99                     63.01                  47.95   \n",
       "7                  46.94                     53.06                  35.71   \n",
       "8                  42.86                     57.14                  39.29   \n",
       "9                  44.33                     55.67                  31.96   \n",
       "10                 36.45                     63.55                  30.84   \n",
       "11                 29.85                     70.15                  41.79   \n",
       "\n",
       "    av_percentage_non_speakers  sigma_iarkho  \\\n",
       "0                       22.182         1.823   \n",
       "1                       14.272         1.021   \n",
       "2                       32.540         1.890   \n",
       "3                       32.173         1.230   \n",
       "4                       42.766         1.321   \n",
       "5                       34.094         1.500   \n",
       "6                       21.379         1.035   \n",
       "7                       26.056         1.115   \n",
       "8                       25.239         1.268   \n",
       "9                       26.547         0.987   \n",
       "10                      29.332         1.297   \n",
       "11                      34.661         1.480   \n",
       "\n",
       "    number_scenes_with_discontinuous_change_characters  discontinuous_scenes  \\\n",
       "0                                                 9.0                 16.981   \n",
       "1                                                19.0                 26.761   \n",
       "2                                                 8.0                 13.115   \n",
       "3                                                16.0                 21.333   \n",
       "4                                                10.0                 11.494   \n",
       "5                                                 8.0                 12.698   \n",
       "6                                                20.0                 27.397   \n",
       "7                                                18.0                 18.367   \n",
       "8                                                21.0                 25.000   \n",
       "9                                                14.0                 14.433   \n",
       "10                                               27.0                 25.234   \n",
       "11                                               13.0                 19.403   \n",
       "\n",
       "    coefficient_unused  \n",
       "0                33.48  \n",
       "1                21.11  \n",
       "2                46.93  \n",
       "3                41.06  \n",
       "4                53.40  \n",
       "5                46.96  \n",
       "6                33.81  \n",
       "7                41.19  \n",
       "8                35.47  \n",
       "9                43.72  \n",
       "10               42.60  \n",
       "11               52.15  "
      ]
     },
     "execution_count": 12,
     "metadata": {},
     "output_type": "execute_result"
    }
   ],
   "source": [
    "shakespeare_df"
   ]
  },
  {
   "cell_type": "code",
   "execution_count": 13,
   "metadata": {},
   "outputs": [
    {
     "data": {
      "text/html": [
       "<div>\n",
       "<style scoped>\n",
       "    .dataframe tbody tr th:only-of-type {\n",
       "        vertical-align: middle;\n",
       "    }\n",
       "\n",
       "    .dataframe tbody tr th {\n",
       "        vertical-align: top;\n",
       "    }\n",
       "\n",
       "    .dataframe thead th {\n",
       "        text-align: right;\n",
       "    }\n",
       "</style>\n",
       "<table border=\"1\" class=\"dataframe\">\n",
       "  <thead>\n",
       "    <tr style=\"text-align: right;\">\n",
       "      <th></th>\n",
       "      <th>date</th>\n",
       "      <th>num_present_characters</th>\n",
       "      <th>mobility_coefficient</th>\n",
       "      <th>percentage_monologues</th>\n",
       "      <th>sigma_iarkho</th>\n",
       "      <th>percentage_non_dialogues</th>\n",
       "      <th>percentage_polylogues</th>\n",
       "      <th>discontinuous_scenes</th>\n",
       "      <th>coefficient_unused</th>\n",
       "    </tr>\n",
       "  </thead>\n",
       "  <tbody>\n",
       "    <tr>\n",
       "      <th>date</th>\n",
       "      <td>1.000000</td>\n",
       "      <td>0.796341</td>\n",
       "      <td>0.551382</td>\n",
       "      <td>0.118058</td>\n",
       "      <td>-0.238101</td>\n",
       "      <td>0.070969</td>\n",
       "      <td>-0.097423</td>\n",
       "      <td>0.174671</td>\n",
       "      <td>0.428116</td>\n",
       "    </tr>\n",
       "    <tr>\n",
       "      <th>num_present_characters</th>\n",
       "      <td>0.796341</td>\n",
       "      <td>1.000000</td>\n",
       "      <td>0.486495</td>\n",
       "      <td>0.107712</td>\n",
       "      <td>-0.059133</td>\n",
       "      <td>0.197514</td>\n",
       "      <td>-0.002009</td>\n",
       "      <td>0.289556</td>\n",
       "      <td>0.411339</td>\n",
       "    </tr>\n",
       "    <tr>\n",
       "      <th>mobility_coefficient</th>\n",
       "      <td>0.551382</td>\n",
       "      <td>0.486495</td>\n",
       "      <td>1.000000</td>\n",
       "      <td>0.117410</td>\n",
       "      <td>-0.630176</td>\n",
       "      <td>-0.509808</td>\n",
       "      <td>-0.518112</td>\n",
       "      <td>0.176803</td>\n",
       "      <td>0.139341</td>\n",
       "    </tr>\n",
       "    <tr>\n",
       "      <th>percentage_monologues</th>\n",
       "      <td>0.118058</td>\n",
       "      <td>0.107712</td>\n",
       "      <td>0.117410</td>\n",
       "      <td>1.000000</td>\n",
       "      <td>-0.140767</td>\n",
       "      <td>0.134101</td>\n",
       "      <td>-0.653502</td>\n",
       "      <td>-0.116013</td>\n",
       "      <td>0.084854</td>\n",
       "    </tr>\n",
       "    <tr>\n",
       "      <th>sigma_iarkho</th>\n",
       "      <td>-0.238101</td>\n",
       "      <td>-0.059133</td>\n",
       "      <td>-0.630176</td>\n",
       "      <td>-0.140767</td>\n",
       "      <td>1.000000</td>\n",
       "      <td>0.754799</td>\n",
       "      <td>0.684906</td>\n",
       "      <td>-0.489665</td>\n",
       "      <td>0.331843</td>\n",
       "    </tr>\n",
       "    <tr>\n",
       "      <th>percentage_non_dialogues</th>\n",
       "      <td>0.070969</td>\n",
       "      <td>0.197514</td>\n",
       "      <td>-0.509808</td>\n",
       "      <td>0.134101</td>\n",
       "      <td>0.754799</td>\n",
       "      <td>1.000000</td>\n",
       "      <td>0.657868</td>\n",
       "      <td>-0.407577</td>\n",
       "      <td>0.434667</td>\n",
       "    </tr>\n",
       "    <tr>\n",
       "      <th>percentage_polylogues</th>\n",
       "      <td>-0.097423</td>\n",
       "      <td>-0.002009</td>\n",
       "      <td>-0.518112</td>\n",
       "      <td>-0.653502</td>\n",
       "      <td>0.684906</td>\n",
       "      <td>0.657868</td>\n",
       "      <td>1.000000</td>\n",
       "      <td>-0.258952</td>\n",
       "      <td>0.253979</td>\n",
       "    </tr>\n",
       "    <tr>\n",
       "      <th>discontinuous_scenes</th>\n",
       "      <td>0.174671</td>\n",
       "      <td>0.289556</td>\n",
       "      <td>0.176803</td>\n",
       "      <td>-0.116013</td>\n",
       "      <td>-0.489665</td>\n",
       "      <td>-0.407577</td>\n",
       "      <td>-0.258952</td>\n",
       "      <td>1.000000</td>\n",
       "      <td>-0.693113</td>\n",
       "    </tr>\n",
       "    <tr>\n",
       "      <th>coefficient_unused</th>\n",
       "      <td>0.428116</td>\n",
       "      <td>0.411339</td>\n",
       "      <td>0.139341</td>\n",
       "      <td>0.084854</td>\n",
       "      <td>0.331843</td>\n",
       "      <td>0.434667</td>\n",
       "      <td>0.253979</td>\n",
       "      <td>-0.693113</td>\n",
       "      <td>1.000000</td>\n",
       "    </tr>\n",
       "  </tbody>\n",
       "</table>\n",
       "</div>"
      ],
      "text/plain": [
       "                              date  num_present_characters  \\\n",
       "date                      1.000000                0.796341   \n",
       "num_present_characters    0.796341                1.000000   \n",
       "mobility_coefficient      0.551382                0.486495   \n",
       "percentage_monologues     0.118058                0.107712   \n",
       "sigma_iarkho             -0.238101               -0.059133   \n",
       "percentage_non_dialogues  0.070969                0.197514   \n",
       "percentage_polylogues    -0.097423               -0.002009   \n",
       "discontinuous_scenes      0.174671                0.289556   \n",
       "coefficient_unused        0.428116                0.411339   \n",
       "\n",
       "                          mobility_coefficient  percentage_monologues  \\\n",
       "date                                  0.551382               0.118058   \n",
       "num_present_characters                0.486495               0.107712   \n",
       "mobility_coefficient                  1.000000               0.117410   \n",
       "percentage_monologues                 0.117410               1.000000   \n",
       "sigma_iarkho                         -0.630176              -0.140767   \n",
       "percentage_non_dialogues             -0.509808               0.134101   \n",
       "percentage_polylogues                -0.518112              -0.653502   \n",
       "discontinuous_scenes                  0.176803              -0.116013   \n",
       "coefficient_unused                    0.139341               0.084854   \n",
       "\n",
       "                          sigma_iarkho  percentage_non_dialogues  \\\n",
       "date                         -0.238101                  0.070969   \n",
       "num_present_characters       -0.059133                  0.197514   \n",
       "mobility_coefficient         -0.630176                 -0.509808   \n",
       "percentage_monologues        -0.140767                  0.134101   \n",
       "sigma_iarkho                  1.000000                  0.754799   \n",
       "percentage_non_dialogues      0.754799                  1.000000   \n",
       "percentage_polylogues         0.684906                  0.657868   \n",
       "discontinuous_scenes         -0.489665                 -0.407577   \n",
       "coefficient_unused            0.331843                  0.434667   \n",
       "\n",
       "                          percentage_polylogues  discontinuous_scenes  \\\n",
       "date                                  -0.097423              0.174671   \n",
       "num_present_characters                -0.002009              0.289556   \n",
       "mobility_coefficient                  -0.518112              0.176803   \n",
       "percentage_monologues                 -0.653502             -0.116013   \n",
       "sigma_iarkho                           0.684906             -0.489665   \n",
       "percentage_non_dialogues               0.657868             -0.407577   \n",
       "percentage_polylogues                  1.000000             -0.258952   \n",
       "discontinuous_scenes                  -0.258952              1.000000   \n",
       "coefficient_unused                     0.253979             -0.693113   \n",
       "\n",
       "                          coefficient_unused  \n",
       "date                                0.428116  \n",
       "num_present_characters              0.411339  \n",
       "mobility_coefficient                0.139341  \n",
       "percentage_monologues               0.084854  \n",
       "sigma_iarkho                        0.331843  \n",
       "percentage_non_dialogues            0.434667  \n",
       "percentage_polylogues               0.253979  \n",
       "discontinuous_scenes               -0.693113  \n",
       "coefficient_unused                  1.000000  "
      ]
     },
     "execution_count": 13,
     "metadata": {},
     "output_type": "execute_result"
    }
   ],
   "source": [
    "shakespeare_df[['date', 'num_present_characters', 'mobility_coefficient',\n",
    "                      'percentage_monologues', 'sigma_iarkho',\n",
    "                       'percentage_non_dialogues', 'percentage_polylogues',\n",
    "                       'discontinuous_scenes', 'coefficient_unused']].corr()"
   ]
  },
  {
   "cell_type": "markdown",
   "metadata": {},
   "source": [
    "## Speech Distribution in Shakespeare's Comedies"
   ]
  },
  {
   "cell_type": "code",
   "execution_count": 14,
   "metadata": {},
   "outputs": [],
   "source": [
    "speech_dist_shakespeare = speech_distribution_by_author(shakespeare_df)"
   ]
  },
  {
   "cell_type": "code",
   "execution_count": 15,
   "metadata": {},
   "outputs": [
    {
     "data": {
      "text/html": [
       "<div>\n",
       "<style scoped>\n",
       "    .dataframe tbody tr th:only-of-type {\n",
       "        vertical-align: middle;\n",
       "    }\n",
       "\n",
       "    .dataframe tbody tr th {\n",
       "        vertical-align: top;\n",
       "    }\n",
       "\n",
       "    .dataframe thead th {\n",
       "        text-align: right;\n",
       "    }\n",
       "</style>\n",
       "<table border=\"1\" class=\"dataframe\">\n",
       "  <thead>\n",
       "    <tr style=\"text-align: right;\">\n",
       "      <th></th>\n",
       "      <th>0</th>\n",
       "      <th>1</th>\n",
       "      <th>2</th>\n",
       "      <th>3</th>\n",
       "      <th>4</th>\n",
       "      <th>5</th>\n",
       "      <th>6</th>\n",
       "      <th>7</th>\n",
       "      <th>8</th>\n",
       "      <th>9</th>\n",
       "      <th>10</th>\n",
       "      <th>11</th>\n",
       "    </tr>\n",
       "    <tr>\n",
       "      <th>number_of_speakers</th>\n",
       "      <th></th>\n",
       "      <th></th>\n",
       "      <th></th>\n",
       "      <th></th>\n",
       "      <th></th>\n",
       "      <th></th>\n",
       "      <th></th>\n",
       "      <th></th>\n",
       "      <th></th>\n",
       "      <th></th>\n",
       "      <th></th>\n",
       "      <th></th>\n",
       "    </tr>\n",
       "  </thead>\n",
       "  <tbody>\n",
       "    <tr>\n",
       "      <th>0</th>\n",
       "      <td>0.36</td>\n",
       "      <td>23.56</td>\n",
       "      <td>38.24</td>\n",
       "      <td>20.32</td>\n",
       "      <td>9.91</td>\n",
       "      <td>3.95</td>\n",
       "      <td>2.31</td>\n",
       "      <td>0.33</td>\n",
       "      <td>0.36</td>\n",
       "      <td>0.43</td>\n",
       "      <td>0.16</td>\n",
       "      <td>0.08</td>\n",
       "    </tr>\n",
       "  </tbody>\n",
       "</table>\n",
       "</div>"
      ],
      "text/plain": [
       "0                     0      1      2      3     4     5     6     7     8   \\\n",
       "number_of_speakers                                                            \n",
       "0                   0.36  23.56  38.24  20.32  9.91  3.95  2.31  0.33  0.36   \n",
       "\n",
       "0                     9     10    11  \n",
       "number_of_speakers                    \n",
       "0                   0.43  0.16  0.08  "
      ]
     },
     "execution_count": 15,
     "metadata": {},
     "output_type": "execute_result"
    }
   ],
   "source": [
    "speech_dist_shakespeare"
   ]
  },
  {
   "cell_type": "code",
   "execution_count": 16,
   "metadata": {},
   "outputs": [
    {
     "name": "stdout",
     "output_type": "stream",
     "text": [
      "The standard range of the number of speaking characters: 1.4\n"
     ]
    }
   ],
   "source": [
    "print('The standard range of the number of speaking characters:', \n",
    "      round(sigma_iarkho(speech_dist_shakespeare), 2))"
   ]
  },
  {
   "cell_type": "markdown",
   "metadata": {},
   "source": [
    "## Shakespeare's Tragedies"
   ]
  },
  {
   "cell_type": "code",
   "execution_count": 17,
   "metadata": {},
   "outputs": [
    {
     "data": {
      "text/html": [
       "<div>\n",
       "<style scoped>\n",
       "    .dataframe tbody tr th:only-of-type {\n",
       "        vertical-align: middle;\n",
       "    }\n",
       "\n",
       "    .dataframe tbody tr th {\n",
       "        vertical-align: top;\n",
       "    }\n",
       "\n",
       "    .dataframe thead th {\n",
       "        text-align: right;\n",
       "    }\n",
       "</style>\n",
       "<table border=\"1\" class=\"dataframe\">\n",
       "  <thead>\n",
       "    <tr style=\"text-align: right;\">\n",
       "      <th></th>\n",
       "      <th>1</th>\n",
       "      <th>2</th>\n",
       "      <th>3</th>\n",
       "      <th>4</th>\n",
       "      <th>5</th>\n",
       "      <th>6</th>\n",
       "      <th>7</th>\n",
       "      <th>8</th>\n",
       "      <th>9</th>\n",
       "      <th>10</th>\n",
       "    </tr>\n",
       "    <tr>\n",
       "      <th>number_of_speakers</th>\n",
       "      <th></th>\n",
       "      <th></th>\n",
       "      <th></th>\n",
       "      <th></th>\n",
       "      <th></th>\n",
       "      <th></th>\n",
       "      <th></th>\n",
       "      <th></th>\n",
       "      <th></th>\n",
       "      <th></th>\n",
       "    </tr>\n",
       "  </thead>\n",
       "  <tbody>\n",
       "    <tr>\n",
       "      <th>percentage_of_scenes</th>\n",
       "      <td>19.3</td>\n",
       "      <td>41.4</td>\n",
       "      <td>23.0</td>\n",
       "      <td>10.0</td>\n",
       "      <td>4.0</td>\n",
       "      <td>1.2</td>\n",
       "      <td>0.7</td>\n",
       "      <td>0.3</td>\n",
       "      <td>0.0</td>\n",
       "      <td>0.1</td>\n",
       "    </tr>\n",
       "  </tbody>\n",
       "</table>\n",
       "</div>"
      ],
      "text/plain": [
       "                        1     2     3     4    5    6    7    8    9    10\n",
       "number_of_speakers                                                        \n",
       "percentage_of_scenes  19.3  41.4  23.0  10.0  4.0  1.2  0.7  0.3  0.0  0.1"
      ]
     },
     "metadata": {},
     "output_type": "display_data"
    },
    {
     "name": "stdout",
     "output_type": "stream",
     "text": [
      "The standard range of the number of speaking characters: 1.23\n"
     ]
    }
   ],
   "source": [
    "# this data comes from Iarkho's article table VIII (page 571)\n",
    "speech_dist_tragedies = pd.DataFrame([19.3, 41.4, 23, 10, 4, 1.2, 0.7, 0.3, 0, 0.1]).T\n",
    "speech_dist_tragedies.columns = [i for i in range (1, 11)]\n",
    "speech_dist_tragedies.index = ['percentage_of_scenes']\n",
    "speech_dist_tragedies.index.name = 'number_of_speakers'\n",
    "display(speech_dist_tragedies)\n",
    "\n",
    "print('The standard range of the number of speaking characters:', \n",
    "      round(sigma_iarkho(speech_dist_tragedies), 2))"
   ]
  },
  {
   "cell_type": "code",
   "execution_count": 18,
   "metadata": {},
   "outputs": [
    {
     "data": {
      "image/png": "[encoded data removed]",
      "text/plain": [
       "<Figure size 1080x360 with 2 Axes>"
      ]
     },
     "metadata": {
      "needs_background": "light"
     },
     "output_type": "display_data"
    }
   ],
   "source": [
    "plt.figure(figsize=(15, 5))\n",
    "plt.subplot(121)\n",
    "plt.title('Speech Distribution in Shakespeare\\'s Comedies', fontsize=14)\n",
    "sns.barplot(speech_dist_shakespeare.columns.tolist(), \n",
    "            speech_dist_shakespeare.values.tolist()[0])\n",
    "plt.xlabel('Number of Speakers', fontsize=12)\n",
    "plt.ylabel('Percentage of Scenes', fontsize=12)\n",
    "\n",
    "plt.subplot(122)\n",
    "plt.title('Speech Distribution in Shakespeare\\'s Tragedies', fontsize=14)\n",
    "sns.barplot(speech_dist_tragedies.columns.tolist(), \n",
    "            speech_dist_tragedies.values.tolist()[0])\n",
    "plt.xlabel('Number of Speakers', fontsize=12)\n",
    "plt.ylabel('Percentage of Scenes', fontsize=12)\n",
    "plt.tight_layout()\n",
    "plt.show()"
   ]
  },
  {
   "cell_type": "markdown",
   "metadata": {},
   "source": [
    "## Shakespeare's Tragedies (Iarkho's Data)"
   ]
  },
  {
   "cell_type": "code",
   "execution_count": 19,
   "metadata": {},
   "outputs": [],
   "source": [
    "plays = ['Troilus and Cressida', \n",
    "         'Coriolanus', \n",
    "         'Titus Andronicus', \n",
    "         'Romeo and Juliet', \n",
    "         'Timon of Athens',\n",
    "         'Julius Caesar', \n",
    "         'Macbeth', \n",
    "         'Hamlet', \n",
    "         'King Lear', \n",
    "         'Othello']\n",
    "\n",
    "shakespeare_tragedies = pd.DataFrame(plays, columns=['title'])\n",
    "shakespeare_tragedies['date'] = [1602, 1608, 1592, 1597, 1606, 1599, 1606, 1603, 1606, 1604]\n",
    "# # this data comes from Dracor\n",
    "shakespeare_tragedies['num_present_characters'] = [34, 67, 27, 38, 68, 51, 45, 38, 33, 28]\n",
    "# # this data comes from Iarkho's article table VIII (page 571)\n",
    "shakespeare_tragedies['mobility_coefficient'] = [122, 102, 69, 104, 83, 78, 93, 106, 105, 99]\n",
    "shakespeare_tragedies['percentage_monologues'] = [28, 12, 23, 21, 18, 18, 23, 20, 12, 17]\n",
    "shakespeare_tragedies['percentage_non_dialogues'] = [63, 63, 72, 48, 63, 62, 57, 52, 54, 57]\n",
    "shakespeare_tragedies['percentage_polylogues'] = [35, 51, 49, 27, 45, 44, 34, 32, 42, 39]\n",
    "shakespeare_tragedies = shakespeare_tragedies.sort_values(by='date')"
   ]
  },
  {
   "cell_type": "code",
   "execution_count": 20,
   "metadata": {},
   "outputs": [],
   "source": [
    "shakespeare_tragedies = shakespeare_tragedies.sort_values(by='date')"
   ]
  },
  {
   "cell_type": "code",
   "execution_count": 21,
   "metadata": {},
   "outputs": [
    {
     "data": {
      "text/html": [
       "<div>\n",
       "<style scoped>\n",
       "    .dataframe tbody tr th:only-of-type {\n",
       "        vertical-align: middle;\n",
       "    }\n",
       "\n",
       "    .dataframe tbody tr th {\n",
       "        vertical-align: top;\n",
       "    }\n",
       "\n",
       "    .dataframe thead th {\n",
       "        text-align: right;\n",
       "    }\n",
       "</style>\n",
       "<table border=\"1\" class=\"dataframe\">\n",
       "  <thead>\n",
       "    <tr style=\"text-align: right;\">\n",
       "      <th></th>\n",
       "      <th>title</th>\n",
       "      <th>date</th>\n",
       "      <th>num_present_characters</th>\n",
       "      <th>mobility_coefficient</th>\n",
       "      <th>percentage_monologues</th>\n",
       "      <th>percentage_non_dialogues</th>\n",
       "      <th>percentage_polylogues</th>\n",
       "    </tr>\n",
       "  </thead>\n",
       "  <tbody>\n",
       "    <tr>\n",
       "      <th>2</th>\n",
       "      <td>Titus Andronicus</td>\n",
       "      <td>1592</td>\n",
       "      <td>27</td>\n",
       "      <td>69</td>\n",
       "      <td>23</td>\n",
       "      <td>72</td>\n",
       "      <td>49</td>\n",
       "    </tr>\n",
       "    <tr>\n",
       "      <th>3</th>\n",
       "      <td>Romeo and Juliet</td>\n",
       "      <td>1597</td>\n",
       "      <td>38</td>\n",
       "      <td>104</td>\n",
       "      <td>21</td>\n",
       "      <td>48</td>\n",
       "      <td>27</td>\n",
       "    </tr>\n",
       "    <tr>\n",
       "      <th>5</th>\n",
       "      <td>Julius Caesar</td>\n",
       "      <td>1599</td>\n",
       "      <td>51</td>\n",
       "      <td>78</td>\n",
       "      <td>18</td>\n",
       "      <td>62</td>\n",
       "      <td>44</td>\n",
       "    </tr>\n",
       "    <tr>\n",
       "      <th>0</th>\n",
       "      <td>Troilus and Cressida</td>\n",
       "      <td>1602</td>\n",
       "      <td>34</td>\n",
       "      <td>122</td>\n",
       "      <td>28</td>\n",
       "      <td>63</td>\n",
       "      <td>35</td>\n",
       "    </tr>\n",
       "    <tr>\n",
       "      <th>7</th>\n",
       "      <td>Hamlet</td>\n",
       "      <td>1603</td>\n",
       "      <td>38</td>\n",
       "      <td>106</td>\n",
       "      <td>20</td>\n",
       "      <td>52</td>\n",
       "      <td>32</td>\n",
       "    </tr>\n",
       "  </tbody>\n",
       "</table>\n",
       "</div>"
      ],
      "text/plain": [
       "                  title  date  num_present_characters  mobility_coefficient  \\\n",
       "2      Titus Andronicus  1592                      27                    69   \n",
       "3      Romeo and Juliet  1597                      38                   104   \n",
       "5         Julius Caesar  1599                      51                    78   \n",
       "0  Troilus and Cressida  1602                      34                   122   \n",
       "7                Hamlet  1603                      38                   106   \n",
       "\n",
       "   percentage_monologues  percentage_non_dialogues  percentage_polylogues  \n",
       "2                     23                        72                     49  \n",
       "3                     21                        48                     27  \n",
       "5                     18                        62                     44  \n",
       "0                     28                        63                     35  \n",
       "7                     20                        52                     32  "
      ]
     },
     "execution_count": 21,
     "metadata": {},
     "output_type": "execute_result"
    }
   ],
   "source": [
    "shakespeare_tragedies.head()"
   ]
  },
  {
   "cell_type": "code",
   "execution_count": 22,
   "metadata": {},
   "outputs": [
    {
     "data": {
      "image/png": "[encoded data removed]",
      "text/plain": [
       "<Figure size 864x360 with 1 Axes>"
      ]
     },
     "metadata": {
      "needs_background": "light"
     },
     "output_type": "display_data"
    }
   ],
   "source": [
    "plt.figure(figsize=(12, 5))\n",
    "plt.title('The Evolution of Non-Dialogues, Monologues and Polylogues in Shakespeare\\'s Comedies', fontsize=15)\n",
    "plt.plot(shakespeare_df['date'], shakespeare_df['percentage_non_dialogues'], color='b', label='Percentage of non-dialogues')\n",
    "plt.plot(shakespeare_df['date'], shakespeare_df['percentage_monologues'], color='brown', label='Percentage of monologues')\n",
    "plt.plot(shakespeare_df['date'], shakespeare_df['percentage_polylogues'], color='green', label='Percentage of polylogues')\n",
    "plt.legend(loc='lower right', fontsize=12)\n",
    "plt.xlabel('Years', fontsize=14)\n",
    "plt.ylabel('Percentage', fontsize=14)\n",
    "plt.xticks([year for year in range(shakespeare_df.date.min(), \n",
    "                                   shakespeare_df.date.max()+1)])\n",
    "plt.tight_layout()\n",
    "plt.show()"
   ]
  },
  {
   "cell_type": "code",
   "execution_count": 23,
   "metadata": {},
   "outputs": [
    {
     "data": {
      "image/png": "[encoded data removed]",
      "text/plain": [
       "<Figure size 864x360 with 1 Axes>"
      ]
     },
     "metadata": {
      "needs_background": "light"
     },
     "output_type": "display_data"
    }
   ],
   "source": [
    "plt.figure(figsize=(12, 5))\n",
    "plt.title('The Evolution of Non-Dialogues, Monologues and Polylogues in Shakespeare\\'s Tragedies', fontsize=15)\n",
    "plt.plot(shakespeare_tragedies['date'], shakespeare_tragedies['percentage_non_dialogues'], color='b', label='Percentage of non-dialogues')\n",
    "plt.plot(shakespeare_tragedies['date'], shakespeare_tragedies['percentage_monologues'], color='brown', label='Percentage of monologues')\n",
    "plt.plot(shakespeare_tragedies['date'], shakespeare_tragedies['percentage_polylogues'], color='green', label='Percentage of polylogues')\n",
    "plt.legend(loc='lower right', fontsize=12)\n",
    "plt.xlabel('Years', fontsize=14)\n",
    "plt.ylabel('Percentage', fontsize=14)\n",
    "plt.xticks([year for year in range(shakespeare_df.date.min(), \n",
    "                                   shakespeare_df.date.max()+1)])\n",
    "plt.tight_layout()\n",
    "plt.show()"
   ]
  },
  {
   "cell_type": "code",
   "execution_count": 24,
   "metadata": {},
   "outputs": [
    {
     "data": {
      "image/png": "[encoded data removed]",
      "text/plain": [
       "<Figure size 720x432 with 1 Axes>"
      ]
     },
     "metadata": {
      "needs_background": "light"
     },
     "output_type": "display_data"
    }
   ],
   "source": [
    "plt.figure(figsize=(10, 6))\n",
    "plt.title('The Evolution of the Percentage of Non-Dialogues in Shakespeare\\'s Comedies', fontsize=14)\n",
    "sns.scatterplot('date', 'percentage_non_dialogues', data=shakespeare_df, color='blue')\n",
    "plt.xticks([year for year in range(shakespeare_df.date.min(), \n",
    "                                   shakespeare_df.date.max()+1)])\n",
    "plt.xlabel('Creation Date', fontsize=12)\n",
    "plt.ylabel('The Percentage of Non-Dialogues', fontsize=12)\n",
    "plt.show()"
   ]
  },
  {
   "cell_type": "code",
   "execution_count": 25,
   "metadata": {},
   "outputs": [
    {
     "data": {
      "image/png": "[encoded data removed]",
      "text/plain": [
       "<Figure size 720x432 with 1 Axes>"
      ]
     },
     "metadata": {
      "needs_background": "light"
     },
     "output_type": "display_data"
    }
   ],
   "source": [
    "plt.figure(figsize=(10, 6))\n",
    "plt.title('The Evolution of the Percentage of Non-Dialogues in Shakespeare\\'s Comedies', fontsize=14)\n",
    "sns.scatterplot('date', \n",
    "                'percentage_non_dialogues', \n",
    "                data=shakespeare_tragedies, \n",
    "                color='blue', \n",
    "                label='tragedies')\n",
    "sns.scatterplot('date', 'percentage_non_dialogues', \n",
    "                data=shakespeare_df, \n",
    "                color='red', \n",
    "                label='comedies')\n",
    "plt.xticks([year for year in range(shakespeare_df.date.min(), \n",
    "                                   shakespeare_df.date.max()+1)])\n",
    "plt.xlabel('Creation Date', fontsize=12)\n",
    "plt.ylabel('The Percentage of Non-Dialogues', fontsize=12)\n",
    "plt.legend(loc='best')\n",
    "plt.show()"
   ]
  },
  {
   "cell_type": "code",
   "execution_count": 26,
   "metadata": {},
   "outputs": [
    {
     "data": {
      "text/plain": [
       "mean    61.76\n",
       "std      7.56\n",
       "50%     63.28\n",
       "min     49.33\n",
       "max     72.13\n",
       "Name: percentage_non_dialogues, dtype: float64"
      ]
     },
     "execution_count": 26,
     "metadata": {},
     "output_type": "execute_result"
    }
   ],
   "source": [
    "shakespeare_df['percentage_non_dialogues'].describe()[['mean', 'std', '50%','min', 'max']].round(2)"
   ]
  },
  {
   "cell_type": "code",
   "execution_count": 27,
   "metadata": {},
   "outputs": [
    {
     "data": {
      "text/plain": [
       "mean    59.1\n",
       "std      6.9\n",
       "50%     59.5\n",
       "min     48.0\n",
       "max     72.0\n",
       "Name: percentage_non_dialogues, dtype: float64"
      ]
     },
     "execution_count": 27,
     "metadata": {},
     "output_type": "execute_result"
    }
   ],
   "source": [
    "shakespeare_tragedies['percentage_non_dialogues'].describe()[['mean', 'std', '50%','min', 'max']].round(2)"
   ]
  },
  {
   "cell_type": "code",
   "execution_count": 28,
   "metadata": {},
   "outputs": [
    {
     "data": {
      "image/png": "[encoded data removed]",
      "text/plain": [
       "<Figure size 720x432 with 1 Axes>"
      ]
     },
     "metadata": {
      "needs_background": "light"
     },
     "output_type": "display_data"
    }
   ],
   "source": [
    "plt.figure(figsize=(10, 6))\n",
    "plt.title('The Evolution of The Percentage of Polylogues in Shakespeare', fontsize=14)\n",
    "sns.scatterplot('date', \n",
    "                'percentage_polylogues', \n",
    "                data=shakespeare_tragedies, \n",
    "                color='blue', \n",
    "                label='tragedies')\n",
    "sns.scatterplot('date', \n",
    "                'percentage_polylogues', \n",
    "                data=shakespeare_df, \n",
    "                color='red', \n",
    "                label='comedies')\n",
    "plt.xticks([year for year in range(shakespeare_df.date.min(), \n",
    "                                   shakespeare_df.date.max()+1)])\n",
    "plt.xlabel('Creation Date', fontsize=12)\n",
    "plt.ylabel('The Percentage of Polylogues', fontsize=12)\n",
    "plt.legend(loc='best')\n",
    "plt.show()"
   ]
  },
  {
   "cell_type": "code",
   "execution_count": 29,
   "metadata": {},
   "outputs": [
    {
     "data": {
      "text/plain": [
       "mean    37.85\n",
       "std      9.72\n",
       "50%     36.90\n",
       "min     21.13\n",
       "max     57.38\n",
       "Name: percentage_polylogues, dtype: float64"
      ]
     },
     "execution_count": 29,
     "metadata": {},
     "output_type": "execute_result"
    }
   ],
   "source": [
    "shakespeare_df['percentage_polylogues'].describe()[['mean', 'std', '50%','min', 'max']].round(2)"
   ]
  },
  {
   "cell_type": "code",
   "execution_count": 30,
   "metadata": {},
   "outputs": [
    {
     "data": {
      "text/plain": [
       "mean    39.80\n",
       "std      7.76\n",
       "50%     40.50\n",
       "min     27.00\n",
       "max     51.00\n",
       "Name: percentage_polylogues, dtype: float64"
      ]
     },
     "execution_count": 30,
     "metadata": {},
     "output_type": "execute_result"
    }
   ],
   "source": [
    "shakespeare_tragedies['percentage_polylogues'].describe()[['mean', 'std', '50%','min', 'max']].round(2)"
   ]
  },
  {
   "cell_type": "code",
   "execution_count": 31,
   "metadata": {},
   "outputs": [
    {
     "data": {
      "image/png": "[encoded data removed]",
      "text/plain": [
       "<Figure size 720x432 with 1 Axes>"
      ]
     },
     "metadata": {
      "needs_background": "light"
     },
     "output_type": "display_data"
    }
   ],
   "source": [
    "plt.figure(figsize=(10, 6))\n",
    "plt.title('The Evolution of The Percentage of Monologues in Shakespeare\\'s Comedies', fontsize=14)\n",
    "plt.xticks([year for year in range(shakespeare_df.date.min(), \n",
    "                                   shakespeare_df.date.max()+1)])\n",
    "\n",
    "sns.scatterplot('date', \n",
    "                'percentage_monologues', \n",
    "                data=shakespeare_tragedies, \n",
    "                color='blue', \n",
    "                label='tragedies')\n",
    "sns.scatterplot('date', \n",
    "                'percentage_monologues', \n",
    "                data=shakespeare_df, \n",
    "                color='red', \n",
    "                label='comedies')\n",
    "plt.xlabel('Creation Date', fontsize=12)\n",
    "plt.ylabel('The Percentage of Monologues', fontsize=12)\n",
    "plt.legend(loc='best')\n",
    "plt.show()"
   ]
  },
  {
   "cell_type": "code",
   "execution_count": 32,
   "metadata": {},
   "outputs": [
    {
     "data": {
      "text/plain": [
       "mean    23.56\n",
       "std      7.07\n",
       "50%     22.23\n",
       "min     14.75\n",
       "max     33.80\n",
       "Name: percentage_monologues, dtype: float64"
      ]
     },
     "execution_count": 32,
     "metadata": {},
     "output_type": "execute_result"
    }
   ],
   "source": [
    "shakespeare_df['percentage_monologues'].describe()[['mean', 'std', '50%','min', 'max']].round(2)"
   ]
  },
  {
   "cell_type": "code",
   "execution_count": 33,
   "metadata": {},
   "outputs": [
    {
     "data": {
      "text/html": [
       "<div>\n",
       "<style scoped>\n",
       "    .dataframe tbody tr th:only-of-type {\n",
       "        vertical-align: middle;\n",
       "    }\n",
       "\n",
       "    .dataframe tbody tr th {\n",
       "        vertical-align: top;\n",
       "    }\n",
       "\n",
       "    .dataframe thead th {\n",
       "        text-align: right;\n",
       "    }\n",
       "</style>\n",
       "<table border=\"1\" class=\"dataframe\">\n",
       "  <thead>\n",
       "    <tr style=\"text-align: right;\">\n",
       "      <th></th>\n",
       "      <th>title</th>\n",
       "      <th>last_name</th>\n",
       "      <th>date</th>\n",
       "      <th>percentage_monologues</th>\n",
       "    </tr>\n",
       "  </thead>\n",
       "  <tbody>\n",
       "    <tr>\n",
       "      <th>1</th>\n",
       "      <td>The Two Gentlemen of Verona</td>\n",
       "      <td>Shakespeare</td>\n",
       "      <td>1593</td>\n",
       "      <td>33.80</td>\n",
       "    </tr>\n",
       "    <tr>\n",
       "      <th>4</th>\n",
       "      <td>A Midsummer Night's Dream</td>\n",
       "      <td>Shakespeare</td>\n",
       "      <td>1596</td>\n",
       "      <td>32.18</td>\n",
       "    </tr>\n",
       "    <tr>\n",
       "      <th>5</th>\n",
       "      <td>The Tempest</td>\n",
       "      <td>Shakespeare</td>\n",
       "      <td>1599</td>\n",
       "      <td>31.75</td>\n",
       "    </tr>\n",
       "  </tbody>\n",
       "</table>\n",
       "</div>"
      ],
      "text/plain": [
       "                         title    last_name  date  percentage_monologues\n",
       "1  The Two Gentlemen of Verona  Shakespeare  1593                  33.80\n",
       "4    A Midsummer Night's Dream  Shakespeare  1596                  32.18\n",
       "5                  The Tempest  Shakespeare  1599                  31.75"
      ]
     },
     "execution_count": 33,
     "metadata": {},
     "output_type": "execute_result"
    }
   ],
   "source": [
    "shakespeare_df[shakespeare_df['percentage_monologues'] > 30][['title', 'last_name', 'date', 'percentage_monologues']]"
   ]
  },
  {
   "cell_type": "markdown",
   "metadata": {},
   "source": [
    "## The Number of Dramatic Characters"
   ]
  },
  {
   "cell_type": "code",
   "execution_count": 34,
   "metadata": {},
   "outputs": [
    {
     "data": {
      "image/png": "[encoded data removed]",
      "text/plain": [
       "<Figure size 720x432 with 1 Axes>"
      ]
     },
     "metadata": {
      "needs_background": "light"
     },
     "output_type": "display_data"
    }
   ],
   "source": [
    "plt.figure(figsize=(10, 6))\n",
    "plt.title('The Evolution of the Number of Dramatic Characters in Shakespeare', fontsize=14)\n",
    "sns.scatterplot('date', \n",
    "                'num_present_characters', \n",
    "                data=shakespeare_tragedies, \n",
    "                color='blue', \n",
    "                label='tragedies')\n",
    "\n",
    "sns.scatterplot('date', 'num_present_characters', \n",
    "                data=shakespeare_df, \n",
    "                color='red', \n",
    "                label='comedies')\n",
    "plt.xticks([year for year in range(shakespeare_df.date.min(), \n",
    "                                   shakespeare_df.date.max()+1)])\n",
    "plt.xlabel('Creation Date', fontsize=12)\n",
    "plt.ylabel('Number of Dramatic Characters', fontsize=12)\n",
    "plt.legend()\n",
    "plt.show()"
   ]
  },
  {
   "cell_type": "code",
   "execution_count": 35,
   "metadata": {},
   "outputs": [
    {
     "data": {
      "text/html": [
       "<div>\n",
       "<style scoped>\n",
       "    .dataframe tbody tr th:only-of-type {\n",
       "        vertical-align: middle;\n",
       "    }\n",
       "\n",
       "    .dataframe tbody tr th {\n",
       "        vertical-align: top;\n",
       "    }\n",
       "\n",
       "    .dataframe thead th {\n",
       "        text-align: right;\n",
       "    }\n",
       "</style>\n",
       "<table border=\"1\" class=\"dataframe\">\n",
       "  <thead>\n",
       "    <tr style=\"text-align: right;\">\n",
       "      <th></th>\n",
       "      <th>title</th>\n",
       "      <th>date</th>\n",
       "      <th>num_present_characters</th>\n",
       "      <th>mobility_coefficient</th>\n",
       "      <th>percentage_monologues</th>\n",
       "      <th>percentage_non_dialogues</th>\n",
       "      <th>percentage_polylogues</th>\n",
       "    </tr>\n",
       "  </thead>\n",
       "  <tbody>\n",
       "    <tr>\n",
       "      <th>5</th>\n",
       "      <td>Julius Caesar</td>\n",
       "      <td>1599</td>\n",
       "      <td>51</td>\n",
       "      <td>78</td>\n",
       "      <td>18</td>\n",
       "      <td>62</td>\n",
       "      <td>44</td>\n",
       "    </tr>\n",
       "    <tr>\n",
       "      <th>4</th>\n",
       "      <td>Timon of Athens</td>\n",
       "      <td>1606</td>\n",
       "      <td>68</td>\n",
       "      <td>83</td>\n",
       "      <td>18</td>\n",
       "      <td>63</td>\n",
       "      <td>45</td>\n",
       "    </tr>\n",
       "    <tr>\n",
       "      <th>1</th>\n",
       "      <td>Coriolanus</td>\n",
       "      <td>1608</td>\n",
       "      <td>67</td>\n",
       "      <td>102</td>\n",
       "      <td>12</td>\n",
       "      <td>63</td>\n",
       "      <td>51</td>\n",
       "    </tr>\n",
       "  </tbody>\n",
       "</table>\n",
       "</div>"
      ],
      "text/plain": [
       "             title  date  num_present_characters  mobility_coefficient  \\\n",
       "5    Julius Caesar  1599                      51                    78   \n",
       "4  Timon of Athens  1606                      68                    83   \n",
       "1       Coriolanus  1608                      67                   102   \n",
       "\n",
       "   percentage_monologues  percentage_non_dialogues  percentage_polylogues  \n",
       "5                     18                        62                     44  \n",
       "4                     18                        63                     45  \n",
       "1                     12                        63                     51  "
      ]
     },
     "execution_count": 35,
     "metadata": {},
     "output_type": "execute_result"
    }
   ],
   "source": [
    "shakespeare_tragedies[shakespeare_tragedies['num_present_characters'] > 50]"
   ]
  },
  {
   "cell_type": "code",
   "execution_count": 36,
   "metadata": {},
   "outputs": [
    {
     "data": {
      "text/plain": [
       "mean    25.83\n",
       "std      7.15\n",
       "50%     24.00\n",
       "min     17.00\n",
       "max     42.00\n",
       "Name: num_present_characters, dtype: float64"
      ]
     },
     "execution_count": 36,
     "metadata": {},
     "output_type": "execute_result"
    }
   ],
   "source": [
    "shakespeare_df['num_present_characters'].describe()[['mean', 'std', '50%','min', 'max']].round(2)"
   ]
  },
  {
   "cell_type": "code",
   "execution_count": 37,
   "metadata": {},
   "outputs": [
    {
     "data": {
      "text/plain": [
       "mean    42.90\n",
       "std     14.84\n",
       "50%     38.00\n",
       "min     27.00\n",
       "max     68.00\n",
       "Name: num_present_characters, dtype: float64"
      ]
     },
     "execution_count": 37,
     "metadata": {},
     "output_type": "execute_result"
    }
   ],
   "source": [
    "shakespeare_tragedies['num_present_characters'].describe()[['mean', 'std', '50%','min', 'max']].round(2)"
   ]
  },
  {
   "cell_type": "code",
   "execution_count": 38,
   "metadata": {},
   "outputs": [
    {
     "data": {
      "image/png": "[encoded data removed]",
      "text/plain": [
       "<Figure size 720x432 with 1 Axes>"
      ]
     },
     "metadata": {
      "needs_background": "light"
     },
     "output_type": "display_data"
    }
   ],
   "source": [
    "plt.figure(figsize=(10, 6))\n",
    "plt.title('The Evolution of the Mobility Coefficient in Shakespeare', fontsize=14)\n",
    "sns.scatterplot('date', \n",
    "                'mobility_coefficient', \n",
    "                data=shakespeare_tragedies, \n",
    "                color='blue', \n",
    "                label='tragedies')\n",
    "sns.scatterplot('date', 'mobility_coefficient', \n",
    "                data=shakespeare_df, \n",
    "                color='red', \n",
    "                label='comedies')\n",
    "plt.xticks([year for year in range(shakespeare_df.date.min(), \n",
    "                                   shakespeare_df.date.max()+1)])\n",
    "\n",
    "plt.xlabel('Creation Date', fontsize=12)\n",
    "plt.ylabel('Mobility Coefficient', fontsize=12)\n",
    "plt.legend()\n",
    "plt.show()"
   ]
  },
  {
   "cell_type": "code",
   "execution_count": 39,
   "metadata": {},
   "outputs": [
    {
     "data": {
      "text/plain": [
       "mean     78.00\n",
       "std      16.68\n",
       "50%      74.00\n",
       "min      53.00\n",
       "max     107.00\n",
       "Name: mobility_coefficient, dtype: float64"
      ]
     },
     "execution_count": 39,
     "metadata": {},
     "output_type": "execute_result"
    }
   ],
   "source": [
    "shakespeare_df['mobility_coefficient'].describe()[['mean', 'std', '50%','min', 'max']].round(2)"
   ]
  },
  {
   "cell_type": "code",
   "execution_count": 40,
   "metadata": {},
   "outputs": [
    {
     "data": {
      "text/plain": [
       "mean     96.10\n",
       "std      15.62\n",
       "50%     100.50\n",
       "min      69.00\n",
       "max     122.00\n",
       "Name: mobility_coefficient, dtype: float64"
      ]
     },
     "execution_count": 40,
     "metadata": {},
     "output_type": "execute_result"
    }
   ],
   "source": [
    "shakespeare_tragedies['mobility_coefficient'].describe()[['mean', 'std', '50%','min', 'max']].round(2)"
   ]
  },
  {
   "cell_type": "markdown",
   "metadata": {},
   "source": [
    "## Other Features"
   ]
  },
  {
   "cell_type": "code",
   "execution_count": 41,
   "metadata": {},
   "outputs": [
    {
     "data": {
      "image/png": "[encoded data removed]",
      "text/plain": [
       "<Figure size 864x432 with 1 Axes>"
      ]
     },
     "metadata": {
      "needs_background": "light"
     },
     "output_type": "display_data"
    }
   ],
   "source": [
    "plt.figure(figsize=(12, 6))\n",
    "plt.title('The Evolution of The Coefficient of Unused Dramatic Characters in Shakespeare\\'s Comedies', fontsize=14)\n",
    "sns.scatterplot('date', 'coefficient_unused', data=shakespeare_df, color='blue')\n",
    "plt.xticks([year for year in range(shakespeare_df.date.min(), \n",
    "                                   shakespeare_df.date.max()+1)])\n",
    "plt.xlabel('Creation Date', fontsize=12)\n",
    "plt.ylabel('The Percentage of Discontinuous Scenes', fontsize=12)\n",
    "plt.show()"
   ]
  },
  {
   "cell_type": "code",
   "execution_count": 42,
   "metadata": {},
   "outputs": [
    {
     "data": {
      "text/plain": [
       "mean    40.99\n",
       "std      9.01\n",
       "50%     41.90\n",
       "min     21.11\n",
       "max     53.40\n",
       "Name: coefficient_unused, dtype: float64"
      ]
     },
     "execution_count": 42,
     "metadata": {},
     "output_type": "execute_result"
    }
   ],
   "source": [
    "shakespeare_df['coefficient_unused'].describe()[['mean', 'std', '50%','min', 'max']].round(2)"
   ]
  },
  {
   "cell_type": "code",
   "execution_count": 43,
   "metadata": {},
   "outputs": [
    {
     "data": {
      "image/png": "[encoded data removed]",
      "text/plain": [
       "<Figure size 720x432 with 1 Axes>"
      ]
     },
     "metadata": {
      "needs_background": "light"
     },
     "output_type": "display_data"
    }
   ],
   "source": [
    "plt.figure(figsize=(10, 6))\n",
    "plt.title('The Evolution of The Percentage of Discontinuous in Shakespeare\\'s Comedies', fontsize=14)\n",
    "sns.scatterplot('date', 'discontinuous_scenes', data=shakespeare_df, color='blue')\n",
    "plt.xticks([year for year in range(shakespeare_df.date.min(), \n",
    "                                   shakespeare_df.date.max()+1)])\n",
    "plt.xlabel('Creation Date', fontsize=12)\n",
    "plt.ylabel('The Percentage of Discontinuous Scenes', fontsize=12)\n",
    "plt.show()"
   ]
  },
  {
   "cell_type": "code",
   "execution_count": 44,
   "metadata": {},
   "outputs": [
    {
     "data": {
      "text/plain": [
       "mean    19.35\n",
       "std      5.77\n",
       "50%     18.88\n",
       "min     11.49\n",
       "max     27.40\n",
       "Name: discontinuous_scenes, dtype: float64"
      ]
     },
     "execution_count": 44,
     "metadata": {},
     "output_type": "execute_result"
    }
   ],
   "source": [
    "shakespeare_df['discontinuous_scenes'].describe()[['mean', 'std', '50%','min', 'max']].round(2)"
   ]
  },
  {
   "cell_type": "code",
   "execution_count": 45,
   "metadata": {},
   "outputs": [
    {
     "data": {
      "text/plain": [
       "85"
      ]
     },
     "execution_count": 45,
     "metadata": {},
     "output_type": "execute_result"
    }
   ],
   "source": [
    "14 + (51-14) + (48-14)"
   ]
  },
  {
   "cell_type": "code",
   "execution_count": 46,
   "metadata": {},
   "outputs": [
    {
     "data": {
      "text/plain": [
       "16"
      ]
     },
     "execution_count": 46,
     "metadata": {},
     "output_type": "execute_result"
    }
   ],
   "source": [
    "85 - 69"
   ]
  },
  {
   "cell_type": "code",
   "execution_count": 47,
   "metadata": {},
   "outputs": [
    {
     "data": {
      "text/plain": [
       "0.19"
      ]
     },
     "execution_count": 47,
     "metadata": {},
     "output_type": "execute_result"
    }
   ],
   "source": [
    "round(16 / 85, 2)"
   ]
  },
  {
   "cell_type": "code",
   "execution_count": 48,
   "metadata": {},
   "outputs": [
    {
     "data": {
      "text/plain": [
       "95"
      ]
     },
     "execution_count": 48,
     "metadata": {},
     "output_type": "execute_result"
    }
   ],
   "source": [
    "18 + (56 - 18) + (57 - 18)"
   ]
  },
  {
   "cell_type": "code",
   "execution_count": 49,
   "metadata": {},
   "outputs": [
    {
     "data": {
      "text/plain": [
       "17"
      ]
     },
     "execution_count": 49,
     "metadata": {},
     "output_type": "execute_result"
    }
   ],
   "source": [
    "95 - 78"
   ]
  },
  {
   "cell_type": "code",
   "execution_count": 50,
   "metadata": {},
   "outputs": [
    {
     "data": {
      "text/plain": [
       "0.18"
      ]
     },
     "execution_count": 50,
     "metadata": {},
     "output_type": "execute_result"
    }
   ],
   "source": [
    "round(17 / 95, 2)"
   ]
  },
  {
   "cell_type": "code",
   "execution_count": 51,
   "metadata": {},
   "outputs": [
    {
     "data": {
      "text/plain": [
       "115"
      ]
     },
     "execution_count": 51,
     "metadata": {},
     "output_type": "execute_result"
    }
   ],
   "source": [
    "28 + (76 - 28) + (67-28)"
   ]
  },
  {
   "cell_type": "code",
   "execution_count": 52,
   "metadata": {},
   "outputs": [
    {
     "data": {
      "text/plain": [
       "22"
      ]
     },
     "execution_count": 52,
     "metadata": {},
     "output_type": "execute_result"
    }
   ],
   "source": [
    "115 - 93"
   ]
  },
  {
   "cell_type": "code",
   "execution_count": 53,
   "metadata": {},
   "outputs": [
    {
     "data": {
      "text/plain": [
       "0.19"
      ]
     },
     "execution_count": 53,
     "metadata": {},
     "output_type": "execute_result"
    }
   ],
   "source": [
    "round(22 / 115, 2)"
   ]
  },
  {
   "cell_type": "code",
   "execution_count": 54,
   "metadata": {},
   "outputs": [
    {
     "data": {
      "text/plain": [
       "117"
      ]
     },
     "execution_count": 54,
     "metadata": {},
     "output_type": "execute_result"
    }
   ],
   "source": [
    "15 + (65 - 15) + (67 - 15)"
   ]
  },
  {
   "cell_type": "code",
   "execution_count": 55,
   "metadata": {},
   "outputs": [
    {
     "data": {
      "text/plain": [
       "18"
      ]
     },
     "execution_count": 55,
     "metadata": {},
     "output_type": "execute_result"
    }
   ],
   "source": [
    "117 - 99"
   ]
  },
  {
   "cell_type": "code",
   "execution_count": 56,
   "metadata": {},
   "outputs": [
    {
     "data": {
      "text/plain": [
       "0.15384615384615385"
      ]
     },
     "execution_count": 56,
     "metadata": {},
     "output_type": "execute_result"
    }
   ],
   "source": [
    "18 / 117"
   ]
  },
  {
   "cell_type": "code",
   "execution_count": null,
   "metadata": {},
   "outputs": [],
   "source": []
  }
 ],
 "metadata": {
  "kernelspec": {
   "display_name": "Python 3",
   "language": "python",
   "name": "python3"
  },
  "language_info": {
   "codemirror_mode": {
    "name": "ipython",
    "version": 3
   },
   "file_extension": ".py",
   "mimetype": "text/x-python",
   "name": "python",
   "nbconvert_exporter": "python",
   "pygments_lexer": "ipython3",
   "version": "3.7.6"
  }
 },
 "nbformat": 4,
 "nbformat_minor": 4
}
