{
 "cells": [
  {
   "cell_type": "markdown",
   "metadata": {},
   "source": [
    "## Data Generation For Contrastive Sources"
   ]
  },
  {
   "cell_type": "markdown",
   "metadata": {},
   "source": [
    "In this notebook, we generate a CSV file with the data for all Contrastive Materials, including William Shakespeare, Carlo Goldoni, and August von Kotzebue.\n",
    "\n",
    "Our steps include:\n",
    "1. Load all JSON files;\n",
    "2. Combine the loaded data with the data from the metadata for these plays;\n",
    "3. Generate an additional feature the coefficient of unused dramatic characters as described in this notebook: https://github.com/innawendell/European_Comedy/blob/master/Analyses/French_Comedy_Other_Features.ipynb;\n",
    "4. Save the generated data in a CSV file."
   ]
  },
  {
   "cell_type": "code",
   "execution_count": 1,
   "metadata": {},
   "outputs": [],
   "source": [
    "import json\n",
    "from os import listdir\n",
    "import pandas as pd\n",
    "import numpy as np\n",
    "import matplotlib.pyplot as plt\n",
    "%matplotlib inline\n",
    "import seaborn as sns"
   ]
  },
  {
   "cell_type": "code",
   "execution_count": 2,
   "metadata": {},
   "outputs": [],
   "source": [
    "def get_data(input_directory):\n",
    "    all_files = [f for f in listdir(input_directory) if f.count('.json') > 0]\n",
    "    dfs = []\n",
    "    for file in all_files:\n",
    "        with open(input_directory + '/' + file) as json_file:\n",
    "            data = json.load(json_file)\n",
    "            data['metadata']['speech_distribution'] = np.array(data['metadata']['speech_distribution'])\n",
    "            df = pd.DataFrame(data['metadata'].values()).T\n",
    "            df.columns = data['metadata'].keys()\n",
    "            df['index'] = file.replace('.json','')\n",
    "            dfs.append(df)\n",
    "            \n",
    "    features_df = pd.concat(dfs, axis=0, sort=False)\n",
    "    \n",
    "    return features_df"
   ]
  },
  {
   "cell_type": "code",
   "execution_count": 3,
   "metadata": {},
   "outputs": [],
   "source": [
    "def combine_with_meta(input_directory, features_df):\n",
    "    metadata_df = pd.read_csv(input_directory, sep='\\t')\n",
    "    all_data_df = metadata_df.merge(features_df, how='left', on='index')\n",
    "    all_data_df = all_data_df.sort_values(by='date')\n",
    "    \n",
    "    \n",
    "    return all_data_df"
   ]
  },
  {
   "cell_type": "code",
   "execution_count": 4,
   "metadata": {},
   "outputs": [],
   "source": [
    "def coefficient_unused_dramatic_characters(data):\n",
    "    total_present = 0\n",
    "    total_non_speakers = 0\n",
    "    for act in data['play_summary'].keys():\n",
    "        for scene in data['play_summary'][act].keys():\n",
    "            # identify the raw number of non-speaking dramatic characters\n",
    "            num_non_speakers = len([item for item in data['play_summary'][act][scene].items() \n",
    "                                if (item[1] == 0  or item[1] == 'non_speaking') and item[0] not in ['num_utterances',\n",
    "                                                                   'num_speakers',\n",
    "                                                                   'perc_non_speakers']])\n",
    "            total_non_speakers += num_non_speakers\n",
    "            # calculate the total number of dramatic characters\n",
    "            total_present += (data['play_summary'][act][scene]['num_speakers'] + num_non_speakers)\n",
    "    coefficient_unused = (total_non_speakers / total_present ) * 100        \n",
    "    \n",
    "    return coefficient_unused"
   ]
  },
  {
   "cell_type": "code",
   "execution_count": 5,
   "metadata": {},
   "outputs": [],
   "source": [
    "def load_jsons(input_directory):\n",
    "    all_files = [f for f in listdir(input_directory) if f.count('.json') > 0]\n",
    "    dfs = []\n",
    "    for file in all_files:\n",
    "        with open(input_directory + '/' + file) as json_file:\n",
    "            data = json.load(json_file)\n",
    "            not_used = coefficient_unused_dramatic_characters(data)\n",
    "            df = pd.DataFrame([not_used], columns=['coefficient_unused'], index=[file.replace('.json','')])\n",
    "            dfs.append(df)\n",
    "            \n",
    "    features_df = pd.concat(dfs, axis=0, sort=False).round(2)\n",
    "    \n",
    "    return features_df"
   ]
  },
  {
   "cell_type": "code",
   "execution_count": 6,
   "metadata": {},
   "outputs": [],
   "source": [
    "# load the data from the jsons and combine it with metadata about each play\n",
    "contrastive_data_df = combine_with_meta('../Contrastive_Material/Contrastive_material.tsv',\n",
    "                               get_data('../Contrastive_Material/Play_Jsons'))"
   ]
  },
  {
   "cell_type": "code",
   "execution_count": 7,
   "metadata": {},
   "outputs": [
    {
     "data": {
      "text/html": [
       "<div>\n",
       "<style scoped>\n",
       "    .dataframe tbody tr th:only-of-type {\n",
       "        vertical-align: middle;\n",
       "    }\n",
       "\n",
       "    .dataframe tbody tr th {\n",
       "        vertical-align: top;\n",
       "    }\n",
       "\n",
       "    .dataframe thead th {\n",
       "        text-align: right;\n",
       "    }\n",
       "</style>\n",
       "<table border=\"1\" class=\"dataframe\">\n",
       "  <thead>\n",
       "    <tr style=\"text-align: right;\">\n",
       "      <th></th>\n",
       "      <th>index</th>\n",
       "      <th>title</th>\n",
       "      <th>last_name</th>\n",
       "      <th>first_name</th>\n",
       "      <th>date</th>\n",
       "      <th>num_acts</th>\n",
       "      <th>url</th>\n",
       "      <th>num_present_characters</th>\n",
       "      <th>num_scenes_text</th>\n",
       "      <th>num_scenes_iarkho</th>\n",
       "      <th>speech_distribution</th>\n",
       "      <th>percentage_monologues</th>\n",
       "      <th>percentage_duologues</th>\n",
       "      <th>percentage_non_duologues</th>\n",
       "      <th>percentage_above_two_speakers</th>\n",
       "      <th>av_percentage_non_speakers</th>\n",
       "      <th>sigma_iarkho</th>\n",
       "      <th>number_scenes_with_discontinuous_change_characters</th>\n",
       "      <th>percentage_scenes_with_discontinuous_change_characters</th>\n",
       "    </tr>\n",
       "  </thead>\n",
       "  <tbody>\n",
       "    <tr>\n",
       "      <th>0</th>\n",
       "      <td>C_1</td>\n",
       "      <td>The Comedy of Errors</td>\n",
       "      <td>Shakespeare</td>\n",
       "      <td>William</td>\n",
       "      <td>1592</td>\n",
       "      <td>5</td>\n",
       "      <td>https://dracor.org/api/corpora/shake/play/the-...</td>\n",
       "      <td>19</td>\n",
       "      <td>11</td>\n",
       "      <td>53</td>\n",
       "      <td>[[1, 11], [2, 17], [3, 13], [4, 6], [5, 2], [6...</td>\n",
       "      <td>20.75</td>\n",
       "      <td>32.08</td>\n",
       "      <td>67.92</td>\n",
       "      <td>47.17</td>\n",
       "      <td>22.182</td>\n",
       "      <td>1.823</td>\n",
       "      <td>9</td>\n",
       "      <td>16.981</td>\n",
       "    </tr>\n",
       "    <tr>\n",
       "      <th>1</th>\n",
       "      <td>C_3</td>\n",
       "      <td>The Two Gentlemen of Verona</td>\n",
       "      <td>Shakespeare</td>\n",
       "      <td>William</td>\n",
       "      <td>1593</td>\n",
       "      <td>5</td>\n",
       "      <td>https://dracor.org/api/corpora/shake/play/two-...</td>\n",
       "      <td>17</td>\n",
       "      <td>20</td>\n",
       "      <td>71</td>\n",
       "      <td>[[1, 24], [2, 32], [3, 9], [4, 4], [5, 1], [6,...</td>\n",
       "      <td>33.8</td>\n",
       "      <td>45.07</td>\n",
       "      <td>54.93</td>\n",
       "      <td>21.13</td>\n",
       "      <td>14.272</td>\n",
       "      <td>1.021</td>\n",
       "      <td>19</td>\n",
       "      <td>26.761</td>\n",
       "    </tr>\n",
       "    <tr>\n",
       "      <th>2</th>\n",
       "      <td>C_4</td>\n",
       "      <td>Love’s Labor’s Lost</td>\n",
       "      <td>Shakespeare</td>\n",
       "      <td>William</td>\n",
       "      <td>1595</td>\n",
       "      <td>5</td>\n",
       "      <td>https://dracor.org/api/corpora/shake/play/love...</td>\n",
       "      <td>23</td>\n",
       "      <td>9</td>\n",
       "      <td>61</td>\n",
       "      <td>[[1, 9], [2, 17], [3, 13], [4, 8], [5, 7], [6,...</td>\n",
       "      <td>14.75</td>\n",
       "      <td>27.87</td>\n",
       "      <td>72.13</td>\n",
       "      <td>57.38</td>\n",
       "      <td>32.54</td>\n",
       "      <td>1.89</td>\n",
       "      <td>8</td>\n",
       "      <td>13.115</td>\n",
       "    </tr>\n",
       "    <tr>\n",
       "      <th>3</th>\n",
       "      <td>C_5</td>\n",
       "      <td>The Merchant of Venice</td>\n",
       "      <td>Shakespeare</td>\n",
       "      <td>William</td>\n",
       "      <td>1596</td>\n",
       "      <td>5</td>\n",
       "      <td>https://dracor.org/api/corpora/shake/play/the-...</td>\n",
       "      <td>24</td>\n",
       "      <td>20</td>\n",
       "      <td>75</td>\n",
       "      <td>[[1, 14], [2, 38], [3, 14], [4, 3], [5, 3], [6...</td>\n",
       "      <td>18.67</td>\n",
       "      <td>50.67</td>\n",
       "      <td>49.33</td>\n",
       "      <td>30.67</td>\n",
       "      <td>32.173</td>\n",
       "      <td>1.23</td>\n",
       "      <td>16</td>\n",
       "      <td>21.333</td>\n",
       "    </tr>\n",
       "    <tr>\n",
       "      <th>4</th>\n",
       "      <td>C_6</td>\n",
       "      <td>A Midsummer Night's Dream</td>\n",
       "      <td>Shakespeare</td>\n",
       "      <td>William</td>\n",
       "      <td>1596</td>\n",
       "      <td>5</td>\n",
       "      <td>https://dracor.org/api/corpora/shake/play/a-mi...</td>\n",
       "      <td>28</td>\n",
       "      <td>9</td>\n",
       "      <td>87</td>\n",
       "      <td>[[1, 28], [2, 31], [3, 13], [4, 9], [5, 2], [6...</td>\n",
       "      <td>32.18</td>\n",
       "      <td>35.63</td>\n",
       "      <td>64.37</td>\n",
       "      <td>32.18</td>\n",
       "      <td>42.766</td>\n",
       "      <td>1.321</td>\n",
       "      <td>10</td>\n",
       "      <td>11.494</td>\n",
       "    </tr>\n",
       "  </tbody>\n",
       "</table>\n",
       "</div>"
      ],
      "text/plain": [
       "  index                        title    last_name first_name  date  num_acts  \\\n",
       "0   C_1         The Comedy of Errors  Shakespeare    William  1592         5   \n",
       "1   C_3  The Two Gentlemen of Verona  Shakespeare    William  1593         5   \n",
       "2   C_4          Love’s Labor’s Lost  Shakespeare    William  1595         5   \n",
       "3   C_5       The Merchant of Venice  Shakespeare    William  1596         5   \n",
       "4   C_6    A Midsummer Night's Dream  Shakespeare    William  1596         5   \n",
       "\n",
       "                                                 url num_present_characters  \\\n",
       "0  https://dracor.org/api/corpora/shake/play/the-...                     19   \n",
       "1  https://dracor.org/api/corpora/shake/play/two-...                     17   \n",
       "2  https://dracor.org/api/corpora/shake/play/love...                     23   \n",
       "3  https://dracor.org/api/corpora/shake/play/the-...                     24   \n",
       "4  https://dracor.org/api/corpora/shake/play/a-mi...                     28   \n",
       "\n",
       "  num_scenes_text num_scenes_iarkho  \\\n",
       "0              11                53   \n",
       "1              20                71   \n",
       "2               9                61   \n",
       "3              20                75   \n",
       "4               9                87   \n",
       "\n",
       "                                 speech_distribution percentage_monologues  \\\n",
       "0  [[1, 11], [2, 17], [3, 13], [4, 6], [5, 2], [6...                 20.75   \n",
       "1  [[1, 24], [2, 32], [3, 9], [4, 4], [5, 1], [6,...                  33.8   \n",
       "2  [[1, 9], [2, 17], [3, 13], [4, 8], [5, 7], [6,...                 14.75   \n",
       "3  [[1, 14], [2, 38], [3, 14], [4, 3], [5, 3], [6...                 18.67   \n",
       "4  [[1, 28], [2, 31], [3, 13], [4, 9], [5, 2], [6...                 32.18   \n",
       "\n",
       "  percentage_duologues percentage_non_duologues percentage_above_two_speakers  \\\n",
       "0                32.08                    67.92                         47.17   \n",
       "1                45.07                    54.93                         21.13   \n",
       "2                27.87                    72.13                         57.38   \n",
       "3                50.67                    49.33                         30.67   \n",
       "4                35.63                    64.37                         32.18   \n",
       "\n",
       "  av_percentage_non_speakers sigma_iarkho  \\\n",
       "0                     22.182        1.823   \n",
       "1                     14.272        1.021   \n",
       "2                      32.54         1.89   \n",
       "3                     32.173         1.23   \n",
       "4                     42.766        1.321   \n",
       "\n",
       "  number_scenes_with_discontinuous_change_characters  \\\n",
       "0                                                  9   \n",
       "1                                                 19   \n",
       "2                                                  8   \n",
       "3                                                 16   \n",
       "4                                                 10   \n",
       "\n",
       "  percentage_scenes_with_discontinuous_change_characters  \n",
       "0                                             16.981      \n",
       "1                                             26.761      \n",
       "2                                             13.115      \n",
       "3                                             21.333      \n",
       "4                                             11.494      "
      ]
     },
     "execution_count": 7,
     "metadata": {},
     "output_type": "execute_result"
    }
   ],
   "source": [
    "contrastive_data_df.head()"
   ]
  },
  {
   "cell_type": "code",
   "execution_count": 8,
   "metadata": {},
   "outputs": [],
   "source": [
    "# calculate the coefficient of non-used dramatic characters\n",
    "unused_coefficient = load_jsons('../Contrastive_Material/Play_Jsons/')\n",
    "unused_coefficient['index'] = unused_coefficient.index.tolist()\n",
    "contrastive_all_data_df = contrastive_data_df.merge(unused_coefficient, on='index')"
   ]
  },
  {
   "cell_type": "markdown",
   "metadata": {},
   "source": [
    "#### Change the Data Type of Selected Columns to Numeric"
   ]
  },
  {
   "cell_type": "code",
   "execution_count": 9,
   "metadata": {},
   "outputs": [],
   "source": [
    "columns_not_integers = ['speech_distribution', 'index', 'title', 'last_name', 'first_name', 'url']\n",
    "numeric_columns = [col for col in contrastive_all_data_df.columns.tolist() if col not in columns_not_integers]"
   ]
  },
  {
   "cell_type": "code",
   "execution_count": 10,
   "metadata": {},
   "outputs": [],
   "source": [
    "for column in numeric_columns:\n",
    "    contrastive_all_data_df[column] = contrastive_all_data_df[column].astype(float)"
   ]
  },
  {
   "cell_type": "code",
   "execution_count": 11,
   "metadata": {},
   "outputs": [
    {
     "data": {
      "text/plain": [
       "index                                                      object\n",
       "title                                                      object\n",
       "last_name                                                  object\n",
       "first_name                                                 object\n",
       "date                                                      float64\n",
       "num_acts                                                  float64\n",
       "url                                                        object\n",
       "num_present_characters                                    float64\n",
       "num_scenes_text                                           float64\n",
       "num_scenes_iarkho                                         float64\n",
       "speech_distribution                                        object\n",
       "percentage_monologues                                     float64\n",
       "percentage_duologues                                      float64\n",
       "percentage_non_duologues                                  float64\n",
       "percentage_above_two_speakers                             float64\n",
       "av_percentage_non_speakers                                float64\n",
       "sigma_iarkho                                              float64\n",
       "number_scenes_with_discontinuous_change_characters        float64\n",
       "percentage_scenes_with_discontinuous_change_characters    float64\n",
       "coefficient_unused                                        float64\n",
       "dtype: object"
      ]
     },
     "execution_count": 11,
     "metadata": {},
     "output_type": "execute_result"
    }
   ],
   "source": [
    "contrastive_all_data_df.dtypes"
   ]
  },
  {
   "cell_type": "markdown",
   "metadata": {},
   "source": [
    "#### Check the correlation coefficients between the average percentae of non-speakers and the coefficient of unused dramatic characters."
   ]
  },
  {
   "cell_type": "code",
   "execution_count": 12,
   "metadata": {},
   "outputs": [
    {
     "data": {
      "text/html": [
       "<div>\n",
       "<style scoped>\n",
       "    .dataframe tbody tr th:only-of-type {\n",
       "        vertical-align: middle;\n",
       "    }\n",
       "\n",
       "    .dataframe tbody tr th {\n",
       "        vertical-align: top;\n",
       "    }\n",
       "\n",
       "    .dataframe thead th {\n",
       "        text-align: right;\n",
       "    }\n",
       "</style>\n",
       "<table border=\"1\" class=\"dataframe\">\n",
       "  <thead>\n",
       "    <tr style=\"text-align: right;\">\n",
       "      <th></th>\n",
       "      <th>av_percentage_non_speakers</th>\n",
       "      <th>coefficient_unused</th>\n",
       "    </tr>\n",
       "  </thead>\n",
       "  <tbody>\n",
       "    <tr>\n",
       "      <th>av_percentage_non_speakers</th>\n",
       "      <td>1.00000</td>\n",
       "      <td>0.98278</td>\n",
       "    </tr>\n",
       "    <tr>\n",
       "      <th>coefficient_unused</th>\n",
       "      <td>0.98278</td>\n",
       "      <td>1.00000</td>\n",
       "    </tr>\n",
       "  </tbody>\n",
       "</table>\n",
       "</div>"
      ],
      "text/plain": [
       "                            av_percentage_non_speakers  coefficient_unused\n",
       "av_percentage_non_speakers                     1.00000             0.98278\n",
       "coefficient_unused                             0.98278             1.00000"
      ]
     },
     "execution_count": 12,
     "metadata": {},
     "output_type": "execute_result"
    }
   ],
   "source": [
    "contrastive_all_data_df[['av_percentage_non_speakers', 'coefficient_unused']].corr()"
   ]
  },
  {
   "cell_type": "markdown",
   "metadata": {},
   "source": [
    "### Save the Data"
   ]
  },
  {
   "cell_type": "code",
   "execution_count": 13,
   "metadata": {},
   "outputs": [],
   "source": [
    "contrastive_all_data_df.to_csv('../Contrastive_Material/Contrastive_Material_Data.csv', index=False)"
   ]
  }
 ],
 "metadata": {
  "kernelspec": {
   "display_name": "Python 3",
   "language": "python",
   "name": "python3"
  },
  "language_info": {
   "codemirror_mode": {
    "name": "ipython",
    "version": 3
   },
   "file_extension": ".py",
   "mimetype": "text/x-python",
   "name": "python",
   "nbconvert_exporter": "python",
   "pygments_lexer": "ipython3",
   "version": "3.7.6"
  }
 },
 "nbformat": 4,
 "nbformat_minor": 4
}
