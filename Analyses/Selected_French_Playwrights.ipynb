{
 "cells": [
  {
   "cell_type": "markdown",
   "metadata": {},
   "source": [
    "# Individual Playwrights in the Context of Their Time Periods\n",
    "In this analysis we will explore the playwrights in the context of the time period in which they creates their comedies. We will focus on the following features:\n",
    "- The number of dramatic characters\n",
    "- The mobility coefficient\n",
    "- The standard range of the number of speaking characters\n",
    "- The percentage of polylogues\n",
    "- The percentage of monologues.\n",
    "\n",
    "Our agenda:\n",
    "1. For each time period and each feature, we will identify the comedy that that represents the maximum, the minimum, and the comedies that are the closest to the mean.\n",
    "2. For each time period, we create a summary for selected playwrights:\n",
    "    - Calculate the mean number of dramatic characters, mean mobility coefficient, the standard range of the number of speaking characters (sigma), the mean percentage of polylogues, and the mean percentage of monologues.\n",
    "    - Calculate open-form scores for each playwright that tell us how experimental each playwright in the context of his time.\n",
    "3. Examine the evolution of Jean-François Collin d’Harleville whose oeuvre spanned two literary periods."
   ]
  },
  {
   "cell_type": "markdown",
   "metadata": {},
   "source": [
    "### Import Libraries"
   ]
  },
  {
   "cell_type": "code",
   "execution_count": 1,
   "metadata": {},
   "outputs": [],
   "source": [
    "import pandas as pd\n",
    "import numpy as np\n",
    "import matplotlib.pyplot as plt\n",
    "%matplotlib inline\n",
    "import seaborn as sns\n",
    "import re"
   ]
  },
  {
   "cell_type": "markdown",
   "metadata": {},
   "source": [
    "### Define Functions"
   ]
  },
  {
   "cell_type": "code",
   "execution_count": 2,
   "metadata": {},
   "outputs": [],
   "source": [
    "# update the boundaries as we determined based on our hypothesis testing\n",
    "def determine_period(row):\n",
    "    if row <= 1695:\n",
    "        period = 1\n",
    "    elif row >= 1696 and row <= 1795:\n",
    "        period = 2\n",
    "    else:\n",
    "        period = 3\n",
    "    \n",
    "    return period"
   ]
  },
  {
   "cell_type": "code",
   "execution_count": 3,
   "metadata": {},
   "outputs": [],
   "source": [
    "def make_list(row):\n",
    "    speech_dist = []\n",
    "    for value in row[1:-1].split('\\n '):\n",
    "        speech_dist.append([int(num) for num in re.findall('[0-9]+', value)])\n",
    "        \n",
    "    return speech_dist"
   ]
  },
  {
   "cell_type": "code",
   "execution_count": 4,
   "metadata": {},
   "outputs": [],
   "source": [
    "def speech_distribution_by_period(period_df):\n",
    "    all_distributions = []\n",
    "    for row in period_df['speech_distribution']:\n",
    "        speech_dist_df = pd.DataFrame(row).T\n",
    "        # rename columns to make sure they start with 1 and not 0\n",
    "        speech_dist_df.columns = speech_dist_df.iloc[0, :]\n",
    "        # no need to include the variants as a row - they will be column names\n",
    "        only_counts_df = pd.DataFrame(speech_dist_df.iloc[1, :])\n",
    "        only_counts_df.columns = ['raw_numbers']\n",
    "        only_counts_df['percentage'] = only_counts_df['raw_numbers'] / only_counts_df.sum().values[0]\n",
    "        all_distributions.append(round(only_counts_df['percentage'], 4))\n",
    "    period_df_dist = pd.concat(all_distributions, axis=1).fillna(0)\n",
    "    # take the mean for each period\n",
    "    mean_per_type = pd.DataFrame(period_df_dist.mean(axis=1)).T \n",
    "    mean_per_type.index.name = 'number_of_speakers'\n",
    "    mean_per_type = (mean_per_type * 100).round(2)\n",
    "        \n",
    "    return mean_per_type"
   ]
  },
  {
   "cell_type": "code",
   "execution_count": 5,
   "metadata": {},
   "outputs": [],
   "source": [
    "def sigma_iarkho(df):\n",
    "    \"\"\"\n",
    "    The function allows calculating standard range following iarkho's procedure.\n",
    "    Parameters:\n",
    "        df  - a dataframe where columns are variants, i.e., the distinct number of speakers in the ascending order, \n",
    "              e.g. [1, 2, 3, 4, 5] and values weights corresponding to these variants, i.e.,\n",
    "              the number of scenes, e.g. [20, 32, 18, 9, 1]\n",
    "    Returns:\n",
    "        sigma - standard range per iarkho\n",
    "    \"\"\"\n",
    "    weighted_mean_variants = np.average(df.columns.tolist(), weights=df.values[0])\n",
    "    differences_squared = [(variant - weighted_mean_variants)**2 for variant in df.columns]\n",
    "    weighted_mean_difference = np.average(differences_squared, weights=df.values[0])\n",
    "    sigma = round(weighted_mean_difference**0.5, 2)\n",
    "\n",
    "    return sigma"
   ]
  },
  {
   "cell_type": "code",
   "execution_count": 6,
   "metadata": {},
   "outputs": [],
   "source": [
    "def sigma_for_playwrights(df, playwrights_lst):\n",
    "    sigmas = []\n",
    "    for playwright in playwrights_lst:\n",
    "        selection = df[(df.last_name == playwright[0]) & (df.first_name == playwright[1])].copy()\n",
    "        sigma = selection.pipe(speech_distribution_by_period).pipe(sigma_iarkho)\n",
    "        sigmas.append(sigma)\n",
    "        \n",
    "    summary = pd.DataFrame(sigmas, columns=['sigma_iarkho'])\n",
    "    summary['z_score'] = (summary['sigma_iarkho'] - df['sigma_iarkho'].mean()) / df['sigma_iarkho'].std()\n",
    "    summary.index = playwrights_lst\n",
    "    \n",
    "    return summary"
   ]
  },
  {
   "cell_type": "code",
   "execution_count": 7,
   "metadata": {},
   "outputs": [],
   "source": [
    "def summary_feature(df, feature):\n",
    "    print('Mean, standard deviation, median, min and max values for the period:')\n",
    "    display(df[feature].describe()[['mean', 'std', '50%','min', 'max']].round(2))\n",
    "    print('Period Max:')\n",
    "    display(df[df[feature] == df[feature].max()][['last_name', 'first_name', 'title', 'date', feature]].round(2))\n",
    "    print('Period Min:')\n",
    "    display(df[df[feature] == df[feature].min()][['last_name', 'first_name', 'title', 'date', feature]].round(2))\n",
    "    print('The closest to the mean:')\n",
    "    df_copy = df.copy()\n",
    "    df_copy['diff_with_mean'] = df_copy[feature].apply(lambda x: np.absolute(x - df_copy[feature].mean()))\n",
    "    display(df_copy[df_copy['diff_with_mean'] == df_copy['diff_with_mean'].min()][['last_name', 'first_name', 'title', 'date', feature]].round(2))"
   ]
  },
  {
   "cell_type": "code",
   "execution_count": 8,
   "metadata": {},
   "outputs": [],
   "source": [
    "def authors_by_period(period_df, feature, playwrights_lst):\n",
    "    period_df = period_df.sort_values(by='last_name')\n",
    "    period_summary = period_df.groupby(['last_name', 'first_name']).describe()\n",
    "    period_mean = round(period_df[feature].mean(), 2)\n",
    "    period_std = round(period_df[feature].std(), 2)\n",
    "    statistics = ['mean', '50%', 'std', 'min', 'max']\n",
    "    \n",
    "    all_authors = period_summary.loc[[author[0] for author in playwrights_lst], \n",
    "                                    feature][statistics].round(2)\n",
    "\n",
    "    all_authors['z_score'] = (all_authors['mean'] - period_mean) / period_std\n",
    "    return  all_authors"
   ]
  },
  {
   "cell_type": "code",
   "execution_count": 9,
   "metadata": {},
   "outputs": [],
   "source": [
    "def playwrights_place(df, playwrights, with_mode=True):\n",
    "    if with_mode:\n",
    "        column = 'z_score'\n",
    "        sigma_col = column\n",
    "    else:\n",
    "        column = ['mean']\n",
    "        sigma_col = 'sigma_iarkho'\n",
    "    summary = pd.DataFrame(authors_by_period(df, 'num_present_characters', playwrights)[column])\n",
    "    summary.columns = ['num_present_characters']\n",
    "    # make sure the order of the playwrights is the same\n",
    "    \n",
    "    ind = summary.index\n",
    "    summary['mobility_coefficient'] = authors_by_period(df, 'mobility_coefficient', \n",
    "                                                        playwrights).loc[ind, column]\n",
    "    summary['sigma_iarkho'] = sigma_for_playwrights(df, ind)[sigma_col]\n",
    "    summary['polylogues'] = authors_by_period(df, 'percentage_polylogues', \n",
    "                                                         playwrights).loc[ind, column]\n",
    "    summary['monologues'] = authors_by_period(df, 'percentage_monologues', \n",
    "                                                         playwrights).loc[ind, column]\n",
    "    summary = summary.round(2)\n",
    "    if with_mode:\n",
    "        summary['monologues'] = summary['monologues'].apply(lambda x: -x)\n",
    "        summary['open_form_score'] = round(summary.apply(lambda x: x.mean(), axis=1), 2)\n",
    "    \n",
    "    return summary"
   ]
  },
  {
   "cell_type": "markdown",
   "metadata": {},
   "source": [
    "### Load Data"
   ]
  },
  {
   "cell_type": "code",
   "execution_count": 10,
   "metadata": {},
   "outputs": [],
   "source": [
    "data = pd.read_csv('../French_Comedies/Data/French_Comedies_Data.csv')"
   ]
  },
  {
   "cell_type": "code",
   "execution_count": 11,
   "metadata": {},
   "outputs": [
    {
     "data": {
      "text/plain": [
       "(279, 25)"
      ]
     },
     "execution_count": 11,
     "metadata": {},
     "output_type": "execute_result"
    }
   ],
   "source": [
    "data.shape"
   ]
  },
  {
   "cell_type": "code",
   "execution_count": 12,
   "metadata": {},
   "outputs": [],
   "source": [
    "# include only five act comedies and only original comedies\n",
    "original_comedies = data[(data['num_acts'] ==5)&\n",
    "                         (data['translation/adaptation/contrastive'] == 0)].copy()"
   ]
  },
  {
   "cell_type": "code",
   "execution_count": 13,
   "metadata": {},
   "outputs": [
    {
     "data": {
      "text/html": [
       "<div>\n",
       "<style scoped>\n",
       "    .dataframe tbody tr th:only-of-type {\n",
       "        vertical-align: middle;\n",
       "    }\n",
       "\n",
       "    .dataframe tbody tr th {\n",
       "        vertical-align: top;\n",
       "    }\n",
       "\n",
       "    .dataframe thead th {\n",
       "        text-align: right;\n",
       "    }\n",
       "</style>\n",
       "<table border=\"1\" class=\"dataframe\">\n",
       "  <thead>\n",
       "    <tr style=\"text-align: right;\">\n",
       "      <th></th>\n",
       "      <th>index</th>\n",
       "      <th>title</th>\n",
       "      <th>last_name</th>\n",
       "      <th>first_name</th>\n",
       "      <th>date</th>\n",
       "      <th>translation/adaptation/contrastive</th>\n",
       "      <th>num_acts</th>\n",
       "      <th>url</th>\n",
       "      <th>num_present_characters</th>\n",
       "      <th>num_scenes_text</th>\n",
       "      <th>...</th>\n",
       "      <th>percentage_above_two_speakers</th>\n",
       "      <th>av_percentage_non_speakers</th>\n",
       "      <th>sigma_iarkho</th>\n",
       "      <th>number_scenes_with_discontinuous_change_characters</th>\n",
       "      <th>percentage_scenes_with_discontinuous_change_characters</th>\n",
       "      <th>total_utterances</th>\n",
       "      <th>num_verse_lines</th>\n",
       "      <th>dialogue_vivacity</th>\n",
       "      <th>five_year_intervals</th>\n",
       "      <th>decades</th>\n",
       "    </tr>\n",
       "  </thead>\n",
       "  <tbody>\n",
       "    <tr>\n",
       "      <th>2</th>\n",
       "      <td>F_3</td>\n",
       "      <td>Mélite ou Les fausses lettres</td>\n",
       "      <td>Corneille</td>\n",
       "      <td>Pierre</td>\n",
       "      <td>1629</td>\n",
       "      <td>0</td>\n",
       "      <td>5</td>\n",
       "      <td>http://www.theatre-classique.fr/pages/document...</td>\n",
       "      <td>8</td>\n",
       "      <td>35</td>\n",
       "      <td>...</td>\n",
       "      <td>23.08</td>\n",
       "      <td>0.513</td>\n",
       "      <td>0.906</td>\n",
       "      <td>12</td>\n",
       "      <td>30.769</td>\n",
       "      <td>483.0</td>\n",
       "      <td>1822.0</td>\n",
       "      <td>0.265</td>\n",
       "      <td>1630</td>\n",
       "      <td>1630</td>\n",
       "    </tr>\n",
       "    <tr>\n",
       "      <th>3</th>\n",
       "      <td>F_5</td>\n",
       "      <td>La Veuve ou Le Traître trahi</td>\n",
       "      <td>Corneille</td>\n",
       "      <td>Pierre</td>\n",
       "      <td>1633</td>\n",
       "      <td>0</td>\n",
       "      <td>5</td>\n",
       "      <td>http://www.theatre-classique.fr/pages/document...</td>\n",
       "      <td>12</td>\n",
       "      <td>40</td>\n",
       "      <td>...</td>\n",
       "      <td>20.00</td>\n",
       "      <td>3.519</td>\n",
       "      <td>1.062</td>\n",
       "      <td>12</td>\n",
       "      <td>26.667</td>\n",
       "      <td>521.0</td>\n",
       "      <td>2010.0</td>\n",
       "      <td>0.259</td>\n",
       "      <td>1635</td>\n",
       "      <td>1640</td>\n",
       "    </tr>\n",
       "    <tr>\n",
       "      <th>4</th>\n",
       "      <td>F_9</td>\n",
       "      <td>La Célimène</td>\n",
       "      <td>Rotrou</td>\n",
       "      <td>Jean de</td>\n",
       "      <td>1633</td>\n",
       "      <td>0</td>\n",
       "      <td>5</td>\n",
       "      <td>http://www.xn--thtre-documentation-cvb0m.com/c...</td>\n",
       "      <td>10</td>\n",
       "      <td>36</td>\n",
       "      <td>...</td>\n",
       "      <td>22.22</td>\n",
       "      <td>8.963</td>\n",
       "      <td>1.092</td>\n",
       "      <td>5</td>\n",
       "      <td>11.111</td>\n",
       "      <td>NaN</td>\n",
       "      <td>NaN</td>\n",
       "      <td>NaN</td>\n",
       "      <td>1635</td>\n",
       "      <td>1640</td>\n",
       "    </tr>\n",
       "  </tbody>\n",
       "</table>\n",
       "<p>3 rows × 25 columns</p>\n",
       "</div>"
      ],
      "text/plain": [
       "  index                                 title  last_name first_name  date  \\\n",
       "2   F_3         Mélite ou Les fausses lettres  Corneille     Pierre  1629   \n",
       "3   F_5  La Veuve ou Le Traître trahi          Corneille     Pierre  1633   \n",
       "4   F_9                           La Célimène     Rotrou    Jean de  1633   \n",
       "\n",
       "   translation/adaptation/contrastive  num_acts  \\\n",
       "2                                   0         5   \n",
       "3                                   0         5   \n",
       "4                                   0         5   \n",
       "\n",
       "                                                 url  num_present_characters  \\\n",
       "2  http://www.theatre-classique.fr/pages/document...                       8   \n",
       "3  http://www.theatre-classique.fr/pages/document...                      12   \n",
       "4  http://www.xn--thtre-documentation-cvb0m.com/c...                      10   \n",
       "\n",
       "   num_scenes_text  ...  percentage_above_two_speakers  \\\n",
       "2               35  ...                          23.08   \n",
       "3               40  ...                          20.00   \n",
       "4               36  ...                          22.22   \n",
       "\n",
       "  av_percentage_non_speakers  sigma_iarkho  \\\n",
       "2                      0.513         0.906   \n",
       "3                      3.519         1.062   \n",
       "4                      8.963         1.092   \n",
       "\n",
       "   number_scenes_with_discontinuous_change_characters  \\\n",
       "2                                                 12    \n",
       "3                                                 12    \n",
       "4                                                  5    \n",
       "\n",
       "   percentage_scenes_with_discontinuous_change_characters  total_utterances  \\\n",
       "2                                             30.769                  483.0   \n",
       "3                                             26.667                  521.0   \n",
       "4                                             11.111                    NaN   \n",
       "\n",
       "   num_verse_lines  dialogue_vivacity  five_year_intervals  decades  \n",
       "2           1822.0              0.265                 1630     1630  \n",
       "3           2010.0              0.259                 1635     1640  \n",
       "4              NaN                NaN                 1635     1640  \n",
       "\n",
       "[3 rows x 25 columns]"
      ]
     },
     "execution_count": 13,
     "metadata": {},
     "output_type": "execute_result"
    }
   ],
   "source": [
    "original_comedies.head(3)"
   ]
  },
  {
   "cell_type": "code",
   "execution_count": 14,
   "metadata": {},
   "outputs": [
    {
     "data": {
      "text/plain": [
       "(257, 25)"
      ]
     },
     "execution_count": 14,
     "metadata": {},
     "output_type": "execute_result"
    }
   ],
   "source": [
    "original_comedies.shape"
   ]
  },
  {
   "cell_type": "code",
   "execution_count": 15,
   "metadata": {},
   "outputs": [],
   "source": [
    "sorted_comedies = original_comedies.sort_values(by='date')"
   ]
  },
  {
   "cell_type": "code",
   "execution_count": 16,
   "metadata": {},
   "outputs": [],
   "source": [
    "sorted_comedies['period'] = sorted_comedies['date'].apply(determine_period)"
   ]
  },
  {
   "cell_type": "code",
   "execution_count": 17,
   "metadata": {},
   "outputs": [],
   "source": [
    "sorted_comedies = sorted_comedies.rename(columns={'num_scenes_iarkho': 'mobility_coefficient', \n",
    "                                                  'percentage_non_duologues': 'percentage_non_dialogues',\n",
    "                                                  'percentage_above_two_speakers': 'percentage_polylogues'})"
   ]
  },
  {
   "cell_type": "code",
   "execution_count": 18,
   "metadata": {},
   "outputs": [],
   "source": [
    "# remove white spaces\n",
    "sorted_comedies['last_name'] = sorted_comedies['last_name'].str.strip()\n",
    "sorted_comedies['first_name'] = sorted_comedies['first_name'].str.strip()\n",
    "sorted_comedies['first_name'] = sorted_comedies['first_name'].fillna('')\n",
    "sorted_comedies['speech_distribution'] = sorted_comedies['speech_distribution'].apply(make_list)"
   ]
  },
  {
   "cell_type": "code",
   "execution_count": 19,
   "metadata": {},
   "outputs": [],
   "source": [
    "period_one = sorted_comedies[sorted_comedies.period == 1].copy()\n",
    "period_two = sorted_comedies[sorted_comedies.period == 2].copy()\n",
    "period_three = sorted_comedies[sorted_comedies.period == 3].copy()"
   ]
  },
  {
   "cell_type": "code",
   "execution_count": 20,
   "metadata": {},
   "outputs": [],
   "source": [
    "features = ['num_present_characters', \n",
    "            'mobility_coefficient',\n",
    "            'sigma_iarkho',\n",
    "            'percentage_monologues', \n",
    "            'percentage_non_dialogues', \n",
    "            'percentage_polylogues']"
   ]
  },
  {
   "cell_type": "code",
   "execution_count": 21,
   "metadata": {},
   "outputs": [],
   "source": [
    "playwrights_period_one = [('Corneille', 'Pierre'),\n",
    "                          ('Corneille', 'Thomas'),\n",
    "                          ('Molière', ''),\n",
    "                          ('Montfleury', ''),\n",
    "                          ('Scarron', 'Paul'),\n",
    "                          ('Boisrobert', 'François Le Métel de'),\n",
    "                          ('Quinault', 'Philippe'),\n",
    "                          ('Boursault', 'Edmé'),\n",
    "                          ('La Fontaine', 'Jean de')]"
   ]
  },
  {
   "cell_type": "code",
   "execution_count": 22,
   "metadata": {},
   "outputs": [],
   "source": [
    "playwrights_period_two = [('Boissy', 'Louis de'),\n",
    "                        ('Rousseau', 'Jean-Baptiste'),\n",
    "                        ('Voltaire', ''),\n",
    "                        ('Regnard', 'Jean-François'),\n",
    "                        ('Néricault Destouches', 'Philippe'),\n",
    "                        ('Dorat', 'Claude-Joseph'),\n",
    "                        ('Desforges', ''),\n",
    "                        ('Dancourt', 'Pierre Claude'),\n",
    "                        ('Nivelle de la Chaussée', ''),\n",
    "                        ('Collin d’Harleville', 'Jean-François'),\n",
    "                        ('Boissy', 'Louis de')]"
   ]
  },
  {
   "cell_type": "code",
   "execution_count": 23,
   "metadata": {},
   "outputs": [],
   "source": [
    "playwrights_period_three = [('Duval', 'Alexandre'),\n",
    "                           ('Delavigne', 'Casimir'),\n",
    "                           ('Bonjour', 'Casimir'),\n",
    "                           ('Gosse', 'Étienne'),\n",
    "                           ('Collin d’Harleville', 'Jean-François'),\n",
    "                           ('Picard','Louis-Benoît')]"
   ]
  },
  {
   "cell_type": "markdown",
   "metadata": {},
   "source": [
    "## Part 1. The Maximum, The Minimum, and The Closest to The Mean"
   ]
  },
  {
   "cell_type": "markdown",
   "metadata": {},
   "source": [
    "### Period 1 (1629 to 1695)"
   ]
  },
  {
   "cell_type": "markdown",
   "metadata": {},
   "source": [
    "#### Number of Dramatic Characters"
   ]
  },
  {
   "cell_type": "code",
   "execution_count": 24,
   "metadata": {},
   "outputs": [
    {
     "name": "stdout",
     "output_type": "stream",
     "text": [
      "Mean, standard deviation, median, min and max values for the period:\n"
     ]
    },
    {
     "data": {
      "text/plain": [
       "mean    11.91\n",
       "std      4.05\n",
       "50%     11.00\n",
       "min      7.00\n",
       "max     30.00\n",
       "Name: num_present_characters, dtype: float64"
      ]
     },
     "metadata": {},
     "output_type": "display_data"
    },
    {
     "name": "stdout",
     "output_type": "stream",
     "text": [
      "Period Max:\n"
     ]
    },
    {
     "data": {
      "text/html": [
       "<div>\n",
       "<style scoped>\n",
       "    .dataframe tbody tr th:only-of-type {\n",
       "        vertical-align: middle;\n",
       "    }\n",
       "\n",
       "    .dataframe tbody tr th {\n",
       "        vertical-align: top;\n",
       "    }\n",
       "\n",
       "    .dataframe thead th {\n",
       "        text-align: right;\n",
       "    }\n",
       "</style>\n",
       "<table border=\"1\" class=\"dataframe\">\n",
       "  <thead>\n",
       "    <tr style=\"text-align: right;\">\n",
       "      <th></th>\n",
       "      <th>last_name</th>\n",
       "      <th>first_name</th>\n",
       "      <th>title</th>\n",
       "      <th>date</th>\n",
       "      <th>num_present_characters</th>\n",
       "    </tr>\n",
       "  </thead>\n",
       "  <tbody>\n",
       "    <tr>\n",
       "      <th>80</th>\n",
       "      <td>Chalussay</td>\n",
       "      <td>Le Boulanger de</td>\n",
       "      <td>Elomire Hypocondre</td>\n",
       "      <td>1670</td>\n",
       "      <td>30</td>\n",
       "    </tr>\n",
       "  </tbody>\n",
       "</table>\n",
       "</div>"
      ],
      "text/plain": [
       "    last_name       first_name                title  date  \\\n",
       "80  Chalussay  Le Boulanger de  Elomire Hypocondre   1670   \n",
       "\n",
       "    num_present_characters  \n",
       "80                      30  "
      ]
     },
     "metadata": {},
     "output_type": "display_data"
    },
    {
     "name": "stdout",
     "output_type": "stream",
     "text": [
      "Period Min:\n"
     ]
    },
    {
     "data": {
      "text/html": [
       "<div>\n",
       "<style scoped>\n",
       "    .dataframe tbody tr th:only-of-type {\n",
       "        vertical-align: middle;\n",
       "    }\n",
       "\n",
       "    .dataframe tbody tr th {\n",
       "        vertical-align: top;\n",
       "    }\n",
       "\n",
       "    .dataframe thead th {\n",
       "        text-align: right;\n",
       "    }\n",
       "</style>\n",
       "<table border=\"1\" class=\"dataframe\">\n",
       "  <thead>\n",
       "    <tr style=\"text-align: right;\">\n",
       "      <th></th>\n",
       "      <th>last_name</th>\n",
       "      <th>first_name</th>\n",
       "      <th>title</th>\n",
       "      <th>date</th>\n",
       "      <th>num_present_characters</th>\n",
       "    </tr>\n",
       "  </thead>\n",
       "  <tbody>\n",
       "    <tr>\n",
       "      <th>25</th>\n",
       "      <td>Corneille</td>\n",
       "      <td>Pierre</td>\n",
       "      <td>La Suite du menteur</td>\n",
       "      <td>1643</td>\n",
       "      <td>7</td>\n",
       "    </tr>\n",
       "    <tr>\n",
       "      <th>70</th>\n",
       "      <td>Montfleury</td>\n",
       "      <td></td>\n",
       "      <td>L’École des filles</td>\n",
       "      <td>1666</td>\n",
       "      <td>7</td>\n",
       "    </tr>\n",
       "    <tr>\n",
       "      <th>81</th>\n",
       "      <td>Marcel</td>\n",
       "      <td></td>\n",
       "      <td>Le Mariage sans mariage</td>\n",
       "      <td>1671</td>\n",
       "      <td>7</td>\n",
       "    </tr>\n",
       "  </tbody>\n",
       "</table>\n",
       "</div>"
      ],
      "text/plain": [
       "     last_name first_name                    title  date  \\\n",
       "25   Corneille     Pierre      La Suite du menteur  1643   \n",
       "70  Montfleury                  L’École des filles  1666   \n",
       "81      Marcel             Le Mariage sans mariage  1671   \n",
       "\n",
       "    num_present_characters  \n",
       "25                       7  \n",
       "70                       7  \n",
       "81                       7  "
      ]
     },
     "metadata": {},
     "output_type": "display_data"
    },
    {
     "name": "stdout",
     "output_type": "stream",
     "text": [
      "The closest to the mean:\n"
     ]
    },
    {
     "data": {
      "text/html": [
       "<div>\n",
       "<style scoped>\n",
       "    .dataframe tbody tr th:only-of-type {\n",
       "        vertical-align: middle;\n",
       "    }\n",
       "\n",
       "    .dataframe tbody tr th {\n",
       "        vertical-align: top;\n",
       "    }\n",
       "\n",
       "    .dataframe thead th {\n",
       "        text-align: right;\n",
       "    }\n",
       "</style>\n",
       "<table border=\"1\" class=\"dataframe\">\n",
       "  <thead>\n",
       "    <tr style=\"text-align: right;\">\n",
       "      <th></th>\n",
       "      <th>last_name</th>\n",
       "      <th>first_name</th>\n",
       "      <th>title</th>\n",
       "      <th>date</th>\n",
       "      <th>num_present_characters</th>\n",
       "    </tr>\n",
       "  </thead>\n",
       "  <tbody>\n",
       "    <tr>\n",
       "      <th>3</th>\n",
       "      <td>Corneille</td>\n",
       "      <td>Pierre</td>\n",
       "      <td>La Veuve ou Le Traître trahi</td>\n",
       "      <td>1633</td>\n",
       "      <td>12</td>\n",
       "    </tr>\n",
       "    <tr>\n",
       "      <th>6</th>\n",
       "      <td>Corneille</td>\n",
       "      <td>Pierre</td>\n",
       "      <td>La Galerie du Palais</td>\n",
       "      <td>1634</td>\n",
       "      <td>12</td>\n",
       "    </tr>\n",
       "    <tr>\n",
       "      <th>54</th>\n",
       "      <td>Boisrobert</td>\n",
       "      <td>François Le Métel de</td>\n",
       "      <td>Les Apparences trompeuses</td>\n",
       "      <td>1655</td>\n",
       "      <td>12</td>\n",
       "    </tr>\n",
       "    <tr>\n",
       "      <th>60</th>\n",
       "      <td>Molière</td>\n",
       "      <td></td>\n",
       "      <td>Le Dépit amoureux</td>\n",
       "      <td>1658</td>\n",
       "      <td>12</td>\n",
       "    </tr>\n",
       "    <tr>\n",
       "      <th>65</th>\n",
       "      <td>Montfleury</td>\n",
       "      <td></td>\n",
       "      <td>Le Mari sans femme</td>\n",
       "      <td>1663</td>\n",
       "      <td>12</td>\n",
       "    </tr>\n",
       "    <tr>\n",
       "      <th>66</th>\n",
       "      <td>Boursault</td>\n",
       "      <td>Edmé</td>\n",
       "      <td>Les Nicandres</td>\n",
       "      <td>1663</td>\n",
       "      <td>12</td>\n",
       "    </tr>\n",
       "    <tr>\n",
       "      <th>68</th>\n",
       "      <td>Boursault</td>\n",
       "      <td>Edmé</td>\n",
       "      <td>Les deux frères gémeaux</td>\n",
       "      <td>1665</td>\n",
       "      <td>12</td>\n",
       "    </tr>\n",
       "    <tr>\n",
       "      <th>79</th>\n",
       "      <td>Poisson</td>\n",
       "      <td>Raymond</td>\n",
       "      <td>Les Pipeurs ou les Femmes coquettes</td>\n",
       "      <td>1670</td>\n",
       "      <td>12</td>\n",
       "    </tr>\n",
       "  </tbody>\n",
       "</table>\n",
       "</div>"
      ],
      "text/plain": [
       "     last_name            first_name                                 title  \\\n",
       "3    Corneille                Pierre  La Veuve ou Le Traître trahi           \n",
       "6    Corneille                Pierre                  La Galerie du Palais   \n",
       "54  Boisrobert  François Le Métel de             Les Apparences trompeuses   \n",
       "60     Molière                                           Le Dépit amoureux   \n",
       "65  Montfleury                                          Le Mari sans femme   \n",
       "66   Boursault                  Edmé                         Les Nicandres   \n",
       "68   Boursault                  Edmé               Les deux frères gémeaux   \n",
       "79     Poisson               Raymond  Les Pipeurs ou les Femmes coquettes    \n",
       "\n",
       "    date  num_present_characters  \n",
       "3   1633                      12  \n",
       "6   1634                      12  \n",
       "54  1655                      12  \n",
       "60  1658                      12  \n",
       "65  1663                      12  \n",
       "66  1663                      12  \n",
       "68  1665                      12  \n",
       "79  1670                      12  "
      ]
     },
     "metadata": {},
     "output_type": "display_data"
    }
   ],
   "source": [
    "summary_feature(period_one, 'num_present_characters')"
   ]
  },
  {
   "cell_type": "markdown",
   "metadata": {},
   "source": [
    "#### Mobility Coefficient"
   ]
  },
  {
   "cell_type": "code",
   "execution_count": 25,
   "metadata": {},
   "outputs": [
    {
     "name": "stdout",
     "output_type": "stream",
     "text": [
      "Mean, standard deviation, median, min and max values for the period:\n"
     ]
    },
    {
     "data": {
      "text/plain": [
       "mean    41.9\n",
       "std     11.6\n",
       "50%     40.0\n",
       "min     19.0\n",
       "max     85.0\n",
       "Name: mobility_coefficient, dtype: float64"
      ]
     },
     "metadata": {},
     "output_type": "display_data"
    },
    {
     "name": "stdout",
     "output_type": "stream",
     "text": [
      "Period Max:\n"
     ]
    },
    {
     "data": {
      "text/html": [
       "<div>\n",
       "<style scoped>\n",
       "    .dataframe tbody tr th:only-of-type {\n",
       "        vertical-align: middle;\n",
       "    }\n",
       "\n",
       "    .dataframe tbody tr th {\n",
       "        vertical-align: top;\n",
       "    }\n",
       "\n",
       "    .dataframe thead th {\n",
       "        text-align: right;\n",
       "    }\n",
       "</style>\n",
       "<table border=\"1\" class=\"dataframe\">\n",
       "  <thead>\n",
       "    <tr style=\"text-align: right;\">\n",
       "      <th></th>\n",
       "      <th>last_name</th>\n",
       "      <th>first_name</th>\n",
       "      <th>title</th>\n",
       "      <th>date</th>\n",
       "      <th>mobility_coefficient</th>\n",
       "    </tr>\n",
       "  </thead>\n",
       "  <tbody>\n",
       "    <tr>\n",
       "      <th>86</th>\n",
       "      <td>Hauteroche</td>\n",
       "      <td>Noël Lebreton, sieur de</td>\n",
       "      <td>Crispin musicien</td>\n",
       "      <td>1674</td>\n",
       "      <td>85</td>\n",
       "    </tr>\n",
       "  </tbody>\n",
       "</table>\n",
       "</div>"
      ],
      "text/plain": [
       "     last_name               first_name             title  date  \\\n",
       "86  Hauteroche  Noël Lebreton, sieur de  Crispin musicien  1674   \n",
       "\n",
       "    mobility_coefficient  \n",
       "86                    85  "
      ]
     },
     "metadata": {},
     "output_type": "display_data"
    },
    {
     "name": "stdout",
     "output_type": "stream",
     "text": [
      "Period Min:\n"
     ]
    },
    {
     "data": {
      "text/html": [
       "<div>\n",
       "<style scoped>\n",
       "    .dataframe tbody tr th:only-of-type {\n",
       "        vertical-align: middle;\n",
       "    }\n",
       "\n",
       "    .dataframe tbody tr th {\n",
       "        vertical-align: top;\n",
       "    }\n",
       "\n",
       "    .dataframe thead th {\n",
       "        text-align: right;\n",
       "    }\n",
       "</style>\n",
       "<table border=\"1\" class=\"dataframe\">\n",
       "  <thead>\n",
       "    <tr style=\"text-align: right;\">\n",
       "      <th></th>\n",
       "      <th>last_name</th>\n",
       "      <th>first_name</th>\n",
       "      <th>title</th>\n",
       "      <th>date</th>\n",
       "      <th>mobility_coefficient</th>\n",
       "    </tr>\n",
       "  </thead>\n",
       "  <tbody>\n",
       "    <tr>\n",
       "      <th>18</th>\n",
       "      <td>Guérin de Bouscal</td>\n",
       "      <td>Guyon</td>\n",
       "      <td>Dom Quixote de la Manche</td>\n",
       "      <td>1639</td>\n",
       "      <td>19</td>\n",
       "    </tr>\n",
       "  </tbody>\n",
       "</table>\n",
       "</div>"
      ],
      "text/plain": [
       "            last_name first_name                      title  date  \\\n",
       "18  Guérin de Bouscal      Guyon  Dom Quixote de la Manche   1639   \n",
       "\n",
       "    mobility_coefficient  \n",
       "18                    19  "
      ]
     },
     "metadata": {},
     "output_type": "display_data"
    },
    {
     "name": "stdout",
     "output_type": "stream",
     "text": [
      "The closest to the mean:\n"
     ]
    },
    {
     "data": {
      "text/html": [
       "<div>\n",
       "<style scoped>\n",
       "    .dataframe tbody tr th:only-of-type {\n",
       "        vertical-align: middle;\n",
       "    }\n",
       "\n",
       "    .dataframe tbody tr th {\n",
       "        vertical-align: top;\n",
       "    }\n",
       "\n",
       "    .dataframe thead th {\n",
       "        text-align: right;\n",
       "    }\n",
       "</style>\n",
       "<table border=\"1\" class=\"dataframe\">\n",
       "  <thead>\n",
       "    <tr style=\"text-align: right;\">\n",
       "      <th></th>\n",
       "      <th>last_name</th>\n",
       "      <th>first_name</th>\n",
       "      <th>title</th>\n",
       "      <th>date</th>\n",
       "      <th>mobility_coefficient</th>\n",
       "    </tr>\n",
       "  </thead>\n",
       "  <tbody>\n",
       "    <tr>\n",
       "      <th>39</th>\n",
       "      <td>Boisrobert</td>\n",
       "      <td>François Le Métel de</td>\n",
       "      <td>La Folle Gageure</td>\n",
       "      <td>1651</td>\n",
       "      <td>42</td>\n",
       "    </tr>\n",
       "    <tr>\n",
       "      <th>45</th>\n",
       "      <td>Corneille</td>\n",
       "      <td>Thomas</td>\n",
       "      <td>Le Charme de la voix</td>\n",
       "      <td>1653</td>\n",
       "      <td>42</td>\n",
       "    </tr>\n",
       "    <tr>\n",
       "      <th>79</th>\n",
       "      <td>Poisson</td>\n",
       "      <td>Raymond</td>\n",
       "      <td>Les Pipeurs ou les Femmes coquettes</td>\n",
       "      <td>1670</td>\n",
       "      <td>42</td>\n",
       "    </tr>\n",
       "  </tbody>\n",
       "</table>\n",
       "</div>"
      ],
      "text/plain": [
       "     last_name            first_name                                 title  \\\n",
       "39  Boisrobert  François Le Métel de                      La Folle Gageure   \n",
       "45   Corneille                Thomas                  Le Charme de la voix   \n",
       "79     Poisson               Raymond  Les Pipeurs ou les Femmes coquettes    \n",
       "\n",
       "    date  mobility_coefficient  \n",
       "39  1651                    42  \n",
       "45  1653                    42  \n",
       "79  1670                    42  "
      ]
     },
     "metadata": {},
     "output_type": "display_data"
    }
   ],
   "source": [
    "summary_feature(period_one, 'mobility_coefficient')"
   ]
  },
  {
   "cell_type": "markdown",
   "metadata": {},
   "source": [
    "#### Standard Range of the Number of Speaking Characters (Sigma)"
   ]
  },
  {
   "cell_type": "code",
   "execution_count": 26,
   "metadata": {},
   "outputs": [
    {
     "name": "stdout",
     "output_type": "stream",
     "text": [
      "Mean, standard deviation, median, min and max values for the period:\n"
     ]
    },
    {
     "data": {
      "text/plain": [
       "mean    1.25\n",
       "std     0.40\n",
       "50%     1.19\n",
       "min     0.60\n",
       "max     3.54\n",
       "Name: sigma_iarkho, dtype: float64"
      ]
     },
     "metadata": {},
     "output_type": "display_data"
    },
    {
     "name": "stdout",
     "output_type": "stream",
     "text": [
      "Period Max:\n"
     ]
    },
    {
     "data": {
      "text/html": [
       "<div>\n",
       "<style scoped>\n",
       "    .dataframe tbody tr th:only-of-type {\n",
       "        vertical-align: middle;\n",
       "    }\n",
       "\n",
       "    .dataframe tbody tr th {\n",
       "        vertical-align: top;\n",
       "    }\n",
       "\n",
       "    .dataframe thead th {\n",
       "        text-align: right;\n",
       "    }\n",
       "</style>\n",
       "<table border=\"1\" class=\"dataframe\">\n",
       "  <thead>\n",
       "    <tr style=\"text-align: right;\">\n",
       "      <th></th>\n",
       "      <th>last_name</th>\n",
       "      <th>first_name</th>\n",
       "      <th>title</th>\n",
       "      <th>date</th>\n",
       "      <th>sigma_iarkho</th>\n",
       "    </tr>\n",
       "  </thead>\n",
       "  <tbody>\n",
       "    <tr>\n",
       "      <th>80</th>\n",
       "      <td>Chalussay</td>\n",
       "      <td>Le Boulanger de</td>\n",
       "      <td>Elomire Hypocondre</td>\n",
       "      <td>1670</td>\n",
       "      <td>3.54</td>\n",
       "    </tr>\n",
       "  </tbody>\n",
       "</table>\n",
       "</div>"
      ],
      "text/plain": [
       "    last_name       first_name                title  date  sigma_iarkho\n",
       "80  Chalussay  Le Boulanger de  Elomire Hypocondre   1670          3.54"
      ]
     },
     "metadata": {},
     "output_type": "display_data"
    },
    {
     "name": "stdout",
     "output_type": "stream",
     "text": [
      "Period Min:\n"
     ]
    },
    {
     "data": {
      "text/html": [
       "<div>\n",
       "<style scoped>\n",
       "    .dataframe tbody tr th:only-of-type {\n",
       "        vertical-align: middle;\n",
       "    }\n",
       "\n",
       "    .dataframe tbody tr th {\n",
       "        vertical-align: top;\n",
       "    }\n",
       "\n",
       "    .dataframe thead th {\n",
       "        text-align: right;\n",
       "    }\n",
       "</style>\n",
       "<table border=\"1\" class=\"dataframe\">\n",
       "  <thead>\n",
       "    <tr style=\"text-align: right;\">\n",
       "      <th></th>\n",
       "      <th>last_name</th>\n",
       "      <th>first_name</th>\n",
       "      <th>title</th>\n",
       "      <th>date</th>\n",
       "      <th>sigma_iarkho</th>\n",
       "    </tr>\n",
       "  </thead>\n",
       "  <tbody>\n",
       "    <tr>\n",
       "      <th>69</th>\n",
       "      <td>Quinault</td>\n",
       "      <td>Philippe</td>\n",
       "      <td>La Mère coquette</td>\n",
       "      <td>1665</td>\n",
       "      <td>0.6</td>\n",
       "    </tr>\n",
       "  </tbody>\n",
       "</table>\n",
       "</div>"
      ],
      "text/plain": [
       "   last_name first_name             title  date  sigma_iarkho\n",
       "69  Quinault   Philippe  La Mère coquette  1665           0.6"
      ]
     },
     "metadata": {},
     "output_type": "display_data"
    },
    {
     "name": "stdout",
     "output_type": "stream",
     "text": [
      "The closest to the mean:\n"
     ]
    },
    {
     "data": {
      "text/html": [
       "<div>\n",
       "<style scoped>\n",
       "    .dataframe tbody tr th:only-of-type {\n",
       "        vertical-align: middle;\n",
       "    }\n",
       "\n",
       "    .dataframe tbody tr th {\n",
       "        vertical-align: top;\n",
       "    }\n",
       "\n",
       "    .dataframe thead th {\n",
       "        text-align: right;\n",
       "    }\n",
       "</style>\n",
       "<table border=\"1\" class=\"dataframe\">\n",
       "  <thead>\n",
       "    <tr style=\"text-align: right;\">\n",
       "      <th></th>\n",
       "      <th>last_name</th>\n",
       "      <th>first_name</th>\n",
       "      <th>title</th>\n",
       "      <th>date</th>\n",
       "      <th>sigma_iarkho</th>\n",
       "    </tr>\n",
       "  </thead>\n",
       "  <tbody>\n",
       "    <tr>\n",
       "      <th>89</th>\n",
       "      <td>Montfleury</td>\n",
       "      <td></td>\n",
       "      <td>Crispin gentilhomme</td>\n",
       "      <td>1677</td>\n",
       "      <td>1.25</td>\n",
       "    </tr>\n",
       "  </tbody>\n",
       "</table>\n",
       "</div>"
      ],
      "text/plain": [
       "     last_name first_name                title  date  sigma_iarkho\n",
       "89  Montfleury             Crispin gentilhomme  1677          1.25"
      ]
     },
     "metadata": {},
     "output_type": "display_data"
    }
   ],
   "source": [
    "summary_feature(period_one, 'sigma_iarkho')"
   ]
  },
  {
   "cell_type": "markdown",
   "metadata": {},
   "source": [
    "#### The Percentage of Polylogues"
   ]
  },
  {
   "cell_type": "code",
   "execution_count": 27,
   "metadata": {},
   "outputs": [
    {
     "name": "stdout",
     "output_type": "stream",
     "text": [
      "Mean, standard deviation, median, min and max values for the period:\n"
     ]
    },
    {
     "data": {
      "text/plain": [
       "mean    42.36\n",
       "std     13.87\n",
       "50%     41.46\n",
       "min     10.64\n",
       "max     86.21\n",
       "Name: percentage_polylogues, dtype: float64"
      ]
     },
     "metadata": {},
     "output_type": "display_data"
    },
    {
     "name": "stdout",
     "output_type": "stream",
     "text": [
      "Period Max:\n"
     ]
    },
    {
     "data": {
      "text/html": [
       "<div>\n",
       "<style scoped>\n",
       "    .dataframe tbody tr th:only-of-type {\n",
       "        vertical-align: middle;\n",
       "    }\n",
       "\n",
       "    .dataframe tbody tr th {\n",
       "        vertical-align: top;\n",
       "    }\n",
       "\n",
       "    .dataframe thead th {\n",
       "        text-align: right;\n",
       "    }\n",
       "</style>\n",
       "<table border=\"1\" class=\"dataframe\">\n",
       "  <thead>\n",
       "    <tr style=\"text-align: right;\">\n",
       "      <th></th>\n",
       "      <th>last_name</th>\n",
       "      <th>first_name</th>\n",
       "      <th>title</th>\n",
       "      <th>date</th>\n",
       "      <th>percentage_polylogues</th>\n",
       "    </tr>\n",
       "  </thead>\n",
       "  <tbody>\n",
       "    <tr>\n",
       "      <th>41</th>\n",
       "      <td>Boisrobert</td>\n",
       "      <td>François Le Métel de</td>\n",
       "      <td>Les trois Orontes</td>\n",
       "      <td>1652</td>\n",
       "      <td>86.21</td>\n",
       "    </tr>\n",
       "  </tbody>\n",
       "</table>\n",
       "</div>"
      ],
      "text/plain": [
       "     last_name            first_name              title  date  \\\n",
       "41  Boisrobert  François Le Métel de  Les trois Orontes  1652   \n",
       "\n",
       "    percentage_polylogues  \n",
       "41                  86.21  "
      ]
     },
     "metadata": {},
     "output_type": "display_data"
    },
    {
     "name": "stdout",
     "output_type": "stream",
     "text": [
      "Period Min:\n"
     ]
    },
    {
     "data": {
      "text/html": [
       "<div>\n",
       "<style scoped>\n",
       "    .dataframe tbody tr th:only-of-type {\n",
       "        vertical-align: middle;\n",
       "    }\n",
       "\n",
       "    .dataframe tbody tr th {\n",
       "        vertical-align: top;\n",
       "    }\n",
       "\n",
       "    .dataframe thead th {\n",
       "        text-align: right;\n",
       "    }\n",
       "</style>\n",
       "<table border=\"1\" class=\"dataframe\">\n",
       "  <thead>\n",
       "    <tr style=\"text-align: right;\">\n",
       "      <th></th>\n",
       "      <th>last_name</th>\n",
       "      <th>first_name</th>\n",
       "      <th>title</th>\n",
       "      <th>date</th>\n",
       "      <th>percentage_polylogues</th>\n",
       "    </tr>\n",
       "  </thead>\n",
       "  <tbody>\n",
       "    <tr>\n",
       "      <th>7</th>\n",
       "      <td>Corneille</td>\n",
       "      <td>Pierre</td>\n",
       "      <td>La Suivante</td>\n",
       "      <td>1634</td>\n",
       "      <td>10.64</td>\n",
       "    </tr>\n",
       "  </tbody>\n",
       "</table>\n",
       "</div>"
      ],
      "text/plain": [
       "   last_name first_name        title  date  percentage_polylogues\n",
       "7  Corneille     Pierre  La Suivante  1634                  10.64"
      ]
     },
     "metadata": {},
     "output_type": "display_data"
    },
    {
     "name": "stdout",
     "output_type": "stream",
     "text": [
      "The closest to the mean:\n"
     ]
    },
    {
     "data": {
      "text/html": [
       "<div>\n",
       "<style scoped>\n",
       "    .dataframe tbody tr th:only-of-type {\n",
       "        vertical-align: middle;\n",
       "    }\n",
       "\n",
       "    .dataframe tbody tr th {\n",
       "        vertical-align: top;\n",
       "    }\n",
       "\n",
       "    .dataframe thead th {\n",
       "        text-align: right;\n",
       "    }\n",
       "</style>\n",
       "<table border=\"1\" class=\"dataframe\">\n",
       "  <thead>\n",
       "    <tr style=\"text-align: right;\">\n",
       "      <th></th>\n",
       "      <th>last_name</th>\n",
       "      <th>first_name</th>\n",
       "      <th>title</th>\n",
       "      <th>date</th>\n",
       "      <th>percentage_polylogues</th>\n",
       "    </tr>\n",
       "  </thead>\n",
       "  <tbody>\n",
       "    <tr>\n",
       "      <th>26</th>\n",
       "      <td>Ouville</td>\n",
       "      <td>Antoine d'</td>\n",
       "      <td>La Dame suivante</td>\n",
       "      <td>1643</td>\n",
       "      <td>42.31</td>\n",
       "    </tr>\n",
       "  </tbody>\n",
       "</table>\n",
       "</div>"
      ],
      "text/plain": [
       "   last_name  first_name             title  date  percentage_polylogues\n",
       "26   Ouville  Antoine d'  La Dame suivante  1643                  42.31"
      ]
     },
     "metadata": {},
     "output_type": "display_data"
    }
   ],
   "source": [
    "summary_feature(period_one, 'percentage_polylogues')"
   ]
  },
  {
   "cell_type": "markdown",
   "metadata": {},
   "source": [
    "#### The Percentage of Monologues"
   ]
  },
  {
   "cell_type": "code",
   "execution_count": 28,
   "metadata": {},
   "outputs": [
    {
     "name": "stdout",
     "output_type": "stream",
     "text": [
      "Mean, standard deviation, median, min and max values for the period:\n"
     ]
    },
    {
     "data": {
      "text/plain": [
       "mean    13.41\n",
       "std      9.55\n",
       "50%     12.12\n",
       "min      0.00\n",
       "max     33.33\n",
       "Name: percentage_monologues, dtype: float64"
      ]
     },
     "metadata": {},
     "output_type": "display_data"
    },
    {
     "name": "stdout",
     "output_type": "stream",
     "text": [
      "Period Max:\n"
     ]
    },
    {
     "data": {
      "text/html": [
       "<div>\n",
       "<style scoped>\n",
       "    .dataframe tbody tr th:only-of-type {\n",
       "        vertical-align: middle;\n",
       "    }\n",
       "\n",
       "    .dataframe tbody tr th {\n",
       "        vertical-align: top;\n",
       "    }\n",
       "\n",
       "    .dataframe thead th {\n",
       "        text-align: right;\n",
       "    }\n",
       "</style>\n",
       "<table border=\"1\" class=\"dataframe\">\n",
       "  <thead>\n",
       "    <tr style=\"text-align: right;\">\n",
       "      <th></th>\n",
       "      <th>last_name</th>\n",
       "      <th>first_name</th>\n",
       "      <th>title</th>\n",
       "      <th>date</th>\n",
       "      <th>percentage_monologues</th>\n",
       "    </tr>\n",
       "  </thead>\n",
       "  <tbody>\n",
       "    <tr>\n",
       "      <th>4</th>\n",
       "      <td>Rotrou</td>\n",
       "      <td>Jean de</td>\n",
       "      <td>La Célimène</td>\n",
       "      <td>1633</td>\n",
       "      <td>33.33</td>\n",
       "    </tr>\n",
       "  </tbody>\n",
       "</table>\n",
       "</div>"
      ],
      "text/plain": [
       "  last_name first_name        title  date  percentage_monologues\n",
       "4    Rotrou    Jean de  La Célimène  1633                  33.33"
      ]
     },
     "metadata": {},
     "output_type": "display_data"
    },
    {
     "name": "stdout",
     "output_type": "stream",
     "text": [
      "Period Min:\n"
     ]
    },
    {
     "data": {
      "text/html": [
       "<div>\n",
       "<style scoped>\n",
       "    .dataframe tbody tr th:only-of-type {\n",
       "        vertical-align: middle;\n",
       "    }\n",
       "\n",
       "    .dataframe tbody tr th {\n",
       "        vertical-align: top;\n",
       "    }\n",
       "\n",
       "    .dataframe thead th {\n",
       "        text-align: right;\n",
       "    }\n",
       "</style>\n",
       "<table border=\"1\" class=\"dataframe\">\n",
       "  <thead>\n",
       "    <tr style=\"text-align: right;\">\n",
       "      <th></th>\n",
       "      <th>last_name</th>\n",
       "      <th>first_name</th>\n",
       "      <th>title</th>\n",
       "      <th>date</th>\n",
       "      <th>percentage_monologues</th>\n",
       "    </tr>\n",
       "  </thead>\n",
       "  <tbody>\n",
       "    <tr>\n",
       "      <th>18</th>\n",
       "      <td>Guérin de Bouscal</td>\n",
       "      <td>Guyon</td>\n",
       "      <td>Dom Quixote de la Manche</td>\n",
       "      <td>1639</td>\n",
       "      <td>0.0</td>\n",
       "    </tr>\n",
       "    <tr>\n",
       "      <th>35</th>\n",
       "      <td>Scarron</td>\n",
       "      <td>Paul</td>\n",
       "      <td>L'Héritier ridicule ou la Dame intéressée</td>\n",
       "      <td>1649</td>\n",
       "      <td>0.0</td>\n",
       "    </tr>\n",
       "    <tr>\n",
       "      <th>42</th>\n",
       "      <td>Scarron</td>\n",
       "      <td>Paul</td>\n",
       "      <td>Don Japhet d'Arménie</td>\n",
       "      <td>1652</td>\n",
       "      <td>0.0</td>\n",
       "    </tr>\n",
       "    <tr>\n",
       "      <th>46</th>\n",
       "      <td>Boisribert</td>\n",
       "      <td>François</td>\n",
       "      <td>La Belle plaideuse</td>\n",
       "      <td>1654</td>\n",
       "      <td>0.0</td>\n",
       "    </tr>\n",
       "    <tr>\n",
       "      <th>61</th>\n",
       "      <td>Corneille</td>\n",
       "      <td>Thomas</td>\n",
       "      <td>Le Galant doublé</td>\n",
       "      <td>1660</td>\n",
       "      <td>0.0</td>\n",
       "    </tr>\n",
       "    <tr>\n",
       "      <th>69</th>\n",
       "      <td>Quinault</td>\n",
       "      <td>Philippe</td>\n",
       "      <td>La Mère coquette</td>\n",
       "      <td>1665</td>\n",
       "      <td>0.0</td>\n",
       "    </tr>\n",
       "    <tr>\n",
       "      <th>71</th>\n",
       "      <td>Molière</td>\n",
       "      <td></td>\n",
       "      <td>Le Misanthrope</td>\n",
       "      <td>1666</td>\n",
       "      <td>0.0</td>\n",
       "    </tr>\n",
       "    <tr>\n",
       "      <th>73</th>\n",
       "      <td>Corneille</td>\n",
       "      <td>Thomas</td>\n",
       "      <td>Le Baron d'Albikrac</td>\n",
       "      <td>1668</td>\n",
       "      <td>0.0</td>\n",
       "    </tr>\n",
       "    <tr>\n",
       "      <th>77</th>\n",
       "      <td>Corneille</td>\n",
       "      <td>Thomas</td>\n",
       "      <td>La Comtesse d'Orgueil</td>\n",
       "      <td>1670</td>\n",
       "      <td>0.0</td>\n",
       "    </tr>\n",
       "  </tbody>\n",
       "</table>\n",
       "</div>"
      ],
      "text/plain": [
       "            last_name first_name                                      title  \\\n",
       "18  Guérin de Bouscal      Guyon                  Dom Quixote de la Manche    \n",
       "35            Scarron       Paul  L'Héritier ridicule ou la Dame intéressée   \n",
       "42            Scarron       Paul                       Don Japhet d'Arménie   \n",
       "46         Boisribert   François                         La Belle plaideuse   \n",
       "61          Corneille     Thomas                           Le Galant doublé   \n",
       "69           Quinault   Philippe                           La Mère coquette   \n",
       "71            Molière                                        Le Misanthrope   \n",
       "73          Corneille     Thomas                        Le Baron d'Albikrac   \n",
       "77          Corneille     Thomas                      La Comtesse d'Orgueil   \n",
       "\n",
       "    date  percentage_monologues  \n",
       "18  1639                    0.0  \n",
       "35  1649                    0.0  \n",
       "42  1652                    0.0  \n",
       "46  1654                    0.0  \n",
       "61  1660                    0.0  \n",
       "69  1665                    0.0  \n",
       "71  1666                    0.0  \n",
       "73  1668                    0.0  \n",
       "77  1670                    0.0  "
      ]
     },
     "metadata": {},
     "output_type": "display_data"
    },
    {
     "name": "stdout",
     "output_type": "stream",
     "text": [
      "The closest to the mean:\n"
     ]
    },
    {
     "data": {
      "text/html": [
       "<div>\n",
       "<style scoped>\n",
       "    .dataframe tbody tr th:only-of-type {\n",
       "        vertical-align: middle;\n",
       "    }\n",
       "\n",
       "    .dataframe tbody tr th {\n",
       "        vertical-align: top;\n",
       "    }\n",
       "\n",
       "    .dataframe thead th {\n",
       "        text-align: right;\n",
       "    }\n",
       "</style>\n",
       "<table border=\"1\" class=\"dataframe\">\n",
       "  <thead>\n",
       "    <tr style=\"text-align: right;\">\n",
       "      <th></th>\n",
       "      <th>last_name</th>\n",
       "      <th>first_name</th>\n",
       "      <th>title</th>\n",
       "      <th>date</th>\n",
       "      <th>percentage_monologues</th>\n",
       "    </tr>\n",
       "  </thead>\n",
       "  <tbody>\n",
       "    <tr>\n",
       "      <th>19</th>\n",
       "      <td>Mareschal</td>\n",
       "      <td>André</td>\n",
       "      <td>Le Véritable Capitan Matamore</td>\n",
       "      <td>1640</td>\n",
       "      <td>13.33</td>\n",
       "    </tr>\n",
       "  </tbody>\n",
       "</table>\n",
       "</div>"
      ],
      "text/plain": [
       "    last_name first_name                          title  date  \\\n",
       "19  Mareschal      André  Le Véritable Capitan Matamore  1640   \n",
       "\n",
       "    percentage_monologues  \n",
       "19                  13.33  "
      ]
     },
     "metadata": {},
     "output_type": "display_data"
    }
   ],
   "source": [
    "summary_feature(period_one, 'percentage_monologues')"
   ]
  },
  {
   "cell_type": "markdown",
   "metadata": {},
   "source": [
    "## Period 2 (1696 to 1795)"
   ]
  },
  {
   "cell_type": "markdown",
   "metadata": {},
   "source": [
    "#### Number of Dramatic Characters"
   ]
  },
  {
   "cell_type": "code",
   "execution_count": 29,
   "metadata": {},
   "outputs": [
    {
     "name": "stdout",
     "output_type": "stream",
     "text": [
      "Mean, standard deviation, median, min and max values for the period:\n"
     ]
    },
    {
     "data": {
      "text/plain": [
       "mean    10.53\n",
       "std      2.89\n",
       "50%     10.00\n",
       "min      6.00\n",
       "max     24.00\n",
       "Name: num_present_characters, dtype: float64"
      ]
     },
     "metadata": {},
     "output_type": "display_data"
    },
    {
     "name": "stdout",
     "output_type": "stream",
     "text": [
      "Period Max:\n"
     ]
    },
    {
     "data": {
      "text/html": [
       "<div>\n",
       "<style scoped>\n",
       "    .dataframe tbody tr th:only-of-type {\n",
       "        vertical-align: middle;\n",
       "    }\n",
       "\n",
       "    .dataframe tbody tr th {\n",
       "        vertical-align: top;\n",
       "    }\n",
       "\n",
       "    .dataframe thead th {\n",
       "        text-align: right;\n",
       "    }\n",
       "</style>\n",
       "<table border=\"1\" class=\"dataframe\">\n",
       "  <thead>\n",
       "    <tr style=\"text-align: right;\">\n",
       "      <th></th>\n",
       "      <th>last_name</th>\n",
       "      <th>first_name</th>\n",
       "      <th>title</th>\n",
       "      <th>date</th>\n",
       "      <th>num_present_characters</th>\n",
       "    </tr>\n",
       "  </thead>\n",
       "  <tbody>\n",
       "    <tr>\n",
       "      <th>201</th>\n",
       "      <td>Cubières-Palmézeaux</td>\n",
       "      <td>Michel de</td>\n",
       "      <td>L'Homme d'état imaginaire</td>\n",
       "      <td>1789</td>\n",
       "      <td>24</td>\n",
       "    </tr>\n",
       "  </tbody>\n",
       "</table>\n",
       "</div>"
      ],
      "text/plain": [
       "               last_name first_name                      title  date  \\\n",
       "201  Cubières-Palmézeaux  Michel de  L'Homme d'état imaginaire  1789   \n",
       "\n",
       "     num_present_characters  \n",
       "201                      24  "
      ]
     },
     "metadata": {},
     "output_type": "display_data"
    },
    {
     "name": "stdout",
     "output_type": "stream",
     "text": [
      "Period Min:\n"
     ]
    },
    {
     "data": {
      "text/html": [
       "<div>\n",
       "<style scoped>\n",
       "    .dataframe tbody tr th:only-of-type {\n",
       "        vertical-align: middle;\n",
       "    }\n",
       "\n",
       "    .dataframe tbody tr th {\n",
       "        vertical-align: top;\n",
       "    }\n",
       "\n",
       "    .dataframe thead th {\n",
       "        text-align: right;\n",
       "    }\n",
       "</style>\n",
       "<table border=\"1\" class=\"dataframe\">\n",
       "  <thead>\n",
       "    <tr style=\"text-align: right;\">\n",
       "      <th></th>\n",
       "      <th>last_name</th>\n",
       "      <th>first_name</th>\n",
       "      <th>title</th>\n",
       "      <th>date</th>\n",
       "      <th>num_present_characters</th>\n",
       "    </tr>\n",
       "  </thead>\n",
       "  <tbody>\n",
       "    <tr>\n",
       "      <th>158</th>\n",
       "      <td>Néricault Destouches</td>\n",
       "      <td></td>\n",
       "      <td>Le Mari confident</td>\n",
       "      <td>1758</td>\n",
       "      <td>6</td>\n",
       "    </tr>\n",
       "    <tr>\n",
       "      <th>163</th>\n",
       "      <td>Bastide</td>\n",
       "      <td>Jean-François de</td>\n",
       "      <td>Le Jeune homme</td>\n",
       "      <td>1766</td>\n",
       "      <td>6</td>\n",
       "    </tr>\n",
       "  </tbody>\n",
       "</table>\n",
       "</div>"
      ],
      "text/plain": [
       "                last_name        first_name              title  date  \\\n",
       "158  Néricault Destouches                    Le Mari confident  1758   \n",
       "163               Bastide  Jean-François de     Le Jeune homme  1766   \n",
       "\n",
       "     num_present_characters  \n",
       "158                       6  \n",
       "163                       6  "
      ]
     },
     "metadata": {},
     "output_type": "display_data"
    },
    {
     "name": "stdout",
     "output_type": "stream",
     "text": [
      "The closest to the mean:\n"
     ]
    },
    {
     "data": {
      "text/html": [
       "<div>\n",
       "<style scoped>\n",
       "    .dataframe tbody tr th:only-of-type {\n",
       "        vertical-align: middle;\n",
       "    }\n",
       "\n",
       "    .dataframe tbody tr th {\n",
       "        vertical-align: top;\n",
       "    }\n",
       "\n",
       "    .dataframe thead th {\n",
       "        text-align: right;\n",
       "    }\n",
       "</style>\n",
       "<table border=\"1\" class=\"dataframe\">\n",
       "  <thead>\n",
       "    <tr style=\"text-align: right;\">\n",
       "      <th></th>\n",
       "      <th>last_name</th>\n",
       "      <th>first_name</th>\n",
       "      <th>title</th>\n",
       "      <th>date</th>\n",
       "      <th>num_present_characters</th>\n",
       "    </tr>\n",
       "  </thead>\n",
       "  <tbody>\n",
       "    <tr>\n",
       "      <th>106</th>\n",
       "      <td>Dancourt</td>\n",
       "      <td></td>\n",
       "      <td>Les Enfants de Paris ou la Famille à la mode</td>\n",
       "      <td>1699</td>\n",
       "      <td>11</td>\n",
       "    </tr>\n",
       "    <tr>\n",
       "      <th>126</th>\n",
       "      <td>Néricault Destouches</td>\n",
       "      <td></td>\n",
       "      <td>Les Philosophes amoureux</td>\n",
       "      <td>1729</td>\n",
       "      <td>11</td>\n",
       "    </tr>\n",
       "    <tr>\n",
       "      <th>128</th>\n",
       "      <td>Du Fresny</td>\n",
       "      <td>Charles</td>\n",
       "      <td>Le Faux Sincère</td>\n",
       "      <td>1731</td>\n",
       "      <td>11</td>\n",
       "    </tr>\n",
       "    <tr>\n",
       "      <th>132</th>\n",
       "      <td>Rousseau</td>\n",
       "      <td>Jean-Baptiste</td>\n",
       "      <td>Les ayeux chimériques ou la comtesse de Critognac</td>\n",
       "      <td>1735</td>\n",
       "      <td>11</td>\n",
       "    </tr>\n",
       "    <tr>\n",
       "      <th>138</th>\n",
       "      <td>Néricault Destouches</td>\n",
       "      <td></td>\n",
       "      <td>L'Ambitieux et l'Indiscrète</td>\n",
       "      <td>1737</td>\n",
       "      <td>11</td>\n",
       "    </tr>\n",
       "    <tr>\n",
       "      <th>187</th>\n",
       "      <td>Bièvre</td>\n",
       "      <td>Marquis de</td>\n",
       "      <td>Le Séducteur</td>\n",
       "      <td>1783</td>\n",
       "      <td>11</td>\n",
       "    </tr>\n",
       "    <tr>\n",
       "      <th>192</th>\n",
       "      <td>Borel</td>\n",
       "      <td></td>\n",
       "      <td>Le Méfiant</td>\n",
       "      <td>1786</td>\n",
       "      <td>11</td>\n",
       "    </tr>\n",
       "    <tr>\n",
       "      <th>197</th>\n",
       "      <td>Collin d’Harleville</td>\n",
       "      <td>Jean-François</td>\n",
       "      <td>L'Optimiste ou l'Homme content de tout</td>\n",
       "      <td>1788</td>\n",
       "      <td>11</td>\n",
       "    </tr>\n",
       "    <tr>\n",
       "      <th>202</th>\n",
       "      <td>Fabre d'Églantine</td>\n",
       "      <td></td>\n",
       "      <td>Le Philinte de Molière</td>\n",
       "      <td>1790</td>\n",
       "      <td>11</td>\n",
       "    </tr>\n",
       "  </tbody>\n",
       "</table>\n",
       "</div>"
      ],
      "text/plain": [
       "                last_name     first_name  \\\n",
       "106              Dancourt                  \n",
       "126  Néricault Destouches                  \n",
       "128             Du Fresny        Charles   \n",
       "132              Rousseau  Jean-Baptiste   \n",
       "138  Néricault Destouches                  \n",
       "187                Bièvre     Marquis de   \n",
       "192                 Borel                  \n",
       "197   Collin d’Harleville  Jean-François   \n",
       "202     Fabre d'Églantine                  \n",
       "\n",
       "                                                 title  date  \\\n",
       "106       Les Enfants de Paris ou la Famille à la mode  1699   \n",
       "126                           Les Philosophes amoureux  1729   \n",
       "128                                    Le Faux Sincère  1731   \n",
       "132  Les ayeux chimériques ou la comtesse de Critognac  1735   \n",
       "138                        L'Ambitieux et l'Indiscrète  1737   \n",
       "187                                       Le Séducteur  1783   \n",
       "192                                         Le Méfiant  1786   \n",
       "197            L'Optimiste ou l'Homme content de tout   1788   \n",
       "202                             Le Philinte de Molière  1790   \n",
       "\n",
       "     num_present_characters  \n",
       "106                      11  \n",
       "126                      11  \n",
       "128                      11  \n",
       "132                      11  \n",
       "138                      11  \n",
       "187                      11  \n",
       "192                      11  \n",
       "197                      11  \n",
       "202                      11  "
      ]
     },
     "metadata": {},
     "output_type": "display_data"
    }
   ],
   "source": [
    "summary_feature(period_two, 'num_present_characters')"
   ]
  },
  {
   "cell_type": "markdown",
   "metadata": {},
   "source": [
    "#### Mobility Coefficient"
   ]
  },
  {
   "cell_type": "code",
   "execution_count": 30,
   "metadata": {},
   "outputs": [
    {
     "name": "stdout",
     "output_type": "stream",
     "text": [
      "Mean, standard deviation, median, min and max values for the period:\n"
     ]
    },
    {
     "data": {
      "text/plain": [
       "mean    49.29\n",
       "std     11.32\n",
       "50%     48.50\n",
       "min     29.00\n",
       "max     91.00\n",
       "Name: mobility_coefficient, dtype: float64"
      ]
     },
     "metadata": {},
     "output_type": "display_data"
    },
    {
     "name": "stdout",
     "output_type": "stream",
     "text": [
      "Period Max:\n"
     ]
    },
    {
     "data": {
      "text/html": [
       "<div>\n",
       "<style scoped>\n",
       "    .dataframe tbody tr th:only-of-type {\n",
       "        vertical-align: middle;\n",
       "    }\n",
       "\n",
       "    .dataframe tbody tr th {\n",
       "        vertical-align: top;\n",
       "    }\n",
       "\n",
       "    .dataframe thead th {\n",
       "        text-align: right;\n",
       "    }\n",
       "</style>\n",
       "<table border=\"1\" class=\"dataframe\">\n",
       "  <thead>\n",
       "    <tr style=\"text-align: right;\">\n",
       "      <th></th>\n",
       "      <th>last_name</th>\n",
       "      <th>first_name</th>\n",
       "      <th>title</th>\n",
       "      <th>date</th>\n",
       "      <th>mobility_coefficient</th>\n",
       "    </tr>\n",
       "  </thead>\n",
       "  <tbody>\n",
       "    <tr>\n",
       "      <th>164</th>\n",
       "      <td>Chauveau</td>\n",
       "      <td></td>\n",
       "      <td>L'homme de cour</td>\n",
       "      <td>1767</td>\n",
       "      <td>91</td>\n",
       "    </tr>\n",
       "  </tbody>\n",
       "</table>\n",
       "</div>"
      ],
      "text/plain": [
       "    last_name first_name            title  date  mobility_coefficient\n",
       "164  Chauveau             L'homme de cour  1767                    91"
      ]
     },
     "metadata": {},
     "output_type": "display_data"
    },
    {
     "name": "stdout",
     "output_type": "stream",
     "text": [
      "Period Min:\n"
     ]
    },
    {
     "data": {
      "text/html": [
       "<div>\n",
       "<style scoped>\n",
       "    .dataframe tbody tr th:only-of-type {\n",
       "        vertical-align: middle;\n",
       "    }\n",
       "\n",
       "    .dataframe tbody tr th {\n",
       "        vertical-align: top;\n",
       "    }\n",
       "\n",
       "    .dataframe thead th {\n",
       "        text-align: right;\n",
       "    }\n",
       "</style>\n",
       "<table border=\"1\" class=\"dataframe\">\n",
       "  <thead>\n",
       "    <tr style=\"text-align: right;\">\n",
       "      <th></th>\n",
       "      <th>last_name</th>\n",
       "      <th>first_name</th>\n",
       "      <th>title</th>\n",
       "      <th>date</th>\n",
       "      <th>mobility_coefficient</th>\n",
       "    </tr>\n",
       "  </thead>\n",
       "  <tbody>\n",
       "    <tr>\n",
       "      <th>142</th>\n",
       "      <td>Nivelle de la Chaussée</td>\n",
       "      <td>Pierre Claude</td>\n",
       "      <td>Mélanide</td>\n",
       "      <td>1741</td>\n",
       "      <td>29</td>\n",
       "    </tr>\n",
       "  </tbody>\n",
       "</table>\n",
       "</div>"
      ],
      "text/plain": [
       "                  last_name     first_name     title  date  \\\n",
       "142  Nivelle de la Chaussée  Pierre Claude  Mélanide  1741   \n",
       "\n",
       "     mobility_coefficient  \n",
       "142                    29  "
      ]
     },
     "metadata": {},
     "output_type": "display_data"
    },
    {
     "name": "stdout",
     "output_type": "stream",
     "text": [
      "The closest to the mean:\n"
     ]
    },
    {
     "data": {
      "text/html": [
       "<div>\n",
       "<style scoped>\n",
       "    .dataframe tbody tr th:only-of-type {\n",
       "        vertical-align: middle;\n",
       "    }\n",
       "\n",
       "    .dataframe tbody tr th {\n",
       "        vertical-align: top;\n",
       "    }\n",
       "\n",
       "    .dataframe thead th {\n",
       "        text-align: right;\n",
       "    }\n",
       "</style>\n",
       "<table border=\"1\" class=\"dataframe\">\n",
       "  <thead>\n",
       "    <tr style=\"text-align: right;\">\n",
       "      <th></th>\n",
       "      <th>last_name</th>\n",
       "      <th>first_name</th>\n",
       "      <th>title</th>\n",
       "      <th>date</th>\n",
       "      <th>mobility_coefficient</th>\n",
       "    </tr>\n",
       "  </thead>\n",
       "  <tbody>\n",
       "    <tr>\n",
       "      <th>104</th>\n",
       "      <td>Rousseau</td>\n",
       "      <td>Jean-Baptiste</td>\n",
       "      <td>Le Flatteur</td>\n",
       "      <td>1696</td>\n",
       "      <td>49</td>\n",
       "    </tr>\n",
       "    <tr>\n",
       "      <th>113</th>\n",
       "      <td>Regnard</td>\n",
       "      <td>Jean-François</td>\n",
       "      <td>Le Légataire Universel</td>\n",
       "      <td>1708</td>\n",
       "      <td>49</td>\n",
       "    </tr>\n",
       "    <tr>\n",
       "      <th>124</th>\n",
       "      <td>Néricault Destouches</td>\n",
       "      <td></td>\n",
       "      <td>Le Philosophe marié</td>\n",
       "      <td>1727</td>\n",
       "      <td>49</td>\n",
       "    </tr>\n",
       "    <tr>\n",
       "      <th>140</th>\n",
       "      <td>Boissy</td>\n",
       "      <td>Louis de</td>\n",
       "      <td>Les Dehors trompeurs</td>\n",
       "      <td>1740</td>\n",
       "      <td>49</td>\n",
       "    </tr>\n",
       "    <tr>\n",
       "      <th>148</th>\n",
       "      <td>Voltaire</td>\n",
       "      <td></td>\n",
       "      <td>La Prude</td>\n",
       "      <td>1747</td>\n",
       "      <td>49</td>\n",
       "    </tr>\n",
       "    <tr>\n",
       "      <th>156</th>\n",
       "      <td>La Noue</td>\n",
       "      <td>Jean-Baptiste</td>\n",
       "      <td>La Coquette corrigée</td>\n",
       "      <td>1757</td>\n",
       "      <td>49</td>\n",
       "    </tr>\n",
       "    <tr>\n",
       "      <th>173</th>\n",
       "      <td>Bret</td>\n",
       "      <td>Antoine</td>\n",
       "      <td>Le protecteur bourgeois ou la confiance trahie</td>\n",
       "      <td>1772</td>\n",
       "      <td>49</td>\n",
       "    </tr>\n",
       "    <tr>\n",
       "      <th>209</th>\n",
       "      <td>Reynier</td>\n",
       "      <td>L.</td>\n",
       "      <td>L'Avare fastueux</td>\n",
       "      <td>1794</td>\n",
       "      <td>49</td>\n",
       "    </tr>\n",
       "  </tbody>\n",
       "</table>\n",
       "</div>"
      ],
      "text/plain": [
       "                last_name     first_name  \\\n",
       "104              Rousseau  Jean-Baptiste   \n",
       "113               Regnard  Jean-François   \n",
       "124  Néricault Destouches                  \n",
       "140                Boissy       Louis de   \n",
       "148              Voltaire                  \n",
       "156               La Noue  Jean-Baptiste   \n",
       "173                  Bret        Antoine   \n",
       "209               Reynier             L.   \n",
       "\n",
       "                                              title  date  \\\n",
       "104                                     Le Flatteur  1696   \n",
       "113                          Le Légataire Universel  1708   \n",
       "124                             Le Philosophe marié  1727   \n",
       "140                            Les Dehors trompeurs  1740   \n",
       "148                                        La Prude  1747   \n",
       "156                            La Coquette corrigée  1757   \n",
       "173  Le protecteur bourgeois ou la confiance trahie  1772   \n",
       "209                                L'Avare fastueux  1794   \n",
       "\n",
       "     mobility_coefficient  \n",
       "104                    49  \n",
       "113                    49  \n",
       "124                    49  \n",
       "140                    49  \n",
       "148                    49  \n",
       "156                    49  \n",
       "173                    49  \n",
       "209                    49  "
      ]
     },
     "metadata": {},
     "output_type": "display_data"
    }
   ],
   "source": [
    "summary_feature(period_two, 'mobility_coefficient')"
   ]
  },
  {
   "cell_type": "markdown",
   "metadata": {},
   "source": [
    "#### Sigma"
   ]
  },
  {
   "cell_type": "code",
   "execution_count": 31,
   "metadata": {},
   "outputs": [
    {
     "name": "stdout",
     "output_type": "stream",
     "text": [
      "Mean, standard deviation, median, min and max values for the period:\n"
     ]
    },
    {
     "data": {
      "text/plain": [
       "mean    1.12\n",
       "std     0.29\n",
       "50%     1.10\n",
       "min     0.63\n",
       "max     1.98\n",
       "Name: sigma_iarkho, dtype: float64"
      ]
     },
     "metadata": {},
     "output_type": "display_data"
    },
    {
     "name": "stdout",
     "output_type": "stream",
     "text": [
      "Period Max:\n"
     ]
    },
    {
     "data": {
      "text/html": [
       "<div>\n",
       "<style scoped>\n",
       "    .dataframe tbody tr th:only-of-type {\n",
       "        vertical-align: middle;\n",
       "    }\n",
       "\n",
       "    .dataframe tbody tr th {\n",
       "        vertical-align: top;\n",
       "    }\n",
       "\n",
       "    .dataframe thead th {\n",
       "        text-align: right;\n",
       "    }\n",
       "</style>\n",
       "<table border=\"1\" class=\"dataframe\">\n",
       "  <thead>\n",
       "    <tr style=\"text-align: right;\">\n",
       "      <th></th>\n",
       "      <th>last_name</th>\n",
       "      <th>first_name</th>\n",
       "      <th>title</th>\n",
       "      <th>date</th>\n",
       "      <th>sigma_iarkho</th>\n",
       "    </tr>\n",
       "  </thead>\n",
       "  <tbody>\n",
       "    <tr>\n",
       "      <th>154</th>\n",
       "      <td>Rousseau</td>\n",
       "      <td>Jean-Baptiste</td>\n",
       "      <td>La Femme qui ne parle point ou l'hypocondre</td>\n",
       "      <td>1751</td>\n",
       "      <td>1.98</td>\n",
       "    </tr>\n",
       "  </tbody>\n",
       "</table>\n",
       "</div>"
      ],
      "text/plain": [
       "    last_name     first_name                                         title  \\\n",
       "154  Rousseau  Jean-Baptiste  La Femme qui ne parle point ou l'hypocondre    \n",
       "\n",
       "     date  sigma_iarkho  \n",
       "154  1751          1.98  "
      ]
     },
     "metadata": {},
     "output_type": "display_data"
    },
    {
     "name": "stdout",
     "output_type": "stream",
     "text": [
      "Period Min:\n"
     ]
    },
    {
     "data": {
      "text/html": [
       "<div>\n",
       "<style scoped>\n",
       "    .dataframe tbody tr th:only-of-type {\n",
       "        vertical-align: middle;\n",
       "    }\n",
       "\n",
       "    .dataframe tbody tr th {\n",
       "        vertical-align: top;\n",
       "    }\n",
       "\n",
       "    .dataframe thead th {\n",
       "        text-align: right;\n",
       "    }\n",
       "</style>\n",
       "<table border=\"1\" class=\"dataframe\">\n",
       "  <thead>\n",
       "    <tr style=\"text-align: right;\">\n",
       "      <th></th>\n",
       "      <th>last_name</th>\n",
       "      <th>first_name</th>\n",
       "      <th>title</th>\n",
       "      <th>date</th>\n",
       "      <th>sigma_iarkho</th>\n",
       "    </tr>\n",
       "  </thead>\n",
       "  <tbody>\n",
       "    <tr>\n",
       "      <th>179</th>\n",
       "      <td>Dorat</td>\n",
       "      <td>Claude-Joseph</td>\n",
       "      <td>Roséïde ou l'Intrigant</td>\n",
       "      <td>1779</td>\n",
       "      <td>0.63</td>\n",
       "    </tr>\n",
       "  </tbody>\n",
       "</table>\n",
       "</div>"
      ],
      "text/plain": [
       "    last_name     first_name                   title  date  sigma_iarkho\n",
       "179     Dorat  Claude-Joseph  Roséïde ou l'Intrigant  1779          0.63"
      ]
     },
     "metadata": {},
     "output_type": "display_data"
    },
    {
     "name": "stdout",
     "output_type": "stream",
     "text": [
      "The closest to the mean:\n"
     ]
    },
    {
     "data": {
      "text/html": [
       "<div>\n",
       "<style scoped>\n",
       "    .dataframe tbody tr th:only-of-type {\n",
       "        vertical-align: middle;\n",
       "    }\n",
       "\n",
       "    .dataframe tbody tr th {\n",
       "        vertical-align: top;\n",
       "    }\n",
       "\n",
       "    .dataframe thead th {\n",
       "        text-align: right;\n",
       "    }\n",
       "</style>\n",
       "<table border=\"1\" class=\"dataframe\">\n",
       "  <thead>\n",
       "    <tr style=\"text-align: right;\">\n",
       "      <th></th>\n",
       "      <th>last_name</th>\n",
       "      <th>first_name</th>\n",
       "      <th>title</th>\n",
       "      <th>date</th>\n",
       "      <th>sigma_iarkho</th>\n",
       "    </tr>\n",
       "  </thead>\n",
       "  <tbody>\n",
       "    <tr>\n",
       "      <th>120</th>\n",
       "      <td>Néricault Destouches</td>\n",
       "      <td></td>\n",
       "      <td>Le Médisant</td>\n",
       "      <td>1715</td>\n",
       "      <td>1.12</td>\n",
       "    </tr>\n",
       "  </tbody>\n",
       "</table>\n",
       "</div>"
      ],
      "text/plain": [
       "                last_name first_name        title  date  sigma_iarkho\n",
       "120  Néricault Destouches             Le Médisant  1715          1.12"
      ]
     },
     "metadata": {},
     "output_type": "display_data"
    }
   ],
   "source": [
    "summary_feature(period_two, 'sigma_iarkho')"
   ]
  },
  {
   "cell_type": "markdown",
   "metadata": {},
   "source": [
    "#### The Percentage of Polylogues"
   ]
  },
  {
   "cell_type": "code",
   "execution_count": 32,
   "metadata": {},
   "outputs": [
    {
     "name": "stdout",
     "output_type": "stream",
     "text": [
      "Mean, standard deviation, median, min and max values for the period:\n"
     ]
    },
    {
     "data": {
      "text/plain": [
       "mean    31.62\n",
       "std     11.03\n",
       "50%     31.50\n",
       "min      8.70\n",
       "max     58.06\n",
       "Name: percentage_polylogues, dtype: float64"
      ]
     },
     "metadata": {},
     "output_type": "display_data"
    },
    {
     "name": "stdout",
     "output_type": "stream",
     "text": [
      "Period Max:\n"
     ]
    },
    {
     "data": {
      "text/html": [
       "<div>\n",
       "<style scoped>\n",
       "    .dataframe tbody tr th:only-of-type {\n",
       "        vertical-align: middle;\n",
       "    }\n",
       "\n",
       "    .dataframe tbody tr th {\n",
       "        vertical-align: top;\n",
       "    }\n",
       "\n",
       "    .dataframe thead th {\n",
       "        text-align: right;\n",
       "    }\n",
       "</style>\n",
       "<table border=\"1\" class=\"dataframe\">\n",
       "  <thead>\n",
       "    <tr style=\"text-align: right;\">\n",
       "      <th></th>\n",
       "      <th>last_name</th>\n",
       "      <th>first_name</th>\n",
       "      <th>title</th>\n",
       "      <th>date</th>\n",
       "      <th>percentage_polylogues</th>\n",
       "    </tr>\n",
       "  </thead>\n",
       "  <tbody>\n",
       "    <tr>\n",
       "      <th>132</th>\n",
       "      <td>Rousseau</td>\n",
       "      <td>Jean-Baptiste</td>\n",
       "      <td>Les ayeux chimériques ou la comtesse de Critognac</td>\n",
       "      <td>1735</td>\n",
       "      <td>58.06</td>\n",
       "    </tr>\n",
       "  </tbody>\n",
       "</table>\n",
       "</div>"
      ],
      "text/plain": [
       "    last_name     first_name  \\\n",
       "132  Rousseau  Jean-Baptiste   \n",
       "\n",
       "                                                 title  date  \\\n",
       "132  Les ayeux chimériques ou la comtesse de Critognac  1735   \n",
       "\n",
       "     percentage_polylogues  \n",
       "132                  58.06  "
      ]
     },
     "metadata": {},
     "output_type": "display_data"
    },
    {
     "name": "stdout",
     "output_type": "stream",
     "text": [
      "Period Min:\n"
     ]
    },
    {
     "data": {
      "text/html": [
       "<div>\n",
       "<style scoped>\n",
       "    .dataframe tbody tr th:only-of-type {\n",
       "        vertical-align: middle;\n",
       "    }\n",
       "\n",
       "    .dataframe tbody tr th {\n",
       "        vertical-align: top;\n",
       "    }\n",
       "\n",
       "    .dataframe thead th {\n",
       "        text-align: right;\n",
       "    }\n",
       "</style>\n",
       "<table border=\"1\" class=\"dataframe\">\n",
       "  <thead>\n",
       "    <tr style=\"text-align: right;\">\n",
       "      <th></th>\n",
       "      <th>last_name</th>\n",
       "      <th>first_name</th>\n",
       "      <th>title</th>\n",
       "      <th>date</th>\n",
       "      <th>percentage_polylogues</th>\n",
       "    </tr>\n",
       "  </thead>\n",
       "  <tbody>\n",
       "    <tr>\n",
       "      <th>180</th>\n",
       "      <td>Delon</td>\n",
       "      <td></td>\n",
       "      <td>Le Financier, comédie en cinq actes et en vers</td>\n",
       "      <td>1779</td>\n",
       "      <td>8.7</td>\n",
       "    </tr>\n",
       "  </tbody>\n",
       "</table>\n",
       "</div>"
      ],
      "text/plain": [
       "    last_name first_name                                           title  \\\n",
       "180     Delon             Le Financier, comédie en cinq actes et en vers   \n",
       "\n",
       "     date  percentage_polylogues  \n",
       "180  1779                    8.7  "
      ]
     },
     "metadata": {},
     "output_type": "display_data"
    },
    {
     "name": "stdout",
     "output_type": "stream",
     "text": [
      "The closest to the mean:\n"
     ]
    },
    {
     "data": {
      "text/html": [
       "<div>\n",
       "<style scoped>\n",
       "    .dataframe tbody tr th:only-of-type {\n",
       "        vertical-align: middle;\n",
       "    }\n",
       "\n",
       "    .dataframe tbody tr th {\n",
       "        vertical-align: top;\n",
       "    }\n",
       "\n",
       "    .dataframe thead th {\n",
       "        text-align: right;\n",
       "    }\n",
       "</style>\n",
       "<table border=\"1\" class=\"dataframe\">\n",
       "  <thead>\n",
       "    <tr style=\"text-align: right;\">\n",
       "      <th></th>\n",
       "      <th>last_name</th>\n",
       "      <th>first_name</th>\n",
       "      <th>title</th>\n",
       "      <th>date</th>\n",
       "      <th>percentage_polylogues</th>\n",
       "    </tr>\n",
       "  </thead>\n",
       "  <tbody>\n",
       "    <tr>\n",
       "      <th>107</th>\n",
       "      <td>Regnard</td>\n",
       "      <td>Jean-François</td>\n",
       "      <td>Démocrite amoureux</td>\n",
       "      <td>1700</td>\n",
       "      <td>31.58</td>\n",
       "    </tr>\n",
       "  </tbody>\n",
       "</table>\n",
       "</div>"
      ],
      "text/plain": [
       "    last_name     first_name               title  date  percentage_polylogues\n",
       "107   Regnard  Jean-François  Démocrite amoureux  1700                  31.58"
      ]
     },
     "metadata": {},
     "output_type": "display_data"
    }
   ],
   "source": [
    "summary_feature(period_two, 'percentage_polylogues')"
   ]
  },
  {
   "cell_type": "markdown",
   "metadata": {},
   "source": [
    "#### The Percentage of Monologues"
   ]
  },
  {
   "cell_type": "code",
   "execution_count": 33,
   "metadata": {},
   "outputs": [
    {
     "name": "stdout",
     "output_type": "stream",
     "text": [
      "Mean, standard deviation, median, min and max values for the period:\n"
     ]
    },
    {
     "data": {
      "text/plain": [
       "mean    22.08\n",
       "std      7.75\n",
       "50%     21.88\n",
       "min      3.23\n",
       "max     40.48\n",
       "Name: percentage_monologues, dtype: float64"
      ]
     },
     "metadata": {},
     "output_type": "display_data"
    },
    {
     "name": "stdout",
     "output_type": "stream",
     "text": [
      "Period Max:\n"
     ]
    },
    {
     "data": {
      "text/html": [
       "<div>\n",
       "<style scoped>\n",
       "    .dataframe tbody tr th:only-of-type {\n",
       "        vertical-align: middle;\n",
       "    }\n",
       "\n",
       "    .dataframe tbody tr th {\n",
       "        vertical-align: top;\n",
       "    }\n",
       "\n",
       "    .dataframe thead th {\n",
       "        text-align: right;\n",
       "    }\n",
       "</style>\n",
       "<table border=\"1\" class=\"dataframe\">\n",
       "  <thead>\n",
       "    <tr style=\"text-align: right;\">\n",
       "      <th></th>\n",
       "      <th>last_name</th>\n",
       "      <th>first_name</th>\n",
       "      <th>title</th>\n",
       "      <th>date</th>\n",
       "      <th>percentage_monologues</th>\n",
       "    </tr>\n",
       "  </thead>\n",
       "  <tbody>\n",
       "    <tr>\n",
       "      <th>163</th>\n",
       "      <td>Bastide</td>\n",
       "      <td>Jean-François de</td>\n",
       "      <td>Le Jeune homme</td>\n",
       "      <td>1766</td>\n",
       "      <td>40.48</td>\n",
       "    </tr>\n",
       "  </tbody>\n",
       "</table>\n",
       "</div>"
      ],
      "text/plain": [
       "    last_name        first_name           title  date  percentage_monologues\n",
       "163   Bastide  Jean-François de  Le Jeune homme  1766                  40.48"
      ]
     },
     "metadata": {},
     "output_type": "display_data"
    },
    {
     "name": "stdout",
     "output_type": "stream",
     "text": [
      "Period Min:\n"
     ]
    },
    {
     "data": {
      "text/html": [
       "<div>\n",
       "<style scoped>\n",
       "    .dataframe tbody tr th:only-of-type {\n",
       "        vertical-align: middle;\n",
       "    }\n",
       "\n",
       "    .dataframe tbody tr th {\n",
       "        vertical-align: top;\n",
       "    }\n",
       "\n",
       "    .dataframe thead th {\n",
       "        text-align: right;\n",
       "    }\n",
       "</style>\n",
       "<table border=\"1\" class=\"dataframe\">\n",
       "  <thead>\n",
       "    <tr style=\"text-align: right;\">\n",
       "      <th></th>\n",
       "      <th>last_name</th>\n",
       "      <th>first_name</th>\n",
       "      <th>title</th>\n",
       "      <th>date</th>\n",
       "      <th>percentage_monologues</th>\n",
       "    </tr>\n",
       "  </thead>\n",
       "  <tbody>\n",
       "    <tr>\n",
       "      <th>132</th>\n",
       "      <td>Rousseau</td>\n",
       "      <td>Jean-Baptiste</td>\n",
       "      <td>Les ayeux chimériques ou la comtesse de Critognac</td>\n",
       "      <td>1735</td>\n",
       "      <td>3.23</td>\n",
       "    </tr>\n",
       "  </tbody>\n",
       "</table>\n",
       "</div>"
      ],
      "text/plain": [
       "    last_name     first_name  \\\n",
       "132  Rousseau  Jean-Baptiste   \n",
       "\n",
       "                                                 title  date  \\\n",
       "132  Les ayeux chimériques ou la comtesse de Critognac  1735   \n",
       "\n",
       "     percentage_monologues  \n",
       "132                   3.23  "
      ]
     },
     "metadata": {},
     "output_type": "display_data"
    },
    {
     "name": "stdout",
     "output_type": "stream",
     "text": [
      "The closest to the mean:\n"
     ]
    },
    {
     "data": {
      "text/html": [
       "<div>\n",
       "<style scoped>\n",
       "    .dataframe tbody tr th:only-of-type {\n",
       "        vertical-align: middle;\n",
       "    }\n",
       "\n",
       "    .dataframe tbody tr th {\n",
       "        vertical-align: top;\n",
       "    }\n",
       "\n",
       "    .dataframe thead th {\n",
       "        text-align: right;\n",
       "    }\n",
       "</style>\n",
       "<table border=\"1\" class=\"dataframe\">\n",
       "  <thead>\n",
       "    <tr style=\"text-align: right;\">\n",
       "      <th></th>\n",
       "      <th>last_name</th>\n",
       "      <th>first_name</th>\n",
       "      <th>title</th>\n",
       "      <th>date</th>\n",
       "      <th>percentage_monologues</th>\n",
       "    </tr>\n",
       "  </thead>\n",
       "  <tbody>\n",
       "    <tr>\n",
       "      <th>207</th>\n",
       "      <td>Collin d’Harleville</td>\n",
       "      <td>Jean-François</td>\n",
       "      <td>Le Vieux célibataire</td>\n",
       "      <td>1792</td>\n",
       "      <td>22.03</td>\n",
       "    </tr>\n",
       "  </tbody>\n",
       "</table>\n",
       "</div>"
      ],
      "text/plain": [
       "               last_name     first_name                  title  date  \\\n",
       "207  Collin d’Harleville  Jean-François  Le Vieux célibataire   1792   \n",
       "\n",
       "     percentage_monologues  \n",
       "207                  22.03  "
      ]
     },
     "metadata": {},
     "output_type": "display_data"
    }
   ],
   "source": [
    "summary_feature(period_two, 'percentage_monologues')"
   ]
  },
  {
   "cell_type": "markdown",
   "metadata": {},
   "source": [
    "### Period Three (1796 to 1847)"
   ]
  },
  {
   "cell_type": "markdown",
   "metadata": {},
   "source": [
    "#### Number of Dramatic Characters"
   ]
  },
  {
   "cell_type": "code",
   "execution_count": 34,
   "metadata": {},
   "outputs": [
    {
     "name": "stdout",
     "output_type": "stream",
     "text": [
      "Mean, standard deviation, median, min and max values for the period:\n"
     ]
    },
    {
     "data": {
      "text/plain": [
       "mean    12.11\n",
       "std      4.28\n",
       "50%     11.00\n",
       "min      6.00\n",
       "max     28.00\n",
       "Name: num_present_characters, dtype: float64"
      ]
     },
     "metadata": {},
     "output_type": "display_data"
    },
    {
     "name": "stdout",
     "output_type": "stream",
     "text": [
      "Period Max:\n"
     ]
    },
    {
     "data": {
      "text/html": [
       "<div>\n",
       "<style scoped>\n",
       "    .dataframe tbody tr th:only-of-type {\n",
       "        vertical-align: middle;\n",
       "    }\n",
       "\n",
       "    .dataframe tbody tr th {\n",
       "        vertical-align: top;\n",
       "    }\n",
       "\n",
       "    .dataframe thead th {\n",
       "        text-align: right;\n",
       "    }\n",
       "</style>\n",
       "<table border=\"1\" class=\"dataframe\">\n",
       "  <thead>\n",
       "    <tr style=\"text-align: right;\">\n",
       "      <th></th>\n",
       "      <th>last_name</th>\n",
       "      <th>first_name</th>\n",
       "      <th>title</th>\n",
       "      <th>date</th>\n",
       "      <th>num_present_characters</th>\n",
       "    </tr>\n",
       "  </thead>\n",
       "  <tbody>\n",
       "    <tr>\n",
       "      <th>259</th>\n",
       "      <td>Gosse</td>\n",
       "      <td>Étienne</td>\n",
       "      <td>Les Jésuites, ou les autres Tartuffes</td>\n",
       "      <td>1827</td>\n",
       "      <td>28</td>\n",
       "    </tr>\n",
       "  </tbody>\n",
       "</table>\n",
       "</div>"
      ],
      "text/plain": [
       "    last_name first_name                                   title  date  \\\n",
       "259     Gosse    Étienne  Les Jésuites, ou les autres Tartuffes   1827   \n",
       "\n",
       "     num_present_characters  \n",
       "259                      28  "
      ]
     },
     "metadata": {},
     "output_type": "display_data"
    },
    {
     "name": "stdout",
     "output_type": "stream",
     "text": [
      "Period Min:\n"
     ]
    },
    {
     "data": {
      "text/html": [
       "<div>\n",
       "<style scoped>\n",
       "    .dataframe tbody tr th:only-of-type {\n",
       "        vertical-align: middle;\n",
       "    }\n",
       "\n",
       "    .dataframe tbody tr th {\n",
       "        vertical-align: top;\n",
       "    }\n",
       "\n",
       "    .dataframe thead th {\n",
       "        text-align: right;\n",
       "    }\n",
       "</style>\n",
       "<table border=\"1\" class=\"dataframe\">\n",
       "  <thead>\n",
       "    <tr style=\"text-align: right;\">\n",
       "      <th></th>\n",
       "      <th>last_name</th>\n",
       "      <th>first_name</th>\n",
       "      <th>title</th>\n",
       "      <th>date</th>\n",
       "      <th>num_present_characters</th>\n",
       "    </tr>\n",
       "  </thead>\n",
       "  <tbody>\n",
       "    <tr>\n",
       "      <th>278</th>\n",
       "      <td>Augier</td>\n",
       "      <td>Émile</td>\n",
       "      <td>Gabrielle</td>\n",
       "      <td>1849</td>\n",
       "      <td>6</td>\n",
       "    </tr>\n",
       "  </tbody>\n",
       "</table>\n",
       "</div>"
      ],
      "text/plain": [
       "    last_name first_name      title  date  num_present_characters\n",
       "278    Augier      Émile  Gabrielle  1849                       6"
      ]
     },
     "metadata": {},
     "output_type": "display_data"
    },
    {
     "name": "stdout",
     "output_type": "stream",
     "text": [
      "The closest to the mean:\n"
     ]
    },
    {
     "data": {
      "text/html": [
       "<div>\n",
       "<style scoped>\n",
       "    .dataframe tbody tr th:only-of-type {\n",
       "        vertical-align: middle;\n",
       "    }\n",
       "\n",
       "    .dataframe tbody tr th {\n",
       "        vertical-align: top;\n",
       "    }\n",
       "\n",
       "    .dataframe thead th {\n",
       "        text-align: right;\n",
       "    }\n",
       "</style>\n",
       "<table border=\"1\" class=\"dataframe\">\n",
       "  <thead>\n",
       "    <tr style=\"text-align: right;\">\n",
       "      <th></th>\n",
       "      <th>last_name</th>\n",
       "      <th>first_name</th>\n",
       "      <th>title</th>\n",
       "      <th>date</th>\n",
       "      <th>num_present_characters</th>\n",
       "    </tr>\n",
       "  </thead>\n",
       "  <tbody>\n",
       "    <tr>\n",
       "      <th>215</th>\n",
       "      <td>Fabre d'Églantine</td>\n",
       "      <td></td>\n",
       "      <td>Les Précepteurs</td>\n",
       "      <td>1799</td>\n",
       "      <td>12</td>\n",
       "    </tr>\n",
       "    <tr>\n",
       "      <th>228</th>\n",
       "      <td>Étienne</td>\n",
       "      <td>Charles-Guillaume</td>\n",
       "      <td>Les Deux gendres</td>\n",
       "      <td>1810</td>\n",
       "      <td>12</td>\n",
       "    </tr>\n",
       "    <tr>\n",
       "      <th>242</th>\n",
       "      <td>Théaulon</td>\n",
       "      <td>Emmanuel</td>\n",
       "      <td>L'Artiste ambitieux, ou l'Adoption</td>\n",
       "      <td>1820</td>\n",
       "      <td>12</td>\n",
       "    </tr>\n",
       "    <tr>\n",
       "      <th>250</th>\n",
       "      <td>Bonjour</td>\n",
       "      <td>Casimir</td>\n",
       "      <td>L’Éducation ou les deux Cousine</td>\n",
       "      <td>1823</td>\n",
       "      <td>12</td>\n",
       "    </tr>\n",
       "    <tr>\n",
       "      <th>258</th>\n",
       "      <td>Bonjour</td>\n",
       "      <td>Casimir</td>\n",
       "      <td>L’Argent ou les Moeurs du Jour</td>\n",
       "      <td>1826</td>\n",
       "      <td>12</td>\n",
       "    </tr>\n",
       "  </tbody>\n",
       "</table>\n",
       "</div>"
      ],
      "text/plain": [
       "             last_name         first_name                               title  \\\n",
       "215  Fabre d'Églantine                                        Les Précepteurs   \n",
       "228            Étienne  Charles-Guillaume                    Les Deux gendres   \n",
       "242           Théaulon           Emmanuel  L'Artiste ambitieux, ou l'Adoption   \n",
       "250            Bonjour            Casimir     L’Éducation ou les deux Cousine   \n",
       "258            Bonjour            Casimir      L’Argent ou les Moeurs du Jour   \n",
       "\n",
       "     date  num_present_characters  \n",
       "215  1799                      12  \n",
       "228  1810                      12  \n",
       "242  1820                      12  \n",
       "250  1823                      12  \n",
       "258  1826                      12  "
      ]
     },
     "metadata": {},
     "output_type": "display_data"
    }
   ],
   "source": [
    "summary_feature(period_three, 'num_present_characters')"
   ]
  },
  {
   "cell_type": "markdown",
   "metadata": {},
   "source": [
    "#### Mobility Coefficient"
   ]
  },
  {
   "cell_type": "code",
   "execution_count": 35,
   "metadata": {},
   "outputs": [
    {
     "name": "stdout",
     "output_type": "stream",
     "text": [
      "Mean, standard deviation, median, min and max values for the period:\n"
     ]
    },
    {
     "data": {
      "text/plain": [
       "mean    54.58\n",
       "std      9.99\n",
       "50%     53.50\n",
       "min     34.00\n",
       "max     86.00\n",
       "Name: mobility_coefficient, dtype: float64"
      ]
     },
     "metadata": {},
     "output_type": "display_data"
    },
    {
     "name": "stdout",
     "output_type": "stream",
     "text": [
      "Period Max:\n"
     ]
    },
    {
     "data": {
      "text/html": [
       "<div>\n",
       "<style scoped>\n",
       "    .dataframe tbody tr th:only-of-type {\n",
       "        vertical-align: middle;\n",
       "    }\n",
       "\n",
       "    .dataframe tbody tr th {\n",
       "        vertical-align: top;\n",
       "    }\n",
       "\n",
       "    .dataframe thead th {\n",
       "        text-align: right;\n",
       "    }\n",
       "</style>\n",
       "<table border=\"1\" class=\"dataframe\">\n",
       "  <thead>\n",
       "    <tr style=\"text-align: right;\">\n",
       "      <th></th>\n",
       "      <th>last_name</th>\n",
       "      <th>first_name</th>\n",
       "      <th>title</th>\n",
       "      <th>date</th>\n",
       "      <th>mobility_coefficient</th>\n",
       "    </tr>\n",
       "  </thead>\n",
       "  <tbody>\n",
       "    <tr>\n",
       "      <th>259</th>\n",
       "      <td>Gosse</td>\n",
       "      <td>Étienne</td>\n",
       "      <td>Les Jésuites, ou les autres Tartuffes</td>\n",
       "      <td>1827</td>\n",
       "      <td>86</td>\n",
       "    </tr>\n",
       "  </tbody>\n",
       "</table>\n",
       "</div>"
      ],
      "text/plain": [
       "    last_name first_name                                   title  date  \\\n",
       "259     Gosse    Étienne  Les Jésuites, ou les autres Tartuffes   1827   \n",
       "\n",
       "     mobility_coefficient  \n",
       "259                    86  "
      ]
     },
     "metadata": {},
     "output_type": "display_data"
    },
    {
     "name": "stdout",
     "output_type": "stream",
     "text": [
      "Period Min:\n"
     ]
    },
    {
     "data": {
      "text/html": [
       "<div>\n",
       "<style scoped>\n",
       "    .dataframe tbody tr th:only-of-type {\n",
       "        vertical-align: middle;\n",
       "    }\n",
       "\n",
       "    .dataframe tbody tr th {\n",
       "        vertical-align: top;\n",
       "    }\n",
       "\n",
       "    .dataframe thead th {\n",
       "        text-align: right;\n",
       "    }\n",
       "</style>\n",
       "<table border=\"1\" class=\"dataframe\">\n",
       "  <thead>\n",
       "    <tr style=\"text-align: right;\">\n",
       "      <th></th>\n",
       "      <th>last_name</th>\n",
       "      <th>first_name</th>\n",
       "      <th>title</th>\n",
       "      <th>date</th>\n",
       "      <th>mobility_coefficient</th>\n",
       "    </tr>\n",
       "  </thead>\n",
       "  <tbody>\n",
       "    <tr>\n",
       "      <th>240</th>\n",
       "      <td>Duval</td>\n",
       "      <td>Alexandre</td>\n",
       "      <td>Le Chevalier d'industrie</td>\n",
       "      <td>1818</td>\n",
       "      <td>34</td>\n",
       "    </tr>\n",
       "  </tbody>\n",
       "</table>\n",
       "</div>"
      ],
      "text/plain": [
       "    last_name first_name                     title  date  mobility_coefficient\n",
       "240     Duval  Alexandre  Le Chevalier d'industrie  1818                    34"
      ]
     },
     "metadata": {},
     "output_type": "display_data"
    },
    {
     "name": "stdout",
     "output_type": "stream",
     "text": [
      "The closest to the mean:\n"
     ]
    },
    {
     "data": {
      "text/html": [
       "<div>\n",
       "<style scoped>\n",
       "    .dataframe tbody tr th:only-of-type {\n",
       "        vertical-align: middle;\n",
       "    }\n",
       "\n",
       "    .dataframe tbody tr th {\n",
       "        vertical-align: top;\n",
       "    }\n",
       "\n",
       "    .dataframe thead th {\n",
       "        text-align: right;\n",
       "    }\n",
       "</style>\n",
       "<table border=\"1\" class=\"dataframe\">\n",
       "  <thead>\n",
       "    <tr style=\"text-align: right;\">\n",
       "      <th></th>\n",
       "      <th>last_name</th>\n",
       "      <th>first_name</th>\n",
       "      <th>title</th>\n",
       "      <th>date</th>\n",
       "      <th>mobility_coefficient</th>\n",
       "    </tr>\n",
       "  </thead>\n",
       "  <tbody>\n",
       "    <tr>\n",
       "      <th>227</th>\n",
       "      <td>Picard</td>\n",
       "      <td>Louis-Benoît</td>\n",
       "      <td>Les Capitulations de conscience</td>\n",
       "      <td>1809</td>\n",
       "      <td>55</td>\n",
       "    </tr>\n",
       "    <tr>\n",
       "      <th>245</th>\n",
       "      <td>Delavigne</td>\n",
       "      <td>Casimir</td>\n",
       "      <td>Les Comédiens</td>\n",
       "      <td>1820</td>\n",
       "      <td>55</td>\n",
       "    </tr>\n",
       "  </tbody>\n",
       "</table>\n",
       "</div>"
      ],
      "text/plain": [
       "     last_name    first_name                             title  date  \\\n",
       "227     Picard  Louis-Benoît  Les Capitulations de conscience   1809   \n",
       "245  Delavigne       Casimir                     Les Comédiens  1820   \n",
       "\n",
       "     mobility_coefficient  \n",
       "227                    55  \n",
       "245                    55  "
      ]
     },
     "metadata": {},
     "output_type": "display_data"
    }
   ],
   "source": [
    "summary_feature(period_three, 'mobility_coefficient')"
   ]
  },
  {
   "cell_type": "markdown",
   "metadata": {},
   "source": [
    "#### Sigma"
   ]
  },
  {
   "cell_type": "code",
   "execution_count": 36,
   "metadata": {},
   "outputs": [
    {
     "name": "stdout",
     "output_type": "stream",
     "text": [
      "Mean, standard deviation, median, min and max values for the period:\n"
     ]
    },
    {
     "data": {
      "text/plain": [
       "mean    1.33\n",
       "std     0.32\n",
       "50%     1.26\n",
       "min     0.84\n",
       "max     2.54\n",
       "Name: sigma_iarkho, dtype: float64"
      ]
     },
     "metadata": {},
     "output_type": "display_data"
    },
    {
     "name": "stdout",
     "output_type": "stream",
     "text": [
      "Period Max:\n"
     ]
    },
    {
     "data": {
      "text/html": [
       "<div>\n",
       "<style scoped>\n",
       "    .dataframe tbody tr th:only-of-type {\n",
       "        vertical-align: middle;\n",
       "    }\n",
       "\n",
       "    .dataframe tbody tr th {\n",
       "        vertical-align: top;\n",
       "    }\n",
       "\n",
       "    .dataframe thead th {\n",
       "        text-align: right;\n",
       "    }\n",
       "</style>\n",
       "<table border=\"1\" class=\"dataframe\">\n",
       "  <thead>\n",
       "    <tr style=\"text-align: right;\">\n",
       "      <th></th>\n",
       "      <th>last_name</th>\n",
       "      <th>first_name</th>\n",
       "      <th>title</th>\n",
       "      <th>date</th>\n",
       "      <th>sigma_iarkho</th>\n",
       "    </tr>\n",
       "  </thead>\n",
       "  <tbody>\n",
       "    <tr>\n",
       "      <th>262</th>\n",
       "      <td>Delavigne</td>\n",
       "      <td>Casimir</td>\n",
       "      <td>La Princesse Aurélie</td>\n",
       "      <td>1828</td>\n",
       "      <td>2.54</td>\n",
       "    </tr>\n",
       "  </tbody>\n",
       "</table>\n",
       "</div>"
      ],
      "text/plain": [
       "     last_name first_name                 title  date  sigma_iarkho\n",
       "262  Delavigne    Casimir  La Princesse Aurélie  1828          2.54"
      ]
     },
     "metadata": {},
     "output_type": "display_data"
    },
    {
     "name": "stdout",
     "output_type": "stream",
     "text": [
      "Period Min:\n"
     ]
    },
    {
     "data": {
      "text/html": [
       "<div>\n",
       "<style scoped>\n",
       "    .dataframe tbody tr th:only-of-type {\n",
       "        vertical-align: middle;\n",
       "    }\n",
       "\n",
       "    .dataframe tbody tr th {\n",
       "        vertical-align: top;\n",
       "    }\n",
       "\n",
       "    .dataframe thead th {\n",
       "        text-align: right;\n",
       "    }\n",
       "</style>\n",
       "<table border=\"1\" class=\"dataframe\">\n",
       "  <thead>\n",
       "    <tr style=\"text-align: right;\">\n",
       "      <th></th>\n",
       "      <th>last_name</th>\n",
       "      <th>first_name</th>\n",
       "      <th>title</th>\n",
       "      <th>date</th>\n",
       "      <th>sigma_iarkho</th>\n",
       "    </tr>\n",
       "  </thead>\n",
       "  <tbody>\n",
       "    <tr>\n",
       "      <th>241</th>\n",
       "      <td>Michaud</td>\n",
       "      <td>L. G.</td>\n",
       "      <td>Le Faux ami de cour, ou le Danger des liaisons</td>\n",
       "      <td>1818</td>\n",
       "      <td>0.84</td>\n",
       "    </tr>\n",
       "  </tbody>\n",
       "</table>\n",
       "</div>"
      ],
      "text/plain": [
       "    last_name first_name                                           title  \\\n",
       "241   Michaud      L. G.  Le Faux ami de cour, ou le Danger des liaisons   \n",
       "\n",
       "     date  sigma_iarkho  \n",
       "241  1818          0.84  "
      ]
     },
     "metadata": {},
     "output_type": "display_data"
    },
    {
     "name": "stdout",
     "output_type": "stream",
     "text": [
      "The closest to the mean:\n"
     ]
    },
    {
     "data": {
      "text/html": [
       "<div>\n",
       "<style scoped>\n",
       "    .dataframe tbody tr th:only-of-type {\n",
       "        vertical-align: middle;\n",
       "    }\n",
       "\n",
       "    .dataframe tbody tr th {\n",
       "        vertical-align: top;\n",
       "    }\n",
       "\n",
       "    .dataframe thead th {\n",
       "        text-align: right;\n",
       "    }\n",
       "</style>\n",
       "<table border=\"1\" class=\"dataframe\">\n",
       "  <thead>\n",
       "    <tr style=\"text-align: right;\">\n",
       "      <th></th>\n",
       "      <th>last_name</th>\n",
       "      <th>first_name</th>\n",
       "      <th>title</th>\n",
       "      <th>date</th>\n",
       "      <th>sigma_iarkho</th>\n",
       "    </tr>\n",
       "  </thead>\n",
       "  <tbody>\n",
       "    <tr>\n",
       "      <th>275</th>\n",
       "      <td>Rey</td>\n",
       "      <td>Charles</td>\n",
       "      <td>La séduction et l'amour vrai</td>\n",
       "      <td>1847</td>\n",
       "      <td>1.33</td>\n",
       "    </tr>\n",
       "  </tbody>\n",
       "</table>\n",
       "</div>"
      ],
      "text/plain": [
       "    last_name first_name                         title  date  sigma_iarkho\n",
       "275       Rey    Charles  La séduction et l'amour vrai  1847          1.33"
      ]
     },
     "metadata": {},
     "output_type": "display_data"
    }
   ],
   "source": [
    "summary_feature(period_three, 'sigma_iarkho')"
   ]
  },
  {
   "cell_type": "markdown",
   "metadata": {},
   "source": [
    "#### The Percentage of Polylogues"
   ]
  },
  {
   "cell_type": "code",
   "execution_count": 37,
   "metadata": {},
   "outputs": [
    {
     "name": "stdout",
     "output_type": "stream",
     "text": [
      "Mean, standard deviation, median, min and max values for the period:\n"
     ]
    },
    {
     "data": {
      "text/plain": [
       "mean    38.09\n",
       "std      8.70\n",
       "50%     37.31\n",
       "min     18.46\n",
       "max     65.00\n",
       "Name: percentage_polylogues, dtype: float64"
      ]
     },
     "metadata": {},
     "output_type": "display_data"
    },
    {
     "name": "stdout",
     "output_type": "stream",
     "text": [
      "Period Max:\n"
     ]
    },
    {
     "data": {
      "text/html": [
       "<div>\n",
       "<style scoped>\n",
       "    .dataframe tbody tr th:only-of-type {\n",
       "        vertical-align: middle;\n",
       "    }\n",
       "\n",
       "    .dataframe tbody tr th {\n",
       "        vertical-align: top;\n",
       "    }\n",
       "\n",
       "    .dataframe thead th {\n",
       "        text-align: right;\n",
       "    }\n",
       "</style>\n",
       "<table border=\"1\" class=\"dataframe\">\n",
       "  <thead>\n",
       "    <tr style=\"text-align: right;\">\n",
       "      <th></th>\n",
       "      <th>last_name</th>\n",
       "      <th>first_name</th>\n",
       "      <th>title</th>\n",
       "      <th>date</th>\n",
       "      <th>percentage_polylogues</th>\n",
       "    </tr>\n",
       "  </thead>\n",
       "  <tbody>\n",
       "    <tr>\n",
       "      <th>239</th>\n",
       "      <td>Merville</td>\n",
       "      <td></td>\n",
       "      <td>La Famille Glinet, ou Les premiers temps de la...</td>\n",
       "      <td>1818</td>\n",
       "      <td>65.0</td>\n",
       "    </tr>\n",
       "  </tbody>\n",
       "</table>\n",
       "</div>"
      ],
      "text/plain": [
       "    last_name first_name                                              title  \\\n",
       "239  Merville             La Famille Glinet, ou Les premiers temps de la...   \n",
       "\n",
       "     date  percentage_polylogues  \n",
       "239  1818                   65.0  "
      ]
     },
     "metadata": {},
     "output_type": "display_data"
    },
    {
     "name": "stdout",
     "output_type": "stream",
     "text": [
      "Period Min:\n"
     ]
    },
    {
     "data": {
      "text/html": [
       "<div>\n",
       "<style scoped>\n",
       "    .dataframe tbody tr th:only-of-type {\n",
       "        vertical-align: middle;\n",
       "    }\n",
       "\n",
       "    .dataframe tbody tr th {\n",
       "        vertical-align: top;\n",
       "    }\n",
       "\n",
       "    .dataframe thead th {\n",
       "        text-align: right;\n",
       "    }\n",
       "</style>\n",
       "<table border=\"1\" class=\"dataframe\">\n",
       "  <thead>\n",
       "    <tr style=\"text-align: right;\">\n",
       "      <th></th>\n",
       "      <th>last_name</th>\n",
       "      <th>first_name</th>\n",
       "      <th>title</th>\n",
       "      <th>date</th>\n",
       "      <th>percentage_polylogues</th>\n",
       "    </tr>\n",
       "  </thead>\n",
       "  <tbody>\n",
       "    <tr>\n",
       "      <th>252</th>\n",
       "      <td>Bonjour</td>\n",
       "      <td>Casimir</td>\n",
       "      <td>Le Mari à bonnes fortunes, ou La Leçon</td>\n",
       "      <td>1824</td>\n",
       "      <td>18.46</td>\n",
       "    </tr>\n",
       "  </tbody>\n",
       "</table>\n",
       "</div>"
      ],
      "text/plain": [
       "    last_name first_name                                   title  date  \\\n",
       "252   Bonjour    Casimir  Le Mari à bonnes fortunes, ou La Leçon  1824   \n",
       "\n",
       "     percentage_polylogues  \n",
       "252                  18.46  "
      ]
     },
     "metadata": {},
     "output_type": "display_data"
    },
    {
     "name": "stdout",
     "output_type": "stream",
     "text": [
      "The closest to the mean:\n"
     ]
    },
    {
     "data": {
      "text/html": [
       "<div>\n",
       "<style scoped>\n",
       "    .dataframe tbody tr th:only-of-type {\n",
       "        vertical-align: middle;\n",
       "    }\n",
       "\n",
       "    .dataframe tbody tr th {\n",
       "        vertical-align: top;\n",
       "    }\n",
       "\n",
       "    .dataframe thead th {\n",
       "        text-align: right;\n",
       "    }\n",
       "</style>\n",
       "<table border=\"1\" class=\"dataframe\">\n",
       "  <thead>\n",
       "    <tr style=\"text-align: right;\">\n",
       "      <th></th>\n",
       "      <th>last_name</th>\n",
       "      <th>first_name</th>\n",
       "      <th>title</th>\n",
       "      <th>date</th>\n",
       "      <th>percentage_polylogues</th>\n",
       "    </tr>\n",
       "  </thead>\n",
       "  <tbody>\n",
       "    <tr>\n",
       "      <th>258</th>\n",
       "      <td>Bonjour</td>\n",
       "      <td>Casimir</td>\n",
       "      <td>L’Argent ou les Moeurs du Jour</td>\n",
       "      <td>1826</td>\n",
       "      <td>37.88</td>\n",
       "    </tr>\n",
       "  </tbody>\n",
       "</table>\n",
       "</div>"
      ],
      "text/plain": [
       "    last_name first_name                           title  date  \\\n",
       "258   Bonjour    Casimir  L’Argent ou les Moeurs du Jour  1826   \n",
       "\n",
       "     percentage_polylogues  \n",
       "258                  37.88  "
      ]
     },
     "metadata": {},
     "output_type": "display_data"
    }
   ],
   "source": [
    "summary_feature(period_three, 'percentage_polylogues')"
   ]
  },
  {
   "cell_type": "markdown",
   "metadata": {},
   "source": [
    "#### The Percentage of Monologues"
   ]
  },
  {
   "cell_type": "code",
   "execution_count": 38,
   "metadata": {},
   "outputs": [
    {
     "name": "stdout",
     "output_type": "stream",
     "text": [
      "Mean, standard deviation, median, min and max values for the period:\n"
     ]
    },
    {
     "data": {
      "text/plain": [
       "mean    20.08\n",
       "std      5.95\n",
       "50%     18.94\n",
       "min     11.36\n",
       "max     43.08\n",
       "Name: percentage_monologues, dtype: float64"
      ]
     },
     "metadata": {},
     "output_type": "display_data"
    },
    {
     "name": "stdout",
     "output_type": "stream",
     "text": [
      "Period Max:\n"
     ]
    },
    {
     "data": {
      "text/html": [
       "<div>\n",
       "<style scoped>\n",
       "    .dataframe tbody tr th:only-of-type {\n",
       "        vertical-align: middle;\n",
       "    }\n",
       "\n",
       "    .dataframe tbody tr th {\n",
       "        vertical-align: top;\n",
       "    }\n",
       "\n",
       "    .dataframe thead th {\n",
       "        text-align: right;\n",
       "    }\n",
       "</style>\n",
       "<table border=\"1\" class=\"dataframe\">\n",
       "  <thead>\n",
       "    <tr style=\"text-align: right;\">\n",
       "      <th></th>\n",
       "      <th>last_name</th>\n",
       "      <th>first_name</th>\n",
       "      <th>title</th>\n",
       "      <th>date</th>\n",
       "      <th>percentage_monologues</th>\n",
       "    </tr>\n",
       "  </thead>\n",
       "  <tbody>\n",
       "    <tr>\n",
       "      <th>252</th>\n",
       "      <td>Bonjour</td>\n",
       "      <td>Casimir</td>\n",
       "      <td>Le Mari à bonnes fortunes, ou La Leçon</td>\n",
       "      <td>1824</td>\n",
       "      <td>43.08</td>\n",
       "    </tr>\n",
       "  </tbody>\n",
       "</table>\n",
       "</div>"
      ],
      "text/plain": [
       "    last_name first_name                                   title  date  \\\n",
       "252   Bonjour    Casimir  Le Mari à bonnes fortunes, ou La Leçon  1824   \n",
       "\n",
       "     percentage_monologues  \n",
       "252                  43.08  "
      ]
     },
     "metadata": {},
     "output_type": "display_data"
    },
    {
     "name": "stdout",
     "output_type": "stream",
     "text": [
      "Period Min:\n"
     ]
    },
    {
     "data": {
      "text/html": [
       "<div>\n",
       "<style scoped>\n",
       "    .dataframe tbody tr th:only-of-type {\n",
       "        vertical-align: middle;\n",
       "    }\n",
       "\n",
       "    .dataframe tbody tr th {\n",
       "        vertical-align: top;\n",
       "    }\n",
       "\n",
       "    .dataframe thead th {\n",
       "        text-align: right;\n",
       "    }\n",
       "</style>\n",
       "<table border=\"1\" class=\"dataframe\">\n",
       "  <thead>\n",
       "    <tr style=\"text-align: right;\">\n",
       "      <th></th>\n",
       "      <th>last_name</th>\n",
       "      <th>first_name</th>\n",
       "      <th>title</th>\n",
       "      <th>date</th>\n",
       "      <th>percentage_monologues</th>\n",
       "    </tr>\n",
       "  </thead>\n",
       "  <tbody>\n",
       "    <tr>\n",
       "      <th>278</th>\n",
       "      <td>Augier</td>\n",
       "      <td>Émile</td>\n",
       "      <td>Gabrielle</td>\n",
       "      <td>1849</td>\n",
       "      <td>11.36</td>\n",
       "    </tr>\n",
       "  </tbody>\n",
       "</table>\n",
       "</div>"
      ],
      "text/plain": [
       "    last_name first_name      title  date  percentage_monologues\n",
       "278    Augier      Émile  Gabrielle  1849                  11.36"
      ]
     },
     "metadata": {},
     "output_type": "display_data"
    },
    {
     "name": "stdout",
     "output_type": "stream",
     "text": [
      "The closest to the mean:\n"
     ]
    },
    {
     "data": {
      "text/html": [
       "<div>\n",
       "<style scoped>\n",
       "    .dataframe tbody tr th:only-of-type {\n",
       "        vertical-align: middle;\n",
       "    }\n",
       "\n",
       "    .dataframe tbody tr th {\n",
       "        vertical-align: top;\n",
       "    }\n",
       "\n",
       "    .dataframe thead th {\n",
       "        text-align: right;\n",
       "    }\n",
       "</style>\n",
       "<table border=\"1\" class=\"dataframe\">\n",
       "  <thead>\n",
       "    <tr style=\"text-align: right;\">\n",
       "      <th></th>\n",
       "      <th>last_name</th>\n",
       "      <th>first_name</th>\n",
       "      <th>title</th>\n",
       "      <th>date</th>\n",
       "      <th>percentage_monologues</th>\n",
       "    </tr>\n",
       "  </thead>\n",
       "  <tbody>\n",
       "    <tr>\n",
       "      <th>244</th>\n",
       "      <td>Gosse</td>\n",
       "      <td>Étienne</td>\n",
       "      <td>Le Flatteur</td>\n",
       "      <td>1820</td>\n",
       "      <td>20.0</td>\n",
       "    </tr>\n",
       "  </tbody>\n",
       "</table>\n",
       "</div>"
      ],
      "text/plain": [
       "    last_name first_name        title  date  percentage_monologues\n",
       "244     Gosse    Étienne  Le Flatteur  1820                   20.0"
      ]
     },
     "metadata": {},
     "output_type": "display_data"
    }
   ],
   "source": [
    "summary_feature(period_three, 'percentage_monologues')"
   ]
  },
  {
   "cell_type": "markdown",
   "metadata": {},
   "source": [
    "## Part 2. Summary For Selected Playwrights"
   ]
  },
  {
   "cell_type": "markdown",
   "metadata": {},
   "source": [
    "We calculate the mean number of dramatic characters, mean mobility coefficient, the standard range of the number of speaking characters (sigma), the mean percentage of polylogues, and the mean percentage of monologues. We quanitify how much a playwright prefers to write comedies with more open forms based on all features and within the context of the period in which he or she writes.\n",
    "\n",
    "#### Open Form Scores:\n",
    "1. For all features, we will calculate **the z-score**: $z=(x−μ)/σ$ where where μ is the mean of the feature and σ is the standard deviation of this feature. For the percentage of monologues, we will reverse the sign, i.e., will use **- z-score** since it is the lower value of the percentage of monologues that indicates a more open form.\n",
    "3. The **open form score** will be the mean z-score. For example, if Boisrobert has the following z-scores (0.07, -0.35, 0.41, 0.68) and -z-score for the percentage of monologues of 0.97, his **open form score** = (0.07 -0.35 +  0.41 + 0.68 + 0.97) / 5 ≈ 0.36. The open form scores can be positive and negative, where high positive number indicates the most open form, whereas the high negative number indicates the least open form."
   ]
  },
  {
   "cell_type": "markdown",
   "metadata": {},
   "source": [
    "### Period One"
   ]
  },
  {
   "cell_type": "code",
   "execution_count": 39,
   "metadata": {},
   "outputs": [
    {
     "data": {
      "text/html": [
       "<div>\n",
       "<style scoped>\n",
       "    .dataframe tbody tr th:only-of-type {\n",
       "        vertical-align: middle;\n",
       "    }\n",
       "\n",
       "    .dataframe tbody tr th {\n",
       "        vertical-align: top;\n",
       "    }\n",
       "\n",
       "    .dataframe thead th {\n",
       "        text-align: right;\n",
       "    }\n",
       "</style>\n",
       "<table border=\"1\" class=\"dataframe\">\n",
       "  <thead>\n",
       "    <tr style=\"text-align: right;\">\n",
       "      <th></th>\n",
       "      <th></th>\n",
       "      <th>num_present_characters</th>\n",
       "      <th>mobility_coefficient</th>\n",
       "      <th>sigma_iarkho</th>\n",
       "      <th>polylogues</th>\n",
       "      <th>monologues</th>\n",
       "    </tr>\n",
       "    <tr>\n",
       "      <th>last_name</th>\n",
       "      <th>first_name</th>\n",
       "      <th></th>\n",
       "      <th></th>\n",
       "      <th></th>\n",
       "      <th></th>\n",
       "      <th></th>\n",
       "    </tr>\n",
       "  </thead>\n",
       "  <tbody>\n",
       "    <tr>\n",
       "      <th>Boisrobert</th>\n",
       "      <th>François Le Métel de</th>\n",
       "      <td>12.20</td>\n",
       "      <td>37.80</td>\n",
       "      <td>1.42</td>\n",
       "      <td>51.74</td>\n",
       "      <td>4.17</td>\n",
       "    </tr>\n",
       "    <tr>\n",
       "      <th>Boursault</th>\n",
       "      <th>Edmé</th>\n",
       "      <td>16.00</td>\n",
       "      <td>44.80</td>\n",
       "      <td>1.20</td>\n",
       "      <td>37.86</td>\n",
       "      <td>16.03</td>\n",
       "    </tr>\n",
       "    <tr>\n",
       "      <th rowspan=\"2\" valign=\"top\">Corneille</th>\n",
       "      <th>Pierre</th>\n",
       "      <td>10.12</td>\n",
       "      <td>42.00</td>\n",
       "      <td>0.95</td>\n",
       "      <td>23.08</td>\n",
       "      <td>21.49</td>\n",
       "    </tr>\n",
       "    <tr>\n",
       "      <th>Thomas</th>\n",
       "      <td>11.25</td>\n",
       "      <td>42.08</td>\n",
       "      <td>1.14</td>\n",
       "      <td>51.76</td>\n",
       "      <td>5.69</td>\n",
       "    </tr>\n",
       "    <tr>\n",
       "      <th>La Fontaine</th>\n",
       "      <th>Jean de</th>\n",
       "      <td>19.00</td>\n",
       "      <td>49.00</td>\n",
       "      <td>1.61</td>\n",
       "      <td>38.40</td>\n",
       "      <td>22.40</td>\n",
       "    </tr>\n",
       "    <tr>\n",
       "      <th>Molière</th>\n",
       "      <th></th>\n",
       "      <td>11.14</td>\n",
       "      <td>32.57</td>\n",
       "      <td>1.43</td>\n",
       "      <td>37.10</td>\n",
       "      <td>11.06</td>\n",
       "    </tr>\n",
       "    <tr>\n",
       "      <th>Montfleury</th>\n",
       "      <th></th>\n",
       "      <td>9.38</td>\n",
       "      <td>50.38</td>\n",
       "      <td>0.98</td>\n",
       "      <td>32.27</td>\n",
       "      <td>19.52</td>\n",
       "    </tr>\n",
       "    <tr>\n",
       "      <th>Quinault</th>\n",
       "      <th>Philippe</th>\n",
       "      <td>8.33</td>\n",
       "      <td>38.00</td>\n",
       "      <td>1.05</td>\n",
       "      <td>45.61</td>\n",
       "      <td>5.52</td>\n",
       "    </tr>\n",
       "    <tr>\n",
       "      <th>Scarron</th>\n",
       "      <th>Paul</th>\n",
       "      <td>11.50</td>\n",
       "      <td>39.50</td>\n",
       "      <td>1.48</td>\n",
       "      <td>44.72</td>\n",
       "      <td>13.57</td>\n",
       "    </tr>\n",
       "  </tbody>\n",
       "</table>\n",
       "</div>"
      ],
      "text/plain": [
       "                                  num_present_characters  \\\n",
       "last_name   first_name                                     \n",
       "Boisrobert  François Le Métel de                   12.20   \n",
       "Boursault   Edmé                                   16.00   \n",
       "Corneille   Pierre                                 10.12   \n",
       "            Thomas                                 11.25   \n",
       "La Fontaine Jean de                                19.00   \n",
       "Molière                                            11.14   \n",
       "Montfleury                                          9.38   \n",
       "Quinault    Philippe                                8.33   \n",
       "Scarron     Paul                                   11.50   \n",
       "\n",
       "                                  mobility_coefficient  sigma_iarkho  \\\n",
       "last_name   first_name                                                 \n",
       "Boisrobert  François Le Métel de                 37.80          1.42   \n",
       "Boursault   Edmé                                 44.80          1.20   \n",
       "Corneille   Pierre                               42.00          0.95   \n",
       "            Thomas                               42.08          1.14   \n",
       "La Fontaine Jean de                              49.00          1.61   \n",
       "Molière                                          32.57          1.43   \n",
       "Montfleury                                       50.38          0.98   \n",
       "Quinault    Philippe                             38.00          1.05   \n",
       "Scarron     Paul                                 39.50          1.48   \n",
       "\n",
       "                                  polylogues  monologues  \n",
       "last_name   first_name                                    \n",
       "Boisrobert  François Le Métel de       51.74        4.17  \n",
       "Boursault   Edmé                       37.86       16.03  \n",
       "Corneille   Pierre                     23.08       21.49  \n",
       "            Thomas                     51.76        5.69  \n",
       "La Fontaine Jean de                    38.40       22.40  \n",
       "Molière                                37.10       11.06  \n",
       "Montfleury                             32.27       19.52  \n",
       "Quinault    Philippe                   45.61        5.52  \n",
       "Scarron     Paul                       44.72       13.57  "
      ]
     },
     "execution_count": 39,
     "metadata": {},
     "output_type": "execute_result"
    }
   ],
   "source": [
    "playwrights_place(period_one, playwrights_period_one, with_mode=False)"
   ]
  },
  {
   "cell_type": "markdown",
   "metadata": {},
   "source": [
    "#### Z-Scores and Open-Form Scores"
   ]
  },
  {
   "cell_type": "code",
   "execution_count": 40,
   "metadata": {},
   "outputs": [
    {
     "data": {
      "text/html": [
       "<div>\n",
       "<style scoped>\n",
       "    .dataframe tbody tr th:only-of-type {\n",
       "        vertical-align: middle;\n",
       "    }\n",
       "\n",
       "    .dataframe tbody tr th {\n",
       "        vertical-align: top;\n",
       "    }\n",
       "\n",
       "    .dataframe thead th {\n",
       "        text-align: right;\n",
       "    }\n",
       "</style>\n",
       "<table border=\"1\" class=\"dataframe\">\n",
       "  <thead>\n",
       "    <tr style=\"text-align: right;\">\n",
       "      <th></th>\n",
       "      <th></th>\n",
       "      <th>num_present_characters</th>\n",
       "      <th>mobility_coefficient</th>\n",
       "      <th>sigma_iarkho</th>\n",
       "      <th>polylogues</th>\n",
       "      <th>monologues</th>\n",
       "      <th>open_form_score</th>\n",
       "    </tr>\n",
       "    <tr>\n",
       "      <th>last_name</th>\n",
       "      <th>first_name</th>\n",
       "      <th></th>\n",
       "      <th></th>\n",
       "      <th></th>\n",
       "      <th></th>\n",
       "      <th></th>\n",
       "      <th></th>\n",
       "    </tr>\n",
       "  </thead>\n",
       "  <tbody>\n",
       "    <tr>\n",
       "      <th>Boisrobert</th>\n",
       "      <th>François Le Métel de</th>\n",
       "      <td>0.07</td>\n",
       "      <td>-0.35</td>\n",
       "      <td>0.41</td>\n",
       "      <td>0.68</td>\n",
       "      <td>0.97</td>\n",
       "      <td>0.36</td>\n",
       "    </tr>\n",
       "    <tr>\n",
       "      <th>Boursault</th>\n",
       "      <th>Edmé</th>\n",
       "      <td>1.01</td>\n",
       "      <td>0.25</td>\n",
       "      <td>-0.14</td>\n",
       "      <td>-0.32</td>\n",
       "      <td>-0.27</td>\n",
       "      <td>0.11</td>\n",
       "    </tr>\n",
       "    <tr>\n",
       "      <th rowspan=\"2\" valign=\"top\">Corneille</th>\n",
       "      <th>Pierre</th>\n",
       "      <td>-0.44</td>\n",
       "      <td>0.01</td>\n",
       "      <td>-0.76</td>\n",
       "      <td>-1.39</td>\n",
       "      <td>-0.85</td>\n",
       "      <td>-0.69</td>\n",
       "    </tr>\n",
       "    <tr>\n",
       "      <th>Thomas</th>\n",
       "      <td>-0.16</td>\n",
       "      <td>0.02</td>\n",
       "      <td>-0.28</td>\n",
       "      <td>0.68</td>\n",
       "      <td>0.81</td>\n",
       "      <td>0.21</td>\n",
       "    </tr>\n",
       "    <tr>\n",
       "      <th>La Fontaine</th>\n",
       "      <th>Jean de</th>\n",
       "      <td>1.75</td>\n",
       "      <td>0.61</td>\n",
       "      <td>0.88</td>\n",
       "      <td>-0.29</td>\n",
       "      <td>-0.94</td>\n",
       "      <td>0.40</td>\n",
       "    </tr>\n",
       "    <tr>\n",
       "      <th>Molière</th>\n",
       "      <th></th>\n",
       "      <td>-0.19</td>\n",
       "      <td>-0.80</td>\n",
       "      <td>0.44</td>\n",
       "      <td>-0.38</td>\n",
       "      <td>0.25</td>\n",
       "      <td>-0.14</td>\n",
       "    </tr>\n",
       "    <tr>\n",
       "      <th>Montfleury</th>\n",
       "      <th></th>\n",
       "      <td>-0.62</td>\n",
       "      <td>0.73</td>\n",
       "      <td>-0.68</td>\n",
       "      <td>-0.73</td>\n",
       "      <td>-0.64</td>\n",
       "      <td>-0.39</td>\n",
       "    </tr>\n",
       "    <tr>\n",
       "      <th>Quinault</th>\n",
       "      <th>Philippe</th>\n",
       "      <td>-0.88</td>\n",
       "      <td>-0.34</td>\n",
       "      <td>-0.51</td>\n",
       "      <td>0.23</td>\n",
       "      <td>0.83</td>\n",
       "      <td>-0.13</td>\n",
       "    </tr>\n",
       "    <tr>\n",
       "      <th>Scarron</th>\n",
       "      <th>Paul</th>\n",
       "      <td>-0.10</td>\n",
       "      <td>-0.21</td>\n",
       "      <td>0.56</td>\n",
       "      <td>0.17</td>\n",
       "      <td>-0.02</td>\n",
       "      <td>0.08</td>\n",
       "    </tr>\n",
       "  </tbody>\n",
       "</table>\n",
       "</div>"
      ],
      "text/plain": [
       "                                  num_present_characters  \\\n",
       "last_name   first_name                                     \n",
       "Boisrobert  François Le Métel de                    0.07   \n",
       "Boursault   Edmé                                    1.01   \n",
       "Corneille   Pierre                                 -0.44   \n",
       "            Thomas                                 -0.16   \n",
       "La Fontaine Jean de                                 1.75   \n",
       "Molière                                            -0.19   \n",
       "Montfleury                                         -0.62   \n",
       "Quinault    Philippe                               -0.88   \n",
       "Scarron     Paul                                   -0.10   \n",
       "\n",
       "                                  mobility_coefficient  sigma_iarkho  \\\n",
       "last_name   first_name                                                 \n",
       "Boisrobert  François Le Métel de                 -0.35          0.41   \n",
       "Boursault   Edmé                                  0.25         -0.14   \n",
       "Corneille   Pierre                                0.01         -0.76   \n",
       "            Thomas                                0.02         -0.28   \n",
       "La Fontaine Jean de                               0.61          0.88   \n",
       "Molière                                          -0.80          0.44   \n",
       "Montfleury                                        0.73         -0.68   \n",
       "Quinault    Philippe                             -0.34         -0.51   \n",
       "Scarron     Paul                                 -0.21          0.56   \n",
       "\n",
       "                                  polylogues  monologues  open_form_score  \n",
       "last_name   first_name                                                     \n",
       "Boisrobert  François Le Métel de        0.68        0.97             0.36  \n",
       "Boursault   Edmé                       -0.32       -0.27             0.11  \n",
       "Corneille   Pierre                     -1.39       -0.85            -0.69  \n",
       "            Thomas                      0.68        0.81             0.21  \n",
       "La Fontaine Jean de                    -0.29       -0.94             0.40  \n",
       "Molière                                -0.38        0.25            -0.14  \n",
       "Montfleury                             -0.73       -0.64            -0.39  \n",
       "Quinault    Philippe                    0.23        0.83            -0.13  \n",
       "Scarron     Paul                        0.17       -0.02             0.08  "
      ]
     },
     "execution_count": 40,
     "metadata": {},
     "output_type": "execute_result"
    }
   ],
   "source": [
    "playwrights_place(period_one, playwrights_period_one, with_mode=True)"
   ]
  },
  {
   "cell_type": "markdown",
   "metadata": {},
   "source": [
    "### Period Two"
   ]
  },
  {
   "cell_type": "code",
   "execution_count": 41,
   "metadata": {},
   "outputs": [
    {
     "data": {
      "text/html": [
       "<div>\n",
       "<style scoped>\n",
       "    .dataframe tbody tr th:only-of-type {\n",
       "        vertical-align: middle;\n",
       "    }\n",
       "\n",
       "    .dataframe tbody tr th {\n",
       "        vertical-align: top;\n",
       "    }\n",
       "\n",
       "    .dataframe thead th {\n",
       "        text-align: right;\n",
       "    }\n",
       "</style>\n",
       "<table border=\"1\" class=\"dataframe\">\n",
       "  <thead>\n",
       "    <tr style=\"text-align: right;\">\n",
       "      <th></th>\n",
       "      <th></th>\n",
       "      <th>num_present_characters</th>\n",
       "      <th>mobility_coefficient</th>\n",
       "      <th>sigma_iarkho</th>\n",
       "      <th>polylogues</th>\n",
       "      <th>monologues</th>\n",
       "    </tr>\n",
       "    <tr>\n",
       "      <th>last_name</th>\n",
       "      <th>first_name</th>\n",
       "      <th></th>\n",
       "      <th></th>\n",
       "      <th></th>\n",
       "      <th></th>\n",
       "      <th></th>\n",
       "    </tr>\n",
       "  </thead>\n",
       "  <tbody>\n",
       "    <tr>\n",
       "      <th>Boissy</th>\n",
       "      <th>Louis de</th>\n",
       "      <td>8.71</td>\n",
       "      <td>45.57</td>\n",
       "      <td>0.95</td>\n",
       "      <td>26.61</td>\n",
       "      <td>21.89</td>\n",
       "    </tr>\n",
       "    <tr>\n",
       "      <th>Collin d’Harleville</th>\n",
       "      <th>Jean-François</th>\n",
       "      <td>10.67</td>\n",
       "      <td>60.33</td>\n",
       "      <td>1.07</td>\n",
       "      <td>36.26</td>\n",
       "      <td>18.99</td>\n",
       "    </tr>\n",
       "    <tr>\n",
       "      <th>Dancourt</th>\n",
       "      <th></th>\n",
       "      <td>11.00</td>\n",
       "      <td>56.33</td>\n",
       "      <td>1.31</td>\n",
       "      <td>45.60</td>\n",
       "      <td>14.80</td>\n",
       "    </tr>\n",
       "    <tr>\n",
       "      <th>Desforges</th>\n",
       "      <th></th>\n",
       "      <td>11.50</td>\n",
       "      <td>53.75</td>\n",
       "      <td>1.42</td>\n",
       "      <td>37.30</td>\n",
       "      <td>20.61</td>\n",
       "    </tr>\n",
       "    <tr>\n",
       "      <th>Dorat</th>\n",
       "      <th>Claude-Joseph</th>\n",
       "      <td>11.50</td>\n",
       "      <td>44.50</td>\n",
       "      <td>1.32</td>\n",
       "      <td>23.56</td>\n",
       "      <td>23.21</td>\n",
       "    </tr>\n",
       "    <tr>\n",
       "      <th>Nivelle de la Chaussée</th>\n",
       "      <th>Pierre Claude</th>\n",
       "      <td>8.75</td>\n",
       "      <td>42.75</td>\n",
       "      <td>1.02</td>\n",
       "      <td>24.03</td>\n",
       "      <td>24.91</td>\n",
       "    </tr>\n",
       "    <tr>\n",
       "      <th>Néricault Destouches</th>\n",
       "      <th></th>\n",
       "      <td>10.38</td>\n",
       "      <td>50.08</td>\n",
       "      <td>1.25</td>\n",
       "      <td>35.52</td>\n",
       "      <td>21.04</td>\n",
       "    </tr>\n",
       "    <tr>\n",
       "      <th>Regnard</th>\n",
       "      <th>Jean-François</th>\n",
       "      <td>12.00</td>\n",
       "      <td>51.20</td>\n",
       "      <td>1.30</td>\n",
       "      <td>39.22</td>\n",
       "      <td>19.52</td>\n",
       "    </tr>\n",
       "    <tr>\n",
       "      <th>Rousseau</th>\n",
       "      <th>Jean-Baptiste</th>\n",
       "      <td>11.00</td>\n",
       "      <td>37.75</td>\n",
       "      <td>1.40</td>\n",
       "      <td>42.10</td>\n",
       "      <td>16.86</td>\n",
       "    </tr>\n",
       "    <tr>\n",
       "      <th>Voltaire</th>\n",
       "      <th></th>\n",
       "      <td>10.25</td>\n",
       "      <td>37.25</td>\n",
       "      <td>1.31</td>\n",
       "      <td>42.94</td>\n",
       "      <td>11.60</td>\n",
       "    </tr>\n",
       "  </tbody>\n",
       "</table>\n",
       "</div>"
      ],
      "text/plain": [
       "                                      num_present_characters  \\\n",
       "last_name              first_name                              \n",
       "Boissy                 Louis de                         8.71   \n",
       "Collin d’Harleville    Jean-François                   10.67   \n",
       "Dancourt                                               11.00   \n",
       "Desforges                                              11.50   \n",
       "Dorat                  Claude-Joseph                   11.50   \n",
       "Nivelle de la Chaussée Pierre Claude                    8.75   \n",
       "Néricault Destouches                                   10.38   \n",
       "Regnard                Jean-François                   12.00   \n",
       "Rousseau               Jean-Baptiste                   11.00   \n",
       "Voltaire                                               10.25   \n",
       "\n",
       "                                      mobility_coefficient  sigma_iarkho  \\\n",
       "last_name              first_name                                          \n",
       "Boissy                 Louis de                      45.57          0.95   \n",
       "Collin d’Harleville    Jean-François                 60.33          1.07   \n",
       "Dancourt                                             56.33          1.31   \n",
       "Desforges                                            53.75          1.42   \n",
       "Dorat                  Claude-Joseph                 44.50          1.32   \n",
       "Nivelle de la Chaussée Pierre Claude                 42.75          1.02   \n",
       "Néricault Destouches                                 50.08          1.25   \n",
       "Regnard                Jean-François                 51.20          1.30   \n",
       "Rousseau               Jean-Baptiste                 37.75          1.40   \n",
       "Voltaire                                             37.25          1.31   \n",
       "\n",
       "                                      polylogues  monologues  \n",
       "last_name              first_name                             \n",
       "Boissy                 Louis de            26.61       21.89  \n",
       "Collin d’Harleville    Jean-François       36.26       18.99  \n",
       "Dancourt                                   45.60       14.80  \n",
       "Desforges                                  37.30       20.61  \n",
       "Dorat                  Claude-Joseph       23.56       23.21  \n",
       "Nivelle de la Chaussée Pierre Claude       24.03       24.91  \n",
       "Néricault Destouches                       35.52       21.04  \n",
       "Regnard                Jean-François       39.22       19.52  \n",
       "Rousseau               Jean-Baptiste       42.10       16.86  \n",
       "Voltaire                                   42.94       11.60  "
      ]
     },
     "execution_count": 41,
     "metadata": {},
     "output_type": "execute_result"
    }
   ],
   "source": [
    "playwrights_place(period_two, playwrights_period_two, with_mode=False)"
   ]
  },
  {
   "cell_type": "markdown",
   "metadata": {},
   "source": [
    "#### Z-Scores and Open-Form Scores"
   ]
  },
  {
   "cell_type": "code",
   "execution_count": 42,
   "metadata": {},
   "outputs": [
    {
     "data": {
      "text/html": [
       "<div>\n",
       "<style scoped>\n",
       "    .dataframe tbody tr th:only-of-type {\n",
       "        vertical-align: middle;\n",
       "    }\n",
       "\n",
       "    .dataframe tbody tr th {\n",
       "        vertical-align: top;\n",
       "    }\n",
       "\n",
       "    .dataframe thead th {\n",
       "        text-align: right;\n",
       "    }\n",
       "</style>\n",
       "<table border=\"1\" class=\"dataframe\">\n",
       "  <thead>\n",
       "    <tr style=\"text-align: right;\">\n",
       "      <th></th>\n",
       "      <th></th>\n",
       "      <th>num_present_characters</th>\n",
       "      <th>mobility_coefficient</th>\n",
       "      <th>sigma_iarkho</th>\n",
       "      <th>polylogues</th>\n",
       "      <th>monologues</th>\n",
       "      <th>open_form_score</th>\n",
       "    </tr>\n",
       "    <tr>\n",
       "      <th>last_name</th>\n",
       "      <th>first_name</th>\n",
       "      <th></th>\n",
       "      <th></th>\n",
       "      <th></th>\n",
       "      <th></th>\n",
       "      <th></th>\n",
       "      <th></th>\n",
       "    </tr>\n",
       "  </thead>\n",
       "  <tbody>\n",
       "    <tr>\n",
       "      <th>Boissy</th>\n",
       "      <th>Louis de</th>\n",
       "      <td>-0.63</td>\n",
       "      <td>-0.33</td>\n",
       "      <td>-0.59</td>\n",
       "      <td>-0.45</td>\n",
       "      <td>0.02</td>\n",
       "      <td>-0.40</td>\n",
       "    </tr>\n",
       "    <tr>\n",
       "      <th>Collin d’Harleville</th>\n",
       "      <th>Jean-François</th>\n",
       "      <td>0.05</td>\n",
       "      <td>0.98</td>\n",
       "      <td>-0.17</td>\n",
       "      <td>0.42</td>\n",
       "      <td>0.40</td>\n",
       "      <td>0.34</td>\n",
       "    </tr>\n",
       "    <tr>\n",
       "      <th>Dancourt</th>\n",
       "      <th></th>\n",
       "      <td>0.16</td>\n",
       "      <td>0.62</td>\n",
       "      <td>0.66</td>\n",
       "      <td>1.27</td>\n",
       "      <td>0.94</td>\n",
       "      <td>0.73</td>\n",
       "    </tr>\n",
       "    <tr>\n",
       "      <th>Desforges</th>\n",
       "      <th></th>\n",
       "      <td>0.34</td>\n",
       "      <td>0.39</td>\n",
       "      <td>1.04</td>\n",
       "      <td>0.51</td>\n",
       "      <td>0.19</td>\n",
       "      <td>0.49</td>\n",
       "    </tr>\n",
       "    <tr>\n",
       "      <th>Dorat</th>\n",
       "      <th>Claude-Joseph</th>\n",
       "      <td>0.34</td>\n",
       "      <td>-0.42</td>\n",
       "      <td>0.69</td>\n",
       "      <td>-0.73</td>\n",
       "      <td>-0.15</td>\n",
       "      <td>-0.05</td>\n",
       "    </tr>\n",
       "    <tr>\n",
       "      <th>Nivelle de la Chaussée</th>\n",
       "      <th>Pierre Claude</th>\n",
       "      <td>-0.62</td>\n",
       "      <td>-0.58</td>\n",
       "      <td>-0.35</td>\n",
       "      <td>-0.69</td>\n",
       "      <td>-0.37</td>\n",
       "      <td>-0.52</td>\n",
       "    </tr>\n",
       "    <tr>\n",
       "      <th>Néricault Destouches</th>\n",
       "      <th></th>\n",
       "      <td>-0.05</td>\n",
       "      <td>0.07</td>\n",
       "      <td>0.45</td>\n",
       "      <td>0.35</td>\n",
       "      <td>0.13</td>\n",
       "      <td>0.19</td>\n",
       "    </tr>\n",
       "    <tr>\n",
       "      <th>Regnard</th>\n",
       "      <th>Jean-François</th>\n",
       "      <td>0.51</td>\n",
       "      <td>0.17</td>\n",
       "      <td>0.63</td>\n",
       "      <td>0.69</td>\n",
       "      <td>0.33</td>\n",
       "      <td>0.47</td>\n",
       "    </tr>\n",
       "    <tr>\n",
       "      <th>Rousseau</th>\n",
       "      <th>Jean-Baptiste</th>\n",
       "      <td>0.16</td>\n",
       "      <td>-1.02</td>\n",
       "      <td>0.97</td>\n",
       "      <td>0.95</td>\n",
       "      <td>0.67</td>\n",
       "      <td>0.35</td>\n",
       "    </tr>\n",
       "    <tr>\n",
       "      <th>Voltaire</th>\n",
       "      <th></th>\n",
       "      <td>-0.10</td>\n",
       "      <td>-1.06</td>\n",
       "      <td>0.66</td>\n",
       "      <td>1.03</td>\n",
       "      <td>1.35</td>\n",
       "      <td>0.38</td>\n",
       "    </tr>\n",
       "  </tbody>\n",
       "</table>\n",
       "</div>"
      ],
      "text/plain": [
       "                                      num_present_characters  \\\n",
       "last_name              first_name                              \n",
       "Boissy                 Louis de                        -0.63   \n",
       "Collin d’Harleville    Jean-François                    0.05   \n",
       "Dancourt                                                0.16   \n",
       "Desforges                                               0.34   \n",
       "Dorat                  Claude-Joseph                    0.34   \n",
       "Nivelle de la Chaussée Pierre Claude                   -0.62   \n",
       "Néricault Destouches                                   -0.05   \n",
       "Regnard                Jean-François                    0.51   \n",
       "Rousseau               Jean-Baptiste                    0.16   \n",
       "Voltaire                                               -0.10   \n",
       "\n",
       "                                      mobility_coefficient  sigma_iarkho  \\\n",
       "last_name              first_name                                          \n",
       "Boissy                 Louis de                      -0.33         -0.59   \n",
       "Collin d’Harleville    Jean-François                  0.98         -0.17   \n",
       "Dancourt                                              0.62          0.66   \n",
       "Desforges                                             0.39          1.04   \n",
       "Dorat                  Claude-Joseph                 -0.42          0.69   \n",
       "Nivelle de la Chaussée Pierre Claude                 -0.58         -0.35   \n",
       "Néricault Destouches                                  0.07          0.45   \n",
       "Regnard                Jean-François                  0.17          0.63   \n",
       "Rousseau               Jean-Baptiste                 -1.02          0.97   \n",
       "Voltaire                                             -1.06          0.66   \n",
       "\n",
       "                                      polylogues  monologues  open_form_score  \n",
       "last_name              first_name                                              \n",
       "Boissy                 Louis de            -0.45        0.02            -0.40  \n",
       "Collin d’Harleville    Jean-François        0.42        0.40             0.34  \n",
       "Dancourt                                    1.27        0.94             0.73  \n",
       "Desforges                                   0.51        0.19             0.49  \n",
       "Dorat                  Claude-Joseph       -0.73       -0.15            -0.05  \n",
       "Nivelle de la Chaussée Pierre Claude       -0.69       -0.37            -0.52  \n",
       "Néricault Destouches                        0.35        0.13             0.19  \n",
       "Regnard                Jean-François        0.69        0.33             0.47  \n",
       "Rousseau               Jean-Baptiste        0.95        0.67             0.35  \n",
       "Voltaire                                    1.03        1.35             0.38  "
      ]
     },
     "execution_count": 42,
     "metadata": {},
     "output_type": "execute_result"
    }
   ],
   "source": [
    "playwrights_place(period_two, playwrights_period_two, with_mode=True)"
   ]
  },
  {
   "cell_type": "markdown",
   "metadata": {},
   "source": [
    "### Period Three"
   ]
  },
  {
   "cell_type": "code",
   "execution_count": 43,
   "metadata": {},
   "outputs": [
    {
     "data": {
      "text/html": [
       "<div>\n",
       "<style scoped>\n",
       "    .dataframe tbody tr th:only-of-type {\n",
       "        vertical-align: middle;\n",
       "    }\n",
       "\n",
       "    .dataframe tbody tr th {\n",
       "        vertical-align: top;\n",
       "    }\n",
       "\n",
       "    .dataframe thead th {\n",
       "        text-align: right;\n",
       "    }\n",
       "</style>\n",
       "<table border=\"1\" class=\"dataframe\">\n",
       "  <thead>\n",
       "    <tr style=\"text-align: right;\">\n",
       "      <th></th>\n",
       "      <th></th>\n",
       "      <th>num_present_characters</th>\n",
       "      <th>mobility_coefficient</th>\n",
       "      <th>sigma_iarkho</th>\n",
       "      <th>polylogues</th>\n",
       "      <th>monologues</th>\n",
       "      <th>open_form_score</th>\n",
       "    </tr>\n",
       "    <tr>\n",
       "      <th>last_name</th>\n",
       "      <th>first_name</th>\n",
       "      <th></th>\n",
       "      <th></th>\n",
       "      <th></th>\n",
       "      <th></th>\n",
       "      <th></th>\n",
       "      <th></th>\n",
       "    </tr>\n",
       "  </thead>\n",
       "  <tbody>\n",
       "    <tr>\n",
       "      <th>Bonjour</th>\n",
       "      <th>Casimir</th>\n",
       "      <td>-0.17</td>\n",
       "      <td>1.18</td>\n",
       "      <td>0.55</td>\n",
       "      <td>-0.34</td>\n",
       "      <td>-1.04</td>\n",
       "      <td>0.04</td>\n",
       "    </tr>\n",
       "    <tr>\n",
       "      <th>Collin d’Harleville</th>\n",
       "      <th>Jean-François</th>\n",
       "      <td>-0.26</td>\n",
       "      <td>0.39</td>\n",
       "      <td>-0.27</td>\n",
       "      <td>0.59</td>\n",
       "      <td>0.66</td>\n",
       "      <td>0.22</td>\n",
       "    </tr>\n",
       "    <tr>\n",
       "      <th>Delavigne</th>\n",
       "      <th>Casimir</th>\n",
       "      <td>0.56</td>\n",
       "      <td>-0.81</td>\n",
       "      <td>1.05</td>\n",
       "      <td>-0.09</td>\n",
       "      <td>-0.12</td>\n",
       "      <td>0.12</td>\n",
       "    </tr>\n",
       "    <tr>\n",
       "      <th>Duval</th>\n",
       "      <th>Alexandre</th>\n",
       "      <td>-0.87</td>\n",
       "      <td>-0.82</td>\n",
       "      <td>-0.43</td>\n",
       "      <td>0.24</td>\n",
       "      <td>-0.17</td>\n",
       "      <td>-0.41</td>\n",
       "    </tr>\n",
       "    <tr>\n",
       "      <th>Gosse</th>\n",
       "      <th>Étienne</th>\n",
       "      <td>1.61</td>\n",
       "      <td>2.09</td>\n",
       "      <td>1.15</td>\n",
       "      <td>-0.39</td>\n",
       "      <td>-0.26</td>\n",
       "      <td>0.84</td>\n",
       "    </tr>\n",
       "    <tr>\n",
       "      <th>Picard</th>\n",
       "      <th>Louis-Benoît</th>\n",
       "      <td>0.03</td>\n",
       "      <td>0.37</td>\n",
       "      <td>-0.46</td>\n",
       "      <td>0.11</td>\n",
       "      <td>0.59</td>\n",
       "      <td>0.13</td>\n",
       "    </tr>\n",
       "  </tbody>\n",
       "</table>\n",
       "</div>"
      ],
      "text/plain": [
       "                                   num_present_characters  \\\n",
       "last_name           first_name                              \n",
       "Bonjour             Casimir                         -0.17   \n",
       "Collin d’Harleville Jean-François                   -0.26   \n",
       "Delavigne           Casimir                          0.56   \n",
       "Duval               Alexandre                       -0.87   \n",
       "Gosse               Étienne                          1.61   \n",
       "Picard              Louis-Benoît                     0.03   \n",
       "\n",
       "                                   mobility_coefficient  sigma_iarkho  \\\n",
       "last_name           first_name                                          \n",
       "Bonjour             Casimir                        1.18          0.55   \n",
       "Collin d’Harleville Jean-François                  0.39         -0.27   \n",
       "Delavigne           Casimir                       -0.81          1.05   \n",
       "Duval               Alexandre                     -0.82         -0.43   \n",
       "Gosse               Étienne                        2.09          1.15   \n",
       "Picard              Louis-Benoît                   0.37         -0.46   \n",
       "\n",
       "                                   polylogues  monologues  open_form_score  \n",
       "last_name           first_name                                              \n",
       "Bonjour             Casimir             -0.34       -1.04             0.04  \n",
       "Collin d’Harleville Jean-François        0.59        0.66             0.22  \n",
       "Delavigne           Casimir             -0.09       -0.12             0.12  \n",
       "Duval               Alexandre            0.24       -0.17            -0.41  \n",
       "Gosse               Étienne             -0.39       -0.26             0.84  \n",
       "Picard              Louis-Benoît         0.11        0.59             0.13  "
      ]
     },
     "execution_count": 43,
     "metadata": {},
     "output_type": "execute_result"
    }
   ],
   "source": [
    "playwrights_place(period_three, playwrights_period_three, with_mode=True)"
   ]
  },
  {
   "cell_type": "markdown",
   "metadata": {},
   "source": [
    "#### Z-Scores and Open-Form Scores"
   ]
  },
  {
   "cell_type": "code",
   "execution_count": 44,
   "metadata": {},
   "outputs": [
    {
     "data": {
      "text/html": [
       "<div>\n",
       "<style scoped>\n",
       "    .dataframe tbody tr th:only-of-type {\n",
       "        vertical-align: middle;\n",
       "    }\n",
       "\n",
       "    .dataframe tbody tr th {\n",
       "        vertical-align: top;\n",
       "    }\n",
       "\n",
       "    .dataframe thead th {\n",
       "        text-align: right;\n",
       "    }\n",
       "</style>\n",
       "<table border=\"1\" class=\"dataframe\">\n",
       "  <thead>\n",
       "    <tr style=\"text-align: right;\">\n",
       "      <th></th>\n",
       "      <th></th>\n",
       "      <th>num_present_characters</th>\n",
       "      <th>mobility_coefficient</th>\n",
       "      <th>sigma_iarkho</th>\n",
       "      <th>polylogues</th>\n",
       "      <th>monologues</th>\n",
       "    </tr>\n",
       "    <tr>\n",
       "      <th>last_name</th>\n",
       "      <th>first_name</th>\n",
       "      <th></th>\n",
       "      <th></th>\n",
       "      <th></th>\n",
       "      <th></th>\n",
       "      <th></th>\n",
       "    </tr>\n",
       "  </thead>\n",
       "  <tbody>\n",
       "    <tr>\n",
       "      <th>Bonjour</th>\n",
       "      <th>Casimir</th>\n",
       "      <td>11.40</td>\n",
       "      <td>66.40</td>\n",
       "      <td>1.50</td>\n",
       "      <td>35.10</td>\n",
       "      <td>26.24</td>\n",
       "    </tr>\n",
       "    <tr>\n",
       "      <th>Collin d’Harleville</th>\n",
       "      <th>Jean-François</th>\n",
       "      <td>11.00</td>\n",
       "      <td>58.50</td>\n",
       "      <td>1.24</td>\n",
       "      <td>43.22</td>\n",
       "      <td>16.18</td>\n",
       "    </tr>\n",
       "    <tr>\n",
       "      <th>Delavigne</th>\n",
       "      <th>Casimir</th>\n",
       "      <td>14.50</td>\n",
       "      <td>46.50</td>\n",
       "      <td>1.66</td>\n",
       "      <td>37.35</td>\n",
       "      <td>20.82</td>\n",
       "    </tr>\n",
       "    <tr>\n",
       "      <th>Duval</th>\n",
       "      <th>Alexandre</th>\n",
       "      <td>8.40</td>\n",
       "      <td>46.40</td>\n",
       "      <td>1.19</td>\n",
       "      <td>40.14</td>\n",
       "      <td>21.09</td>\n",
       "    </tr>\n",
       "    <tr>\n",
       "      <th>Gosse</th>\n",
       "      <th>Étienne</th>\n",
       "      <td>19.00</td>\n",
       "      <td>75.50</td>\n",
       "      <td>1.69</td>\n",
       "      <td>34.74</td>\n",
       "      <td>21.63</td>\n",
       "    </tr>\n",
       "    <tr>\n",
       "      <th>Picard</th>\n",
       "      <th>Louis-Benoît</th>\n",
       "      <td>12.25</td>\n",
       "      <td>58.25</td>\n",
       "      <td>1.18</td>\n",
       "      <td>39.01</td>\n",
       "      <td>16.55</td>\n",
       "    </tr>\n",
       "  </tbody>\n",
       "</table>\n",
       "</div>"
      ],
      "text/plain": [
       "                                   num_present_characters  \\\n",
       "last_name           first_name                              \n",
       "Bonjour             Casimir                         11.40   \n",
       "Collin d’Harleville Jean-François                   11.00   \n",
       "Delavigne           Casimir                         14.50   \n",
       "Duval               Alexandre                        8.40   \n",
       "Gosse               Étienne                         19.00   \n",
       "Picard              Louis-Benoît                    12.25   \n",
       "\n",
       "                                   mobility_coefficient  sigma_iarkho  \\\n",
       "last_name           first_name                                          \n",
       "Bonjour             Casimir                       66.40          1.50   \n",
       "Collin d’Harleville Jean-François                 58.50          1.24   \n",
       "Delavigne           Casimir                       46.50          1.66   \n",
       "Duval               Alexandre                     46.40          1.19   \n",
       "Gosse               Étienne                       75.50          1.69   \n",
       "Picard              Louis-Benoît                  58.25          1.18   \n",
       "\n",
       "                                   polylogues  monologues  \n",
       "last_name           first_name                             \n",
       "Bonjour             Casimir             35.10       26.24  \n",
       "Collin d’Harleville Jean-François       43.22       16.18  \n",
       "Delavigne           Casimir             37.35       20.82  \n",
       "Duval               Alexandre           40.14       21.09  \n",
       "Gosse               Étienne             34.74       21.63  \n",
       "Picard              Louis-Benoît        39.01       16.55  "
      ]
     },
     "execution_count": 44,
     "metadata": {},
     "output_type": "execute_result"
    }
   ],
   "source": [
    "playwrights_place(period_three, playwrights_period_three, with_mode=False)"
   ]
  },
  {
   "cell_type": "markdown",
   "metadata": {},
   "source": [
    "## Part 3. The Evolution of Jean-François Collin d’Harleville (1755-805)"
   ]
  },
  {
   "cell_type": "code",
   "execution_count": 45,
   "metadata": {},
   "outputs": [
    {
     "name": "stdout",
     "output_type": "stream",
     "text": [
      "Number dramatic characters in period two: 10.67\n",
      "Number dramatic characters in period three: 11.0\n"
     ]
    }
   ],
   "source": [
    "print('Number dramatic characters in period two:',  \n",
    "      round(period_two[period_two.last_name=='Collin d’Harleville']['num_present_characters'].mean(), 2))\n",
    "print('Number dramatic characters in period three:', \n",
    "      period_three[period_three.last_name=='Collin d’Harleville']['num_present_characters'].mean())"
   ]
  },
  {
   "cell_type": "code",
   "execution_count": 46,
   "metadata": {},
   "outputs": [
    {
     "name": "stdout",
     "output_type": "stream",
     "text": [
      "Mobility coefficient in period two: 60.33\n",
      "Mobility coefficient in period three: 58.5\n"
     ]
    }
   ],
   "source": [
    "print('Mobility coefficient in period two:',\n",
    "      round(period_two[period_two.last_name=='Collin d’Harleville']['mobility_coefficient'].mean(), 2))\n",
    "print('Mobility coefficient in period three:', \n",
    "      period_three[period_three.last_name=='Collin d’Harleville']['mobility_coefficient'].mean())"
   ]
  },
  {
   "cell_type": "code",
   "execution_count": 47,
   "metadata": {},
   "outputs": [
    {
     "name": "stdout",
     "output_type": "stream",
     "text": [
      "Standard range of the number of speaking characters in period two: 1.07\n",
      "Standard range of the number of speaking characters in period three: 1.24\n"
     ]
    }
   ],
   "source": [
    "print('Standard range of the number of speaking characters in period two:', \n",
    "      period_two[period_two.last_name=='Collin d’Harleville'].pipe(speech_distribution_by_period).pipe(sigma_iarkho))\n",
    "print('Standard range of the number of speaking characters in period three:',\n",
    "       period_three[period_three.last_name=='Collin d’Harleville'].pipe(speech_distribution_by_period).pipe(sigma_iarkho))"
   ]
  },
  {
   "cell_type": "code",
   "execution_count": 48,
   "metadata": {},
   "outputs": [
    {
     "name": "stdout",
     "output_type": "stream",
     "text": [
      "The percentage of polylogues in period two: 36.26\n",
      "The percentage of polylogues in period three: 43.22\n"
     ]
    }
   ],
   "source": [
    "print('The percentage of polylogues in period two:', \n",
    "     round(period_two[period_two.last_name=='Collin d’Harleville']['percentage_polylogues'].mean(), 2))\n",
    "print('The percentage of polylogues in period three:',\n",
    "     round(period_three[period_three.last_name=='Collin d’Harleville']['percentage_polylogues'].mean(), 2))"
   ]
  },
  {
   "cell_type": "code",
   "execution_count": 49,
   "metadata": {},
   "outputs": [
    {
     "name": "stdout",
     "output_type": "stream",
     "text": [
      "The percentage of monologues in period two: 18.99\n",
      "The percentage of monologues in period three: 16.18\n"
     ]
    }
   ],
   "source": [
    "print('The percentage of monologues in period two:',\n",
    "     round(period_two[period_two.last_name=='Collin d’Harleville']['percentage_monologues'].mean(), 2))\n",
    "print('The percentage of monologues in period three:',\n",
    "     round(period_three[period_three.last_name=='Collin d’Harleville']['percentage_monologues'].mean(), 2))"
   ]
  },
  {
   "cell_type": "markdown",
   "metadata": {},
   "source": [
    "Collin d’Harleville created comedies in both periods two and three and in both periods. He tended to be amongs more experimental playwrights (his open-form score in period two was 0.34 and in period three it was 0.22).  The evolution of his comedies is fascinating as it echoes broader literary trends in reguards to all features except for mobility coefficient. The number of dramatic characters increases from period two (10.64) to period three (11.96). The mean number of dramatic characters in Collin d’Harleville's comedies increases from 10.67 in period two to 11 in period three. Standard range of the number of speaking characters increases from 1.12 in period two to 1.33 in period three. The standard range in Collin d’Harleville's comedies increases from 1.07 in period two to 1.24 in period three. The percentage of polylogues increases from 31.37 in period two to 37.69 in period three. The percentage of polylogues increases in Collin d’Harleville's comedies increases from 36.26 in period two to 43.22 in period three. The percentage of monologues decreases from 22.08 in period two to 20.35 in period three. The percentage of monologues in Collin d’Harleville's comedies decreases from 18.99 to 16.18. The mobility coefficient increases from 49.56 in period two to 54.31 in period three. Collin d’Harleville's comedies, however, tend to have higher mobility coefficient in period two (60.33) and slightly lower in period three (58.5), but in both cases, he is above the mean mbolity coefficient of the period."
   ]
  },
  {
   "cell_type": "code",
   "execution_count": null,
   "metadata": {},
   "outputs": [],
   "source": []
  }
 ],
 "metadata": {
  "kernelspec": {
   "display_name": "Python 3",
   "language": "python",
   "name": "python3"
  },
  "language_info": {
   "codemirror_mode": {
    "name": "ipython",
    "version": 3
   },
   "file_extension": ".py",
   "mimetype": "text/x-python",
   "name": "python",
   "nbconvert_exporter": "python",
   "pygments_lexer": "ipython3",
   "version": "3.7.6"
  }
 },
 "nbformat": 4,
 "nbformat_minor": 4
}
