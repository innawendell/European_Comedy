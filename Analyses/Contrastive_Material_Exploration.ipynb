{
 "cells": [
  {
   "cell_type": "markdown",
   "metadata": {},
   "source": [
    "## Contrastive Material: Shakespeare, Goldoni, and Kotzebue"
   ]
  },
  {
   "cell_type": "markdown",
   "metadata": {},
   "source": [
    "In this notebook, we explore Shakespeare, Goldoni, and Kotzebue's comedies. The analysis of Goldoni's comedies is based on a 30% stratified random sample. See https://github.com/innawendell/European_Comedy/blob/master/Analyses/Goldoni_Sample.ipynb.\n",
    "\n",
    "We compare these authors based on the following features:\n",
    "- The number of dramatic characters\n",
    "- The mobility coefficient\n",
    "- The standard range of the number of speaking characters (sigma)\n",
    "- The percentage of non-dialogues\n",
    "- The percetage of polylogues\n",
    "- The percentage of monologues\n",
    "- The percentage of discontinuous scenes\n",
    "- The coefficient of unused dramatic characters."
   ]
  },
  {
   "cell_type": "code",
   "execution_count": 1,
   "metadata": {},
   "outputs": [],
   "source": [
    "import pandas as pd\n",
    "import numpy as np\n",
    "import re\n",
    "import matplotlib.pyplot as plt\n",
    "%matplotlib inline\n",
    "import seaborn as sns"
   ]
  },
  {
   "cell_type": "code",
   "execution_count": 2,
   "metadata": {},
   "outputs": [],
   "source": [
    "def make_list(row):\n",
    "    speech_dist = []\n",
    "    for value in row[1:-1].split('\\n '):\n",
    "        speech_dist.append([int(num) for num in re.findall('[0-9]+', value)])\n",
    "        \n",
    "    return speech_dist"
   ]
  },
  {
   "cell_type": "code",
   "execution_count": 3,
   "metadata": {},
   "outputs": [],
   "source": [
    "def speech_distribution_by_author(author_df):\n",
    "    all_distributions = []\n",
    "    for row in author_df['speech_distribution']:\n",
    "        speech_dist_df = pd.DataFrame(row).T\n",
    "        # rename columns to make sure they start with 1 and not 0\n",
    "        speech_dist_df.columns = speech_dist_df.iloc[0, :]\n",
    "        # no need to include the variants as a row - they will be column names\n",
    "        only_counts_df = pd.DataFrame(speech_dist_df.iloc[1, :])\n",
    "        only_counts_df.columns = ['raw_numbers']\n",
    "        only_counts_df['percentage'] = only_counts_df['raw_numbers'] / only_counts_df.sum().values[0]\n",
    "        all_distributions.append(round(only_counts_df['percentage'], 4))\n",
    "    period_df_dist = pd.concat(all_distributions, axis=1).fillna(0)\n",
    "    # take the mean for each period\n",
    "    mean_per_type = pd.DataFrame(period_df_dist.mean(axis=1)).T \n",
    "    mean_per_type.index.name = 'number_of_speakers'\n",
    "    mean_per_type = (mean_per_type * 100).round(2)\n",
    "        \n",
    "    return mean_per_type"
   ]
  },
  {
   "cell_type": "code",
   "execution_count": 4,
   "metadata": {},
   "outputs": [],
   "source": [
    "def sigma_iarkho(df):\n",
    "    \"\"\"\n",
    "    The function allows calculating standard range following iarkho's procedure.\n",
    "    Parameters:\n",
    "        df  - a dataframe where columns are variants, i.e., the distinct number of speakers in the ascending order, \n",
    "              e.g. [1, 2, 3, 4, 5] and values weights corresponding to these variants, i.e.,\n",
    "              the number of scenes, e.g. [20, 32, 18, 9, 1]\n",
    "    Returns:\n",
    "        sigma - standard range per iarkho\n",
    "    \"\"\"\n",
    "    weighted_mean_variants = np.average(df.columns.tolist(), weights=df.values[0])\n",
    "    differences_squared = [(variant - weighted_mean_variants)**2 for variant in df.columns]\n",
    "    weighted_mean_difference = np.average(differences_squared, weights=df.values[0])\n",
    "    sigma = round(weighted_mean_difference**0.5, 2)\n",
    "\n",
    "    return sigma"
   ]
  },
  {
   "cell_type": "code",
   "execution_count": 103,
   "metadata": {},
   "outputs": [],
   "source": [
    "def summary_feature(df, feature):\n",
    "    print('Mean, standard deviation, median, min and max values for the author:')\n",
    "    display(df[feature].describe()[['mean', 'std', '50%','min', 'max']].round(2))\n",
    "    print('Period Max:')\n",
    "    display(df[df[feature] == df[feature].max()][['last_name', 'title', 'date', feature]].round(2))\n",
    "    print('Period Min:')\n",
    "    display(df[df[feature] == df[feature].min()][['last_name', 'title', 'date', feature]].round(2))\n"
   ]
  },
  {
   "cell_type": "code",
   "execution_count": 5,
   "metadata": {},
   "outputs": [],
   "source": [
    "contr_data_df = pd.read_csv('../Contrastive_Material/Contrastive_Material_Data.csv')"
   ]
  },
  {
   "cell_type": "code",
   "execution_count": 6,
   "metadata": {},
   "outputs": [],
   "source": [
    "contr_data_df['speech_distribution'] = contr_data_df['speech_distribution'].apply(make_list)"
   ]
  },
  {
   "cell_type": "code",
   "execution_count": 7,
   "metadata": {},
   "outputs": [],
   "source": [
    "# sort by date\n",
    "sorted_contr_data_df = contr_data_df.sort_values(by='date')"
   ]
  },
  {
   "cell_type": "code",
   "execution_count": 8,
   "metadata": {},
   "outputs": [],
   "source": [
    "sorted_contr_data_df  = sorted_contr_data_df.rename(columns={'num_scenes_iarkho': 'mobility_coefficient', \n",
    "                                                           'percentage_non_duologues': 'percentage_non_dialogues',\n",
    "                                                           'percentage_above_two_speakers': 'percentage_polylogues',\n",
    "                                                            'percentage_scenes_with_discontinuous_change_characters': \n",
    "                                                            'discontinuous_scenes'\n",
    "                                                            })\n"
   ]
  },
  {
   "cell_type": "code",
   "execution_count": 9,
   "metadata": {},
   "outputs": [],
   "source": [
    "sorted_contr_data_df['date'] = sorted_contr_data_df['date'].astype('int')"
   ]
  },
  {
   "cell_type": "code",
   "execution_count": 10,
   "metadata": {},
   "outputs": [],
   "source": [
    "sorted_contr_data_df['last_name'] = sorted_contr_data_df['last_name'].str.strip()"
   ]
  },
  {
   "cell_type": "markdown",
   "metadata": {},
   "source": [
    "## Part I. William Shakespeare (1582 - 1616)"
   ]
  },
  {
   "cell_type": "code",
   "execution_count": 11,
   "metadata": {},
   "outputs": [],
   "source": [
    "shakespeare_df = sorted_contr_data_df[sorted_contr_data_df.last_name == 'Shakespeare'].copy()"
   ]
  },
  {
   "cell_type": "code",
   "execution_count": 12,
   "metadata": {},
   "outputs": [
    {
     "data": {
      "text/plain": [
       "Index(['index', 'title', 'last_name', 'first_name', 'date', 'num_acts', 'url',\n",
       "       'num_present_characters', 'num_scenes_text', 'mobility_coefficient',\n",
       "       'speech_distribution', 'percentage_monologues', 'percentage_duologues',\n",
       "       'percentage_non_dialogues', 'percentage_polylogues',\n",
       "       'av_percentage_non_speakers', 'sigma_iarkho',\n",
       "       'number_scenes_with_discontinuous_change_characters',\n",
       "       'discontinuous_scenes', 'coefficient_unused'],\n",
       "      dtype='object')"
      ]
     },
     "execution_count": 12,
     "metadata": {},
     "output_type": "execute_result"
    }
   ],
   "source": [
    "shakespeare_df.columns"
   ]
  },
  {
   "cell_type": "code",
   "execution_count": 13,
   "metadata": {},
   "outputs": [
    {
     "data": {
      "text/html": [
       "<div>\n",
       "<style scoped>\n",
       "    .dataframe tbody tr th:only-of-type {\n",
       "        vertical-align: middle;\n",
       "    }\n",
       "\n",
       "    .dataframe tbody tr th {\n",
       "        vertical-align: top;\n",
       "    }\n",
       "\n",
       "    .dataframe thead th {\n",
       "        text-align: right;\n",
       "    }\n",
       "</style>\n",
       "<table border=\"1\" class=\"dataframe\">\n",
       "  <thead>\n",
       "    <tr style=\"text-align: right;\">\n",
       "      <th></th>\n",
       "      <th>index</th>\n",
       "      <th>title</th>\n",
       "      <th>last_name</th>\n",
       "      <th>first_name</th>\n",
       "      <th>date</th>\n",
       "      <th>num_acts</th>\n",
       "      <th>url</th>\n",
       "      <th>num_present_characters</th>\n",
       "      <th>num_scenes_text</th>\n",
       "      <th>mobility_coefficient</th>\n",
       "      <th>speech_distribution</th>\n",
       "      <th>percentage_monologues</th>\n",
       "      <th>percentage_duologues</th>\n",
       "      <th>percentage_non_dialogues</th>\n",
       "      <th>percentage_polylogues</th>\n",
       "      <th>av_percentage_non_speakers</th>\n",
       "      <th>sigma_iarkho</th>\n",
       "      <th>number_scenes_with_discontinuous_change_characters</th>\n",
       "      <th>discontinuous_scenes</th>\n",
       "      <th>coefficient_unused</th>\n",
       "    </tr>\n",
       "  </thead>\n",
       "  <tbody>\n",
       "    <tr>\n",
       "      <th>0</th>\n",
       "      <td>C_1</td>\n",
       "      <td>The Comedy of Errors</td>\n",
       "      <td>Shakespeare</td>\n",
       "      <td>William</td>\n",
       "      <td>1592</td>\n",
       "      <td>5.0</td>\n",
       "      <td>https://dracor.org/api/corpora/shake/play/the-...</td>\n",
       "      <td>19.0</td>\n",
       "      <td>11.0</td>\n",
       "      <td>53.0</td>\n",
       "      <td>[[1, 11], [2, 17], [3, 13], [4, 6], [5, 2], [6...</td>\n",
       "      <td>20.75</td>\n",
       "      <td>32.08</td>\n",
       "      <td>67.92</td>\n",
       "      <td>47.17</td>\n",
       "      <td>22.182</td>\n",
       "      <td>1.823</td>\n",
       "      <td>9.0</td>\n",
       "      <td>16.981</td>\n",
       "      <td>33.48</td>\n",
       "    </tr>\n",
       "    <tr>\n",
       "      <th>1</th>\n",
       "      <td>C_3</td>\n",
       "      <td>The Two Gentlemen of Verona</td>\n",
       "      <td>Shakespeare</td>\n",
       "      <td>William</td>\n",
       "      <td>1593</td>\n",
       "      <td>5.0</td>\n",
       "      <td>https://dracor.org/api/corpora/shake/play/two-...</td>\n",
       "      <td>17.0</td>\n",
       "      <td>20.0</td>\n",
       "      <td>71.0</td>\n",
       "      <td>[[1, 24], [2, 32], [3, 9], [4, 4], [5, 1], [6,...</td>\n",
       "      <td>33.80</td>\n",
       "      <td>45.07</td>\n",
       "      <td>54.93</td>\n",
       "      <td>21.13</td>\n",
       "      <td>14.272</td>\n",
       "      <td>1.021</td>\n",
       "      <td>19.0</td>\n",
       "      <td>26.761</td>\n",
       "      <td>21.11</td>\n",
       "    </tr>\n",
       "    <tr>\n",
       "      <th>2</th>\n",
       "      <td>C_4</td>\n",
       "      <td>Love’s Labor’s Lost</td>\n",
       "      <td>Shakespeare</td>\n",
       "      <td>William</td>\n",
       "      <td>1595</td>\n",
       "      <td>5.0</td>\n",
       "      <td>https://dracor.org/api/corpora/shake/play/love...</td>\n",
       "      <td>23.0</td>\n",
       "      <td>9.0</td>\n",
       "      <td>61.0</td>\n",
       "      <td>[[1, 9], [2, 17], [3, 13], [4, 8], [5, 7], [6,...</td>\n",
       "      <td>14.75</td>\n",
       "      <td>27.87</td>\n",
       "      <td>72.13</td>\n",
       "      <td>57.38</td>\n",
       "      <td>32.540</td>\n",
       "      <td>1.890</td>\n",
       "      <td>8.0</td>\n",
       "      <td>13.115</td>\n",
       "      <td>46.93</td>\n",
       "    </tr>\n",
       "    <tr>\n",
       "      <th>3</th>\n",
       "      <td>C_5</td>\n",
       "      <td>The Merchant of Venice</td>\n",
       "      <td>Shakespeare</td>\n",
       "      <td>William</td>\n",
       "      <td>1596</td>\n",
       "      <td>5.0</td>\n",
       "      <td>https://dracor.org/api/corpora/shake/play/the-...</td>\n",
       "      <td>24.0</td>\n",
       "      <td>20.0</td>\n",
       "      <td>75.0</td>\n",
       "      <td>[[1, 14], [2, 38], [3, 14], [4, 3], [5, 3], [6...</td>\n",
       "      <td>18.67</td>\n",
       "      <td>50.67</td>\n",
       "      <td>49.33</td>\n",
       "      <td>30.67</td>\n",
       "      <td>32.173</td>\n",
       "      <td>1.230</td>\n",
       "      <td>16.0</td>\n",
       "      <td>21.333</td>\n",
       "      <td>41.06</td>\n",
       "    </tr>\n",
       "    <tr>\n",
       "      <th>4</th>\n",
       "      <td>C_6</td>\n",
       "      <td>A Midsummer Night's Dream</td>\n",
       "      <td>Shakespeare</td>\n",
       "      <td>William</td>\n",
       "      <td>1596</td>\n",
       "      <td>5.0</td>\n",
       "      <td>https://dracor.org/api/corpora/shake/play/a-mi...</td>\n",
       "      <td>28.0</td>\n",
       "      <td>9.0</td>\n",
       "      <td>87.0</td>\n",
       "      <td>[[1, 28], [2, 31], [3, 13], [4, 9], [5, 2], [6...</td>\n",
       "      <td>32.18</td>\n",
       "      <td>35.63</td>\n",
       "      <td>64.37</td>\n",
       "      <td>32.18</td>\n",
       "      <td>42.766</td>\n",
       "      <td>1.321</td>\n",
       "      <td>10.0</td>\n",
       "      <td>11.494</td>\n",
       "      <td>53.40</td>\n",
       "    </tr>\n",
       "  </tbody>\n",
       "</table>\n",
       "</div>"
      ],
      "text/plain": [
       "  index                        title    last_name first_name  date  num_acts  \\\n",
       "0   C_1         The Comedy of Errors  Shakespeare    William  1592       5.0   \n",
       "1   C_3  The Two Gentlemen of Verona  Shakespeare    William  1593       5.0   \n",
       "2   C_4          Love’s Labor’s Lost  Shakespeare    William  1595       5.0   \n",
       "3   C_5       The Merchant of Venice  Shakespeare    William  1596       5.0   \n",
       "4   C_6    A Midsummer Night's Dream  Shakespeare    William  1596       5.0   \n",
       "\n",
       "                                                 url  num_present_characters  \\\n",
       "0  https://dracor.org/api/corpora/shake/play/the-...                    19.0   \n",
       "1  https://dracor.org/api/corpora/shake/play/two-...                    17.0   \n",
       "2  https://dracor.org/api/corpora/shake/play/love...                    23.0   \n",
       "3  https://dracor.org/api/corpora/shake/play/the-...                    24.0   \n",
       "4  https://dracor.org/api/corpora/shake/play/a-mi...                    28.0   \n",
       "\n",
       "   num_scenes_text  mobility_coefficient  \\\n",
       "0             11.0                  53.0   \n",
       "1             20.0                  71.0   \n",
       "2              9.0                  61.0   \n",
       "3             20.0                  75.0   \n",
       "4              9.0                  87.0   \n",
       "\n",
       "                                 speech_distribution  percentage_monologues  \\\n",
       "0  [[1, 11], [2, 17], [3, 13], [4, 6], [5, 2], [6...                  20.75   \n",
       "1  [[1, 24], [2, 32], [3, 9], [4, 4], [5, 1], [6,...                  33.80   \n",
       "2  [[1, 9], [2, 17], [3, 13], [4, 8], [5, 7], [6,...                  14.75   \n",
       "3  [[1, 14], [2, 38], [3, 14], [4, 3], [5, 3], [6...                  18.67   \n",
       "4  [[1, 28], [2, 31], [3, 13], [4, 9], [5, 2], [6...                  32.18   \n",
       "\n",
       "   percentage_duologues  percentage_non_dialogues  percentage_polylogues  \\\n",
       "0                 32.08                     67.92                  47.17   \n",
       "1                 45.07                     54.93                  21.13   \n",
       "2                 27.87                     72.13                  57.38   \n",
       "3                 50.67                     49.33                  30.67   \n",
       "4                 35.63                     64.37                  32.18   \n",
       "\n",
       "   av_percentage_non_speakers  sigma_iarkho  \\\n",
       "0                      22.182         1.823   \n",
       "1                      14.272         1.021   \n",
       "2                      32.540         1.890   \n",
       "3                      32.173         1.230   \n",
       "4                      42.766         1.321   \n",
       "\n",
       "   number_scenes_with_discontinuous_change_characters  discontinuous_scenes  \\\n",
       "0                                                9.0                 16.981   \n",
       "1                                               19.0                 26.761   \n",
       "2                                                8.0                 13.115   \n",
       "3                                               16.0                 21.333   \n",
       "4                                               10.0                 11.494   \n",
       "\n",
       "   coefficient_unused  \n",
       "0               33.48  \n",
       "1               21.11  \n",
       "2               46.93  \n",
       "3               41.06  \n",
       "4               53.40  "
      ]
     },
     "execution_count": 13,
     "metadata": {},
     "output_type": "execute_result"
    }
   ],
   "source": [
    "shakespeare_df.head()"
   ]
  },
  {
   "cell_type": "code",
   "execution_count": 14,
   "metadata": {},
   "outputs": [
    {
     "data": {
      "text/plain": [
       "(12, 20)"
      ]
     },
     "execution_count": 14,
     "metadata": {},
     "output_type": "execute_result"
    }
   ],
   "source": [
    "shakespeare_df.shape"
   ]
  },
  {
   "cell_type": "markdown",
   "metadata": {},
   "source": [
    "## The Number of Dramatic Characters"
   ]
  },
  {
   "cell_type": "code",
   "execution_count": 130,
   "metadata": {},
   "outputs": [
    {
     "data": {
      "image/png": "[encoded data removed]",
      "text/plain": [
       "<Figure size 720x432 with 1 Axes>"
      ]
     },
     "metadata": {
      "needs_background": "light"
     },
     "output_type": "display_data"
    }
   ],
   "source": [
    "plt.figure(figsize=(10, 6))\n",
    "plt.title('The Number of Dramatic Characters in Shakespeare\\'s Comedies', fontsize=14)\n",
    "\n",
    "sns.scatterplot('date', 'num_present_characters', \n",
    "                data=shakespeare_df, \n",
    "                color='blue' \n",
    "                )\n",
    "plt.xticks([year for year in range(shakespeare_df.date.min(), \n",
    "                                   shakespeare_df.date.max()+1)])\n",
    "plt.xlabel('Creation Date', fontsize=12)\n",
    "plt.ylabel('Number of Dramatic Characters', fontsize=12)\n",
    "plt.show()"
   ]
  },
  {
   "cell_type": "code",
   "execution_count": 132,
   "metadata": {},
   "outputs": [
    {
     "data": {
      "image/png": "[encoded data removed]",
      "text/plain": [
       "<Figure size 720x432 with 1 Axes>"
      ]
     },
     "metadata": {
      "needs_background": "light"
     },
     "output_type": "display_data"
    }
   ],
   "source": [
    "plt.figure(figsize=(10, 6))\n",
    "plt.title('The Number of Dramatic Characters in Shakespeare\\'s Comedies', fontsize=14)\n",
    "sns.boxplot(shakespeare_df['num_present_characters'])\n",
    "plt.show()"
   ]
  },
  {
   "cell_type": "code",
   "execution_count": 104,
   "metadata": {},
   "outputs": [
    {
     "name": "stdout",
     "output_type": "stream",
     "text": [
      "Mean, standard deviation, median, min and max values for the author:\n"
     ]
    },
    {
     "data": {
      "text/plain": [
       "mean    25.83\n",
       "std      7.15\n",
       "50%     24.00\n",
       "min     17.00\n",
       "max     42.00\n",
       "Name: num_present_characters, dtype: float64"
      ]
     },
     "metadata": {},
     "output_type": "display_data"
    },
    {
     "name": "stdout",
     "output_type": "stream",
     "text": [
      "Period Max:\n"
     ]
    },
    {
     "data": {
      "text/html": [
       "<div>\n",
       "<style scoped>\n",
       "    .dataframe tbody tr th:only-of-type {\n",
       "        vertical-align: middle;\n",
       "    }\n",
       "\n",
       "    .dataframe tbody tr th {\n",
       "        vertical-align: top;\n",
       "    }\n",
       "\n",
       "    .dataframe thead th {\n",
       "        text-align: right;\n",
       "    }\n",
       "</style>\n",
       "<table border=\"1\" class=\"dataframe\">\n",
       "  <thead>\n",
       "    <tr style=\"text-align: right;\">\n",
       "      <th></th>\n",
       "      <th>last_name</th>\n",
       "      <th>title</th>\n",
       "      <th>date</th>\n",
       "      <th>num_present_characters</th>\n",
       "    </tr>\n",
       "  </thead>\n",
       "  <tbody>\n",
       "    <tr>\n",
       "      <th>10</th>\n",
       "      <td>Shakespeare</td>\n",
       "      <td>Cymbeline</td>\n",
       "      <td>1609</td>\n",
       "      <td>42.0</td>\n",
       "    </tr>\n",
       "  </tbody>\n",
       "</table>\n",
       "</div>"
      ],
      "text/plain": [
       "      last_name      title  date  num_present_characters\n",
       "10  Shakespeare  Cymbeline  1609                    42.0"
      ]
     },
     "metadata": {},
     "output_type": "display_data"
    },
    {
     "name": "stdout",
     "output_type": "stream",
     "text": [
      "Period Min:\n"
     ]
    },
    {
     "data": {
      "text/html": [
       "<div>\n",
       "<style scoped>\n",
       "    .dataframe tbody tr th:only-of-type {\n",
       "        vertical-align: middle;\n",
       "    }\n",
       "\n",
       "    .dataframe tbody tr th {\n",
       "        vertical-align: top;\n",
       "    }\n",
       "\n",
       "    .dataframe thead th {\n",
       "        text-align: right;\n",
       "    }\n",
       "</style>\n",
       "<table border=\"1\" class=\"dataframe\">\n",
       "  <thead>\n",
       "    <tr style=\"text-align: right;\">\n",
       "      <th></th>\n",
       "      <th>last_name</th>\n",
       "      <th>title</th>\n",
       "      <th>date</th>\n",
       "      <th>num_present_characters</th>\n",
       "    </tr>\n",
       "  </thead>\n",
       "  <tbody>\n",
       "    <tr>\n",
       "      <th>1</th>\n",
       "      <td>Shakespeare</td>\n",
       "      <td>The Two Gentlemen of Verona</td>\n",
       "      <td>1593</td>\n",
       "      <td>17.0</td>\n",
       "    </tr>\n",
       "  </tbody>\n",
       "</table>\n",
       "</div>"
      ],
      "text/plain": [
       "     last_name                        title  date  num_present_characters\n",
       "1  Shakespeare  The Two Gentlemen of Verona  1593                    17.0"
      ]
     },
     "metadata": {},
     "output_type": "display_data"
    }
   ],
   "source": [
    "summary_feature(shakespeare_df, 'num_present_characters')"
   ]
  },
  {
   "cell_type": "markdown",
   "metadata": {},
   "source": [
    "The number of dramatic characters in Shakespeare's comedies grew over time. The mean number of dramatic characters is **25.83**. The minimum number was **17** (in *The Two Gentlemen of Verona* (1593)) and the maximum **42** (in *Cymbeline* (1609))."
   ]
  },
  {
   "cell_type": "markdown",
   "metadata": {},
   "source": [
    "## Mobility Coefficient"
   ]
  },
  {
   "cell_type": "code",
   "execution_count": 136,
   "metadata": {},
   "outputs": [
    {
     "data": {
      "image/png": "[encoded data removed]",
      "text/plain": [
       "<Figure size 720x432 with 1 Axes>"
      ]
     },
     "metadata": {
      "needs_background": "light"
     },
     "output_type": "display_data"
    }
   ],
   "source": [
    "plt.figure(figsize=(10, 6))\n",
    "plt.title('The Mobility Coefficient in Shakespeare\\'s Comedies', fontsize=14)\n",
    "\n",
    "sns.scatterplot('date', 'mobility_coefficient', \n",
    "                data=shakespeare_df, \n",
    "                color='blue', \n",
    "                )\n",
    "plt.xticks([year for year in range(shakespeare_df.date.min(), \n",
    "                                   shakespeare_df.date.max()+1)])\n",
    "\n",
    "plt.xlabel('Creation Date', fontsize=12)\n",
    "plt.ylabel('Mobility Coefficient', fontsize=12)\n",
    "plt.show()"
   ]
  },
  {
   "cell_type": "code",
   "execution_count": 137,
   "metadata": {},
   "outputs": [
    {
     "data": {
      "image/png": "[encoded data removed]",
      "text/plain": [
       "<Figure size 720x432 with 1 Axes>"
      ]
     },
     "metadata": {
      "needs_background": "light"
     },
     "output_type": "display_data"
    }
   ],
   "source": [
    "plt.figure(figsize=(10, 6))\n",
    "plt.title('The Mobility Coefficient in Shakespeare\\'s Comedies', fontsize=14)\n",
    "sns.boxplot(shakespeare_df['mobility_coefficient'])\n",
    "plt.show()"
   ]
  },
  {
   "cell_type": "code",
   "execution_count": 105,
   "metadata": {},
   "outputs": [
    {
     "name": "stdout",
     "output_type": "stream",
     "text": [
      "Mean, standard deviation, median, min and max values for the author:\n"
     ]
    },
    {
     "data": {
      "text/plain": [
       "mean     78.00\n",
       "std      16.68\n",
       "50%      74.00\n",
       "min      53.00\n",
       "max     107.00\n",
       "Name: mobility_coefficient, dtype: float64"
      ]
     },
     "metadata": {},
     "output_type": "display_data"
    },
    {
     "name": "stdout",
     "output_type": "stream",
     "text": [
      "Period Max:\n"
     ]
    },
    {
     "data": {
      "text/html": [
       "<div>\n",
       "<style scoped>\n",
       "    .dataframe tbody tr th:only-of-type {\n",
       "        vertical-align: middle;\n",
       "    }\n",
       "\n",
       "    .dataframe tbody tr th {\n",
       "        vertical-align: top;\n",
       "    }\n",
       "\n",
       "    .dataframe thead th {\n",
       "        text-align: right;\n",
       "    }\n",
       "</style>\n",
       "<table border=\"1\" class=\"dataframe\">\n",
       "  <thead>\n",
       "    <tr style=\"text-align: right;\">\n",
       "      <th></th>\n",
       "      <th>last_name</th>\n",
       "      <th>title</th>\n",
       "      <th>date</th>\n",
       "      <th>mobility_coefficient</th>\n",
       "    </tr>\n",
       "  </thead>\n",
       "  <tbody>\n",
       "    <tr>\n",
       "      <th>10</th>\n",
       "      <td>Shakespeare</td>\n",
       "      <td>Cymbeline</td>\n",
       "      <td>1609</td>\n",
       "      <td>107.0</td>\n",
       "    </tr>\n",
       "  </tbody>\n",
       "</table>\n",
       "</div>"
      ],
      "text/plain": [
       "      last_name      title  date  mobility_coefficient\n",
       "10  Shakespeare  Cymbeline  1609                 107.0"
      ]
     },
     "metadata": {},
     "output_type": "display_data"
    },
    {
     "name": "stdout",
     "output_type": "stream",
     "text": [
      "Period Min:\n"
     ]
    },
    {
     "data": {
      "text/html": [
       "<div>\n",
       "<style scoped>\n",
       "    .dataframe tbody tr th:only-of-type {\n",
       "        vertical-align: middle;\n",
       "    }\n",
       "\n",
       "    .dataframe tbody tr th {\n",
       "        vertical-align: top;\n",
       "    }\n",
       "\n",
       "    .dataframe thead th {\n",
       "        text-align: right;\n",
       "    }\n",
       "</style>\n",
       "<table border=\"1\" class=\"dataframe\">\n",
       "  <thead>\n",
       "    <tr style=\"text-align: right;\">\n",
       "      <th></th>\n",
       "      <th>last_name</th>\n",
       "      <th>title</th>\n",
       "      <th>date</th>\n",
       "      <th>mobility_coefficient</th>\n",
       "    </tr>\n",
       "  </thead>\n",
       "  <tbody>\n",
       "    <tr>\n",
       "      <th>0</th>\n",
       "      <td>Shakespeare</td>\n",
       "      <td>The Comedy of Errors</td>\n",
       "      <td>1592</td>\n",
       "      <td>53.0</td>\n",
       "    </tr>\n",
       "  </tbody>\n",
       "</table>\n",
       "</div>"
      ],
      "text/plain": [
       "     last_name                 title  date  mobility_coefficient\n",
       "0  Shakespeare  The Comedy of Errors  1592                  53.0"
      ]
     },
     "metadata": {},
     "output_type": "display_data"
    }
   ],
   "source": [
    "summary_feature(shakespeare_df, 'mobility_coefficient')"
   ]
  },
  {
   "cell_type": "markdown",
   "metadata": {},
   "source": [
    "Overall, the mobility coefficent also increased over time. The average mobility coefficient in Shakespeare's comedies was **78**. The minumum mobility coefficient was **53** (*The Comedy of Errors* (1592)) and the maximum **107** (*Cymbeline* (1609)). The latter had the highest number of dramatic characters and was the most mobile of all Shakespeare's comedies."
   ]
  },
  {
   "cell_type": "markdown",
   "metadata": {},
   "source": [
    "## Speech Distribution in Shakespeare's Comedies"
   ]
  },
  {
   "cell_type": "code",
   "execution_count": 20,
   "metadata": {},
   "outputs": [],
   "source": [
    "speech_dist_shakespeare = speech_distribution_by_author(shakespeare_df)"
   ]
  },
  {
   "cell_type": "code",
   "execution_count": 21,
   "metadata": {},
   "outputs": [
    {
     "data": {
      "text/html": [
       "<div>\n",
       "<style scoped>\n",
       "    .dataframe tbody tr th:only-of-type {\n",
       "        vertical-align: middle;\n",
       "    }\n",
       "\n",
       "    .dataframe tbody tr th {\n",
       "        vertical-align: top;\n",
       "    }\n",
       "\n",
       "    .dataframe thead th {\n",
       "        text-align: right;\n",
       "    }\n",
       "</style>\n",
       "<table border=\"1\" class=\"dataframe\">\n",
       "  <thead>\n",
       "    <tr style=\"text-align: right;\">\n",
       "      <th></th>\n",
       "      <th>0</th>\n",
       "      <th>1</th>\n",
       "      <th>2</th>\n",
       "      <th>3</th>\n",
       "      <th>4</th>\n",
       "      <th>5</th>\n",
       "      <th>6</th>\n",
       "      <th>7</th>\n",
       "      <th>8</th>\n",
       "      <th>9</th>\n",
       "      <th>10</th>\n",
       "      <th>11</th>\n",
       "    </tr>\n",
       "    <tr>\n",
       "      <th>number_of_speakers</th>\n",
       "      <th></th>\n",
       "      <th></th>\n",
       "      <th></th>\n",
       "      <th></th>\n",
       "      <th></th>\n",
       "      <th></th>\n",
       "      <th></th>\n",
       "      <th></th>\n",
       "      <th></th>\n",
       "      <th></th>\n",
       "      <th></th>\n",
       "      <th></th>\n",
       "    </tr>\n",
       "  </thead>\n",
       "  <tbody>\n",
       "    <tr>\n",
       "      <th>0</th>\n",
       "      <td>0.36</td>\n",
       "      <td>23.56</td>\n",
       "      <td>38.24</td>\n",
       "      <td>20.32</td>\n",
       "      <td>9.91</td>\n",
       "      <td>3.95</td>\n",
       "      <td>2.31</td>\n",
       "      <td>0.33</td>\n",
       "      <td>0.36</td>\n",
       "      <td>0.43</td>\n",
       "      <td>0.16</td>\n",
       "      <td>0.08</td>\n",
       "    </tr>\n",
       "  </tbody>\n",
       "</table>\n",
       "</div>"
      ],
      "text/plain": [
       "0                     0      1      2      3     4     5     6     7     8   \\\n",
       "number_of_speakers                                                            \n",
       "0                   0.36  23.56  38.24  20.32  9.91  3.95  2.31  0.33  0.36   \n",
       "\n",
       "0                     9     10    11  \n",
       "number_of_speakers                    \n",
       "0                   0.43  0.16  0.08  "
      ]
     },
     "execution_count": 21,
     "metadata": {},
     "output_type": "execute_result"
    }
   ],
   "source": [
    "speech_dist_shakespeare"
   ]
  },
  {
   "cell_type": "code",
   "execution_count": 22,
   "metadata": {},
   "outputs": [
    {
     "name": "stdout",
     "output_type": "stream",
     "text": [
      "The standard range of the number of speaking characters: 1.4\n"
     ]
    }
   ],
   "source": [
    "print('The standard range of the number of speaking characters:', \n",
    "      round(sigma_iarkho(speech_dist_shakespeare), 2))"
   ]
  },
  {
   "cell_type": "code",
   "execution_count": 23,
   "metadata": {},
   "outputs": [
    {
     "data": {
      "image/png": "[encoded data removed]",
      "text/plain": [
       "<Figure size 720x360 with 1 Axes>"
      ]
     },
     "metadata": {
      "needs_background": "light"
     },
     "output_type": "display_data"
    }
   ],
   "source": [
    "plt.figure(figsize=(10, 5))\n",
    "plt.title('Speech Distribution in Shakespeare\\'s Comedies', fontsize=14)\n",
    "sns.barplot(speech_dist_shakespeare.columns.tolist(), \n",
    "            speech_dist_shakespeare.values.tolist()[0])\n",
    "plt.xlabel('Number of Speakers', fontsize=12)\n",
    "plt.ylabel('Percentage of Scenes', fontsize=12)\n",
    "\n",
    "plt.show()"
   ]
  },
  {
   "cell_type": "markdown",
   "metadata": {},
   "source": [
    "Shakespeare's comedies had a rather wide range of the number of speakers: from zero (scenes where no one is speaking) to **11**. Dialogue, however, is still a dominant form with **38.24%**. Monologue is also quite prominent (**23.56%** of scenes). Sigma was **1.4**."
   ]
  },
  {
   "cell_type": "markdown",
   "metadata": {},
   "source": [
    "## The Percentage of Non-Dialogues"
   ]
  },
  {
   "cell_type": "code",
   "execution_count": 24,
   "metadata": {},
   "outputs": [
    {
     "data": {
      "image/png": "[encoded data removed]",
      "text/plain": [
       "<Figure size 720x432 with 1 Axes>"
      ]
     },
     "metadata": {
      "needs_background": "light"
     },
     "output_type": "display_data"
    }
   ],
   "source": [
    "plt.figure(figsize=(10, 6))\n",
    "plt.title('The Evolution of the Percentage of Non-Dialogues in Shakespeare\\'s Comedies', fontsize=14)\n",
    "sns.scatterplot('date', 'percentage_non_dialogues', data=shakespeare_df, color='blue')\n",
    "plt.xticks([year for year in range(shakespeare_df.date.min(), \n",
    "                                   shakespeare_df.date.max()+1)])\n",
    "plt.xlabel('Creation Date', fontsize=12)\n",
    "plt.ylabel('The Percentage of Non-Dialogues', fontsize=12)\n",
    "plt.show()"
   ]
  },
  {
   "cell_type": "code",
   "execution_count": 106,
   "metadata": {},
   "outputs": [
    {
     "name": "stdout",
     "output_type": "stream",
     "text": [
      "Mean, standard deviation, median, min and max values for the author:\n"
     ]
    },
    {
     "data": {
      "text/plain": [
       "mean    61.76\n",
       "std      7.56\n",
       "50%     63.28\n",
       "min     49.33\n",
       "max     72.13\n",
       "Name: percentage_non_dialogues, dtype: float64"
      ]
     },
     "metadata": {},
     "output_type": "display_data"
    },
    {
     "name": "stdout",
     "output_type": "stream",
     "text": [
      "Period Max:\n"
     ]
    },
    {
     "data": {
      "text/html": [
       "<div>\n",
       "<style scoped>\n",
       "    .dataframe tbody tr th:only-of-type {\n",
       "        vertical-align: middle;\n",
       "    }\n",
       "\n",
       "    .dataframe tbody tr th {\n",
       "        vertical-align: top;\n",
       "    }\n",
       "\n",
       "    .dataframe thead th {\n",
       "        text-align: right;\n",
       "    }\n",
       "</style>\n",
       "<table border=\"1\" class=\"dataframe\">\n",
       "  <thead>\n",
       "    <tr style=\"text-align: right;\">\n",
       "      <th></th>\n",
       "      <th>last_name</th>\n",
       "      <th>title</th>\n",
       "      <th>date</th>\n",
       "      <th>percentage_non_dialogues</th>\n",
       "    </tr>\n",
       "  </thead>\n",
       "  <tbody>\n",
       "    <tr>\n",
       "      <th>2</th>\n",
       "      <td>Shakespeare</td>\n",
       "      <td>Love’s Labor’s Lost</td>\n",
       "      <td>1595</td>\n",
       "      <td>72.13</td>\n",
       "    </tr>\n",
       "  </tbody>\n",
       "</table>\n",
       "</div>"
      ],
      "text/plain": [
       "     last_name                title  date  percentage_non_dialogues\n",
       "2  Shakespeare  Love’s Labor’s Lost  1595                     72.13"
      ]
     },
     "metadata": {},
     "output_type": "display_data"
    },
    {
     "name": "stdout",
     "output_type": "stream",
     "text": [
      "Period Min:\n"
     ]
    },
    {
     "data": {
      "text/html": [
       "<div>\n",
       "<style scoped>\n",
       "    .dataframe tbody tr th:only-of-type {\n",
       "        vertical-align: middle;\n",
       "    }\n",
       "\n",
       "    .dataframe tbody tr th {\n",
       "        vertical-align: top;\n",
       "    }\n",
       "\n",
       "    .dataframe thead th {\n",
       "        text-align: right;\n",
       "    }\n",
       "</style>\n",
       "<table border=\"1\" class=\"dataframe\">\n",
       "  <thead>\n",
       "    <tr style=\"text-align: right;\">\n",
       "      <th></th>\n",
       "      <th>last_name</th>\n",
       "      <th>title</th>\n",
       "      <th>date</th>\n",
       "      <th>percentage_non_dialogues</th>\n",
       "    </tr>\n",
       "  </thead>\n",
       "  <tbody>\n",
       "    <tr>\n",
       "      <th>3</th>\n",
       "      <td>Shakespeare</td>\n",
       "      <td>The Merchant of Venice</td>\n",
       "      <td>1596</td>\n",
       "      <td>49.33</td>\n",
       "    </tr>\n",
       "  </tbody>\n",
       "</table>\n",
       "</div>"
      ],
      "text/plain": [
       "     last_name                   title  date  percentage_non_dialogues\n",
       "3  Shakespeare  The Merchant of Venice  1596                     49.33"
      ]
     },
     "metadata": {},
     "output_type": "display_data"
    }
   ],
   "source": [
    "summary_feature(shakespeare_df, 'percentage_non_dialogues')"
   ]
  },
  {
   "cell_type": "markdown",
   "metadata": {},
   "source": [
    "We cannot tell if there is a clear historical development of the percentage of non-dialogues in Shakespeare's comedies. The average percentage of non-dialogues was **61.76%**. The minimum percentage of non-dialogues was **49.33%** (*The Merchant of Venice* (1596)), the maximum **72.13%** (*Love’s Labor’s Lost* (1595))."
   ]
  },
  {
   "cell_type": "markdown",
   "metadata": {},
   "source": [
    "## The Percentage of Polylogues"
   ]
  },
  {
   "cell_type": "code",
   "execution_count": 26,
   "metadata": {},
   "outputs": [
    {
     "data": {
      "image/png": "[encoded data removed]",
      "text/plain": [
       "<Figure size 720x432 with 1 Axes>"
      ]
     },
     "metadata": {
      "needs_background": "light"
     },
     "output_type": "display_data"
    }
   ],
   "source": [
    "plt.figure(figsize=(10, 6))\n",
    "plt.title('The Evolution of The Percentage of Polylogues in Shakespeare', fontsize=14)\n",
    "\n",
    "sns.scatterplot('date', \n",
    "                'percentage_polylogues', \n",
    "                 data=shakespeare_df, \n",
    "                 color='blue')\n",
    "plt.xticks([year for year in range(shakespeare_df.date.min(), \n",
    "                                   shakespeare_df.date.max()+1)])\n",
    "plt.xlabel('Creation Date', fontsize=12)\n",
    "plt.ylabel('The Percentage of Polylogues', fontsize=12)\n",
    "plt.show()"
   ]
  },
  {
   "cell_type": "code",
   "execution_count": 107,
   "metadata": {},
   "outputs": [
    {
     "name": "stdout",
     "output_type": "stream",
     "text": [
      "Mean, standard deviation, median, min and max values for the author:\n"
     ]
    },
    {
     "data": {
      "text/plain": [
       "mean    37.85\n",
       "std      9.72\n",
       "50%     36.90\n",
       "min     21.13\n",
       "max     57.38\n",
       "Name: percentage_polylogues, dtype: float64"
      ]
     },
     "metadata": {},
     "output_type": "display_data"
    },
    {
     "name": "stdout",
     "output_type": "stream",
     "text": [
      "Period Max:\n"
     ]
    },
    {
     "data": {
      "text/html": [
       "<div>\n",
       "<style scoped>\n",
       "    .dataframe tbody tr th:only-of-type {\n",
       "        vertical-align: middle;\n",
       "    }\n",
       "\n",
       "    .dataframe tbody tr th {\n",
       "        vertical-align: top;\n",
       "    }\n",
       "\n",
       "    .dataframe thead th {\n",
       "        text-align: right;\n",
       "    }\n",
       "</style>\n",
       "<table border=\"1\" class=\"dataframe\">\n",
       "  <thead>\n",
       "    <tr style=\"text-align: right;\">\n",
       "      <th></th>\n",
       "      <th>last_name</th>\n",
       "      <th>title</th>\n",
       "      <th>date</th>\n",
       "      <th>percentage_polylogues</th>\n",
       "    </tr>\n",
       "  </thead>\n",
       "  <tbody>\n",
       "    <tr>\n",
       "      <th>2</th>\n",
       "      <td>Shakespeare</td>\n",
       "      <td>Love’s Labor’s Lost</td>\n",
       "      <td>1595</td>\n",
       "      <td>57.38</td>\n",
       "    </tr>\n",
       "  </tbody>\n",
       "</table>\n",
       "</div>"
      ],
      "text/plain": [
       "     last_name                title  date  percentage_polylogues\n",
       "2  Shakespeare  Love’s Labor’s Lost  1595                  57.38"
      ]
     },
     "metadata": {},
     "output_type": "display_data"
    },
    {
     "name": "stdout",
     "output_type": "stream",
     "text": [
      "Period Min:\n"
     ]
    },
    {
     "data": {
      "text/html": [
       "<div>\n",
       "<style scoped>\n",
       "    .dataframe tbody tr th:only-of-type {\n",
       "        vertical-align: middle;\n",
       "    }\n",
       "\n",
       "    .dataframe tbody tr th {\n",
       "        vertical-align: top;\n",
       "    }\n",
       "\n",
       "    .dataframe thead th {\n",
       "        text-align: right;\n",
       "    }\n",
       "</style>\n",
       "<table border=\"1\" class=\"dataframe\">\n",
       "  <thead>\n",
       "    <tr style=\"text-align: right;\">\n",
       "      <th></th>\n",
       "      <th>last_name</th>\n",
       "      <th>title</th>\n",
       "      <th>date</th>\n",
       "      <th>percentage_polylogues</th>\n",
       "    </tr>\n",
       "  </thead>\n",
       "  <tbody>\n",
       "    <tr>\n",
       "      <th>1</th>\n",
       "      <td>Shakespeare</td>\n",
       "      <td>The Two Gentlemen of Verona</td>\n",
       "      <td>1593</td>\n",
       "      <td>21.13</td>\n",
       "    </tr>\n",
       "  </tbody>\n",
       "</table>\n",
       "</div>"
      ],
      "text/plain": [
       "     last_name                        title  date  percentage_polylogues\n",
       "1  Shakespeare  The Two Gentlemen of Verona  1593                  21.13"
      ]
     },
     "metadata": {},
     "output_type": "display_data"
    }
   ],
   "source": [
    "summary_feature(shakespeare_df, 'percentage_polylogues')"
   ]
  },
  {
   "cell_type": "code",
   "execution_count": 101,
   "metadata": {},
   "outputs": [
    {
     "data": {
      "text/html": [
       "<div>\n",
       "<style scoped>\n",
       "    .dataframe tbody tr th:only-of-type {\n",
       "        vertical-align: middle;\n",
       "    }\n",
       "\n",
       "    .dataframe tbody tr th {\n",
       "        vertical-align: top;\n",
       "    }\n",
       "\n",
       "    .dataframe thead th {\n",
       "        text-align: right;\n",
       "    }\n",
       "</style>\n",
       "<table border=\"1\" class=\"dataframe\">\n",
       "  <thead>\n",
       "    <tr style=\"text-align: right;\">\n",
       "      <th></th>\n",
       "      <th>title</th>\n",
       "      <th>last_name</th>\n",
       "      <th>date</th>\n",
       "      <th>percentage_polylogues</th>\n",
       "    </tr>\n",
       "  </thead>\n",
       "  <tbody>\n",
       "    <tr>\n",
       "      <th>0</th>\n",
       "      <td>The Comedy of Errors</td>\n",
       "      <td>Shakespeare</td>\n",
       "      <td>1592</td>\n",
       "      <td>47.17</td>\n",
       "    </tr>\n",
       "    <tr>\n",
       "      <th>2</th>\n",
       "      <td>Love’s Labor’s Lost</td>\n",
       "      <td>Shakespeare</td>\n",
       "      <td>1595</td>\n",
       "      <td>57.38</td>\n",
       "    </tr>\n",
       "    <tr>\n",
       "      <th>6</th>\n",
       "      <td>As You Like It</td>\n",
       "      <td>Shakespeare</td>\n",
       "      <td>1599</td>\n",
       "      <td>47.95</td>\n",
       "    </tr>\n",
       "  </tbody>\n",
       "</table>\n",
       "</div>"
      ],
      "text/plain": [
       "                  title    last_name  date  percentage_polylogues\n",
       "0  The Comedy of Errors  Shakespeare  1592                  47.17\n",
       "2   Love’s Labor’s Lost  Shakespeare  1595                  57.38\n",
       "6        As You Like It  Shakespeare  1599                  47.95"
      ]
     },
     "execution_count": 101,
     "metadata": {},
     "output_type": "execute_result"
    }
   ],
   "source": [
    "shakespeare_df[shakespeare_df['percentage_polylogues'] > 45][['title', 'last_name', 'date', 'percentage_polylogues']]"
   ]
  },
  {
   "cell_type": "markdown",
   "metadata": {},
   "source": [
    "The percentage of polylogues remained stable over time. The top three comedies with the highest percentage of polylogues were written before 1600. They included *The Comedy of Errors* (1592) with 47.17% of polylogues, *Love’s Labor’s Lost* (1595) with 57.38% that was also the maxim of all comedies, and *As You Like It* (1599) with 47.95%. The average percentage of polylogues was **37.85%**. The minimum percentage of polylogues was **21.13%** in *The Two Gentlemen of Verona* (1593))."
   ]
  },
  {
   "cell_type": "markdown",
   "metadata": {},
   "source": [
    "## The Percentage of Monologues"
   ]
  },
  {
   "cell_type": "code",
   "execution_count": 28,
   "metadata": {},
   "outputs": [
    {
     "data": {
      "image/png": "[encoded data removed]",
      "text/plain": [
       "<Figure size 720x432 with 1 Axes>"
      ]
     },
     "metadata": {
      "needs_background": "light"
     },
     "output_type": "display_data"
    }
   ],
   "source": [
    "plt.figure(figsize=(10, 6))\n",
    "plt.title('The Evolution of The Percentage of Monologues in Shakespeare\\'s Comedies', fontsize=14)\n",
    "plt.xticks([year for year in range(shakespeare_df.date.min(), \n",
    "                                   shakespeare_df.date.max()+1)])\n",
    "\n",
    "sns.scatterplot('date', \n",
    "                'percentage_monologues', \n",
    "                 data=shakespeare_df, \n",
    "                 color='blue')\n",
    "plt.xlabel('Creation Date', fontsize=12)\n",
    "plt.ylabel('The Percentage of Monologues', fontsize=12)\n",
    "plt.show()"
   ]
  },
  {
   "cell_type": "code",
   "execution_count": 108,
   "metadata": {},
   "outputs": [
    {
     "name": "stdout",
     "output_type": "stream",
     "text": [
      "Mean, standard deviation, median, min and max values for the author:\n"
     ]
    },
    {
     "data": {
      "text/plain": [
       "mean    23.56\n",
       "std      7.07\n",
       "50%     22.23\n",
       "min     14.75\n",
       "max     33.80\n",
       "Name: percentage_monologues, dtype: float64"
      ]
     },
     "metadata": {},
     "output_type": "display_data"
    },
    {
     "name": "stdout",
     "output_type": "stream",
     "text": [
      "Period Max:\n"
     ]
    },
    {
     "data": {
      "text/html": [
       "<div>\n",
       "<style scoped>\n",
       "    .dataframe tbody tr th:only-of-type {\n",
       "        vertical-align: middle;\n",
       "    }\n",
       "\n",
       "    .dataframe tbody tr th {\n",
       "        vertical-align: top;\n",
       "    }\n",
       "\n",
       "    .dataframe thead th {\n",
       "        text-align: right;\n",
       "    }\n",
       "</style>\n",
       "<table border=\"1\" class=\"dataframe\">\n",
       "  <thead>\n",
       "    <tr style=\"text-align: right;\">\n",
       "      <th></th>\n",
       "      <th>last_name</th>\n",
       "      <th>title</th>\n",
       "      <th>date</th>\n",
       "      <th>percentage_monologues</th>\n",
       "    </tr>\n",
       "  </thead>\n",
       "  <tbody>\n",
       "    <tr>\n",
       "      <th>1</th>\n",
       "      <td>Shakespeare</td>\n",
       "      <td>The Two Gentlemen of Verona</td>\n",
       "      <td>1593</td>\n",
       "      <td>33.8</td>\n",
       "    </tr>\n",
       "  </tbody>\n",
       "</table>\n",
       "</div>"
      ],
      "text/plain": [
       "     last_name                        title  date  percentage_monologues\n",
       "1  Shakespeare  The Two Gentlemen of Verona  1593                   33.8"
      ]
     },
     "metadata": {},
     "output_type": "display_data"
    },
    {
     "name": "stdout",
     "output_type": "stream",
     "text": [
      "Period Min:\n"
     ]
    },
    {
     "data": {
      "text/html": [
       "<div>\n",
       "<style scoped>\n",
       "    .dataframe tbody tr th:only-of-type {\n",
       "        vertical-align: middle;\n",
       "    }\n",
       "\n",
       "    .dataframe tbody tr th {\n",
       "        vertical-align: top;\n",
       "    }\n",
       "\n",
       "    .dataframe thead th {\n",
       "        text-align: right;\n",
       "    }\n",
       "</style>\n",
       "<table border=\"1\" class=\"dataframe\">\n",
       "  <thead>\n",
       "    <tr style=\"text-align: right;\">\n",
       "      <th></th>\n",
       "      <th>last_name</th>\n",
       "      <th>title</th>\n",
       "      <th>date</th>\n",
       "      <th>percentage_monologues</th>\n",
       "    </tr>\n",
       "  </thead>\n",
       "  <tbody>\n",
       "    <tr>\n",
       "      <th>2</th>\n",
       "      <td>Shakespeare</td>\n",
       "      <td>Love’s Labor’s Lost</td>\n",
       "      <td>1595</td>\n",
       "      <td>14.75</td>\n",
       "    </tr>\n",
       "  </tbody>\n",
       "</table>\n",
       "</div>"
      ],
      "text/plain": [
       "     last_name                title  date  percentage_monologues\n",
       "2  Shakespeare  Love’s Labor’s Lost  1595                  14.75"
      ]
     },
     "metadata": {},
     "output_type": "display_data"
    }
   ],
   "source": [
    "summary_feature(shakespeare_df, 'percentage_monologues')"
   ]
  },
  {
   "cell_type": "code",
   "execution_count": 86,
   "metadata": {},
   "outputs": [
    {
     "data": {
      "text/html": [
       "<div>\n",
       "<style scoped>\n",
       "    .dataframe tbody tr th:only-of-type {\n",
       "        vertical-align: middle;\n",
       "    }\n",
       "\n",
       "    .dataframe tbody tr th {\n",
       "        vertical-align: top;\n",
       "    }\n",
       "\n",
       "    .dataframe thead th {\n",
       "        text-align: right;\n",
       "    }\n",
       "</style>\n",
       "<table border=\"1\" class=\"dataframe\">\n",
       "  <thead>\n",
       "    <tr style=\"text-align: right;\">\n",
       "      <th></th>\n",
       "      <th>title</th>\n",
       "      <th>last_name</th>\n",
       "      <th>date</th>\n",
       "      <th>percentage_monologues</th>\n",
       "    </tr>\n",
       "  </thead>\n",
       "  <tbody>\n",
       "    <tr>\n",
       "      <th>0</th>\n",
       "      <td>The Comedy of Errors</td>\n",
       "      <td>Shakespeare</td>\n",
       "      <td>1592</td>\n",
       "      <td>20.75</td>\n",
       "    </tr>\n",
       "    <tr>\n",
       "      <th>2</th>\n",
       "      <td>Love’s Labor’s Lost</td>\n",
       "      <td>Shakespeare</td>\n",
       "      <td>1595</td>\n",
       "      <td>14.75</td>\n",
       "    </tr>\n",
       "    <tr>\n",
       "      <th>3</th>\n",
       "      <td>The Merchant of Venice</td>\n",
       "      <td>Shakespeare</td>\n",
       "      <td>1596</td>\n",
       "      <td>18.67</td>\n",
       "    </tr>\n",
       "    <tr>\n",
       "      <th>6</th>\n",
       "      <td>As You Like It</td>\n",
       "      <td>Shakespeare</td>\n",
       "      <td>1599</td>\n",
       "      <td>15.07</td>\n",
       "    </tr>\n",
       "  </tbody>\n",
       "</table>\n",
       "</div>"
      ],
      "text/plain": [
       "                    title    last_name  date  percentage_monologues\n",
       "0    The Comedy of Errors  Shakespeare  1592                  20.75\n",
       "2     Love’s Labor’s Lost  Shakespeare  1595                  14.75\n",
       "3  The Merchant of Venice  Shakespeare  1596                  18.67\n",
       "6          As You Like It  Shakespeare  1599                  15.07"
      ]
     },
     "execution_count": 86,
     "metadata": {},
     "output_type": "execute_result"
    }
   ],
   "source": [
    "shakespeare_df[(shakespeare_df['percentage_monologues'] < 22.5) &\n",
    "              (shakespeare_df['date'] < 1600) ][['title', 'last_name', 'date', 'percentage_monologues']]"
   ]
  },
  {
   "cell_type": "code",
   "execution_count": 30,
   "metadata": {},
   "outputs": [
    {
     "data": {
      "text/html": [
       "<div>\n",
       "<style scoped>\n",
       "    .dataframe tbody tr th:only-of-type {\n",
       "        vertical-align: middle;\n",
       "    }\n",
       "\n",
       "    .dataframe tbody tr th {\n",
       "        vertical-align: top;\n",
       "    }\n",
       "\n",
       "    .dataframe thead th {\n",
       "        text-align: right;\n",
       "    }\n",
       "</style>\n",
       "<table border=\"1\" class=\"dataframe\">\n",
       "  <thead>\n",
       "    <tr style=\"text-align: right;\">\n",
       "      <th></th>\n",
       "      <th>title</th>\n",
       "      <th>last_name</th>\n",
       "      <th>date</th>\n",
       "      <th>percentage_monologues</th>\n",
       "    </tr>\n",
       "  </thead>\n",
       "  <tbody>\n",
       "    <tr>\n",
       "      <th>1</th>\n",
       "      <td>The Two Gentlemen of Verona</td>\n",
       "      <td>Shakespeare</td>\n",
       "      <td>1593</td>\n",
       "      <td>33.80</td>\n",
       "    </tr>\n",
       "    <tr>\n",
       "      <th>4</th>\n",
       "      <td>A Midsummer Night's Dream</td>\n",
       "      <td>Shakespeare</td>\n",
       "      <td>1596</td>\n",
       "      <td>32.18</td>\n",
       "    </tr>\n",
       "    <tr>\n",
       "      <th>5</th>\n",
       "      <td>The Tempest</td>\n",
       "      <td>Shakespeare</td>\n",
       "      <td>1599</td>\n",
       "      <td>31.75</td>\n",
       "    </tr>\n",
       "  </tbody>\n",
       "</table>\n",
       "</div>"
      ],
      "text/plain": [
       "                         title    last_name  date  percentage_monologues\n",
       "1  The Two Gentlemen of Verona  Shakespeare  1593                  33.80\n",
       "4    A Midsummer Night's Dream  Shakespeare  1596                  32.18\n",
       "5                  The Tempest  Shakespeare  1599                  31.75"
      ]
     },
     "execution_count": 30,
     "metadata": {},
     "output_type": "execute_result"
    }
   ],
   "source": [
    "shakespeare_df[shakespeare_df['percentage_monologues'] > 30][['title', 'last_name', 'date', 'percentage_monologues']]"
   ]
  },
  {
   "cell_type": "markdown",
   "metadata": {},
   "source": [
    "Before 1600, there were two groups of comedies: \n",
    "\n",
    "- Group one had a low percentage of monologues (below 22.5%): 20.75% in *The Comedy of Errors* (1592), 14.75% in *Love’s Labor’s Lost* (1595) that was also the minimum percentage of monologues among all comedies, 18.67% in *The Merchant of Venice* (1596), 15.07% in *As You Like It* (1599.\n",
    "- Group two had a high percentage of monologues (above 30%): 33.80% in *The Two Gentlemen of Verona* (1593) that was the maximum percentage of monologues observed, 32.18% in *A Midsummer Night's Dream* (1596), 31.75% in *The Tempest*.\n",
    "\n",
    "After 1600, the percentage of monologues is generally increasing. The mean number of monologues in all comedies was **23.56%**."
   ]
  },
  {
   "cell_type": "markdown",
   "metadata": {},
   "source": [
    "## The Coefficient of Unused Dramatic Characters"
   ]
  },
  {
   "cell_type": "code",
   "execution_count": 31,
   "metadata": {},
   "outputs": [
    {
     "data": {
      "image/png": "[encoded data removed]",
      "text/plain": [
       "<Figure size 864x432 with 1 Axes>"
      ]
     },
     "metadata": {
      "needs_background": "light"
     },
     "output_type": "display_data"
    }
   ],
   "source": [
    "plt.figure(figsize=(12, 6))\n",
    "plt.title('The Evolution of The Coefficient of Unused Dramatic Characters in Shakespeare\\'s Comedies', fontsize=14)\n",
    "sns.scatterplot('date', 'coefficient_unused', data=shakespeare_df, color='blue')\n",
    "plt.xticks([year for year in range(shakespeare_df.date.min(), \n",
    "                                   shakespeare_df.date.max()+1)])\n",
    "plt.xlabel('Creation Date', fontsize=12)\n",
    "plt.ylabel('The Percentage of Discontinuous Scenes', fontsize=12)\n",
    "plt.show()"
   ]
  },
  {
   "cell_type": "code",
   "execution_count": 109,
   "metadata": {},
   "outputs": [
    {
     "name": "stdout",
     "output_type": "stream",
     "text": [
      "Mean, standard deviation, median, min and max values for the author:\n"
     ]
    },
    {
     "data": {
      "text/plain": [
       "mean    40.99\n",
       "std      9.01\n",
       "50%     41.90\n",
       "min     21.11\n",
       "max     53.40\n",
       "Name: coefficient_unused, dtype: float64"
      ]
     },
     "metadata": {},
     "output_type": "display_data"
    },
    {
     "name": "stdout",
     "output_type": "stream",
     "text": [
      "Period Max:\n"
     ]
    },
    {
     "data": {
      "text/html": [
       "<div>\n",
       "<style scoped>\n",
       "    .dataframe tbody tr th:only-of-type {\n",
       "        vertical-align: middle;\n",
       "    }\n",
       "\n",
       "    .dataframe tbody tr th {\n",
       "        vertical-align: top;\n",
       "    }\n",
       "\n",
       "    .dataframe thead th {\n",
       "        text-align: right;\n",
       "    }\n",
       "</style>\n",
       "<table border=\"1\" class=\"dataframe\">\n",
       "  <thead>\n",
       "    <tr style=\"text-align: right;\">\n",
       "      <th></th>\n",
       "      <th>last_name</th>\n",
       "      <th>title</th>\n",
       "      <th>date</th>\n",
       "      <th>coefficient_unused</th>\n",
       "    </tr>\n",
       "  </thead>\n",
       "  <tbody>\n",
       "    <tr>\n",
       "      <th>4</th>\n",
       "      <td>Shakespeare</td>\n",
       "      <td>A Midsummer Night's Dream</td>\n",
       "      <td>1596</td>\n",
       "      <td>53.4</td>\n",
       "    </tr>\n",
       "  </tbody>\n",
       "</table>\n",
       "</div>"
      ],
      "text/plain": [
       "     last_name                      title  date  coefficient_unused\n",
       "4  Shakespeare  A Midsummer Night's Dream  1596                53.4"
      ]
     },
     "metadata": {},
     "output_type": "display_data"
    },
    {
     "name": "stdout",
     "output_type": "stream",
     "text": [
      "Period Min:\n"
     ]
    },
    {
     "data": {
      "text/html": [
       "<div>\n",
       "<style scoped>\n",
       "    .dataframe tbody tr th:only-of-type {\n",
       "        vertical-align: middle;\n",
       "    }\n",
       "\n",
       "    .dataframe tbody tr th {\n",
       "        vertical-align: top;\n",
       "    }\n",
       "\n",
       "    .dataframe thead th {\n",
       "        text-align: right;\n",
       "    }\n",
       "</style>\n",
       "<table border=\"1\" class=\"dataframe\">\n",
       "  <thead>\n",
       "    <tr style=\"text-align: right;\">\n",
       "      <th></th>\n",
       "      <th>last_name</th>\n",
       "      <th>title</th>\n",
       "      <th>date</th>\n",
       "      <th>coefficient_unused</th>\n",
       "    </tr>\n",
       "  </thead>\n",
       "  <tbody>\n",
       "    <tr>\n",
       "      <th>1</th>\n",
       "      <td>Shakespeare</td>\n",
       "      <td>The Two Gentlemen of Verona</td>\n",
       "      <td>1593</td>\n",
       "      <td>21.11</td>\n",
       "    </tr>\n",
       "  </tbody>\n",
       "</table>\n",
       "</div>"
      ],
      "text/plain": [
       "     last_name                        title  date  coefficient_unused\n",
       "1  Shakespeare  The Two Gentlemen of Verona  1593               21.11"
      ]
     },
     "metadata": {},
     "output_type": "display_data"
    }
   ],
   "source": [
    "summary_feature(shakespeare_df, 'coefficient_unused')"
   ]
  },
  {
   "cell_type": "markdown",
   "metadata": {},
   "source": [
    "The coefficaverage coefficient of unused dramatic characters was **40.99%**. The maximum coefficient of unused dramatic characters was **53.4%** in *A Midsummer Night's Dream* (1596). The minimum was **21.11%** was in *The Two Gentlemen of Verona* (1593). This comedy also had the lowest number of dramatic characters."
   ]
  },
  {
   "cell_type": "markdown",
   "metadata": {},
   "source": [
    "## The Percentage of Discontinuous Scenes"
   ]
  },
  {
   "cell_type": "code",
   "execution_count": 33,
   "metadata": {},
   "outputs": [
    {
     "data": {
      "image/png": "[encoded data removed]",
      "text/plain": [
       "<Figure size 720x432 with 1 Axes>"
      ]
     },
     "metadata": {
      "needs_background": "light"
     },
     "output_type": "display_data"
    }
   ],
   "source": [
    "plt.figure(figsize=(10, 6))\n",
    "plt.title('The Evolution of The Percentage of Discontinuous Scenes in Shakespeare\\'s Comedies', fontsize=14)\n",
    "sns.scatterplot('date', 'discontinuous_scenes', data=shakespeare_df, color='blue')\n",
    "plt.xticks([year for year in range(shakespeare_df.date.min(), \n",
    "                                   shakespeare_df.date.max()+1)])\n",
    "plt.xlabel('Creation Date', fontsize=12)\n",
    "plt.ylabel('The Percentage of Discontinuous Scenes', fontsize=12)\n",
    "plt.show()"
   ]
  },
  {
   "cell_type": "code",
   "execution_count": 110,
   "metadata": {},
   "outputs": [
    {
     "name": "stdout",
     "output_type": "stream",
     "text": [
      "Mean, standard deviation, median, min and max values for the author:\n"
     ]
    },
    {
     "data": {
      "text/plain": [
       "mean    19.35\n",
       "std      5.77\n",
       "50%     18.88\n",
       "min     11.49\n",
       "max     27.40\n",
       "Name: discontinuous_scenes, dtype: float64"
      ]
     },
     "metadata": {},
     "output_type": "display_data"
    },
    {
     "name": "stdout",
     "output_type": "stream",
     "text": [
      "Period Max:\n"
     ]
    },
    {
     "data": {
      "text/html": [
       "<div>\n",
       "<style scoped>\n",
       "    .dataframe tbody tr th:only-of-type {\n",
       "        vertical-align: middle;\n",
       "    }\n",
       "\n",
       "    .dataframe tbody tr th {\n",
       "        vertical-align: top;\n",
       "    }\n",
       "\n",
       "    .dataframe thead th {\n",
       "        text-align: right;\n",
       "    }\n",
       "</style>\n",
       "<table border=\"1\" class=\"dataframe\">\n",
       "  <thead>\n",
       "    <tr style=\"text-align: right;\">\n",
       "      <th></th>\n",
       "      <th>last_name</th>\n",
       "      <th>title</th>\n",
       "      <th>date</th>\n",
       "      <th>discontinuous_scenes</th>\n",
       "    </tr>\n",
       "  </thead>\n",
       "  <tbody>\n",
       "    <tr>\n",
       "      <th>6</th>\n",
       "      <td>Shakespeare</td>\n",
       "      <td>As You Like It</td>\n",
       "      <td>1599</td>\n",
       "      <td>27.4</td>\n",
       "    </tr>\n",
       "  </tbody>\n",
       "</table>\n",
       "</div>"
      ],
      "text/plain": [
       "     last_name           title  date  discontinuous_scenes\n",
       "6  Shakespeare  As You Like It  1599                  27.4"
      ]
     },
     "metadata": {},
     "output_type": "display_data"
    },
    {
     "name": "stdout",
     "output_type": "stream",
     "text": [
      "Period Min:\n"
     ]
    },
    {
     "data": {
      "text/html": [
       "<div>\n",
       "<style scoped>\n",
       "    .dataframe tbody tr th:only-of-type {\n",
       "        vertical-align: middle;\n",
       "    }\n",
       "\n",
       "    .dataframe tbody tr th {\n",
       "        vertical-align: top;\n",
       "    }\n",
       "\n",
       "    .dataframe thead th {\n",
       "        text-align: right;\n",
       "    }\n",
       "</style>\n",
       "<table border=\"1\" class=\"dataframe\">\n",
       "  <thead>\n",
       "    <tr style=\"text-align: right;\">\n",
       "      <th></th>\n",
       "      <th>last_name</th>\n",
       "      <th>title</th>\n",
       "      <th>date</th>\n",
       "      <th>discontinuous_scenes</th>\n",
       "    </tr>\n",
       "  </thead>\n",
       "  <tbody>\n",
       "    <tr>\n",
       "      <th>4</th>\n",
       "      <td>Shakespeare</td>\n",
       "      <td>A Midsummer Night's Dream</td>\n",
       "      <td>1596</td>\n",
       "      <td>11.49</td>\n",
       "    </tr>\n",
       "  </tbody>\n",
       "</table>\n",
       "</div>"
      ],
      "text/plain": [
       "     last_name                      title  date  discontinuous_scenes\n",
       "4  Shakespeare  A Midsummer Night's Dream  1596                 11.49"
      ]
     },
     "metadata": {},
     "output_type": "display_data"
    }
   ],
   "source": [
    "summary_feature(shakespeare_df, 'discontinuous_scenes')"
   ]
  },
  {
   "cell_type": "markdown",
   "metadata": {},
   "source": [
    "The average percentage of discontinuous scenes was **19.35%** - it was uncommon for the scenes not to have overlapping dramatic characters. The maximum percentage of discotinuous scenes was **27.4%** in *As You Like It* (1599), the lowest **11.49%** in *A Midsummer Night's Dream* (1596). The mean percentage of discontinuous scenes was **19.35%**. We did not observe any clear historical development of this feature in Shakespeare's comedies."
   ]
  },
  {
   "cell_type": "markdown",
   "metadata": {},
   "source": [
    "## Part II. Carlo Goldoni (1707 - 1793)"
   ]
  },
  {
   "cell_type": "code",
   "execution_count": 35,
   "metadata": {},
   "outputs": [],
   "source": [
    "goldoni_df = sorted_contr_data_df[sorted_contr_data_df.last_name == 'Goldoni'].copy()"
   ]
  },
  {
   "cell_type": "code",
   "execution_count": 36,
   "metadata": {},
   "outputs": [
    {
     "data": {
      "text/html": [
       "<div>\n",
       "<style scoped>\n",
       "    .dataframe tbody tr th:only-of-type {\n",
       "        vertical-align: middle;\n",
       "    }\n",
       "\n",
       "    .dataframe tbody tr th {\n",
       "        vertical-align: top;\n",
       "    }\n",
       "\n",
       "    .dataframe thead th {\n",
       "        text-align: right;\n",
       "    }\n",
       "</style>\n",
       "<table border=\"1\" class=\"dataframe\">\n",
       "  <thead>\n",
       "    <tr style=\"text-align: right;\">\n",
       "      <th></th>\n",
       "      <th>index</th>\n",
       "      <th>title</th>\n",
       "      <th>last_name</th>\n",
       "      <th>first_name</th>\n",
       "      <th>date</th>\n",
       "      <th>num_acts</th>\n",
       "      <th>url</th>\n",
       "      <th>num_present_characters</th>\n",
       "      <th>num_scenes_text</th>\n",
       "      <th>mobility_coefficient</th>\n",
       "      <th>speech_distribution</th>\n",
       "      <th>percentage_monologues</th>\n",
       "      <th>percentage_duologues</th>\n",
       "      <th>percentage_non_dialogues</th>\n",
       "      <th>percentage_polylogues</th>\n",
       "      <th>av_percentage_non_speakers</th>\n",
       "      <th>sigma_iarkho</th>\n",
       "      <th>number_scenes_with_discontinuous_change_characters</th>\n",
       "      <th>discontinuous_scenes</th>\n",
       "      <th>coefficient_unused</th>\n",
       "    </tr>\n",
       "  </thead>\n",
       "  <tbody>\n",
       "    <tr>\n",
       "      <th>12</th>\n",
       "      <td>C_16</td>\n",
       "      <td>La sposa persiana</td>\n",
       "      <td>Goldoni</td>\n",
       "      <td>Carlo</td>\n",
       "      <td>1753</td>\n",
       "      <td>5.0</td>\n",
       "      <td>http://www.intratext.com/IXT/ITA1289/_IDX150.HTM</td>\n",
       "      <td>12.0</td>\n",
       "      <td>51.0</td>\n",
       "      <td>53.0</td>\n",
       "      <td>[[1, 14], [2, 24], [3, 9], [4, 4], [5, 2]]</td>\n",
       "      <td>26.42</td>\n",
       "      <td>45.28</td>\n",
       "      <td>54.72</td>\n",
       "      <td>28.30</td>\n",
       "      <td>7.358</td>\n",
       "      <td>1.023</td>\n",
       "      <td>7.0</td>\n",
       "      <td>13.208</td>\n",
       "      <td>12.69</td>\n",
       "    </tr>\n",
       "    <tr>\n",
       "      <th>13</th>\n",
       "      <td>C_17</td>\n",
       "      <td>Il filosofo inglese</td>\n",
       "      <td>Goldoni</td>\n",
       "      <td>Carlo</td>\n",
       "      <td>1754</td>\n",
       "      <td>5.0</td>\n",
       "      <td>http://www.intratext.com/IXT/ITA1289/_IDX089.HTM</td>\n",
       "      <td>13.0</td>\n",
       "      <td>82.0</td>\n",
       "      <td>94.0</td>\n",
       "      <td>[[1, 19], [2, 41], [3, 15], [4, 12], [5, 5], [...</td>\n",
       "      <td>20.21</td>\n",
       "      <td>43.62</td>\n",
       "      <td>56.38</td>\n",
       "      <td>36.17</td>\n",
       "      <td>6.537</td>\n",
       "      <td>1.252</td>\n",
       "      <td>10.0</td>\n",
       "      <td>10.638</td>\n",
       "      <td>11.36</td>\n",
       "    </tr>\n",
       "    <tr>\n",
       "      <th>14</th>\n",
       "      <td>C_18</td>\n",
       "      <td>Il cavaliere giocondo</td>\n",
       "      <td>Goldoni</td>\n",
       "      <td>Carlo</td>\n",
       "      <td>1755</td>\n",
       "      <td>5.0</td>\n",
       "      <td>http://www.intratext.com/IXT/ITA1289/_IDX040.HTM</td>\n",
       "      <td>14.0</td>\n",
       "      <td>57.0</td>\n",
       "      <td>87.0</td>\n",
       "      <td>[[1, 10], [2, 36], [3, 21], [4, 10], [5, 5], [...</td>\n",
       "      <td>11.49</td>\n",
       "      <td>41.38</td>\n",
       "      <td>58.62</td>\n",
       "      <td>47.13</td>\n",
       "      <td>11.795</td>\n",
       "      <td>1.510</td>\n",
       "      <td>11.0</td>\n",
       "      <td>12.644</td>\n",
       "      <td>14.88</td>\n",
       "    </tr>\n",
       "    <tr>\n",
       "      <th>15</th>\n",
       "      <td>C_19</td>\n",
       "      <td>Ircana in Ispaan</td>\n",
       "      <td>Goldoni</td>\n",
       "      <td>Carlo</td>\n",
       "      <td>1756</td>\n",
       "      <td>5.0</td>\n",
       "      <td>http://www.intratext.com/IXT/ITA1289/_IDX116.HTM</td>\n",
       "      <td>15.0</td>\n",
       "      <td>53.0</td>\n",
       "      <td>68.0</td>\n",
       "      <td>[[1, 13], [2, 29], [3, 17], [4, 6], [5, 1], [6...</td>\n",
       "      <td>19.12</td>\n",
       "      <td>42.65</td>\n",
       "      <td>57.35</td>\n",
       "      <td>38.24</td>\n",
       "      <td>18.151</td>\n",
       "      <td>1.113</td>\n",
       "      <td>4.0</td>\n",
       "      <td>5.882</td>\n",
       "      <td>25.57</td>\n",
       "    </tr>\n",
       "    <tr>\n",
       "      <th>16</th>\n",
       "      <td>C_20</td>\n",
       "      <td>Il cavaliere di spirito o sia La donna di test...</td>\n",
       "      <td>Goldoni</td>\n",
       "      <td>Carlo</td>\n",
       "      <td>1757</td>\n",
       "      <td>5.0</td>\n",
       "      <td>http://www.intratext.com/IXT/ITA1289/_IDX049.HTM</td>\n",
       "      <td>7.0</td>\n",
       "      <td>38.0</td>\n",
       "      <td>41.0</td>\n",
       "      <td>[[1, 10], [2, 26], [3, 5]]</td>\n",
       "      <td>24.39</td>\n",
       "      <td>63.41</td>\n",
       "      <td>36.59</td>\n",
       "      <td>12.20</td>\n",
       "      <td>3.049</td>\n",
       "      <td>0.592</td>\n",
       "      <td>3.0</td>\n",
       "      <td>7.317</td>\n",
       "      <td>4.94</td>\n",
       "    </tr>\n",
       "  </tbody>\n",
       "</table>\n",
       "</div>"
      ],
      "text/plain": [
       "   index                                              title last_name  \\\n",
       "12  C_16                                  La sposa persiana   Goldoni   \n",
       "13  C_17                                Il filosofo inglese   Goldoni   \n",
       "14  C_18                              Il cavaliere giocondo   Goldoni   \n",
       "15  C_19                                   Ircana in Ispaan   Goldoni   \n",
       "16  C_20  Il cavaliere di spirito o sia La donna di test...   Goldoni   \n",
       "\n",
       "   first_name  date  num_acts  \\\n",
       "12      Carlo  1753       5.0   \n",
       "13      Carlo  1754       5.0   \n",
       "14      Carlo  1755       5.0   \n",
       "15      Carlo  1756       5.0   \n",
       "16      Carlo  1757       5.0   \n",
       "\n",
       "                                                 url  num_present_characters  \\\n",
       "12  http://www.intratext.com/IXT/ITA1289/_IDX150.HTM                    12.0   \n",
       "13  http://www.intratext.com/IXT/ITA1289/_IDX089.HTM                    13.0   \n",
       "14  http://www.intratext.com/IXT/ITA1289/_IDX040.HTM                    14.0   \n",
       "15  http://www.intratext.com/IXT/ITA1289/_IDX116.HTM                    15.0   \n",
       "16  http://www.intratext.com/IXT/ITA1289/_IDX049.HTM                     7.0   \n",
       "\n",
       "    num_scenes_text  mobility_coefficient  \\\n",
       "12             51.0                  53.0   \n",
       "13             82.0                  94.0   \n",
       "14             57.0                  87.0   \n",
       "15             53.0                  68.0   \n",
       "16             38.0                  41.0   \n",
       "\n",
       "                                  speech_distribution  percentage_monologues  \\\n",
       "12         [[1, 14], [2, 24], [3, 9], [4, 4], [5, 2]]                  26.42   \n",
       "13  [[1, 19], [2, 41], [3, 15], [4, 12], [5, 5], [...                  20.21   \n",
       "14  [[1, 10], [2, 36], [3, 21], [4, 10], [5, 5], [...                  11.49   \n",
       "15  [[1, 13], [2, 29], [3, 17], [4, 6], [5, 1], [6...                  19.12   \n",
       "16                         [[1, 10], [2, 26], [3, 5]]                  24.39   \n",
       "\n",
       "    percentage_duologues  percentage_non_dialogues  percentage_polylogues  \\\n",
       "12                 45.28                     54.72                  28.30   \n",
       "13                 43.62                     56.38                  36.17   \n",
       "14                 41.38                     58.62                  47.13   \n",
       "15                 42.65                     57.35                  38.24   \n",
       "16                 63.41                     36.59                  12.20   \n",
       "\n",
       "    av_percentage_non_speakers  sigma_iarkho  \\\n",
       "12                       7.358         1.023   \n",
       "13                       6.537         1.252   \n",
       "14                      11.795         1.510   \n",
       "15                      18.151         1.113   \n",
       "16                       3.049         0.592   \n",
       "\n",
       "    number_scenes_with_discontinuous_change_characters  discontinuous_scenes  \\\n",
       "12                                                7.0                 13.208   \n",
       "13                                               10.0                 10.638   \n",
       "14                                               11.0                 12.644   \n",
       "15                                                4.0                  5.882   \n",
       "16                                                3.0                  7.317   \n",
       "\n",
       "    coefficient_unused  \n",
       "12               12.69  \n",
       "13               11.36  \n",
       "14               14.88  \n",
       "15               25.57  \n",
       "16                4.94  "
      ]
     },
     "execution_count": 36,
     "metadata": {},
     "output_type": "execute_result"
    }
   ],
   "source": [
    "goldoni_df.head()"
   ]
  },
  {
   "cell_type": "code",
   "execution_count": 37,
   "metadata": {},
   "outputs": [
    {
     "data": {
      "text/plain": [
       "(8, 20)"
      ]
     },
     "execution_count": 37,
     "metadata": {},
     "output_type": "execute_result"
    }
   ],
   "source": [
    "goldoni_df.shape"
   ]
  },
  {
   "cell_type": "markdown",
   "metadata": {},
   "source": [
    "## The Number of Dramatic Characters"
   ]
  },
  {
   "cell_type": "code",
   "execution_count": 39,
   "metadata": {},
   "outputs": [
    {
     "data": {
      "image/png": "[encoded data removed]",
      "text/plain": [
       "<Figure size 720x432 with 1 Axes>"
      ]
     },
     "metadata": {
      "needs_background": "light"
     },
     "output_type": "display_data"
    }
   ],
   "source": [
    "plt.figure(figsize=(10, 6))\n",
    "plt.title('The Evolution of the Number of Dramatic Characters in Goldoni', fontsize=14)\n",
    "\n",
    "sns.scatterplot('date', 'num_present_characters', \n",
    "                data=goldoni_df, \n",
    "                color='green' \n",
    "                )\n",
    "plt.xticks([year for year in range(goldoni_df.date.min(), \n",
    "                                   goldoni_df.date.max()+1)])\n",
    "plt.xlabel('Creation Date', fontsize=12)\n",
    "plt.ylabel('Number of Dramatic Characters', fontsize=12)\n",
    "plt.show()"
   ]
  },
  {
   "cell_type": "code",
   "execution_count": 111,
   "metadata": {},
   "outputs": [
    {
     "name": "stdout",
     "output_type": "stream",
     "text": [
      "Mean, standard deviation, median, min and max values for the author:\n"
     ]
    },
    {
     "data": {
      "text/plain": [
       "mean    11.88\n",
       "std      3.04\n",
       "50%     12.50\n",
       "min      7.00\n",
       "max     15.00\n",
       "Name: num_present_characters, dtype: float64"
      ]
     },
     "metadata": {},
     "output_type": "display_data"
    },
    {
     "name": "stdout",
     "output_type": "stream",
     "text": [
      "Period Max:\n"
     ]
    },
    {
     "data": {
      "text/html": [
       "<div>\n",
       "<style scoped>\n",
       "    .dataframe tbody tr th:only-of-type {\n",
       "        vertical-align: middle;\n",
       "    }\n",
       "\n",
       "    .dataframe tbody tr th {\n",
       "        vertical-align: top;\n",
       "    }\n",
       "\n",
       "    .dataframe thead th {\n",
       "        text-align: right;\n",
       "    }\n",
       "</style>\n",
       "<table border=\"1\" class=\"dataframe\">\n",
       "  <thead>\n",
       "    <tr style=\"text-align: right;\">\n",
       "      <th></th>\n",
       "      <th>last_name</th>\n",
       "      <th>title</th>\n",
       "      <th>date</th>\n",
       "      <th>num_present_characters</th>\n",
       "    </tr>\n",
       "  </thead>\n",
       "  <tbody>\n",
       "    <tr>\n",
       "      <th>15</th>\n",
       "      <td>Goldoni</td>\n",
       "      <td>Ircana in Ispaan</td>\n",
       "      <td>1756</td>\n",
       "      <td>15.0</td>\n",
       "    </tr>\n",
       "    <tr>\n",
       "      <th>19</th>\n",
       "      <td>Goldoni</td>\n",
       "      <td>I morbinosi</td>\n",
       "      <td>1759</td>\n",
       "      <td>15.0</td>\n",
       "    </tr>\n",
       "  </tbody>\n",
       "</table>\n",
       "</div>"
      ],
      "text/plain": [
       "   last_name             title  date  num_present_characters\n",
       "15   Goldoni  Ircana in Ispaan  1756                    15.0\n",
       "19   Goldoni       I morbinosi  1759                    15.0"
      ]
     },
     "metadata": {},
     "output_type": "display_data"
    },
    {
     "name": "stdout",
     "output_type": "stream",
     "text": [
      "Period Min:\n"
     ]
    },
    {
     "data": {
      "text/html": [
       "<div>\n",
       "<style scoped>\n",
       "    .dataframe tbody tr th:only-of-type {\n",
       "        vertical-align: middle;\n",
       "    }\n",
       "\n",
       "    .dataframe tbody tr th {\n",
       "        vertical-align: top;\n",
       "    }\n",
       "\n",
       "    .dataframe thead th {\n",
       "        text-align: right;\n",
       "    }\n",
       "</style>\n",
       "<table border=\"1\" class=\"dataframe\">\n",
       "  <thead>\n",
       "    <tr style=\"text-align: right;\">\n",
       "      <th></th>\n",
       "      <th>last_name</th>\n",
       "      <th>title</th>\n",
       "      <th>date</th>\n",
       "      <th>num_present_characters</th>\n",
       "    </tr>\n",
       "  </thead>\n",
       "  <tbody>\n",
       "    <tr>\n",
       "      <th>16</th>\n",
       "      <td>Goldoni</td>\n",
       "      <td>Il cavaliere di spirito o sia La donna di test...</td>\n",
       "      <td>1757</td>\n",
       "      <td>7.0</td>\n",
       "    </tr>\n",
       "  </tbody>\n",
       "</table>\n",
       "</div>"
      ],
      "text/plain": [
       "   last_name                                              title  date  \\\n",
       "16   Goldoni  Il cavaliere di spirito o sia La donna di test...  1757   \n",
       "\n",
       "    num_present_characters  \n",
       "16                     7.0  "
      ]
     },
     "metadata": {},
     "output_type": "display_data"
    }
   ],
   "source": [
    "summary_feature(goldoni_df, 'num_present_characters')"
   ]
  },
  {
   "cell_type": "markdown",
   "metadata": {},
   "source": [
    "The mean number of dramatic characters in the sample of Goldoni's comedies was much lower than in Shakespeare - **11.88**. The maximum number of dramatic characters in the sample was indeed lower than Shakespeare's minimum **15** (in *Ircana in Ispaan* (1756) and *I morbinosi* (1759)). The minimum number of dramatic characters in the sample was **7** in *Il cavaliere di spirito o sia La donna di testa debole* (1757))."
   ]
  },
  {
   "cell_type": "markdown",
   "metadata": {},
   "source": [
    "## Mobility Coefficient"
   ]
  },
  {
   "cell_type": "code",
   "execution_count": 41,
   "metadata": {},
   "outputs": [
    {
     "data": {
      "image/png": "[encoded data removed]",
      "text/plain": [
       "<Figure size 720x432 with 1 Axes>"
      ]
     },
     "metadata": {
      "needs_background": "light"
     },
     "output_type": "display_data"
    }
   ],
   "source": [
    "plt.figure(figsize=(10, 6))\n",
    "plt.title('The Evolution of the Mobility Coefficient in Goldoni', fontsize=14)\n",
    "\n",
    "sns.scatterplot('date', 'mobility_coefficient', \n",
    "                data=goldoni_df, \n",
    "                color='green', \n",
    "                )\n",
    "plt.xticks([year for year in range(goldoni_df.date.min(), \n",
    "                                   goldoni_df.date.max()+1)])\n",
    "\n",
    "plt.xlabel('Creation Date', fontsize=12)\n",
    "plt.ylabel('Mobility Coefficient', fontsize=12)\n",
    "plt.show()"
   ]
  },
  {
   "cell_type": "code",
   "execution_count": 112,
   "metadata": {},
   "outputs": [
    {
     "name": "stdout",
     "output_type": "stream",
     "text": [
      "Mean, standard deviation, median, min and max values for the author:\n"
     ]
    },
    {
     "data": {
      "text/plain": [
       "mean    62.25\n",
       "std     19.33\n",
       "50%     56.00\n",
       "min     41.00\n",
       "max     94.00\n",
       "Name: mobility_coefficient, dtype: float64"
      ]
     },
     "metadata": {},
     "output_type": "display_data"
    },
    {
     "name": "stdout",
     "output_type": "stream",
     "text": [
      "Period Max:\n"
     ]
    },
    {
     "data": {
      "text/html": [
       "<div>\n",
       "<style scoped>\n",
       "    .dataframe tbody tr th:only-of-type {\n",
       "        vertical-align: middle;\n",
       "    }\n",
       "\n",
       "    .dataframe tbody tr th {\n",
       "        vertical-align: top;\n",
       "    }\n",
       "\n",
       "    .dataframe thead th {\n",
       "        text-align: right;\n",
       "    }\n",
       "</style>\n",
       "<table border=\"1\" class=\"dataframe\">\n",
       "  <thead>\n",
       "    <tr style=\"text-align: right;\">\n",
       "      <th></th>\n",
       "      <th>last_name</th>\n",
       "      <th>title</th>\n",
       "      <th>date</th>\n",
       "      <th>mobility_coefficient</th>\n",
       "    </tr>\n",
       "  </thead>\n",
       "  <tbody>\n",
       "    <tr>\n",
       "      <th>13</th>\n",
       "      <td>Goldoni</td>\n",
       "      <td>Il filosofo inglese</td>\n",
       "      <td>1754</td>\n",
       "      <td>94.0</td>\n",
       "    </tr>\n",
       "  </tbody>\n",
       "</table>\n",
       "</div>"
      ],
      "text/plain": [
       "   last_name                title  date  mobility_coefficient\n",
       "13   Goldoni  Il filosofo inglese  1754                  94.0"
      ]
     },
     "metadata": {},
     "output_type": "display_data"
    },
    {
     "name": "stdout",
     "output_type": "stream",
     "text": [
      "Period Min:\n"
     ]
    },
    {
     "data": {
      "text/html": [
       "<div>\n",
       "<style scoped>\n",
       "    .dataframe tbody tr th:only-of-type {\n",
       "        vertical-align: middle;\n",
       "    }\n",
       "\n",
       "    .dataframe tbody tr th {\n",
       "        vertical-align: top;\n",
       "    }\n",
       "\n",
       "    .dataframe thead th {\n",
       "        text-align: right;\n",
       "    }\n",
       "</style>\n",
       "<table border=\"1\" class=\"dataframe\">\n",
       "  <thead>\n",
       "    <tr style=\"text-align: right;\">\n",
       "      <th></th>\n",
       "      <th>last_name</th>\n",
       "      <th>title</th>\n",
       "      <th>date</th>\n",
       "      <th>mobility_coefficient</th>\n",
       "    </tr>\n",
       "  </thead>\n",
       "  <tbody>\n",
       "    <tr>\n",
       "      <th>16</th>\n",
       "      <td>Goldoni</td>\n",
       "      <td>Il cavaliere di spirito o sia La donna di test...</td>\n",
       "      <td>1757</td>\n",
       "      <td>41.0</td>\n",
       "    </tr>\n",
       "  </tbody>\n",
       "</table>\n",
       "</div>"
      ],
      "text/plain": [
       "   last_name                                              title  date  \\\n",
       "16   Goldoni  Il cavaliere di spirito o sia La donna di test...  1757   \n",
       "\n",
       "    mobility_coefficient  \n",
       "16                  41.0  "
      ]
     },
     "metadata": {},
     "output_type": "display_data"
    }
   ],
   "source": [
    "summary_feature(goldoni_df, 'mobility_coefficient')"
   ]
  },
  {
   "cell_type": "markdown",
   "metadata": {},
   "source": [
    "The average mobility coefficient in the sample of Goldnoni's comedies is also lower than in Shakespeare's comedies **62.25** as is the maximum **94** (*Il filosofo inglese* (1754)). The minimum in the sample is also lower than in Shakespeare **41** in the comedy that also had the lowest number of dramatic characters (*Il cavaliere di spirito o sia La donna di testa debole* (1757))."
   ]
  },
  {
   "cell_type": "markdown",
   "metadata": {},
   "source": [
    "## Speech Distribution"
   ]
  },
  {
   "cell_type": "code",
   "execution_count": 43,
   "metadata": {},
   "outputs": [],
   "source": [
    "speech_dist_goldoni = speech_distribution_by_author(goldoni_df)"
   ]
  },
  {
   "cell_type": "code",
   "execution_count": 44,
   "metadata": {},
   "outputs": [
    {
     "data": {
      "text/html": [
       "<div>\n",
       "<style scoped>\n",
       "    .dataframe tbody tr th:only-of-type {\n",
       "        vertical-align: middle;\n",
       "    }\n",
       "\n",
       "    .dataframe tbody tr th {\n",
       "        vertical-align: top;\n",
       "    }\n",
       "\n",
       "    .dataframe thead th {\n",
       "        text-align: right;\n",
       "    }\n",
       "</style>\n",
       "<table border=\"1\" class=\"dataframe\">\n",
       "  <thead>\n",
       "    <tr style=\"text-align: right;\">\n",
       "      <th></th>\n",
       "      <th>0</th>\n",
       "      <th>1</th>\n",
       "      <th>2</th>\n",
       "      <th>3</th>\n",
       "      <th>4</th>\n",
       "      <th>5</th>\n",
       "      <th>6</th>\n",
       "      <th>7</th>\n",
       "      <th>8</th>\n",
       "      <th>9</th>\n",
       "    </tr>\n",
       "    <tr>\n",
       "      <th>number_of_speakers</th>\n",
       "      <th></th>\n",
       "      <th></th>\n",
       "      <th></th>\n",
       "      <th></th>\n",
       "      <th></th>\n",
       "      <th></th>\n",
       "      <th></th>\n",
       "      <th></th>\n",
       "      <th></th>\n",
       "      <th></th>\n",
       "    </tr>\n",
       "  </thead>\n",
       "  <tbody>\n",
       "    <tr>\n",
       "      <th>0</th>\n",
       "      <td>0.25</td>\n",
       "      <td>19.65</td>\n",
       "      <td>41.36</td>\n",
       "      <td>19.2</td>\n",
       "      <td>11.6</td>\n",
       "      <td>5.41</td>\n",
       "      <td>1.5</td>\n",
       "      <td>0.53</td>\n",
       "      <td>0.36</td>\n",
       "      <td>0.14</td>\n",
       "    </tr>\n",
       "  </tbody>\n",
       "</table>\n",
       "</div>"
      ],
      "text/plain": [
       "0                      0      1      2     3     4     5    6     7     8  \\\n",
       "number_of_speakers                                                          \n",
       "0                   0.25  19.65  41.36  19.2  11.6  5.41  1.5  0.53  0.36   \n",
       "\n",
       "0                      9  \n",
       "number_of_speakers        \n",
       "0                   0.14  "
      ]
     },
     "execution_count": 44,
     "metadata": {},
     "output_type": "execute_result"
    }
   ],
   "source": [
    "speech_dist_goldoni"
   ]
  },
  {
   "cell_type": "markdown",
   "metadata": {},
   "source": [
    "In Goldoni's comedy *I morbinosi*, there is indeed a ball scene where no dramatic characters speak."
   ]
  },
  {
   "cell_type": "code",
   "execution_count": 45,
   "metadata": {},
   "outputs": [
    {
     "data": {
      "image/png": "[encoded data removed]",
      "text/plain": [
       "<Figure size 720x360 with 1 Axes>"
      ]
     },
     "metadata": {
      "needs_background": "light"
     },
     "output_type": "display_data"
    }
   ],
   "source": [
    "plt.figure(figsize=(10, 5))\n",
    "plt.title('Speech Distribution in Goldoni\\'s Comedies', fontsize=14)\n",
    "sns.barplot(speech_dist_goldoni.columns.tolist(), \n",
    "            speech_dist_goldoni.values.tolist()[0])\n",
    "plt.xlabel('Number of Speakers', fontsize=12)\n",
    "plt.ylabel('Percentage of Scenes', fontsize=12)\n",
    "\n",
    "plt.show()"
   ]
  },
  {
   "cell_type": "code",
   "execution_count": 46,
   "metadata": {},
   "outputs": [
    {
     "name": "stdout",
     "output_type": "stream",
     "text": [
      "The standard range of the number of speaking characters: 1.29\n"
     ]
    }
   ],
   "source": [
    "print('The standard range of the number of speaking characters:', \n",
    "      round(sigma_iarkho(speech_dist_goldoni), 2))"
   ]
  },
  {
   "cell_type": "markdown",
   "metadata": {},
   "source": [
    "Goldoni, like Shakespeare, has a silent scene (during a ball) where no one is speaking. The range of speakers in the sample of his comedies is lower: from **0 to 9**, whereas in Shakespeare's comedies, up to **11** speakers are possible. This is reflected in a lower sigma of **1.29** vs. **1.4** in Shakespeare."
   ]
  },
  {
   "cell_type": "markdown",
   "metadata": {},
   "source": [
    "## The Percentage of Non-Dialogues"
   ]
  },
  {
   "cell_type": "code",
   "execution_count": 47,
   "metadata": {},
   "outputs": [
    {
     "data": {
      "image/png": "[encoded data removed]",
      "text/plain": [
       "<Figure size 720x432 with 1 Axes>"
      ]
     },
     "metadata": {
      "needs_background": "light"
     },
     "output_type": "display_data"
    }
   ],
   "source": [
    "plt.figure(figsize=(10, 6))\n",
    "plt.title('The Evolution of the Percentage of Non-Dialogues in Goldoni\\'s Comedies', fontsize=14)\n",
    "sns.scatterplot('date', 'percentage_non_dialogues', data=goldoni_df, color='green')\n",
    "plt.xticks([year for year in range(goldoni_df.date.min(), \n",
    "                                   goldoni_df.date.max()+1)])\n",
    "plt.xlabel('Creation Date', fontsize=12)\n",
    "plt.ylabel('The Percentage of Non-Dialogues', fontsize=12)\n",
    "plt.show()"
   ]
  },
  {
   "cell_type": "code",
   "execution_count": 113,
   "metadata": {},
   "outputs": [
    {
     "name": "stdout",
     "output_type": "stream",
     "text": [
      "Mean, standard deviation, median, min and max values for the author:\n"
     ]
    },
    {
     "data": {
      "text/plain": [
       "mean    58.64\n",
       "std     11.56\n",
       "50%     57.98\n",
       "min     36.59\n",
       "max     78.00\n",
       "Name: percentage_non_dialogues, dtype: float64"
      ]
     },
     "metadata": {},
     "output_type": "display_data"
    },
    {
     "name": "stdout",
     "output_type": "stream",
     "text": [
      "Period Max:\n"
     ]
    },
    {
     "data": {
      "text/html": [
       "<div>\n",
       "<style scoped>\n",
       "    .dataframe tbody tr th:only-of-type {\n",
       "        vertical-align: middle;\n",
       "    }\n",
       "\n",
       "    .dataframe tbody tr th {\n",
       "        vertical-align: top;\n",
       "    }\n",
       "\n",
       "    .dataframe thead th {\n",
       "        text-align: right;\n",
       "    }\n",
       "</style>\n",
       "<table border=\"1\" class=\"dataframe\">\n",
       "  <thead>\n",
       "    <tr style=\"text-align: right;\">\n",
       "      <th></th>\n",
       "      <th>last_name</th>\n",
       "      <th>title</th>\n",
       "      <th>date</th>\n",
       "      <th>percentage_non_dialogues</th>\n",
       "    </tr>\n",
       "  </thead>\n",
       "  <tbody>\n",
       "    <tr>\n",
       "      <th>19</th>\n",
       "      <td>Goldoni</td>\n",
       "      <td>I morbinosi</td>\n",
       "      <td>1759</td>\n",
       "      <td>78.0</td>\n",
       "    </tr>\n",
       "  </tbody>\n",
       "</table>\n",
       "</div>"
      ],
      "text/plain": [
       "   last_name        title  date  percentage_non_dialogues\n",
       "19   Goldoni  I morbinosi  1759                      78.0"
      ]
     },
     "metadata": {},
     "output_type": "display_data"
    },
    {
     "name": "stdout",
     "output_type": "stream",
     "text": [
      "Period Min:\n"
     ]
    },
    {
     "data": {
      "text/html": [
       "<div>\n",
       "<style scoped>\n",
       "    .dataframe tbody tr th:only-of-type {\n",
       "        vertical-align: middle;\n",
       "    }\n",
       "\n",
       "    .dataframe tbody tr th {\n",
       "        vertical-align: top;\n",
       "    }\n",
       "\n",
       "    .dataframe thead th {\n",
       "        text-align: right;\n",
       "    }\n",
       "</style>\n",
       "<table border=\"1\" class=\"dataframe\">\n",
       "  <thead>\n",
       "    <tr style=\"text-align: right;\">\n",
       "      <th></th>\n",
       "      <th>last_name</th>\n",
       "      <th>title</th>\n",
       "      <th>date</th>\n",
       "      <th>percentage_non_dialogues</th>\n",
       "    </tr>\n",
       "  </thead>\n",
       "  <tbody>\n",
       "    <tr>\n",
       "      <th>16</th>\n",
       "      <td>Goldoni</td>\n",
       "      <td>Il cavaliere di spirito o sia La donna di test...</td>\n",
       "      <td>1757</td>\n",
       "      <td>36.59</td>\n",
       "    </tr>\n",
       "  </tbody>\n",
       "</table>\n",
       "</div>"
      ],
      "text/plain": [
       "   last_name                                              title  date  \\\n",
       "16   Goldoni  Il cavaliere di spirito o sia La donna di test...  1757   \n",
       "\n",
       "    percentage_non_dialogues  \n",
       "16                     36.59  "
      ]
     },
     "metadata": {},
     "output_type": "display_data"
    }
   ],
   "source": [
    "summary_feature(goldoni_df, 'percentage_non_dialogues')"
   ]
  },
  {
   "cell_type": "markdown",
   "metadata": {},
   "source": [
    "The mean percentage of non-dialogues in the sample of Goldoni's comedies was **58.64%** that is lower than in Shakespeare (**61.76%**). The maximum in the sample, however, is **78%** in *I morbinosi* (1759) that is higher than Shakespeare's maximum (**72.13%**). The minimum percentage of non-dialogues in Goldoni's sample is **36.59%** in the same comedy that has the lowest values of other features - Il cavaliere di spirito o sia La donna di testa debole (1757))."
   ]
  },
  {
   "cell_type": "markdown",
   "metadata": {},
   "source": [
    "## The Percentage of Polylogues"
   ]
  },
  {
   "cell_type": "code",
   "execution_count": 49,
   "metadata": {},
   "outputs": [
    {
     "data": {
      "image/png": "[encoded data removed]",
      "text/plain": [
       "<Figure size 720x432 with 1 Axes>"
      ]
     },
     "metadata": {
      "needs_background": "light"
     },
     "output_type": "display_data"
    }
   ],
   "source": [
    "plt.figure(figsize=(10, 6))\n",
    "plt.title('The Evolution of The Percentage of Polylogues in Goldoni\\'s Comedies', fontsize=14)\n",
    "\n",
    "sns.scatterplot('date', \n",
    "                'percentage_polylogues', \n",
    "                 data=goldoni_df, \n",
    "                 color='green')\n",
    "plt.xticks([year for year in range(goldoni_df.date.min(), \n",
    "                                   goldoni_df.date.max()+1)])\n",
    "plt.xlabel('Creation Date', fontsize=12)\n",
    "plt.ylabel('The Percentage of Polylogues', fontsize=12)\n",
    "plt.show()"
   ]
  },
  {
   "cell_type": "code",
   "execution_count": 114,
   "metadata": {},
   "outputs": [
    {
     "name": "stdout",
     "output_type": "stream",
     "text": [
      "Mean, standard deviation, median, min and max values for the author:\n"
     ]
    },
    {
     "data": {
      "text/plain": [
       "mean    38.74\n",
       "std     14.48\n",
       "50%     40.30\n",
       "min     12.20\n",
       "max     62.00\n",
       "Name: percentage_polylogues, dtype: float64"
      ]
     },
     "metadata": {},
     "output_type": "display_data"
    },
    {
     "name": "stdout",
     "output_type": "stream",
     "text": [
      "Period Max:\n"
     ]
    },
    {
     "data": {
      "text/html": [
       "<div>\n",
       "<style scoped>\n",
       "    .dataframe tbody tr th:only-of-type {\n",
       "        vertical-align: middle;\n",
       "    }\n",
       "\n",
       "    .dataframe tbody tr th {\n",
       "        vertical-align: top;\n",
       "    }\n",
       "\n",
       "    .dataframe thead th {\n",
       "        text-align: right;\n",
       "    }\n",
       "</style>\n",
       "<table border=\"1\" class=\"dataframe\">\n",
       "  <thead>\n",
       "    <tr style=\"text-align: right;\">\n",
       "      <th></th>\n",
       "      <th>last_name</th>\n",
       "      <th>title</th>\n",
       "      <th>date</th>\n",
       "      <th>percentage_polylogues</th>\n",
       "    </tr>\n",
       "  </thead>\n",
       "  <tbody>\n",
       "    <tr>\n",
       "      <th>19</th>\n",
       "      <td>Goldoni</td>\n",
       "      <td>I morbinosi</td>\n",
       "      <td>1759</td>\n",
       "      <td>62.0</td>\n",
       "    </tr>\n",
       "  </tbody>\n",
       "</table>\n",
       "</div>"
      ],
      "text/plain": [
       "   last_name        title  date  percentage_polylogues\n",
       "19   Goldoni  I morbinosi  1759                   62.0"
      ]
     },
     "metadata": {},
     "output_type": "display_data"
    },
    {
     "name": "stdout",
     "output_type": "stream",
     "text": [
      "Period Min:\n"
     ]
    },
    {
     "data": {
      "text/html": [
       "<div>\n",
       "<style scoped>\n",
       "    .dataframe tbody tr th:only-of-type {\n",
       "        vertical-align: middle;\n",
       "    }\n",
       "\n",
       "    .dataframe tbody tr th {\n",
       "        vertical-align: top;\n",
       "    }\n",
       "\n",
       "    .dataframe thead th {\n",
       "        text-align: right;\n",
       "    }\n",
       "</style>\n",
       "<table border=\"1\" class=\"dataframe\">\n",
       "  <thead>\n",
       "    <tr style=\"text-align: right;\">\n",
       "      <th></th>\n",
       "      <th>last_name</th>\n",
       "      <th>title</th>\n",
       "      <th>date</th>\n",
       "      <th>percentage_polylogues</th>\n",
       "    </tr>\n",
       "  </thead>\n",
       "  <tbody>\n",
       "    <tr>\n",
       "      <th>16</th>\n",
       "      <td>Goldoni</td>\n",
       "      <td>Il cavaliere di spirito o sia La donna di test...</td>\n",
       "      <td>1757</td>\n",
       "      <td>12.2</td>\n",
       "    </tr>\n",
       "  </tbody>\n",
       "</table>\n",
       "</div>"
      ],
      "text/plain": [
       "   last_name                                              title  date  \\\n",
       "16   Goldoni  Il cavaliere di spirito o sia La donna di test...  1757   \n",
       "\n",
       "    percentage_polylogues  \n",
       "16                   12.2  "
      ]
     },
     "metadata": {},
     "output_type": "display_data"
    }
   ],
   "source": [
    "summary_feature(goldoni_df, 'percentage_polylogues')"
   ]
  },
  {
   "cell_type": "markdown",
   "metadata": {},
   "source": [
    "What appears to be unusual is that the average percentage of polylogues in Goldoni's sample is higher than in Shakespeare (**38.37%** vs. **37.85%**). The maximum percentage of polylogues is also higher in Goldoni's sample (**62%** in *I morbinosi* (1759)) than in Shakespeare (**57.38%**). The minimum percentage of polylogues (**12.2%**) is observed once again in *Il cavaliere di spirito o sia La donna di testa debole* (1757))."
   ]
  },
  {
   "cell_type": "markdown",
   "metadata": {},
   "source": [
    "## The Percentage of Monologues"
   ]
  },
  {
   "cell_type": "code",
   "execution_count": 51,
   "metadata": {},
   "outputs": [
    {
     "data": {
      "image/png": "[encoded data removed]",
      "text/plain": [
       "<Figure size 720x432 with 1 Axes>"
      ]
     },
     "metadata": {
      "needs_background": "light"
     },
     "output_type": "display_data"
    }
   ],
   "source": [
    "plt.figure(figsize=(10, 6))\n",
    "plt.title('The Evolution of The Percentage of Monologues in Goldoni\\'s Comedies', fontsize=14)\n",
    "plt.xticks([year for year in range(goldoni_df.date.min(), \n",
    "                                   goldoni_df.date.max()+1)])\n",
    "\n",
    "sns.scatterplot('date', \n",
    "                'percentage_monologues', \n",
    "                 data=goldoni_df, \n",
    "                 color='green')\n",
    "plt.xlabel('Creation Date', fontsize=12)\n",
    "plt.ylabel('The Percentage of Monologues', fontsize=12)\n",
    "plt.show()"
   ]
  },
  {
   "cell_type": "code",
   "execution_count": 115,
   "metadata": {},
   "outputs": [
    {
     "name": "stdout",
     "output_type": "stream",
     "text": [
      "Mean, standard deviation, median, min and max values for the author:\n"
     ]
    },
    {
     "data": {
      "text/plain": [
       "mean    19.65\n",
       "std      4.97\n",
       "50%     19.89\n",
       "min     11.49\n",
       "max     26.42\n",
       "Name: percentage_monologues, dtype: float64"
      ]
     },
     "metadata": {},
     "output_type": "display_data"
    },
    {
     "name": "stdout",
     "output_type": "stream",
     "text": [
      "Period Max:\n"
     ]
    },
    {
     "data": {
      "text/html": [
       "<div>\n",
       "<style scoped>\n",
       "    .dataframe tbody tr th:only-of-type {\n",
       "        vertical-align: middle;\n",
       "    }\n",
       "\n",
       "    .dataframe tbody tr th {\n",
       "        vertical-align: top;\n",
       "    }\n",
       "\n",
       "    .dataframe thead th {\n",
       "        text-align: right;\n",
       "    }\n",
       "</style>\n",
       "<table border=\"1\" class=\"dataframe\">\n",
       "  <thead>\n",
       "    <tr style=\"text-align: right;\">\n",
       "      <th></th>\n",
       "      <th>last_name</th>\n",
       "      <th>title</th>\n",
       "      <th>date</th>\n",
       "      <th>percentage_monologues</th>\n",
       "    </tr>\n",
       "  </thead>\n",
       "  <tbody>\n",
       "    <tr>\n",
       "      <th>12</th>\n",
       "      <td>Goldoni</td>\n",
       "      <td>La sposa persiana</td>\n",
       "      <td>1753</td>\n",
       "      <td>26.42</td>\n",
       "    </tr>\n",
       "  </tbody>\n",
       "</table>\n",
       "</div>"
      ],
      "text/plain": [
       "   last_name              title  date  percentage_monologues\n",
       "12   Goldoni  La sposa persiana  1753                  26.42"
      ]
     },
     "metadata": {},
     "output_type": "display_data"
    },
    {
     "name": "stdout",
     "output_type": "stream",
     "text": [
      "Period Min:\n"
     ]
    },
    {
     "data": {
      "text/html": [
       "<div>\n",
       "<style scoped>\n",
       "    .dataframe tbody tr th:only-of-type {\n",
       "        vertical-align: middle;\n",
       "    }\n",
       "\n",
       "    .dataframe tbody tr th {\n",
       "        vertical-align: top;\n",
       "    }\n",
       "\n",
       "    .dataframe thead th {\n",
       "        text-align: right;\n",
       "    }\n",
       "</style>\n",
       "<table border=\"1\" class=\"dataframe\">\n",
       "  <thead>\n",
       "    <tr style=\"text-align: right;\">\n",
       "      <th></th>\n",
       "      <th>last_name</th>\n",
       "      <th>title</th>\n",
       "      <th>date</th>\n",
       "      <th>percentage_monologues</th>\n",
       "    </tr>\n",
       "  </thead>\n",
       "  <tbody>\n",
       "    <tr>\n",
       "      <th>14</th>\n",
       "      <td>Goldoni</td>\n",
       "      <td>Il cavaliere giocondo</td>\n",
       "      <td>1755</td>\n",
       "      <td>11.49</td>\n",
       "    </tr>\n",
       "  </tbody>\n",
       "</table>\n",
       "</div>"
      ],
      "text/plain": [
       "   last_name                  title  date  percentage_monologues\n",
       "14   Goldoni  Il cavaliere giocondo  1755                  11.49"
      ]
     },
     "metadata": {},
     "output_type": "display_data"
    }
   ],
   "source": [
    "summary_feature(goldoni_df, 'percentage_monologues')"
   ]
  },
  {
   "cell_type": "markdown",
   "metadata": {},
   "source": [
    "Goldoni has fewer monologues than Shakespeare (**19.65%** on average vs. **23.56%** in Shakespeare's comedies). The maximum percentage of monologues in Goldoni's sample is **26.42%** (in *La sposa persiana* (1753)) vs. **33.8%** in Shakespeare, and the minimum is **11.49%** (in *Il cavaliere giocondo* (1755)) vs. **14.75** in Shakespeare."
   ]
  },
  {
   "cell_type": "code",
   "execution_count": 53,
   "metadata": {},
   "outputs": [
    {
     "data": {
      "image/png": "[encoded data removed]",
      "text/plain": [
       "<Figure size 864x432 with 1 Axes>"
      ]
     },
     "metadata": {
      "needs_background": "light"
     },
     "output_type": "display_data"
    }
   ],
   "source": [
    "plt.figure(figsize=(12, 6))\n",
    "plt.title('The Evolution of The Coefficient of Unused Dramatic Characters in Goldoni\\'s Comedies', fontsize=14)\n",
    "sns.scatterplot('date', \n",
    "                'coefficient_unused', \n",
    "                 data=goldoni_df, \n",
    "                 color='green')\n",
    "plt.xticks([year for year in range(goldoni_df.date.min(), \n",
    "                                   goldoni_df.date.max()+1)])\n",
    "plt.xlabel('Creation Date', fontsize=12)\n",
    "plt.ylabel('The Percentage of Discontinuous Scenes', fontsize=12)\n",
    "plt.show()"
   ]
  },
  {
   "cell_type": "code",
   "execution_count": 116,
   "metadata": {},
   "outputs": [
    {
     "name": "stdout",
     "output_type": "stream",
     "text": [
      "Mean, standard deviation, median, min and max values for the author:\n"
     ]
    },
    {
     "data": {
      "text/plain": [
       "mean    17.28\n",
       "std      8.63\n",
       "50%     14.80\n",
       "min      4.94\n",
       "max     31.56\n",
       "Name: coefficient_unused, dtype: float64"
      ]
     },
     "metadata": {},
     "output_type": "display_data"
    },
    {
     "name": "stdout",
     "output_type": "stream",
     "text": [
      "Period Max:\n"
     ]
    },
    {
     "data": {
      "text/html": [
       "<div>\n",
       "<style scoped>\n",
       "    .dataframe tbody tr th:only-of-type {\n",
       "        vertical-align: middle;\n",
       "    }\n",
       "\n",
       "    .dataframe tbody tr th {\n",
       "        vertical-align: top;\n",
       "    }\n",
       "\n",
       "    .dataframe thead th {\n",
       "        text-align: right;\n",
       "    }\n",
       "</style>\n",
       "<table border=\"1\" class=\"dataframe\">\n",
       "  <thead>\n",
       "    <tr style=\"text-align: right;\">\n",
       "      <th></th>\n",
       "      <th>last_name</th>\n",
       "      <th>title</th>\n",
       "      <th>date</th>\n",
       "      <th>coefficient_unused</th>\n",
       "    </tr>\n",
       "  </thead>\n",
       "  <tbody>\n",
       "    <tr>\n",
       "      <th>19</th>\n",
       "      <td>Goldoni</td>\n",
       "      <td>I morbinosi</td>\n",
       "      <td>1759</td>\n",
       "      <td>31.56</td>\n",
       "    </tr>\n",
       "  </tbody>\n",
       "</table>\n",
       "</div>"
      ],
      "text/plain": [
       "   last_name        title  date  coefficient_unused\n",
       "19   Goldoni  I morbinosi  1759               31.56"
      ]
     },
     "metadata": {},
     "output_type": "display_data"
    },
    {
     "name": "stdout",
     "output_type": "stream",
     "text": [
      "Period Min:\n"
     ]
    },
    {
     "data": {
      "text/html": [
       "<div>\n",
       "<style scoped>\n",
       "    .dataframe tbody tr th:only-of-type {\n",
       "        vertical-align: middle;\n",
       "    }\n",
       "\n",
       "    .dataframe tbody tr th {\n",
       "        vertical-align: top;\n",
       "    }\n",
       "\n",
       "    .dataframe thead th {\n",
       "        text-align: right;\n",
       "    }\n",
       "</style>\n",
       "<table border=\"1\" class=\"dataframe\">\n",
       "  <thead>\n",
       "    <tr style=\"text-align: right;\">\n",
       "      <th></th>\n",
       "      <th>last_name</th>\n",
       "      <th>title</th>\n",
       "      <th>date</th>\n",
       "      <th>coefficient_unused</th>\n",
       "    </tr>\n",
       "  </thead>\n",
       "  <tbody>\n",
       "    <tr>\n",
       "      <th>16</th>\n",
       "      <td>Goldoni</td>\n",
       "      <td>Il cavaliere di spirito o sia La donna di test...</td>\n",
       "      <td>1757</td>\n",
       "      <td>4.94</td>\n",
       "    </tr>\n",
       "  </tbody>\n",
       "</table>\n",
       "</div>"
      ],
      "text/plain": [
       "   last_name                                              title  date  \\\n",
       "16   Goldoni  Il cavaliere di spirito o sia La donna di test...  1757   \n",
       "\n",
       "    coefficient_unused  \n",
       "16                4.94  "
      ]
     },
     "metadata": {},
     "output_type": "display_data"
    }
   ],
   "source": [
    "summary_feature(goldoni_df, 'coefficient_unused')"
   ]
  },
  {
   "cell_type": "markdown",
   "metadata": {},
   "source": [
    "The average coefficient of unused dramatic characters in Goldoni's sample is less than half of the coefficient in Shakespeare's comedies - **17.28%** vs **40.99%**. Both the maximum (**31.56%** in *I morbinosi* (1759) that had the maximum in the sample based on the number of dramatic characters, the percentage of non-dialogues, and the percentage of polylogues) and the minumum (again in *Il cavaliere di spirito o sia La donna di testa debole* (1757)) was lower in Goldoni's sample than in Shakespeare."
   ]
  },
  {
   "cell_type": "code",
   "execution_count": 55,
   "metadata": {},
   "outputs": [
    {
     "data": {
      "image/png": "[encoded data removed]",
      "text/plain": [
       "<Figure size 720x432 with 1 Axes>"
      ]
     },
     "metadata": {
      "needs_background": "light"
     },
     "output_type": "display_data"
    }
   ],
   "source": [
    "plt.figure(figsize=(10, 6))\n",
    "plt.title('The Evolution of The Percentage of Discontinuous Scenes in Goldoni\\'s Comedies', fontsize=14)\n",
    "sns.scatterplot('date', \n",
    "                'discontinuous_scenes', \n",
    "                data=goldoni_df, \n",
    "                color='green')\n",
    "plt.xticks([year for year in range(goldoni_df.date.min(), \n",
    "                                   goldoni_df.date.max()+1)])\n",
    "plt.xlabel('Creation Date', fontsize=12)\n",
    "plt.ylabel('The Percentage of Discontinuous Scenes', fontsize=12)\n",
    "plt.show()"
   ]
  },
  {
   "cell_type": "code",
   "execution_count": 120,
   "metadata": {},
   "outputs": [
    {
     "data": {
      "image/png": "[encoded data removed]",
      "text/plain": [
       "<Figure size 432x288 with 1 Axes>"
      ]
     },
     "metadata": {
      "needs_background": "light"
     },
     "output_type": "display_data"
    }
   ],
   "source": [
    "sns.boxplot(goldoni_df['discontinuous_scenes'])\n",
    "plt.show()"
   ]
  },
  {
   "cell_type": "code",
   "execution_count": 117,
   "metadata": {},
   "outputs": [
    {
     "name": "stdout",
     "output_type": "stream",
     "text": [
      "Mean, standard deviation, median, min and max values for the author:\n"
     ]
    },
    {
     "data": {
      "text/plain": [
       "mean     9.80\n",
       "std      2.87\n",
       "50%     10.40\n",
       "min      5.88\n",
       "max     13.21\n",
       "Name: discontinuous_scenes, dtype: float64"
      ]
     },
     "metadata": {},
     "output_type": "display_data"
    },
    {
     "name": "stdout",
     "output_type": "stream",
     "text": [
      "Period Max:\n"
     ]
    },
    {
     "data": {
      "text/html": [
       "<div>\n",
       "<style scoped>\n",
       "    .dataframe tbody tr th:only-of-type {\n",
       "        vertical-align: middle;\n",
       "    }\n",
       "\n",
       "    .dataframe tbody tr th {\n",
       "        vertical-align: top;\n",
       "    }\n",
       "\n",
       "    .dataframe thead th {\n",
       "        text-align: right;\n",
       "    }\n",
       "</style>\n",
       "<table border=\"1\" class=\"dataframe\">\n",
       "  <thead>\n",
       "    <tr style=\"text-align: right;\">\n",
       "      <th></th>\n",
       "      <th>last_name</th>\n",
       "      <th>title</th>\n",
       "      <th>date</th>\n",
       "      <th>discontinuous_scenes</th>\n",
       "    </tr>\n",
       "  </thead>\n",
       "  <tbody>\n",
       "    <tr>\n",
       "      <th>12</th>\n",
       "      <td>Goldoni</td>\n",
       "      <td>La sposa persiana</td>\n",
       "      <td>1753</td>\n",
       "      <td>13.21</td>\n",
       "    </tr>\n",
       "  </tbody>\n",
       "</table>\n",
       "</div>"
      ],
      "text/plain": [
       "   last_name              title  date  discontinuous_scenes\n",
       "12   Goldoni  La sposa persiana  1753                 13.21"
      ]
     },
     "metadata": {},
     "output_type": "display_data"
    },
    {
     "name": "stdout",
     "output_type": "stream",
     "text": [
      "Period Min:\n"
     ]
    },
    {
     "data": {
      "text/html": [
       "<div>\n",
       "<style scoped>\n",
       "    .dataframe tbody tr th:only-of-type {\n",
       "        vertical-align: middle;\n",
       "    }\n",
       "\n",
       "    .dataframe tbody tr th {\n",
       "        vertical-align: top;\n",
       "    }\n",
       "\n",
       "    .dataframe thead th {\n",
       "        text-align: right;\n",
       "    }\n",
       "</style>\n",
       "<table border=\"1\" class=\"dataframe\">\n",
       "  <thead>\n",
       "    <tr style=\"text-align: right;\">\n",
       "      <th></th>\n",
       "      <th>last_name</th>\n",
       "      <th>title</th>\n",
       "      <th>date</th>\n",
       "      <th>discontinuous_scenes</th>\n",
       "    </tr>\n",
       "  </thead>\n",
       "  <tbody>\n",
       "    <tr>\n",
       "      <th>15</th>\n",
       "      <td>Goldoni</td>\n",
       "      <td>Ircana in Ispaan</td>\n",
       "      <td>1756</td>\n",
       "      <td>5.88</td>\n",
       "    </tr>\n",
       "  </tbody>\n",
       "</table>\n",
       "</div>"
      ],
      "text/plain": [
       "   last_name             title  date  discontinuous_scenes\n",
       "15   Goldoni  Ircana in Ispaan  1756                  5.88"
      ]
     },
     "metadata": {},
     "output_type": "display_data"
    }
   ],
   "source": [
    "summary_feature(goldoni_df, 'discontinuous_scenes')"
   ]
  },
  {
   "cell_type": "markdown",
   "metadata": {},
   "source": [
    "The mean percentage of discontinuous scenes is also less than half of the percentage of discontinuous scenes in Shakespeare's comedies (**9.8%** vs. **19.35%**). Both the maximum (**13.21** in *La sposa persiana* (1753)) and the minimum (**5.88** in *Ircana in Ispaan* (1756)) are lower than Shakespeare's maxim (**27.4%**) and minimum (**11.49**)."
   ]
  },
  {
   "cell_type": "markdown",
   "metadata": {},
   "source": [
    "## Part III. August von Kotzebue (1761 - 1819)"
   ]
  },
  {
   "cell_type": "markdown",
   "metadata": {},
   "source": [
    "For Kotzebue, who primarily wrote prosaic comedies, we found only one 4-act comedy in verse *Der Russe in Deutschland* (1806). In general, it is challenging to compare 4-act comedies in verse with 5-act comedies in verse, since those may form a completely separate genre. In an attemp to level the playing field, for the features that may depend on the number of acts, we make them comparable to the 5-act comedies by multiplying the original values by 5/4."
   ]
  },
  {
   "cell_type": "code",
   "execution_count": 56,
   "metadata": {},
   "outputs": [],
   "source": [
    "kotzebue_df = sorted_contr_data_df[sorted_contr_data_df.last_name == 'Kotzebue'].copy()"
   ]
  },
  {
   "cell_type": "code",
   "execution_count": 57,
   "metadata": {},
   "outputs": [
    {
     "data": {
      "text/html": [
       "<div>\n",
       "<style scoped>\n",
       "    .dataframe tbody tr th:only-of-type {\n",
       "        vertical-align: middle;\n",
       "    }\n",
       "\n",
       "    .dataframe tbody tr th {\n",
       "        vertical-align: top;\n",
       "    }\n",
       "\n",
       "    .dataframe thead th {\n",
       "        text-align: right;\n",
       "    }\n",
       "</style>\n",
       "<table border=\"1\" class=\"dataframe\">\n",
       "  <thead>\n",
       "    <tr style=\"text-align: right;\">\n",
       "      <th></th>\n",
       "      <th>index</th>\n",
       "      <th>title</th>\n",
       "      <th>last_name</th>\n",
       "      <th>first_name</th>\n",
       "      <th>date</th>\n",
       "      <th>num_acts</th>\n",
       "      <th>url</th>\n",
       "      <th>num_present_characters</th>\n",
       "      <th>num_scenes_text</th>\n",
       "      <th>mobility_coefficient</th>\n",
       "      <th>speech_distribution</th>\n",
       "      <th>percentage_monologues</th>\n",
       "      <th>percentage_duologues</th>\n",
       "      <th>percentage_non_dialogues</th>\n",
       "      <th>percentage_polylogues</th>\n",
       "      <th>av_percentage_non_speakers</th>\n",
       "      <th>sigma_iarkho</th>\n",
       "      <th>number_scenes_with_discontinuous_change_characters</th>\n",
       "      <th>discontinuous_scenes</th>\n",
       "      <th>coefficient_unused</th>\n",
       "    </tr>\n",
       "  </thead>\n",
       "  <tbody>\n",
       "    <tr>\n",
       "      <th>20</th>\n",
       "      <td>C_24</td>\n",
       "      <td>Der Russe in Deutschland</td>\n",
       "      <td>Kotzebue</td>\n",
       "      <td>August von</td>\n",
       "      <td>1806</td>\n",
       "      <td>5.0</td>\n",
       "      <td>NaN</td>\n",
       "      <td>7.0</td>\n",
       "      <td>38.0</td>\n",
       "      <td>43.0</td>\n",
       "      <td>[[1, 14], [2, 20], [3, 7], [4, 2]]</td>\n",
       "      <td>32.56</td>\n",
       "      <td>46.51</td>\n",
       "      <td>53.49</td>\n",
       "      <td>20.93</td>\n",
       "      <td>4.341</td>\n",
       "      <td>0.818</td>\n",
       "      <td>1.0</td>\n",
       "      <td>2.326</td>\n",
       "      <td>6.59</td>\n",
       "    </tr>\n",
       "  </tbody>\n",
       "</table>\n",
       "</div>"
      ],
      "text/plain": [
       "   index                     title last_name  first_name  date  num_acts  url  \\\n",
       "20  C_24  Der Russe in Deutschland  Kotzebue  August von  1806       5.0  NaN   \n",
       "\n",
       "    num_present_characters  num_scenes_text  mobility_coefficient  \\\n",
       "20                     7.0             38.0                  43.0   \n",
       "\n",
       "                   speech_distribution  percentage_monologues  \\\n",
       "20  [[1, 14], [2, 20], [3, 7], [4, 2]]                  32.56   \n",
       "\n",
       "    percentage_duologues  percentage_non_dialogues  percentage_polylogues  \\\n",
       "20                 46.51                     53.49                  20.93   \n",
       "\n",
       "    av_percentage_non_speakers  sigma_iarkho  \\\n",
       "20                       4.341         0.818   \n",
       "\n",
       "    number_scenes_with_discontinuous_change_characters  discontinuous_scenes  \\\n",
       "20                                                1.0                  2.326   \n",
       "\n",
       "    coefficient_unused  \n",
       "20                6.59  "
      ]
     },
     "execution_count": 57,
     "metadata": {},
     "output_type": "execute_result"
    }
   ],
   "source": [
    "kotzebue_df"
   ]
  },
  {
   "cell_type": "code",
   "execution_count": 58,
   "metadata": {},
   "outputs": [
    {
     "name": "stdout",
     "output_type": "stream",
     "text": [
      "The number of dramatic characters: 7.0\n",
      "The number of dramatic characters comparable to five-act comedies: 9.0\n"
     ]
    }
   ],
   "source": [
    "print('The number of dramatic characters:',\n",
    "      kotzebue_df['num_present_characters'].values[0])\n",
    "print('The number of dramatic characters comparable to five-act comedies:',\n",
    "      round(kotzebue_df['num_present_characters'].values[0] * 5/4, 0))"
   ]
  },
  {
   "cell_type": "code",
   "execution_count": 59,
   "metadata": {},
   "outputs": [
    {
     "name": "stdout",
     "output_type": "stream",
     "text": [
      "Mobility Coefficient: 43.0\n",
      "Mobility Coefficient comparable to five-act comedies: 54.0\n"
     ]
    }
   ],
   "source": [
    "print('Mobility Coefficient:',\n",
    "      kotzebue_df['mobility_coefficient'].values[0])\n",
    "print('Mobility Coefficient comparable to five-act comedies:'\n",
    "      , round(kotzebue_df['mobility_coefficient'].values[0] * 5/4, 0))"
   ]
  },
  {
   "cell_type": "code",
   "execution_count": 60,
   "metadata": {},
   "outputs": [],
   "source": [
    "speech_dist_kotzebue = speech_distribution_by_author(kotzebue_df)"
   ]
  },
  {
   "cell_type": "code",
   "execution_count": 61,
   "metadata": {},
   "outputs": [
    {
     "data": {
      "text/html": [
       "<div>\n",
       "<style scoped>\n",
       "    .dataframe tbody tr th:only-of-type {\n",
       "        vertical-align: middle;\n",
       "    }\n",
       "\n",
       "    .dataframe tbody tr th {\n",
       "        vertical-align: top;\n",
       "    }\n",
       "\n",
       "    .dataframe thead th {\n",
       "        text-align: right;\n",
       "    }\n",
       "</style>\n",
       "<table border=\"1\" class=\"dataframe\">\n",
       "  <thead>\n",
       "    <tr style=\"text-align: right;\">\n",
       "      <th></th>\n",
       "      <th>1</th>\n",
       "      <th>2</th>\n",
       "      <th>3</th>\n",
       "      <th>4</th>\n",
       "    </tr>\n",
       "    <tr>\n",
       "      <th>number_of_speakers</th>\n",
       "      <th></th>\n",
       "      <th></th>\n",
       "      <th></th>\n",
       "      <th></th>\n",
       "    </tr>\n",
       "  </thead>\n",
       "  <tbody>\n",
       "    <tr>\n",
       "      <th>0</th>\n",
       "      <td>32.56</td>\n",
       "      <td>46.51</td>\n",
       "      <td>16.28</td>\n",
       "      <td>4.65</td>\n",
       "    </tr>\n",
       "  </tbody>\n",
       "</table>\n",
       "</div>"
      ],
      "text/plain": [
       "0                       1      2      3     4\n",
       "number_of_speakers                           \n",
       "0                   32.56  46.51  16.28  4.65"
      ]
     },
     "execution_count": 61,
     "metadata": {},
     "output_type": "execute_result"
    }
   ],
   "source": [
    "speech_dist_kotzebue"
   ]
  },
  {
   "cell_type": "code",
   "execution_count": 62,
   "metadata": {},
   "outputs": [
    {
     "name": "stdout",
     "output_type": "stream",
     "text": [
      "The standard range of the number of speaking characters: 0.818\n"
     ]
    }
   ],
   "source": [
    "print('The standard range of the number of speaking characters:', \n",
    "       kotzebue_df['sigma_iarkho'].values[0])"
   ]
  },
  {
   "cell_type": "code",
   "execution_count": 63,
   "metadata": {},
   "outputs": [
    {
     "name": "stdout",
     "output_type": "stream",
     "text": [
      "The percentage of non-dialogues: 53.49\n"
     ]
    }
   ],
   "source": [
    "print('The percentage of non-dialogues:',\n",
    "      kotzebue_df['percentage_non_dialogues'].values[0])"
   ]
  },
  {
   "cell_type": "code",
   "execution_count": 64,
   "metadata": {},
   "outputs": [
    {
     "name": "stdout",
     "output_type": "stream",
     "text": [
      "The percentage of polylogues 20.93\n"
     ]
    }
   ],
   "source": [
    "print('The percentage of polylogues',\n",
    "      kotzebue_df['percentage_polylogues'].values[0])"
   ]
  },
  {
   "cell_type": "code",
   "execution_count": 66,
   "metadata": {},
   "outputs": [
    {
     "name": "stdout",
     "output_type": "stream",
     "text": [
      "The coefficient of unused dramatic characters: 6.59\n"
     ]
    }
   ],
   "source": [
    "print('The coefficient of unused dramatic characters:',\n",
    "      kotzebue_df['coefficient_unused'].values[0])"
   ]
  },
  {
   "cell_type": "code",
   "execution_count": 65,
   "metadata": {},
   "outputs": [
    {
     "name": "stdout",
     "output_type": "stream",
     "text": [
      "The percentage of discontinuous scenes: 2.326\n"
     ]
    }
   ],
   "source": [
    "print('The percentage of discontinuous scenes:',\n",
    "      kotzebue_df['discontinuous_scenes'].values[0])"
   ]
  },
  {
   "cell_type": "markdown",
   "metadata": {},
   "source": [
    "In Kotzebue's comedy, the number of dramatic characters is **7** (or **9** if compared to a 5-act comedy) speakers range from 1 to 4 (sigma is only **0.88**). The mobility coefficient is **43**) (or **54** in 5-act comedy values). The percentage of non-dialogues is **53.49%**, the percentage of polylogues is **20.93%**, and the percentage of monologues is **32.56%** that is higher than in Shakespeare on average (**23.56%**). Kotzebue's comedy has a low coefficient of unused dramatic characters **6.59%**. The scenes are extremely connected (the percentage of discontinuous scenes is only **2.326%**). It would be worthwhile to compare this comedy with Kotzebue's prosaic comedies."
   ]
  },
  {
   "cell_type": "markdown",
   "metadata": {},
   "source": [
    "## Conclusions:\n",
    "1. On average, Shakespeare's comedies tend to have:\n",
    "   - more dramatic characters (**25.83**) than both Goldoni (**11.08**) and Kotzebue (**9**)\n",
    "   - higher mobility (**78**) than Goldoni (**62.25**) and Kotzebue (**54**).\n",
    "   - a wider range of speakers (sigma=**1.4**, from 0 to 11 speakers) than Goldoni (sigma=1.29, from 0 to 9) and Kotzebue (sigma=**0.818**, from 1 to 4 speakers).\n",
    "   - higher percentage of non-dialogues **61.76%** than in Goldoni **58.64%** and Kotzebue **53.49%**.\n",
    "   - higher coefficient of unused dramatic characters (**40.99%**) vs. **17.28%** in Goldoni and **6.59%** in Kotzebue.\n",
    "   - higher percentage of discontinuous scenes (**19.35%**) vs. **9.80%** in Goldoni's sample and **2.32%** in Kotzebue.\n",
    "   \n",
    "   \n",
    "2. Goldoni has a higher average percentage of polylogues (**38.74%**) than both Shakespeare (**37.85%**) and Kotzebue (**20.93%**). \n",
    "\n",
    "3. Kotzebue has the highest percentage of monologues (**32.56%**) vs. **23.56%** in Shakespeare and **19.65%** in Goldoni's sample.\n"
   ]
  },
  {
   "cell_type": "code",
   "execution_count": null,
   "metadata": {},
   "outputs": [],
   "source": []
  }
 ],
 "metadata": {
  "kernelspec": {
   "display_name": "Python 3",
   "language": "python",
   "name": "python3"
  },
  "language_info": {
   "codemirror_mode": {
    "name": "ipython",
    "version": 3
   },
   "file_extension": ".py",
   "mimetype": "text/x-python",
   "name": "python",
   "nbconvert_exporter": "python",
   "pygments_lexer": "ipython3",
   "version": "3.7.6"
  }
 },
 "nbformat": 4,
 "nbformat_minor": 4
}
