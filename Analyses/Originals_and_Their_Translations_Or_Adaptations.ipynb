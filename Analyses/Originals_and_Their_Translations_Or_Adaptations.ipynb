{
 "cells": [
  {
   "cell_type": "markdown",
   "metadata": {},
   "source": [
    "## Original Comedies and Their Translations or Imitations\n",
    "\n",
    "In this analysis, we will compare:\n",
    "1. French comedies and their translations into Russian;\n",
    "2. French and Russian adaptations or imitations of Richard Brinsley Sheridan's *The School For Scandal* (1777);\n",
    "3. French adaptations of French comedies.\n",
    "\n",
    "We will compare such features as: \n",
    "- The number of dramatic characters;\n",
    "- The mobility coefficient;\n",
    "- The standard range of the number of speaking characters (sigma);\n",
    "- The percentage of non-dialogues;\n",
    "- The percentage of polylogues;\n",
    "- The percentage of monologues;\n",
    "- The coefficient of unused dramatic characters;\n",
    "- The percentage of discontinuous scenes.\n",
    "\n",
    "Additionally, we will compute cosine similarity to determine how similar the comedies are to one another. "
   ]
  },
  {
   "cell_type": "code",
   "execution_count": 1,
   "metadata": {},
   "outputs": [],
   "source": [
    "import pandas as pd\n",
    "import numpy as np\n",
    "from os import listdir\n",
    "import json\n",
    "from sklearn.preprocessing import normalize\n",
    "from sklearn.metrics.pairwise import cosine_similarity"
   ]
  },
  {
   "cell_type": "code",
   "execution_count": 2,
   "metadata": {},
   "outputs": [],
   "source": [
    "def get_data(input_directory):\n",
    "    all_files = [f for f in listdir(input_directory) if f.count('.json') > 0]\n",
    "    dfs = []\n",
    "    for file in all_files:\n",
    "        with open(input_directory + '/' + file) as json_file:\n",
    "            data = json.load(json_file)\n",
    "            not_used = coefficient_unused_dramatic_characters(data)\n",
    "            df = pd.DataFrame([not_used], columns=['coefficient_unused'], index=[file.replace('.json','')])\n",
    "            dfs.append(df)\n",
    "            \n",
    "    features_df = pd.concat(dfs, axis=0, sort=False).round(2)\n",
    "    \n",
    "    return features_df"
   ]
  },
  {
   "cell_type": "code",
   "execution_count": 3,
   "metadata": {},
   "outputs": [],
   "source": [
    "def coefficient_unused_dramatic_characters(data):\n",
    "    total_present = 0\n",
    "    total_non_speakers = 0\n",
    "    for act in data['play_summary'].keys():\n",
    "        for scene in data['play_summary'][act].keys():\n",
    "            # identify the raw number of non-speaking dramatic characters\n",
    "            num_non_speakers = len([item for item in data['play_summary'][act][scene].items() \n",
    "                                if (item[1] == 0  or item[1] == 'non_speaking') and item[0] not in ['num_utterances',\n",
    "                                                                   'num_speakers',\n",
    "                                                                   'perc_non_speakers']])\n",
    "            total_non_speakers += num_non_speakers\n",
    "            # calculate the total number of dramatic characters\n",
    "            total_present += (data['play_summary'][act][scene]['num_speakers'] + num_non_speakers)\n",
    "    coefficient_unused = (total_non_speakers / total_present ) * 100        \n",
    "    \n",
    "    return coefficient_unused"
   ]
  },
  {
   "cell_type": "code",
   "execution_count": 4,
   "metadata": {},
   "outputs": [],
   "source": [
    "russian_comedies = pd.read_csv('../Russian_Comedies/Data/Comedies_Raw_Data.csv')\n",
    "# calculate the coefficient of non-used dramatic characters\n",
    "unused_coefficient = get_data('../Russian_Comedies/Play_Jsons/')\n",
    "unused_coefficient['index'] = unused_coefficient.index.tolist()\n",
    "russian_comedies = russian_comedies.merge(unused_coefficient, on='index')\n",
    "\n",
    "\n",
    "french_comedies = pd.read_csv('../French_Comedies/Data/French_Comedies_Data.csv')\n",
    "\n",
    "# calculate the coefficient of non-used dramatic characters\n",
    "unused_coefficient = get_data('../French_Comedies/Play_Jsons/')\n",
    "unused_coefficient['index'] = unused_coefficient.index.tolist()\n",
    "french_comedies = french_comedies.merge(unused_coefficient, on='index')"
   ]
  },
  {
   "cell_type": "code",
   "execution_count": 5,
   "metadata": {},
   "outputs": [],
   "source": [
    "renaming_dict = {'num_scenes_iarkho': 'mobility_coefficient', \n",
    "                                                 'percentage_non_duologues': 'percentage_non_dialogues',\n",
    "                                                 'percentage_above_two_speakers': 'percentage_polylogues',\n",
    "                                                 'percentage_scenes_with_discontinuous_change_characters': 'discontinuous_scenes',\n",
    "                                                 'sigma_iarkho': 'standard_range'}\n",
    "# rename column names\n",
    "russian_comedies = russian_comedies.rename(columns=renaming_dict)\n",
    "french_comedies = french_comedies.rename(columns=renaming_dict)\n"
   ]
  },
  {
   "cell_type": "code",
   "execution_count": 6,
   "metadata": {},
   "outputs": [],
   "source": [
    "# load contrastive data\n",
    "contr_data_df = pd.read_csv('../Contrastive_Material/Contrastive_Material_Data.csv')\n",
    "contr_data_df  = contr_data_df.rename(columns=renaming_dict)"
   ]
  },
  {
   "cell_type": "code",
   "execution_count": 7,
   "metadata": {},
   "outputs": [],
   "source": [
    "features = ['num_present_characters',\n",
    "            'mobility_coefficient', \n",
    "            'standard_range', \n",
    "            'percentage_non_dialogues',\n",
    "            'percentage_polylogues',\n",
    "            'percentage_monologues',\n",
    "             'coefficient_unused',\n",
    "             'discontinuous_scenes']"
   ]
  },
  {
   "cell_type": "markdown",
   "metadata": {},
   "source": [
    "## Part 1. French Comedies and Their Translations Into Russian"
   ]
  },
  {
   "cell_type": "markdown",
   "metadata": {},
   "source": [
    "### Molière's *L'École des femmes* (1662) and  Nikolai Khmel’nitskii's *Shkola zhenshchin, after Molière* (1819)"
   ]
  },
  {
   "cell_type": "code",
   "execution_count": 8,
   "metadata": {},
   "outputs": [
    {
     "data": {
      "text/html": [
       "<div>\n",
       "<style scoped>\n",
       "    .dataframe tbody tr th:only-of-type {\n",
       "        vertical-align: middle;\n",
       "    }\n",
       "\n",
       "    .dataframe tbody tr th {\n",
       "        vertical-align: top;\n",
       "    }\n",
       "\n",
       "    .dataframe thead th {\n",
       "        text-align: right;\n",
       "    }\n",
       "</style>\n",
       "<table border=\"1\" class=\"dataframe\">\n",
       "  <thead>\n",
       "    <tr style=\"text-align: right;\">\n",
       "      <th></th>\n",
       "      <th>L'École des femmes</th>\n",
       "      <th>Shkola zhenshchin</th>\n",
       "    </tr>\n",
       "  </thead>\n",
       "  <tbody>\n",
       "    <tr>\n",
       "      <th>num_present_characters</th>\n",
       "      <td>9.00</td>\n",
       "      <td>7.00</td>\n",
       "    </tr>\n",
       "    <tr>\n",
       "      <th>mobility_coefficient</th>\n",
       "      <td>37.00</td>\n",
       "      <td>41.00</td>\n",
       "    </tr>\n",
       "    <tr>\n",
       "      <th>standard_range</th>\n",
       "      <td>1.08</td>\n",
       "      <td>0.80</td>\n",
       "    </tr>\n",
       "    <tr>\n",
       "      <th>percentage_non_dialogues</th>\n",
       "      <td>59.46</td>\n",
       "      <td>58.54</td>\n",
       "    </tr>\n",
       "    <tr>\n",
       "      <th>percentage_polylogues</th>\n",
       "      <td>27.03</td>\n",
       "      <td>21.95</td>\n",
       "    </tr>\n",
       "    <tr>\n",
       "      <th>percentage_monologues</th>\n",
       "      <td>32.43</td>\n",
       "      <td>36.59</td>\n",
       "    </tr>\n",
       "    <tr>\n",
       "      <th>coefficient_unused</th>\n",
       "      <td>18.56</td>\n",
       "      <td>14.29</td>\n",
       "    </tr>\n",
       "    <tr>\n",
       "      <th>discontinuous_scenes</th>\n",
       "      <td>0.00</td>\n",
       "      <td>0.00</td>\n",
       "    </tr>\n",
       "  </tbody>\n",
       "</table>\n",
       "</div>"
      ],
      "text/plain": [
       "                          L'École des femmes  Shkola zhenshchin\n",
       "num_present_characters                  9.00               7.00\n",
       "mobility_coefficient                   37.00              41.00\n",
       "standard_range                          1.08               0.80\n",
       "percentage_non_dialogues               59.46              58.54\n",
       "percentage_polylogues                  27.03              21.95\n",
       "percentage_monologues                  32.43              36.59\n",
       "coefficient_unused                     18.56              14.29\n",
       "discontinuous_scenes                    0.00               0.00"
      ]
     },
     "metadata": {},
     "output_type": "display_data"
    }
   ],
   "source": [
    "first_df = french_comedies[french_comedies.title == 'L\\'École des femmes'].copy()\n",
    "first_df = first_df[features].T.round(2)\n",
    "first_df.columns = ['L\\'École des femmes']\n",
    "second_df = russian_comedies[russian_comedies.title =='Shkola zhenshchin, after Molière'].copy()\n",
    "second_df = second_df[features].T.round(2)\n",
    "second_df.columns = ['Shkola zhenshchin']\n",
    "\n",
    "first_df['Shkola zhenshchin'] = second_df\n",
    "display(first_df)"
   ]
  },
  {
   "cell_type": "markdown",
   "metadata": {},
   "source": [
    "In his 1819 translation of Molière's *L'École des femmes*, Nikolai\tKhmel’nitskii changed:\n",
    "- the number of dramatic characters who appear on stage from 9 to 7;\n",
    "- increased the mobility coefficient from 37 to 41;\n",
    "- decreased the standard range of the number of speaking characters from 1.08 to 0.80;\n",
    "- slightly decreased the percentage of non-dialogues from 59.46% to 58.54%;\n",
    "- decreased the percentage of polylogues from 27.03% to 21.95%;\n",
    "- increased the percentage of monologues from 32.43% to 36.59%;\n",
    "- decreased the percentage of unused dramatic characters from 18.56% to 14.29%.\n",
    "\n",
    "The percentage of discontinuous scenes remained 0%, i.e., there is at least one dramatic character remaining on stage from each preceding scene. "
   ]
  },
  {
   "cell_type": "markdown",
   "metadata": {},
   "source": [
    "### Cosine Similarity\n",
    "\n",
    "Cosine similarity measures how similar two vectors are, where 1 is most similar and -1 is most dissimilar. The formula for computing cosine similarity is:\n",
    "$\\frac{\\sum_{i=1}^n (A_i  B_i)}{\\sqrt{\\sum_{i=1}^n A_i^2} {\\sqrt{\\sum_{i=1}^n B_i^2}}}$\n",
    "\n",
    "- For example, the vector for *Shokla zhenshchin* A = [ 7, 41 , 0.8 , 58.54, 21.95, 36.59, 14.29, 0]. For *L'École des femmes*, the vector B = [ 9 , 37,  1.08, 59.46, 27.03, 32.43, 18.56, 0].\n",
    "- We would take the dot product of the two vectors: (7 x 9) + (41 x 37) + (0.8 x 1.08) +  (58.54 x 59.46) + (21.95 x 27.03) + (36.59 x 32.43) + (14.29 x 18.56) + (0 x 0) = 7106.797.\n",
    "- Then, we would calculate the magnitude of vector A by adding up the squared values of vector A, $7^2 + 41^2 + 0.8^2 + 58.54^2 + 21.95^2 + 36.59^2 + 14.29^2 + 0^2$ = 7182.4063. We will take the square root of 7182.4063, which is 84.74907846106646.\n",
    "- We would do the same for B, $9^2 + 37^2 + 1.08^2 + 59.46^2 + 27.03^2 + 32.43^2 + 18.56^2 + 0^2 = 7113.4574$. We would take the square root of this number, which would give us 84.34131490556689.\n",
    "- To arrive at the denominator, we would multiply 84.74907846106646 by 84.34131490556689, which is 7147.848714441402.\n",
    "- Finally, we would divide 7106.797 by 7147.848714441402, which gives us 0.9942567734598996.\n",
    "\n",
    "\n",
    "- For details on cosine similarity, see https://neo4j.com/docs/graph-algorithms/current/labs-algorithms/cosine/#:~:text=Cosine%20similarity%20is%20the%20cosine,'%20lengths%20(or%20magnitudes).\n",
    "\n",
    "For convenience purposes, we will use skearn's cosine_similarity function for our calculations."
   ]
  },
  {
   "cell_type": "markdown",
   "metadata": {},
   "source": [
    "### Cosine Similarity"
   ]
  },
  {
   "cell_type": "code",
   "execution_count": 9,
   "metadata": {},
   "outputs": [
    {
     "name": "stdout",
     "output_type": "stream",
     "text": [
      "Cosine similarity between the original and its Russian translation: 0.9943\n"
     ]
    }
   ],
   "source": [
    "print('Cosine similarity between the original and its Russian translation:', \n",
    "      np.round(cosine_similarity(first_df.iloc[:,0].values.reshape(1, -1), \n",
    "                                first_df.iloc[:,1].values.reshape(1, -1))[0][0], 4))"
   ]
  },
  {
   "cell_type": "markdown",
   "metadata": {},
   "source": [
    "### Molière's *Le Tartuffe* (1669) and Nikolai Khmel’nitskii's *Tartiuf, after Molière* (1828)"
   ]
  },
  {
   "cell_type": "code",
   "execution_count": 10,
   "metadata": {},
   "outputs": [
    {
     "data": {
      "text/html": [
       "<div>\n",
       "<style scoped>\n",
       "    .dataframe tbody tr th:only-of-type {\n",
       "        vertical-align: middle;\n",
       "    }\n",
       "\n",
       "    .dataframe tbody tr th {\n",
       "        vertical-align: top;\n",
       "    }\n",
       "\n",
       "    .dataframe thead th {\n",
       "        text-align: right;\n",
       "    }\n",
       "</style>\n",
       "<table border=\"1\" class=\"dataframe\">\n",
       "  <thead>\n",
       "    <tr style=\"text-align: right;\">\n",
       "      <th></th>\n",
       "      <th>Le Tartuffe</th>\n",
       "      <th>Tartiuf, after Molière</th>\n",
       "    </tr>\n",
       "  </thead>\n",
       "  <tbody>\n",
       "    <tr>\n",
       "      <th>num_present_characters</th>\n",
       "      <td>14.00</td>\n",
       "      <td>13.00</td>\n",
       "    </tr>\n",
       "    <tr>\n",
       "      <th>mobility_coefficient</th>\n",
       "      <td>31.00</td>\n",
       "      <td>34.00</td>\n",
       "    </tr>\n",
       "    <tr>\n",
       "      <th>standard_range</th>\n",
       "      <td>1.68</td>\n",
       "      <td>1.69</td>\n",
       "    </tr>\n",
       "    <tr>\n",
       "      <th>percentage_non_dialogues</th>\n",
       "      <td>45.16</td>\n",
       "      <td>52.94</td>\n",
       "    </tr>\n",
       "    <tr>\n",
       "      <th>percentage_polylogues</th>\n",
       "      <td>41.94</td>\n",
       "      <td>41.18</td>\n",
       "    </tr>\n",
       "    <tr>\n",
       "      <th>percentage_monologues</th>\n",
       "      <td>3.23</td>\n",
       "      <td>11.76</td>\n",
       "    </tr>\n",
       "    <tr>\n",
       "      <th>coefficient_unused</th>\n",
       "      <td>17.70</td>\n",
       "      <td>24.41</td>\n",
       "    </tr>\n",
       "    <tr>\n",
       "      <th>discontinuous_scenes</th>\n",
       "      <td>0.00</td>\n",
       "      <td>0.00</td>\n",
       "    </tr>\n",
       "  </tbody>\n",
       "</table>\n",
       "</div>"
      ],
      "text/plain": [
       "                          Le Tartuffe  Tartiuf, after Molière\n",
       "num_present_characters          14.00                   13.00\n",
       "mobility_coefficient            31.00                   34.00\n",
       "standard_range                   1.68                    1.69\n",
       "percentage_non_dialogues        45.16                   52.94\n",
       "percentage_polylogues           41.94                   41.18\n",
       "percentage_monologues            3.23                   11.76\n",
       "coefficient_unused              17.70                   24.41\n",
       "discontinuous_scenes             0.00                    0.00"
      ]
     },
     "metadata": {},
     "output_type": "display_data"
    }
   ],
   "source": [
    "first_df = french_comedies[french_comedies.title == 'Le Tartuffe'].copy()\n",
    "first_df = first_df[features].T.round(2)\n",
    "first_df.columns = ['Le Tartuffe']\n",
    "second_df = russian_comedies[russian_comedies.title =='Tartiuf, after Molière'].copy()\n",
    "second_df = second_df[features].T.round(2)\n",
    "second_df.columns = ['Tartiuf']\n",
    "first_df['Tartiuf, after Molière'] = second_df\n",
    "\n",
    "display(first_df)"
   ]
  },
  {
   "cell_type": "markdown",
   "metadata": {},
   "source": [
    "### Comaparison of Molière's *Le Tartuffe* with *L'École des femmes*"
   ]
  },
  {
   "cell_type": "markdown",
   "metadata": {},
   "source": [
    "*Le Tartuffe*, as compared to *L'École des femmes*:\n",
    "- had a higher number of dramatic characters (14 vs. 9);\n",
    "- lower mobility coefficient (31 vs. 37);\n",
    "- higher standard range of the speaking characters (1.68 vs. 1.08);\n",
    "- lower percentage of non-dialogues (45.16% vs. 59.46%);\n",
    "- higher percentage of polylogues (41.94% vs. 27.03%);\n",
    "- a much lower percentage of monologues (3.23% vs. 32.43%);\n",
    "- lower percentage of unused dramatic characters (17.70% vs. 18.56%) despite a higher total number of dramatic characters.\n",
    "\n",
    "Both comedies had no discontinuous scenes."
   ]
  },
  {
   "cell_type": "markdown",
   "metadata": {},
   "source": [
    "### Comparison with Nikolai\tKhmel’nitskii's *Tartiuf, after Molière* (1828)"
   ]
  },
  {
   "cell_type": "markdown",
   "metadata": {},
   "source": [
    "In his 1828 translation of Molière's *Le Tartuffe*, Nikolai Khmel’nitskii changed the following formal features:\n",
    "\n",
    "- the number of dramatic characters who appear on stage from 14 to 13;\n",
    "- increased the mobility coefficient from 31 to 34;\n",
    "- increased the percentage of non-dialogues from 45.16% to 52.94%;\n",
    "- slightly decreased the percentage of polylogues from 41.94% to 41.18%;\n",
    "- increased the percentage of monologues from 3.23% to 11.76%;\n",
    "- increased the percentage of unused dramatic characters from 17.70% to 24.41%.\n",
    "\n",
    "The standard range of the speaking characters in translation (1.69) remained close to the standard range in the original (1.68). The percentage of discontinuous scenes remained 0%, i.e., there is at least one dramatic character remaining on stage from each preceding scene. In his translation of Molière's *Le Tartuffe*, Khmel'nitskii decreased the gap between the percentage of monologues and the percentage of polylogues as compared to Molière's original (which could be a sign of the Neoclassical taste), but still kept the gap much larger than in his translation of Molière *L'École des femmes*. In the translation of both comedies, Khmel'nitskii increased the mobility coefficient, which could reflect the taste for higher mobility coefficient in the Russian and French traditions after 1795."
   ]
  },
  {
   "cell_type": "markdown",
   "metadata": {},
   "source": [
    "### Cosine Similarity"
   ]
  },
  {
   "cell_type": "code",
   "execution_count": 11,
   "metadata": {},
   "outputs": [
    {
     "name": "stdout",
     "output_type": "stream",
     "text": [
      "Cosine similarity between the original and its Russian translation: 0.9898\n"
     ]
    }
   ],
   "source": [
    "print('Cosine similarity between the original and its Russian translation:', \n",
    "      np.round(cosine_similarity(first_df.iloc[:,0].values.reshape(1, -1), \n",
    "                                first_df.iloc[:,1].values.reshape(1, -1))[0][0], 4))"
   ]
  },
  {
   "cell_type": "markdown",
   "metadata": {},
   "source": [
    "The cosine similairity between Nikolai Khmel’nitskii's translation of Molière's *L'École des femmes* with its original is 0.9943. The cosine similarity of Nikolai Khmel’nitskii's translation of Molière's *Le Tartuffe* is 0.9898.i.e., slightly more different from its original than the translation of *L'École des femmes*."
   ]
  },
  {
   "cell_type": "markdown",
   "metadata": {},
   "source": [
    "### Nericault-Destouches's *Le Philosophe marié* (1727) and Vasilii\tKaratygin's\t*Zhenatyi filosof after Destouches* (1827)"
   ]
  },
  {
   "cell_type": "code",
   "execution_count": 12,
   "metadata": {},
   "outputs": [
    {
     "data": {
      "text/html": [
       "<div>\n",
       "<style scoped>\n",
       "    .dataframe tbody tr th:only-of-type {\n",
       "        vertical-align: middle;\n",
       "    }\n",
       "\n",
       "    .dataframe tbody tr th {\n",
       "        vertical-align: top;\n",
       "    }\n",
       "\n",
       "    .dataframe thead th {\n",
       "        text-align: right;\n",
       "    }\n",
       "</style>\n",
       "<table border=\"1\" class=\"dataframe\">\n",
       "  <thead>\n",
       "    <tr style=\"text-align: right;\">\n",
       "      <th></th>\n",
       "      <th>Le Philosophe marié</th>\n",
       "      <th>Zhenatyi filosof</th>\n",
       "    </tr>\n",
       "  </thead>\n",
       "  <tbody>\n",
       "    <tr>\n",
       "      <th>num_present_characters</th>\n",
       "      <td>9.00</td>\n",
       "      <td>9.00</td>\n",
       "    </tr>\n",
       "    <tr>\n",
       "      <th>mobility_coefficient</th>\n",
       "      <td>49.00</td>\n",
       "      <td>50.00</td>\n",
       "    </tr>\n",
       "    <tr>\n",
       "      <th>standard_range</th>\n",
       "      <td>1.55</td>\n",
       "      <td>1.49</td>\n",
       "    </tr>\n",
       "    <tr>\n",
       "      <th>percentage_non_dialogues</th>\n",
       "      <td>61.22</td>\n",
       "      <td>66.00</td>\n",
       "    </tr>\n",
       "    <tr>\n",
       "      <th>percentage_polylogues</th>\n",
       "      <td>34.69</td>\n",
       "      <td>38.00</td>\n",
       "    </tr>\n",
       "    <tr>\n",
       "      <th>percentage_monologues</th>\n",
       "      <td>26.53</td>\n",
       "      <td>28.00</td>\n",
       "    </tr>\n",
       "    <tr>\n",
       "      <th>coefficient_unused</th>\n",
       "      <td>10.29</td>\n",
       "      <td>8.21</td>\n",
       "    </tr>\n",
       "    <tr>\n",
       "      <th>discontinuous_scenes</th>\n",
       "      <td>4.08</td>\n",
       "      <td>4.00</td>\n",
       "    </tr>\n",
       "  </tbody>\n",
       "</table>\n",
       "</div>"
      ],
      "text/plain": [
       "                          Le Philosophe marié  Zhenatyi filosof\n",
       "num_present_characters                   9.00              9.00\n",
       "mobility_coefficient                    49.00             50.00\n",
       "standard_range                           1.55              1.49\n",
       "percentage_non_dialogues                61.22             66.00\n",
       "percentage_polylogues                   34.69             38.00\n",
       "percentage_monologues                   26.53             28.00\n",
       "coefficient_unused                      10.29              8.21\n",
       "discontinuous_scenes                     4.08              4.00"
      ]
     },
     "metadata": {},
     "output_type": "display_data"
    }
   ],
   "source": [
    "first_df = french_comedies[french_comedies.title == 'Le Philosophe marié'].copy()\n",
    "first_df = first_df[features].T.round(2)\n",
    "first_df.columns = ['Le Philosophe marié']\n",
    "second_df = russian_comedies[russian_comedies.title =='Zhenatyi filosof, after Destouches'].copy()\n",
    "second_df = second_df[features].T.round(2)\n",
    "second_df.columns = ['Zhenatyi filosof']\n",
    "first_df['Zhenatyi filosof'] = second_df\n",
    "display(first_df)"
   ]
  },
  {
   "cell_type": "markdown",
   "metadata": {},
   "source": [
    "In his translation of Nericault-Destouches's *Le Philosophe marié*, Vasilii Karatygin modified the following:\n",
    "- slightly increased the mobility coefficient from 49 to 50;\n",
    "- decreased the standard range from 1.55 to 1.49;\n",
    "- increased the percentage of non-dialogues from 61.22% to 66%;\n",
    "- increased the percentage of polylogues from 34.69% to 38%;\n",
    "- increased the percentage of monologues from 26.53% to 28%;\n",
    "- decreased the coefficient of unused dramatic characters from (10.29% to 8.21%) given the same number of dramatic characters who appear in the comedy (9);\n",
    "- slightly decreased the percentage of discontinuous scenes from 4.08% to 4%."
   ]
  },
  {
   "cell_type": "markdown",
   "metadata": {},
   "source": [
    "### Compute Cosine Similarity"
   ]
  },
  {
   "cell_type": "code",
   "execution_count": 13,
   "metadata": {},
   "outputs": [
    {
     "name": "stdout",
     "output_type": "stream",
     "text": [
      "Cosine similarity between the original and its Russian translation: 0.9992\n"
     ]
    }
   ],
   "source": [
    "print('Cosine similarity between the original and its Russian translation:', \n",
    "      np.round(cosine_similarity(first_df.iloc[:,0].values.reshape(1, -1), \n",
    "                                first_df.iloc[:,1].values.reshape(1, -1))[0][0], 4))"
   ]
  },
  {
   "cell_type": "markdown",
   "metadata": {},
   "source": [
    "Vasilii Karatygin's *Zhenatyi filosof* was very close to its original - the cosine similarity is 0.9992."
   ]
  },
  {
   "cell_type": "markdown",
   "metadata": {},
   "source": [
    "### Alexis Piron's\t*La Métromanie* (1738) and Nikolai\tSushkov's \t*Metromaniia ili strast’ k stikhotvorstvu, after Piron* (1819)"
   ]
  },
  {
   "cell_type": "code",
   "execution_count": 14,
   "metadata": {},
   "outputs": [
    {
     "data": {
      "text/html": [
       "<div>\n",
       "<style scoped>\n",
       "    .dataframe tbody tr th:only-of-type {\n",
       "        vertical-align: middle;\n",
       "    }\n",
       "\n",
       "    .dataframe tbody tr th {\n",
       "        vertical-align: top;\n",
       "    }\n",
       "\n",
       "    .dataframe thead th {\n",
       "        text-align: right;\n",
       "    }\n",
       "</style>\n",
       "<table border=\"1\" class=\"dataframe\">\n",
       "  <thead>\n",
       "    <tr style=\"text-align: right;\">\n",
       "      <th></th>\n",
       "      <th>La Métromani</th>\n",
       "      <th>Metromaniia</th>\n",
       "    </tr>\n",
       "  </thead>\n",
       "  <tbody>\n",
       "    <tr>\n",
       "      <th>num_present_characters</th>\n",
       "      <td>7.00</td>\n",
       "      <td>7.00</td>\n",
       "    </tr>\n",
       "    <tr>\n",
       "      <th>mobility_coefficient</th>\n",
       "      <td>50.00</td>\n",
       "      <td>46.00</td>\n",
       "    </tr>\n",
       "    <tr>\n",
       "      <th>standard_range</th>\n",
       "      <td>0.69</td>\n",
       "      <td>0.88</td>\n",
       "    </tr>\n",
       "    <tr>\n",
       "      <th>percentage_non_dialogues</th>\n",
       "      <td>48.00</td>\n",
       "      <td>50.00</td>\n",
       "    </tr>\n",
       "    <tr>\n",
       "      <th>percentage_polylogues</th>\n",
       "      <td>22.00</td>\n",
       "      <td>28.26</td>\n",
       "    </tr>\n",
       "    <tr>\n",
       "      <th>percentage_monologues</th>\n",
       "      <td>26.00</td>\n",
       "      <td>21.74</td>\n",
       "    </tr>\n",
       "    <tr>\n",
       "      <th>coefficient_unused</th>\n",
       "      <td>7.55</td>\n",
       "      <td>7.48</td>\n",
       "    </tr>\n",
       "    <tr>\n",
       "      <th>discontinuous_scenes</th>\n",
       "      <td>10.00</td>\n",
       "      <td>4.35</td>\n",
       "    </tr>\n",
       "  </tbody>\n",
       "</table>\n",
       "</div>"
      ],
      "text/plain": [
       "                          La Métromani  Metromaniia\n",
       "num_present_characters            7.00         7.00\n",
       "mobility_coefficient             50.00        46.00\n",
       "standard_range                    0.69         0.88\n",
       "percentage_non_dialogues         48.00        50.00\n",
       "percentage_polylogues            22.00        28.26\n",
       "percentage_monologues            26.00        21.74\n",
       "coefficient_unused                7.55         7.48\n",
       "discontinuous_scenes             10.00         4.35"
      ]
     },
     "metadata": {},
     "output_type": "display_data"
    }
   ],
   "source": [
    "first_df = french_comedies[french_comedies.title =='La Métromanie'].copy()\n",
    "first_df = first_df[features].T.round(2)\n",
    "first_df.columns = ['La Métromani']\n",
    "\n",
    "second_df = russian_comedies[russian_comedies.title == 'Metromaniia ili strast’ k stikhotvorstvu, after Piron'].copy()\n",
    "second_df = second_df[features].T.round(2)\n",
    "second_df.columns = ['Metromaniia']\n",
    "first_df['Metromaniia'] = second_df\n",
    "display(first_df)"
   ]
  },
  {
   "cell_type": "markdown",
   "metadata": {},
   "source": [
    "In his translation of Alexis Piron's *La Métromanie*, Nikolai Sushkov made the following adjustments:\n",
    "- decreased the mobility coefficient from 50 to 46;\n",
    "- increased the standard range of the speaking characters from 0.69 to 0.88;\n",
    "- increased the percentage of non-dialogues from 48% to 50%;\n",
    "- increased the percentage of polylogues from 22% to 28.26%;\n",
    "- decreased the percentage of monologues from 26% to 21.74%;\n",
    "- slightly decreased the coefficient of unused dramatic characters from 7.55% to 7.48%;\n",
    "- decreased the percentage of discontinuous scenes from 10% to 4.35%.\n",
    "\n",
    "In the original Piron had a higher percentage of monologues (26%) than polylogues (22%). Sushkov reversed this by making the percentage of polylogues (28.26%) higher than the percentage of monologues (21.74). This could be seen as a result of the influence of the taste of the time of translation. In Russian comedy after 1795, the average percentage of polylogues increased and the percentage of monologues decreased, as compared with the preceding period. The same was true in the evolution of the French comedy."
   ]
  },
  {
   "cell_type": "markdown",
   "metadata": {},
   "source": [
    "### Cosine Similarity"
   ]
  },
  {
   "cell_type": "code",
   "execution_count": 15,
   "metadata": {},
   "outputs": [
    {
     "name": "stdout",
     "output_type": "stream",
     "text": [
      "Cosine similarity between the original and its Russian translation: 0.9911\n"
     ]
    }
   ],
   "source": [
    "print('Cosine similarity between the original and its Russian translation:', \n",
    "      np.round(cosine_similarity(first_df.iloc[:,0].values.reshape(1, -1), \n",
    "                                first_df.iloc[:,1].values.reshape(1, -1))[0][0], 4))"
   ]
  },
  {
   "cell_type": "markdown",
   "metadata": {},
   "source": [
    "Nikolai Sushkov's *Metromaniia ili strast’ k stikhotvorstvu* (1819) was close to Piron's original: the cosine similarity between the two was 0.9911. It was not as similar to its original as Nikolai Khmel’nitskii's translation of Molière's *L'École des femmes* (0.9943), but more similar than Khmel’nitskii's translation's of Molière's *Le Tartuffe* (0.9898)."
   ]
  },
  {
   "cell_type": "markdown",
   "metadata": {},
   "source": [
    "## Part 2. Two Adaptations of Sheridan's *School for Scandal*"
   ]
  },
  {
   "cell_type": "markdown",
   "metadata": {},
   "source": [
    "Sheridan's five-act comedy *School For Scandal* in prose (1777) was imitated by Chéron de la Bruyére's as a five-act comedy in verse, *L'Homme À Sentiments ou Le Tartuffe de moeurs* (1789) and in Russian, as Aleksandr Pisarev's *Lukavin* (1823). Here, we will compare these two adaptations with the original and with one another."
   ]
  },
  {
   "cell_type": "markdown",
   "metadata": {},
   "source": [
    "### Richard Brinsley Sheridan's *The School For Scandal* (1777), Chéron de la Bruyére *L'Homme À Sentiments ou Le Tartuffe de moeurs, imitée en partie de The School for Scandal de Shéridan* (1789), and "
   ]
  },
  {
   "cell_type": "code",
   "execution_count": 16,
   "metadata": {},
   "outputs": [
    {
     "data": {
      "text/html": [
       "<div>\n",
       "<style scoped>\n",
       "    .dataframe tbody tr th:only-of-type {\n",
       "        vertical-align: middle;\n",
       "    }\n",
       "\n",
       "    .dataframe tbody tr th {\n",
       "        vertical-align: top;\n",
       "    }\n",
       "\n",
       "    .dataframe thead th {\n",
       "        text-align: right;\n",
       "    }\n",
       "</style>\n",
       "<table border=\"1\" class=\"dataframe\">\n",
       "  <thead>\n",
       "    <tr style=\"text-align: right;\">\n",
       "      <th></th>\n",
       "      <th>The School For Scandal</th>\n",
       "      <th>L'Homme À Sentiments</th>\n",
       "      <th>Lukavin</th>\n",
       "    </tr>\n",
       "  </thead>\n",
       "  <tbody>\n",
       "    <tr>\n",
       "      <th>num_present_characters</th>\n",
       "      <td>20.00</td>\n",
       "      <td>9.00</td>\n",
       "      <td>13.00</td>\n",
       "    </tr>\n",
       "    <tr>\n",
       "      <th>mobility_coefficient</th>\n",
       "      <td>85.00</td>\n",
       "      <td>59.00</td>\n",
       "      <td>49.00</td>\n",
       "    </tr>\n",
       "    <tr>\n",
       "      <th>standard_range</th>\n",
       "      <td>1.32</td>\n",
       "      <td>0.84</td>\n",
       "      <td>1.05</td>\n",
       "    </tr>\n",
       "    <tr>\n",
       "      <th>percentage_non_dialogues</th>\n",
       "      <td>60.00</td>\n",
       "      <td>52.54</td>\n",
       "      <td>61.22</td>\n",
       "    </tr>\n",
       "    <tr>\n",
       "      <th>percentage_polylogues</th>\n",
       "      <td>48.24</td>\n",
       "      <td>23.73</td>\n",
       "      <td>46.94</td>\n",
       "    </tr>\n",
       "    <tr>\n",
       "      <th>percentage_monologues</th>\n",
       "      <td>11.76</td>\n",
       "      <td>28.81</td>\n",
       "      <td>14.29</td>\n",
       "    </tr>\n",
       "    <tr>\n",
       "      <th>coefficient_unused</th>\n",
       "      <td>21.40</td>\n",
       "      <td>4.03</td>\n",
       "      <td>17.31</td>\n",
       "    </tr>\n",
       "    <tr>\n",
       "      <th>discontinuous_scenes</th>\n",
       "      <td>11.76</td>\n",
       "      <td>5.08</td>\n",
       "      <td>4.08</td>\n",
       "    </tr>\n",
       "  </tbody>\n",
       "</table>\n",
       "</div>"
      ],
      "text/plain": [
       "                          The School For Scandal  L'Homme À Sentiments  \\\n",
       "num_present_characters                     20.00                  9.00   \n",
       "mobility_coefficient                       85.00                 59.00   \n",
       "standard_range                              1.32                  0.84   \n",
       "percentage_non_dialogues                   60.00                 52.54   \n",
       "percentage_polylogues                      48.24                 23.73   \n",
       "percentage_monologues                      11.76                 28.81   \n",
       "coefficient_unused                         21.40                  4.03   \n",
       "discontinuous_scenes                       11.76                  5.08   \n",
       "\n",
       "                          Lukavin  \n",
       "num_present_characters      13.00  \n",
       "mobility_coefficient        49.00  \n",
       "standard_range               1.05  \n",
       "percentage_non_dialogues    61.22  \n",
       "percentage_polylogues       46.94  \n",
       "percentage_monologues       14.29  \n",
       "coefficient_unused          17.31  \n",
       "discontinuous_scenes         4.08  "
      ]
     },
     "metadata": {},
     "output_type": "display_data"
    }
   ],
   "source": [
    "first_df = contr_data_df[contr_data_df.title=='The School For Scandal'].copy()\n",
    "first_df = first_df[features].T.round(2)\n",
    "first_df.columns = ['The School For Scandal']\n",
    "second_df = french_comedies[french_comedies['title'] == 'L\\'Homme À Sentiments ou Le Tartuffe de moeurs, imitée en partie de The School for Scandal de Shéridan'].copy()\n",
    "second_df = second_df[features].T.round(2)\n",
    "second_df.columns = ['L\\'Homme À Sentiments']\n",
    "\n",
    "third_df = russian_comedies[russian_comedies.title =='Lukavin, after Sheridan'].copy()\n",
    "third_df = third_df[features].T.round(2)\n",
    "third_df.columns = ['Lukavin']\n",
    "\n",
    "first_df['L\\'Homme À Sentiments'] = second_df\n",
    "first_df['Lukavin'] = third_df\n",
    "display(first_df)"
   ]
  },
  {
   "cell_type": "markdown",
   "metadata": {},
   "source": [
    "### Chéron de la Bruyére *L'Homme À Sentiments ou Le Tartuffe de moeurs, imitée en partie de The School for Scandal de Shéridan* (1789), and Aleksandr Pisarev's *Lukavin* (1823)"
   ]
  },
  {
   "cell_type": "markdown",
   "metadata": {},
   "source": [
    "In his *L'Homme À Sentiments ou Le Tartuffe de moeurs* (\"partial imitation\" of Sheridan's *School For Scandal*) Chéron de la Bruyére made substantial structural changes:\n",
    "- the number of dramatic characters in his partial imitation was less than half of Sheridan's original (9 vs. 20 in Sheridan's comedy);\n",
    "- the mobility coefficient was lower (59 vs. 85 in Sheridan);\n",
    "- the standard range was lower (0.84 vs. 1.32 in Sheridan);\n",
    "- the percentage of non-dialogues was lower (52.54% vs. 60%)\n",
    "- the percentage of polylogues was lower (23.73% vs. 48.24%);\n",
    "- the percentage of monologues was over double (28.81% vs. 11.76% in Sheridan);\n",
    "- The coefficient of unused dramatic characters was over five times lower (21.40 vs. 4.03);\n",
    "- The percentage of discontinuous scenes was less than half of that in Sheridan's comedy (5.08% vs. 11.76%)."
   ]
  },
  {
   "cell_type": "markdown",
   "metadata": {},
   "source": [
    "### Aleksandr Pisarev's *Lukavin* (1823)"
   ]
  },
  {
   "cell_type": "markdown",
   "metadata": {},
   "source": [
    "#### Pisarev's *Lukavin*, as compared to Sheridan's *School For Scandal*:\n",
    "- fewer dramatic characters (13 vs. 20 in Sheridan);\n",
    "- lower mobility coefficient (49 vs. 85);\n",
    "- lower standard range (1.05 vs. 1.32);\n",
    "- slightly higher percentage of non-dialogues (61.22% vs. 60%);\n",
    "- slightly lower percentage of polylogues (46.94% vs. 48.24%);\n",
    "- higher percentage of monologues (14.29% vs. 11.76%);\n",
    "- lower coefficient of unused dramatic characters (17.31 vs. 21.40);\n",
    "- lower percentage of discontinuous scenes (4.08% vs. 11.76%)."
   ]
  },
  {
   "cell_type": "markdown",
   "metadata": {},
   "source": [
    "#### Pisarev's *Lukavin*, as compared to Chéron de la Bruyére *Homme À Sentiments ou Le Tartuffe de moeurs* had:\n",
    "- more dramatic characters (13 vs. 9);\n",
    "- lower mobility coefficient (49 vs. 59);\n",
    "- higher standard range (1.05 vs. 0.84);\n",
    "- higher percentage of non-dialogues (61.22% vs. 52.54%);\n",
    "- lower percentage of monologues (14.29% vs. 28.81%);\n",
    "- much higher coefficient of unused dramatic characters (17.31 vs. 4.03);\n",
    "- lower percentage of discontinuous scenes (4.08% vs 5.08%)."
   ]
  },
  {
   "cell_type": "markdown",
   "metadata": {},
   "source": [
    "Sheridan's extreme mobility coefficient of 85 was too high for the continental taste. However, Pisarev decreased it even more drastically (to 49) as compared with Chéron de la Bruyére  (59). The gap between the percentage of monologues and the percentage of polylogues in Sheridan's original was large (11.76% and 48.24%). While Pisarev kept this gap (14.29% and 46.94%), Chéron de la Bruyére reversed it by making the percentage of monologues 28.81% and the percentage of polylogues (23.73%)."
   ]
  },
  {
   "cell_type": "markdown",
   "metadata": {},
   "source": [
    "### Cosine Similarity"
   ]
  },
  {
   "cell_type": "code",
   "execution_count": 17,
   "metadata": {},
   "outputs": [
    {
     "name": "stdout",
     "output_type": "stream",
     "text": [
      "Cosine similarity between Sheridan's School for Scandal and Chéron de la Bruyére's L'Homme À Sentiments ou Le Tartuffe de moeurs and : 0.9477\n"
     ]
    }
   ],
   "source": [
    "print('Cosine similarity between Sheridan\\'s School for Scandal and Chéron de la Bruyére\\'s L\\'Homme À Sentiments ou Le Tartuffe de moeurs and :', \n",
    "      np.round(cosine_similarity(first_df.iloc[:, 0].values.reshape(1, -1), \n",
    "                                 first_df.iloc[:, 1].values.reshape(1, -1))[0][0], 4))"
   ]
  },
  {
   "cell_type": "code",
   "execution_count": 18,
   "metadata": {},
   "outputs": [
    {
     "name": "stdout",
     "output_type": "stream",
     "text": [
      "Cosine similarity between Sheridan's School for Scandal and Aleksandr Pisarev's Lukavin: 0.9634\n"
     ]
    }
   ],
   "source": [
    "print('Cosine similarity between Sheridan\\'s School for Scandal and Aleksandr Pisarev\\'s Lukavin:', \n",
    "      np.round(cosine_similarity(first_df.iloc[:, 0].values.reshape(1, -1), \n",
    "                                 first_df.iloc[:, 2].values.reshape(1, -1))[0][0], 4))"
   ]
  },
  {
   "cell_type": "code",
   "execution_count": 19,
   "metadata": {},
   "outputs": [
    {
     "name": "stdout",
     "output_type": "stream",
     "text": [
      "Cosine similarity between two adaptations: 0.9362\n"
     ]
    }
   ],
   "source": [
    "print('Cosine similarity between two adaptations:', \n",
    "      np.round(cosine_similarity(first_df.iloc[:, 1].values.reshape(1, -1), \n",
    "                                 first_df.iloc[:, 2].values.reshape(1, -1))[0][0], 4))"
   ]
  },
  {
   "cell_type": "code",
   "execution_count": 20,
   "metadata": {},
   "outputs": [],
   "source": [
    "tartuffe = french_comedies[french_comedies.title == 'Le Tartuffe'].copy()\n",
    "tartuffe = tartuffe[features].T.round(2)\n",
    "tartuffe.columns = ['Le Tartuffe']"
   ]
  },
  {
   "cell_type": "code",
   "execution_count": 21,
   "metadata": {},
   "outputs": [
    {
     "name": "stdout",
     "output_type": "stream",
     "text": [
      "Cosine similarity between Sheridan and Le Tartuffe: 0.9286\n"
     ]
    }
   ],
   "source": [
    "print('Cosine similarity between Sheridan and Le Tartuffe:', \n",
    "      np.round(cosine_similarity(first_df.iloc[:,0].values.reshape(1, -1), \n",
    "                                 tartuffe.values.reshape(1, -1))[0][0], 4))"
   ]
  },
  {
   "cell_type": "code",
   "execution_count": 22,
   "metadata": {},
   "outputs": [],
   "source": [
    "misanthrope = french_comedies[french_comedies.title =='Le Misanthrope']\n",
    "misanthrope = misanthrope[features].T.round(2)\n",
    "misanthrope.columns = ['Le Misanthrope']"
   ]
  },
  {
   "cell_type": "code",
   "execution_count": 23,
   "metadata": {},
   "outputs": [
    {
     "name": "stdout",
     "output_type": "stream",
     "text": [
      "Cosine similarity between Sheridan and Le Misanthrope: 0.8492\n"
     ]
    }
   ],
   "source": [
    "print('Cosine similarity between Sheridan and Le Misanthrope:', \n",
    "      np.round(cosine_similarity(first_df.iloc[:,0].values.reshape(1, -1), \n",
    "                                 misanthrope.values.reshape(1, -1))[0][0], 4))"
   ]
  },
  {
   "cell_type": "markdown",
   "metadata": {},
   "source": [
    "Structurally, Aleksandr Pisarev's *Lukavin* is more similar to Sheridan's *School For Scandal* (cosine similarity = 0.9634) than Chéron de la Bruyére's *L'Homme À Sentiments ou Le Tartuffe de moeurs* (0.9477). \n",
    "The two adaptations of Sheridan's *School of Scandal* are less similar to one another (cosine similarity = 0.9362). *School of Scandal* was even more dissimilar from Molière's *Le Tartuffe* (0.9286) and *Le Misanthrope* (0.8492). These adaptations are less similar to the original than the Nikolai Khmel'nitskii's, Vasilii Karatygin, and Aleksandr Shushkov's translations we examined earlier."
   ]
  },
  {
   "cell_type": "markdown",
   "metadata": {},
   "source": [
    "## Part 3. French Adaptations of French Comedies "
   ]
  },
  {
   "cell_type": "markdown",
   "metadata": {},
   "source": [
    "### Molière's *Le Misanthrope* (1666) and Josèp Daubian's *Le misanthrope travesti, after Molière* (1789)"
   ]
  },
  {
   "cell_type": "code",
   "execution_count": 24,
   "metadata": {},
   "outputs": [
    {
     "data": {
      "text/html": [
       "<div>\n",
       "<style scoped>\n",
       "    .dataframe tbody tr th:only-of-type {\n",
       "        vertical-align: middle;\n",
       "    }\n",
       "\n",
       "    .dataframe tbody tr th {\n",
       "        vertical-align: top;\n",
       "    }\n",
       "\n",
       "    .dataframe thead th {\n",
       "        text-align: right;\n",
       "    }\n",
       "</style>\n",
       "<table border=\"1\" class=\"dataframe\">\n",
       "  <thead>\n",
       "    <tr style=\"text-align: right;\">\n",
       "      <th></th>\n",
       "      <th>Le Misanthrope</th>\n",
       "      <th>Le misanthrope travesti</th>\n",
       "    </tr>\n",
       "  </thead>\n",
       "  <tbody>\n",
       "    <tr>\n",
       "      <th>num_present_characters</th>\n",
       "      <td>11.00</td>\n",
       "      <td>11.00</td>\n",
       "    </tr>\n",
       "    <tr>\n",
       "      <th>mobility_coefficient</th>\n",
       "      <td>20.00</td>\n",
       "      <td>26.00</td>\n",
       "    </tr>\n",
       "    <tr>\n",
       "      <th>standard_range</th>\n",
       "      <td>1.63</td>\n",
       "      <td>1.73</td>\n",
       "    </tr>\n",
       "    <tr>\n",
       "      <th>percentage_non_dialogues</th>\n",
       "      <td>50.00</td>\n",
       "      <td>65.38</td>\n",
       "    </tr>\n",
       "    <tr>\n",
       "      <th>percentage_polylogues</th>\n",
       "      <td>50.00</td>\n",
       "      <td>61.54</td>\n",
       "    </tr>\n",
       "    <tr>\n",
       "      <th>percentage_monologues</th>\n",
       "      <td>0.00</td>\n",
       "      <td>3.85</td>\n",
       "    </tr>\n",
       "    <tr>\n",
       "      <th>coefficient_unused</th>\n",
       "      <td>14.29</td>\n",
       "      <td>11.65</td>\n",
       "    </tr>\n",
       "    <tr>\n",
       "      <th>discontinuous_scenes</th>\n",
       "      <td>5.00</td>\n",
       "      <td>3.85</td>\n",
       "    </tr>\n",
       "  </tbody>\n",
       "</table>\n",
       "</div>"
      ],
      "text/plain": [
       "                          Le Misanthrope  Le misanthrope travesti\n",
       "num_present_characters             11.00                    11.00\n",
       "mobility_coefficient               20.00                    26.00\n",
       "standard_range                      1.63                     1.73\n",
       "percentage_non_dialogues           50.00                    65.38\n",
       "percentage_polylogues              50.00                    61.54\n",
       "percentage_monologues               0.00                     3.85\n",
       "coefficient_unused                 14.29                    11.65\n",
       "discontinuous_scenes                5.00                     3.85"
      ]
     },
     "metadata": {},
     "output_type": "display_data"
    }
   ],
   "source": [
    "first_df = french_comedies[french_comedies['title'] == 'Le Misanthrope'].copy()\n",
    "first_df = first_df[features].T.round(2)\n",
    "first_df.columns = ['Le Misanthrope']\n",
    "\n",
    "second_df = french_comedies[french_comedies['title'] == 'Le misanthrope travesti, after Molière'].copy()\n",
    "second_df = second_df[features].T.round(2)\n",
    "second_df.columns = ['Le misanthrope travesti']\n",
    "first_df['Le misanthrope travesti'] = second_df\n",
    "display(first_df)"
   ]
  },
  {
   "cell_type": "markdown",
   "metadata": {},
   "source": [
    "In his adaptation of Molière *Le misanthrope travesti*, Daubian changed the following:\n",
    "- increased the mobility coefficient from 20 to 26;\n",
    "- increased the standard range from 1.63 to 1.73;\n",
    "- increased the percentage of non-dialogues from 50% to 65.38%;\n",
    "- increased the percentage of polylogues from 50% to 61.54%;\n",
    "- included monologues (the percentage of monologues in the original was 0% and in the adaptation, it was 3.85%);\n",
    "- decreased the coefficient of unused dramatic characters from 14.29 to 11.65;\n",
    "- decreased the percentage of discontinuous scenes from 5% to 3.85%."
   ]
  },
  {
   "cell_type": "code",
   "execution_count": 25,
   "metadata": {},
   "outputs": [
    {
     "name": "stdout",
     "output_type": "stream",
     "text": [
      "Cosine similarity between the original and its adaptation: 0.9957\n"
     ]
    }
   ],
   "source": [
    "print('Cosine similarity between the original and its adaptation:', \n",
    "      np.round(cosine_similarity(first_df.iloc[:, 0].values.reshape(1, -1), \n",
    "                                first_df.iloc[:, 1].values.reshape(1, -1))[0][0], 4))"
   ]
  },
  {
   "cell_type": "markdown",
   "metadata": {},
   "source": [
    "Josèp Daubian's *Le misanthrope travesti* was more similar to its original than any of the translations or adaptations we have seen so far: the cosine similarity was 0.9957."
   ]
  },
  {
   "cell_type": "markdown",
   "metadata": {},
   "source": [
    "### Noël Lebreton, sieur de Hauteroche's *L'Esprit follet ou la Dame invisible* (1684) and ### Charles Collé *L'Esprit follet ou la Dame invisible* in vers libres (1770)"
   ]
  },
  {
   "cell_type": "code",
   "execution_count": 26,
   "metadata": {},
   "outputs": [
    {
     "data": {
      "text/html": [
       "<div>\n",
       "<style scoped>\n",
       "    .dataframe tbody tr th:only-of-type {\n",
       "        vertical-align: middle;\n",
       "    }\n",
       "\n",
       "    .dataframe tbody tr th {\n",
       "        vertical-align: top;\n",
       "    }\n",
       "\n",
       "    .dataframe thead th {\n",
       "        text-align: right;\n",
       "    }\n",
       "</style>\n",
       "<table border=\"1\" class=\"dataframe\">\n",
       "  <thead>\n",
       "    <tr style=\"text-align: right;\">\n",
       "      <th></th>\n",
       "      <th>L'Esprit follet</th>\n",
       "      <th>Collé's L'Esprit follet</th>\n",
       "    </tr>\n",
       "  </thead>\n",
       "  <tbody>\n",
       "    <tr>\n",
       "      <th>num_present_characters</th>\n",
       "      <td>9.00</td>\n",
       "      <td>10.00</td>\n",
       "    </tr>\n",
       "    <tr>\n",
       "      <th>mobility_coefficient</th>\n",
       "      <td>62.00</td>\n",
       "      <td>61.00</td>\n",
       "    </tr>\n",
       "    <tr>\n",
       "      <th>standard_range</th>\n",
       "      <td>0.91</td>\n",
       "      <td>0.82</td>\n",
       "    </tr>\n",
       "    <tr>\n",
       "      <th>percentage_non_dialogues</th>\n",
       "      <td>38.71</td>\n",
       "      <td>45.90</td>\n",
       "    </tr>\n",
       "    <tr>\n",
       "      <th>percentage_polylogues</th>\n",
       "      <td>25.81</td>\n",
       "      <td>26.23</td>\n",
       "    </tr>\n",
       "    <tr>\n",
       "      <th>percentage_monologues</th>\n",
       "      <td>9.68</td>\n",
       "      <td>19.67</td>\n",
       "    </tr>\n",
       "    <tr>\n",
       "      <th>coefficient_unused</th>\n",
       "      <td>18.82</td>\n",
       "      <td>21.64</td>\n",
       "    </tr>\n",
       "    <tr>\n",
       "      <th>discontinuous_scenes</th>\n",
       "      <td>20.97</td>\n",
       "      <td>19.67</td>\n",
       "    </tr>\n",
       "  </tbody>\n",
       "</table>\n",
       "</div>"
      ],
      "text/plain": [
       "                          L'Esprit follet  Collé's L'Esprit follet\n",
       "num_present_characters               9.00                    10.00\n",
       "mobility_coefficient                62.00                    61.00\n",
       "standard_range                       0.91                     0.82\n",
       "percentage_non_dialogues            38.71                    45.90\n",
       "percentage_polylogues               25.81                    26.23\n",
       "percentage_monologues                9.68                    19.67\n",
       "coefficient_unused                  18.82                    21.64\n",
       "discontinuous_scenes                20.97                    19.67"
      ]
     },
     "metadata": {},
     "output_type": "display_data"
    }
   ],
   "source": [
    "first_df = french_comedies[french_comedies['title'] == 'L\\'Esprit follet ou la Dame invisible '].copy()\n",
    "first_df = first_df[features].T.round(2)\n",
    "first_df.columns = ['L\\'Esprit follet']\n",
    "second_df = french_comedies[french_comedies['title'] == 'L\\'Esprit follet ou la Dame invisible, mise en vers libres'].copy()\n",
    "second_df = second_df[features].T.round(2)\n",
    "second_df.columns = ['Collé\\'s L\\'Esprit follet']\n",
    "\n",
    "first_df['Collé\\'s L\\'Esprit follet'] = second_df\n",
    "display(first_df)"
   ]
  },
  {
   "cell_type": "markdown",
   "metadata": {},
   "source": [
    "In his reworking of Hauteroche's *L'Esprit follet ou la Dame invisible* in vers libres, Collé changed the following:\n",
    "- increased the number of dramatic characters from 9 to 10;\n",
    "- decreased the mobility coefficient from 62 to 61;\n",
    "- decreased the standard range from 0.91 to 0.82;\n",
    "- increased the percentage of non-dialogues from 38.71% to 45.90%;\n",
    "- increased the percentage of polylogues from 25.81% to 26.23%;\n",
    "- increased dramatically the percentage of monologues from 9.68% to 19.67%;\n",
    "- increased the coefficient of unused dramatic characters from 18.82 to 21.64;\n",
    "- decreased the percentage of discontinuous scenes from 20.97% to 19.67%."
   ]
  },
  {
   "cell_type": "markdown",
   "metadata": {},
   "source": [
    "### Cosine Similarity"
   ]
  },
  {
   "cell_type": "code",
   "execution_count": 27,
   "metadata": {},
   "outputs": [
    {
     "name": "stdout",
     "output_type": "stream",
     "text": [
      "Cosine similarity between the original and its adaptation: 0.9907\n"
     ]
    }
   ],
   "source": [
    "print('Cosine similarity between the original and its adaptation:', \n",
    "      np.round(cosine_similarity(first_df.iloc[:, 0].values.reshape(1, -1), \n",
    "                                first_df.iloc[:, 1].values.reshape(1, -1))[0][0], 4))"
   ]
  },
  {
   "cell_type": "markdown",
   "metadata": {},
   "source": [
    "Charles Collé *L\\'Esprit follet ou la Dame invisible* was not as similar to Hauteroche's original (cosine similarity of 0.9907) as Nikolai Sushkov's *Metromaniia ili strast’ k stikhotvorstvu* (0.9911) or Nikolai Khmel’nitskii's translation of Molière's *L'École des femmes* (0.9943)."
   ]
  },
  {
   "cell_type": "markdown",
   "metadata": {},
   "source": [
    "## Conclusions:\n",
    "1. Translation and adaptation of a comedy often included not only lexical and/or semantic changes, but also structural modifications of the original.\n",
    "2. Vasilii Karatygin's *Zhenatyi filosof* (1827) was the most similar comedy to its original, Nericault-Destouches's Le *Philosophe marié* (1727) (cosine similarity = 0.9992). The second most similar translation to its original was Nikolai Khmel’nitskii's translation of Molière's *L'École des femme*s  (cosine similarity = 0.9943).\n",
    "3. Two adaptations of the same original (Chéron de la Bruyére *L'Homme À Sentiments ou Le Tartuffe de moeurs* and Pisarev's *Lukavin*) decreased the values of most of the features as compared to Sheridan's *The School For Scandal*. However, *Lukavin*, remained closer to Sheridan (cosine similarity = 0.9634) than *L'Homme À Sentiments* (cosine similarity = 0.9477). The two adaptations appeared to be the most dissimilar out of analyzed examples (cosine similarity = 0.9362).\n",
    "4. The continental traditions were closer to one another than the English comic tradition. The Russian translations of the French original comedies as well as the French adaptations of the French originals experienced less structural transformation, with the smallest cosine similarity = 0.9898). French and Russian translations and adaptations of the English comedy experienced a more substantial transformation (with the smallest cosine similarity = 0.9477).\n",
    "5. Two of Molière's comedies (*Le Tartuffe* and *Le Misanthrope*) had extremely low percentage of monologues  (3.23 and 0 respectively), which the translators and imitators increased."
   ]
  },
  {
   "cell_type": "code",
   "execution_count": null,
   "metadata": {},
   "outputs": [],
   "source": []
  }
 ],
 "metadata": {
  "kernelspec": {
   "display_name": "Python 3",
   "language": "python",
   "name": "python3"
  },
  "language_info": {
   "codemirror_mode": {
    "name": "ipython",
    "version": 3
   },
   "file_extension": ".py",
   "mimetype": "text/x-python",
   "name": "python",
   "nbconvert_exporter": "python",
   "pygments_lexer": "ipython3",
   "version": "3.7.6"
  }
 },
 "nbformat": 4,
 "nbformat_minor": 4
}
