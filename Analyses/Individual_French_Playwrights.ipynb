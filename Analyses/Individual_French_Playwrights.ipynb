{
 "cells": [
  {
   "cell_type": "markdown",
   "metadata": {},
   "source": [
    "# Individual Playwrights in the Context of The Evolution of The French Comedy\n",
    "In this analysis we will explore the playwrights in the context of the evolution of the five-act comedy in verse. We will focus on the following features:\n",
    "- The number of dramatic characters\n",
    "- The mobility coefficient\n",
    "- The standard range of the number of speaking characters\n",
    "- The percentage of polylogues\n",
    "- The percentage of monologues.\n",
    "\n",
    "Our agenda:\n",
    "1. For each time period and each feature, we will identify the comedy that that represents the maximum, the minimum, and the comedies that are the closest to the mean.\n",
    "2. For each time period, we create a summary for individual playwrights that represent two groups (more prolific, i.e., those who wrote at least two five-act verse comedies, and less prolific, i.e., those who wrote only one such comedy).\n",
    "    - Calculate the mean number of dramatic characters, mean mobility coefficient, the standard range of the number of speaking characters (sigma), the mean percentage of polylogues, and the mean percentage of monologues.\n",
    "    - Calculate open-form scores for each playwright that tell us how experimental each playwright is.\n",
    "3. Examine the evolution of Fabre d'Églantine and Jean-François Collin d’Harleville whose oeuvre spanned two literary periods."
   ]
  },
  {
   "cell_type": "markdown",
   "metadata": {},
   "source": [
    "### Import Libraries"
   ]
  },
  {
   "cell_type": "code",
   "execution_count": 1,
   "metadata": {},
   "outputs": [],
   "source": [
    "import pandas as pd\n",
    "import numpy as np\n",
    "import matplotlib.pyplot as plt\n",
    "%matplotlib inline\n",
    "import seaborn as sns\n",
    "import re\n",
    "import joblib"
   ]
  },
  {
   "cell_type": "markdown",
   "metadata": {},
   "source": [
    "### Define Functions"
   ]
  },
  {
   "cell_type": "code",
   "execution_count": 2,
   "metadata": {},
   "outputs": [],
   "source": [
    "# update the boundaries as we determined based on our hypothesis testing\n",
    "def determine_period(row):\n",
    "    if row <= 1695:\n",
    "        period = 1\n",
    "    elif row >= 1696 and row <= 1795:\n",
    "        period = 2\n",
    "    else:\n",
    "        period = 3\n",
    "    \n",
    "    return period"
   ]
  },
  {
   "cell_type": "code",
   "execution_count": 3,
   "metadata": {},
   "outputs": [],
   "source": [
    "def make_list(row):\n",
    "    speech_dist = []\n",
    "    for value in row[1:-1].split('\\n '):\n",
    "        speech_dist.append([int(num) for num in re.findall('[0-9]+', value)])\n",
    "        \n",
    "    return speech_dist"
   ]
  },
  {
   "cell_type": "code",
   "execution_count": 4,
   "metadata": {},
   "outputs": [],
   "source": [
    "def speech_distribution_by_period(period_df):\n",
    "    all_distributions = []\n",
    "    for row in period_df['speech_distribution']:\n",
    "        speech_dist_df = pd.DataFrame(row).T\n",
    "        # rename columns to make sure they start with 1 and not 0\n",
    "        speech_dist_df.columns = speech_dist_df.iloc[0, :]\n",
    "        # no need to include the variants as a row - they will be column names\n",
    "        only_counts_df = pd.DataFrame(speech_dist_df.iloc[1, :])\n",
    "        only_counts_df.columns = ['raw_numbers']\n",
    "        only_counts_df['percentage'] = only_counts_df['raw_numbers'] / only_counts_df.sum().values[0]\n",
    "        all_distributions.append(round(only_counts_df['percentage'], 4))\n",
    "    period_df_dist = pd.concat(all_distributions, axis=1).fillna(0)\n",
    "    # take the mean for each period\n",
    "    mean_per_type = pd.DataFrame(period_df_dist.mean(axis=1)).T \n",
    "    mean_per_type.index.name = 'number_of_speakers'\n",
    "    mean_per_type = (mean_per_type * 100).round(2)\n",
    "        \n",
    "    return mean_per_type"
   ]
  },
  {
   "cell_type": "code",
   "execution_count": 5,
   "metadata": {},
   "outputs": [],
   "source": [
    "def sigma_iarkho(df):\n",
    "    \"\"\"\n",
    "    The function allows calculating standard range following iarkho's procedure.\n",
    "    Parameters:\n",
    "        df  - a dataframe where columns are variants, i.e., the distinct number of speakers in the ascending order, \n",
    "              e.g. [1, 2, 3, 4, 5] and values weights corresponding to these variants, i.e.,\n",
    "              the number of scenes, e.g. [20, 32, 18, 9, 1]\n",
    "    Returns:\n",
    "        sigma - standard range per iarkho\n",
    "    \"\"\"\n",
    "    weighted_mean_variants = np.average(df.columns.tolist(), weights=df.values[0])\n",
    "    differences_squared = [(variant - weighted_mean_variants)**2 for variant in df.columns]\n",
    "    weighted_mean_difference = np.average(differences_squared, weights=df.values[0])\n",
    "    sigma = round(weighted_mean_difference**0.5, 2)\n",
    "\n",
    "    return sigma"
   ]
  },
  {
   "cell_type": "code",
   "execution_count": 6,
   "metadata": {},
   "outputs": [],
   "source": [
    "def sigma_for_playwrights(df, playwrights_lst):\n",
    "    sigmas = []\n",
    "    for playwright in playwrights_lst:\n",
    "        selection = df[(df.last_name == playwright[0]) & (df.first_name == playwright[1])].copy()\n",
    "        sigma = selection.pipe(speech_distribution_by_period).pipe(sigma_iarkho)\n",
    "        sigmas.append(sigma)\n",
    "        \n",
    "    summary = pd.DataFrame(sigmas, columns=['sigma_iarkho'])\n",
    "    summary['z_score'] = (summary['sigma_iarkho'] - df['sigma_iarkho'].mean()) / df['sigma_iarkho'].std()\n",
    "    summary.index = playwrights_lst\n",
    "    \n",
    "    return summary"
   ]
  },
  {
   "cell_type": "code",
   "execution_count": 7,
   "metadata": {},
   "outputs": [],
   "source": [
    "def summary_feature(df, feature):\n",
    "    print('Mean, standard deviation, median, min and max values for the period:')\n",
    "    display(df[feature].describe()[['mean', 'std', '50%','min', 'max']].round(2))\n",
    "    print('Period Max:')\n",
    "    display(df[df[feature] == df[feature].max()][['last_name', 'first_name', 'title', 'date', feature]].round(2))\n",
    "    print('Period Min:')\n",
    "    display(df[df[feature] == df[feature].min()][['last_name', 'first_name', 'title', 'date', feature]].round(2))\n",
    "    print('The closest to the mean:')\n",
    "    df_copy = df.copy()\n",
    "    df_copy['diff_with_mean'] = df_copy[feature].apply(lambda x: np.absolute(x - df_copy[feature].mean()))\n",
    "    display(df_copy[df_copy['diff_with_mean'] == df_copy['diff_with_mean'].min()][['last_name', 'first_name', 'title', 'date', feature]].round(2))"
   ]
  },
  {
   "cell_type": "code",
   "execution_count": 8,
   "metadata": {},
   "outputs": [],
   "source": [
    "def authors_data(data_df, feature):\n",
    "    overall_mean = round(data_df[feature].mean(), 2)\n",
    "    overall_std = round(data_df[feature].std(), 2)\n",
    "    statistics = ['mean'] \n",
    "    all_authors = pd.DataFrame(data_df.groupby(['last_name', 'first_name'])[feature].mean())\n",
    "    all_authors.columns= ['mean']\n",
    "    all_authors['z_score'] = (all_authors['mean'] - overall_mean) / overall_std\n",
    "    \n",
    "    return  all_authors"
   ]
  },
  {
   "cell_type": "code",
   "execution_count": 9,
   "metadata": {},
   "outputs": [],
   "source": [
    "def playwrights_place(df, with_z_score=True):\n",
    "    if with_z_score:\n",
    "        column = 'z_score'\n",
    "        sigma_col = column\n",
    "    else:\n",
    "        column = ['mean']\n",
    "        sigma_col = 'sigma_iarkho'\n",
    "    summary = pd.DataFrame(authors_data(df, 'num_present_characters')[column])\n",
    "    summary.columns = ['num_present_characters']\n",
    "    # make sure the order of the playwrights is the same\n",
    "    \n",
    "    ind = summary.index\n",
    "    summary['mobility_coefficient'] = authors_data(df, 'mobility_coefficient', \n",
    "                                                        ).loc[ind, column]\n",
    "    summary['sigma_iarkho'] = sigma_for_playwrights(df, ind)[sigma_col]\n",
    "    summary['polylogues'] = authors_data(df, 'percentage_polylogues', \n",
    "                                                         ).loc[ind, column]\n",
    "    summary['monologues'] = authors_data(df, 'percentage_monologues', \n",
    "                                                         ).loc[ind, column]\n",
    "    summary = summary.round(2)\n",
    "    if with_z_score:\n",
    "        summary['monologues'] = summary['monologues'].apply(lambda x: -x)\n",
    "        summary['open_form_score'] = round(summary.apply(lambda x: x.mean(), axis=1), 2)\n",
    "        summary = summary.sort_values(by='open_form_score', ascending=False)\n",
    "        \n",
    "    return summary"
   ]
  },
  {
   "cell_type": "markdown",
   "metadata": {},
   "source": [
    "### Load Data"
   ]
  },
  {
   "cell_type": "code",
   "execution_count": 10,
   "metadata": {},
   "outputs": [],
   "source": [
    "data = pd.read_csv('../French_Comedies/Data/French_Comedies_Data.csv')"
   ]
  },
  {
   "cell_type": "code",
   "execution_count": 11,
   "metadata": {},
   "outputs": [
    {
     "data": {
      "text/plain": [
       "(277, 25)"
      ]
     },
     "execution_count": 11,
     "metadata": {},
     "output_type": "execute_result"
    }
   ],
   "source": [
    "data.shape"
   ]
  },
  {
   "cell_type": "code",
   "execution_count": 12,
   "metadata": {},
   "outputs": [],
   "source": [
    "# include only five act comedies and only original comedies\n",
    "original_comedies = data[(data['num_acts'] ==5)&\n",
    "                         (data['translation/adaptation/contrastive'] == 0)].copy()"
   ]
  },
  {
   "cell_type": "code",
   "execution_count": 13,
   "metadata": {},
   "outputs": [
    {
     "data": {
      "text/html": [
       "<div>\n",
       "<style scoped>\n",
       "    .dataframe tbody tr th:only-of-type {\n",
       "        vertical-align: middle;\n",
       "    }\n",
       "\n",
       "    .dataframe tbody tr th {\n",
       "        vertical-align: top;\n",
       "    }\n",
       "\n",
       "    .dataframe thead th {\n",
       "        text-align: right;\n",
       "    }\n",
       "</style>\n",
       "<table border=\"1\" class=\"dataframe\">\n",
       "  <thead>\n",
       "    <tr style=\"text-align: right;\">\n",
       "      <th></th>\n",
       "      <th>index</th>\n",
       "      <th>title</th>\n",
       "      <th>last_name</th>\n",
       "      <th>first_name</th>\n",
       "      <th>date</th>\n",
       "      <th>translation/adaptation/contrastive</th>\n",
       "      <th>num_acts</th>\n",
       "      <th>url</th>\n",
       "      <th>num_present_characters</th>\n",
       "      <th>num_scenes_text</th>\n",
       "      <th>...</th>\n",
       "      <th>percentage_above_two_speakers</th>\n",
       "      <th>av_percentage_non_speakers</th>\n",
       "      <th>sigma_iarkho</th>\n",
       "      <th>number_scenes_with_discontinuous_change_characters</th>\n",
       "      <th>percentage_scenes_with_discontinuous_change_characters</th>\n",
       "      <th>total_utterances</th>\n",
       "      <th>num_verse_lines</th>\n",
       "      <th>dialogue_vivacity</th>\n",
       "      <th>five_year_intervals</th>\n",
       "      <th>decades</th>\n",
       "    </tr>\n",
       "  </thead>\n",
       "  <tbody>\n",
       "    <tr>\n",
       "      <th>0</th>\n",
       "      <td>F_3</td>\n",
       "      <td>Mélite ou Les fausses lettres</td>\n",
       "      <td>Corneille</td>\n",
       "      <td>Pierre</td>\n",
       "      <td>1629</td>\n",
       "      <td>0</td>\n",
       "      <td>5</td>\n",
       "      <td>http://www.theatre-classique.fr/pages/document...</td>\n",
       "      <td>8</td>\n",
       "      <td>35</td>\n",
       "      <td>...</td>\n",
       "      <td>23.08</td>\n",
       "      <td>0.513</td>\n",
       "      <td>0.906</td>\n",
       "      <td>12</td>\n",
       "      <td>30.769</td>\n",
       "      <td>483.0</td>\n",
       "      <td>1822.0</td>\n",
       "      <td>0.265</td>\n",
       "      <td>1630</td>\n",
       "      <td>1630</td>\n",
       "    </tr>\n",
       "    <tr>\n",
       "      <th>1</th>\n",
       "      <td>F_5</td>\n",
       "      <td>La Veuve ou Le Traître trahi</td>\n",
       "      <td>Corneille</td>\n",
       "      <td>Pierre</td>\n",
       "      <td>1633</td>\n",
       "      <td>0</td>\n",
       "      <td>5</td>\n",
       "      <td>http://www.theatre-classique.fr/pages/document...</td>\n",
       "      <td>12</td>\n",
       "      <td>40</td>\n",
       "      <td>...</td>\n",
       "      <td>20.00</td>\n",
       "      <td>3.519</td>\n",
       "      <td>1.062</td>\n",
       "      <td>12</td>\n",
       "      <td>26.667</td>\n",
       "      <td>521.0</td>\n",
       "      <td>2010.0</td>\n",
       "      <td>0.259</td>\n",
       "      <td>1635</td>\n",
       "      <td>1640</td>\n",
       "    </tr>\n",
       "    <tr>\n",
       "      <th>2</th>\n",
       "      <td>F_9</td>\n",
       "      <td>La Célimène</td>\n",
       "      <td>Rotrou</td>\n",
       "      <td>Jean de</td>\n",
       "      <td>1633</td>\n",
       "      <td>0</td>\n",
       "      <td>5</td>\n",
       "      <td>http://www.xn--thtre-documentation-cvb0m.com/c...</td>\n",
       "      <td>10</td>\n",
       "      <td>36</td>\n",
       "      <td>...</td>\n",
       "      <td>22.22</td>\n",
       "      <td>8.963</td>\n",
       "      <td>1.092</td>\n",
       "      <td>5</td>\n",
       "      <td>11.111</td>\n",
       "      <td>NaN</td>\n",
       "      <td>NaN</td>\n",
       "      <td>NaN</td>\n",
       "      <td>1635</td>\n",
       "      <td>1640</td>\n",
       "    </tr>\n",
       "  </tbody>\n",
       "</table>\n",
       "<p>3 rows × 25 columns</p>\n",
       "</div>"
      ],
      "text/plain": [
       "  index                                 title  last_name first_name  date  \\\n",
       "0   F_3         Mélite ou Les fausses lettres  Corneille     Pierre  1629   \n",
       "1   F_5  La Veuve ou Le Traître trahi          Corneille     Pierre  1633   \n",
       "2   F_9                           La Célimène     Rotrou    Jean de  1633   \n",
       "\n",
       "   translation/adaptation/contrastive  num_acts  \\\n",
       "0                                   0         5   \n",
       "1                                   0         5   \n",
       "2                                   0         5   \n",
       "\n",
       "                                                 url  num_present_characters  \\\n",
       "0  http://www.theatre-classique.fr/pages/document...                       8   \n",
       "1  http://www.theatre-classique.fr/pages/document...                      12   \n",
       "2  http://www.xn--thtre-documentation-cvb0m.com/c...                      10   \n",
       "\n",
       "   num_scenes_text  ...  percentage_above_two_speakers  \\\n",
       "0               35  ...                          23.08   \n",
       "1               40  ...                          20.00   \n",
       "2               36  ...                          22.22   \n",
       "\n",
       "  av_percentage_non_speakers  sigma_iarkho  \\\n",
       "0                      0.513         0.906   \n",
       "1                      3.519         1.062   \n",
       "2                      8.963         1.092   \n",
       "\n",
       "   number_scenes_with_discontinuous_change_characters  \\\n",
       "0                                                 12    \n",
       "1                                                 12    \n",
       "2                                                  5    \n",
       "\n",
       "   percentage_scenes_with_discontinuous_change_characters  total_utterances  \\\n",
       "0                                             30.769                  483.0   \n",
       "1                                             26.667                  521.0   \n",
       "2                                             11.111                    NaN   \n",
       "\n",
       "   num_verse_lines  dialogue_vivacity  five_year_intervals  decades  \n",
       "0           1822.0              0.265                 1630     1630  \n",
       "1           2010.0              0.259                 1635     1640  \n",
       "2              NaN                NaN                 1635     1640  \n",
       "\n",
       "[3 rows x 25 columns]"
      ]
     },
     "execution_count": 13,
     "metadata": {},
     "output_type": "execute_result"
    }
   ],
   "source": [
    "original_comedies.head(3)"
   ]
  },
  {
   "cell_type": "code",
   "execution_count": 14,
   "metadata": {},
   "outputs": [
    {
     "data": {
      "text/plain": [
       "(257, 25)"
      ]
     },
     "execution_count": 14,
     "metadata": {},
     "output_type": "execute_result"
    }
   ],
   "source": [
    "original_comedies.shape"
   ]
  },
  {
   "cell_type": "code",
   "execution_count": 15,
   "metadata": {},
   "outputs": [],
   "source": [
    "sorted_comedies = original_comedies.sort_values(by='date')"
   ]
  },
  {
   "cell_type": "code",
   "execution_count": 16,
   "metadata": {},
   "outputs": [],
   "source": [
    "sorted_comedies['period'] = sorted_comedies['date'].apply(determine_period)"
   ]
  },
  {
   "cell_type": "code",
   "execution_count": 17,
   "metadata": {},
   "outputs": [],
   "source": [
    "sorted_comedies = sorted_comedies.rename(columns={'num_scenes_iarkho': 'mobility_coefficient', \n",
    "                                                  'percentage_non_duologues': 'percentage_non_dialogues',\n",
    "                                                  'percentage_above_two_speakers': 'percentage_polylogues'})"
   ]
  },
  {
   "cell_type": "code",
   "execution_count": 18,
   "metadata": {},
   "outputs": [],
   "source": [
    "# remove white spaces\n",
    "sorted_comedies['last_name'] = sorted_comedies['last_name'].str.strip()\n",
    "sorted_comedies['first_name'] = sorted_comedies['first_name'].str.strip()\n",
    "sorted_comedies['first_name'] = sorted_comedies['first_name'].fillna('')\n",
    "sorted_comedies['speech_distribution'] = sorted_comedies['speech_distribution'].apply(make_list)"
   ]
  },
  {
   "cell_type": "code",
   "execution_count": 19,
   "metadata": {},
   "outputs": [],
   "source": [
    "period_one = sorted_comedies[sorted_comedies.period == 1].copy()\n",
    "period_two = sorted_comedies[sorted_comedies.period == 2].copy()\n",
    "period_three = sorted_comedies[sorted_comedies.period == 3].copy()"
   ]
  },
  {
   "cell_type": "markdown",
   "metadata": {},
   "source": [
    "## Part 1. The Maximum, The Minimum, and The Closest to The Mean"
   ]
  },
  {
   "cell_type": "markdown",
   "metadata": {},
   "source": [
    "### Period 1 (1629 to 1695)"
   ]
  },
  {
   "cell_type": "markdown",
   "metadata": {},
   "source": [
    "#### Number of Dramatic Characters"
   ]
  },
  {
   "cell_type": "code",
   "execution_count": 20,
   "metadata": {},
   "outputs": [
    {
     "name": "stdout",
     "output_type": "stream",
     "text": [
      "Mean, standard deviation, median, min and max values for the period:\n"
     ]
    },
    {
     "data": {
      "text/plain": [
       "mean    11.91\n",
       "std      4.05\n",
       "50%     11.00\n",
       "min      7.00\n",
       "max     30.00\n",
       "Name: num_present_characters, dtype: float64"
      ]
     },
     "metadata": {},
     "output_type": "display_data"
    },
    {
     "name": "stdout",
     "output_type": "stream",
     "text": [
      "Period Max:\n"
     ]
    },
    {
     "data": {
      "text/html": [
       "<div>\n",
       "<style scoped>\n",
       "    .dataframe tbody tr th:only-of-type {\n",
       "        vertical-align: middle;\n",
       "    }\n",
       "\n",
       "    .dataframe tbody tr th {\n",
       "        vertical-align: top;\n",
       "    }\n",
       "\n",
       "    .dataframe thead th {\n",
       "        text-align: right;\n",
       "    }\n",
       "</style>\n",
       "<table border=\"1\" class=\"dataframe\">\n",
       "  <thead>\n",
       "    <tr style=\"text-align: right;\">\n",
       "      <th></th>\n",
       "      <th>last_name</th>\n",
       "      <th>first_name</th>\n",
       "      <th>title</th>\n",
       "      <th>date</th>\n",
       "      <th>num_present_characters</th>\n",
       "    </tr>\n",
       "  </thead>\n",
       "  <tbody>\n",
       "    <tr>\n",
       "      <th>78</th>\n",
       "      <td>Chalussay</td>\n",
       "      <td>Le Boulanger de</td>\n",
       "      <td>Elomire Hypocondre</td>\n",
       "      <td>1670</td>\n",
       "      <td>30</td>\n",
       "    </tr>\n",
       "  </tbody>\n",
       "</table>\n",
       "</div>"
      ],
      "text/plain": [
       "    last_name       first_name                title  date  \\\n",
       "78  Chalussay  Le Boulanger de  Elomire Hypocondre   1670   \n",
       "\n",
       "    num_present_characters  \n",
       "78                      30  "
      ]
     },
     "metadata": {},
     "output_type": "display_data"
    },
    {
     "name": "stdout",
     "output_type": "stream",
     "text": [
      "Period Min:\n"
     ]
    },
    {
     "data": {
      "text/html": [
       "<div>\n",
       "<style scoped>\n",
       "    .dataframe tbody tr th:only-of-type {\n",
       "        vertical-align: middle;\n",
       "    }\n",
       "\n",
       "    .dataframe tbody tr th {\n",
       "        vertical-align: top;\n",
       "    }\n",
       "\n",
       "    .dataframe thead th {\n",
       "        text-align: right;\n",
       "    }\n",
       "</style>\n",
       "<table border=\"1\" class=\"dataframe\">\n",
       "  <thead>\n",
       "    <tr style=\"text-align: right;\">\n",
       "      <th></th>\n",
       "      <th>last_name</th>\n",
       "      <th>first_name</th>\n",
       "      <th>title</th>\n",
       "      <th>date</th>\n",
       "      <th>num_present_characters</th>\n",
       "    </tr>\n",
       "  </thead>\n",
       "  <tbody>\n",
       "    <tr>\n",
       "      <th>23</th>\n",
       "      <td>Corneille</td>\n",
       "      <td>Pierre</td>\n",
       "      <td>La Suite du menteur</td>\n",
       "      <td>1643</td>\n",
       "      <td>7</td>\n",
       "    </tr>\n",
       "    <tr>\n",
       "      <th>68</th>\n",
       "      <td>Montfleury</td>\n",
       "      <td></td>\n",
       "      <td>L’École des filles</td>\n",
       "      <td>1666</td>\n",
       "      <td>7</td>\n",
       "    </tr>\n",
       "    <tr>\n",
       "      <th>79</th>\n",
       "      <td>Marcel</td>\n",
       "      <td></td>\n",
       "      <td>Le Mariage sans mariage</td>\n",
       "      <td>1671</td>\n",
       "      <td>7</td>\n",
       "    </tr>\n",
       "  </tbody>\n",
       "</table>\n",
       "</div>"
      ],
      "text/plain": [
       "     last_name first_name                    title  date  \\\n",
       "23   Corneille     Pierre      La Suite du menteur  1643   \n",
       "68  Montfleury                  L’École des filles  1666   \n",
       "79      Marcel             Le Mariage sans mariage  1671   \n",
       "\n",
       "    num_present_characters  \n",
       "23                       7  \n",
       "68                       7  \n",
       "79                       7  "
      ]
     },
     "metadata": {},
     "output_type": "display_data"
    },
    {
     "name": "stdout",
     "output_type": "stream",
     "text": [
      "The closest to the mean:\n"
     ]
    },
    {
     "data": {
      "text/html": [
       "<div>\n",
       "<style scoped>\n",
       "    .dataframe tbody tr th:only-of-type {\n",
       "        vertical-align: middle;\n",
       "    }\n",
       "\n",
       "    .dataframe tbody tr th {\n",
       "        vertical-align: top;\n",
       "    }\n",
       "\n",
       "    .dataframe thead th {\n",
       "        text-align: right;\n",
       "    }\n",
       "</style>\n",
       "<table border=\"1\" class=\"dataframe\">\n",
       "  <thead>\n",
       "    <tr style=\"text-align: right;\">\n",
       "      <th></th>\n",
       "      <th>last_name</th>\n",
       "      <th>first_name</th>\n",
       "      <th>title</th>\n",
       "      <th>date</th>\n",
       "      <th>num_present_characters</th>\n",
       "    </tr>\n",
       "  </thead>\n",
       "  <tbody>\n",
       "    <tr>\n",
       "      <th>1</th>\n",
       "      <td>Corneille</td>\n",
       "      <td>Pierre</td>\n",
       "      <td>La Veuve ou Le Traître trahi</td>\n",
       "      <td>1633</td>\n",
       "      <td>12</td>\n",
       "    </tr>\n",
       "    <tr>\n",
       "      <th>4</th>\n",
       "      <td>Corneille</td>\n",
       "      <td>Pierre</td>\n",
       "      <td>La Galerie du Palais</td>\n",
       "      <td>1634</td>\n",
       "      <td>12</td>\n",
       "    </tr>\n",
       "    <tr>\n",
       "      <th>52</th>\n",
       "      <td>Boisrobert</td>\n",
       "      <td>François Le Métel de</td>\n",
       "      <td>Les Apparences trompeuses</td>\n",
       "      <td>1655</td>\n",
       "      <td>12</td>\n",
       "    </tr>\n",
       "    <tr>\n",
       "      <th>58</th>\n",
       "      <td>Molière</td>\n",
       "      <td></td>\n",
       "      <td>Le Dépit amoureux</td>\n",
       "      <td>1658</td>\n",
       "      <td>12</td>\n",
       "    </tr>\n",
       "    <tr>\n",
       "      <th>63</th>\n",
       "      <td>Montfleury</td>\n",
       "      <td></td>\n",
       "      <td>Le Mari sans femme</td>\n",
       "      <td>1663</td>\n",
       "      <td>12</td>\n",
       "    </tr>\n",
       "    <tr>\n",
       "      <th>64</th>\n",
       "      <td>Boursault</td>\n",
       "      <td>Edmé</td>\n",
       "      <td>Les Nicandres</td>\n",
       "      <td>1663</td>\n",
       "      <td>12</td>\n",
       "    </tr>\n",
       "    <tr>\n",
       "      <th>66</th>\n",
       "      <td>Boursault</td>\n",
       "      <td>Edmé</td>\n",
       "      <td>Les deux frères gémeaux</td>\n",
       "      <td>1665</td>\n",
       "      <td>12</td>\n",
       "    </tr>\n",
       "    <tr>\n",
       "      <th>77</th>\n",
       "      <td>Poisson</td>\n",
       "      <td>Raymond</td>\n",
       "      <td>Les Pipeurs ou les Femmes coquettes</td>\n",
       "      <td>1670</td>\n",
       "      <td>12</td>\n",
       "    </tr>\n",
       "  </tbody>\n",
       "</table>\n",
       "</div>"
      ],
      "text/plain": [
       "     last_name            first_name                                 title  \\\n",
       "1    Corneille                Pierre  La Veuve ou Le Traître trahi           \n",
       "4    Corneille                Pierre                  La Galerie du Palais   \n",
       "52  Boisrobert  François Le Métel de             Les Apparences trompeuses   \n",
       "58     Molière                                           Le Dépit amoureux   \n",
       "63  Montfleury                                          Le Mari sans femme   \n",
       "64   Boursault                  Edmé                         Les Nicandres   \n",
       "66   Boursault                  Edmé               Les deux frères gémeaux   \n",
       "77     Poisson               Raymond  Les Pipeurs ou les Femmes coquettes    \n",
       "\n",
       "    date  num_present_characters  \n",
       "1   1633                      12  \n",
       "4   1634                      12  \n",
       "52  1655                      12  \n",
       "58  1658                      12  \n",
       "63  1663                      12  \n",
       "64  1663                      12  \n",
       "66  1665                      12  \n",
       "77  1670                      12  "
      ]
     },
     "metadata": {},
     "output_type": "display_data"
    }
   ],
   "source": [
    "summary_feature(period_one, 'num_present_characters')"
   ]
  },
  {
   "cell_type": "markdown",
   "metadata": {},
   "source": [
    "#### Mobility Coefficient"
   ]
  },
  {
   "cell_type": "code",
   "execution_count": 21,
   "metadata": {},
   "outputs": [
    {
     "name": "stdout",
     "output_type": "stream",
     "text": [
      "Mean, standard deviation, median, min and max values for the period:\n"
     ]
    },
    {
     "data": {
      "text/plain": [
       "mean    41.9\n",
       "std     11.6\n",
       "50%     40.0\n",
       "min     19.0\n",
       "max     85.0\n",
       "Name: mobility_coefficient, dtype: float64"
      ]
     },
     "metadata": {},
     "output_type": "display_data"
    },
    {
     "name": "stdout",
     "output_type": "stream",
     "text": [
      "Period Max:\n"
     ]
    },
    {
     "data": {
      "text/html": [
       "<div>\n",
       "<style scoped>\n",
       "    .dataframe tbody tr th:only-of-type {\n",
       "        vertical-align: middle;\n",
       "    }\n",
       "\n",
       "    .dataframe tbody tr th {\n",
       "        vertical-align: top;\n",
       "    }\n",
       "\n",
       "    .dataframe thead th {\n",
       "        text-align: right;\n",
       "    }\n",
       "</style>\n",
       "<table border=\"1\" class=\"dataframe\">\n",
       "  <thead>\n",
       "    <tr style=\"text-align: right;\">\n",
       "      <th></th>\n",
       "      <th>last_name</th>\n",
       "      <th>first_name</th>\n",
       "      <th>title</th>\n",
       "      <th>date</th>\n",
       "      <th>mobility_coefficient</th>\n",
       "    </tr>\n",
       "  </thead>\n",
       "  <tbody>\n",
       "    <tr>\n",
       "      <th>84</th>\n",
       "      <td>Hauteroche</td>\n",
       "      <td>Noël Lebreton, sieur de</td>\n",
       "      <td>Crispin musicien</td>\n",
       "      <td>1674</td>\n",
       "      <td>85</td>\n",
       "    </tr>\n",
       "  </tbody>\n",
       "</table>\n",
       "</div>"
      ],
      "text/plain": [
       "     last_name               first_name             title  date  \\\n",
       "84  Hauteroche  Noël Lebreton, sieur de  Crispin musicien  1674   \n",
       "\n",
       "    mobility_coefficient  \n",
       "84                    85  "
      ]
     },
     "metadata": {},
     "output_type": "display_data"
    },
    {
     "name": "stdout",
     "output_type": "stream",
     "text": [
      "Period Min:\n"
     ]
    },
    {
     "data": {
      "text/html": [
       "<div>\n",
       "<style scoped>\n",
       "    .dataframe tbody tr th:only-of-type {\n",
       "        vertical-align: middle;\n",
       "    }\n",
       "\n",
       "    .dataframe tbody tr th {\n",
       "        vertical-align: top;\n",
       "    }\n",
       "\n",
       "    .dataframe thead th {\n",
       "        text-align: right;\n",
       "    }\n",
       "</style>\n",
       "<table border=\"1\" class=\"dataframe\">\n",
       "  <thead>\n",
       "    <tr style=\"text-align: right;\">\n",
       "      <th></th>\n",
       "      <th>last_name</th>\n",
       "      <th>first_name</th>\n",
       "      <th>title</th>\n",
       "      <th>date</th>\n",
       "      <th>mobility_coefficient</th>\n",
       "    </tr>\n",
       "  </thead>\n",
       "  <tbody>\n",
       "    <tr>\n",
       "      <th>16</th>\n",
       "      <td>Guérin de Bouscal</td>\n",
       "      <td>Guyon</td>\n",
       "      <td>Dom Quixote de la Manche</td>\n",
       "      <td>1639</td>\n",
       "      <td>19</td>\n",
       "    </tr>\n",
       "  </tbody>\n",
       "</table>\n",
       "</div>"
      ],
      "text/plain": [
       "            last_name first_name                      title  date  \\\n",
       "16  Guérin de Bouscal      Guyon  Dom Quixote de la Manche   1639   \n",
       "\n",
       "    mobility_coefficient  \n",
       "16                    19  "
      ]
     },
     "metadata": {},
     "output_type": "display_data"
    },
    {
     "name": "stdout",
     "output_type": "stream",
     "text": [
      "The closest to the mean:\n"
     ]
    },
    {
     "data": {
      "text/html": [
       "<div>\n",
       "<style scoped>\n",
       "    .dataframe tbody tr th:only-of-type {\n",
       "        vertical-align: middle;\n",
       "    }\n",
       "\n",
       "    .dataframe tbody tr th {\n",
       "        vertical-align: top;\n",
       "    }\n",
       "\n",
       "    .dataframe thead th {\n",
       "        text-align: right;\n",
       "    }\n",
       "</style>\n",
       "<table border=\"1\" class=\"dataframe\">\n",
       "  <thead>\n",
       "    <tr style=\"text-align: right;\">\n",
       "      <th></th>\n",
       "      <th>last_name</th>\n",
       "      <th>first_name</th>\n",
       "      <th>title</th>\n",
       "      <th>date</th>\n",
       "      <th>mobility_coefficient</th>\n",
       "    </tr>\n",
       "  </thead>\n",
       "  <tbody>\n",
       "    <tr>\n",
       "      <th>37</th>\n",
       "      <td>Boisrobert</td>\n",
       "      <td>François Le Métel de</td>\n",
       "      <td>La Folle Gageure</td>\n",
       "      <td>1651</td>\n",
       "      <td>42</td>\n",
       "    </tr>\n",
       "    <tr>\n",
       "      <th>43</th>\n",
       "      <td>Corneille</td>\n",
       "      <td>Thomas</td>\n",
       "      <td>Le Charme de la voix</td>\n",
       "      <td>1653</td>\n",
       "      <td>42</td>\n",
       "    </tr>\n",
       "    <tr>\n",
       "      <th>77</th>\n",
       "      <td>Poisson</td>\n",
       "      <td>Raymond</td>\n",
       "      <td>Les Pipeurs ou les Femmes coquettes</td>\n",
       "      <td>1670</td>\n",
       "      <td>42</td>\n",
       "    </tr>\n",
       "  </tbody>\n",
       "</table>\n",
       "</div>"
      ],
      "text/plain": [
       "     last_name            first_name                                 title  \\\n",
       "37  Boisrobert  François Le Métel de                      La Folle Gageure   \n",
       "43   Corneille                Thomas                  Le Charme de la voix   \n",
       "77     Poisson               Raymond  Les Pipeurs ou les Femmes coquettes    \n",
       "\n",
       "    date  mobility_coefficient  \n",
       "37  1651                    42  \n",
       "43  1653                    42  \n",
       "77  1670                    42  "
      ]
     },
     "metadata": {},
     "output_type": "display_data"
    }
   ],
   "source": [
    "summary_feature(period_one, 'mobility_coefficient')"
   ]
  },
  {
   "cell_type": "markdown",
   "metadata": {},
   "source": [
    "#### Standard Range of the Number of Speaking Characters (Sigma)"
   ]
  },
  {
   "cell_type": "code",
   "execution_count": 22,
   "metadata": {},
   "outputs": [
    {
     "name": "stdout",
     "output_type": "stream",
     "text": [
      "Mean, standard deviation, median, min and max values for the period:\n"
     ]
    },
    {
     "data": {
      "text/plain": [
       "mean    1.25\n",
       "std     0.40\n",
       "50%     1.19\n",
       "min     0.60\n",
       "max     3.54\n",
       "Name: sigma_iarkho, dtype: float64"
      ]
     },
     "metadata": {},
     "output_type": "display_data"
    },
    {
     "name": "stdout",
     "output_type": "stream",
     "text": [
      "Period Max:\n"
     ]
    },
    {
     "data": {
      "text/html": [
       "<div>\n",
       "<style scoped>\n",
       "    .dataframe tbody tr th:only-of-type {\n",
       "        vertical-align: middle;\n",
       "    }\n",
       "\n",
       "    .dataframe tbody tr th {\n",
       "        vertical-align: top;\n",
       "    }\n",
       "\n",
       "    .dataframe thead th {\n",
       "        text-align: right;\n",
       "    }\n",
       "</style>\n",
       "<table border=\"1\" class=\"dataframe\">\n",
       "  <thead>\n",
       "    <tr style=\"text-align: right;\">\n",
       "      <th></th>\n",
       "      <th>last_name</th>\n",
       "      <th>first_name</th>\n",
       "      <th>title</th>\n",
       "      <th>date</th>\n",
       "      <th>sigma_iarkho</th>\n",
       "    </tr>\n",
       "  </thead>\n",
       "  <tbody>\n",
       "    <tr>\n",
       "      <th>78</th>\n",
       "      <td>Chalussay</td>\n",
       "      <td>Le Boulanger de</td>\n",
       "      <td>Elomire Hypocondre</td>\n",
       "      <td>1670</td>\n",
       "      <td>3.54</td>\n",
       "    </tr>\n",
       "  </tbody>\n",
       "</table>\n",
       "</div>"
      ],
      "text/plain": [
       "    last_name       first_name                title  date  sigma_iarkho\n",
       "78  Chalussay  Le Boulanger de  Elomire Hypocondre   1670          3.54"
      ]
     },
     "metadata": {},
     "output_type": "display_data"
    },
    {
     "name": "stdout",
     "output_type": "stream",
     "text": [
      "Period Min:\n"
     ]
    },
    {
     "data": {
      "text/html": [
       "<div>\n",
       "<style scoped>\n",
       "    .dataframe tbody tr th:only-of-type {\n",
       "        vertical-align: middle;\n",
       "    }\n",
       "\n",
       "    .dataframe tbody tr th {\n",
       "        vertical-align: top;\n",
       "    }\n",
       "\n",
       "    .dataframe thead th {\n",
       "        text-align: right;\n",
       "    }\n",
       "</style>\n",
       "<table border=\"1\" class=\"dataframe\">\n",
       "  <thead>\n",
       "    <tr style=\"text-align: right;\">\n",
       "      <th></th>\n",
       "      <th>last_name</th>\n",
       "      <th>first_name</th>\n",
       "      <th>title</th>\n",
       "      <th>date</th>\n",
       "      <th>sigma_iarkho</th>\n",
       "    </tr>\n",
       "  </thead>\n",
       "  <tbody>\n",
       "    <tr>\n",
       "      <th>67</th>\n",
       "      <td>Quinault</td>\n",
       "      <td>Philippe</td>\n",
       "      <td>La Mère coquette</td>\n",
       "      <td>1665</td>\n",
       "      <td>0.6</td>\n",
       "    </tr>\n",
       "  </tbody>\n",
       "</table>\n",
       "</div>"
      ],
      "text/plain": [
       "   last_name first_name             title  date  sigma_iarkho\n",
       "67  Quinault   Philippe  La Mère coquette  1665           0.6"
      ]
     },
     "metadata": {},
     "output_type": "display_data"
    },
    {
     "name": "stdout",
     "output_type": "stream",
     "text": [
      "The closest to the mean:\n"
     ]
    },
    {
     "data": {
      "text/html": [
       "<div>\n",
       "<style scoped>\n",
       "    .dataframe tbody tr th:only-of-type {\n",
       "        vertical-align: middle;\n",
       "    }\n",
       "\n",
       "    .dataframe tbody tr th {\n",
       "        vertical-align: top;\n",
       "    }\n",
       "\n",
       "    .dataframe thead th {\n",
       "        text-align: right;\n",
       "    }\n",
       "</style>\n",
       "<table border=\"1\" class=\"dataframe\">\n",
       "  <thead>\n",
       "    <tr style=\"text-align: right;\">\n",
       "      <th></th>\n",
       "      <th>last_name</th>\n",
       "      <th>first_name</th>\n",
       "      <th>title</th>\n",
       "      <th>date</th>\n",
       "      <th>sigma_iarkho</th>\n",
       "    </tr>\n",
       "  </thead>\n",
       "  <tbody>\n",
       "    <tr>\n",
       "      <th>87</th>\n",
       "      <td>Montfleury</td>\n",
       "      <td></td>\n",
       "      <td>Crispin gentilhomme</td>\n",
       "      <td>1677</td>\n",
       "      <td>1.25</td>\n",
       "    </tr>\n",
       "  </tbody>\n",
       "</table>\n",
       "</div>"
      ],
      "text/plain": [
       "     last_name first_name                title  date  sigma_iarkho\n",
       "87  Montfleury             Crispin gentilhomme  1677          1.25"
      ]
     },
     "metadata": {},
     "output_type": "display_data"
    }
   ],
   "source": [
    "summary_feature(period_one, 'sigma_iarkho')"
   ]
  },
  {
   "cell_type": "markdown",
   "metadata": {},
   "source": [
    "#### The Percentage of Polylogues"
   ]
  },
  {
   "cell_type": "code",
   "execution_count": 23,
   "metadata": {},
   "outputs": [
    {
     "name": "stdout",
     "output_type": "stream",
     "text": [
      "Mean, standard deviation, median, min and max values for the period:\n"
     ]
    },
    {
     "data": {
      "text/plain": [
       "mean    42.36\n",
       "std     13.87\n",
       "50%     41.46\n",
       "min     10.64\n",
       "max     86.21\n",
       "Name: percentage_polylogues, dtype: float64"
      ]
     },
     "metadata": {},
     "output_type": "display_data"
    },
    {
     "name": "stdout",
     "output_type": "stream",
     "text": [
      "Period Max:\n"
     ]
    },
    {
     "data": {
      "text/html": [
       "<div>\n",
       "<style scoped>\n",
       "    .dataframe tbody tr th:only-of-type {\n",
       "        vertical-align: middle;\n",
       "    }\n",
       "\n",
       "    .dataframe tbody tr th {\n",
       "        vertical-align: top;\n",
       "    }\n",
       "\n",
       "    .dataframe thead th {\n",
       "        text-align: right;\n",
       "    }\n",
       "</style>\n",
       "<table border=\"1\" class=\"dataframe\">\n",
       "  <thead>\n",
       "    <tr style=\"text-align: right;\">\n",
       "      <th></th>\n",
       "      <th>last_name</th>\n",
       "      <th>first_name</th>\n",
       "      <th>title</th>\n",
       "      <th>date</th>\n",
       "      <th>percentage_polylogues</th>\n",
       "    </tr>\n",
       "  </thead>\n",
       "  <tbody>\n",
       "    <tr>\n",
       "      <th>39</th>\n",
       "      <td>Boisrobert</td>\n",
       "      <td>François Le Métel de</td>\n",
       "      <td>Les trois Orontes</td>\n",
       "      <td>1652</td>\n",
       "      <td>86.21</td>\n",
       "    </tr>\n",
       "  </tbody>\n",
       "</table>\n",
       "</div>"
      ],
      "text/plain": [
       "     last_name            first_name              title  date  \\\n",
       "39  Boisrobert  François Le Métel de  Les trois Orontes  1652   \n",
       "\n",
       "    percentage_polylogues  \n",
       "39                  86.21  "
      ]
     },
     "metadata": {},
     "output_type": "display_data"
    },
    {
     "name": "stdout",
     "output_type": "stream",
     "text": [
      "Period Min:\n"
     ]
    },
    {
     "data": {
      "text/html": [
       "<div>\n",
       "<style scoped>\n",
       "    .dataframe tbody tr th:only-of-type {\n",
       "        vertical-align: middle;\n",
       "    }\n",
       "\n",
       "    .dataframe tbody tr th {\n",
       "        vertical-align: top;\n",
       "    }\n",
       "\n",
       "    .dataframe thead th {\n",
       "        text-align: right;\n",
       "    }\n",
       "</style>\n",
       "<table border=\"1\" class=\"dataframe\">\n",
       "  <thead>\n",
       "    <tr style=\"text-align: right;\">\n",
       "      <th></th>\n",
       "      <th>last_name</th>\n",
       "      <th>first_name</th>\n",
       "      <th>title</th>\n",
       "      <th>date</th>\n",
       "      <th>percentage_polylogues</th>\n",
       "    </tr>\n",
       "  </thead>\n",
       "  <tbody>\n",
       "    <tr>\n",
       "      <th>5</th>\n",
       "      <td>Corneille</td>\n",
       "      <td>Pierre</td>\n",
       "      <td>La Suivante</td>\n",
       "      <td>1634</td>\n",
       "      <td>10.64</td>\n",
       "    </tr>\n",
       "  </tbody>\n",
       "</table>\n",
       "</div>"
      ],
      "text/plain": [
       "   last_name first_name        title  date  percentage_polylogues\n",
       "5  Corneille     Pierre  La Suivante  1634                  10.64"
      ]
     },
     "metadata": {},
     "output_type": "display_data"
    },
    {
     "name": "stdout",
     "output_type": "stream",
     "text": [
      "The closest to the mean:\n"
     ]
    },
    {
     "data": {
      "text/html": [
       "<div>\n",
       "<style scoped>\n",
       "    .dataframe tbody tr th:only-of-type {\n",
       "        vertical-align: middle;\n",
       "    }\n",
       "\n",
       "    .dataframe tbody tr th {\n",
       "        vertical-align: top;\n",
       "    }\n",
       "\n",
       "    .dataframe thead th {\n",
       "        text-align: right;\n",
       "    }\n",
       "</style>\n",
       "<table border=\"1\" class=\"dataframe\">\n",
       "  <thead>\n",
       "    <tr style=\"text-align: right;\">\n",
       "      <th></th>\n",
       "      <th>last_name</th>\n",
       "      <th>first_name</th>\n",
       "      <th>title</th>\n",
       "      <th>date</th>\n",
       "      <th>percentage_polylogues</th>\n",
       "    </tr>\n",
       "  </thead>\n",
       "  <tbody>\n",
       "    <tr>\n",
       "      <th>24</th>\n",
       "      <td>Ouville</td>\n",
       "      <td>Antoine d'</td>\n",
       "      <td>La Dame suivante</td>\n",
       "      <td>1643</td>\n",
       "      <td>42.31</td>\n",
       "    </tr>\n",
       "  </tbody>\n",
       "</table>\n",
       "</div>"
      ],
      "text/plain": [
       "   last_name  first_name             title  date  percentage_polylogues\n",
       "24   Ouville  Antoine d'  La Dame suivante  1643                  42.31"
      ]
     },
     "metadata": {},
     "output_type": "display_data"
    }
   ],
   "source": [
    "summary_feature(period_one, 'percentage_polylogues')"
   ]
  },
  {
   "cell_type": "markdown",
   "metadata": {},
   "source": [
    "#### The Percentage of Monologues"
   ]
  },
  {
   "cell_type": "code",
   "execution_count": 24,
   "metadata": {},
   "outputs": [
    {
     "name": "stdout",
     "output_type": "stream",
     "text": [
      "Mean, standard deviation, median, min and max values for the period:\n"
     ]
    },
    {
     "data": {
      "text/plain": [
       "mean    13.41\n",
       "std      9.55\n",
       "50%     12.12\n",
       "min      0.00\n",
       "max     33.33\n",
       "Name: percentage_monologues, dtype: float64"
      ]
     },
     "metadata": {},
     "output_type": "display_data"
    },
    {
     "name": "stdout",
     "output_type": "stream",
     "text": [
      "Period Max:\n"
     ]
    },
    {
     "data": {
      "text/html": [
       "<div>\n",
       "<style scoped>\n",
       "    .dataframe tbody tr th:only-of-type {\n",
       "        vertical-align: middle;\n",
       "    }\n",
       "\n",
       "    .dataframe tbody tr th {\n",
       "        vertical-align: top;\n",
       "    }\n",
       "\n",
       "    .dataframe thead th {\n",
       "        text-align: right;\n",
       "    }\n",
       "</style>\n",
       "<table border=\"1\" class=\"dataframe\">\n",
       "  <thead>\n",
       "    <tr style=\"text-align: right;\">\n",
       "      <th></th>\n",
       "      <th>last_name</th>\n",
       "      <th>first_name</th>\n",
       "      <th>title</th>\n",
       "      <th>date</th>\n",
       "      <th>percentage_monologues</th>\n",
       "    </tr>\n",
       "  </thead>\n",
       "  <tbody>\n",
       "    <tr>\n",
       "      <th>2</th>\n",
       "      <td>Rotrou</td>\n",
       "      <td>Jean de</td>\n",
       "      <td>La Célimène</td>\n",
       "      <td>1633</td>\n",
       "      <td>33.33</td>\n",
       "    </tr>\n",
       "  </tbody>\n",
       "</table>\n",
       "</div>"
      ],
      "text/plain": [
       "  last_name first_name        title  date  percentage_monologues\n",
       "2    Rotrou    Jean de  La Célimène  1633                  33.33"
      ]
     },
     "metadata": {},
     "output_type": "display_data"
    },
    {
     "name": "stdout",
     "output_type": "stream",
     "text": [
      "Period Min:\n"
     ]
    },
    {
     "data": {
      "text/html": [
       "<div>\n",
       "<style scoped>\n",
       "    .dataframe tbody tr th:only-of-type {\n",
       "        vertical-align: middle;\n",
       "    }\n",
       "\n",
       "    .dataframe tbody tr th {\n",
       "        vertical-align: top;\n",
       "    }\n",
       "\n",
       "    .dataframe thead th {\n",
       "        text-align: right;\n",
       "    }\n",
       "</style>\n",
       "<table border=\"1\" class=\"dataframe\">\n",
       "  <thead>\n",
       "    <tr style=\"text-align: right;\">\n",
       "      <th></th>\n",
       "      <th>last_name</th>\n",
       "      <th>first_name</th>\n",
       "      <th>title</th>\n",
       "      <th>date</th>\n",
       "      <th>percentage_monologues</th>\n",
       "    </tr>\n",
       "  </thead>\n",
       "  <tbody>\n",
       "    <tr>\n",
       "      <th>16</th>\n",
       "      <td>Guérin de Bouscal</td>\n",
       "      <td>Guyon</td>\n",
       "      <td>Dom Quixote de la Manche</td>\n",
       "      <td>1639</td>\n",
       "      <td>0.0</td>\n",
       "    </tr>\n",
       "    <tr>\n",
       "      <th>33</th>\n",
       "      <td>Scarron</td>\n",
       "      <td>Paul</td>\n",
       "      <td>L'Héritier ridicule ou la Dame intéressée</td>\n",
       "      <td>1649</td>\n",
       "      <td>0.0</td>\n",
       "    </tr>\n",
       "    <tr>\n",
       "      <th>40</th>\n",
       "      <td>Scarron</td>\n",
       "      <td>Paul</td>\n",
       "      <td>Don Japhet d'Arménie</td>\n",
       "      <td>1652</td>\n",
       "      <td>0.0</td>\n",
       "    </tr>\n",
       "    <tr>\n",
       "      <th>44</th>\n",
       "      <td>Boisrobert</td>\n",
       "      <td>François Le Métel de</td>\n",
       "      <td>La Belle plaideuse</td>\n",
       "      <td>1654</td>\n",
       "      <td>0.0</td>\n",
       "    </tr>\n",
       "    <tr>\n",
       "      <th>59</th>\n",
       "      <td>Corneille</td>\n",
       "      <td>Thomas</td>\n",
       "      <td>Le Galant doublé</td>\n",
       "      <td>1660</td>\n",
       "      <td>0.0</td>\n",
       "    </tr>\n",
       "    <tr>\n",
       "      <th>67</th>\n",
       "      <td>Quinault</td>\n",
       "      <td>Philippe</td>\n",
       "      <td>La Mère coquette</td>\n",
       "      <td>1665</td>\n",
       "      <td>0.0</td>\n",
       "    </tr>\n",
       "    <tr>\n",
       "      <th>69</th>\n",
       "      <td>Molière</td>\n",
       "      <td></td>\n",
       "      <td>Le Misanthrope</td>\n",
       "      <td>1666</td>\n",
       "      <td>0.0</td>\n",
       "    </tr>\n",
       "    <tr>\n",
       "      <th>71</th>\n",
       "      <td>Corneille</td>\n",
       "      <td>Thomas</td>\n",
       "      <td>Le Baron d'Albikrac</td>\n",
       "      <td>1668</td>\n",
       "      <td>0.0</td>\n",
       "    </tr>\n",
       "    <tr>\n",
       "      <th>75</th>\n",
       "      <td>Corneille</td>\n",
       "      <td>Thomas</td>\n",
       "      <td>La Comtesse d'Orgueil</td>\n",
       "      <td>1670</td>\n",
       "      <td>0.0</td>\n",
       "    </tr>\n",
       "  </tbody>\n",
       "</table>\n",
       "</div>"
      ],
      "text/plain": [
       "            last_name            first_name  \\\n",
       "16  Guérin de Bouscal                 Guyon   \n",
       "33            Scarron                  Paul   \n",
       "40            Scarron                  Paul   \n",
       "44         Boisrobert  François Le Métel de   \n",
       "59          Corneille                Thomas   \n",
       "67           Quinault              Philippe   \n",
       "69            Molière                         \n",
       "71          Corneille                Thomas   \n",
       "75          Corneille                Thomas   \n",
       "\n",
       "                                        title  date  percentage_monologues  \n",
       "16                  Dom Quixote de la Manche   1639                    0.0  \n",
       "33  L'Héritier ridicule ou la Dame intéressée  1649                    0.0  \n",
       "40                       Don Japhet d'Arménie  1652                    0.0  \n",
       "44                         La Belle plaideuse  1654                    0.0  \n",
       "59                           Le Galant doublé  1660                    0.0  \n",
       "67                           La Mère coquette  1665                    0.0  \n",
       "69                             Le Misanthrope  1666                    0.0  \n",
       "71                        Le Baron d'Albikrac  1668                    0.0  \n",
       "75                      La Comtesse d'Orgueil  1670                    0.0  "
      ]
     },
     "metadata": {},
     "output_type": "display_data"
    },
    {
     "name": "stdout",
     "output_type": "stream",
     "text": [
      "The closest to the mean:\n"
     ]
    },
    {
     "data": {
      "text/html": [
       "<div>\n",
       "<style scoped>\n",
       "    .dataframe tbody tr th:only-of-type {\n",
       "        vertical-align: middle;\n",
       "    }\n",
       "\n",
       "    .dataframe tbody tr th {\n",
       "        vertical-align: top;\n",
       "    }\n",
       "\n",
       "    .dataframe thead th {\n",
       "        text-align: right;\n",
       "    }\n",
       "</style>\n",
       "<table border=\"1\" class=\"dataframe\">\n",
       "  <thead>\n",
       "    <tr style=\"text-align: right;\">\n",
       "      <th></th>\n",
       "      <th>last_name</th>\n",
       "      <th>first_name</th>\n",
       "      <th>title</th>\n",
       "      <th>date</th>\n",
       "      <th>percentage_monologues</th>\n",
       "    </tr>\n",
       "  </thead>\n",
       "  <tbody>\n",
       "    <tr>\n",
       "      <th>17</th>\n",
       "      <td>Mareschal</td>\n",
       "      <td>André</td>\n",
       "      <td>Le Véritable Capitan Matamore</td>\n",
       "      <td>1640</td>\n",
       "      <td>13.33</td>\n",
       "    </tr>\n",
       "  </tbody>\n",
       "</table>\n",
       "</div>"
      ],
      "text/plain": [
       "    last_name first_name                          title  date  \\\n",
       "17  Mareschal      André  Le Véritable Capitan Matamore  1640   \n",
       "\n",
       "    percentage_monologues  \n",
       "17                  13.33  "
      ]
     },
     "metadata": {},
     "output_type": "display_data"
    }
   ],
   "source": [
    "summary_feature(period_one, 'percentage_monologues')"
   ]
  },
  {
   "cell_type": "markdown",
   "metadata": {},
   "source": [
    "## Period 2 (1696 to 1795)"
   ]
  },
  {
   "cell_type": "markdown",
   "metadata": {},
   "source": [
    "#### Number of Dramatic Characters"
   ]
  },
  {
   "cell_type": "code",
   "execution_count": 25,
   "metadata": {},
   "outputs": [
    {
     "name": "stdout",
     "output_type": "stream",
     "text": [
      "Mean, standard deviation, median, min and max values for the period:\n"
     ]
    },
    {
     "data": {
      "text/plain": [
       "mean    10.53\n",
       "std      2.89\n",
       "50%     10.00\n",
       "min      6.00\n",
       "max     24.00\n",
       "Name: num_present_characters, dtype: float64"
      ]
     },
     "metadata": {},
     "output_type": "display_data"
    },
    {
     "name": "stdout",
     "output_type": "stream",
     "text": [
      "Period Max:\n"
     ]
    },
    {
     "data": {
      "text/html": [
       "<div>\n",
       "<style scoped>\n",
       "    .dataframe tbody tr th:only-of-type {\n",
       "        vertical-align: middle;\n",
       "    }\n",
       "\n",
       "    .dataframe tbody tr th {\n",
       "        vertical-align: top;\n",
       "    }\n",
       "\n",
       "    .dataframe thead th {\n",
       "        text-align: right;\n",
       "    }\n",
       "</style>\n",
       "<table border=\"1\" class=\"dataframe\">\n",
       "  <thead>\n",
       "    <tr style=\"text-align: right;\">\n",
       "      <th></th>\n",
       "      <th>last_name</th>\n",
       "      <th>first_name</th>\n",
       "      <th>title</th>\n",
       "      <th>date</th>\n",
       "      <th>num_present_characters</th>\n",
       "    </tr>\n",
       "  </thead>\n",
       "  <tbody>\n",
       "    <tr>\n",
       "      <th>199</th>\n",
       "      <td>Cubières-Palmézeaux</td>\n",
       "      <td>Michel de</td>\n",
       "      <td>L'Homme d'état imaginaire</td>\n",
       "      <td>1789</td>\n",
       "      <td>24</td>\n",
       "    </tr>\n",
       "  </tbody>\n",
       "</table>\n",
       "</div>"
      ],
      "text/plain": [
       "               last_name first_name                      title  date  \\\n",
       "199  Cubières-Palmézeaux  Michel de  L'Homme d'état imaginaire  1789   \n",
       "\n",
       "     num_present_characters  \n",
       "199                      24  "
      ]
     },
     "metadata": {},
     "output_type": "display_data"
    },
    {
     "name": "stdout",
     "output_type": "stream",
     "text": [
      "Period Min:\n"
     ]
    },
    {
     "data": {
      "text/html": [
       "<div>\n",
       "<style scoped>\n",
       "    .dataframe tbody tr th:only-of-type {\n",
       "        vertical-align: middle;\n",
       "    }\n",
       "\n",
       "    .dataframe tbody tr th {\n",
       "        vertical-align: top;\n",
       "    }\n",
       "\n",
       "    .dataframe thead th {\n",
       "        text-align: right;\n",
       "    }\n",
       "</style>\n",
       "<table border=\"1\" class=\"dataframe\">\n",
       "  <thead>\n",
       "    <tr style=\"text-align: right;\">\n",
       "      <th></th>\n",
       "      <th>last_name</th>\n",
       "      <th>first_name</th>\n",
       "      <th>title</th>\n",
       "      <th>date</th>\n",
       "      <th>num_present_characters</th>\n",
       "    </tr>\n",
       "  </thead>\n",
       "  <tbody>\n",
       "    <tr>\n",
       "      <th>156</th>\n",
       "      <td>Néricault Destouches</td>\n",
       "      <td></td>\n",
       "      <td>Le Mari confident</td>\n",
       "      <td>1758</td>\n",
       "      <td>6</td>\n",
       "    </tr>\n",
       "    <tr>\n",
       "      <th>161</th>\n",
       "      <td>Bastide</td>\n",
       "      <td>Jean-François de</td>\n",
       "      <td>Le Jeune homme</td>\n",
       "      <td>1766</td>\n",
       "      <td>6</td>\n",
       "    </tr>\n",
       "  </tbody>\n",
       "</table>\n",
       "</div>"
      ],
      "text/plain": [
       "                last_name        first_name              title  date  \\\n",
       "156  Néricault Destouches                    Le Mari confident  1758   \n",
       "161               Bastide  Jean-François de     Le Jeune homme  1766   \n",
       "\n",
       "     num_present_characters  \n",
       "156                       6  \n",
       "161                       6  "
      ]
     },
     "metadata": {},
     "output_type": "display_data"
    },
    {
     "name": "stdout",
     "output_type": "stream",
     "text": [
      "The closest to the mean:\n"
     ]
    },
    {
     "data": {
      "text/html": [
       "<div>\n",
       "<style scoped>\n",
       "    .dataframe tbody tr th:only-of-type {\n",
       "        vertical-align: middle;\n",
       "    }\n",
       "\n",
       "    .dataframe tbody tr th {\n",
       "        vertical-align: top;\n",
       "    }\n",
       "\n",
       "    .dataframe thead th {\n",
       "        text-align: right;\n",
       "    }\n",
       "</style>\n",
       "<table border=\"1\" class=\"dataframe\">\n",
       "  <thead>\n",
       "    <tr style=\"text-align: right;\">\n",
       "      <th></th>\n",
       "      <th>last_name</th>\n",
       "      <th>first_name</th>\n",
       "      <th>title</th>\n",
       "      <th>date</th>\n",
       "      <th>num_present_characters</th>\n",
       "    </tr>\n",
       "  </thead>\n",
       "  <tbody>\n",
       "    <tr>\n",
       "      <th>104</th>\n",
       "      <td>Dancourt</td>\n",
       "      <td></td>\n",
       "      <td>Les Enfants de Paris ou la Famille à la mode</td>\n",
       "      <td>1699</td>\n",
       "      <td>11</td>\n",
       "    </tr>\n",
       "    <tr>\n",
       "      <th>124</th>\n",
       "      <td>Néricault Destouches</td>\n",
       "      <td></td>\n",
       "      <td>Les Philosophes amoureux</td>\n",
       "      <td>1729</td>\n",
       "      <td>11</td>\n",
       "    </tr>\n",
       "    <tr>\n",
       "      <th>126</th>\n",
       "      <td>Du Fresny</td>\n",
       "      <td>Charles</td>\n",
       "      <td>Le Faux Sincère</td>\n",
       "      <td>1731</td>\n",
       "      <td>11</td>\n",
       "    </tr>\n",
       "    <tr>\n",
       "      <th>130</th>\n",
       "      <td>Rousseau</td>\n",
       "      <td>Jean-Baptiste</td>\n",
       "      <td>Les ayeux chimériques ou la comtesse de Critognac</td>\n",
       "      <td>1735</td>\n",
       "      <td>11</td>\n",
       "    </tr>\n",
       "    <tr>\n",
       "      <th>136</th>\n",
       "      <td>Néricault Destouches</td>\n",
       "      <td></td>\n",
       "      <td>L'Ambitieux et l'Indiscrète</td>\n",
       "      <td>1737</td>\n",
       "      <td>11</td>\n",
       "    </tr>\n",
       "    <tr>\n",
       "      <th>185</th>\n",
       "      <td>Bièvre</td>\n",
       "      <td>Marquis de</td>\n",
       "      <td>Le Séducteur</td>\n",
       "      <td>1783</td>\n",
       "      <td>11</td>\n",
       "    </tr>\n",
       "    <tr>\n",
       "      <th>190</th>\n",
       "      <td>Borel</td>\n",
       "      <td></td>\n",
       "      <td>Le Méfiant</td>\n",
       "      <td>1786</td>\n",
       "      <td>11</td>\n",
       "    </tr>\n",
       "    <tr>\n",
       "      <th>195</th>\n",
       "      <td>Collin d’Harleville</td>\n",
       "      <td>Jean-François</td>\n",
       "      <td>L'Optimiste ou l'Homme content de tout</td>\n",
       "      <td>1788</td>\n",
       "      <td>11</td>\n",
       "    </tr>\n",
       "    <tr>\n",
       "      <th>200</th>\n",
       "      <td>Fabre d'Églantine</td>\n",
       "      <td></td>\n",
       "      <td>Le Philinte de Molière</td>\n",
       "      <td>1790</td>\n",
       "      <td>11</td>\n",
       "    </tr>\n",
       "  </tbody>\n",
       "</table>\n",
       "</div>"
      ],
      "text/plain": [
       "                last_name     first_name  \\\n",
       "104              Dancourt                  \n",
       "124  Néricault Destouches                  \n",
       "126             Du Fresny        Charles   \n",
       "130              Rousseau  Jean-Baptiste   \n",
       "136  Néricault Destouches                  \n",
       "185                Bièvre     Marquis de   \n",
       "190                 Borel                  \n",
       "195   Collin d’Harleville  Jean-François   \n",
       "200     Fabre d'Églantine                  \n",
       "\n",
       "                                                 title  date  \\\n",
       "104       Les Enfants de Paris ou la Famille à la mode  1699   \n",
       "124                           Les Philosophes amoureux  1729   \n",
       "126                                    Le Faux Sincère  1731   \n",
       "130  Les ayeux chimériques ou la comtesse de Critognac  1735   \n",
       "136                        L'Ambitieux et l'Indiscrète  1737   \n",
       "185                                       Le Séducteur  1783   \n",
       "190                                         Le Méfiant  1786   \n",
       "195            L'Optimiste ou l'Homme content de tout   1788   \n",
       "200                             Le Philinte de Molière  1790   \n",
       "\n",
       "     num_present_characters  \n",
       "104                      11  \n",
       "124                      11  \n",
       "126                      11  \n",
       "130                      11  \n",
       "136                      11  \n",
       "185                      11  \n",
       "190                      11  \n",
       "195                      11  \n",
       "200                      11  "
      ]
     },
     "metadata": {},
     "output_type": "display_data"
    }
   ],
   "source": [
    "summary_feature(period_two, 'num_present_characters')"
   ]
  },
  {
   "cell_type": "markdown",
   "metadata": {},
   "source": [
    "#### Mobility Coefficient"
   ]
  },
  {
   "cell_type": "code",
   "execution_count": 26,
   "metadata": {},
   "outputs": [
    {
     "name": "stdout",
     "output_type": "stream",
     "text": [
      "Mean, standard deviation, median, min and max values for the period:\n"
     ]
    },
    {
     "data": {
      "text/plain": [
       "mean    49.29\n",
       "std     11.32\n",
       "50%     48.50\n",
       "min     29.00\n",
       "max     91.00\n",
       "Name: mobility_coefficient, dtype: float64"
      ]
     },
     "metadata": {},
     "output_type": "display_data"
    },
    {
     "name": "stdout",
     "output_type": "stream",
     "text": [
      "Period Max:\n"
     ]
    },
    {
     "data": {
      "text/html": [
       "<div>\n",
       "<style scoped>\n",
       "    .dataframe tbody tr th:only-of-type {\n",
       "        vertical-align: middle;\n",
       "    }\n",
       "\n",
       "    .dataframe tbody tr th {\n",
       "        vertical-align: top;\n",
       "    }\n",
       "\n",
       "    .dataframe thead th {\n",
       "        text-align: right;\n",
       "    }\n",
       "</style>\n",
       "<table border=\"1\" class=\"dataframe\">\n",
       "  <thead>\n",
       "    <tr style=\"text-align: right;\">\n",
       "      <th></th>\n",
       "      <th>last_name</th>\n",
       "      <th>first_name</th>\n",
       "      <th>title</th>\n",
       "      <th>date</th>\n",
       "      <th>mobility_coefficient</th>\n",
       "    </tr>\n",
       "  </thead>\n",
       "  <tbody>\n",
       "    <tr>\n",
       "      <th>162</th>\n",
       "      <td>Chauveau</td>\n",
       "      <td></td>\n",
       "      <td>L'homme de cour</td>\n",
       "      <td>1767</td>\n",
       "      <td>91</td>\n",
       "    </tr>\n",
       "  </tbody>\n",
       "</table>\n",
       "</div>"
      ],
      "text/plain": [
       "    last_name first_name            title  date  mobility_coefficient\n",
       "162  Chauveau             L'homme de cour  1767                    91"
      ]
     },
     "metadata": {},
     "output_type": "display_data"
    },
    {
     "name": "stdout",
     "output_type": "stream",
     "text": [
      "Period Min:\n"
     ]
    },
    {
     "data": {
      "text/html": [
       "<div>\n",
       "<style scoped>\n",
       "    .dataframe tbody tr th:only-of-type {\n",
       "        vertical-align: middle;\n",
       "    }\n",
       "\n",
       "    .dataframe tbody tr th {\n",
       "        vertical-align: top;\n",
       "    }\n",
       "\n",
       "    .dataframe thead th {\n",
       "        text-align: right;\n",
       "    }\n",
       "</style>\n",
       "<table border=\"1\" class=\"dataframe\">\n",
       "  <thead>\n",
       "    <tr style=\"text-align: right;\">\n",
       "      <th></th>\n",
       "      <th>last_name</th>\n",
       "      <th>first_name</th>\n",
       "      <th>title</th>\n",
       "      <th>date</th>\n",
       "      <th>mobility_coefficient</th>\n",
       "    </tr>\n",
       "  </thead>\n",
       "  <tbody>\n",
       "    <tr>\n",
       "      <th>140</th>\n",
       "      <td>Nivelle de la Chaussée</td>\n",
       "      <td>Pierre Claude</td>\n",
       "      <td>Mélanide</td>\n",
       "      <td>1741</td>\n",
       "      <td>29</td>\n",
       "    </tr>\n",
       "  </tbody>\n",
       "</table>\n",
       "</div>"
      ],
      "text/plain": [
       "                  last_name     first_name     title  date  \\\n",
       "140  Nivelle de la Chaussée  Pierre Claude  Mélanide  1741   \n",
       "\n",
       "     mobility_coefficient  \n",
       "140                    29  "
      ]
     },
     "metadata": {},
     "output_type": "display_data"
    },
    {
     "name": "stdout",
     "output_type": "stream",
     "text": [
      "The closest to the mean:\n"
     ]
    },
    {
     "data": {
      "text/html": [
       "<div>\n",
       "<style scoped>\n",
       "    .dataframe tbody tr th:only-of-type {\n",
       "        vertical-align: middle;\n",
       "    }\n",
       "\n",
       "    .dataframe tbody tr th {\n",
       "        vertical-align: top;\n",
       "    }\n",
       "\n",
       "    .dataframe thead th {\n",
       "        text-align: right;\n",
       "    }\n",
       "</style>\n",
       "<table border=\"1\" class=\"dataframe\">\n",
       "  <thead>\n",
       "    <tr style=\"text-align: right;\">\n",
       "      <th></th>\n",
       "      <th>last_name</th>\n",
       "      <th>first_name</th>\n",
       "      <th>title</th>\n",
       "      <th>date</th>\n",
       "      <th>mobility_coefficient</th>\n",
       "    </tr>\n",
       "  </thead>\n",
       "  <tbody>\n",
       "    <tr>\n",
       "      <th>102</th>\n",
       "      <td>Rousseau</td>\n",
       "      <td>Jean-Baptiste</td>\n",
       "      <td>Le Flatteur</td>\n",
       "      <td>1696</td>\n",
       "      <td>49</td>\n",
       "    </tr>\n",
       "    <tr>\n",
       "      <th>111</th>\n",
       "      <td>Regnard</td>\n",
       "      <td>Jean-François</td>\n",
       "      <td>Le Légataire Universel</td>\n",
       "      <td>1708</td>\n",
       "      <td>49</td>\n",
       "    </tr>\n",
       "    <tr>\n",
       "      <th>122</th>\n",
       "      <td>Néricault Destouches</td>\n",
       "      <td></td>\n",
       "      <td>Le Philosophe marié</td>\n",
       "      <td>1727</td>\n",
       "      <td>49</td>\n",
       "    </tr>\n",
       "    <tr>\n",
       "      <th>138</th>\n",
       "      <td>Boissy</td>\n",
       "      <td>Louis de</td>\n",
       "      <td>Les Dehors trompeurs</td>\n",
       "      <td>1740</td>\n",
       "      <td>49</td>\n",
       "    </tr>\n",
       "    <tr>\n",
       "      <th>146</th>\n",
       "      <td>Voltaire</td>\n",
       "      <td></td>\n",
       "      <td>La Prude</td>\n",
       "      <td>1747</td>\n",
       "      <td>49</td>\n",
       "    </tr>\n",
       "    <tr>\n",
       "      <th>154</th>\n",
       "      <td>La Noue</td>\n",
       "      <td>Jean-Baptiste</td>\n",
       "      <td>La Coquette corrigée</td>\n",
       "      <td>1757</td>\n",
       "      <td>49</td>\n",
       "    </tr>\n",
       "    <tr>\n",
       "      <th>171</th>\n",
       "      <td>Bret</td>\n",
       "      <td>Antoine</td>\n",
       "      <td>Le protecteur bourgeois ou la confiance trahie</td>\n",
       "      <td>1772</td>\n",
       "      <td>49</td>\n",
       "    </tr>\n",
       "    <tr>\n",
       "      <th>207</th>\n",
       "      <td>Reynier</td>\n",
       "      <td>L.</td>\n",
       "      <td>L'Avare fastueux</td>\n",
       "      <td>1794</td>\n",
       "      <td>49</td>\n",
       "    </tr>\n",
       "  </tbody>\n",
       "</table>\n",
       "</div>"
      ],
      "text/plain": [
       "                last_name     first_name  \\\n",
       "102              Rousseau  Jean-Baptiste   \n",
       "111               Regnard  Jean-François   \n",
       "122  Néricault Destouches                  \n",
       "138                Boissy       Louis de   \n",
       "146              Voltaire                  \n",
       "154               La Noue  Jean-Baptiste   \n",
       "171                  Bret        Antoine   \n",
       "207               Reynier             L.   \n",
       "\n",
       "                                              title  date  \\\n",
       "102                                     Le Flatteur  1696   \n",
       "111                          Le Légataire Universel  1708   \n",
       "122                             Le Philosophe marié  1727   \n",
       "138                            Les Dehors trompeurs  1740   \n",
       "146                                        La Prude  1747   \n",
       "154                            La Coquette corrigée  1757   \n",
       "171  Le protecteur bourgeois ou la confiance trahie  1772   \n",
       "207                                L'Avare fastueux  1794   \n",
       "\n",
       "     mobility_coefficient  \n",
       "102                    49  \n",
       "111                    49  \n",
       "122                    49  \n",
       "138                    49  \n",
       "146                    49  \n",
       "154                    49  \n",
       "171                    49  \n",
       "207                    49  "
      ]
     },
     "metadata": {},
     "output_type": "display_data"
    }
   ],
   "source": [
    "summary_feature(period_two, 'mobility_coefficient')"
   ]
  },
  {
   "cell_type": "markdown",
   "metadata": {},
   "source": [
    "#### Sigma"
   ]
  },
  {
   "cell_type": "code",
   "execution_count": 27,
   "metadata": {},
   "outputs": [
    {
     "name": "stdout",
     "output_type": "stream",
     "text": [
      "Mean, standard deviation, median, min and max values for the period:\n"
     ]
    },
    {
     "data": {
      "text/plain": [
       "mean    1.12\n",
       "std     0.29\n",
       "50%     1.10\n",
       "min     0.63\n",
       "max     1.98\n",
       "Name: sigma_iarkho, dtype: float64"
      ]
     },
     "metadata": {},
     "output_type": "display_data"
    },
    {
     "name": "stdout",
     "output_type": "stream",
     "text": [
      "Period Max:\n"
     ]
    },
    {
     "data": {
      "text/html": [
       "<div>\n",
       "<style scoped>\n",
       "    .dataframe tbody tr th:only-of-type {\n",
       "        vertical-align: middle;\n",
       "    }\n",
       "\n",
       "    .dataframe tbody tr th {\n",
       "        vertical-align: top;\n",
       "    }\n",
       "\n",
       "    .dataframe thead th {\n",
       "        text-align: right;\n",
       "    }\n",
       "</style>\n",
       "<table border=\"1\" class=\"dataframe\">\n",
       "  <thead>\n",
       "    <tr style=\"text-align: right;\">\n",
       "      <th></th>\n",
       "      <th>last_name</th>\n",
       "      <th>first_name</th>\n",
       "      <th>title</th>\n",
       "      <th>date</th>\n",
       "      <th>sigma_iarkho</th>\n",
       "    </tr>\n",
       "  </thead>\n",
       "  <tbody>\n",
       "    <tr>\n",
       "      <th>152</th>\n",
       "      <td>Rousseau</td>\n",
       "      <td>Jean-Baptiste</td>\n",
       "      <td>La Femme qui ne parle point ou l'hypocondre</td>\n",
       "      <td>1751</td>\n",
       "      <td>1.98</td>\n",
       "    </tr>\n",
       "  </tbody>\n",
       "</table>\n",
       "</div>"
      ],
      "text/plain": [
       "    last_name     first_name                                         title  \\\n",
       "152  Rousseau  Jean-Baptiste  La Femme qui ne parle point ou l'hypocondre    \n",
       "\n",
       "     date  sigma_iarkho  \n",
       "152  1751          1.98  "
      ]
     },
     "metadata": {},
     "output_type": "display_data"
    },
    {
     "name": "stdout",
     "output_type": "stream",
     "text": [
      "Period Min:\n"
     ]
    },
    {
     "data": {
      "text/html": [
       "<div>\n",
       "<style scoped>\n",
       "    .dataframe tbody tr th:only-of-type {\n",
       "        vertical-align: middle;\n",
       "    }\n",
       "\n",
       "    .dataframe tbody tr th {\n",
       "        vertical-align: top;\n",
       "    }\n",
       "\n",
       "    .dataframe thead th {\n",
       "        text-align: right;\n",
       "    }\n",
       "</style>\n",
       "<table border=\"1\" class=\"dataframe\">\n",
       "  <thead>\n",
       "    <tr style=\"text-align: right;\">\n",
       "      <th></th>\n",
       "      <th>last_name</th>\n",
       "      <th>first_name</th>\n",
       "      <th>title</th>\n",
       "      <th>date</th>\n",
       "      <th>sigma_iarkho</th>\n",
       "    </tr>\n",
       "  </thead>\n",
       "  <tbody>\n",
       "    <tr>\n",
       "      <th>177</th>\n",
       "      <td>Dorat</td>\n",
       "      <td>Claude-Joseph</td>\n",
       "      <td>Roséïde ou l'Intrigant</td>\n",
       "      <td>1779</td>\n",
       "      <td>0.63</td>\n",
       "    </tr>\n",
       "  </tbody>\n",
       "</table>\n",
       "</div>"
      ],
      "text/plain": [
       "    last_name     first_name                   title  date  sigma_iarkho\n",
       "177     Dorat  Claude-Joseph  Roséïde ou l'Intrigant  1779          0.63"
      ]
     },
     "metadata": {},
     "output_type": "display_data"
    },
    {
     "name": "stdout",
     "output_type": "stream",
     "text": [
      "The closest to the mean:\n"
     ]
    },
    {
     "data": {
      "text/html": [
       "<div>\n",
       "<style scoped>\n",
       "    .dataframe tbody tr th:only-of-type {\n",
       "        vertical-align: middle;\n",
       "    }\n",
       "\n",
       "    .dataframe tbody tr th {\n",
       "        vertical-align: top;\n",
       "    }\n",
       "\n",
       "    .dataframe thead th {\n",
       "        text-align: right;\n",
       "    }\n",
       "</style>\n",
       "<table border=\"1\" class=\"dataframe\">\n",
       "  <thead>\n",
       "    <tr style=\"text-align: right;\">\n",
       "      <th></th>\n",
       "      <th>last_name</th>\n",
       "      <th>first_name</th>\n",
       "      <th>title</th>\n",
       "      <th>date</th>\n",
       "      <th>sigma_iarkho</th>\n",
       "    </tr>\n",
       "  </thead>\n",
       "  <tbody>\n",
       "    <tr>\n",
       "      <th>118</th>\n",
       "      <td>Néricault Destouches</td>\n",
       "      <td></td>\n",
       "      <td>Le Médisant</td>\n",
       "      <td>1715</td>\n",
       "      <td>1.12</td>\n",
       "    </tr>\n",
       "  </tbody>\n",
       "</table>\n",
       "</div>"
      ],
      "text/plain": [
       "                last_name first_name        title  date  sigma_iarkho\n",
       "118  Néricault Destouches             Le Médisant  1715          1.12"
      ]
     },
     "metadata": {},
     "output_type": "display_data"
    }
   ],
   "source": [
    "summary_feature(period_two, 'sigma_iarkho')"
   ]
  },
  {
   "cell_type": "markdown",
   "metadata": {},
   "source": [
    "#### The Percentage of Polylogues"
   ]
  },
  {
   "cell_type": "code",
   "execution_count": 28,
   "metadata": {},
   "outputs": [
    {
     "name": "stdout",
     "output_type": "stream",
     "text": [
      "Mean, standard deviation, median, min and max values for the period:\n"
     ]
    },
    {
     "data": {
      "text/plain": [
       "mean    31.62\n",
       "std     11.03\n",
       "50%     31.50\n",
       "min      8.70\n",
       "max     58.06\n",
       "Name: percentage_polylogues, dtype: float64"
      ]
     },
     "metadata": {},
     "output_type": "display_data"
    },
    {
     "name": "stdout",
     "output_type": "stream",
     "text": [
      "Period Max:\n"
     ]
    },
    {
     "data": {
      "text/html": [
       "<div>\n",
       "<style scoped>\n",
       "    .dataframe tbody tr th:only-of-type {\n",
       "        vertical-align: middle;\n",
       "    }\n",
       "\n",
       "    .dataframe tbody tr th {\n",
       "        vertical-align: top;\n",
       "    }\n",
       "\n",
       "    .dataframe thead th {\n",
       "        text-align: right;\n",
       "    }\n",
       "</style>\n",
       "<table border=\"1\" class=\"dataframe\">\n",
       "  <thead>\n",
       "    <tr style=\"text-align: right;\">\n",
       "      <th></th>\n",
       "      <th>last_name</th>\n",
       "      <th>first_name</th>\n",
       "      <th>title</th>\n",
       "      <th>date</th>\n",
       "      <th>percentage_polylogues</th>\n",
       "    </tr>\n",
       "  </thead>\n",
       "  <tbody>\n",
       "    <tr>\n",
       "      <th>130</th>\n",
       "      <td>Rousseau</td>\n",
       "      <td>Jean-Baptiste</td>\n",
       "      <td>Les ayeux chimériques ou la comtesse de Critognac</td>\n",
       "      <td>1735</td>\n",
       "      <td>58.06</td>\n",
       "    </tr>\n",
       "  </tbody>\n",
       "</table>\n",
       "</div>"
      ],
      "text/plain": [
       "    last_name     first_name  \\\n",
       "130  Rousseau  Jean-Baptiste   \n",
       "\n",
       "                                                 title  date  \\\n",
       "130  Les ayeux chimériques ou la comtesse de Critognac  1735   \n",
       "\n",
       "     percentage_polylogues  \n",
       "130                  58.06  "
      ]
     },
     "metadata": {},
     "output_type": "display_data"
    },
    {
     "name": "stdout",
     "output_type": "stream",
     "text": [
      "Period Min:\n"
     ]
    },
    {
     "data": {
      "text/html": [
       "<div>\n",
       "<style scoped>\n",
       "    .dataframe tbody tr th:only-of-type {\n",
       "        vertical-align: middle;\n",
       "    }\n",
       "\n",
       "    .dataframe tbody tr th {\n",
       "        vertical-align: top;\n",
       "    }\n",
       "\n",
       "    .dataframe thead th {\n",
       "        text-align: right;\n",
       "    }\n",
       "</style>\n",
       "<table border=\"1\" class=\"dataframe\">\n",
       "  <thead>\n",
       "    <tr style=\"text-align: right;\">\n",
       "      <th></th>\n",
       "      <th>last_name</th>\n",
       "      <th>first_name</th>\n",
       "      <th>title</th>\n",
       "      <th>date</th>\n",
       "      <th>percentage_polylogues</th>\n",
       "    </tr>\n",
       "  </thead>\n",
       "  <tbody>\n",
       "    <tr>\n",
       "      <th>178</th>\n",
       "      <td>Delon</td>\n",
       "      <td></td>\n",
       "      <td>Le Financier, comédie en cinq actes et en vers</td>\n",
       "      <td>1779</td>\n",
       "      <td>8.7</td>\n",
       "    </tr>\n",
       "  </tbody>\n",
       "</table>\n",
       "</div>"
      ],
      "text/plain": [
       "    last_name first_name                                           title  \\\n",
       "178     Delon             Le Financier, comédie en cinq actes et en vers   \n",
       "\n",
       "     date  percentage_polylogues  \n",
       "178  1779                    8.7  "
      ]
     },
     "metadata": {},
     "output_type": "display_data"
    },
    {
     "name": "stdout",
     "output_type": "stream",
     "text": [
      "The closest to the mean:\n"
     ]
    },
    {
     "data": {
      "text/html": [
       "<div>\n",
       "<style scoped>\n",
       "    .dataframe tbody tr th:only-of-type {\n",
       "        vertical-align: middle;\n",
       "    }\n",
       "\n",
       "    .dataframe tbody tr th {\n",
       "        vertical-align: top;\n",
       "    }\n",
       "\n",
       "    .dataframe thead th {\n",
       "        text-align: right;\n",
       "    }\n",
       "</style>\n",
       "<table border=\"1\" class=\"dataframe\">\n",
       "  <thead>\n",
       "    <tr style=\"text-align: right;\">\n",
       "      <th></th>\n",
       "      <th>last_name</th>\n",
       "      <th>first_name</th>\n",
       "      <th>title</th>\n",
       "      <th>date</th>\n",
       "      <th>percentage_polylogues</th>\n",
       "    </tr>\n",
       "  </thead>\n",
       "  <tbody>\n",
       "    <tr>\n",
       "      <th>105</th>\n",
       "      <td>Regnard</td>\n",
       "      <td>Jean-François</td>\n",
       "      <td>Démocrite amoureux</td>\n",
       "      <td>1700</td>\n",
       "      <td>31.58</td>\n",
       "    </tr>\n",
       "  </tbody>\n",
       "</table>\n",
       "</div>"
      ],
      "text/plain": [
       "    last_name     first_name               title  date  percentage_polylogues\n",
       "105   Regnard  Jean-François  Démocrite amoureux  1700                  31.58"
      ]
     },
     "metadata": {},
     "output_type": "display_data"
    }
   ],
   "source": [
    "summary_feature(period_two, 'percentage_polylogues')"
   ]
  },
  {
   "cell_type": "markdown",
   "metadata": {},
   "source": [
    "#### The Percentage of Monologues"
   ]
  },
  {
   "cell_type": "code",
   "execution_count": 29,
   "metadata": {},
   "outputs": [
    {
     "name": "stdout",
     "output_type": "stream",
     "text": [
      "Mean, standard deviation, median, min and max values for the period:\n"
     ]
    },
    {
     "data": {
      "text/plain": [
       "mean    22.08\n",
       "std      7.75\n",
       "50%     21.88\n",
       "min      3.23\n",
       "max     40.48\n",
       "Name: percentage_monologues, dtype: float64"
      ]
     },
     "metadata": {},
     "output_type": "display_data"
    },
    {
     "name": "stdout",
     "output_type": "stream",
     "text": [
      "Period Max:\n"
     ]
    },
    {
     "data": {
      "text/html": [
       "<div>\n",
       "<style scoped>\n",
       "    .dataframe tbody tr th:only-of-type {\n",
       "        vertical-align: middle;\n",
       "    }\n",
       "\n",
       "    .dataframe tbody tr th {\n",
       "        vertical-align: top;\n",
       "    }\n",
       "\n",
       "    .dataframe thead th {\n",
       "        text-align: right;\n",
       "    }\n",
       "</style>\n",
       "<table border=\"1\" class=\"dataframe\">\n",
       "  <thead>\n",
       "    <tr style=\"text-align: right;\">\n",
       "      <th></th>\n",
       "      <th>last_name</th>\n",
       "      <th>first_name</th>\n",
       "      <th>title</th>\n",
       "      <th>date</th>\n",
       "      <th>percentage_monologues</th>\n",
       "    </tr>\n",
       "  </thead>\n",
       "  <tbody>\n",
       "    <tr>\n",
       "      <th>161</th>\n",
       "      <td>Bastide</td>\n",
       "      <td>Jean-François de</td>\n",
       "      <td>Le Jeune homme</td>\n",
       "      <td>1766</td>\n",
       "      <td>40.48</td>\n",
       "    </tr>\n",
       "  </tbody>\n",
       "</table>\n",
       "</div>"
      ],
      "text/plain": [
       "    last_name        first_name           title  date  percentage_monologues\n",
       "161   Bastide  Jean-François de  Le Jeune homme  1766                  40.48"
      ]
     },
     "metadata": {},
     "output_type": "display_data"
    },
    {
     "name": "stdout",
     "output_type": "stream",
     "text": [
      "Period Min:\n"
     ]
    },
    {
     "data": {
      "text/html": [
       "<div>\n",
       "<style scoped>\n",
       "    .dataframe tbody tr th:only-of-type {\n",
       "        vertical-align: middle;\n",
       "    }\n",
       "\n",
       "    .dataframe tbody tr th {\n",
       "        vertical-align: top;\n",
       "    }\n",
       "\n",
       "    .dataframe thead th {\n",
       "        text-align: right;\n",
       "    }\n",
       "</style>\n",
       "<table border=\"1\" class=\"dataframe\">\n",
       "  <thead>\n",
       "    <tr style=\"text-align: right;\">\n",
       "      <th></th>\n",
       "      <th>last_name</th>\n",
       "      <th>first_name</th>\n",
       "      <th>title</th>\n",
       "      <th>date</th>\n",
       "      <th>percentage_monologues</th>\n",
       "    </tr>\n",
       "  </thead>\n",
       "  <tbody>\n",
       "    <tr>\n",
       "      <th>130</th>\n",
       "      <td>Rousseau</td>\n",
       "      <td>Jean-Baptiste</td>\n",
       "      <td>Les ayeux chimériques ou la comtesse de Critognac</td>\n",
       "      <td>1735</td>\n",
       "      <td>3.23</td>\n",
       "    </tr>\n",
       "  </tbody>\n",
       "</table>\n",
       "</div>"
      ],
      "text/plain": [
       "    last_name     first_name  \\\n",
       "130  Rousseau  Jean-Baptiste   \n",
       "\n",
       "                                                 title  date  \\\n",
       "130  Les ayeux chimériques ou la comtesse de Critognac  1735   \n",
       "\n",
       "     percentage_monologues  \n",
       "130                   3.23  "
      ]
     },
     "metadata": {},
     "output_type": "display_data"
    },
    {
     "name": "stdout",
     "output_type": "stream",
     "text": [
      "The closest to the mean:\n"
     ]
    },
    {
     "data": {
      "text/html": [
       "<div>\n",
       "<style scoped>\n",
       "    .dataframe tbody tr th:only-of-type {\n",
       "        vertical-align: middle;\n",
       "    }\n",
       "\n",
       "    .dataframe tbody tr th {\n",
       "        vertical-align: top;\n",
       "    }\n",
       "\n",
       "    .dataframe thead th {\n",
       "        text-align: right;\n",
       "    }\n",
       "</style>\n",
       "<table border=\"1\" class=\"dataframe\">\n",
       "  <thead>\n",
       "    <tr style=\"text-align: right;\">\n",
       "      <th></th>\n",
       "      <th>last_name</th>\n",
       "      <th>first_name</th>\n",
       "      <th>title</th>\n",
       "      <th>date</th>\n",
       "      <th>percentage_monologues</th>\n",
       "    </tr>\n",
       "  </thead>\n",
       "  <tbody>\n",
       "    <tr>\n",
       "      <th>205</th>\n",
       "      <td>Collin d’Harleville</td>\n",
       "      <td>Jean-François</td>\n",
       "      <td>Le Vieux célibataire</td>\n",
       "      <td>1792</td>\n",
       "      <td>22.03</td>\n",
       "    </tr>\n",
       "  </tbody>\n",
       "</table>\n",
       "</div>"
      ],
      "text/plain": [
       "               last_name     first_name                  title  date  \\\n",
       "205  Collin d’Harleville  Jean-François  Le Vieux célibataire   1792   \n",
       "\n",
       "     percentage_monologues  \n",
       "205                  22.03  "
      ]
     },
     "metadata": {},
     "output_type": "display_data"
    }
   ],
   "source": [
    "summary_feature(period_two, 'percentage_monologues')"
   ]
  },
  {
   "cell_type": "markdown",
   "metadata": {},
   "source": [
    "### Period 3 (1796 to 1849)"
   ]
  },
  {
   "cell_type": "markdown",
   "metadata": {},
   "source": [
    "#### Number of Dramatic Characters"
   ]
  },
  {
   "cell_type": "code",
   "execution_count": 30,
   "metadata": {},
   "outputs": [
    {
     "name": "stdout",
     "output_type": "stream",
     "text": [
      "Mean, standard deviation, median, min and max values for the period:\n"
     ]
    },
    {
     "data": {
      "text/plain": [
       "mean    12.11\n",
       "std      4.28\n",
       "50%     11.00\n",
       "min      6.00\n",
       "max     28.00\n",
       "Name: num_present_characters, dtype: float64"
      ]
     },
     "metadata": {},
     "output_type": "display_data"
    },
    {
     "name": "stdout",
     "output_type": "stream",
     "text": [
      "Period Max:\n"
     ]
    },
    {
     "data": {
      "text/html": [
       "<div>\n",
       "<style scoped>\n",
       "    .dataframe tbody tr th:only-of-type {\n",
       "        vertical-align: middle;\n",
       "    }\n",
       "\n",
       "    .dataframe tbody tr th {\n",
       "        vertical-align: top;\n",
       "    }\n",
       "\n",
       "    .dataframe thead th {\n",
       "        text-align: right;\n",
       "    }\n",
       "</style>\n",
       "<table border=\"1\" class=\"dataframe\">\n",
       "  <thead>\n",
       "    <tr style=\"text-align: right;\">\n",
       "      <th></th>\n",
       "      <th>last_name</th>\n",
       "      <th>first_name</th>\n",
       "      <th>title</th>\n",
       "      <th>date</th>\n",
       "      <th>num_present_characters</th>\n",
       "    </tr>\n",
       "  </thead>\n",
       "  <tbody>\n",
       "    <tr>\n",
       "      <th>257</th>\n",
       "      <td>Gosse</td>\n",
       "      <td>Étienne</td>\n",
       "      <td>Les Jésuites, ou les autres Tartuffes</td>\n",
       "      <td>1827</td>\n",
       "      <td>28</td>\n",
       "    </tr>\n",
       "  </tbody>\n",
       "</table>\n",
       "</div>"
      ],
      "text/plain": [
       "    last_name first_name                                   title  date  \\\n",
       "257     Gosse    Étienne  Les Jésuites, ou les autres Tartuffes   1827   \n",
       "\n",
       "     num_present_characters  \n",
       "257                      28  "
      ]
     },
     "metadata": {},
     "output_type": "display_data"
    },
    {
     "name": "stdout",
     "output_type": "stream",
     "text": [
      "Period Min:\n"
     ]
    },
    {
     "data": {
      "text/html": [
       "<div>\n",
       "<style scoped>\n",
       "    .dataframe tbody tr th:only-of-type {\n",
       "        vertical-align: middle;\n",
       "    }\n",
       "\n",
       "    .dataframe tbody tr th {\n",
       "        vertical-align: top;\n",
       "    }\n",
       "\n",
       "    .dataframe thead th {\n",
       "        text-align: right;\n",
       "    }\n",
       "</style>\n",
       "<table border=\"1\" class=\"dataframe\">\n",
       "  <thead>\n",
       "    <tr style=\"text-align: right;\">\n",
       "      <th></th>\n",
       "      <th>last_name</th>\n",
       "      <th>first_name</th>\n",
       "      <th>title</th>\n",
       "      <th>date</th>\n",
       "      <th>num_present_characters</th>\n",
       "    </tr>\n",
       "  </thead>\n",
       "  <tbody>\n",
       "    <tr>\n",
       "      <th>276</th>\n",
       "      <td>Augier</td>\n",
       "      <td>Émile</td>\n",
       "      <td>Gabrielle</td>\n",
       "      <td>1849</td>\n",
       "      <td>6</td>\n",
       "    </tr>\n",
       "  </tbody>\n",
       "</table>\n",
       "</div>"
      ],
      "text/plain": [
       "    last_name first_name      title  date  num_present_characters\n",
       "276    Augier      Émile  Gabrielle  1849                       6"
      ]
     },
     "metadata": {},
     "output_type": "display_data"
    },
    {
     "name": "stdout",
     "output_type": "stream",
     "text": [
      "The closest to the mean:\n"
     ]
    },
    {
     "data": {
      "text/html": [
       "<div>\n",
       "<style scoped>\n",
       "    .dataframe tbody tr th:only-of-type {\n",
       "        vertical-align: middle;\n",
       "    }\n",
       "\n",
       "    .dataframe tbody tr th {\n",
       "        vertical-align: top;\n",
       "    }\n",
       "\n",
       "    .dataframe thead th {\n",
       "        text-align: right;\n",
       "    }\n",
       "</style>\n",
       "<table border=\"1\" class=\"dataframe\">\n",
       "  <thead>\n",
       "    <tr style=\"text-align: right;\">\n",
       "      <th></th>\n",
       "      <th>last_name</th>\n",
       "      <th>first_name</th>\n",
       "      <th>title</th>\n",
       "      <th>date</th>\n",
       "      <th>num_present_characters</th>\n",
       "    </tr>\n",
       "  </thead>\n",
       "  <tbody>\n",
       "    <tr>\n",
       "      <th>213</th>\n",
       "      <td>Fabre d'Églantine</td>\n",
       "      <td></td>\n",
       "      <td>Les Précepteurs</td>\n",
       "      <td>1799</td>\n",
       "      <td>12</td>\n",
       "    </tr>\n",
       "    <tr>\n",
       "      <th>226</th>\n",
       "      <td>Étienne</td>\n",
       "      <td>Charles-Guillaume</td>\n",
       "      <td>Les Deux gendres</td>\n",
       "      <td>1810</td>\n",
       "      <td>12</td>\n",
       "    </tr>\n",
       "    <tr>\n",
       "      <th>240</th>\n",
       "      <td>Théaulon</td>\n",
       "      <td>Emmanuel</td>\n",
       "      <td>L'Artiste ambitieux, ou l'Adoption</td>\n",
       "      <td>1820</td>\n",
       "      <td>12</td>\n",
       "    </tr>\n",
       "    <tr>\n",
       "      <th>248</th>\n",
       "      <td>Bonjour</td>\n",
       "      <td>Casimir</td>\n",
       "      <td>L’Éducation ou les deux Cousine</td>\n",
       "      <td>1823</td>\n",
       "      <td>12</td>\n",
       "    </tr>\n",
       "    <tr>\n",
       "      <th>256</th>\n",
       "      <td>Bonjour</td>\n",
       "      <td>Casimir</td>\n",
       "      <td>L’Argent ou les Moeurs du Jour</td>\n",
       "      <td>1826</td>\n",
       "      <td>12</td>\n",
       "    </tr>\n",
       "  </tbody>\n",
       "</table>\n",
       "</div>"
      ],
      "text/plain": [
       "             last_name         first_name                               title  \\\n",
       "213  Fabre d'Églantine                                        Les Précepteurs   \n",
       "226            Étienne  Charles-Guillaume                    Les Deux gendres   \n",
       "240           Théaulon           Emmanuel  L'Artiste ambitieux, ou l'Adoption   \n",
       "248            Bonjour            Casimir     L’Éducation ou les deux Cousine   \n",
       "256            Bonjour            Casimir      L’Argent ou les Moeurs du Jour   \n",
       "\n",
       "     date  num_present_characters  \n",
       "213  1799                      12  \n",
       "226  1810                      12  \n",
       "240  1820                      12  \n",
       "248  1823                      12  \n",
       "256  1826                      12  "
      ]
     },
     "metadata": {},
     "output_type": "display_data"
    }
   ],
   "source": [
    "summary_feature(period_three, 'num_present_characters')"
   ]
  },
  {
   "cell_type": "markdown",
   "metadata": {},
   "source": [
    "#### Mobility Coefficient"
   ]
  },
  {
   "cell_type": "code",
   "execution_count": 31,
   "metadata": {},
   "outputs": [
    {
     "name": "stdout",
     "output_type": "stream",
     "text": [
      "Mean, standard deviation, median, min and max values for the period:\n"
     ]
    },
    {
     "data": {
      "text/plain": [
       "mean    54.58\n",
       "std      9.99\n",
       "50%     53.50\n",
       "min     34.00\n",
       "max     86.00\n",
       "Name: mobility_coefficient, dtype: float64"
      ]
     },
     "metadata": {},
     "output_type": "display_data"
    },
    {
     "name": "stdout",
     "output_type": "stream",
     "text": [
      "Period Max:\n"
     ]
    },
    {
     "data": {
      "text/html": [
       "<div>\n",
       "<style scoped>\n",
       "    .dataframe tbody tr th:only-of-type {\n",
       "        vertical-align: middle;\n",
       "    }\n",
       "\n",
       "    .dataframe tbody tr th {\n",
       "        vertical-align: top;\n",
       "    }\n",
       "\n",
       "    .dataframe thead th {\n",
       "        text-align: right;\n",
       "    }\n",
       "</style>\n",
       "<table border=\"1\" class=\"dataframe\">\n",
       "  <thead>\n",
       "    <tr style=\"text-align: right;\">\n",
       "      <th></th>\n",
       "      <th>last_name</th>\n",
       "      <th>first_name</th>\n",
       "      <th>title</th>\n",
       "      <th>date</th>\n",
       "      <th>mobility_coefficient</th>\n",
       "    </tr>\n",
       "  </thead>\n",
       "  <tbody>\n",
       "    <tr>\n",
       "      <th>257</th>\n",
       "      <td>Gosse</td>\n",
       "      <td>Étienne</td>\n",
       "      <td>Les Jésuites, ou les autres Tartuffes</td>\n",
       "      <td>1827</td>\n",
       "      <td>86</td>\n",
       "    </tr>\n",
       "  </tbody>\n",
       "</table>\n",
       "</div>"
      ],
      "text/plain": [
       "    last_name first_name                                   title  date  \\\n",
       "257     Gosse    Étienne  Les Jésuites, ou les autres Tartuffes   1827   \n",
       "\n",
       "     mobility_coefficient  \n",
       "257                    86  "
      ]
     },
     "metadata": {},
     "output_type": "display_data"
    },
    {
     "name": "stdout",
     "output_type": "stream",
     "text": [
      "Period Min:\n"
     ]
    },
    {
     "data": {
      "text/html": [
       "<div>\n",
       "<style scoped>\n",
       "    .dataframe tbody tr th:only-of-type {\n",
       "        vertical-align: middle;\n",
       "    }\n",
       "\n",
       "    .dataframe tbody tr th {\n",
       "        vertical-align: top;\n",
       "    }\n",
       "\n",
       "    .dataframe thead th {\n",
       "        text-align: right;\n",
       "    }\n",
       "</style>\n",
       "<table border=\"1\" class=\"dataframe\">\n",
       "  <thead>\n",
       "    <tr style=\"text-align: right;\">\n",
       "      <th></th>\n",
       "      <th>last_name</th>\n",
       "      <th>first_name</th>\n",
       "      <th>title</th>\n",
       "      <th>date</th>\n",
       "      <th>mobility_coefficient</th>\n",
       "    </tr>\n",
       "  </thead>\n",
       "  <tbody>\n",
       "    <tr>\n",
       "      <th>238</th>\n",
       "      <td>Duval</td>\n",
       "      <td>Alexandre</td>\n",
       "      <td>Le Chevalier d'industrie</td>\n",
       "      <td>1818</td>\n",
       "      <td>34</td>\n",
       "    </tr>\n",
       "  </tbody>\n",
       "</table>\n",
       "</div>"
      ],
      "text/plain": [
       "    last_name first_name                     title  date  mobility_coefficient\n",
       "238     Duval  Alexandre  Le Chevalier d'industrie  1818                    34"
      ]
     },
     "metadata": {},
     "output_type": "display_data"
    },
    {
     "name": "stdout",
     "output_type": "stream",
     "text": [
      "The closest to the mean:\n"
     ]
    },
    {
     "data": {
      "text/html": [
       "<div>\n",
       "<style scoped>\n",
       "    .dataframe tbody tr th:only-of-type {\n",
       "        vertical-align: middle;\n",
       "    }\n",
       "\n",
       "    .dataframe tbody tr th {\n",
       "        vertical-align: top;\n",
       "    }\n",
       "\n",
       "    .dataframe thead th {\n",
       "        text-align: right;\n",
       "    }\n",
       "</style>\n",
       "<table border=\"1\" class=\"dataframe\">\n",
       "  <thead>\n",
       "    <tr style=\"text-align: right;\">\n",
       "      <th></th>\n",
       "      <th>last_name</th>\n",
       "      <th>first_name</th>\n",
       "      <th>title</th>\n",
       "      <th>date</th>\n",
       "      <th>mobility_coefficient</th>\n",
       "    </tr>\n",
       "  </thead>\n",
       "  <tbody>\n",
       "    <tr>\n",
       "      <th>225</th>\n",
       "      <td>Picard</td>\n",
       "      <td>Louis-Benoît</td>\n",
       "      <td>Les Capitulations de conscience</td>\n",
       "      <td>1809</td>\n",
       "      <td>55</td>\n",
       "    </tr>\n",
       "    <tr>\n",
       "      <th>243</th>\n",
       "      <td>Delavigne</td>\n",
       "      <td>Casimir</td>\n",
       "      <td>Les Comédiens</td>\n",
       "      <td>1820</td>\n",
       "      <td>55</td>\n",
       "    </tr>\n",
       "  </tbody>\n",
       "</table>\n",
       "</div>"
      ],
      "text/plain": [
       "     last_name    first_name                             title  date  \\\n",
       "225     Picard  Louis-Benoît  Les Capitulations de conscience   1809   \n",
       "243  Delavigne       Casimir                     Les Comédiens  1820   \n",
       "\n",
       "     mobility_coefficient  \n",
       "225                    55  \n",
       "243                    55  "
      ]
     },
     "metadata": {},
     "output_type": "display_data"
    }
   ],
   "source": [
    "summary_feature(period_three, 'mobility_coefficient')"
   ]
  },
  {
   "cell_type": "markdown",
   "metadata": {},
   "source": [
    "#### Sigma"
   ]
  },
  {
   "cell_type": "code",
   "execution_count": 32,
   "metadata": {},
   "outputs": [
    {
     "name": "stdout",
     "output_type": "stream",
     "text": [
      "Mean, standard deviation, median, min and max values for the period:\n"
     ]
    },
    {
     "data": {
      "text/plain": [
       "mean    1.33\n",
       "std     0.32\n",
       "50%     1.26\n",
       "min     0.84\n",
       "max     2.54\n",
       "Name: sigma_iarkho, dtype: float64"
      ]
     },
     "metadata": {},
     "output_type": "display_data"
    },
    {
     "name": "stdout",
     "output_type": "stream",
     "text": [
      "Period Max:\n"
     ]
    },
    {
     "data": {
      "text/html": [
       "<div>\n",
       "<style scoped>\n",
       "    .dataframe tbody tr th:only-of-type {\n",
       "        vertical-align: middle;\n",
       "    }\n",
       "\n",
       "    .dataframe tbody tr th {\n",
       "        vertical-align: top;\n",
       "    }\n",
       "\n",
       "    .dataframe thead th {\n",
       "        text-align: right;\n",
       "    }\n",
       "</style>\n",
       "<table border=\"1\" class=\"dataframe\">\n",
       "  <thead>\n",
       "    <tr style=\"text-align: right;\">\n",
       "      <th></th>\n",
       "      <th>last_name</th>\n",
       "      <th>first_name</th>\n",
       "      <th>title</th>\n",
       "      <th>date</th>\n",
       "      <th>sigma_iarkho</th>\n",
       "    </tr>\n",
       "  </thead>\n",
       "  <tbody>\n",
       "    <tr>\n",
       "      <th>260</th>\n",
       "      <td>Delavigne</td>\n",
       "      <td>Casimir</td>\n",
       "      <td>La Princesse Aurélie</td>\n",
       "      <td>1828</td>\n",
       "      <td>2.54</td>\n",
       "    </tr>\n",
       "  </tbody>\n",
       "</table>\n",
       "</div>"
      ],
      "text/plain": [
       "     last_name first_name                 title  date  sigma_iarkho\n",
       "260  Delavigne    Casimir  La Princesse Aurélie  1828          2.54"
      ]
     },
     "metadata": {},
     "output_type": "display_data"
    },
    {
     "name": "stdout",
     "output_type": "stream",
     "text": [
      "Period Min:\n"
     ]
    },
    {
     "data": {
      "text/html": [
       "<div>\n",
       "<style scoped>\n",
       "    .dataframe tbody tr th:only-of-type {\n",
       "        vertical-align: middle;\n",
       "    }\n",
       "\n",
       "    .dataframe tbody tr th {\n",
       "        vertical-align: top;\n",
       "    }\n",
       "\n",
       "    .dataframe thead th {\n",
       "        text-align: right;\n",
       "    }\n",
       "</style>\n",
       "<table border=\"1\" class=\"dataframe\">\n",
       "  <thead>\n",
       "    <tr style=\"text-align: right;\">\n",
       "      <th></th>\n",
       "      <th>last_name</th>\n",
       "      <th>first_name</th>\n",
       "      <th>title</th>\n",
       "      <th>date</th>\n",
       "      <th>sigma_iarkho</th>\n",
       "    </tr>\n",
       "  </thead>\n",
       "  <tbody>\n",
       "    <tr>\n",
       "      <th>239</th>\n",
       "      <td>Michaud</td>\n",
       "      <td>L. G.</td>\n",
       "      <td>Le Faux ami de cour, ou le Danger des liaisons</td>\n",
       "      <td>1818</td>\n",
       "      <td>0.84</td>\n",
       "    </tr>\n",
       "  </tbody>\n",
       "</table>\n",
       "</div>"
      ],
      "text/plain": [
       "    last_name first_name                                           title  \\\n",
       "239   Michaud      L. G.  Le Faux ami de cour, ou le Danger des liaisons   \n",
       "\n",
       "     date  sigma_iarkho  \n",
       "239  1818          0.84  "
      ]
     },
     "metadata": {},
     "output_type": "display_data"
    },
    {
     "name": "stdout",
     "output_type": "stream",
     "text": [
      "The closest to the mean:\n"
     ]
    },
    {
     "data": {
      "text/html": [
       "<div>\n",
       "<style scoped>\n",
       "    .dataframe tbody tr th:only-of-type {\n",
       "        vertical-align: middle;\n",
       "    }\n",
       "\n",
       "    .dataframe tbody tr th {\n",
       "        vertical-align: top;\n",
       "    }\n",
       "\n",
       "    .dataframe thead th {\n",
       "        text-align: right;\n",
       "    }\n",
       "</style>\n",
       "<table border=\"1\" class=\"dataframe\">\n",
       "  <thead>\n",
       "    <tr style=\"text-align: right;\">\n",
       "      <th></th>\n",
       "      <th>last_name</th>\n",
       "      <th>first_name</th>\n",
       "      <th>title</th>\n",
       "      <th>date</th>\n",
       "      <th>sigma_iarkho</th>\n",
       "    </tr>\n",
       "  </thead>\n",
       "  <tbody>\n",
       "    <tr>\n",
       "      <th>273</th>\n",
       "      <td>Rey</td>\n",
       "      <td>Charles</td>\n",
       "      <td>La séduction et l'amour vrai</td>\n",
       "      <td>1847</td>\n",
       "      <td>1.33</td>\n",
       "    </tr>\n",
       "  </tbody>\n",
       "</table>\n",
       "</div>"
      ],
      "text/plain": [
       "    last_name first_name                         title  date  sigma_iarkho\n",
       "273       Rey    Charles  La séduction et l'amour vrai  1847          1.33"
      ]
     },
     "metadata": {},
     "output_type": "display_data"
    }
   ],
   "source": [
    "summary_feature(period_three, 'sigma_iarkho')"
   ]
  },
  {
   "cell_type": "markdown",
   "metadata": {},
   "source": [
    "#### The Percentage of Polylogues"
   ]
  },
  {
   "cell_type": "code",
   "execution_count": 33,
   "metadata": {},
   "outputs": [
    {
     "name": "stdout",
     "output_type": "stream",
     "text": [
      "Mean, standard deviation, median, min and max values for the period:\n"
     ]
    },
    {
     "data": {
      "text/plain": [
       "mean    38.09\n",
       "std      8.70\n",
       "50%     37.31\n",
       "min     18.46\n",
       "max     65.00\n",
       "Name: percentage_polylogues, dtype: float64"
      ]
     },
     "metadata": {},
     "output_type": "display_data"
    },
    {
     "name": "stdout",
     "output_type": "stream",
     "text": [
      "Period Max:\n"
     ]
    },
    {
     "data": {
      "text/html": [
       "<div>\n",
       "<style scoped>\n",
       "    .dataframe tbody tr th:only-of-type {\n",
       "        vertical-align: middle;\n",
       "    }\n",
       "\n",
       "    .dataframe tbody tr th {\n",
       "        vertical-align: top;\n",
       "    }\n",
       "\n",
       "    .dataframe thead th {\n",
       "        text-align: right;\n",
       "    }\n",
       "</style>\n",
       "<table border=\"1\" class=\"dataframe\">\n",
       "  <thead>\n",
       "    <tr style=\"text-align: right;\">\n",
       "      <th></th>\n",
       "      <th>last_name</th>\n",
       "      <th>first_name</th>\n",
       "      <th>title</th>\n",
       "      <th>date</th>\n",
       "      <th>percentage_polylogues</th>\n",
       "    </tr>\n",
       "  </thead>\n",
       "  <tbody>\n",
       "    <tr>\n",
       "      <th>237</th>\n",
       "      <td>Merville</td>\n",
       "      <td></td>\n",
       "      <td>La Famille Glinet, ou Les premiers temps de la...</td>\n",
       "      <td>1818</td>\n",
       "      <td>65.0</td>\n",
       "    </tr>\n",
       "  </tbody>\n",
       "</table>\n",
       "</div>"
      ],
      "text/plain": [
       "    last_name first_name                                              title  \\\n",
       "237  Merville             La Famille Glinet, ou Les premiers temps de la...   \n",
       "\n",
       "     date  percentage_polylogues  \n",
       "237  1818                   65.0  "
      ]
     },
     "metadata": {},
     "output_type": "display_data"
    },
    {
     "name": "stdout",
     "output_type": "stream",
     "text": [
      "Period Min:\n"
     ]
    },
    {
     "data": {
      "text/html": [
       "<div>\n",
       "<style scoped>\n",
       "    .dataframe tbody tr th:only-of-type {\n",
       "        vertical-align: middle;\n",
       "    }\n",
       "\n",
       "    .dataframe tbody tr th {\n",
       "        vertical-align: top;\n",
       "    }\n",
       "\n",
       "    .dataframe thead th {\n",
       "        text-align: right;\n",
       "    }\n",
       "</style>\n",
       "<table border=\"1\" class=\"dataframe\">\n",
       "  <thead>\n",
       "    <tr style=\"text-align: right;\">\n",
       "      <th></th>\n",
       "      <th>last_name</th>\n",
       "      <th>first_name</th>\n",
       "      <th>title</th>\n",
       "      <th>date</th>\n",
       "      <th>percentage_polylogues</th>\n",
       "    </tr>\n",
       "  </thead>\n",
       "  <tbody>\n",
       "    <tr>\n",
       "      <th>250</th>\n",
       "      <td>Bonjour</td>\n",
       "      <td>Casimir</td>\n",
       "      <td>Le Mari à bonnes fortunes, ou La Leçon</td>\n",
       "      <td>1824</td>\n",
       "      <td>18.46</td>\n",
       "    </tr>\n",
       "  </tbody>\n",
       "</table>\n",
       "</div>"
      ],
      "text/plain": [
       "    last_name first_name                                   title  date  \\\n",
       "250   Bonjour    Casimir  Le Mari à bonnes fortunes, ou La Leçon  1824   \n",
       "\n",
       "     percentage_polylogues  \n",
       "250                  18.46  "
      ]
     },
     "metadata": {},
     "output_type": "display_data"
    },
    {
     "name": "stdout",
     "output_type": "stream",
     "text": [
      "The closest to the mean:\n"
     ]
    },
    {
     "data": {
      "text/html": [
       "<div>\n",
       "<style scoped>\n",
       "    .dataframe tbody tr th:only-of-type {\n",
       "        vertical-align: middle;\n",
       "    }\n",
       "\n",
       "    .dataframe tbody tr th {\n",
       "        vertical-align: top;\n",
       "    }\n",
       "\n",
       "    .dataframe thead th {\n",
       "        text-align: right;\n",
       "    }\n",
       "</style>\n",
       "<table border=\"1\" class=\"dataframe\">\n",
       "  <thead>\n",
       "    <tr style=\"text-align: right;\">\n",
       "      <th></th>\n",
       "      <th>last_name</th>\n",
       "      <th>first_name</th>\n",
       "      <th>title</th>\n",
       "      <th>date</th>\n",
       "      <th>percentage_polylogues</th>\n",
       "    </tr>\n",
       "  </thead>\n",
       "  <tbody>\n",
       "    <tr>\n",
       "      <th>256</th>\n",
       "      <td>Bonjour</td>\n",
       "      <td>Casimir</td>\n",
       "      <td>L’Argent ou les Moeurs du Jour</td>\n",
       "      <td>1826</td>\n",
       "      <td>37.88</td>\n",
       "    </tr>\n",
       "  </tbody>\n",
       "</table>\n",
       "</div>"
      ],
      "text/plain": [
       "    last_name first_name                           title  date  \\\n",
       "256   Bonjour    Casimir  L’Argent ou les Moeurs du Jour  1826   \n",
       "\n",
       "     percentage_polylogues  \n",
       "256                  37.88  "
      ]
     },
     "metadata": {},
     "output_type": "display_data"
    }
   ],
   "source": [
    "summary_feature(period_three, 'percentage_polylogues')"
   ]
  },
  {
   "cell_type": "markdown",
   "metadata": {},
   "source": [
    "#### The Percentage of Monologues"
   ]
  },
  {
   "cell_type": "code",
   "execution_count": 34,
   "metadata": {},
   "outputs": [
    {
     "name": "stdout",
     "output_type": "stream",
     "text": [
      "Mean, standard deviation, median, min and max values for the period:\n"
     ]
    },
    {
     "data": {
      "text/plain": [
       "mean    20.08\n",
       "std      5.95\n",
       "50%     18.94\n",
       "min     11.36\n",
       "max     43.08\n",
       "Name: percentage_monologues, dtype: float64"
      ]
     },
     "metadata": {},
     "output_type": "display_data"
    },
    {
     "name": "stdout",
     "output_type": "stream",
     "text": [
      "Period Max:\n"
     ]
    },
    {
     "data": {
      "text/html": [
       "<div>\n",
       "<style scoped>\n",
       "    .dataframe tbody tr th:only-of-type {\n",
       "        vertical-align: middle;\n",
       "    }\n",
       "\n",
       "    .dataframe tbody tr th {\n",
       "        vertical-align: top;\n",
       "    }\n",
       "\n",
       "    .dataframe thead th {\n",
       "        text-align: right;\n",
       "    }\n",
       "</style>\n",
       "<table border=\"1\" class=\"dataframe\">\n",
       "  <thead>\n",
       "    <tr style=\"text-align: right;\">\n",
       "      <th></th>\n",
       "      <th>last_name</th>\n",
       "      <th>first_name</th>\n",
       "      <th>title</th>\n",
       "      <th>date</th>\n",
       "      <th>percentage_monologues</th>\n",
       "    </tr>\n",
       "  </thead>\n",
       "  <tbody>\n",
       "    <tr>\n",
       "      <th>250</th>\n",
       "      <td>Bonjour</td>\n",
       "      <td>Casimir</td>\n",
       "      <td>Le Mari à bonnes fortunes, ou La Leçon</td>\n",
       "      <td>1824</td>\n",
       "      <td>43.08</td>\n",
       "    </tr>\n",
       "  </tbody>\n",
       "</table>\n",
       "</div>"
      ],
      "text/plain": [
       "    last_name first_name                                   title  date  \\\n",
       "250   Bonjour    Casimir  Le Mari à bonnes fortunes, ou La Leçon  1824   \n",
       "\n",
       "     percentage_monologues  \n",
       "250                  43.08  "
      ]
     },
     "metadata": {},
     "output_type": "display_data"
    },
    {
     "name": "stdout",
     "output_type": "stream",
     "text": [
      "Period Min:\n"
     ]
    },
    {
     "data": {
      "text/html": [
       "<div>\n",
       "<style scoped>\n",
       "    .dataframe tbody tr th:only-of-type {\n",
       "        vertical-align: middle;\n",
       "    }\n",
       "\n",
       "    .dataframe tbody tr th {\n",
       "        vertical-align: top;\n",
       "    }\n",
       "\n",
       "    .dataframe thead th {\n",
       "        text-align: right;\n",
       "    }\n",
       "</style>\n",
       "<table border=\"1\" class=\"dataframe\">\n",
       "  <thead>\n",
       "    <tr style=\"text-align: right;\">\n",
       "      <th></th>\n",
       "      <th>last_name</th>\n",
       "      <th>first_name</th>\n",
       "      <th>title</th>\n",
       "      <th>date</th>\n",
       "      <th>percentage_monologues</th>\n",
       "    </tr>\n",
       "  </thead>\n",
       "  <tbody>\n",
       "    <tr>\n",
       "      <th>276</th>\n",
       "      <td>Augier</td>\n",
       "      <td>Émile</td>\n",
       "      <td>Gabrielle</td>\n",
       "      <td>1849</td>\n",
       "      <td>11.36</td>\n",
       "    </tr>\n",
       "  </tbody>\n",
       "</table>\n",
       "</div>"
      ],
      "text/plain": [
       "    last_name first_name      title  date  percentage_monologues\n",
       "276    Augier      Émile  Gabrielle  1849                  11.36"
      ]
     },
     "metadata": {},
     "output_type": "display_data"
    },
    {
     "name": "stdout",
     "output_type": "stream",
     "text": [
      "The closest to the mean:\n"
     ]
    },
    {
     "data": {
      "text/html": [
       "<div>\n",
       "<style scoped>\n",
       "    .dataframe tbody tr th:only-of-type {\n",
       "        vertical-align: middle;\n",
       "    }\n",
       "\n",
       "    .dataframe tbody tr th {\n",
       "        vertical-align: top;\n",
       "    }\n",
       "\n",
       "    .dataframe thead th {\n",
       "        text-align: right;\n",
       "    }\n",
       "</style>\n",
       "<table border=\"1\" class=\"dataframe\">\n",
       "  <thead>\n",
       "    <tr style=\"text-align: right;\">\n",
       "      <th></th>\n",
       "      <th>last_name</th>\n",
       "      <th>first_name</th>\n",
       "      <th>title</th>\n",
       "      <th>date</th>\n",
       "      <th>percentage_monologues</th>\n",
       "    </tr>\n",
       "  </thead>\n",
       "  <tbody>\n",
       "    <tr>\n",
       "      <th>242</th>\n",
       "      <td>Gosse</td>\n",
       "      <td>Étienne</td>\n",
       "      <td>Le Flatteur</td>\n",
       "      <td>1820</td>\n",
       "      <td>20.0</td>\n",
       "    </tr>\n",
       "  </tbody>\n",
       "</table>\n",
       "</div>"
      ],
      "text/plain": [
       "    last_name first_name        title  date  percentage_monologues\n",
       "242     Gosse    Étienne  Le Flatteur  1820                   20.0"
      ]
     },
     "metadata": {},
     "output_type": "display_data"
    }
   ],
   "source": [
    "summary_feature(period_three, 'percentage_monologues')"
   ]
  },
  {
   "cell_type": "markdown",
   "metadata": {},
   "source": [
    "### Summary"
   ]
  },
  {
   "cell_type": "markdown",
   "metadata": {},
   "source": [
    "The maximum for all features:\n",
    "- The number of dramatic characters: 30 in period one (Chalussay’s *Elomire Hypocondre* (1670)), 24 in period two (Cubières-Palmézeaux’s *L'Homme d'état imaginaire* (1789)), 28 in  period three Gosse’s *Les Jésuites, ou les autres Tartuffes* (1827)).\n",
    "\n",
    "- The mobility coefficient: 85 in period one (Hauteroche’s *Crispin musician* (1674)) , 91 in period two (Chauveau’s *L’homme de cour* (1767)), 86  in period three (Gosse’s *Les Jésuites, ou les autres Tartuffes* (1827)).\n",
    "\n",
    "- The standard range of the number of speaking characters (sigma): 3.54  in period one (Chalussay’s *Elomire Hypocondre* (1670)), 1.98 in period two (Rousseau’s *La Femme qui ne parle point ou l’hypocondre* (1751)), 2.54 in period three: (Delavigne’s *La Princesse Aurélie* (1828)).\n",
    "\n",
    "- The Percentage of polylogues: 86.21% in period one (Boisrobert’s *Les trois Orontes* (1652)), 58.06% in period two (Rousseau’s *Les ayeux chimériques ou la comtesse de Critognac* (1735), 65.0% in period three: Merville’s *La Famille Glinet* (1818)).\n",
    "\n",
    "- The Percentage of monologues: 33.33% in period one: (Rotrou’s *La Célimène* (1633), 40.48% in period two (Bastide’s *Le Jeune homme* (1766)), 43.08% in period three (Bonjour’s *Le Mari à bonnes fortunes, ou La Leçon* (1824)).\n",
    "    \n",
    "   Three authors (Chalussay, Rousseau, and Gosse) wrote the comedies that represent the maximum for their period based on at least two features.\n",
    "   \n",
    "The minimum for all features:   \n",
    "- The number of dramatic characters: 7 in period one: (three comedies including Pierre Corneille’s *La Suite du menteur* (1643)),  Montfleury’s *L’École des filles* (1666), and Marcel’s *Le Mariage sans marriage* (1671), 6 in period two period (Destouches’s *Le Mari confident* (1758) and Bastide’s *Le Jeune homme* (1766)), 6 in period three (Augier’s *Gabrielle* (1849)).\n",
    "\n",
    "- The mobility coefficient: 19 in period one: (Guérin de Bouscal’s *Dom Quixote de la Manche* (1639)), 29 in period two: (Nivelle de la Chaussée’s *Mélanide* (1741), 34 in period three: Duval’s *Le Chevalier d’industrie* (1818))\n",
    "\n",
    "- The standard range of the number of speaking characters (sigma):  0.6 in period one: (Quinault’s *La Mère coquette* (1665)), 0.63 in period two: (Dorat’s *Roséïde ou l’Intrigant* (1779)), 0.84 in period three: (Michaud’s *Le Faux ami de cour, ou le Danger des liaisons* (1818)).\n",
    "\n",
    "- The percentage of polylogues: 10.64% in period one (Pierre Corneille’s *La Suivante* (1634)), 8.7% in period two (Delon’s *Le Financier* (1779)), 18.46% in period three: (Bonjour’s *Le Mari à bonnes fortunes, ou La Leçon*  (1824)).\n",
    "\n",
    "- The percentage of monologues: 0% in nine comedies in period one: period one, including Guyon’s *Dom Quixote de la Manche* (1639), Scarron’s *L’Héritier ridicule ou la Dame intéressée* (1649) and *Don Japhet d’Arménie* (1652), Boisrobert’s *La Belle plaideuse* (1654), Thomas Corneille’s *Le Galant double* (1660), *Le Baron d’Albikrac* (1668), and *La Comtesse d’Orgueil* (1670), Quinault’s *La Mère coquette* (1665), and Molière’s *Le Misanthrope* (1666); 3.23% in period two (Rousseau’s *Les ayeux chimériques ou la comtesse de Critognac*), 11.36% in period three: (Augier’s *Gabrielle*).\n",
    "    \n",
    "    \n",
    "    One author, Pierre Corneille, wrote comedies that represented period minimum based on at least two features (the number of dramatic characters and the percentage of polylogues)."
   ]
  },
  {
   "cell_type": "markdown",
   "metadata": {},
   "source": [
    "## Part 2. Summary For Individual Playwrights"
   ]
  },
  {
   "cell_type": "markdown",
   "metadata": {},
   "source": [
    "It is important to be able to place each author's comedic style in the context of the entire history of the French five-act comedy in verse. In order to do this, we calculate the mean number of dramatic characters, mean mobility coefficient, the standard range of the number of speaking characters (sigma), the mean percentage of polylogues, and the mean percentage of monologues. We quanitify how much a playwright prefers to write comedies with more open forms based on all features.\n",
    "\n",
    "#### Open Form Scores:\n",
    "1. For all features, we will calculate **the z-score**: $z=(x-u)/s$ where u is the mean of the feature and s is the standard deviation of this feature. For the percentage of monologues, we will reverse the sign, i.e., will use **- z-score** since it is the lower value of the percentage of monologues that indicates a more open form.\n",
    "3. The **open form score** will be the mean z-score. For example, if Boisrobert has the following z-scores (0.48, -0.86,  0.60,  1.45) and -z-score for the percentage of monologues of 1.68, his **open form score** = (0.48 -0.86 + 0.60 + 1.45 + 1.68) / 5 ≈ 0.67. The open form scores can be positive and negative, where high positive number indicates the most open form, whereas the high negative number indicates the least open form."
   ]
  },
  {
   "cell_type": "markdown",
   "metadata": {},
   "source": [
    "## More and Less Prolific Playwrights"
   ]
  },
  {
   "cell_type": "markdown",
   "metadata": {},
   "source": [
    "We will define the playwrights who wrote at least two five-act comedies in verse as prolific and those who wrote a single five-act verse comedy as less prolific. We will explore how many representatives are in each group and examine if open-form scores differ in those two groups by period."
   ]
  },
  {
   "cell_type": "code",
   "execution_count": 35,
   "metadata": {},
   "outputs": [],
   "source": [
    "def authors_by_output(df):\n",
    "    counts = df.groupby(['last_name', 'first_name']).count()['index']\n",
    "    playwrights_over_one = counts[counts > 1].index\n",
    "    playwrights_one = counts[counts == 1].index\n",
    "    \n",
    "    return playwrights_over_one, playwrights_one"
   ]
  },
  {
   "cell_type": "code",
   "execution_count": 36,
   "metadata": {},
   "outputs": [],
   "source": [
    "# remove co-authored comedies\n",
    "no_co_authored = sorted_comedies[sorted_comedies.last_name.str.count(';') == 0].copy()"
   ]
  },
  {
   "cell_type": "code",
   "execution_count": 37,
   "metadata": {},
   "outputs": [],
   "source": [
    "results = playwrights_place(no_co_authored, with_z_score=True)"
   ]
  },
  {
   "cell_type": "code",
   "execution_count": 38,
   "metadata": {},
   "outputs": [],
   "source": [
    "over_one, only_one = authors_by_output(no_co_authored)"
   ]
  },
  {
   "cell_type": "code",
   "execution_count": 39,
   "metadata": {},
   "outputs": [],
   "source": [
    "sorted_above_one = results.loc[over_one, :].sort_values(by='open_form_score', ascending=False)"
   ]
  },
  {
   "cell_type": "markdown",
   "metadata": {},
   "source": [
    "#### Prolific"
   ]
  },
  {
   "cell_type": "code",
   "execution_count": 40,
   "metadata": {},
   "outputs": [
    {
     "name": "stdout",
     "output_type": "stream",
     "text": [
      "Number of more prolific playwrigthts: 41\n"
     ]
    }
   ],
   "source": [
    "print('Number of more prolific playwrigthts:', \n",
    "sorted_above_one.shape[0])"
   ]
  },
  {
   "cell_type": "markdown",
   "metadata": {},
   "source": [
    "#### Less Prolific"
   ]
  },
  {
   "cell_type": "code",
   "execution_count": 41,
   "metadata": {},
   "outputs": [],
   "source": [
    "sorted_only_one = results.loc[only_one, :].sort_values(by='open_form_score', ascending=False)"
   ]
  },
  {
   "cell_type": "code",
   "execution_count": 42,
   "metadata": {},
   "outputs": [
    {
     "name": "stdout",
     "output_type": "stream",
     "text": [
      "Number of less prolific playwrigthts: 80\n"
     ]
    }
   ],
   "source": [
    "print('Number of less prolific playwrigthts:', \n",
    "sorted_only_one.shape[0])"
   ]
  },
  {
   "cell_type": "markdown",
   "metadata": {},
   "source": [
    "## Period One: Z-Scores and Open-Form Scores"
   ]
  },
  {
   "cell_type": "markdown",
   "metadata": {},
   "source": [
    "### Prolific"
   ]
  },
  {
   "cell_type": "code",
   "execution_count": 43,
   "metadata": {},
   "outputs": [],
   "source": [
    "sorted_above_one_play_period_one = sorted_above_one.loc[period_one.last_name.unique(), :]"
   ]
  },
  {
   "cell_type": "code",
   "execution_count": 44,
   "metadata": {},
   "outputs": [
    {
     "data": {
      "text/html": [
       "<div>\n",
       "<style scoped>\n",
       "    .dataframe tbody tr th:only-of-type {\n",
       "        vertical-align: middle;\n",
       "    }\n",
       "\n",
       "    .dataframe tbody tr th {\n",
       "        vertical-align: top;\n",
       "    }\n",
       "\n",
       "    .dataframe thead th {\n",
       "        text-align: right;\n",
       "    }\n",
       "</style>\n",
       "<table border=\"1\" class=\"dataframe\">\n",
       "  <thead>\n",
       "    <tr style=\"text-align: right;\">\n",
       "      <th></th>\n",
       "      <th></th>\n",
       "      <th>num_present_characters</th>\n",
       "      <th>mobility_coefficient</th>\n",
       "      <th>sigma_iarkho</th>\n",
       "      <th>polylogues</th>\n",
       "      <th>monologues</th>\n",
       "      <th>open_form_score</th>\n",
       "    </tr>\n",
       "    <tr>\n",
       "      <th>last_name</th>\n",
       "      <th>first_name</th>\n",
       "      <th></th>\n",
       "      <th></th>\n",
       "      <th></th>\n",
       "      <th></th>\n",
       "      <th></th>\n",
       "      <th></th>\n",
       "    </tr>\n",
       "  </thead>\n",
       "  <tbody>\n",
       "    <tr>\n",
       "      <th>Hauteroche</th>\n",
       "      <th>Noël Lebreton, sieur de</th>\n",
       "      <td>0.64</td>\n",
       "      <td>1.51</td>\n",
       "      <td>0.40</td>\n",
       "      <td>0.88</td>\n",
       "      <td>0.64</td>\n",
       "      <td>0.81</td>\n",
       "    </tr>\n",
       "    <tr>\n",
       "      <th>Boisrobert</th>\n",
       "      <th>François Le Métel de</th>\n",
       "      <td>0.48</td>\n",
       "      <td>-0.86</td>\n",
       "      <td>0.60</td>\n",
       "      <td>1.45</td>\n",
       "      <td>1.68</td>\n",
       "      <td>0.67</td>\n",
       "    </tr>\n",
       "    <tr>\n",
       "      <th>La Fontaine</th>\n",
       "      <th>Jean de</th>\n",
       "      <td>2.05</td>\n",
       "      <td>0.09</td>\n",
       "      <td>1.12</td>\n",
       "      <td>0.11</td>\n",
       "      <td>-0.43</td>\n",
       "      <td>0.59</td>\n",
       "    </tr>\n",
       "    <tr>\n",
       "      <th>Gillet de la Tessonnerie</th>\n",
       "      <th>N.</th>\n",
       "      <td>0.61</td>\n",
       "      <td>-1.25</td>\n",
       "      <td>0.80</td>\n",
       "      <td>1.26</td>\n",
       "      <td>1.06</td>\n",
       "      <td>0.50</td>\n",
       "    </tr>\n",
       "    <tr>\n",
       "      <th>Ouville</th>\n",
       "      <th>Antoine d'</th>\n",
       "      <td>-0.28</td>\n",
       "      <td>0.31</td>\n",
       "      <td>0.23</td>\n",
       "      <td>0.76</td>\n",
       "      <td>1.15</td>\n",
       "      <td>0.43</td>\n",
       "    </tr>\n",
       "    <tr>\n",
       "      <th>Corneille</th>\n",
       "      <th>Thomas</th>\n",
       "      <td>-0.03</td>\n",
       "      <td>-0.48</td>\n",
       "      <td>-0.23</td>\n",
       "      <td>1.18</td>\n",
       "      <td>1.43</td>\n",
       "      <td>0.37</td>\n",
       "    </tr>\n",
       "    <tr>\n",
       "      <th>Scarron</th>\n",
       "      <th>Paul</th>\n",
       "      <td>0.03</td>\n",
       "      <td>-0.69</td>\n",
       "      <td>0.75</td>\n",
       "      <td>0.61</td>\n",
       "      <td>0.55</td>\n",
       "      <td>0.25</td>\n",
       "    </tr>\n",
       "    <tr>\n",
       "      <th>Boursault</th>\n",
       "      <th>Edmé</th>\n",
       "      <td>1.24</td>\n",
       "      <td>-0.26</td>\n",
       "      <td>-0.06</td>\n",
       "      <td>0.06</td>\n",
       "      <td>0.28</td>\n",
       "      <td>0.25</td>\n",
       "    </tr>\n",
       "    <tr>\n",
       "      <th>Molière</th>\n",
       "      <th></th>\n",
       "      <td>-0.06</td>\n",
       "      <td>-1.26</td>\n",
       "      <td>0.60</td>\n",
       "      <td>0.00</td>\n",
       "      <td>0.83</td>\n",
       "      <td>0.02</td>\n",
       "    </tr>\n",
       "    <tr>\n",
       "      <th>Quinault</th>\n",
       "      <th>Philippe</th>\n",
       "      <td>-0.82</td>\n",
       "      <td>-0.82</td>\n",
       "      <td>-0.49</td>\n",
       "      <td>0.68</td>\n",
       "      <td>1.45</td>\n",
       "      <td>0.00</td>\n",
       "    </tr>\n",
       "    <tr>\n",
       "      <th>Mareschal</th>\n",
       "      <th>André</th>\n",
       "      <td>-0.77</td>\n",
       "      <td>-1.31</td>\n",
       "      <td>0.37</td>\n",
       "      <td>1.18</td>\n",
       "      <td>0.17</td>\n",
       "      <td>-0.07</td>\n",
       "    </tr>\n",
       "    <tr>\n",
       "      <th>Baron</th>\n",
       "      <th></th>\n",
       "      <td>0.44</td>\n",
       "      <td>1.03</td>\n",
       "      <td>-0.60</td>\n",
       "      <td>-0.27</td>\n",
       "      <td>-1.03</td>\n",
       "      <td>-0.09</td>\n",
       "    </tr>\n",
       "    <tr>\n",
       "      <th>Montfleury</th>\n",
       "      <th></th>\n",
       "      <td>-0.54</td>\n",
       "      <td>0.20</td>\n",
       "      <td>-0.69</td>\n",
       "      <td>-0.39</td>\n",
       "      <td>-0.11</td>\n",
       "      <td>-0.31</td>\n",
       "    </tr>\n",
       "    <tr>\n",
       "      <th>Corneille</th>\n",
       "      <th>Pierre</th>\n",
       "      <td>-0.34</td>\n",
       "      <td>-0.49</td>\n",
       "      <td>-0.77</td>\n",
       "      <td>-1.12</td>\n",
       "      <td>-0.33</td>\n",
       "      <td>-0.61</td>\n",
       "    </tr>\n",
       "  </tbody>\n",
       "</table>\n",
       "</div>"
      ],
      "text/plain": [
       "                                                  num_present_characters  \\\n",
       "last_name                first_name                                        \n",
       "Hauteroche               Noël Lebreton, sieur de                    0.64   \n",
       "Boisrobert               François Le Métel de                       0.48   \n",
       "La Fontaine              Jean de                                    2.05   \n",
       "Gillet de la Tessonnerie N.                                         0.61   \n",
       "Ouville                  Antoine d'                                -0.28   \n",
       "Corneille                Thomas                                    -0.03   \n",
       "Scarron                  Paul                                       0.03   \n",
       "Boursault                Edmé                                       1.24   \n",
       "Molière                                                            -0.06   \n",
       "Quinault                 Philippe                                  -0.82   \n",
       "Mareschal                André                                     -0.77   \n",
       "Baron                                                               0.44   \n",
       "Montfleury                                                         -0.54   \n",
       "Corneille                Pierre                                    -0.34   \n",
       "\n",
       "                                                  mobility_coefficient  \\\n",
       "last_name                first_name                                      \n",
       "Hauteroche               Noël Lebreton, sieur de                  1.51   \n",
       "Boisrobert               François Le Métel de                    -0.86   \n",
       "La Fontaine              Jean de                                  0.09   \n",
       "Gillet de la Tessonnerie N.                                      -1.25   \n",
       "Ouville                  Antoine d'                               0.31   \n",
       "Corneille                Thomas                                  -0.48   \n",
       "Scarron                  Paul                                    -0.69   \n",
       "Boursault                Edmé                                    -0.26   \n",
       "Molière                                                          -1.26   \n",
       "Quinault                 Philippe                                -0.82   \n",
       "Mareschal                André                                   -1.31   \n",
       "Baron                                                             1.03   \n",
       "Montfleury                                                        0.20   \n",
       "Corneille                Pierre                                  -0.49   \n",
       "\n",
       "                                                  sigma_iarkho  polylogues  \\\n",
       "last_name                first_name                                          \n",
       "Hauteroche               Noël Lebreton, sieur de          0.40        0.88   \n",
       "Boisrobert               François Le Métel de             0.60        1.45   \n",
       "La Fontaine              Jean de                          1.12        0.11   \n",
       "Gillet de la Tessonnerie N.                               0.80        1.26   \n",
       "Ouville                  Antoine d'                       0.23        0.76   \n",
       "Corneille                Thomas                          -0.23        1.18   \n",
       "Scarron                  Paul                             0.75        0.61   \n",
       "Boursault                Edmé                            -0.06        0.06   \n",
       "Molière                                                   0.60        0.00   \n",
       "Quinault                 Philippe                        -0.49        0.68   \n",
       "Mareschal                André                            0.37        1.18   \n",
       "Baron                                                    -0.60       -0.27   \n",
       "Montfleury                                               -0.69       -0.39   \n",
       "Corneille                Pierre                          -0.77       -1.12   \n",
       "\n",
       "                                                  monologues  open_form_score  \n",
       "last_name                first_name                                            \n",
       "Hauteroche               Noël Lebreton, sieur de        0.64             0.81  \n",
       "Boisrobert               François Le Métel de           1.68             0.67  \n",
       "La Fontaine              Jean de                       -0.43             0.59  \n",
       "Gillet de la Tessonnerie N.                             1.06             0.50  \n",
       "Ouville                  Antoine d'                     1.15             0.43  \n",
       "Corneille                Thomas                         1.43             0.37  \n",
       "Scarron                  Paul                           0.55             0.25  \n",
       "Boursault                Edmé                           0.28             0.25  \n",
       "Molière                                                 0.83             0.02  \n",
       "Quinault                 Philippe                       1.45             0.00  \n",
       "Mareschal                André                          0.17            -0.07  \n",
       "Baron                                                  -1.03            -0.09  \n",
       "Montfleury                                             -0.11            -0.31  \n",
       "Corneille                Pierre                        -0.33            -0.61  "
      ]
     },
     "execution_count": 44,
     "metadata": {},
     "output_type": "execute_result"
    }
   ],
   "source": [
    "sorted_above_one_play_period_one"
   ]
  },
  {
   "cell_type": "code",
   "execution_count": 45,
   "metadata": {},
   "outputs": [
    {
     "name": "stdout",
     "output_type": "stream",
     "text": [
      "The percentage of playwrigthts writing comedies with the open form: 71.43%\n"
     ]
    }
   ],
   "source": [
    "print('The percentage of playwrigthts writing comedies with the open form: {}%'.format( \n",
    "round((sorted_above_one_play_period_one[sorted_above_one_play_period_one.open_form_score >= 0].shape[0] /\n",
    "      sorted_above_one_play_period_one.shape[0]) * 100, 2)))"
   ]
  },
  {
   "cell_type": "code",
   "execution_count": 46,
   "metadata": {},
   "outputs": [
    {
     "name": "stdout",
     "output_type": "stream",
     "text": [
      "The percentage of playwrigthts writing comedies with the closed form: 28.57%\n"
     ]
    }
   ],
   "source": [
    "print('The percentage of playwrigthts writing comedies with the closed form: {}%'.format(\n",
    "round((sorted_above_one_play_period_one[sorted_above_one_play_period_one.open_form_score < 0].shape[0]/\n",
    "      sorted_above_one_play_period_one.shape[0]) * 100, 2)))"
   ]
  },
  {
   "cell_type": "markdown",
   "metadata": {},
   "source": [
    "### Less Prolific"
   ]
  },
  {
   "cell_type": "code",
   "execution_count": 47,
   "metadata": {},
   "outputs": [
    {
     "data": {
      "text/html": [
       "<div>\n",
       "<style scoped>\n",
       "    .dataframe tbody tr th:only-of-type {\n",
       "        vertical-align: middle;\n",
       "    }\n",
       "\n",
       "    .dataframe tbody tr th {\n",
       "        vertical-align: top;\n",
       "    }\n",
       "\n",
       "    .dataframe thead th {\n",
       "        text-align: right;\n",
       "    }\n",
       "</style>\n",
       "<table border=\"1\" class=\"dataframe\">\n",
       "  <thead>\n",
       "    <tr style=\"text-align: right;\">\n",
       "      <th></th>\n",
       "      <th>index</th>\n",
       "      <th>title</th>\n",
       "      <th>last_name</th>\n",
       "      <th>first_name</th>\n",
       "      <th>date</th>\n",
       "      <th>translation/adaptation/contrastive</th>\n",
       "      <th>num_acts</th>\n",
       "      <th>url</th>\n",
       "      <th>num_present_characters</th>\n",
       "      <th>num_scenes_text</th>\n",
       "      <th>...</th>\n",
       "      <th>av_percentage_non_speakers</th>\n",
       "      <th>sigma_iarkho</th>\n",
       "      <th>number_scenes_with_discontinuous_change_characters</th>\n",
       "      <th>percentage_scenes_with_discontinuous_change_characters</th>\n",
       "      <th>total_utterances</th>\n",
       "      <th>num_verse_lines</th>\n",
       "      <th>dialogue_vivacity</th>\n",
       "      <th>five_year_intervals</th>\n",
       "      <th>decades</th>\n",
       "      <th>period</th>\n",
       "    </tr>\n",
       "  </thead>\n",
       "  <tbody>\n",
       "    <tr>\n",
       "      <th>78</th>\n",
       "      <td>F_78</td>\n",
       "      <td>Elomire Hypocondre</td>\n",
       "      <td>Chalussay</td>\n",
       "      <td>Le Boulanger de</td>\n",
       "      <td>1670</td>\n",
       "      <td>0</td>\n",
       "      <td>5</td>\n",
       "      <td>http://www.theatre-classique.fr/pages/document...</td>\n",
       "      <td>30</td>\n",
       "      <td>15</td>\n",
       "      <td>...</td>\n",
       "      <td>26.764</td>\n",
       "      <td>3.543</td>\n",
       "      <td>3</td>\n",
       "      <td>15.0</td>\n",
       "      <td>533.0</td>\n",
       "      <td>1770.0</td>\n",
       "      <td>0.301</td>\n",
       "      <td>1670</td>\n",
       "      <td>1670</td>\n",
       "      <td>1</td>\n",
       "    </tr>\n",
       "  </tbody>\n",
       "</table>\n",
       "<p>1 rows × 26 columns</p>\n",
       "</div>"
      ],
      "text/plain": [
       "   index                title  last_name       first_name  date  \\\n",
       "78  F_78  Elomire Hypocondre   Chalussay  Le Boulanger de  1670   \n",
       "\n",
       "    translation/adaptation/contrastive  num_acts  \\\n",
       "78                                   0         5   \n",
       "\n",
       "                                                  url  num_present_characters  \\\n",
       "78  http://www.theatre-classique.fr/pages/document...                      30   \n",
       "\n",
       "    num_scenes_text  ...  av_percentage_non_speakers sigma_iarkho  \\\n",
       "78               15  ...                      26.764        3.543   \n",
       "\n",
       "    number_scenes_with_discontinuous_change_characters  \\\n",
       "78                                                  3    \n",
       "\n",
       "    percentage_scenes_with_discontinuous_change_characters  total_utterances  \\\n",
       "78                                               15.0                  533.0   \n",
       "\n",
       "    num_verse_lines  dialogue_vivacity  five_year_intervals  decades  period  \n",
       "78           1770.0              0.301                 1670     1670       1  \n",
       "\n",
       "[1 rows x 26 columns]"
      ]
     },
     "execution_count": 47,
     "metadata": {},
     "output_type": "execute_result"
    }
   ],
   "source": [
    "sorted_comedies[sorted_comedies.last_name=='Chalussay']"
   ]
  },
  {
   "cell_type": "code",
   "execution_count": 48,
   "metadata": {},
   "outputs": [],
   "source": [
    "sorted_only_one_play_period_one = sorted_only_one.loc[period_one.last_name.unique(), :]"
   ]
  },
  {
   "cell_type": "code",
   "execution_count": 49,
   "metadata": {},
   "outputs": [
    {
     "data": {
      "text/html": [
       "<div>\n",
       "<style scoped>\n",
       "    .dataframe tbody tr th:only-of-type {\n",
       "        vertical-align: middle;\n",
       "    }\n",
       "\n",
       "    .dataframe tbody tr th {\n",
       "        vertical-align: top;\n",
       "    }\n",
       "\n",
       "    .dataframe thead th {\n",
       "        text-align: right;\n",
       "    }\n",
       "</style>\n",
       "<table border=\"1\" class=\"dataframe\">\n",
       "  <thead>\n",
       "    <tr style=\"text-align: right;\">\n",
       "      <th></th>\n",
       "      <th></th>\n",
       "      <th>num_present_characters</th>\n",
       "      <th>mobility_coefficient</th>\n",
       "      <th>sigma_iarkho</th>\n",
       "      <th>polylogues</th>\n",
       "      <th>monologues</th>\n",
       "      <th>open_form_score</th>\n",
       "    </tr>\n",
       "    <tr>\n",
       "      <th>last_name</th>\n",
       "      <th>first_name</th>\n",
       "      <th></th>\n",
       "      <th></th>\n",
       "      <th></th>\n",
       "      <th></th>\n",
       "      <th></th>\n",
       "      <th></th>\n",
       "    </tr>\n",
       "  </thead>\n",
       "  <tbody>\n",
       "    <tr>\n",
       "      <th>Chalussay</th>\n",
       "      <th>Le Boulanger de</th>\n",
       "      <td>5.01</td>\n",
       "      <td>-2.29</td>\n",
       "      <td>6.65</td>\n",
       "      <td>0.23</td>\n",
       "      <td>0.95</td>\n",
       "      <td>2.11</td>\n",
       "    </tr>\n",
       "    <tr>\n",
       "      <th>Guérin de Bouscal</th>\n",
       "      <th>Guyon</th>\n",
       "      <td>0.97</td>\n",
       "      <td>-2.38</td>\n",
       "      <td>2.64</td>\n",
       "      <td>3.35</td>\n",
       "      <td>2.07</td>\n",
       "      <td>1.33</td>\n",
       "    </tr>\n",
       "    <tr>\n",
       "      <th>Beys</th>\n",
       "      <th>Charles de</th>\n",
       "      <td>2.05</td>\n",
       "      <td>-0.32</td>\n",
       "      <td>0.95</td>\n",
       "      <td>1.22</td>\n",
       "      <td>1.05</td>\n",
       "      <td>0.99</td>\n",
       "    </tr>\n",
       "    <tr>\n",
       "      <th>Robbe</th>\n",
       "      <th>Jacques</th>\n",
       "      <td>1.24</td>\n",
       "      <td>-0.32</td>\n",
       "      <td>0.29</td>\n",
       "      <td>1.58</td>\n",
       "      <td>1.31</td>\n",
       "      <td>0.82</td>\n",
       "    </tr>\n",
       "    <tr>\n",
       "      <th>Poisson</th>\n",
       "      <th>Raymond</th>\n",
       "      <td>0.17</td>\n",
       "      <td>-0.49</td>\n",
       "      <td>0.75</td>\n",
       "      <td>1.13</td>\n",
       "      <td>1.81</td>\n",
       "      <td>0.67</td>\n",
       "    </tr>\n",
       "    <tr>\n",
       "      <th>Lambert</th>\n",
       "      <th></th>\n",
       "      <td>-0.64</td>\n",
       "      <td>0.01</td>\n",
       "      <td>0.69</td>\n",
       "      <td>1.04</td>\n",
       "      <td>0.90</td>\n",
       "      <td>0.40</td>\n",
       "    </tr>\n",
       "    <tr>\n",
       "      <th>Dorimond</th>\n",
       "      <th></th>\n",
       "      <td>0.44</td>\n",
       "      <td>-1.14</td>\n",
       "      <td>0.89</td>\n",
       "      <td>1.04</td>\n",
       "      <td>0.75</td>\n",
       "      <td>0.40</td>\n",
       "    </tr>\n",
       "    <tr>\n",
       "      <th>Palaprat</th>\n",
       "      <th>Jean de, sieur de Bigo</th>\n",
       "      <td>0.44</td>\n",
       "      <td>0.34</td>\n",
       "      <td>0.86</td>\n",
       "      <td>0.11</td>\n",
       "      <td>0.14</td>\n",
       "      <td>0.38</td>\n",
       "    </tr>\n",
       "    <tr>\n",
       "      <th>du Ryer</th>\n",
       "      <th>Pierre</th>\n",
       "      <td>-0.10</td>\n",
       "      <td>-0.73</td>\n",
       "      <td>0.75</td>\n",
       "      <td>0.52</td>\n",
       "      <td>1.21</td>\n",
       "      <td>0.33</td>\n",
       "    </tr>\n",
       "    <tr>\n",
       "      <th>Champmeslé</th>\n",
       "      <th></th>\n",
       "      <td>-0.10</td>\n",
       "      <td>0.83</td>\n",
       "      <td>-0.43</td>\n",
       "      <td>0.62</td>\n",
       "      <td>0.14</td>\n",
       "      <td>0.21</td>\n",
       "    </tr>\n",
       "    <tr>\n",
       "      <th>Chevalier</th>\n",
       "      <th></th>\n",
       "      <td>0.44</td>\n",
       "      <td>-0.24</td>\n",
       "      <td>0.40</td>\n",
       "      <td>0.23</td>\n",
       "      <td>-0.17</td>\n",
       "      <td>0.13</td>\n",
       "    </tr>\n",
       "    <tr>\n",
       "      <th>L. C. D.</th>\n",
       "      <th></th>\n",
       "      <td>1.24</td>\n",
       "      <td>-1.55</td>\n",
       "      <td>2.66</td>\n",
       "      <td>-0.48</td>\n",
       "      <td>-1.40</td>\n",
       "      <td>0.09</td>\n",
       "    </tr>\n",
       "    <tr>\n",
       "      <th>Tristan L'Hermite</th>\n",
       "      <th>François</th>\n",
       "      <td>-0.10</td>\n",
       "      <td>-1.14</td>\n",
       "      <td>0.69</td>\n",
       "      <td>0.56</td>\n",
       "      <td>-0.23</td>\n",
       "      <td>-0.04</td>\n",
       "    </tr>\n",
       "    <tr>\n",
       "      <th>Chappuzeau</th>\n",
       "      <th>Samuel</th>\n",
       "      <td>-0.64</td>\n",
       "      <td>-1.39</td>\n",
       "      <td>0.55</td>\n",
       "      <td>0.13</td>\n",
       "      <td>0.63</td>\n",
       "      <td>-0.14</td>\n",
       "    </tr>\n",
       "    <tr>\n",
       "      <th>Gilbert</th>\n",
       "      <th>Gabriel</th>\n",
       "      <td>-0.64</td>\n",
       "      <td>-0.65</td>\n",
       "      <td>-0.43</td>\n",
       "      <td>0.83</td>\n",
       "      <td>0.11</td>\n",
       "      <td>-0.16</td>\n",
       "    </tr>\n",
       "    <tr>\n",
       "      <th>Marcel</th>\n",
       "      <th></th>\n",
       "      <td>-1.18</td>\n",
       "      <td>-0.90</td>\n",
       "      <td>0.35</td>\n",
       "      <td>0.06</td>\n",
       "      <td>-0.04</td>\n",
       "      <td>-0.34</td>\n",
       "    </tr>\n",
       "    <tr>\n",
       "      <th>Scudery</th>\n",
       "      <th>Georges de</th>\n",
       "      <td>-0.37</td>\n",
       "      <td>-1.23</td>\n",
       "      <td>1.12</td>\n",
       "      <td>-0.54</td>\n",
       "      <td>-0.98</td>\n",
       "      <td>-0.40</td>\n",
       "    </tr>\n",
       "    <tr>\n",
       "      <th>Brosse</th>\n",
       "      <th>Abraham</th>\n",
       "      <td>-0.91</td>\n",
       "      <td>-1.23</td>\n",
       "      <td>-0.34</td>\n",
       "      <td>-0.30</td>\n",
       "      <td>0.71</td>\n",
       "      <td>-0.41</td>\n",
       "    </tr>\n",
       "    <tr>\n",
       "      <th>Desmarets de Saint-Sorlin</th>\n",
       "      <th>Jean</th>\n",
       "      <td>-0.64</td>\n",
       "      <td>-1.14</td>\n",
       "      <td>-1.00</td>\n",
       "      <td>0.09</td>\n",
       "      <td>0.43</td>\n",
       "      <td>-0.45</td>\n",
       "    </tr>\n",
       "    <tr>\n",
       "      <th>L'Estoile</th>\n",
       "      <th>Claude</th>\n",
       "      <td>-0.37</td>\n",
       "      <td>-0.16</td>\n",
       "      <td>-0.26</td>\n",
       "      <td>-0.71</td>\n",
       "      <td>-1.33</td>\n",
       "      <td>-0.57</td>\n",
       "    </tr>\n",
       "    <tr>\n",
       "      <th>Chevreau</th>\n",
       "      <th>Urbain</th>\n",
       "      <td>-0.64</td>\n",
       "      <td>-1.47</td>\n",
       "      <td>-0.08</td>\n",
       "      <td>-0.30</td>\n",
       "      <td>-0.54</td>\n",
       "      <td>-0.61</td>\n",
       "    </tr>\n",
       "    <tr>\n",
       "      <th>Rotrou</th>\n",
       "      <th>Jean de</th>\n",
       "      <td>-0.37</td>\n",
       "      <td>-0.24</td>\n",
       "      <td>-0.37</td>\n",
       "      <td>-1.19</td>\n",
       "      <td>-1.65</td>\n",
       "      <td>-0.76</td>\n",
       "    </tr>\n",
       "  </tbody>\n",
       "</table>\n",
       "</div>"
      ],
      "text/plain": [
       "                                                  num_present_characters  \\\n",
       "last_name                 first_name                                       \n",
       "Chalussay                 Le Boulanger de                           5.01   \n",
       "Guérin de Bouscal         Guyon                                     0.97   \n",
       "Beys                      Charles de                                2.05   \n",
       "Robbe                     Jacques                                   1.24   \n",
       "Poisson                   Raymond                                   0.17   \n",
       "Lambert                                                            -0.64   \n",
       "Dorimond                                                            0.44   \n",
       "Palaprat                  Jean de, sieur de Bigo                    0.44   \n",
       "du Ryer                   Pierre                                   -0.10   \n",
       "Champmeslé                                                         -0.10   \n",
       "Chevalier                                                           0.44   \n",
       "L. C. D.                                                            1.24   \n",
       "Tristan L'Hermite         François                                 -0.10   \n",
       "Chappuzeau                Samuel                                   -0.64   \n",
       "Gilbert                   Gabriel                                  -0.64   \n",
       "Marcel                                                             -1.18   \n",
       "Scudery                   Georges de                               -0.37   \n",
       "Brosse                    Abraham                                  -0.91   \n",
       "Desmarets de Saint-Sorlin Jean                                     -0.64   \n",
       "L'Estoile                 Claude                                   -0.37   \n",
       "Chevreau                  Urbain                                   -0.64   \n",
       "Rotrou                    Jean de                                  -0.37   \n",
       "\n",
       "                                                  mobility_coefficient  \\\n",
       "last_name                 first_name                                     \n",
       "Chalussay                 Le Boulanger de                        -2.29   \n",
       "Guérin de Bouscal         Guyon                                  -2.38   \n",
       "Beys                      Charles de                             -0.32   \n",
       "Robbe                     Jacques                                -0.32   \n",
       "Poisson                   Raymond                                -0.49   \n",
       "Lambert                                                           0.01   \n",
       "Dorimond                                                         -1.14   \n",
       "Palaprat                  Jean de, sieur de Bigo                  0.34   \n",
       "du Ryer                   Pierre                                 -0.73   \n",
       "Champmeslé                                                        0.83   \n",
       "Chevalier                                                        -0.24   \n",
       "L. C. D.                                                         -1.55   \n",
       "Tristan L'Hermite         François                               -1.14   \n",
       "Chappuzeau                Samuel                                 -1.39   \n",
       "Gilbert                   Gabriel                                -0.65   \n",
       "Marcel                                                           -0.90   \n",
       "Scudery                   Georges de                             -1.23   \n",
       "Brosse                    Abraham                                -1.23   \n",
       "Desmarets de Saint-Sorlin Jean                                   -1.14   \n",
       "L'Estoile                 Claude                                 -0.16   \n",
       "Chevreau                  Urbain                                 -1.47   \n",
       "Rotrou                    Jean de                                -0.24   \n",
       "\n",
       "                                                  sigma_iarkho  polylogues  \\\n",
       "last_name                 first_name                                         \n",
       "Chalussay                 Le Boulanger de                 6.65        0.23   \n",
       "Guérin de Bouscal         Guyon                           2.64        3.35   \n",
       "Beys                      Charles de                      0.95        1.22   \n",
       "Robbe                     Jacques                         0.29        1.58   \n",
       "Poisson                   Raymond                         0.75        1.13   \n",
       "Lambert                                                   0.69        1.04   \n",
       "Dorimond                                                  0.89        1.04   \n",
       "Palaprat                  Jean de, sieur de Bigo          0.86        0.11   \n",
       "du Ryer                   Pierre                          0.75        0.52   \n",
       "Champmeslé                                               -0.43        0.62   \n",
       "Chevalier                                                 0.40        0.23   \n",
       "L. C. D.                                                  2.66       -0.48   \n",
       "Tristan L'Hermite         François                        0.69        0.56   \n",
       "Chappuzeau                Samuel                          0.55        0.13   \n",
       "Gilbert                   Gabriel                        -0.43        0.83   \n",
       "Marcel                                                    0.35        0.06   \n",
       "Scudery                   Georges de                      1.12       -0.54   \n",
       "Brosse                    Abraham                        -0.34       -0.30   \n",
       "Desmarets de Saint-Sorlin Jean                           -1.00        0.09   \n",
       "L'Estoile                 Claude                         -0.26       -0.71   \n",
       "Chevreau                  Urbain                         -0.08       -0.30   \n",
       "Rotrou                    Jean de                        -0.37       -1.19   \n",
       "\n",
       "                                                  monologues  open_form_score  \n",
       "last_name                 first_name                                           \n",
       "Chalussay                 Le Boulanger de               0.95             2.11  \n",
       "Guérin de Bouscal         Guyon                         2.07             1.33  \n",
       "Beys                      Charles de                    1.05             0.99  \n",
       "Robbe                     Jacques                       1.31             0.82  \n",
       "Poisson                   Raymond                       1.81             0.67  \n",
       "Lambert                                                 0.90             0.40  \n",
       "Dorimond                                                0.75             0.40  \n",
       "Palaprat                  Jean de, sieur de Bigo        0.14             0.38  \n",
       "du Ryer                   Pierre                        1.21             0.33  \n",
       "Champmeslé                                              0.14             0.21  \n",
       "Chevalier                                              -0.17             0.13  \n",
       "L. C. D.                                               -1.40             0.09  \n",
       "Tristan L'Hermite         François                     -0.23            -0.04  \n",
       "Chappuzeau                Samuel                        0.63            -0.14  \n",
       "Gilbert                   Gabriel                       0.11            -0.16  \n",
       "Marcel                                                 -0.04            -0.34  \n",
       "Scudery                   Georges de                   -0.98            -0.40  \n",
       "Brosse                    Abraham                       0.71            -0.41  \n",
       "Desmarets de Saint-Sorlin Jean                          0.43            -0.45  \n",
       "L'Estoile                 Claude                       -1.33            -0.57  \n",
       "Chevreau                  Urbain                       -0.54            -0.61  \n",
       "Rotrou                    Jean de                      -1.65            -0.76  "
      ]
     },
     "execution_count": 49,
     "metadata": {},
     "output_type": "execute_result"
    }
   ],
   "source": [
    "sorted_only_one_play_period_one"
   ]
  },
  {
   "cell_type": "code",
   "execution_count": 50,
   "metadata": {},
   "outputs": [
    {
     "name": "stdout",
     "output_type": "stream",
     "text": [
      "The percentage of playwrigthts writing comedies with the open form: 54.55%\n"
     ]
    }
   ],
   "source": [
    "print('The percentage of playwrigthts writing comedies with the open form: {}%'.format( \n",
    "round((sorted_only_one_play_period_one[sorted_only_one_play_period_one.open_form_score >= 0].shape[0] /\n",
    "      sorted_only_one_play_period_one.shape[0]) * 100, 2)))"
   ]
  },
  {
   "cell_type": "code",
   "execution_count": 51,
   "metadata": {},
   "outputs": [
    {
     "name": "stdout",
     "output_type": "stream",
     "text": [
      "The percentage of playwrigthts writing comedies with the closed form: 45.45%\n"
     ]
    }
   ],
   "source": [
    "print('The percentage of playwrigthts writing comedies with the closed form: {}%'.format(\n",
    "round((sorted_only_one_play_period_one[sorted_only_one_play_period_one.open_form_score < 0].shape[0]/\n",
    "      sorted_only_one_play_period_one.shape[0]) * 100, 2)))"
   ]
  },
  {
   "cell_type": "markdown",
   "metadata": {},
   "source": [
    "## Period Two: Z-Scores and Open-Form Scores"
   ]
  },
  {
   "cell_type": "code",
   "execution_count": 52,
   "metadata": {},
   "outputs": [],
   "source": [
    "sorted_above_one_play_period_two = sorted_above_one.loc[period_two.last_name.unique(), :]"
   ]
  },
  {
   "cell_type": "markdown",
   "metadata": {},
   "source": [
    "### Prolific"
   ]
  },
  {
   "cell_type": "code",
   "execution_count": 53,
   "metadata": {},
   "outputs": [
    {
     "data": {
      "text/html": [
       "<div>\n",
       "<style scoped>\n",
       "    .dataframe tbody tr th:only-of-type {\n",
       "        vertical-align: middle;\n",
       "    }\n",
       "\n",
       "    .dataframe tbody tr th {\n",
       "        vertical-align: top;\n",
       "    }\n",
       "\n",
       "    .dataframe thead th {\n",
       "        text-align: right;\n",
       "    }\n",
       "</style>\n",
       "<table border=\"1\" class=\"dataframe\">\n",
       "  <thead>\n",
       "    <tr style=\"text-align: right;\">\n",
       "      <th></th>\n",
       "      <th></th>\n",
       "      <th>num_present_characters</th>\n",
       "      <th>mobility_coefficient</th>\n",
       "      <th>sigma_iarkho</th>\n",
       "      <th>polylogues</th>\n",
       "      <th>monologues</th>\n",
       "      <th>open_form_score</th>\n",
       "    </tr>\n",
       "    <tr>\n",
       "      <th>last_name</th>\n",
       "      <th>first_name</th>\n",
       "      <th></th>\n",
       "      <th></th>\n",
       "      <th></th>\n",
       "      <th></th>\n",
       "      <th></th>\n",
       "      <th></th>\n",
       "    </tr>\n",
       "  </thead>\n",
       "  <tbody>\n",
       "    <tr>\n",
       "      <th>Demoustier</th>\n",
       "      <th>Charles-Albert</th>\n",
       "      <td>0.03</td>\n",
       "      <td>0.46</td>\n",
       "      <td>2.12</td>\n",
       "      <td>0.55</td>\n",
       "      <td>-0.02</td>\n",
       "      <td>0.63</td>\n",
       "    </tr>\n",
       "    <tr>\n",
       "      <th>Dancourt</th>\n",
       "      <th></th>\n",
       "      <td>-0.10</td>\n",
       "      <td>0.69</td>\n",
       "      <td>0.26</td>\n",
       "      <td>0.68</td>\n",
       "      <td>0.41</td>\n",
       "      <td>0.39</td>\n",
       "    </tr>\n",
       "    <tr>\n",
       "      <th>Desforges</th>\n",
       "      <th></th>\n",
       "      <td>0.03</td>\n",
       "      <td>0.48</td>\n",
       "      <td>0.57</td>\n",
       "      <td>0.02</td>\n",
       "      <td>-0.23</td>\n",
       "      <td>0.17</td>\n",
       "    </tr>\n",
       "    <tr>\n",
       "      <th>Collin d’Harleville</th>\n",
       "      <th>Jean-François</th>\n",
       "      <td>-0.16</td>\n",
       "      <td>0.96</td>\n",
       "      <td>-0.20</td>\n",
       "      <td>0.16</td>\n",
       "      <td>0.07</td>\n",
       "      <td>0.17</td>\n",
       "    </tr>\n",
       "    <tr>\n",
       "      <th>Regnard</th>\n",
       "      <th>Jean-François</th>\n",
       "      <td>0.17</td>\n",
       "      <td>0.27</td>\n",
       "      <td>0.23</td>\n",
       "      <td>0.17</td>\n",
       "      <td>-0.11</td>\n",
       "      <td>0.15</td>\n",
       "    </tr>\n",
       "    <tr>\n",
       "      <th>Voltaire</th>\n",
       "      <th></th>\n",
       "      <td>-0.30</td>\n",
       "      <td>-0.88</td>\n",
       "      <td>0.26</td>\n",
       "      <td>0.47</td>\n",
       "      <td>0.77</td>\n",
       "      <td>0.06</td>\n",
       "    </tr>\n",
       "    <tr>\n",
       "      <th>Du Fresny</th>\n",
       "      <th>Charles</th>\n",
       "      <td>-0.24</td>\n",
       "      <td>0.25</td>\n",
       "      <td>-0.08</td>\n",
       "      <td>0.09</td>\n",
       "      <td>0.21</td>\n",
       "      <td>0.05</td>\n",
       "    </tr>\n",
       "    <tr>\n",
       "      <th>Rousseau</th>\n",
       "      <th>Jean-Baptiste</th>\n",
       "      <td>-0.10</td>\n",
       "      <td>-0.84</td>\n",
       "      <td>0.52</td>\n",
       "      <td>0.40</td>\n",
       "      <td>0.19</td>\n",
       "      <td>0.03</td>\n",
       "    </tr>\n",
       "    <tr>\n",
       "      <th>Néricault Destouches</th>\n",
       "      <th></th>\n",
       "      <td>-0.27</td>\n",
       "      <td>0.18</td>\n",
       "      <td>0.09</td>\n",
       "      <td>-0.13</td>\n",
       "      <td>-0.28</td>\n",
       "      <td>-0.08</td>\n",
       "    </tr>\n",
       "    <tr>\n",
       "      <th>Baron</th>\n",
       "      <th></th>\n",
       "      <td>0.44</td>\n",
       "      <td>1.03</td>\n",
       "      <td>-0.60</td>\n",
       "      <td>-0.27</td>\n",
       "      <td>-1.03</td>\n",
       "      <td>-0.09</td>\n",
       "    </tr>\n",
       "    <tr>\n",
       "      <th>Piron</th>\n",
       "      <th>Alexis</th>\n",
       "      <td>-0.77</td>\n",
       "      <td>0.79</td>\n",
       "      <td>-0.31</td>\n",
       "      <td>-0.30</td>\n",
       "      <td>-0.67</td>\n",
       "      <td>-0.25</td>\n",
       "    </tr>\n",
       "    <tr>\n",
       "      <th>Dorat</th>\n",
       "      <th>Claude-Joseph</th>\n",
       "      <td>0.03</td>\n",
       "      <td>-0.28</td>\n",
       "      <td>0.29</td>\n",
       "      <td>-1.08</td>\n",
       "      <td>-0.52</td>\n",
       "      <td>-0.31</td>\n",
       "    </tr>\n",
       "    <tr>\n",
       "      <th>Fabre d'Églantine</th>\n",
       "      <th></th>\n",
       "      <td>-0.37</td>\n",
       "      <td>-0.03</td>\n",
       "      <td>-0.46</td>\n",
       "      <td>-0.90</td>\n",
       "      <td>-0.69</td>\n",
       "      <td>-0.49</td>\n",
       "    </tr>\n",
       "    <tr>\n",
       "      <th>Boissy</th>\n",
       "      <th>Louis de</th>\n",
       "      <td>-0.72</td>\n",
       "      <td>-0.19</td>\n",
       "      <td>-0.77</td>\n",
       "      <td>-0.84</td>\n",
       "      <td>-0.38</td>\n",
       "      <td>-0.58</td>\n",
       "    </tr>\n",
       "    <tr>\n",
       "      <th>Nivelle de la Chaussée</th>\n",
       "      <th>Pierre Claude</th>\n",
       "      <td>-0.71</td>\n",
       "      <td>-0.42</td>\n",
       "      <td>-0.57</td>\n",
       "      <td>-1.05</td>\n",
       "      <td>-0.71</td>\n",
       "      <td>-0.69</td>\n",
       "    </tr>\n",
       "  </tbody>\n",
       "</table>\n",
       "</div>"
      ],
      "text/plain": [
       "                                       num_present_characters  \\\n",
       "last_name              first_name                               \n",
       "Demoustier             Charles-Albert                    0.03   \n",
       "Dancourt                                                -0.10   \n",
       "Desforges                                                0.03   \n",
       "Collin d’Harleville    Jean-François                    -0.16   \n",
       "Regnard                Jean-François                     0.17   \n",
       "Voltaire                                                -0.30   \n",
       "Du Fresny              Charles                          -0.24   \n",
       "Rousseau               Jean-Baptiste                    -0.10   \n",
       "Néricault Destouches                                    -0.27   \n",
       "Baron                                                    0.44   \n",
       "Piron                  Alexis                           -0.77   \n",
       "Dorat                  Claude-Joseph                     0.03   \n",
       "Fabre d'Églantine                                       -0.37   \n",
       "Boissy                 Louis de                         -0.72   \n",
       "Nivelle de la Chaussée Pierre Claude                    -0.71   \n",
       "\n",
       "                                       mobility_coefficient  sigma_iarkho  \\\n",
       "last_name              first_name                                           \n",
       "Demoustier             Charles-Albert                  0.46          2.12   \n",
       "Dancourt                                               0.69          0.26   \n",
       "Desforges                                              0.48          0.57   \n",
       "Collin d’Harleville    Jean-François                   0.96         -0.20   \n",
       "Regnard                Jean-François                   0.27          0.23   \n",
       "Voltaire                                              -0.88          0.26   \n",
       "Du Fresny              Charles                         0.25         -0.08   \n",
       "Rousseau               Jean-Baptiste                  -0.84          0.52   \n",
       "Néricault Destouches                                   0.18          0.09   \n",
       "Baron                                                  1.03         -0.60   \n",
       "Piron                  Alexis                          0.79         -0.31   \n",
       "Dorat                  Claude-Joseph                  -0.28          0.29   \n",
       "Fabre d'Églantine                                     -0.03         -0.46   \n",
       "Boissy                 Louis de                       -0.19         -0.77   \n",
       "Nivelle de la Chaussée Pierre Claude                  -0.42         -0.57   \n",
       "\n",
       "                                       polylogues  monologues  open_form_score  \n",
       "last_name              first_name                                               \n",
       "Demoustier             Charles-Albert        0.55       -0.02             0.63  \n",
       "Dancourt                                     0.68        0.41             0.39  \n",
       "Desforges                                    0.02       -0.23             0.17  \n",
       "Collin d’Harleville    Jean-François         0.16        0.07             0.17  \n",
       "Regnard                Jean-François         0.17       -0.11             0.15  \n",
       "Voltaire                                     0.47        0.77             0.06  \n",
       "Du Fresny              Charles               0.09        0.21             0.05  \n",
       "Rousseau               Jean-Baptiste         0.40        0.19             0.03  \n",
       "Néricault Destouches                        -0.13       -0.28            -0.08  \n",
       "Baron                                       -0.27       -1.03            -0.09  \n",
       "Piron                  Alexis               -0.30       -0.67            -0.25  \n",
       "Dorat                  Claude-Joseph        -1.08       -0.52            -0.31  \n",
       "Fabre d'Églantine                           -0.90       -0.69            -0.49  \n",
       "Boissy                 Louis de             -0.84       -0.38            -0.58  \n",
       "Nivelle de la Chaussée Pierre Claude        -1.05       -0.71            -0.69  "
      ]
     },
     "execution_count": 53,
     "metadata": {},
     "output_type": "execute_result"
    }
   ],
   "source": [
    "sorted_above_one_play_period_two"
   ]
  },
  {
   "cell_type": "code",
   "execution_count": 54,
   "metadata": {},
   "outputs": [
    {
     "name": "stdout",
     "output_type": "stream",
     "text": [
      "The percentage of playwrigthts writing comedies with the open form: 53.33%\n"
     ]
    }
   ],
   "source": [
    "print('The percentage of playwrigthts writing comedies with the open form: {}%'.format( \n",
    "round((sorted_above_one_play_period_two[sorted_above_one_play_period_two.open_form_score >= 0].shape[0] /\n",
    "      sorted_above_one_play_period_two.shape[0]) * 100, 2)))"
   ]
  },
  {
   "cell_type": "code",
   "execution_count": 55,
   "metadata": {},
   "outputs": [
    {
     "name": "stdout",
     "output_type": "stream",
     "text": [
      "The percentage of playwrigthts writing comedies with the closed form: 46.67%\n"
     ]
    }
   ],
   "source": [
    "print('The percentage of playwrigthts writing comedies with the closed form: {}%'.format(\n",
    "round((sorted_above_one_play_period_two[sorted_above_one_play_period_two.open_form_score < 0].shape[0]/\n",
    "      sorted_above_one_play_period_two.shape[0]) * 100, 2)))"
   ]
  },
  {
   "cell_type": "markdown",
   "metadata": {},
   "source": [
    "### Less Prolific"
   ]
  },
  {
   "cell_type": "code",
   "execution_count": 56,
   "metadata": {},
   "outputs": [],
   "source": [
    "sorted_only_one_play_period_two = sorted_only_one.loc[period_two.last_name.unique(), :]"
   ]
  },
  {
   "cell_type": "code",
   "execution_count": 57,
   "metadata": {},
   "outputs": [
    {
     "data": {
      "text/html": [
       "<div>\n",
       "<style scoped>\n",
       "    .dataframe tbody tr th:only-of-type {\n",
       "        vertical-align: middle;\n",
       "    }\n",
       "\n",
       "    .dataframe tbody tr th {\n",
       "        vertical-align: top;\n",
       "    }\n",
       "\n",
       "    .dataframe thead th {\n",
       "        text-align: right;\n",
       "    }\n",
       "</style>\n",
       "<table border=\"1\" class=\"dataframe\">\n",
       "  <thead>\n",
       "    <tr style=\"text-align: right;\">\n",
       "      <th></th>\n",
       "      <th></th>\n",
       "      <th>num_present_characters</th>\n",
       "      <th>mobility_coefficient</th>\n",
       "      <th>sigma_iarkho</th>\n",
       "      <th>polylogues</th>\n",
       "      <th>monologues</th>\n",
       "      <th>open_form_score</th>\n",
       "    </tr>\n",
       "    <tr>\n",
       "      <th>last_name</th>\n",
       "      <th>first_name</th>\n",
       "      <th></th>\n",
       "      <th></th>\n",
       "      <th></th>\n",
       "      <th></th>\n",
       "      <th></th>\n",
       "      <th></th>\n",
       "    </tr>\n",
       "  </thead>\n",
       "  <tbody>\n",
       "    <tr>\n",
       "      <th>Chauveau</th>\n",
       "      <th></th>\n",
       "      <td>2.32</td>\n",
       "      <td>3.54</td>\n",
       "      <td>-0.51</td>\n",
       "      <td>-1.30</td>\n",
       "      <td>-0.75</td>\n",
       "      <td>0.66</td>\n",
       "    </tr>\n",
       "    <tr>\n",
       "      <th>Cubières-Palmézeaux</th>\n",
       "      <th>Michel de</th>\n",
       "      <td>3.39</td>\n",
       "      <td>0.58</td>\n",
       "      <td>-0.26</td>\n",
       "      <td>-0.20</td>\n",
       "      <td>-0.37</td>\n",
       "      <td>0.63</td>\n",
       "    </tr>\n",
       "    <tr>\n",
       "      <th>Romagnesi</th>\n",
       "      <th>Jean-Antoine</th>\n",
       "      <td>0.17</td>\n",
       "      <td>1.98</td>\n",
       "      <td>0.14</td>\n",
       "      <td>0.15</td>\n",
       "      <td>0.05</td>\n",
       "      <td>0.50</td>\n",
       "    </tr>\n",
       "    <tr>\n",
       "      <th>Patrat</th>\n",
       "      <th>Joseph</th>\n",
       "      <td>0.44</td>\n",
       "      <td>1.73</td>\n",
       "      <td>-0.06</td>\n",
       "      <td>0.16</td>\n",
       "      <td>-0.52</td>\n",
       "      <td>0.35</td>\n",
       "    </tr>\n",
       "    <tr>\n",
       "      <th>Laya</th>\n",
       "      <th>Jean-Louis</th>\n",
       "      <td>0.17</td>\n",
       "      <td>-1.31</td>\n",
       "      <td>0.06</td>\n",
       "      <td>1.29</td>\n",
       "      <td>0.67</td>\n",
       "      <td>0.18</td>\n",
       "    </tr>\n",
       "    <tr>\n",
       "      <th>Autreau</th>\n",
       "      <th>Jacques</th>\n",
       "      <td>0.97</td>\n",
       "      <td>0.99</td>\n",
       "      <td>-0.83</td>\n",
       "      <td>-0.70</td>\n",
       "      <td>0.39</td>\n",
       "      <td>0.16</td>\n",
       "    </tr>\n",
       "    <tr>\n",
       "      <th>Dampierre de la Salle</th>\n",
       "      <th></th>\n",
       "      <td>0.17</td>\n",
       "      <td>-0.73</td>\n",
       "      <td>-0.34</td>\n",
       "      <td>0.93</td>\n",
       "      <td>0.35</td>\n",
       "      <td>0.08</td>\n",
       "    </tr>\n",
       "    <tr>\n",
       "      <th>Cailhava D'Estendoux</th>\n",
       "      <th>Jean-François</th>\n",
       "      <td>0.17</td>\n",
       "      <td>0.42</td>\n",
       "      <td>0.06</td>\n",
       "      <td>-0.55</td>\n",
       "      <td>-0.25</td>\n",
       "      <td>-0.03</td>\n",
       "    </tr>\n",
       "    <tr>\n",
       "      <th>Palissot de Montenoy</th>\n",
       "      <th>Charles</th>\n",
       "      <td>-0.37</td>\n",
       "      <td>-0.16</td>\n",
       "      <td>-0.29</td>\n",
       "      <td>-0.01</td>\n",
       "      <td>0.61</td>\n",
       "      <td>-0.04</td>\n",
       "    </tr>\n",
       "    <tr>\n",
       "      <th>Chabanon</th>\n",
       "      <th>Michel Paul Guy de</th>\n",
       "      <td>1.51</td>\n",
       "      <td>0.66</td>\n",
       "      <td>-0.43</td>\n",
       "      <td>-1.11</td>\n",
       "      <td>-0.92</td>\n",
       "      <td>-0.06</td>\n",
       "    </tr>\n",
       "    <tr>\n",
       "      <th>Lantier</th>\n",
       "      <th>Étienne François de</th>\n",
       "      <td>-0.37</td>\n",
       "      <td>2.72</td>\n",
       "      <td>-0.63</td>\n",
       "      <td>-0.99</td>\n",
       "      <td>-1.10</td>\n",
       "      <td>-0.07</td>\n",
       "    </tr>\n",
       "    <tr>\n",
       "      <th>Ch***</th>\n",
       "      <th></th>\n",
       "      <td>-0.64</td>\n",
       "      <td>-1.39</td>\n",
       "      <td>0.57</td>\n",
       "      <td>0.39</td>\n",
       "      <td>0.63</td>\n",
       "      <td>-0.09</td>\n",
       "    </tr>\n",
       "    <tr>\n",
       "      <th>Bièvre</th>\n",
       "      <th>Marquis de</th>\n",
       "      <td>-0.10</td>\n",
       "      <td>-0.40</td>\n",
       "      <td>-0.06</td>\n",
       "      <td>-0.36</td>\n",
       "      <td>-0.01</td>\n",
       "      <td>-0.19</td>\n",
       "    </tr>\n",
       "    <tr>\n",
       "      <th>Moissy</th>\n",
       "      <th>Alexandre-Guillaume de</th>\n",
       "      <td>-0.91</td>\n",
       "      <td>-1.39</td>\n",
       "      <td>0.37</td>\n",
       "      <td>0.13</td>\n",
       "      <td>0.63</td>\n",
       "      <td>-0.23</td>\n",
       "    </tr>\n",
       "    <tr>\n",
       "      <th>Dupuis</th>\n",
       "      <th>Amable-Joseph</th>\n",
       "      <td>0.17</td>\n",
       "      <td>-0.24</td>\n",
       "      <td>0.17</td>\n",
       "      <td>-0.48</td>\n",
       "      <td>-0.91</td>\n",
       "      <td>-0.26</td>\n",
       "    </tr>\n",
       "    <tr>\n",
       "      <th>Barthe</th>\n",
       "      <th>Nicolas-Thomas</th>\n",
       "      <td>0.17</td>\n",
       "      <td>0.66</td>\n",
       "      <td>-0.03</td>\n",
       "      <td>-0.97</td>\n",
       "      <td>-1.52</td>\n",
       "      <td>-0.34</td>\n",
       "    </tr>\n",
       "    <tr>\n",
       "      <th>Billard-Dumonceau</th>\n",
       "      <th>Edme</th>\n",
       "      <td>-1.18</td>\n",
       "      <td>-0.49</td>\n",
       "      <td>0.20</td>\n",
       "      <td>0.27</td>\n",
       "      <td>-0.59</td>\n",
       "      <td>-0.36</td>\n",
       "    </tr>\n",
       "    <tr>\n",
       "      <th>de Neufchâteau</th>\n",
       "      <th>Nicolas François</th>\n",
       "      <td>-0.64</td>\n",
       "      <td>2.06</td>\n",
       "      <td>-1.00</td>\n",
       "      <td>-1.00</td>\n",
       "      <td>-1.30</td>\n",
       "      <td>-0.38</td>\n",
       "    </tr>\n",
       "    <tr>\n",
       "      <th>Campistron</th>\n",
       "      <th>Jean Galbert de</th>\n",
       "      <td>-0.64</td>\n",
       "      <td>-0.82</td>\n",
       "      <td>0.32</td>\n",
       "      <td>-0.65</td>\n",
       "      <td>-0.28</td>\n",
       "      <td>-0.41</td>\n",
       "    </tr>\n",
       "    <tr>\n",
       "      <th>de Rochefort</th>\n",
       "      <th>Guillaume Dubois</th>\n",
       "      <td>-0.64</td>\n",
       "      <td>0.58</td>\n",
       "      <td>-0.86</td>\n",
       "      <td>-0.79</td>\n",
       "      <td>-0.37</td>\n",
       "      <td>-0.42</td>\n",
       "    </tr>\n",
       "    <tr>\n",
       "      <th>Fagan</th>\n",
       "      <th>Barthélemy-Christophe</th>\n",
       "      <td>-0.64</td>\n",
       "      <td>0.01</td>\n",
       "      <td>0.23</td>\n",
       "      <td>-0.80</td>\n",
       "      <td>-0.96</td>\n",
       "      <td>-0.43</td>\n",
       "    </tr>\n",
       "    <tr>\n",
       "      <th>Montesson</th>\n",
       "      <th>Madame de</th>\n",
       "      <td>0.17</td>\n",
       "      <td>-0.16</td>\n",
       "      <td>-0.89</td>\n",
       "      <td>-1.06</td>\n",
       "      <td>-0.36</td>\n",
       "      <td>-0.46</td>\n",
       "    </tr>\n",
       "    <tr>\n",
       "      <th>Rochon de Chabannes</th>\n",
       "      <th>Marc-Antoine-Jacques</th>\n",
       "      <td>-0.91</td>\n",
       "      <td>0.58</td>\n",
       "      <td>-0.66</td>\n",
       "      <td>-0.79</td>\n",
       "      <td>-0.77</td>\n",
       "      <td>-0.51</td>\n",
       "    </tr>\n",
       "    <tr>\n",
       "      <th>Borel</th>\n",
       "      <th></th>\n",
       "      <td>-0.10</td>\n",
       "      <td>0.75</td>\n",
       "      <td>-1.12</td>\n",
       "      <td>-1.28</td>\n",
       "      <td>-1.07</td>\n",
       "      <td>-0.56</td>\n",
       "    </tr>\n",
       "    <tr>\n",
       "      <th>Dubuisson</th>\n",
       "      <th>Pierre-Ulric</th>\n",
       "      <td>-0.37</td>\n",
       "      <td>-1.06</td>\n",
       "      <td>-0.17</td>\n",
       "      <td>-0.45</td>\n",
       "      <td>-0.80</td>\n",
       "      <td>-0.57</td>\n",
       "    </tr>\n",
       "    <tr>\n",
       "      <th>Reynier</th>\n",
       "      <th>L.</th>\n",
       "      <td>-0.37</td>\n",
       "      <td>0.09</td>\n",
       "      <td>-0.66</td>\n",
       "      <td>-1.01</td>\n",
       "      <td>-1.35</td>\n",
       "      <td>-0.66</td>\n",
       "    </tr>\n",
       "    <tr>\n",
       "      <th>Descazeaux Des Granges</th>\n",
       "      <th></th>\n",
       "      <td>-0.37</td>\n",
       "      <td>-0.08</td>\n",
       "      <td>-0.86</td>\n",
       "      <td>-1.10</td>\n",
       "      <td>-1.26</td>\n",
       "      <td>-0.73</td>\n",
       "    </tr>\n",
       "    <tr>\n",
       "      <th>La Noue</th>\n",
       "      <th>Jean-Baptiste</th>\n",
       "      <td>-0.64</td>\n",
       "      <td>0.09</td>\n",
       "      <td>-1.40</td>\n",
       "      <td>-1.17</td>\n",
       "      <td>-0.67</td>\n",
       "      <td>-0.76</td>\n",
       "    </tr>\n",
       "    <tr>\n",
       "      <th>Gresset</th>\n",
       "      <th>Jean-Baptiste</th>\n",
       "      <td>-0.64</td>\n",
       "      <td>0.66</td>\n",
       "      <td>-1.12</td>\n",
       "      <td>-2.11</td>\n",
       "      <td>-0.72</td>\n",
       "      <td>-0.79</td>\n",
       "    </tr>\n",
       "    <tr>\n",
       "      <th>Courtial</th>\n",
       "      <th></th>\n",
       "      <td>-0.91</td>\n",
       "      <td>-1.14</td>\n",
       "      <td>-0.31</td>\n",
       "      <td>-0.38</td>\n",
       "      <td>-1.54</td>\n",
       "      <td>-0.86</td>\n",
       "    </tr>\n",
       "    <tr>\n",
       "      <th>Imbert</th>\n",
       "      <th>Barthélemy</th>\n",
       "      <td>-0.64</td>\n",
       "      <td>1.24</td>\n",
       "      <td>-1.23</td>\n",
       "      <td>-1.70</td>\n",
       "      <td>-2.19</td>\n",
       "      <td>-0.90</td>\n",
       "    </tr>\n",
       "    <tr>\n",
       "      <th>Pieyre</th>\n",
       "      <th>Alexandre</th>\n",
       "      <td>-0.64</td>\n",
       "      <td>1.49</td>\n",
       "      <td>-1.26</td>\n",
       "      <td>-1.88</td>\n",
       "      <td>-2.33</td>\n",
       "      <td>-0.92</td>\n",
       "    </tr>\n",
       "    <tr>\n",
       "      <th>Vigée</th>\n",
       "      <th>Louis-Jean-Baptiste-Étienne</th>\n",
       "      <td>-0.37</td>\n",
       "      <td>-0.49</td>\n",
       "      <td>-0.77</td>\n",
       "      <td>-1.64</td>\n",
       "      <td>-1.39</td>\n",
       "      <td>-0.93</td>\n",
       "    </tr>\n",
       "    <tr>\n",
       "      <th>Delon</th>\n",
       "      <th></th>\n",
       "      <td>0.70</td>\n",
       "      <td>-0.16</td>\n",
       "      <td>-1.63</td>\n",
       "      <td>-2.27</td>\n",
       "      <td>-1.33</td>\n",
       "      <td>-0.94</td>\n",
       "    </tr>\n",
       "    <tr>\n",
       "      <th>Bret</th>\n",
       "      <th>Antoine</th>\n",
       "      <td>-1.18</td>\n",
       "      <td>0.09</td>\n",
       "      <td>-1.12</td>\n",
       "      <td>-1.50</td>\n",
       "      <td>-1.58</td>\n",
       "      <td>-1.06</td>\n",
       "    </tr>\n",
       "    <tr>\n",
       "      <th>Bastide</th>\n",
       "      <th>Jean-François de</th>\n",
       "      <td>-1.45</td>\n",
       "      <td>-0.49</td>\n",
       "      <td>-1.09</td>\n",
       "      <td>-1.44</td>\n",
       "      <td>-2.45</td>\n",
       "      <td>-1.38</td>\n",
       "    </tr>\n",
       "  </tbody>\n",
       "</table>\n",
       "</div>"
      ],
      "text/plain": [
       "                                                    num_present_characters  \\\n",
       "last_name              first_name                                            \n",
       "Chauveau                                                              2.32   \n",
       "Cubières-Palmézeaux    Michel de                                      3.39   \n",
       "Romagnesi              Jean-Antoine                                   0.17   \n",
       "Patrat                 Joseph                                         0.44   \n",
       "Laya                   Jean-Louis                                     0.17   \n",
       "Autreau                Jacques                                        0.97   \n",
       "Dampierre de la Salle                                                 0.17   \n",
       "Cailhava D'Estendoux   Jean-François                                  0.17   \n",
       "Palissot de Montenoy   Charles                                       -0.37   \n",
       "Chabanon               Michel Paul Guy de                             1.51   \n",
       "Lantier                Étienne François de                           -0.37   \n",
       "Ch***                                                                -0.64   \n",
       "Bièvre                 Marquis de                                    -0.10   \n",
       "Moissy                 Alexandre-Guillaume de                        -0.91   \n",
       "Dupuis                 Amable-Joseph                                  0.17   \n",
       "Barthe                 Nicolas-Thomas                                 0.17   \n",
       "Billard-Dumonceau      Edme                                          -1.18   \n",
       "de Neufchâteau         Nicolas François                              -0.64   \n",
       "Campistron             Jean Galbert de                               -0.64   \n",
       "de Rochefort           Guillaume Dubois                              -0.64   \n",
       "Fagan                  Barthélemy-Christophe                         -0.64   \n",
       "Montesson              Madame de                                      0.17   \n",
       "Rochon de Chabannes    Marc-Antoine-Jacques                          -0.91   \n",
       "Borel                                                                -0.10   \n",
       "Dubuisson              Pierre-Ulric                                  -0.37   \n",
       "Reynier                L.                                            -0.37   \n",
       "Descazeaux Des Granges                                               -0.37   \n",
       "La Noue                Jean-Baptiste                                 -0.64   \n",
       "Gresset                Jean-Baptiste                                 -0.64   \n",
       "Courtial                                                             -0.91   \n",
       "Imbert                 Barthélemy                                    -0.64   \n",
       "Pieyre                 Alexandre                                     -0.64   \n",
       "Vigée                  Louis-Jean-Baptiste-Étienne                   -0.37   \n",
       "Delon                                                                 0.70   \n",
       "Bret                   Antoine                                       -1.18   \n",
       "Bastide                Jean-François de                              -1.45   \n",
       "\n",
       "                                                    mobility_coefficient  \\\n",
       "last_name              first_name                                          \n",
       "Chauveau                                                            3.54   \n",
       "Cubières-Palmézeaux    Michel de                                    0.58   \n",
       "Romagnesi              Jean-Antoine                                 1.98   \n",
       "Patrat                 Joseph                                       1.73   \n",
       "Laya                   Jean-Louis                                  -1.31   \n",
       "Autreau                Jacques                                      0.99   \n",
       "Dampierre de la Salle                                              -0.73   \n",
       "Cailhava D'Estendoux   Jean-François                                0.42   \n",
       "Palissot de Montenoy   Charles                                     -0.16   \n",
       "Chabanon               Michel Paul Guy de                           0.66   \n",
       "Lantier                Étienne François de                          2.72   \n",
       "Ch***                                                              -1.39   \n",
       "Bièvre                 Marquis de                                  -0.40   \n",
       "Moissy                 Alexandre-Guillaume de                      -1.39   \n",
       "Dupuis                 Amable-Joseph                               -0.24   \n",
       "Barthe                 Nicolas-Thomas                               0.66   \n",
       "Billard-Dumonceau      Edme                                        -0.49   \n",
       "de Neufchâteau         Nicolas François                             2.06   \n",
       "Campistron             Jean Galbert de                             -0.82   \n",
       "de Rochefort           Guillaume Dubois                             0.58   \n",
       "Fagan                  Barthélemy-Christophe                        0.01   \n",
       "Montesson              Madame de                                   -0.16   \n",
       "Rochon de Chabannes    Marc-Antoine-Jacques                         0.58   \n",
       "Borel                                                               0.75   \n",
       "Dubuisson              Pierre-Ulric                                -1.06   \n",
       "Reynier                L.                                           0.09   \n",
       "Descazeaux Des Granges                                             -0.08   \n",
       "La Noue                Jean-Baptiste                                0.09   \n",
       "Gresset                Jean-Baptiste                                0.66   \n",
       "Courtial                                                           -1.14   \n",
       "Imbert                 Barthélemy                                   1.24   \n",
       "Pieyre                 Alexandre                                    1.49   \n",
       "Vigée                  Louis-Jean-Baptiste-Étienne                 -0.49   \n",
       "Delon                                                              -0.16   \n",
       "Bret                   Antoine                                      0.09   \n",
       "Bastide                Jean-François de                            -0.49   \n",
       "\n",
       "                                                    sigma_iarkho  polylogues  \\\n",
       "last_name              first_name                                              \n",
       "Chauveau                                                   -0.51       -1.30   \n",
       "Cubières-Palmézeaux    Michel de                           -0.26       -0.20   \n",
       "Romagnesi              Jean-Antoine                         0.14        0.15   \n",
       "Patrat                 Joseph                              -0.06        0.16   \n",
       "Laya                   Jean-Louis                           0.06        1.29   \n",
       "Autreau                Jacques                             -0.83       -0.70   \n",
       "Dampierre de la Salle                                      -0.34        0.93   \n",
       "Cailhava D'Estendoux   Jean-François                        0.06       -0.55   \n",
       "Palissot de Montenoy   Charles                             -0.29       -0.01   \n",
       "Chabanon               Michel Paul Guy de                  -0.43       -1.11   \n",
       "Lantier                Étienne François de                 -0.63       -0.99   \n",
       "Ch***                                                       0.57        0.39   \n",
       "Bièvre                 Marquis de                          -0.06       -0.36   \n",
       "Moissy                 Alexandre-Guillaume de               0.37        0.13   \n",
       "Dupuis                 Amable-Joseph                        0.17       -0.48   \n",
       "Barthe                 Nicolas-Thomas                      -0.03       -0.97   \n",
       "Billard-Dumonceau      Edme                                 0.20        0.27   \n",
       "de Neufchâteau         Nicolas François                    -1.00       -1.00   \n",
       "Campistron             Jean Galbert de                      0.32       -0.65   \n",
       "de Rochefort           Guillaume Dubois                    -0.86       -0.79   \n",
       "Fagan                  Barthélemy-Christophe                0.23       -0.80   \n",
       "Montesson              Madame de                           -0.89       -1.06   \n",
       "Rochon de Chabannes    Marc-Antoine-Jacques                -0.66       -0.79   \n",
       "Borel                                                      -1.12       -1.28   \n",
       "Dubuisson              Pierre-Ulric                        -0.17       -0.45   \n",
       "Reynier                L.                                  -0.66       -1.01   \n",
       "Descazeaux Des Granges                                     -0.86       -1.10   \n",
       "La Noue                Jean-Baptiste                       -1.40       -1.17   \n",
       "Gresset                Jean-Baptiste                       -1.12       -2.11   \n",
       "Courtial                                                   -0.31       -0.38   \n",
       "Imbert                 Barthélemy                          -1.23       -1.70   \n",
       "Pieyre                 Alexandre                           -1.26       -1.88   \n",
       "Vigée                  Louis-Jean-Baptiste-Étienne         -0.77       -1.64   \n",
       "Delon                                                      -1.63       -2.27   \n",
       "Bret                   Antoine                             -1.12       -1.50   \n",
       "Bastide                Jean-François de                    -1.09       -1.44   \n",
       "\n",
       "                                                    monologues  \\\n",
       "last_name              first_name                                \n",
       "Chauveau                                                 -0.75   \n",
       "Cubières-Palmézeaux    Michel de                         -0.37   \n",
       "Romagnesi              Jean-Antoine                       0.05   \n",
       "Patrat                 Joseph                            -0.52   \n",
       "Laya                   Jean-Louis                         0.67   \n",
       "Autreau                Jacques                            0.39   \n",
       "Dampierre de la Salle                                     0.35   \n",
       "Cailhava D'Estendoux   Jean-François                     -0.25   \n",
       "Palissot de Montenoy   Charles                            0.61   \n",
       "Chabanon               Michel Paul Guy de                -0.92   \n",
       "Lantier                Étienne François de               -1.10   \n",
       "Ch***                                                     0.63   \n",
       "Bièvre                 Marquis de                        -0.01   \n",
       "Moissy                 Alexandre-Guillaume de             0.63   \n",
       "Dupuis                 Amable-Joseph                     -0.91   \n",
       "Barthe                 Nicolas-Thomas                    -1.52   \n",
       "Billard-Dumonceau      Edme                              -0.59   \n",
       "de Neufchâteau         Nicolas François                  -1.30   \n",
       "Campistron             Jean Galbert de                   -0.28   \n",
       "de Rochefort           Guillaume Dubois                  -0.37   \n",
       "Fagan                  Barthélemy-Christophe             -0.96   \n",
       "Montesson              Madame de                         -0.36   \n",
       "Rochon de Chabannes    Marc-Antoine-Jacques              -0.77   \n",
       "Borel                                                    -1.07   \n",
       "Dubuisson              Pierre-Ulric                      -0.80   \n",
       "Reynier                L.                                -1.35   \n",
       "Descazeaux Des Granges                                   -1.26   \n",
       "La Noue                Jean-Baptiste                     -0.67   \n",
       "Gresset                Jean-Baptiste                     -0.72   \n",
       "Courtial                                                 -1.54   \n",
       "Imbert                 Barthélemy                        -2.19   \n",
       "Pieyre                 Alexandre                         -2.33   \n",
       "Vigée                  Louis-Jean-Baptiste-Étienne       -1.39   \n",
       "Delon                                                    -1.33   \n",
       "Bret                   Antoine                           -1.58   \n",
       "Bastide                Jean-François de                  -2.45   \n",
       "\n",
       "                                                    open_form_score  \n",
       "last_name              first_name                                    \n",
       "Chauveau                                                       0.66  \n",
       "Cubières-Palmézeaux    Michel de                               0.63  \n",
       "Romagnesi              Jean-Antoine                            0.50  \n",
       "Patrat                 Joseph                                  0.35  \n",
       "Laya                   Jean-Louis                              0.18  \n",
       "Autreau                Jacques                                 0.16  \n",
       "Dampierre de la Salle                                          0.08  \n",
       "Cailhava D'Estendoux   Jean-François                          -0.03  \n",
       "Palissot de Montenoy   Charles                                -0.04  \n",
       "Chabanon               Michel Paul Guy de                     -0.06  \n",
       "Lantier                Étienne François de                    -0.07  \n",
       "Ch***                                                         -0.09  \n",
       "Bièvre                 Marquis de                             -0.19  \n",
       "Moissy                 Alexandre-Guillaume de                 -0.23  \n",
       "Dupuis                 Amable-Joseph                          -0.26  \n",
       "Barthe                 Nicolas-Thomas                         -0.34  \n",
       "Billard-Dumonceau      Edme                                   -0.36  \n",
       "de Neufchâteau         Nicolas François                       -0.38  \n",
       "Campistron             Jean Galbert de                        -0.41  \n",
       "de Rochefort           Guillaume Dubois                       -0.42  \n",
       "Fagan                  Barthélemy-Christophe                  -0.43  \n",
       "Montesson              Madame de                              -0.46  \n",
       "Rochon de Chabannes    Marc-Antoine-Jacques                   -0.51  \n",
       "Borel                                                         -0.56  \n",
       "Dubuisson              Pierre-Ulric                           -0.57  \n",
       "Reynier                L.                                     -0.66  \n",
       "Descazeaux Des Granges                                        -0.73  \n",
       "La Noue                Jean-Baptiste                          -0.76  \n",
       "Gresset                Jean-Baptiste                          -0.79  \n",
       "Courtial                                                      -0.86  \n",
       "Imbert                 Barthélemy                             -0.90  \n",
       "Pieyre                 Alexandre                              -0.92  \n",
       "Vigée                  Louis-Jean-Baptiste-Étienne            -0.93  \n",
       "Delon                                                         -0.94  \n",
       "Bret                   Antoine                                -1.06  \n",
       "Bastide                Jean-François de                       -1.38  "
      ]
     },
     "execution_count": 57,
     "metadata": {},
     "output_type": "execute_result"
    }
   ],
   "source": [
    "sorted_only_one_play_period_two"
   ]
  },
  {
   "cell_type": "code",
   "execution_count": 58,
   "metadata": {},
   "outputs": [
    {
     "name": "stdout",
     "output_type": "stream",
     "text": [
      "The percentage of playwrigthts writing comedies with the open form: 19.44%\n"
     ]
    }
   ],
   "source": [
    "print('The percentage of playwrigthts writing comedies with the open form: {}%'.format( \n",
    "round((sorted_only_one_play_period_two[sorted_only_one_play_period_two.open_form_score >= 0].shape[0] /\n",
    "     sorted_only_one_play_period_two.shape[0]) * 100, 2)))"
   ]
  },
  {
   "cell_type": "code",
   "execution_count": 59,
   "metadata": {},
   "outputs": [
    {
     "name": "stdout",
     "output_type": "stream",
     "text": [
      "The percentage of playwrigthts writing comedies with the closed form: 80.56%\n"
     ]
    }
   ],
   "source": [
    "print('The percentage of playwrigthts writing comedies with the closed form: {}%'.format(\n",
    "round((sorted_only_one_play_period_two[sorted_only_one_play_period_two.open_form_score < 0].shape[0]/\n",
    "      sorted_only_one_play_period_two.shape[0]) * 100, 2)))"
   ]
  },
  {
   "cell_type": "markdown",
   "metadata": {},
   "source": [
    "## Period Three: Z-Scores and Open-Form Scores"
   ]
  },
  {
   "cell_type": "markdown",
   "metadata": {},
   "source": [
    "### Prolific"
   ]
  },
  {
   "cell_type": "code",
   "execution_count": 60,
   "metadata": {},
   "outputs": [],
   "source": [
    "sorted_above_one_play_period_three = sorted_above_one.loc[period_three.last_name.unique(), :]"
   ]
  },
  {
   "cell_type": "code",
   "execution_count": 61,
   "metadata": {},
   "outputs": [
    {
     "data": {
      "text/html": [
       "<div>\n",
       "<style scoped>\n",
       "    .dataframe tbody tr th:only-of-type {\n",
       "        vertical-align: middle;\n",
       "    }\n",
       "\n",
       "    .dataframe tbody tr th {\n",
       "        vertical-align: top;\n",
       "    }\n",
       "\n",
       "    .dataframe thead th {\n",
       "        text-align: right;\n",
       "    }\n",
       "</style>\n",
       "<table border=\"1\" class=\"dataframe\">\n",
       "  <thead>\n",
       "    <tr style=\"text-align: right;\">\n",
       "      <th></th>\n",
       "      <th></th>\n",
       "      <th>num_present_characters</th>\n",
       "      <th>mobility_coefficient</th>\n",
       "      <th>sigma_iarkho</th>\n",
       "      <th>polylogues</th>\n",
       "      <th>monologues</th>\n",
       "      <th>open_form_score</th>\n",
       "    </tr>\n",
       "    <tr>\n",
       "      <th>last_name</th>\n",
       "      <th>first_name</th>\n",
       "      <th></th>\n",
       "      <th></th>\n",
       "      <th></th>\n",
       "      <th></th>\n",
       "      <th></th>\n",
       "      <th></th>\n",
       "    </tr>\n",
       "  </thead>\n",
       "  <tbody>\n",
       "    <tr>\n",
       "      <th>Gosse</th>\n",
       "      <th>Étienne</th>\n",
       "      <td>2.05</td>\n",
       "      <td>2.27</td>\n",
       "      <td>1.35</td>\n",
       "      <td>-0.19</td>\n",
       "      <td>-0.35</td>\n",
       "      <td>1.03</td>\n",
       "    </tr>\n",
       "    <tr>\n",
       "      <th>Grille</th>\n",
       "      <th>François-Joseph</th>\n",
       "      <td>3.26</td>\n",
       "      <td>0.99</td>\n",
       "      <td>-0.20</td>\n",
       "      <td>0.19</td>\n",
       "      <td>0.40</td>\n",
       "      <td>0.93</td>\n",
       "    </tr>\n",
       "    <tr>\n",
       "      <th>Merville</th>\n",
       "      <th></th>\n",
       "      <td>0.30</td>\n",
       "      <td>0.42</td>\n",
       "      <td>0.80</td>\n",
       "      <td>1.72</td>\n",
       "      <td>0.50</td>\n",
       "      <td>0.75</td>\n",
       "    </tr>\n",
       "    <tr>\n",
       "      <th>Delavigne</th>\n",
       "      <th>Casimir</th>\n",
       "      <td>0.84</td>\n",
       "      <td>-0.12</td>\n",
       "      <td>1.26</td>\n",
       "      <td>0.02</td>\n",
       "      <td>-0.26</td>\n",
       "      <td>0.35</td>\n",
       "    </tr>\n",
       "    <tr>\n",
       "      <th>Epagny</th>\n",
       "      <th>Violet d'</th>\n",
       "      <td>-0.37</td>\n",
       "      <td>0.58</td>\n",
       "      <td>0.66</td>\n",
       "      <td>0.46</td>\n",
       "      <td>0.04</td>\n",
       "      <td>0.27</td>\n",
       "    </tr>\n",
       "    <tr>\n",
       "      <th>Picard</th>\n",
       "      <th>Louis-Benoît</th>\n",
       "      <td>0.23</td>\n",
       "      <td>0.85</td>\n",
       "      <td>-0.11</td>\n",
       "      <td>0.15</td>\n",
       "      <td>0.22</td>\n",
       "      <td>0.27</td>\n",
       "    </tr>\n",
       "    <tr>\n",
       "      <th>Étienne</th>\n",
       "      <th>Charles-Guillaume</th>\n",
       "      <td>-0.10</td>\n",
       "      <td>0.91</td>\n",
       "      <td>-0.49</td>\n",
       "      <td>0.43</td>\n",
       "      <td>0.56</td>\n",
       "      <td>0.26</td>\n",
       "    </tr>\n",
       "    <tr>\n",
       "      <th>Bonjour</th>\n",
       "      <th>Casimir</th>\n",
       "      <td>0.01</td>\n",
       "      <td>1.52</td>\n",
       "      <td>0.80</td>\n",
       "      <td>-0.16</td>\n",
       "      <td>-0.86</td>\n",
       "      <td>0.26</td>\n",
       "    </tr>\n",
       "    <tr>\n",
       "      <th>Théaulon</th>\n",
       "      <th>Emmanuel</th>\n",
       "      <td>-0.10</td>\n",
       "      <td>0.29</td>\n",
       "      <td>0.72</td>\n",
       "      <td>0.11</td>\n",
       "      <td>-0.18</td>\n",
       "      <td>0.17</td>\n",
       "    </tr>\n",
       "    <tr>\n",
       "      <th>Collin d’Harleville</th>\n",
       "      <th>Jean-François</th>\n",
       "      <td>-0.16</td>\n",
       "      <td>0.96</td>\n",
       "      <td>-0.20</td>\n",
       "      <td>0.16</td>\n",
       "      <td>0.07</td>\n",
       "      <td>0.17</td>\n",
       "    </tr>\n",
       "    <tr>\n",
       "      <th>Riboutté</th>\n",
       "      <th>François-Louis</th>\n",
       "      <td>-0.37</td>\n",
       "      <td>-0.27</td>\n",
       "      <td>0.95</td>\n",
       "      <td>0.49</td>\n",
       "      <td>-0.11</td>\n",
       "      <td>0.14</td>\n",
       "    </tr>\n",
       "    <tr>\n",
       "      <th>Rey</th>\n",
       "      <th>Charles</th>\n",
       "      <td>0.03</td>\n",
       "      <td>1.24</td>\n",
       "      <td>0.23</td>\n",
       "      <td>-0.59</td>\n",
       "      <td>-0.27</td>\n",
       "      <td>0.13</td>\n",
       "    </tr>\n",
       "    <tr>\n",
       "      <th>Andrieux</th>\n",
       "      <th>François</th>\n",
       "      <td>-0.10</td>\n",
       "      <td>0.13</td>\n",
       "      <td>0.80</td>\n",
       "      <td>-0.20</td>\n",
       "      <td>-0.07</td>\n",
       "      <td>0.11</td>\n",
       "    </tr>\n",
       "    <tr>\n",
       "      <th>Duval</th>\n",
       "      <th>Alexandre</th>\n",
       "      <td>-0.80</td>\n",
       "      <td>-0.12</td>\n",
       "      <td>-0.08</td>\n",
       "      <td>0.25</td>\n",
       "      <td>-0.29</td>\n",
       "      <td>-0.21</td>\n",
       "    </tr>\n",
       "    <tr>\n",
       "      <th>Fabre d'Églantine</th>\n",
       "      <th></th>\n",
       "      <td>-0.37</td>\n",
       "      <td>-0.03</td>\n",
       "      <td>-0.46</td>\n",
       "      <td>-0.90</td>\n",
       "      <td>-0.69</td>\n",
       "      <td>-0.49</td>\n",
       "    </tr>\n",
       "  </tbody>\n",
       "</table>\n",
       "</div>"
      ],
      "text/plain": [
       "                                       num_present_characters  \\\n",
       "last_name           first_name                                  \n",
       "Gosse               Étienne                              2.05   \n",
       "Grille              François-Joseph                      3.26   \n",
       "Merville                                                 0.30   \n",
       "Delavigne           Casimir                              0.84   \n",
       "Epagny              Violet d'                           -0.37   \n",
       "Picard              Louis-Benoît                         0.23   \n",
       "Étienne             Charles-Guillaume                   -0.10   \n",
       "Bonjour             Casimir                              0.01   \n",
       "Théaulon            Emmanuel                            -0.10   \n",
       "Collin d’Harleville Jean-François                       -0.16   \n",
       "Riboutté            François-Louis                      -0.37   \n",
       "Rey                 Charles                              0.03   \n",
       "Andrieux            François                            -0.10   \n",
       "Duval               Alexandre                           -0.80   \n",
       "Fabre d'Églantine                                       -0.37   \n",
       "\n",
       "                                       mobility_coefficient  sigma_iarkho  \\\n",
       "last_name           first_name                                              \n",
       "Gosse               Étienne                            2.27          1.35   \n",
       "Grille              François-Joseph                    0.99         -0.20   \n",
       "Merville                                               0.42          0.80   \n",
       "Delavigne           Casimir                           -0.12          1.26   \n",
       "Epagny              Violet d'                          0.58          0.66   \n",
       "Picard              Louis-Benoît                       0.85         -0.11   \n",
       "Étienne             Charles-Guillaume                  0.91         -0.49   \n",
       "Bonjour             Casimir                            1.52          0.80   \n",
       "Théaulon            Emmanuel                           0.29          0.72   \n",
       "Collin d’Harleville Jean-François                      0.96         -0.20   \n",
       "Riboutté            François-Louis                    -0.27          0.95   \n",
       "Rey                 Charles                            1.24          0.23   \n",
       "Andrieux            François                           0.13          0.80   \n",
       "Duval               Alexandre                         -0.12         -0.08   \n",
       "Fabre d'Églantine                                     -0.03         -0.46   \n",
       "\n",
       "                                       polylogues  monologues  open_form_score  \n",
       "last_name           first_name                                                  \n",
       "Gosse               Étienne                 -0.19       -0.35             1.03  \n",
       "Grille              François-Joseph          0.19        0.40             0.93  \n",
       "Merville                                     1.72        0.50             0.75  \n",
       "Delavigne           Casimir                  0.02       -0.26             0.35  \n",
       "Epagny              Violet d'                0.46        0.04             0.27  \n",
       "Picard              Louis-Benoît             0.15        0.22             0.27  \n",
       "Étienne             Charles-Guillaume        0.43        0.56             0.26  \n",
       "Bonjour             Casimir                 -0.16       -0.86             0.26  \n",
       "Théaulon            Emmanuel                 0.11       -0.18             0.17  \n",
       "Collin d’Harleville Jean-François            0.16        0.07             0.17  \n",
       "Riboutté            François-Louis           0.49       -0.11             0.14  \n",
       "Rey                 Charles                 -0.59       -0.27             0.13  \n",
       "Andrieux            François                -0.20       -0.07             0.11  \n",
       "Duval               Alexandre                0.25       -0.29            -0.21  \n",
       "Fabre d'Églantine                           -0.90       -0.69            -0.49  "
      ]
     },
     "execution_count": 61,
     "metadata": {},
     "output_type": "execute_result"
    }
   ],
   "source": [
    "sorted_above_one_play_period_three"
   ]
  },
  {
   "cell_type": "code",
   "execution_count": 62,
   "metadata": {},
   "outputs": [
    {
     "name": "stdout",
     "output_type": "stream",
     "text": [
      "The percentage of playwrigthts writing comedies with the open form: 86.67%\n"
     ]
    }
   ],
   "source": [
    "print('The percentage of playwrigthts writing comedies with the open form: {}%'.format( \n",
    "round((sorted_above_one_play_period_three[sorted_above_one_play_period_three.open_form_score >= 0].shape[0] /\n",
    "      sorted_above_one_play_period_three.shape[0]) * 100, 2)))"
   ]
  },
  {
   "cell_type": "code",
   "execution_count": 63,
   "metadata": {},
   "outputs": [
    {
     "name": "stdout",
     "output_type": "stream",
     "text": [
      "The percentage of playwrigthts writing comedies with the closed form: 13.33%\n"
     ]
    }
   ],
   "source": [
    "print('The percentage of playwrigthts writing comedies with the closed form: {}%'.format(\n",
    "round((sorted_above_one_play_period_three[sorted_above_one_play_period_three.open_form_score < 0].shape[0]/\n",
    "      sorted_above_one_play_period_three.shape[0]) * 100, 2)))"
   ]
  },
  {
   "cell_type": "markdown",
   "metadata": {},
   "source": [
    "### Less Prolific"
   ]
  },
  {
   "cell_type": "code",
   "execution_count": 64,
   "metadata": {},
   "outputs": [],
   "source": [
    "sorted_only_one_play_period_three = sorted_only_one.loc[period_three.last_name.unique(), :]"
   ]
  },
  {
   "cell_type": "code",
   "execution_count": 65,
   "metadata": {},
   "outputs": [
    {
     "data": {
      "text/html": [
       "<div>\n",
       "<style scoped>\n",
       "    .dataframe tbody tr th:only-of-type {\n",
       "        vertical-align: middle;\n",
       "    }\n",
       "\n",
       "    .dataframe tbody tr th {\n",
       "        vertical-align: top;\n",
       "    }\n",
       "\n",
       "    .dataframe thead th {\n",
       "        text-align: right;\n",
       "    }\n",
       "</style>\n",
       "<table border=\"1\" class=\"dataframe\">\n",
       "  <thead>\n",
       "    <tr style=\"text-align: right;\">\n",
       "      <th></th>\n",
       "      <th></th>\n",
       "      <th>num_present_characters</th>\n",
       "      <th>mobility_coefficient</th>\n",
       "      <th>sigma_iarkho</th>\n",
       "      <th>polylogues</th>\n",
       "      <th>monologues</th>\n",
       "      <th>open_form_score</th>\n",
       "    </tr>\n",
       "    <tr>\n",
       "      <th>last_name</th>\n",
       "      <th>first_name</th>\n",
       "      <th></th>\n",
       "      <th></th>\n",
       "      <th></th>\n",
       "      <th></th>\n",
       "      <th></th>\n",
       "      <th></th>\n",
       "    </tr>\n",
       "  </thead>\n",
       "  <tbody>\n",
       "    <tr>\n",
       "      <th>Girardin</th>\n",
       "      <th>Delphine de</th>\n",
       "      <td>3.93</td>\n",
       "      <td>0.09</td>\n",
       "      <td>2.58</td>\n",
       "      <td>-0.19</td>\n",
       "      <td>-0.67</td>\n",
       "      <td>1.15</td>\n",
       "    </tr>\n",
       "    <tr>\n",
       "      <th>Viennet</th>\n",
       "      <th>Jean-Pons-Guillaume</th>\n",
       "      <td>-0.10</td>\n",
       "      <td>1.40</td>\n",
       "      <td>1.83</td>\n",
       "      <td>0.97</td>\n",
       "      <td>0.35</td>\n",
       "      <td>0.89</td>\n",
       "    </tr>\n",
       "    <tr>\n",
       "      <th>Roux</th>\n",
       "      <th></th>\n",
       "      <td>0.44</td>\n",
       "      <td>0.01</td>\n",
       "      <td>1.12</td>\n",
       "      <td>1.87</td>\n",
       "      <td>0.44</td>\n",
       "      <td>0.78</td>\n",
       "    </tr>\n",
       "    <tr>\n",
       "      <th>Dalban</th>\n",
       "      <th>Pierre-Jean-Baptiste</th>\n",
       "      <td>0.44</td>\n",
       "      <td>0.42</td>\n",
       "      <td>1.00</td>\n",
       "      <td>0.51</td>\n",
       "      <td>0.59</td>\n",
       "      <td>0.59</td>\n",
       "    </tr>\n",
       "    <tr>\n",
       "      <th>Bernay</th>\n",
       "      <th>Camille</th>\n",
       "      <td>1.51</td>\n",
       "      <td>1.57</td>\n",
       "      <td>0.14</td>\n",
       "      <td>0.02</td>\n",
       "      <td>-0.43</td>\n",
       "      <td>0.56</td>\n",
       "    </tr>\n",
       "    <tr>\n",
       "      <th>de Planard</th>\n",
       "      <th>Eugène</th>\n",
       "      <td>0.70</td>\n",
       "      <td>0.42</td>\n",
       "      <td>0.40</td>\n",
       "      <td>0.51</td>\n",
       "      <td>0.59</td>\n",
       "      <td>0.52</td>\n",
       "    </tr>\n",
       "    <tr>\n",
       "      <th>Princeteau</th>\n",
       "      <th>Th.</th>\n",
       "      <td>0.44</td>\n",
       "      <td>-0.16</td>\n",
       "      <td>1.46</td>\n",
       "      <td>-0.18</td>\n",
       "      <td>-0.36</td>\n",
       "      <td>0.24</td>\n",
       "    </tr>\n",
       "    <tr>\n",
       "      <th>Poya</th>\n",
       "      <th>Pierre</th>\n",
       "      <td>0.97</td>\n",
       "      <td>-0.08</td>\n",
       "      <td>-0.17</td>\n",
       "      <td>-0.07</td>\n",
       "      <td>0.17</td>\n",
       "      <td>0.16</td>\n",
       "    </tr>\n",
       "    <tr>\n",
       "      <th>La Ville de Mirmon</th>\n",
       "      <th>Jean de</th>\n",
       "      <td>-0.37</td>\n",
       "      <td>0.09</td>\n",
       "      <td>0.29</td>\n",
       "      <td>0.46</td>\n",
       "      <td>0.24</td>\n",
       "      <td>0.14</td>\n",
       "    </tr>\n",
       "    <tr>\n",
       "      <th>Mery</th>\n",
       "      <th>Joseph</th>\n",
       "      <td>0.44</td>\n",
       "      <td>0.25</td>\n",
       "      <td>-0.08</td>\n",
       "      <td>-0.14</td>\n",
       "      <td>0.10</td>\n",
       "      <td>0.11</td>\n",
       "    </tr>\n",
       "    <tr>\n",
       "      <th>Charlemagne</th>\n",
       "      <th>Jean-Armand</th>\n",
       "      <td>-0.10</td>\n",
       "      <td>1.98</td>\n",
       "      <td>-0.20</td>\n",
       "      <td>-0.86</td>\n",
       "      <td>-0.41</td>\n",
       "      <td>0.08</td>\n",
       "    </tr>\n",
       "    <tr>\n",
       "      <th>Triquet</th>\n",
       "      <th>C</th>\n",
       "      <td>0.44</td>\n",
       "      <td>0.50</td>\n",
       "      <td>0.09</td>\n",
       "      <td>-0.30</td>\n",
       "      <td>-0.41</td>\n",
       "      <td>0.06</td>\n",
       "    </tr>\n",
       "    <tr>\n",
       "      <th>Drap-Arnaud</th>\n",
       "      <th></th>\n",
       "      <td>-0.10</td>\n",
       "      <td>1.24</td>\n",
       "      <td>-0.49</td>\n",
       "      <td>-0.30</td>\n",
       "      <td>-0.59</td>\n",
       "      <td>-0.05</td>\n",
       "    </tr>\n",
       "    <tr>\n",
       "      <th>Mennechet</th>\n",
       "      <th>Édouard</th>\n",
       "      <td>-0.37</td>\n",
       "      <td>0.34</td>\n",
       "      <td>-0.23</td>\n",
       "      <td>-0.35</td>\n",
       "      <td>0.35</td>\n",
       "      <td>-0.05</td>\n",
       "    </tr>\n",
       "    <tr>\n",
       "      <th>La Ville de Mirmont</th>\n",
       "      <th>Jean de</th>\n",
       "      <td>-0.37</td>\n",
       "      <td>0.75</td>\n",
       "      <td>-0.06</td>\n",
       "      <td>-0.44</td>\n",
       "      <td>-0.28</td>\n",
       "      <td>-0.08</td>\n",
       "    </tr>\n",
       "    <tr>\n",
       "      <th>Leroy</th>\n",
       "      <th>Onésime</th>\n",
       "      <td>-0.37</td>\n",
       "      <td>1.16</td>\n",
       "      <td>0.14</td>\n",
       "      <td>-0.65</td>\n",
       "      <td>-1.35</td>\n",
       "      <td>-0.21</td>\n",
       "    </tr>\n",
       "    <tr>\n",
       "      <th>Augier</th>\n",
       "      <th>Émile</th>\n",
       "      <td>-1.45</td>\n",
       "      <td>-0.32</td>\n",
       "      <td>-0.34</td>\n",
       "      <td>-0.06</td>\n",
       "      <td>0.80</td>\n",
       "      <td>-0.27</td>\n",
       "    </tr>\n",
       "    <tr>\n",
       "      <th>Dalban</th>\n",
       "      <th>Pierre Jean Baptiste</th>\n",
       "      <td>-0.64</td>\n",
       "      <td>0.09</td>\n",
       "      <td>-0.03</td>\n",
       "      <td>-0.03</td>\n",
       "      <td>-0.89</td>\n",
       "      <td>-0.30</td>\n",
       "    </tr>\n",
       "    <tr>\n",
       "      <th>Roucher</th>\n",
       "      <th>J.F.</th>\n",
       "      <td>-0.91</td>\n",
       "      <td>0.66</td>\n",
       "      <td>-0.17</td>\n",
       "      <td>-0.40</td>\n",
       "      <td>-1.32</td>\n",
       "      <td>-0.43</td>\n",
       "    </tr>\n",
       "    <tr>\n",
       "      <th>Michaud</th>\n",
       "      <th>L. G.</th>\n",
       "      <td>-0.10</td>\n",
       "      <td>-1.06</td>\n",
       "      <td>-1.09</td>\n",
       "      <td>-0.22</td>\n",
       "      <td>0.15</td>\n",
       "      <td>-0.46</td>\n",
       "    </tr>\n",
       "    <tr>\n",
       "      <th>Capuran</th>\n",
       "      <th>Louis-Benoit</th>\n",
       "      <td>-0.64</td>\n",
       "      <td>-0.49</td>\n",
       "      <td>-0.89</td>\n",
       "      <td>-0.68</td>\n",
       "      <td>-1.12</td>\n",
       "      <td>-0.76</td>\n",
       "    </tr>\n",
       "    <tr>\n",
       "      <th>Ancien militaire</th>\n",
       "      <th></th>\n",
       "      <td>-0.64</td>\n",
       "      <td>0.34</td>\n",
       "      <td>-0.51</td>\n",
       "      <td>-1.28</td>\n",
       "      <td>-1.80</td>\n",
       "      <td>-0.78</td>\n",
       "    </tr>\n",
       "  </tbody>\n",
       "</table>\n",
       "</div>"
      ],
      "text/plain": [
       "                                          num_present_characters  \\\n",
       "last_name           first_name                                     \n",
       "Girardin            Delphine de                             3.93   \n",
       "Viennet             Jean-Pons-Guillaume                    -0.10   \n",
       "Roux                                                        0.44   \n",
       "Dalban              Pierre-Jean-Baptiste                    0.44   \n",
       "Bernay              Camille                                 1.51   \n",
       "de Planard          Eugène                                  0.70   \n",
       "Princeteau          Th.                                     0.44   \n",
       "Poya                Pierre                                  0.97   \n",
       "La Ville de Mirmon  Jean de                                -0.37   \n",
       "Mery                Joseph                                  0.44   \n",
       "Charlemagne         Jean-Armand                            -0.10   \n",
       "Triquet             C                                       0.44   \n",
       "Drap-Arnaud                                                -0.10   \n",
       "Mennechet           Édouard                                -0.37   \n",
       "La Ville de Mirmont Jean de                                -0.37   \n",
       "Leroy               Onésime                                -0.37   \n",
       "Augier              Émile                                  -1.45   \n",
       "Dalban              Pierre Jean Baptiste                   -0.64   \n",
       "Roucher             J.F.                                   -0.91   \n",
       "Michaud             L. G.                                  -0.10   \n",
       "Capuran             Louis-Benoit                           -0.64   \n",
       "Ancien militaire                                           -0.64   \n",
       "\n",
       "                                          mobility_coefficient  sigma_iarkho  \\\n",
       "last_name           first_name                                                 \n",
       "Girardin            Delphine de                           0.09          2.58   \n",
       "Viennet             Jean-Pons-Guillaume                   1.40          1.83   \n",
       "Roux                                                      0.01          1.12   \n",
       "Dalban              Pierre-Jean-Baptiste                  0.42          1.00   \n",
       "Bernay              Camille                               1.57          0.14   \n",
       "de Planard          Eugène                                0.42          0.40   \n",
       "Princeteau          Th.                                  -0.16          1.46   \n",
       "Poya                Pierre                               -0.08         -0.17   \n",
       "La Ville de Mirmon  Jean de                               0.09          0.29   \n",
       "Mery                Joseph                                0.25         -0.08   \n",
       "Charlemagne         Jean-Armand                           1.98         -0.20   \n",
       "Triquet             C                                     0.50          0.09   \n",
       "Drap-Arnaud                                               1.24         -0.49   \n",
       "Mennechet           Édouard                               0.34         -0.23   \n",
       "La Ville de Mirmont Jean de                               0.75         -0.06   \n",
       "Leroy               Onésime                               1.16          0.14   \n",
       "Augier              Émile                                -0.32         -0.34   \n",
       "Dalban              Pierre Jean Baptiste                  0.09         -0.03   \n",
       "Roucher             J.F.                                  0.66         -0.17   \n",
       "Michaud             L. G.                                -1.06         -1.09   \n",
       "Capuran             Louis-Benoit                         -0.49         -0.89   \n",
       "Ancien militaire                                          0.34         -0.51   \n",
       "\n",
       "                                          polylogues  monologues  \\\n",
       "last_name           first_name                                     \n",
       "Girardin            Delphine de                -0.19       -0.67   \n",
       "Viennet             Jean-Pons-Guillaume         0.97        0.35   \n",
       "Roux                                            1.87        0.44   \n",
       "Dalban              Pierre-Jean-Baptiste        0.51        0.59   \n",
       "Bernay              Camille                     0.02       -0.43   \n",
       "de Planard          Eugène                      0.51        0.59   \n",
       "Princeteau          Th.                        -0.18       -0.36   \n",
       "Poya                Pierre                     -0.07        0.17   \n",
       "La Ville de Mirmon  Jean de                     0.46        0.24   \n",
       "Mery                Joseph                     -0.14        0.10   \n",
       "Charlemagne         Jean-Armand                -0.86       -0.41   \n",
       "Triquet             C                          -0.30       -0.41   \n",
       "Drap-Arnaud                                    -0.30       -0.59   \n",
       "Mennechet           Édouard                    -0.35        0.35   \n",
       "La Ville de Mirmont Jean de                    -0.44       -0.28   \n",
       "Leroy               Onésime                    -0.65       -1.35   \n",
       "Augier              Émile                      -0.06        0.80   \n",
       "Dalban              Pierre Jean Baptiste       -0.03       -0.89   \n",
       "Roucher             J.F.                       -0.40       -1.32   \n",
       "Michaud             L. G.                      -0.22        0.15   \n",
       "Capuran             Louis-Benoit               -0.68       -1.12   \n",
       "Ancien militaire                               -1.28       -1.80   \n",
       "\n",
       "                                          open_form_score  \n",
       "last_name           first_name                             \n",
       "Girardin            Delphine de                      1.15  \n",
       "Viennet             Jean-Pons-Guillaume              0.89  \n",
       "Roux                                                 0.78  \n",
       "Dalban              Pierre-Jean-Baptiste             0.59  \n",
       "Bernay              Camille                          0.56  \n",
       "de Planard          Eugène                           0.52  \n",
       "Princeteau          Th.                              0.24  \n",
       "Poya                Pierre                           0.16  \n",
       "La Ville de Mirmon  Jean de                          0.14  \n",
       "Mery                Joseph                           0.11  \n",
       "Charlemagne         Jean-Armand                      0.08  \n",
       "Triquet             C                                0.06  \n",
       "Drap-Arnaud                                         -0.05  \n",
       "Mennechet           Édouard                         -0.05  \n",
       "La Ville de Mirmont Jean de                         -0.08  \n",
       "Leroy               Onésime                         -0.21  \n",
       "Augier              Émile                           -0.27  \n",
       "Dalban              Pierre Jean Baptiste            -0.30  \n",
       "Roucher             J.F.                            -0.43  \n",
       "Michaud             L. G.                           -0.46  \n",
       "Capuran             Louis-Benoit                    -0.76  \n",
       "Ancien militaire                                    -0.78  "
      ]
     },
     "execution_count": 65,
     "metadata": {},
     "output_type": "execute_result"
    }
   ],
   "source": [
    "sorted_only_one_play_period_three"
   ]
  },
  {
   "cell_type": "code",
   "execution_count": 66,
   "metadata": {},
   "outputs": [
    {
     "name": "stdout",
     "output_type": "stream",
     "text": [
      "The percentage of playwrigthts writing comedies with the open form: 54.55%\n"
     ]
    }
   ],
   "source": [
    "print('The percentage of playwrigthts writing comedies with the open form: {}%'.format( \n",
    "round((sorted_only_one_play_period_three[sorted_only_one_play_period_three.open_form_score >= 0].shape[0] /\n",
    "     sorted_only_one_play_period_three.shape[0]) * 100, 2)))"
   ]
  },
  {
   "cell_type": "code",
   "execution_count": 67,
   "metadata": {},
   "outputs": [
    {
     "name": "stdout",
     "output_type": "stream",
     "text": [
      "The percentage of playwrigthts writing comedies with the closed form: 45.45%\n"
     ]
    }
   ],
   "source": [
    "print('The percentage of playwrigthts writing comedies with the closed form: {}%'.format(\n",
    "round((sorted_only_one_play_period_three[sorted_only_one_play_period_three.open_form_score < 0].shape[0]/\n",
    "      sorted_only_one_play_period_three.shape[0]) * 100, 2)))"
   ]
  },
  {
   "cell_type": "markdown",
   "metadata": {},
   "source": [
    "## Save The Data"
   ]
  },
  {
   "cell_type": "code",
   "execution_count": 68,
   "metadata": {},
   "outputs": [],
   "source": [
    "results_means = playwrights_place(no_co_authored, with_z_score=False).loc[results.index, :]\n",
    "results_means['open_form_score'] = results.open_form_score.tolist()"
   ]
  },
  {
   "cell_type": "markdown",
   "metadata": {},
   "source": [
    "### Raw Numbers and Open-Form Scores"
   ]
  },
  {
   "cell_type": "markdown",
   "metadata": {},
   "source": [
    "## [Link to raw numbers](https://github.com/innawendell/European_Comedy/blob/master/French_Comedies/Data/Authors_raw_numbers.csv)"
   ]
  },
  {
   "cell_type": "code",
   "execution_count": 69,
   "metadata": {},
   "outputs": [],
   "source": [
    "# save the raw numbers\n",
    "results_means.to_csv('../French_Comedies/Data/Authors_raw_numbers.csv')"
   ]
  },
  {
   "cell_type": "markdown",
   "metadata": {},
   "source": [
    "### Z-Scores and Open-Form Scores"
   ]
  },
  {
   "cell_type": "code",
   "execution_count": 70,
   "metadata": {},
   "outputs": [],
   "source": [
    "# save z-scores and open-form scores\n",
    "results.to_csv('../French_Comedies/Data/Authors_z_scores_open_form_scores.csv')"
   ]
  },
  {
   "cell_type": "markdown",
   "metadata": {},
   "source": [
    "## [Link to z-scores and open-form scores](https://github.com/innawendell/European_Comedy/blob/master/French_Comedies/Data/Authors_z_scores_open_form_scores.csv)"
   ]
  },
  {
   "cell_type": "markdown",
   "metadata": {},
   "source": [
    "## Part 3. The Evolution of Fabre d'Églantine (1750-1794) and Jean-François Collin d’Harleville (1755-1805)"
   ]
  },
  {
   "cell_type": "markdown",
   "metadata": {},
   "source": [
    "### Fabre d'Églantine"
   ]
  },
  {
   "cell_type": "code",
   "execution_count": 71,
   "metadata": {},
   "outputs": [
    {
     "name": "stdout",
     "output_type": "stream",
     "text": [
      "Number dramatic characters in period two: 9.33\n",
      "Number dramatic characters in period three: 12.0\n"
     ]
    }
   ],
   "source": [
    "print('Number dramatic characters in period two:',  \n",
    "      round(period_two[period_two.last_name=='Fabre d\\'Églantine']['num_present_characters'].mean(), 2))\n",
    "print('Number dramatic characters in period three:', \n",
    "      period_three[period_three.last_name=='Fabre d\\'Églantine']['num_present_characters'].mean())"
   ]
  },
  {
   "cell_type": "code",
   "execution_count": 72,
   "metadata": {},
   "outputs": [
    {
     "name": "stdout",
     "output_type": "stream",
     "text": [
      "Mobility coefficient in period two: 46.33\n",
      "Mobility coefficient in period three: 51.0\n"
     ]
    }
   ],
   "source": [
    "print('Mobility coefficient in period two:',\n",
    "      round(period_two[period_two.last_name=='Fabre d\\'Églantine']['mobility_coefficient'].mean(), 2))\n",
    "print('Mobility coefficient in period three:', \n",
    "      period_three[period_three.last_name=='Fabre d\\'Églantine']['mobility_coefficient'].mean())"
   ]
  },
  {
   "cell_type": "code",
   "execution_count": 73,
   "metadata": {},
   "outputs": [
    {
     "name": "stdout",
     "output_type": "stream",
     "text": [
      "Standard range of the number of speaking characters in period two: 1.04\n",
      "Standard range of the number of speaking characters in period three: 1.12\n"
     ]
    }
   ],
   "source": [
    "print('Standard range of the number of speaking characters in period two:', \n",
    "      period_two[period_two.last_name=='Fabre d\\'Églantine'].pipe(speech_distribution_by_period).pipe(sigma_iarkho))\n",
    "print('Standard range of the number of speaking characters in period three:',\n",
    "       period_three[period_three.last_name=='Fabre d\\'Églantine'].pipe(speech_distribution_by_period).pipe(sigma_iarkho))"
   ]
  },
  {
   "cell_type": "code",
   "execution_count": 74,
   "metadata": {},
   "outputs": [
    {
     "name": "stdout",
     "output_type": "stream",
     "text": [
      "The percentage of polylogues in period two: 24.71\n",
      "The percentage of polylogues in period three: 29.41\n"
     ]
    }
   ],
   "source": [
    "print('The percentage of polylogues in period two:', \n",
    "     round(period_two[period_two.last_name=='Fabre d\\'Églantine']['percentage_polylogues'].mean(), 2))\n",
    "print('The percentage of polylogues in period three:',\n",
    "     round(period_three[period_three.last_name=='Fabre d\\'Églantine']['percentage_polylogues'].mean(), 2))"
   ]
  },
  {
   "cell_type": "code",
   "execution_count": 75,
   "metadata": {},
   "outputs": [
    {
     "name": "stdout",
     "output_type": "stream",
     "text": [
      "The percentage of monologues in period two: 25.06\n",
      "The percentage of monologues in period three: 23.53\n"
     ]
    }
   ],
   "source": [
    "print('The percentage of monologues in period two:',\n",
    "     round(period_two[period_two.last_name=='Fabre d\\'Églantine']['percentage_monologues'].mean(), 2))\n",
    "print('The percentage of monologues in period three:',\n",
    "     round(period_three[period_three.last_name=='Fabre d\\'Églantine']['percentage_monologues'].mean(), 2))"
   ]
  },
  {
   "cell_type": "code",
   "execution_count": 76,
   "metadata": {},
   "outputs": [],
   "source": [
    "# read the data we saved when we compared French comedies and tragedies, also the scaker\n",
    "rescaled = pd.read_csv('../French_Comedies/Data/rescaled_combined_summary.csv')"
   ]
  },
  {
   "cell_type": "code",
   "execution_count": 77,
   "metadata": {},
   "outputs": [
    {
     "data": {
      "text/html": [
       "<div>\n",
       "<style scoped>\n",
       "    .dataframe tbody tr th:only-of-type {\n",
       "        vertical-align: middle;\n",
       "    }\n",
       "\n",
       "    .dataframe tbody tr th {\n",
       "        vertical-align: top;\n",
       "    }\n",
       "\n",
       "    .dataframe thead th {\n",
       "        text-align: right;\n",
       "    }\n",
       "</style>\n",
       "<table border=\"1\" class=\"dataframe\">\n",
       "  <thead>\n",
       "    <tr style=\"text-align: right;\">\n",
       "      <th></th>\n",
       "      <th>Unnamed: 0</th>\n",
       "      <th>num_present_characters</th>\n",
       "      <th>mobility_coefficient</th>\n",
       "      <th>standard_range</th>\n",
       "      <th>percentage_non_dialogues</th>\n",
       "      <th>percentage_polylogues</th>\n",
       "      <th>percentage_monologues</th>\n",
       "      <th>genre</th>\n",
       "    </tr>\n",
       "  </thead>\n",
       "  <tbody>\n",
       "    <tr>\n",
       "      <th>0</th>\n",
       "      <td>Period One</td>\n",
       "      <td>0.220263</td>\n",
       "      <td>-0.140434</td>\n",
       "      <td>0.561113</td>\n",
       "      <td>0.608516</td>\n",
       "      <td>1.203048</td>\n",
       "      <td>-0.930943</td>\n",
       "      <td>comedy</td>\n",
       "    </tr>\n",
       "    <tr>\n",
       "      <th>1</th>\n",
       "      <td>Period Two</td>\n",
       "      <td>-0.171192</td>\n",
       "      <td>0.586630</td>\n",
       "      <td>0.140278</td>\n",
       "      <td>0.375125</td>\n",
       "      <td>-0.057865</td>\n",
       "      <td>1.047264</td>\n",
       "      <td>comedy</td>\n",
       "    </tr>\n",
       "    <tr>\n",
       "      <th>2</th>\n",
       "      <td>Period Three</td>\n",
       "      <td>0.270450</td>\n",
       "      <td>1.032826</td>\n",
       "      <td>0.943690</td>\n",
       "      <td>0.788255</td>\n",
       "      <td>0.638723</td>\n",
       "      <td>0.662736</td>\n",
       "      <td>comedy</td>\n",
       "    </tr>\n",
       "    <tr>\n",
       "      <th>3</th>\n",
       "      <td>Period One</td>\n",
       "      <td>-0.954102</td>\n",
       "      <td>-1.297725</td>\n",
       "      <td>-1.810865</td>\n",
       "      <td>-2.057152</td>\n",
       "      <td>-1.674788</td>\n",
       "      <td>-1.726671</td>\n",
       "      <td>tragedy</td>\n",
       "    </tr>\n",
       "    <tr>\n",
       "      <th>4</th>\n",
       "      <td>Period Two</td>\n",
       "      <td>-1.221764</td>\n",
       "      <td>-1.288331</td>\n",
       "      <td>-0.777907</td>\n",
       "      <td>-0.402846</td>\n",
       "      <td>-0.870185</td>\n",
       "      <td>0.762758</td>\n",
       "      <td>tragedy</td>\n",
       "    </tr>\n",
       "    <tr>\n",
       "      <th>5</th>\n",
       "      <td>Period Three</td>\n",
       "      <td>1.856345</td>\n",
       "      <td>1.107035</td>\n",
       "      <td>0.943690</td>\n",
       "      <td>0.688102</td>\n",
       "      <td>0.761067</td>\n",
       "      <td>0.184855</td>\n",
       "      <td>tragedy</td>\n",
       "    </tr>\n",
       "  </tbody>\n",
       "</table>\n",
       "</div>"
      ],
      "text/plain": [
       "     Unnamed: 0  num_present_characters  mobility_coefficient  standard_range  \\\n",
       "0    Period One                0.220263             -0.140434        0.561113   \n",
       "1    Period Two               -0.171192              0.586630        0.140278   \n",
       "2  Period Three                0.270450              1.032826        0.943690   \n",
       "3    Period One               -0.954102             -1.297725       -1.810865   \n",
       "4    Period Two               -1.221764             -1.288331       -0.777907   \n",
       "5  Period Three                1.856345              1.107035        0.943690   \n",
       "\n",
       "   percentage_non_dialogues  percentage_polylogues  percentage_monologues  \\\n",
       "0                  0.608516               1.203048              -0.930943   \n",
       "1                  0.375125              -0.057865               1.047264   \n",
       "2                  0.788255               0.638723               0.662736   \n",
       "3                 -2.057152              -1.674788              -1.726671   \n",
       "4                 -0.402846              -0.870185               0.762758   \n",
       "5                  0.688102               0.761067               0.184855   \n",
       "\n",
       "     genre  \n",
       "0   comedy  \n",
       "1   comedy  \n",
       "2   comedy  \n",
       "3  tragedy  \n",
       "4  tragedy  \n",
       "5  tragedy  "
      ]
     },
     "execution_count": 77,
     "metadata": {},
     "output_type": "execute_result"
    }
   ],
   "source": [
    "rescaled"
   ]
  },
  {
   "cell_type": "code",
   "execution_count": 78,
   "metadata": {},
   "outputs": [
    {
     "data": {
      "text/plain": [
       "Index(['num_present_characters', 'mobility_coefficient', 'standard_range',\n",
       "       'percentage_non_dialogues', 'percentage_polylogues',\n",
       "       'percentage_monologues'],\n",
       "      dtype='object')"
      ]
     },
     "execution_count": 78,
     "metadata": {},
     "output_type": "execute_result"
    }
   ],
   "source": [
    "rescaled.columns[1:-1]"
   ]
  },
  {
   "cell_type": "code",
   "execution_count": 79,
   "metadata": {},
   "outputs": [],
   "source": [
    "rescaled = rescaled.rename(columns={'Unnamed: 0': 'period'})\n",
    "comedy = rescaled[rescaled.genre == 'comedy'].iloc[1:, 1:-1].copy()"
   ]
  },
  {
   "cell_type": "code",
   "execution_count": 80,
   "metadata": {},
   "outputs": [],
   "source": [
    "comedy.index = ['Period Two', 'Period Three']"
   ]
  },
  {
   "cell_type": "code",
   "execution_count": 81,
   "metadata": {},
   "outputs": [],
   "source": [
    "# load a pre-trained scaler for feature standardization\n",
    "scaler = joblib.load('../French_Comedies/Data/scaler_for_rescaled_summary.sav')"
   ]
  },
  {
   "cell_type": "code",
   "execution_count": 82,
   "metadata": {},
   "outputs": [],
   "source": [
    "def prepare_writer(time_perid_df_one, time_perid_df_two, last_name, standard_range_lst):\n",
    "    cols = ['num_present_characters', \n",
    "            'mobility_coefficient', \n",
    "            'percentage_non_dialogues', \n",
    "            'percentage_polylogues',\n",
    "            'percentage_monologues']\n",
    "    df_two = time_perid_df_one[time_perid_df_one.last_name==last_name][cols]\n",
    "    df_two = pd.DataFrame(df_two.mean()).T\n",
    "    df_three = time_perid_df_two[time_perid_df_two.last_name==last_name][cols]\n",
    "    df_three = pd.DataFrame(df_three.mean()).T\n",
    "    combined_df = pd.concat([df_two, df_three]).round(2)\n",
    "    combined_df.insert(2, 'standard_range', standard_range_lst)\n",
    "    combined_df = pd.DataFrame(scaler.transform(combined_df), \n",
    "                columns=combined_df.columns)\n",
    "    combined_df.index = ['Period Two', 'Period Three']\n",
    "    \n",
    "    return combined_df.round(2)"
   ]
  },
  {
   "cell_type": "code",
   "execution_count": 83,
   "metadata": {},
   "outputs": [],
   "source": [
    "fabre_df = prepare_writer(period_two, period_three, 'Fabre d\\'Églantine', [1.04, 1.12])"
   ]
  },
  {
   "cell_type": "code",
   "execution_count": 84,
   "metadata": {},
   "outputs": [
    {
     "data": {
      "image/png": "[encoded data removed]",
      "text/plain": [
       "<Figure size 936x504 with 1 Axes>"
      ]
     },
     "metadata": {
      "needs_background": "light"
     },
     "output_type": "display_data"
    }
   ],
   "source": [
    "plt.figure(figsize=(13, 7))\n",
    "plt.title('The Number of Dramatic Characters, Mobility Coefficient, and Standard Range in Comedy\\n'\\\n",
    "             'and Fabre d\\'Églantine\\'s Comedies of Periods Two and Three',\n",
    "         fontsize=15)\n",
    "plt.plot(comedy['num_present_characters'], \n",
    "         label='Number of Characters in Comedy', \n",
    "         color = '#b300b3', linestyle='solid')\n",
    "plt.plot(comedy['mobility_coefficient'], label='Mobility Coefficient in Comedy',\n",
    "         color = '#ff3300', linestyle='solid')\n",
    "plt.plot(comedy['standard_range'], label='Standard Range in Comedy',\n",
    "         color='#006600', linestyle='solid')\n",
    "\n",
    "\n",
    "plt.plot(fabre_df['num_present_characters'], \n",
    "         label='Number of Characters in d\\'Églantine', \n",
    "         color = '#b300b3', linestyle='dashed')\n",
    "plt.plot(fabre_df['mobility_coefficient'], label='Mobility Coefficient in d\\'Églantine',\n",
    "         color = '#ff3300', linestyle='dashed')\n",
    "plt.plot(fabre_df['standard_range'], label='Standard Range in d\\'Églantine',\n",
    "         color='#006600', linestyle='dashed')\n",
    "\n",
    "\n",
    "plt.xticks(fontsize=13)\n",
    "plt.ylabel('Rescaled Feature Value', fontsize=13)\n",
    "plt.legend()\n",
    "plt.show()"
   ]
  },
  {
   "cell_type": "code",
   "execution_count": 85,
   "metadata": {},
   "outputs": [
    {
     "data": {
      "image/png": "[encoded data removed]",
      "text/plain": [
       "<Figure size 936x504 with 1 Axes>"
      ]
     },
     "metadata": {
      "needs_background": "light"
     },
     "output_type": "display_data"
    }
   ],
   "source": [
    "plt.figure(figsize=(13, 7))\n",
    "plt.title('The Percentage of Polylogyes and Monologues in Comedy\\n'\\\n",
    "             'and Fabre d\\'Églantine\\'s Comedies of Periods Two and Three',\n",
    "         fontsize=15)\n",
    "plt.plot(comedy['percentage_polylogues'],\n",
    "         label='The Percentage of Polylogues in Comedy',\n",
    "         color = '#33cc00', linestyle='solid')\n",
    "plt.plot(comedy['percentage_monologues'], \n",
    "         label='The Percentage of Monologues in Comedy',\n",
    "         color='#ff9900', linestyle='solid')\n",
    "plt.plot(fabre_df['percentage_polylogues'],\n",
    "         label='The Percentage of Polylogues in d\\'Églantine',\n",
    "         color = '#33cc00', linestyle='dashed')\n",
    "plt.plot(fabre_df['percentage_monologues'], \n",
    "         label='The Percentage of Monologues in d\\'Églantine',\n",
    "         color='#ff9900', linestyle='dashed')\n",
    "\n",
    "plt.xticks(fontsize=13)\n",
    "plt.ylabel('Rescaled Feature Value', fontsize=13)\n",
    "plt.legend()\n",
    "plt.show()"
   ]
  },
  {
   "cell_type": "markdown",
   "metadata": {},
   "source": [
    "### Collin d’Harleville "
   ]
  },
  {
   "cell_type": "code",
   "execution_count": 86,
   "metadata": {},
   "outputs": [
    {
     "name": "stdout",
     "output_type": "stream",
     "text": [
      "Number dramatic characters in period two: 10.67\n",
      "Number dramatic characters in period three: 11.0\n"
     ]
    }
   ],
   "source": [
    "print('Number dramatic characters in period two:',  \n",
    "      round(period_two[period_two.last_name=='Collin d’Harleville']['num_present_characters'].mean(), 2))\n",
    "print('Number dramatic characters in period three:', \n",
    "      period_three[period_three.last_name=='Collin d’Harleville']['num_present_characters'].mean())"
   ]
  },
  {
   "cell_type": "code",
   "execution_count": 87,
   "metadata": {},
   "outputs": [
    {
     "name": "stdout",
     "output_type": "stream",
     "text": [
      "Mobility coefficient in period two: 60.33\n",
      "Mobility coefficient in period three: 58.5\n"
     ]
    }
   ],
   "source": [
    "print('Mobility coefficient in period two:',\n",
    "      round(period_two[period_two.last_name=='Collin d’Harleville']['mobility_coefficient'].mean(), 2))\n",
    "print('Mobility coefficient in period three:', \n",
    "      period_three[period_three.last_name=='Collin d’Harleville']['mobility_coefficient'].mean())"
   ]
  },
  {
   "cell_type": "code",
   "execution_count": 88,
   "metadata": {},
   "outputs": [
    {
     "name": "stdout",
     "output_type": "stream",
     "text": [
      "Standard range of the number of speaking characters in period two: 1.07\n",
      "Standard range of the number of speaking characters in period three: 1.24\n"
     ]
    }
   ],
   "source": [
    "print('Standard range of the number of speaking characters in period two:', \n",
    "      period_two[period_two.last_name=='Collin d’Harleville'].pipe(speech_distribution_by_period).pipe(sigma_iarkho))\n",
    "print('Standard range of the number of speaking characters in period three:',\n",
    "       period_three[period_three.last_name=='Collin d’Harleville'].pipe(speech_distribution_by_period).pipe(sigma_iarkho))"
   ]
  },
  {
   "cell_type": "code",
   "execution_count": 89,
   "metadata": {},
   "outputs": [
    {
     "name": "stdout",
     "output_type": "stream",
     "text": [
      "The percentage of polylogues in period two: 36.26\n",
      "The percentage of polylogues in period three: 43.22\n"
     ]
    }
   ],
   "source": [
    "print('The percentage of polylogues in period two:', \n",
    "     round(period_two[period_two.last_name=='Collin d’Harleville']['percentage_polylogues'].mean(), 2))\n",
    "print('The percentage of polylogues in period three:',\n",
    "     round(period_three[period_three.last_name=='Collin d’Harleville']['percentage_polylogues'].mean(), 2))"
   ]
  },
  {
   "cell_type": "code",
   "execution_count": 90,
   "metadata": {},
   "outputs": [
    {
     "name": "stdout",
     "output_type": "stream",
     "text": [
      "The percentage of monologues in period two: 18.99\n",
      "The percentage of monologues in period three: 16.18\n"
     ]
    }
   ],
   "source": [
    "print('The percentage of monologues in period two:',\n",
    "     round(period_two[period_two.last_name=='Collin d’Harleville']['percentage_monologues'].mean(), 2))\n",
    "print('The percentage of monologues in period three:',\n",
    "     round(period_three[period_three.last_name=='Collin d’Harleville']['percentage_monologues'].mean(), 2))"
   ]
  },
  {
   "cell_type": "code",
   "execution_count": 91,
   "metadata": {},
   "outputs": [],
   "source": [
    "harleville_df = prepare_writer(period_two, period_three, 'Collin d’Harleville', [1.07, 1.24])"
   ]
  },
  {
   "cell_type": "code",
   "execution_count": 92,
   "metadata": {},
   "outputs": [
    {
     "data": {
      "image/png": "[encoded data removed]",
      "text/plain": [
       "<Figure size 936x504 with 1 Axes>"
      ]
     },
     "metadata": {
      "needs_background": "light"
     },
     "output_type": "display_data"
    }
   ],
   "source": [
    "plt.figure(figsize=(13, 7))\n",
    "plt.title('The Number of Dramatic Characters, Mobility Coefficient, and Standard Range in Comedy\\n'\\\n",
    "             'and Collin d’Harleville\\'s Comedies of Periods Two and Three',\n",
    "         fontsize=15)\n",
    "plt.plot(comedy['num_present_characters'], \n",
    "         label='Number of Characters in Comedy', \n",
    "         color = '#b300b3', linestyle='solid')\n",
    "plt.plot(comedy['mobility_coefficient'], label='Mobility Coefficient in Comedy',\n",
    "         color = '#ff3300', linestyle='solid')\n",
    "plt.plot(comedy['standard_range'], label='Standard Range in Comedy',\n",
    "         color='#006600', linestyle='solid')\n",
    "\n",
    "\n",
    "plt.plot(harleville_df['num_present_characters'], \n",
    "         label='Number of Characters in d’Harleville', \n",
    "         color = '#b300b3', linestyle='dashed')\n",
    "plt.plot(harleville_df['mobility_coefficient'], label='Mobility Coefficient in d’Harleville',\n",
    "         color = '#ff3300', linestyle='dashed')\n",
    "plt.plot(harleville_df['standard_range'], label='Standard Range in d’Harleville',\n",
    "         color='#006600', linestyle='dashed')\n",
    "\n",
    "\n",
    "plt.xticks(fontsize=13)\n",
    "plt.ylabel('Rescaled Feature Value', fontsize=13)\n",
    "plt.legend()\n",
    "plt.show()"
   ]
  },
  {
   "cell_type": "code",
   "execution_count": 93,
   "metadata": {},
   "outputs": [
    {
     "data": {
      "image/png": "[encoded data removed]",
      "text/plain": [
       "<Figure size 936x504 with 1 Axes>"
      ]
     },
     "metadata": {
      "needs_background": "light"
     },
     "output_type": "display_data"
    }
   ],
   "source": [
    "plt.figure(figsize=(13, 7))\n",
    "plt.title('The Percentage of Polylogyes and Monologues in Comedy\\n'\\\n",
    "             'and Collin d’Harleville\\'s Comedies of Periods Two and Three',\n",
    "         fontsize=15)\n",
    "plt.plot(comedy['percentage_polylogues'],\n",
    "         label='The Percentage of Polylogues in Comedy',\n",
    "         color = '#33cc00', linestyle='solid')\n",
    "plt.plot(comedy['percentage_monologues'], \n",
    "         label='The Percentage of Monologues in Comedy',\n",
    "         color='#ff9900', linestyle='solid')\n",
    "plt.plot(harleville_df['percentage_polylogues'],\n",
    "         label='The Percentage of Polylogues in d’Harleville',\n",
    "         color = '#33cc00', linestyle='dashed')\n",
    "plt.plot(harleville_df['percentage_monologues'], \n",
    "         label='The Percentage of Monologues in d’Harleville',\n",
    "         color='#ff9900', linestyle='dashed')\n",
    "\n",
    "plt.xticks(fontsize=13)\n",
    "plt.ylabel('Rescaled Feature Value', fontsize=13)\n",
    "plt.legend()\n",
    "plt.show()"
   ]
  },
  {
   "cell_type": "markdown",
   "metadata": {},
   "source": [
    "Two playwrights,  Fabre d’Églantine and Jean-François Collin d’Harleville, produced comedies that spanned two periods -  two and three. Fabre d’Églantine was among the comedians who preferred closed forms (his open form score was -0.49), whereas Jean-François Collin d’Harleville wrote in a more open style (hist score was 0.17). What is fascinating is that their evolution reflected wider literary trends. From period two to period three, the number of dramatic characters increased from 10.64 to 11.96. The mean number of dramatic characters in Fabre d’Églantine's comedies increased from 9.33 in period two to 12 in period three, in Collin d’Harleville’s comedies - from 10.67 to 11. The standard range of the number of speaking characters rose from 1.12 in period two to 1.33 in period three. The standard range in Fabre d’Églantine's comedies progressed from 1.04 to 1.12,   in Collin d’Harleville’s comedies  - from 1.07 to 1.24.  The percentage of polylogues rose from 31.37 in period two to 37.69 in period three. The percentage of polylogues in Fabre d'Églantine's comedies increased from 24.71 to 29.41,  in Collin d’Harleville - from 36.26 to 43.22.  The percentage of monologues decreases from 22.08 in period two to 20.35 in period three. The percentage of monologues in Fabre d'Églantine's comedies decreased from 25.06 to 23,53, in Collin d’Harleville's comedies, it decreased from 18.99 to 16.18.  The mobility coefficient increased from 49.56 in period two to 54.31 in period three. Fabre d’Églantine's mobility coefficient increased from 46.33 in period two to 51 in period three. Collin d’Harleville's comedies, however, had a higher mobility coefficient in period two (60.33) than in period three (58.5), but in both cases, he was above the mean mobility coefficient of the period."
   ]
  },
  {
   "cell_type": "code",
   "execution_count": 94,
   "metadata": {},
   "outputs": [
    {
     "name": "stdout",
     "output_type": "stream",
     "text": [
      "Number of playwrigthts writing comedies with the open form: 61\n"
     ]
    }
   ],
   "source": [
    "print('Number of playwrigthts writing comedies with the open form:', \n",
    "results[results.open_form_score >=0].shape[0])"
   ]
  },
  {
   "cell_type": "code",
   "execution_count": 95,
   "metadata": {},
   "outputs": [
    {
     "name": "stdout",
     "output_type": "stream",
     "text": [
      "Number of playwrigthts writing comedies with the closed form: 60\n"
     ]
    }
   ],
   "source": [
    "print('Number of playwrigthts writing comedies with the closed form:', \n",
    "results[results.open_form_score  < 0].shape[0])"
   ]
  },
  {
   "cell_type": "markdown",
   "metadata": {},
   "source": [
    "## Conclusions:\n",
    "\n",
    "1. For each feature and each period, we identified the comedies that represent the maxim and the minimum as well as such comedies that are the closest to the mean.\n",
    "2. We discovered that there are at least nine comedies without monologues (all in period one).\n",
    "3. Three authors (Chalussay, Rousseau, and Gosse) wrote the comedies that represent the maximum for their period based on at least two features.\n",
    "4. Two authors (Pierre Corneille and Casimir Bonjour) wrote comedies that represent their period minimum based on at least two features.\n",
    "5. We calculated **\"open-form\" scores** that capture how experimental each playwright in the context of the entire history of the French five-act comedy in verse. The preference for open form comedies throughout three periods can be described by the following percentages: 71.28%, 53.33%, and 86.67% in the prolific group, and  54.55%, 19.44%, 54.55% in the less prolific group. There was a drop in the second period, however, it was more extreme in the less prolific group (19.44% vs. 53.33% in the prolific). Additionally, during the first and third periods, both groups preferred open form comedies, but the magnitude of this preference was higher in the prolific group (71.28% vs. 54.55%  in the less prolific group during period one, and especially large difference (86.67% vs. 54.55% vs. in the less prolific group during period three).\n",
    "6. We analyzed Fabre d'Églantine and Jean-François Collin d’Harleville's styles as they evolved over two periods and echoed wider literary trends. "
   ]
  }
 ],
 "metadata": {
  "kernelspec": {
   "display_name": "Python 3",
   "language": "python",
   "name": "python3"
  },
  "language_info": {
   "codemirror_mode": {
    "name": "ipython",
    "version": 3
   },
   "file_extension": ".py",
   "mimetype": "text/x-python",
   "name": "python",
   "nbconvert_exporter": "python",
   "pygments_lexer": "ipython3",
   "version": "3.7.6"
  }
 },
 "nbformat": 4,
 "nbformat_minor": 4
}
