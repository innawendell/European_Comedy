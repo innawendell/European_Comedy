{
 "cells": [
  {
   "cell_type": "markdown",
   "metadata": {},
   "source": [
    "## Comparison of the Russian Five-Act Comedies in Verse With Other Traditions"
   ]
  },
  {
   "cell_type": "markdown",
   "metadata": {},
   "source": [
    "In this analysis, we will compare the Russian five-act comedy in verse with the French five-act comedy in verse as well as Shakespeare and Goldoni's five-act comedies in verse. \n",
    "\n",
    "We will compare the mean values of each feature. For the French tradition, we will rely on the periodization that we introduced in our previous analyses. However, we will need to split Period Two into two to be able to compare the French tradition with the contemporaneous Russian tradition:\n",
    "- Period One: from 1629 to 1695\n",
    "- Period Two First Part: from 1696 to 1774\n",
    "- Period Two Second Part: from 1775 to 1795.\n",
    "- Period Three: from 1796 to 1849.\n",
    "\n",
    "For the Russian tradition, we were unable to distinguish periods that would have significanltly different distribution of the examined features. However, for comparison with the French tradition, we will assume \"tentative\" periods:\n",
    "- Tentative Period One: 1775 to 1795\n",
    "- Tentative Period Two: 1796 to 1849.\n",
    "\n",
    "For Shakespeare, we will use the mean values of the features for his entire corpus of the five-act comedies in verse. For Goldoni, we will use the mean values of the features for the stratified 30% random sample of his comedies. \n",
    "\n",
    "The sampling is described in this notebook: https://github.com/innawendell/European_Comedy/blob/master/Analyses/Goldoni_Sample.ipynb. \n",
    "\n",
    "We will compare Goldoni with the contemporaneous French comedies and Russian comedies of the tentative Period One and Two since there were no Russian comedies written during the time when Goldoni was active.\n",
    "\n",
    "1. The comparison will be based on the following features:\n",
    "    - The number of dramatic characters;\n",
    "    - The mobility coefficient;\n",
    "    - The standard range of the number of speaking characters (sigma);\n",
    "    - The percentage of non-dialogues;\n",
    "    - The percentage of polylogues;\n",
    "    - The percentage of monologues;\n",
    "    - The coefficient of unused dramatic characters;\n",
    "    - The percentage of discontinuous scenes;\n",
    "    - The speech distribution.\n",
    "2. Run a Principal Component Analysis to reduce the number of dimensions. Visualize and analyze the results.\n",
    "3. We will produce open-form scores for each tradition by decade. These open-form scores will allow us to compare different traditions in terms of being more or less experimental."
   ]
  },
  {
   "cell_type": "code",
   "execution_count": 1,
   "metadata": {},
   "outputs": [],
   "source": [
    "import pandas as pd\n",
    "import numpy as np\n",
    "import matplotlib.pyplot as plt\n",
    "%matplotlib inline\n",
    "import seaborn as sns\n",
    "from os import listdir\n",
    "import json\n",
    "import re\n",
    "from sklearn.preprocessing import StandardScaler\n",
    "from sklearn.decomposition import PCA\n",
    "import plotly.express as px"
   ]
  },
  {
   "cell_type": "code",
   "execution_count": 2,
   "metadata": {},
   "outputs": [],
   "source": [
    "# update the boundaries as we determined based on our hypothesis testing\n",
    "def determine_period(row):\n",
    "    if row <= 1695:\n",
    "        period = '1'\n",
    "    elif row >= 1696 and row <= 1774:\n",
    "        period = '2_a'\n",
    "    elif row >= 1775 and row <= 1795:\n",
    "        period = '2_b'\n",
    "    else:\n",
    "        period = '3'\n",
    "    \n",
    "    return period"
   ]
  },
  {
   "cell_type": "code",
   "execution_count": 3,
   "metadata": {},
   "outputs": [],
   "source": [
    "def make_list(row):\n",
    "    speech_dist = []\n",
    "    for value in row[1:-1].split('\\n '):\n",
    "        speech_dist.append([int(num) for num in re.findall('[0-9]+', value)])\n",
    "        \n",
    "    return speech_dist"
   ]
  },
  {
   "cell_type": "code",
   "execution_count": 4,
   "metadata": {},
   "outputs": [],
   "source": [
    "def speech_distribution_by_period(period_df):\n",
    "    all_distributions = []\n",
    "    for row in period_df['speech_distribution']:\n",
    "        speech_dist_df = pd.DataFrame(row).T\n",
    "        # rename columns to make sure they start with 1 and not 0\n",
    "        speech_dist_df.columns = speech_dist_df.iloc[0, :]\n",
    "        # no need to include the variants as a row - they will be column names\n",
    "        only_counts_df = pd.DataFrame(speech_dist_df.iloc[1, :])\n",
    "        only_counts_df.columns = ['raw_numbers']\n",
    "        only_counts_df['percentage'] = only_counts_df['raw_numbers'] / only_counts_df.sum().values[0]\n",
    "        all_distributions.append(round(only_counts_df['percentage'], 4))\n",
    "        \n",
    "    period_df_dist = pd.concat(all_distributions, axis=1).fillna(0)\n",
    "    # take the mean for each period\n",
    "    mean_per_type = pd.DataFrame(period_df_dist.mean(axis=1)).T \n",
    "    mean_per_type = (mean_per_type * 100).round(2)\n",
    "    mean_per_type.index = ['percentage_of_scenes']\n",
    "    mean_per_type.index.name = 'number_of_speakers'\n",
    "    \n",
    "    return mean_per_type"
   ]
  },
  {
   "cell_type": "code",
   "execution_count": 5,
   "metadata": {},
   "outputs": [],
   "source": [
    "def sigma_iarkho(variants, weights):\n",
    "    \"\"\"\n",
    "    The function allows calculating standard range following iarkho's procedure.\n",
    "    Parameters:\n",
    "        variants - a list with distinct variants in the ascending order, e.g. [1, 2, 3, 4, 5]\n",
    "        weights - a list of weights corresponding to these variants, e.g. [20, 32, 18, 9, 1]\n",
    "    Returns:\n",
    "        sigma - standard range per iarkho\n",
    "    \"\"\"\n",
    "    weighted_mean_variants = np.average(variants, weights=weights)\n",
    "    differences_squared = [(variant - weighted_mean_variants)**2 for variant in variants]\n",
    "    weighted_mean_difference = np.average(differences_squared, weights=weights)\n",
    "    sigma = weighted_mean_difference**0.5\n",
    "\n",
    "    return sigma"
   ]
  },
  {
   "cell_type": "code",
   "execution_count": 6,
   "metadata": {},
   "outputs": [],
   "source": [
    "def coefficient_unused_dramatic_characters(data):\n",
    "    total_present = 0\n",
    "    total_non_speakers = 0\n",
    "    for act in data['play_summary'].keys():\n",
    "        for scene in data['play_summary'][act].keys():\n",
    "            # identify the raw number of non-speaking dramatic characters\n",
    "            num_non_speakers = len([item for item in data['play_summary'][act][scene].items() \n",
    "                                if (item[1] == 0  or item[1] == 'non_speaking') and item[0] not in ['num_utterances',\n",
    "                                                                   'num_speakers',\n",
    "                                                                   'perc_non_speakers']])\n",
    "            total_non_speakers += num_non_speakers\n",
    "            # calculate the total number of dramatic characters\n",
    "            total_present += (data['play_summary'][act][scene]['num_speakers'] + num_non_speakers)\n",
    "    coefficient_unused = (total_non_speakers / total_present ) * 100        \n",
    "    \n",
    "    return coefficient_unused"
   ]
  },
  {
   "cell_type": "code",
   "execution_count": 7,
   "metadata": {},
   "outputs": [],
   "source": [
    "def get_data(input_directory):\n",
    "    all_files = [f for f in listdir(input_directory) if f.count('.json') > 0]\n",
    "    dfs = []\n",
    "    for file in all_files:\n",
    "        with open(input_directory + '/' + file) as json_file:\n",
    "            data = json.load(json_file)\n",
    "            not_used = coefficient_unused_dramatic_characters(data)\n",
    "            df = pd.DataFrame([not_used], columns=['coefficient_unused'], index=[file.replace('.json','')])\n",
    "            dfs.append(df)\n",
    "            \n",
    "    features_df = pd.concat(dfs, axis=0, sort=False).round(2)\n",
    "    \n",
    "    return features_df"
   ]
  },
  {
   "cell_type": "code",
   "execution_count": 8,
   "metadata": {},
   "outputs": [],
   "source": [
    "def plot_speech_distribution(speech_dist_df, title):\n",
    "    plt.figure(figsize=(10, 5))\n",
    "    plt.title(title, fontsize=14)\n",
    "    sns.barplot(x=speech_dist_df.columns.tolist(), \n",
    "                y=speech_dist_df.values.tolist()[0])\n",
    "    plt.xlabel('Number of Speakers', fontsize=12)\n",
    "    plt.ylabel('Percentage of Scenes', fontsize=12)\n",
    "\n",
    "    plt.show()"
   ]
  },
  {
   "cell_type": "code",
   "execution_count": 9,
   "metadata": {},
   "outputs": [],
   "source": [
    "def interval_data(data_df, feature, other_tradition_df=None):\n",
    "    if other_tradition_df is not None:\n",
    "        overall_mean = round(other_tradition_df[feature].mean(), 2)\n",
    "        overall_std = round(other_tradition_df[feature].std(), 2)\n",
    "    else:\n",
    "        overall_mean = round(data_df[feature].mean(), 2)\n",
    "        overall_std = round(data_df[feature].std(), 2)\n",
    "    \n",
    "    statistics = ['mean'] \n",
    "    all_data = pd.DataFrame(data_df.groupby(['decades'])[feature].mean())\n",
    "    all_data.columns= ['mean']\n",
    "    all_data['z_score'] = (all_data['mean'] - overall_mean) / overall_std\n",
    "    \n",
    "    return  all_data"
   ]
  },
  {
   "cell_type": "code",
   "execution_count": 10,
   "metadata": {},
   "outputs": [],
   "source": [
    "def scores_calculation(df, with_z_score=True, other_tradition_df=None):\n",
    "    if with_z_score:\n",
    "        column = 'z_score'\n",
    "        sigma_col = column\n",
    "    else:\n",
    "        column = ['mean']\n",
    "        sigma_col = 'sigma_iarkho'       \n",
    "    summary = pd.DataFrame(interval_data(df, 'num_present_characters', other_tradition_df)[column])\n",
    "    summary.columns = ['num_present_characters']\n",
    "    # make sure the order of the playwrights is the same\n",
    "    \n",
    "    ind = summary.index\n",
    "    summary['mobility_coefficient'] = interval_data(df, 'mobility_coefficient', \n",
    "                                                   other_tradition_df).loc[ind, column]\n",
    "    summary['sigma_iarkho'] = interval_data(df, 'sigma_iarkho', \n",
    "                                           other_tradition_df).loc[ind, column]\n",
    "    summary['polylogues'] = interval_data(df, 'percentage_polylogues', \n",
    "                                          other_tradition_df).loc[ind, column]\n",
    "    summary['monologues'] = interval_data(df, 'percentage_monologues', \n",
    "                                          other_tradition_df).loc[ind, column]\n",
    "    summary = summary.round(2)\n",
    "    if with_z_score:\n",
    "        summary['monologues'] = summary['monologues'].apply(lambda x: -x)\n",
    "        summary['open_form_score'] = round(summary.apply(lambda x: x.mean(), axis=1), 2)\n",
    "        summary = summary.sort_values(by='open_form_score', ascending=False)\n",
    "  \n",
    "    return summary"
   ]
  },
  {
   "cell_type": "code",
   "execution_count": 11,
   "metadata": {},
   "outputs": [],
   "source": [
    "def report(dictionary):\n",
    "    dictionary = dict(sorted(dictionary.items(), key=lambda item: np.abs(item[1])))\n",
    "    for item in dictionary.items():\n",
    "        print('\\t' + item[0] + ':', item[1])\n",
    "    print('\\n')       "
   ]
  },
  {
   "cell_type": "code",
   "execution_count": 12,
   "metadata": {},
   "outputs": [],
   "source": [
    "def decade(n):\n",
    "    return (n + (10 - n) % 10) - 10"
   ]
  },
  {
   "cell_type": "markdown",
   "metadata": {},
   "source": [
    "### Part 1. Comparison of The French and Russian Five-Act Comedy in Verse"
   ]
  },
  {
   "cell_type": "markdown",
   "metadata": {},
   "source": [
    "### Load and Process The French Data"
   ]
  },
  {
   "cell_type": "code",
   "execution_count": 13,
   "metadata": {},
   "outputs": [],
   "source": [
    "# read the data\n",
    "french_data = pd.read_csv('../French_Comedies/Data/French_Comedies_Data.csv')\n",
    "\n",
    "# include only five act comedies and only the comedies that are not translations/adaptations \n",
    "french_original_comedies = french_data[(french_data['num_acts'] ==5)&\n",
    "                               (french_data['translation/adaptation/contrastive'] == 0)].copy()\n",
    "\n",
    "# rename column names for clarity\n",
    "french_original_comedies = french_original_comedies.rename(columns={'num_scenes_iarkho': 'mobility_coefficient', \n",
    "                                                 'percentage_non_duologues': 'percentage_non_dialogues',\n",
    "                                                  'percentage_above_two_speakers': 'percentage_polylogues',\n",
    "                                                 'percentage_scenes_with_discontinuous_change_characters': 'discontinuous_scenes'})\n",
    "# read the sample data\n",
    "french_sample_df = pd.read_csv('../French_Comedies/Data/French_Comedies_Data_Sample.csv')\n",
    "\n",
    "\n",
    "# exclude the comedies used for the sample analysis\n",
    "not_sample = french_original_comedies[~french_original_comedies['index'].isin(french_sample_df['index'])].copy()\n",
    "\n",
    "# sort by date\n",
    "french_sorted_comedies = not_sample.sort_values(by='date')\n",
    "\n",
    "# identify decades\n",
    "french_sorted_comedies['decades'] = french_sorted_comedies['date'].apply(decade)"
   ]
  },
  {
   "cell_type": "code",
   "execution_count": 14,
   "metadata": {},
   "outputs": [],
   "source": [
    "features = ['num_present_characters',\n",
    "            'mobility_coefficient', \n",
    "            'standard_range', \n",
    "            'percentage_non_dialogues',\n",
    "            'percentage_polylogues',\n",
    "            'percentage_monologues',\n",
    "             'coefficient_unused',\n",
    "             'discontinuous_scenes']"
   ]
  },
  {
   "cell_type": "code",
   "execution_count": 15,
   "metadata": {},
   "outputs": [],
   "source": [
    "# calculate the coefficient of non-used dramatic characters\n",
    "unused_coefficient = get_data('../French_Comedies/Play_Jsons/')\n",
    "unused_coefficient['index'] = unused_coefficient.index.tolist()\n",
    "french_sorted_comedies = french_sorted_comedies.merge(unused_coefficient, on='index')"
   ]
  },
  {
   "cell_type": "code",
   "execution_count": 16,
   "metadata": {},
   "outputs": [],
   "source": [
    "french_sorted_comedies['period'] = french_sorted_comedies.date.apply(determine_period)"
   ]
  },
  {
   "cell_type": "markdown",
   "metadata": {},
   "source": [
    "#### Exploration of The Scenes with No Speakers "
   ]
  },
  {
   "cell_type": "markdown",
   "metadata": {},
   "source": [
    "Upon close examination of our data, we discovered that some comedies had scenes with no speakers. We decided to investigate this issue. \n",
    "\n",
    "Scenes with no Speakers in Period One:\n",
    "- N.Gillet de la Tessonnerie's *Le Campagnard* (1657) has a scene with no speakers (act 5 scene 1)\n",
    "- Marcel's *Le Mariage sans mariage* (1671) has two errors in the markup (act 5 scene 3.1 extra - Gusman is speaking, marked as non-speaking; in act 5 scene 6.1 extra is an erroneously distinguished scene with no speaking characters).\n",
    "- Noël Lebreton, sieur de Hauteroche's *Crispin musicien* (1674) has a scene with no speaking characters (act 1 scene 11).\n",
    "\n",
    "Scenes With No Speakers in Period Two (first part):\n",
    "- Bouy and Fétiq's comedy *La Famille ridicule, comédie messine* (1720) has an error in the markup (act 4 scene 9, Ourselle is speaking).\n",
    "\n",
    "Scenes With No Speakers in Period Two (second part):\n",
    "- Marc-Antoine-Jacques Rochon de Chabannes's *Le Jaloux* (1784) act 5 scene 5 has no speakers.\n",
    "\n",
    "Scenes With No Speakers in Period Three:\n",
    "- Ancien militaire's *L'Ami de cour* (1801) has an error in the markup (in act 3 scene 9 Floriman is speaking).\n",
    "- Th. Princeteau's *Constance ou l'indifférence vaincue* (1824) has an error in the markup (in act 1 has an incorrectly identified scene 5.1 extra with no speakers).\n",
    "\n",
    "This brief investigation showed that there were three comedies, N.Gillet de la Tessonnerie's *Le Campagnard* (1657), Noël Lebreton, sieur de Hauteroche's *Crispin musicien* (1674), Marc-Antoine-Jacques Rochon de Chabannes's *Le Jaloux* (1784), that indeed had scenes no speaking dramatic characters. Other comedies, Marcel's *Le Mariage sans mariage* (1671), Bouy and Fétiq's comedy *La Famille ridicule, comédie messine* (1720), Ancien militaire's *L'Ami de cour* (1801), and Th. Princeteau's *Constance ou l'indifférence vaincue* (1824) have errors in the markup. We addressed this issue by correcting the speech distribution in these comedies."
   ]
  },
  {
   "cell_type": "code",
   "execution_count": 17,
   "metadata": {},
   "outputs": [],
   "source": [
    "# correct speech distribution where we identified errors in the markup\n",
    "french_sorted_comedies.loc[64, 'speech_distribution'] = '[[1, 8], [2, 14], [3, 10], [4, 1], [5, 1], [6, 2]]'\n",
    "french_sorted_comedies.loc[97, 'speech_distribution'] = '[[1, 9], [2, 33], [3, 6], [4, 2]])'\n",
    "french_sorted_comedies.loc[178, 'speech_distribution'] = '[[1, 19], [2, 22], [3, 5], [4, 5], [5, 1]]'\n",
    "french_sorted_comedies.loc[208, 'speech_distribution'] = '[[1, 10], [2, 19], [3, 7], [4, 4], [5, 2], [7, 1], [8, 2]]'\n",
    "\n",
    "french_sorted_comedies['speech_distribution'] = french_sorted_comedies['speech_distribution'].apply(make_list)"
   ]
  },
  {
   "cell_type": "code",
   "execution_count": 18,
   "metadata": {},
   "outputs": [],
   "source": [
    "french_feature_one = french_sorted_comedies.groupby('period').describe().loc[:, 'num_present_characters'][['mean']]\n",
    "french_feature_two = french_sorted_comedies.groupby('period').describe().loc[:, 'mobility_coefficient'][['mean']]\n",
    "french_feature_three = french_sorted_comedies.groupby('period').describe().loc[:, 'sigma_iarkho'][['mean']]\n",
    "french_feature_four = french_sorted_comedies.groupby('period').describe().loc[:, 'percentage_non_dialogues'][['mean']]\n",
    "french_feature_five = french_sorted_comedies.groupby('period').describe().loc[:, 'percentage_polylogues'][['mean']]\n",
    "french_feature_six = french_sorted_comedies.groupby('period').describe().loc[:, 'percentage_monologues'][['mean']]\n",
    "french_feature_seven = french_sorted_comedies.groupby('period').describe().loc[:, 'coefficient_unused'][['mean']]\n",
    "french_feature_eight = french_sorted_comedies.groupby('period').describe().loc[:, 'discontinuous_scenes'][['mean']]\n",
    "\n",
    "french_summary_comedies = pd.concat([french_feature_one, \n",
    "                              french_feature_two, \n",
    "                              french_feature_three, \n",
    "                              french_feature_four, \n",
    "                              french_feature_five, \n",
    "                              french_feature_six,\n",
    "                              french_feature_seven,\n",
    "                              french_feature_eight], axis=1)\n",
    "french_summary_comedies.columns = features\n",
    "french_summary_comedies = french_summary_comedies.T\n",
    "french_summary_comedies.columns = ['Period One: 1629 to 1695', \n",
    "                                   'Period Two First Part: 1696 to 1774',\n",
    "                                   'Period Two Second Part: 1775 to 1795',\n",
    "                                   'Period Three: 1796 to 1849'\n",
    "                                  ]\n",
    "french_summary_comedies = french_summary_comedies.round(2)"
   ]
  },
  {
   "cell_type": "code",
   "execution_count": 19,
   "metadata": {},
   "outputs": [],
   "source": [
    "french_period_one = french_sorted_comedies[french_sorted_comedies.period == '1'].copy()\n",
    "french_period_two_first_part = french_sorted_comedies[french_sorted_comedies.period == '2_a'].copy()\n",
    "french_period_two_second_part = french_sorted_comedies[french_sorted_comedies.period == '2_b'].copy()\n",
    "french_period_three = french_sorted_comedies[french_sorted_comedies.period == '3'].copy()"
   ]
  },
  {
   "cell_type": "markdown",
   "metadata": {},
   "source": [
    "### Load and Process Russian Data"
   ]
  },
  {
   "cell_type": "code",
   "execution_count": 20,
   "metadata": {},
   "outputs": [],
   "source": [
    "# updated boundaries\n",
    "def determine_period_russian(row):\n",
    "    if row <= 1795:\n",
    "        period = 1\n",
    "    else:\n",
    "        period = 2\n",
    "    \n",
    "    return period"
   ]
  },
  {
   "cell_type": "code",
   "execution_count": 21,
   "metadata": {},
   "outputs": [],
   "source": [
    "russian_comedies = pd.read_csv('../Russian_Comedies/Data/Comedies_Raw_Data.csv')\n",
    "# sort by creation date\n",
    "russian_comedies_sorted = russian_comedies.sort_values(by='creation_date').copy()\n",
    "\n",
    "# select only original comedies and five act\n",
    "russian_original_comedies = russian_comedies_sorted[(russian_comedies_sorted['translation/adaptation'] == 0) & \n",
    "                                   (russian_comedies_sorted['num_acts'] == 5)].copy()\n",
    "# calculate the coefficient of non-used dramatic characters\n",
    "unused_coefficient = get_data('../Russian_Comedies/Play_Jsons/')\n",
    "unused_coefficient['index'] = unused_coefficient.index.tolist()\n",
    "russian_comedies_df = russian_original_comedies.merge(unused_coefficient, on='index')"
   ]
  },
  {
   "cell_type": "code",
   "execution_count": 22,
   "metadata": {},
   "outputs": [],
   "source": [
    "russian_comedies_df['period'] = russian_comedies_df['creation_date'].apply(determine_period_russian)\n",
    "russian_comedies_df['speech_distribution'] = russian_comedies_df['speech_distribution'].apply(make_list)\n",
    "# rename column names for clarity\n",
    "russian_comedies_df = russian_comedies_df.rename(columns={'num_scenes_iarkho': 'mobility_coefficient', \n",
    "                                                 'percentage_non_duologues': 'percentage_non_dialogues',\n",
    "                                                 'percentage_above_two_speakers': 'percentage_polylogues',\n",
    "                                                 'percentage_scenes_with_discontinuous_change_characters': 'discontinuous_scenes',\n",
    "                                                 'sigma_iarkho': 'standard_range'})\n",
    "russian_comedies_df['decades'] = russian_comedies_df.creation_date.apply(decade)"
   ]
  },
  {
   "cell_type": "code",
   "execution_count": 23,
   "metadata": {},
   "outputs": [],
   "source": [
    "russian_period_one = russian_comedies_df[russian_comedies_df.period == 1].copy()\n",
    "russian_period_two = russian_comedies_df[russian_comedies_df.period == 2].copy()"
   ]
  },
  {
   "cell_type": "code",
   "execution_count": 24,
   "metadata": {},
   "outputs": [],
   "source": [
    "russian_feature_one = russian_comedies_df.groupby('period').describe().loc[:, 'num_present_characters'][['mean']]\n",
    "russian_feature_two = russian_comedies_df.groupby('period').describe().loc[:, 'mobility_coefficient'][['mean']]\n",
    "russian_feature_three = russian_comedies_df.groupby('period').describe().loc[:, 'standard_range'][['mean']]\n",
    "russian_feature_four = russian_comedies_df.groupby('period').describe().loc[:, 'percentage_non_dialogues'][['mean']]\n",
    "russian_feature_five = russian_comedies_df.groupby('period').describe().loc[:, 'percentage_polylogues'][['mean']]\n",
    "russian_feature_six = russian_comedies_df.groupby('period').describe().loc[:, 'percentage_monologues'][['mean']]\n",
    "russian_feature_seven = russian_comedies_df.groupby('period').describe().loc[:, 'coefficient_unused'][['mean']]\n",
    "russian_feature_eight = russian_comedies_df.groupby('period').describe().loc[:, 'discontinuous_scenes'][['mean']]\n",
    "\n",
    "russian_summary_comedies = pd.concat([russian_feature_one, \n",
    "                              russian_feature_two, \n",
    "                              russian_feature_three, \n",
    "                              russian_feature_four, \n",
    "                              russian_feature_five, \n",
    "                              russian_feature_six,\n",
    "                              russian_feature_seven,\n",
    "                              russian_feature_eight], axis=1)\n",
    "russian_summary_comedies.columns = features\n",
    "russian_summary_comedies = russian_summary_comedies.T\n",
    "russian_summary_comedies.columns = ['tentative Period One: 1775 to 1795', \n",
    "                                    'tentative Period Two: 1796 to 1849']\n",
    "russian_summary_comedies = russian_summary_comedies.round(2)"
   ]
  },
  {
   "cell_type": "markdown",
   "metadata": {},
   "source": [
    "### French Comedies Five-Act Comedies in Verse"
   ]
  },
  {
   "cell_type": "code",
   "execution_count": 25,
   "metadata": {},
   "outputs": [
    {
     "data": {
      "text/html": [
       "<div>\n",
       "<style scoped>\n",
       "    .dataframe tbody tr th:only-of-type {\n",
       "        vertical-align: middle;\n",
       "    }\n",
       "\n",
       "    .dataframe tbody tr th {\n",
       "        vertical-align: top;\n",
       "    }\n",
       "\n",
       "    .dataframe thead th {\n",
       "        text-align: right;\n",
       "    }\n",
       "</style>\n",
       "<table border=\"1\" class=\"dataframe\">\n",
       "  <thead>\n",
       "    <tr style=\"text-align: right;\">\n",
       "      <th></th>\n",
       "      <th>Period Two Second Part: 1775 to 1795</th>\n",
       "      <th>Period Three: 1796 to 1849</th>\n",
       "    </tr>\n",
       "  </thead>\n",
       "  <tbody>\n",
       "    <tr>\n",
       "      <th>num_present_characters</th>\n",
       "      <td>11.27</td>\n",
       "      <td>11.96</td>\n",
       "    </tr>\n",
       "    <tr>\n",
       "      <th>mobility_coefficient</th>\n",
       "      <td>51.79</td>\n",
       "      <td>54.31</td>\n",
       "    </tr>\n",
       "    <tr>\n",
       "      <th>standard_range</th>\n",
       "      <td>1.14</td>\n",
       "      <td>1.33</td>\n",
       "    </tr>\n",
       "    <tr>\n",
       "      <th>percentage_non_dialogues</th>\n",
       "      <td>53.73</td>\n",
       "      <td>58.12</td>\n",
       "    </tr>\n",
       "    <tr>\n",
       "      <th>percentage_polylogues</th>\n",
       "      <td>29.80</td>\n",
       "      <td>37.69</td>\n",
       "    </tr>\n",
       "    <tr>\n",
       "      <th>percentage_monologues</th>\n",
       "      <td>23.87</td>\n",
       "      <td>20.35</td>\n",
       "    </tr>\n",
       "    <tr>\n",
       "      <th>coefficient_unused</th>\n",
       "      <td>14.01</td>\n",
       "      <td>13.74</td>\n",
       "    </tr>\n",
       "    <tr>\n",
       "      <th>discontinuous_scenes</th>\n",
       "      <td>7.55</td>\n",
       "      <td>5.83</td>\n",
       "    </tr>\n",
       "  </tbody>\n",
       "</table>\n",
       "</div>"
      ],
      "text/plain": [
       "                          Period Two Second Part: 1775 to 1795  \\\n",
       "num_present_characters                                   11.27   \n",
       "mobility_coefficient                                     51.79   \n",
       "standard_range                                            1.14   \n",
       "percentage_non_dialogues                                 53.73   \n",
       "percentage_polylogues                                    29.80   \n",
       "percentage_monologues                                    23.87   \n",
       "coefficient_unused                                       14.01   \n",
       "discontinuous_scenes                                      7.55   \n",
       "\n",
       "                          Period Three: 1796 to 1849  \n",
       "num_present_characters                         11.96  \n",
       "mobility_coefficient                           54.31  \n",
       "standard_range                                  1.33  \n",
       "percentage_non_dialogues                       58.12  \n",
       "percentage_polylogues                          37.69  \n",
       "percentage_monologues                          20.35  \n",
       "coefficient_unused                             13.74  \n",
       "discontinuous_scenes                            5.83  "
      ]
     },
     "execution_count": 25,
     "metadata": {},
     "output_type": "execute_result"
    }
   ],
   "source": [
    "french_summary_comedies.iloc[:, 2:]"
   ]
  },
  {
   "cell_type": "markdown",
   "metadata": {},
   "source": [
    "### Russian Comedies Five-Act Comedies in Verse"
   ]
  },
  {
   "cell_type": "code",
   "execution_count": 26,
   "metadata": {},
   "outputs": [
    {
     "data": {
      "text/html": [
       "<div>\n",
       "<style scoped>\n",
       "    .dataframe tbody tr th:only-of-type {\n",
       "        vertical-align: middle;\n",
       "    }\n",
       "\n",
       "    .dataframe tbody tr th {\n",
       "        vertical-align: top;\n",
       "    }\n",
       "\n",
       "    .dataframe thead th {\n",
       "        text-align: right;\n",
       "    }\n",
       "</style>\n",
       "<table border=\"1\" class=\"dataframe\">\n",
       "  <thead>\n",
       "    <tr style=\"text-align: right;\">\n",
       "      <th></th>\n",
       "      <th>tentative Period One: 1775 to 1795</th>\n",
       "      <th>tentative Period Two: 1796 to 1849</th>\n",
       "    </tr>\n",
       "  </thead>\n",
       "  <tbody>\n",
       "    <tr>\n",
       "      <th>num_present_characters</th>\n",
       "      <td>11.50</td>\n",
       "      <td>14.70</td>\n",
       "    </tr>\n",
       "    <tr>\n",
       "      <th>mobility_coefficient</th>\n",
       "      <td>53.17</td>\n",
       "      <td>61.60</td>\n",
       "    </tr>\n",
       "    <tr>\n",
       "      <th>standard_range</th>\n",
       "      <td>1.48</td>\n",
       "      <td>1.54</td>\n",
       "    </tr>\n",
       "    <tr>\n",
       "      <th>percentage_non_dialogues</th>\n",
       "      <td>59.94</td>\n",
       "      <td>60.64</td>\n",
       "    </tr>\n",
       "    <tr>\n",
       "      <th>percentage_polylogues</th>\n",
       "      <td>38.11</td>\n",
       "      <td>39.68</td>\n",
       "    </tr>\n",
       "    <tr>\n",
       "      <th>percentage_monologues</th>\n",
       "      <td>21.84</td>\n",
       "      <td>20.65</td>\n",
       "    </tr>\n",
       "    <tr>\n",
       "      <th>coefficient_unused</th>\n",
       "      <td>19.04</td>\n",
       "      <td>21.40</td>\n",
       "    </tr>\n",
       "    <tr>\n",
       "      <th>discontinuous_scenes</th>\n",
       "      <td>6.05</td>\n",
       "      <td>6.55</td>\n",
       "    </tr>\n",
       "  </tbody>\n",
       "</table>\n",
       "</div>"
      ],
      "text/plain": [
       "                          tentative Period One: 1775 to 1795  \\\n",
       "num_present_characters                                 11.50   \n",
       "mobility_coefficient                                   53.17   \n",
       "standard_range                                          1.48   \n",
       "percentage_non_dialogues                               59.94   \n",
       "percentage_polylogues                                  38.11   \n",
       "percentage_monologues                                  21.84   \n",
       "coefficient_unused                                     19.04   \n",
       "discontinuous_scenes                                    6.05   \n",
       "\n",
       "                          tentative Period Two: 1796 to 1849  \n",
       "num_present_characters                                 14.70  \n",
       "mobility_coefficient                                   61.60  \n",
       "standard_range                                          1.54  \n",
       "percentage_non_dialogues                               60.64  \n",
       "percentage_polylogues                                  39.68  \n",
       "percentage_monologues                                  20.65  \n",
       "coefficient_unused                                     21.40  \n",
       "discontinuous_scenes                                    6.55  "
      ]
     },
     "execution_count": 26,
     "metadata": {},
     "output_type": "execute_result"
    }
   ],
   "source": [
    "russian_summary_comedies"
   ]
  },
  {
   "cell_type": "markdown",
   "metadata": {},
   "source": [
    "### Summary:\n",
    "#### The Russian tentative Period One (1775 to 1795) vs. the second part of the French Period Two (1775 to 1795):\n",
    "1. In the Russian tentative Period One (1775 to 1794), most of the mean values of the features were higher than the those in the second part of the French Period Two (1775 to 1795):\n",
    "    - The number of dramatic characters (11.50 in Russian vs. 11.27 in French);\n",
    "    - The mobility coefficient (53.17 in Russian vs. 51.79 in French);\n",
    "    - The standard range (1.48 in Russian vs. 1.14 in French);\n",
    "    - The percentage of non-dialogues (59.94% vs. 53.73%);\n",
    "    - The percentage of polylogues (38.11% vs. 29.80%).\n",
    "    - The coefficient of unused dramatic characters (19.04% vs. 14.01%).\n",
    "2. In the case of two features, the mean percentage of monologues and the percentage of discontinuous scenes, the Russian comedies had lower mean values than the French ones:\n",
    "    - The percentage of monologues (21.84% in Russian vs. 23.87% in French);\n",
    "    - The percentage of discontinuous scenes (6.05% in Russian vs. 7.55% in French).\n",
    "    \n",
    "#### The Russian tentative Period Two (1795 - 1849) vs. the French Period Three (1796 to 1849):\n",
    "1. In the Russian tentative Period Two, all of the examined features had higher mean values than those in the French Period Three:\n",
    "    - The number of dramatic characters (14.70 in Russian vs. 11.96 in French);\n",
    "    - The mobility coefficient (61.60 vs. 54.31);\n",
    "    - The standard range (1.54 vs. 1.33);\n",
    "    - The percentage of non-dialogues (60.64% vs. 58.12%);\n",
    "    - The percentage of polylogues (39.68% vs. 37.69%);\n",
    "    - The percentage of monologues (20.65% vs. 20.35%);\n",
    "    - The coefficient of unused dramatic characters (21.40 vs.13.74);\n",
    "    - The percentage of discontinuous scenes (6.55% vs. 5.83%)."
   ]
  },
  {
   "cell_type": "code",
   "execution_count": 27,
   "metadata": {},
   "outputs": [
    {
     "data": {
      "text/html": [
       "<div>\n",
       "<style scoped>\n",
       "    .dataframe tbody tr th:only-of-type {\n",
       "        vertical-align: middle;\n",
       "    }\n",
       "\n",
       "    .dataframe tbody tr th {\n",
       "        vertical-align: top;\n",
       "    }\n",
       "\n",
       "    .dataframe thead th {\n",
       "        text-align: right;\n",
       "    }\n",
       "</style>\n",
       "<table border=\"1\" class=\"dataframe\">\n",
       "  <thead>\n",
       "    <tr style=\"text-align: right;\">\n",
       "      <th></th>\n",
       "      <th>Period One: 1629 to 1695</th>\n",
       "      <th>Period Two First Part: 1696 to 1774</th>\n",
       "    </tr>\n",
       "  </thead>\n",
       "  <tbody>\n",
       "    <tr>\n",
       "      <th>num_present_characters</th>\n",
       "      <td>11.81</td>\n",
       "      <td>10.28</td>\n",
       "    </tr>\n",
       "    <tr>\n",
       "      <th>mobility_coefficient</th>\n",
       "      <td>41.82</td>\n",
       "      <td>48.29</td>\n",
       "    </tr>\n",
       "    <tr>\n",
       "      <th>standard_range</th>\n",
       "      <td>1.23</td>\n",
       "      <td>1.12</td>\n",
       "    </tr>\n",
       "    <tr>\n",
       "      <th>percentage_non_dialogues</th>\n",
       "      <td>56.11</td>\n",
       "      <td>53.37</td>\n",
       "    </tr>\n",
       "    <tr>\n",
       "      <th>percentage_polylogues</th>\n",
       "      <td>42.81</td>\n",
       "      <td>32.26</td>\n",
       "    </tr>\n",
       "    <tr>\n",
       "      <th>percentage_monologues</th>\n",
       "      <td>13.18</td>\n",
       "      <td>21.07</td>\n",
       "    </tr>\n",
       "    <tr>\n",
       "      <th>coefficient_unused</th>\n",
       "      <td>12.17</td>\n",
       "      <td>12.03</td>\n",
       "    </tr>\n",
       "    <tr>\n",
       "      <th>discontinuous_scenes</th>\n",
       "      <td>13.37</td>\n",
       "      <td>6.49</td>\n",
       "    </tr>\n",
       "  </tbody>\n",
       "</table>\n",
       "</div>"
      ],
      "text/plain": [
       "                          Period One: 1629 to 1695  \\\n",
       "num_present_characters                       11.81   \n",
       "mobility_coefficient                         41.82   \n",
       "standard_range                                1.23   \n",
       "percentage_non_dialogues                     56.11   \n",
       "percentage_polylogues                        42.81   \n",
       "percentage_monologues                        13.18   \n",
       "coefficient_unused                           12.17   \n",
       "discontinuous_scenes                         13.37   \n",
       "\n",
       "                          Period Two First Part: 1696 to 1774  \n",
       "num_present_characters                                  10.28  \n",
       "mobility_coefficient                                    48.29  \n",
       "standard_range                                           1.12  \n",
       "percentage_non_dialogues                                53.37  \n",
       "percentage_polylogues                                   32.26  \n",
       "percentage_monologues                                   21.07  \n",
       "coefficient_unused                                      12.03  \n",
       "discontinuous_scenes                                     6.49  "
      ]
     },
     "execution_count": 27,
     "metadata": {},
     "output_type": "execute_result"
    }
   ],
   "source": [
    "french_summary_comedies.iloc[:, :2]"
   ]
  },
  {
   "cell_type": "markdown",
   "metadata": {},
   "source": [
    "### Comparison:\n",
    "####  The Russian tentative Period One (1775 to 1795) vs. the first part of the French Period Two (1696 to 1774):\n",
    "1.  The mean values of almost all features were higher in the Russian tentative Period One as compared to the first part of the French Period Two.\n",
    "    - The number of dramatic characters (11.50 in Russian vs. 10.28 in French);\n",
    "    - The mobility coefficient (53.17 in Russian vs. 48.29 in French);\n",
    "    - The standard range (1.48 in Russian vs. 1.12 in French);\n",
    "    - The percentage of non-dialogues (59.94% vs. 53.37%);\n",
    "    - The percentage of polylogues (38.11% vs. 32.26%);\n",
    "    - The percentage of monologues (21.84% in Russian vs. 21.07% in French);\n",
    "    - The coefficient of unused dramatic characters (19.04% vs. 12.03%).\n",
    "2. The mean percentage of discontinuous scenes was lower in the Russian tentative Period Two than in the first part of the French Period Two (6.05% in Russian vs.  6.49% in French).\n",
    "\n",
    "####  The Russian tentative Period One (1775 to 1795) vs. the French Period One (1629 to 1695):\n",
    "1. The mean values of some features were higher in the Russian tentative Period One as compared to the French Period One:\n",
    "    - The mobility coefficient (53.17 in Russian vs. 41.82);\n",
    "    - The standard range of the speaking characters (1.48 vs. 1.23);\n",
    "    - The percentage of non-dialogues (59.94% vs. 56.11%);\n",
    "    - The percentage of monologues (21.84% vs. 13.18%);\n",
    "    - The coefficient of unused dramatic characters (19.04 vs. 12.17).\n",
    "    \n",
    "2. Three features had lower mean values in the Russian tentative Period One than in the French Period One:\n",
    "    - The number of dramatic characters (11.50 in Russian vs. 11.81 in the French);\n",
    "    - The percentage of monologues (21.84% in the Russian vs. 13.18% in the French);\n",
    "    - The percentage of discontinuous scenes (6.05% in the Russian vs. 13.37% in the French);"
   ]
  },
  {
   "cell_type": "markdown",
   "metadata": {},
   "source": [
    "### Speech Distribution in the French Five-Act Comedy In Verse in Period One"
   ]
  },
  {
   "cell_type": "code",
   "execution_count": 28,
   "metadata": {},
   "outputs": [
    {
     "data": {
      "image/png": "[encoded data removed]",
      "text/plain": [
       "<Figure size 720x360 with 1 Axes>"
      ]
     },
     "metadata": {
      "needs_background": "light"
     },
     "output_type": "display_data"
    }
   ],
   "source": [
    "plot_speech_distribution(speech_distribution_by_period(french_period_one), \n",
    "                         'Speech Distribition in the French Five-Act Verse Comedy of Period One')"
   ]
  },
  {
   "cell_type": "code",
   "execution_count": 29,
   "metadata": {},
   "outputs": [
    {
     "data": {
      "text/html": [
       "<div>\n",
       "<style scoped>\n",
       "    .dataframe tbody tr th:only-of-type {\n",
       "        vertical-align: middle;\n",
       "    }\n",
       "\n",
       "    .dataframe tbody tr th {\n",
       "        vertical-align: top;\n",
       "    }\n",
       "\n",
       "    .dataframe thead th {\n",
       "        text-align: right;\n",
       "    }\n",
       "</style>\n",
       "<table border=\"1\" class=\"dataframe\">\n",
       "  <thead>\n",
       "    <tr style=\"text-align: right;\">\n",
       "      <th></th>\n",
       "      <th>0</th>\n",
       "      <th>1</th>\n",
       "      <th>2</th>\n",
       "      <th>3</th>\n",
       "      <th>4</th>\n",
       "      <th>5</th>\n",
       "      <th>6</th>\n",
       "      <th>7</th>\n",
       "      <th>8</th>\n",
       "      <th>9</th>\n",
       "      <th>12</th>\n",
       "    </tr>\n",
       "    <tr>\n",
       "      <th>number_of_speakers</th>\n",
       "      <th></th>\n",
       "      <th></th>\n",
       "      <th></th>\n",
       "      <th></th>\n",
       "      <th></th>\n",
       "      <th></th>\n",
       "      <th></th>\n",
       "      <th></th>\n",
       "      <th></th>\n",
       "      <th></th>\n",
       "      <th></th>\n",
       "    </tr>\n",
       "  </thead>\n",
       "  <tbody>\n",
       "    <tr>\n",
       "      <th>percentage_of_scenes</th>\n",
       "      <td>0.06</td>\n",
       "      <td>14.16</td>\n",
       "      <td>43.43</td>\n",
       "      <td>23.42</td>\n",
       "      <td>10.6</td>\n",
       "      <td>4.39</td>\n",
       "      <td>1.86</td>\n",
       "      <td>0.91</td>\n",
       "      <td>0.68</td>\n",
       "      <td>0.48</td>\n",
       "      <td>0.01</td>\n",
       "    </tr>\n",
       "  </tbody>\n",
       "</table>\n",
       "</div>"
      ],
      "text/plain": [
       "0                       0      1      2      3     4     5     6     7     8   \\\n",
       "number_of_speakers                                                              \n",
       "percentage_of_scenes  0.06  14.16  43.43  23.42  10.6  4.39  1.86  0.91  0.68   \n",
       "\n",
       "0                       9     12  \n",
       "number_of_speakers                \n",
       "percentage_of_scenes  0.48  0.01  "
      ]
     },
     "execution_count": 29,
     "metadata": {},
     "output_type": "execute_result"
    }
   ],
   "source": [
    "speech_distribution_by_period(french_period_one)"
   ]
  },
  {
   "cell_type": "markdown",
   "metadata": {},
   "source": [
    "N.Gillet de la Tessonnerie's *Le Campagnard* (1657) and Noël Lebreton, sieur de Hauteroche's *Crispin musicien* (1674) have scenes with no speakers."
   ]
  },
  {
   "cell_type": "code",
   "execution_count": 30,
   "metadata": {},
   "outputs": [
    {
     "data": {
      "text/plain": [
       "2.08"
      ]
     },
     "execution_count": 30,
     "metadata": {},
     "output_type": "execute_result"
    }
   ],
   "source": [
    "np.sum(speech_distribution_by_period(french_period_one).values[0][7:])"
   ]
  },
  {
   "cell_type": "markdown",
   "metadata": {},
   "source": [
    "### Speech Distribution in the French Five-Act Comedy In Verse in Period Two (First Part)"
   ]
  },
  {
   "cell_type": "code",
   "execution_count": 31,
   "metadata": {},
   "outputs": [
    {
     "data": {
      "image/png": "[encoded data removed]",
      "text/plain": [
       "<Figure size 720x360 with 1 Axes>"
      ]
     },
     "metadata": {
      "needs_background": "light"
     },
     "output_type": "display_data"
    }
   ],
   "source": [
    "plot_speech_distribution(speech_distribution_by_period(french_period_two_first_part), \n",
    "                         'Speech Distribition in the French Five-Act Verse Comedy of Period Two (First Part)')"
   ]
  },
  {
   "cell_type": "code",
   "execution_count": 32,
   "metadata": {},
   "outputs": [
    {
     "data": {
      "text/html": [
       "<div>\n",
       "<style scoped>\n",
       "    .dataframe tbody tr th:only-of-type {\n",
       "        vertical-align: middle;\n",
       "    }\n",
       "\n",
       "    .dataframe tbody tr th {\n",
       "        vertical-align: top;\n",
       "    }\n",
       "\n",
       "    .dataframe thead th {\n",
       "        text-align: right;\n",
       "    }\n",
       "</style>\n",
       "<table border=\"1\" class=\"dataframe\">\n",
       "  <thead>\n",
       "    <tr style=\"text-align: right;\">\n",
       "      <th></th>\n",
       "      <th>1</th>\n",
       "      <th>2</th>\n",
       "      <th>3</th>\n",
       "      <th>4</th>\n",
       "      <th>5</th>\n",
       "      <th>6</th>\n",
       "      <th>7</th>\n",
       "      <th>8</th>\n",
       "      <th>9</th>\n",
       "      <th>11</th>\n",
       "    </tr>\n",
       "    <tr>\n",
       "      <th>number_of_speakers</th>\n",
       "      <th></th>\n",
       "      <th></th>\n",
       "      <th></th>\n",
       "      <th></th>\n",
       "      <th></th>\n",
       "      <th></th>\n",
       "      <th></th>\n",
       "      <th></th>\n",
       "      <th></th>\n",
       "      <th></th>\n",
       "    </tr>\n",
       "  </thead>\n",
       "  <tbody>\n",
       "    <tr>\n",
       "      <th>percentage_of_scenes</th>\n",
       "      <td>22.52</td>\n",
       "      <td>45.49</td>\n",
       "      <td>19.32</td>\n",
       "      <td>7.63</td>\n",
       "      <td>2.64</td>\n",
       "      <td>1.3</td>\n",
       "      <td>0.59</td>\n",
       "      <td>0.41</td>\n",
       "      <td>0.08</td>\n",
       "      <td>0.03</td>\n",
       "    </tr>\n",
       "  </tbody>\n",
       "</table>\n",
       "</div>"
      ],
      "text/plain": [
       "0                        1      2      3     4     5    6     7     8     9   \\\n",
       "number_of_speakers                                                             \n",
       "percentage_of_scenes  22.52  45.49  19.32  7.63  2.64  1.3  0.59  0.41  0.08   \n",
       "\n",
       "0                       11  \n",
       "number_of_speakers          \n",
       "percentage_of_scenes  0.03  "
      ]
     },
     "execution_count": 32,
     "metadata": {},
     "output_type": "execute_result"
    }
   ],
   "source": [
    "speech_distribution_by_period(french_period_two_first_part)"
   ]
  },
  {
   "cell_type": "code",
   "execution_count": 33,
   "metadata": {},
   "outputs": [
    {
     "data": {
      "text/plain": [
       "1.11"
      ]
     },
     "execution_count": 33,
     "metadata": {},
     "output_type": "execute_result"
    }
   ],
   "source": [
    "np.sum(speech_distribution_by_period(french_period_two_first_part).values[0][6:])"
   ]
  },
  {
   "cell_type": "markdown",
   "metadata": {},
   "source": [
    "### Speech Distribution in the French Five-Act Comedy In Verse in Period Two (Second Part)"
   ]
  },
  {
   "cell_type": "code",
   "execution_count": 34,
   "metadata": {},
   "outputs": [
    {
     "data": {
      "image/png": "[encoded data removed]",
      "text/plain": [
       "<Figure size 720x360 with 1 Axes>"
      ]
     },
     "metadata": {
      "needs_background": "light"
     },
     "output_type": "display_data"
    }
   ],
   "source": [
    "plot_speech_distribution(speech_distribution_by_period(french_period_two_second_part), \n",
    "                         'Speech Distribition in the French Five-Act Verse Comedy of Period Two (Second Part)')"
   ]
  },
  {
   "cell_type": "code",
   "execution_count": 35,
   "metadata": {},
   "outputs": [
    {
     "data": {
      "text/html": [
       "<div>\n",
       "<style scoped>\n",
       "    .dataframe tbody tr th:only-of-type {\n",
       "        vertical-align: middle;\n",
       "    }\n",
       "\n",
       "    .dataframe tbody tr th {\n",
       "        vertical-align: top;\n",
       "    }\n",
       "\n",
       "    .dataframe thead th {\n",
       "        text-align: right;\n",
       "    }\n",
       "</style>\n",
       "<table border=\"1\" class=\"dataframe\">\n",
       "  <thead>\n",
       "    <tr style=\"text-align: right;\">\n",
       "      <th></th>\n",
       "      <th>0</th>\n",
       "      <th>1</th>\n",
       "      <th>2</th>\n",
       "      <th>3</th>\n",
       "      <th>4</th>\n",
       "      <th>5</th>\n",
       "      <th>6</th>\n",
       "      <th>7</th>\n",
       "      <th>8</th>\n",
       "      <th>9</th>\n",
       "      <th>10</th>\n",
       "    </tr>\n",
       "    <tr>\n",
       "      <th>number_of_speakers</th>\n",
       "      <th></th>\n",
       "      <th></th>\n",
       "      <th></th>\n",
       "      <th></th>\n",
       "      <th></th>\n",
       "      <th></th>\n",
       "      <th></th>\n",
       "      <th></th>\n",
       "      <th></th>\n",
       "      <th></th>\n",
       "      <th></th>\n",
       "    </tr>\n",
       "  </thead>\n",
       "  <tbody>\n",
       "    <tr>\n",
       "      <th>percentage_of_scenes</th>\n",
       "      <td>0.06</td>\n",
       "      <td>23.87</td>\n",
       "      <td>46.27</td>\n",
       "      <td>18.92</td>\n",
       "      <td>5.15</td>\n",
       "      <td>2.84</td>\n",
       "      <td>1.3</td>\n",
       "      <td>1.0</td>\n",
       "      <td>0.35</td>\n",
       "      <td>0.19</td>\n",
       "      <td>0.06</td>\n",
       "    </tr>\n",
       "  </tbody>\n",
       "</table>\n",
       "</div>"
      ],
      "text/plain": [
       "0                       0      1      2      3     4     5    6    7     8   \\\n",
       "number_of_speakers                                                            \n",
       "percentage_of_scenes  0.06  23.87  46.27  18.92  5.15  2.84  1.3  1.0  0.35   \n",
       "\n",
       "0                       9     10  \n",
       "number_of_speakers                \n",
       "percentage_of_scenes  0.19  0.06  "
      ]
     },
     "execution_count": 35,
     "metadata": {},
     "output_type": "execute_result"
    }
   ],
   "source": [
    "speech_distribution_by_period(french_period_two_second_part)"
   ]
  },
  {
   "cell_type": "code",
   "execution_count": 36,
   "metadata": {},
   "outputs": [
    {
     "data": {
      "text/plain": [
       "1.6"
      ]
     },
     "execution_count": 36,
     "metadata": {},
     "output_type": "execute_result"
    }
   ],
   "source": [
    "np.sum(speech_distribution_by_period(french_period_two_second_part).values[0][7:])"
   ]
  },
  {
   "cell_type": "markdown",
   "metadata": {},
   "source": [
    "Marc-Antoine-Jacques Rochon de Chabannes's *Le Jaloux* (1784) has a scene with no speakers."
   ]
  },
  {
   "cell_type": "markdown",
   "metadata": {},
   "source": [
    "### Speech Distribution in the French Five-Act Comedy In Verse in Period Three"
   ]
  },
  {
   "cell_type": "code",
   "execution_count": 37,
   "metadata": {},
   "outputs": [
    {
     "data": {
      "image/png": "[encoded data removed]",
      "text/plain": [
       "<Figure size 720x360 with 1 Axes>"
      ]
     },
     "metadata": {
      "needs_background": "light"
     },
     "output_type": "display_data"
    }
   ],
   "source": [
    "plot_speech_distribution(speech_distribution_by_period(french_period_three), \n",
    "                         'Speech Distribition in the French Five-Act Verse Comedy of Period Three')"
   ]
  },
  {
   "cell_type": "code",
   "execution_count": 38,
   "metadata": {},
   "outputs": [
    {
     "data": {
      "text/html": [
       "<div>\n",
       "<style scoped>\n",
       "    .dataframe tbody tr th:only-of-type {\n",
       "        vertical-align: middle;\n",
       "    }\n",
       "\n",
       "    .dataframe tbody tr th {\n",
       "        vertical-align: top;\n",
       "    }\n",
       "\n",
       "    .dataframe thead th {\n",
       "        text-align: right;\n",
       "    }\n",
       "</style>\n",
       "<table border=\"1\" class=\"dataframe\">\n",
       "  <thead>\n",
       "    <tr style=\"text-align: right;\">\n",
       "      <th></th>\n",
       "      <th>1</th>\n",
       "      <th>2</th>\n",
       "      <th>3</th>\n",
       "      <th>4</th>\n",
       "      <th>5</th>\n",
       "      <th>6</th>\n",
       "      <th>7</th>\n",
       "      <th>8</th>\n",
       "      <th>9</th>\n",
       "      <th>11</th>\n",
       "      <th>12</th>\n",
       "      <th>15</th>\n",
       "      <th>16</th>\n",
       "    </tr>\n",
       "    <tr>\n",
       "      <th>number_of_speakers</th>\n",
       "      <th></th>\n",
       "      <th></th>\n",
       "      <th></th>\n",
       "      <th></th>\n",
       "      <th></th>\n",
       "      <th></th>\n",
       "      <th></th>\n",
       "      <th></th>\n",
       "      <th></th>\n",
       "      <th></th>\n",
       "      <th></th>\n",
       "      <th></th>\n",
       "      <th></th>\n",
       "    </tr>\n",
       "  </thead>\n",
       "  <tbody>\n",
       "    <tr>\n",
       "      <th>percentage_of_scenes</th>\n",
       "      <td>23.01</td>\n",
       "      <td>40.33</td>\n",
       "      <td>21.09</td>\n",
       "      <td>7.59</td>\n",
       "      <td>4.31</td>\n",
       "      <td>1.96</td>\n",
       "      <td>0.88</td>\n",
       "      <td>0.5</td>\n",
       "      <td>0.18</td>\n",
       "      <td>0.04</td>\n",
       "      <td>0.04</td>\n",
       "      <td>0.02</td>\n",
       "      <td>0.05</td>\n",
       "    </tr>\n",
       "  </tbody>\n",
       "</table>\n",
       "</div>"
      ],
      "text/plain": [
       "0                        1      2      3     4     5     6     7    8     9   \\\n",
       "number_of_speakers                                                             \n",
       "percentage_of_scenes  23.01  40.33  21.09  7.59  4.31  1.96  0.88  0.5  0.18   \n",
       "\n",
       "0                       11    12    15    16  \n",
       "number_of_speakers                            \n",
       "percentage_of_scenes  0.04  0.04  0.02  0.05  "
      ]
     },
     "execution_count": 38,
     "metadata": {},
     "output_type": "execute_result"
    }
   ],
   "source": [
    "speech_distribution_by_period(french_period_three)"
   ]
  },
  {
   "cell_type": "code",
   "execution_count": 39,
   "metadata": {},
   "outputs": [
    {
     "data": {
      "text/plain": [
       "1.71"
      ]
     },
     "execution_count": 39,
     "metadata": {},
     "output_type": "execute_result"
    }
   ],
   "source": [
    "np.sum(speech_distribution_by_period(french_period_three).values[0][6:])"
   ]
  },
  {
   "cell_type": "markdown",
   "metadata": {},
   "source": [
    "### Speech Distribution in the Russian Five-Act Comedy In Verse in The Tentative Period One"
   ]
  },
  {
   "cell_type": "code",
   "execution_count": 40,
   "metadata": {},
   "outputs": [
    {
     "data": {
      "image/png": "[encoded data removed]",
      "text/plain": [
       "<Figure size 720x360 with 1 Axes>"
      ]
     },
     "metadata": {
      "needs_background": "light"
     },
     "output_type": "display_data"
    }
   ],
   "source": [
    "plot_speech_distribution(speech_distribution_by_period(russian_period_one), \n",
    "                         'Speech Distribition in the Russian Five-Act Verse Comedy of The Tentative Period One')"
   ]
  },
  {
   "cell_type": "code",
   "execution_count": 41,
   "metadata": {},
   "outputs": [
    {
     "data": {
      "text/html": [
       "<div>\n",
       "<style scoped>\n",
       "    .dataframe tbody tr th:only-of-type {\n",
       "        vertical-align: middle;\n",
       "    }\n",
       "\n",
       "    .dataframe tbody tr th {\n",
       "        vertical-align: top;\n",
       "    }\n",
       "\n",
       "    .dataframe thead th {\n",
       "        text-align: right;\n",
       "    }\n",
       "</style>\n",
       "<table border=\"1\" class=\"dataframe\">\n",
       "  <thead>\n",
       "    <tr style=\"text-align: right;\">\n",
       "      <th></th>\n",
       "      <th>1</th>\n",
       "      <th>2</th>\n",
       "      <th>3</th>\n",
       "      <th>4</th>\n",
       "      <th>5</th>\n",
       "      <th>6</th>\n",
       "      <th>7</th>\n",
       "      <th>8</th>\n",
       "      <th>9</th>\n",
       "      <th>10</th>\n",
       "      <th>12</th>\n",
       "    </tr>\n",
       "    <tr>\n",
       "      <th>number_of_speakers</th>\n",
       "      <th></th>\n",
       "      <th></th>\n",
       "      <th></th>\n",
       "      <th></th>\n",
       "      <th></th>\n",
       "      <th></th>\n",
       "      <th></th>\n",
       "      <th></th>\n",
       "      <th></th>\n",
       "      <th></th>\n",
       "      <th></th>\n",
       "    </tr>\n",
       "  </thead>\n",
       "  <tbody>\n",
       "    <tr>\n",
       "      <th>percentage_of_scenes</th>\n",
       "      <td>21.84</td>\n",
       "      <td>40.06</td>\n",
       "      <td>18.58</td>\n",
       "      <td>9.53</td>\n",
       "      <td>2.79</td>\n",
       "      <td>2.44</td>\n",
       "      <td>1.7</td>\n",
       "      <td>1.29</td>\n",
       "      <td>0.71</td>\n",
       "      <td>0.71</td>\n",
       "      <td>0.36</td>\n",
       "    </tr>\n",
       "  </tbody>\n",
       "</table>\n",
       "</div>"
      ],
      "text/plain": [
       "0                        1      2      3     4     5     6    7     8     9   \\\n",
       "number_of_speakers                                                             \n",
       "percentage_of_scenes  21.84  40.06  18.58  9.53  2.79  2.44  1.7  1.29  0.71   \n",
       "\n",
       "0                       10    12  \n",
       "number_of_speakers                \n",
       "percentage_of_scenes  0.71  0.36  "
      ]
     },
     "execution_count": 41,
     "metadata": {},
     "output_type": "execute_result"
    }
   ],
   "source": [
    "speech_distribution_by_period(russian_period_one)"
   ]
  },
  {
   "cell_type": "code",
   "execution_count": 42,
   "metadata": {},
   "outputs": [
    {
     "data": {
      "text/plain": [
       "4.77"
      ]
     },
     "execution_count": 42,
     "metadata": {},
     "output_type": "execute_result"
    }
   ],
   "source": [
    "round(np.sum(speech_distribution_by_period(russian_period_one).values[0][6:]), 2)"
   ]
  },
  {
   "cell_type": "markdown",
   "metadata": {},
   "source": [
    "### Speech Distribution in the Russian Five-Act Comedy In Verse in The Tentative Period Two"
   ]
  },
  {
   "cell_type": "code",
   "execution_count": 43,
   "metadata": {},
   "outputs": [
    {
     "data": {
      "image/png": "[encoded data removed]",
      "text/plain": [
       "<Figure size 720x360 with 1 Axes>"
      ]
     },
     "metadata": {
      "needs_background": "light"
     },
     "output_type": "display_data"
    }
   ],
   "source": [
    "plot_speech_distribution(speech_distribution_by_period(russian_period_two), \n",
    "                         'Speech Distribition in the Russian Five-Act Verse Comedy of The Tentative Period Two')"
   ]
  },
  {
   "cell_type": "markdown",
   "metadata": {},
   "source": [
    "Note that in the Russian corpus there is a comedy that has zero speakers in a scene, Boris Fedorov's *Chudnya vstrechi* (1818)."
   ]
  },
  {
   "cell_type": "code",
   "execution_count": 44,
   "metadata": {},
   "outputs": [
    {
     "data": {
      "text/html": [
       "<div>\n",
       "<style scoped>\n",
       "    .dataframe tbody tr th:only-of-type {\n",
       "        vertical-align: middle;\n",
       "    }\n",
       "\n",
       "    .dataframe tbody tr th {\n",
       "        vertical-align: top;\n",
       "    }\n",
       "\n",
       "    .dataframe thead th {\n",
       "        text-align: right;\n",
       "    }\n",
       "</style>\n",
       "<table border=\"1\" class=\"dataframe\">\n",
       "  <thead>\n",
       "    <tr style=\"text-align: right;\">\n",
       "      <th></th>\n",
       "      <th>0</th>\n",
       "      <th>1</th>\n",
       "      <th>2</th>\n",
       "      <th>3</th>\n",
       "      <th>4</th>\n",
       "      <th>5</th>\n",
       "      <th>6</th>\n",
       "      <th>7</th>\n",
       "      <th>9</th>\n",
       "      <th>10</th>\n",
       "      <th>13</th>\n",
       "    </tr>\n",
       "    <tr>\n",
       "      <th>number_of_speakers</th>\n",
       "      <th></th>\n",
       "      <th></th>\n",
       "      <th></th>\n",
       "      <th></th>\n",
       "      <th></th>\n",
       "      <th></th>\n",
       "      <th></th>\n",
       "      <th></th>\n",
       "      <th></th>\n",
       "      <th></th>\n",
       "      <th></th>\n",
       "    </tr>\n",
       "  </thead>\n",
       "  <tbody>\n",
       "    <tr>\n",
       "      <th>percentage_of_scenes</th>\n",
       "      <td>0.3</td>\n",
       "      <td>20.66</td>\n",
       "      <td>39.36</td>\n",
       "      <td>18.39</td>\n",
       "      <td>11.45</td>\n",
       "      <td>4.58</td>\n",
       "      <td>1.99</td>\n",
       "      <td>1.42</td>\n",
       "      <td>1.45</td>\n",
       "      <td>0.17</td>\n",
       "      <td>0.22</td>\n",
       "    </tr>\n",
       "  </tbody>\n",
       "</table>\n",
       "</div>"
      ],
      "text/plain": [
       "0                      0      1      2      3      4     5     6     7     9   \\\n",
       "number_of_speakers                                                              \n",
       "percentage_of_scenes  0.3  20.66  39.36  18.39  11.45  4.58  1.99  1.42  1.45   \n",
       "\n",
       "0                       10    13  \n",
       "number_of_speakers                \n",
       "percentage_of_scenes  0.17  0.22  "
      ]
     },
     "execution_count": 44,
     "metadata": {},
     "output_type": "execute_result"
    }
   ],
   "source": [
    "speech_distribution_by_period(russian_period_two)"
   ]
  },
  {
   "cell_type": "code",
   "execution_count": 45,
   "metadata": {},
   "outputs": [
    {
     "data": {
      "text/plain": [
       "3.26"
      ]
     },
     "execution_count": 45,
     "metadata": {},
     "output_type": "execute_result"
    }
   ],
   "source": [
    "round(np.sum(speech_distribution_by_period(russian_period_two).values[0][7:]), 2)"
   ]
  },
  {
   "cell_type": "markdown",
   "metadata": {},
   "source": [
    "### Summary:\n",
    "\n",
    "#### Comparison of The Speech Distribution in the Russian tentative Period One and the French Period Two (second part):\n",
    "the maximum number of speaking characters in the tentative Russian Period One was 12 while 4.77% had above six speakers. In the French Period Two (second part), the maximum number of speakers was 10, with 1.6% of the scenes having over six speakers. In the French Period Two (second part, there was a comedy with a scene that had no speakers - Marc-Antoine-Jacques Rochon de Chabannes’s *Le Jaloux* (1784). In the tentative Russian Period One, there were no such comedies\n",
    "\n",
    "\n",
    "#### Comparison of The Speech Distribution in the Russian tentative Period Two and the French Period Three:\n",
    "in the tentative Russian Period Two, the maximum number of speakers was 13, with 3.26% of the scenes having over six speakers. In the French Period Three, the maximum number of speakers was 16, with 1.71% of the scenes having over six speakers. In the tentative Russian Period Two, there was one comedy with a scene without any speakers (Boris Fedorov’s *Chudnya vstrechi* (1818)). In the French Period Three, there were no such comedies.\n",
    "\n",
    "### Additional Comparisons:\n",
    "\n",
    "#### Comparison of The Speech Distribution in the Russian tentative Period One and the French Period Two (first part):\n",
    "The maximum number of speaking characters in the Russian tentative Period One was 12; 4.77% had above six speakers.  In the French Period Two (first part), the maximum number of speakers was 11, with 1.11% having over six speakers. Neither Russian nor French comedies of the above mentioned periods had scenes without speakers.\n",
    "\n",
    "#### Comparison of The Speech Distribution in the Russian tentative Period One and the French Period One:\n",
    "The maximum number of speaking characters in the Russian tentative Period One was 12; 4.77% had above six speakers. In the French Period One, the maximum number of speakers was also 12. However, only 2.08% of the scenes had over six speakers. In the French Periods One, two comedies had scenes without any speakers, N.Gillet de la Tessonnerie's Le Campagnard (1657) and Noël Lebreton, sieur de Hauteroche's Crispin musicien (1674). In the tentative Russian Period One, there were no such comedies.\n"
   ]
  },
  {
   "cell_type": "markdown",
   "metadata": {},
   "source": [
    "### Contrastive Material"
   ]
  },
  {
   "cell_type": "markdown",
   "metadata": {},
   "source": [
    "#### Load Contrastive Material Data"
   ]
  },
  {
   "cell_type": "code",
   "execution_count": 46,
   "metadata": {},
   "outputs": [],
   "source": [
    "contr_data_df = pd.read_csv('../Contrastive_Material/Contrastive_Material_Data.csv')\n",
    "contr_data_df['speech_distribution'] = contr_data_df['speech_distribution'].apply(make_list)\n",
    "# sort by date\n",
    "sorted_contr_data_df = contr_data_df.sort_values(by='date')\n",
    "\n",
    "sorted_contr_data_df  = sorted_contr_data_df.rename(columns={'num_scenes_iarkho': 'mobility_coefficient', \n",
    "                                                           'percentage_non_duologues': 'percentage_non_dialogues',\n",
    "                                                           'percentage_above_two_speakers': 'percentage_polylogues',\n",
    "                                                            'percentage_scenes_with_discontinuous_change_characters': \n",
    "                                                            'discontinuous_scenes',\n",
    "                                                            'sigma_iarkho': 'standard_range'})\n",
    "sorted_contr_data_df['date'] = sorted_contr_data_df['date'].astype('int')\n",
    "sorted_contr_data_df['last_name'] = sorted_contr_data_df['last_name'].str.strip()\n",
    "\n",
    "shakespeare_df = sorted_contr_data_df[sorted_contr_data_df.last_name == 'Shakespeare'].copy()\n",
    "goldoni_df = sorted_contr_data_df[sorted_contr_data_df.last_name == 'Goldoni'].copy()"
   ]
  },
  {
   "cell_type": "markdown",
   "metadata": {},
   "source": [
    "### William Shakespeare (1582 - 1616)"
   ]
  },
  {
   "cell_type": "code",
   "execution_count": 47,
   "metadata": {},
   "outputs": [],
   "source": [
    "shakespeare_summary = pd.DataFrame(shakespeare_df.describe().loc['mean', features]).round(2)\n",
    "shakespeare_summary.columns = ['Shakespeare']"
   ]
  },
  {
   "cell_type": "code",
   "execution_count": 48,
   "metadata": {},
   "outputs": [
    {
     "data": {
      "text/html": [
       "<div>\n",
       "<style scoped>\n",
       "    .dataframe tbody tr th:only-of-type {\n",
       "        vertical-align: middle;\n",
       "    }\n",
       "\n",
       "    .dataframe tbody tr th {\n",
       "        vertical-align: top;\n",
       "    }\n",
       "\n",
       "    .dataframe thead th {\n",
       "        text-align: right;\n",
       "    }\n",
       "</style>\n",
       "<table border=\"1\" class=\"dataframe\">\n",
       "  <thead>\n",
       "    <tr style=\"text-align: right;\">\n",
       "      <th></th>\n",
       "      <th>Shakespeare</th>\n",
       "    </tr>\n",
       "  </thead>\n",
       "  <tbody>\n",
       "    <tr>\n",
       "      <th>num_present_characters</th>\n",
       "      <td>25.83</td>\n",
       "    </tr>\n",
       "    <tr>\n",
       "      <th>mobility_coefficient</th>\n",
       "      <td>78.00</td>\n",
       "    </tr>\n",
       "    <tr>\n",
       "      <th>standard_range</th>\n",
       "      <td>1.33</td>\n",
       "    </tr>\n",
       "    <tr>\n",
       "      <th>percentage_non_dialogues</th>\n",
       "      <td>61.76</td>\n",
       "    </tr>\n",
       "    <tr>\n",
       "      <th>percentage_polylogues</th>\n",
       "      <td>37.85</td>\n",
       "    </tr>\n",
       "    <tr>\n",
       "      <th>percentage_monologues</th>\n",
       "      <td>23.56</td>\n",
       "    </tr>\n",
       "    <tr>\n",
       "      <th>coefficient_unused</th>\n",
       "      <td>40.99</td>\n",
       "    </tr>\n",
       "    <tr>\n",
       "      <th>discontinuous_scenes</th>\n",
       "      <td>19.35</td>\n",
       "    </tr>\n",
       "  </tbody>\n",
       "</table>\n",
       "</div>"
      ],
      "text/plain": [
       "                          Shakespeare\n",
       "num_present_characters          25.83\n",
       "mobility_coefficient            78.00\n",
       "standard_range                   1.33\n",
       "percentage_non_dialogues        61.76\n",
       "percentage_polylogues           37.85\n",
       "percentage_monologues           23.56\n",
       "coefficient_unused              40.99\n",
       "discontinuous_scenes            19.35"
      ]
     },
     "execution_count": 48,
     "metadata": {},
     "output_type": "execute_result"
    }
   ],
   "source": [
    "shakespeare_summary"
   ]
  },
  {
   "cell_type": "code",
   "execution_count": 49,
   "metadata": {},
   "outputs": [
    {
     "data": {
      "image/png": "[encoded data removed]",
      "text/plain": [
       "<Figure size 720x360 with 1 Axes>"
      ]
     },
     "metadata": {
      "needs_background": "light"
     },
     "output_type": "display_data"
    }
   ],
   "source": [
    "plot_speech_distribution(speech_distribution_by_period(shakespeare_df), \n",
    "                         'Speech Distribition in Shakespeare\\'s Five-Act Verse Comedy')"
   ]
  },
  {
   "cell_type": "markdown",
   "metadata": {},
   "source": [
    "### Shakespeare in The Context of Other Traditions:\n",
    "1. The mean number of dramatic characters in Shakespeare's five-act verse comedies (25.83) was the highest observed in our material (French, Russian, and Contrastive).\n",
    "2. The mean mobility coefficient in Shakespeare's comedies was the highest in our material (78).\n",
    "3. The mean percentage of non-dialogues in Shakespeare's comedies was the highest observed (61.76%).\n",
    "4. The mean percentage of monologues was also the highest in our material (23.56%).\n",
    "5. The mean coefficient of unused dramatic characters is the highest observed (40.99%). The second highest coefficient of unused dramatic characters (in Goldoni, 17.28 does not come even close to that of Shakespeare). There are many dramatic characters who appear on stage but do not speak.\n",
    "6. The mean percentage of discontinuous scenes in Shakespeare's comedies (19.35%) was the highest in our material.\n",
    "7. The mean percentage of polylogues (37.85%) was slightly higher than that in the French Period Three (37.69) and lower than that in the Russian tentative Periods One (38.11%) and Two (39.68%).\n",
    "8. The standard range of the speaking characters (1.33) was the same as the standard range of the speaking characters in the French Period Three. It was lower than in the Russian tentative Periods One (1.48) and Two (1.54). \n",
    "9. The maximum number of speaking dramatic characters was 11, which was the same as the maximum number of speakers in the French comedy of Period Two (first part). In the French Period Two (second half), the maximum number of speakers was lower (10).In the French Periods One and Three, the maximum number of speakers was higher (12 and 16 respectively). In the Russian tentative Periods One and Two, the maximum number of speakers was also higher (12 and 13).\n",
    "17. In Shakespeare's comedies, there were scenes with no speakers (cf. in the French comedy of Periods One and Two (second part), there were scenes with no speakers. In the Russian tentative Period Two, there was a comedy with a scene without any speakers)."
   ]
  },
  {
   "cell_type": "markdown",
   "metadata": {},
   "source": [
    "### Carlo Goldoni (1707 - 1793)"
   ]
  },
  {
   "cell_type": "code",
   "execution_count": 50,
   "metadata": {},
   "outputs": [],
   "source": [
    "goldoni_summary = pd.DataFrame(goldoni_df.describe().loc['mean', features]).round(2)\n",
    "goldoni_summary.columns = ['Goldoni']"
   ]
  },
  {
   "cell_type": "code",
   "execution_count": 51,
   "metadata": {},
   "outputs": [
    {
     "data": {
      "text/html": [
       "<div>\n",
       "<style scoped>\n",
       "    .dataframe tbody tr th:only-of-type {\n",
       "        vertical-align: middle;\n",
       "    }\n",
       "\n",
       "    .dataframe tbody tr th {\n",
       "        vertical-align: top;\n",
       "    }\n",
       "\n",
       "    .dataframe thead th {\n",
       "        text-align: right;\n",
       "    }\n",
       "</style>\n",
       "<table border=\"1\" class=\"dataframe\">\n",
       "  <thead>\n",
       "    <tr style=\"text-align: right;\">\n",
       "      <th></th>\n",
       "      <th>Goldoni</th>\n",
       "    </tr>\n",
       "  </thead>\n",
       "  <tbody>\n",
       "    <tr>\n",
       "      <th>num_present_characters</th>\n",
       "      <td>11.88</td>\n",
       "    </tr>\n",
       "    <tr>\n",
       "      <th>mobility_coefficient</th>\n",
       "      <td>62.25</td>\n",
       "    </tr>\n",
       "    <tr>\n",
       "      <th>standard_range</th>\n",
       "      <td>1.21</td>\n",
       "    </tr>\n",
       "    <tr>\n",
       "      <th>percentage_non_dialogues</th>\n",
       "      <td>58.64</td>\n",
       "    </tr>\n",
       "    <tr>\n",
       "      <th>percentage_polylogues</th>\n",
       "      <td>38.74</td>\n",
       "    </tr>\n",
       "    <tr>\n",
       "      <th>percentage_monologues</th>\n",
       "      <td>19.65</td>\n",
       "    </tr>\n",
       "    <tr>\n",
       "      <th>coefficient_unused</th>\n",
       "      <td>17.28</td>\n",
       "    </tr>\n",
       "    <tr>\n",
       "      <th>discontinuous_scenes</th>\n",
       "      <td>9.80</td>\n",
       "    </tr>\n",
       "  </tbody>\n",
       "</table>\n",
       "</div>"
      ],
      "text/plain": [
       "                          Goldoni\n",
       "num_present_characters      11.88\n",
       "mobility_coefficient        62.25\n",
       "standard_range               1.21\n",
       "percentage_non_dialogues    58.64\n",
       "percentage_polylogues       38.74\n",
       "percentage_monologues       19.65\n",
       "coefficient_unused          17.28\n",
       "discontinuous_scenes         9.80"
      ]
     },
     "execution_count": 51,
     "metadata": {},
     "output_type": "execute_result"
    }
   ],
   "source": [
    "goldoni_summary"
   ]
  },
  {
   "cell_type": "code",
   "execution_count": 52,
   "metadata": {},
   "outputs": [],
   "source": [
    "french_sorted_comedies = french_sorted_comedies.rename(columns={'sigma_iarkho': 'standard_range'}).copy()"
   ]
  },
  {
   "cell_type": "code",
   "execution_count": 53,
   "metadata": {},
   "outputs": [],
   "source": [
    "french_time_limit = french_sorted_comedies[french_sorted_comedies.date.between(1751, 1759)].copy()\n",
    "french_cont = pd.DataFrame(french_time_limit.describe().loc['mean', features]).round(2).copy()"
   ]
  },
  {
   "cell_type": "code",
   "execution_count": 54,
   "metadata": {},
   "outputs": [],
   "source": [
    "french_cont.columns = ['French_1751_to_1759']"
   ]
  },
  {
   "cell_type": "code",
   "execution_count": 55,
   "metadata": {},
   "outputs": [
    {
     "data": {
      "text/html": [
       "<div>\n",
       "<style scoped>\n",
       "    .dataframe tbody tr th:only-of-type {\n",
       "        vertical-align: middle;\n",
       "    }\n",
       "\n",
       "    .dataframe tbody tr th {\n",
       "        vertical-align: top;\n",
       "    }\n",
       "\n",
       "    .dataframe thead th {\n",
       "        text-align: right;\n",
       "    }\n",
       "</style>\n",
       "<table border=\"1\" class=\"dataframe\">\n",
       "  <thead>\n",
       "    <tr style=\"text-align: right;\">\n",
       "      <th></th>\n",
       "      <th>French_1751_to_1759</th>\n",
       "    </tr>\n",
       "  </thead>\n",
       "  <tbody>\n",
       "    <tr>\n",
       "      <th>num_present_characters</th>\n",
       "      <td>11.00</td>\n",
       "    </tr>\n",
       "    <tr>\n",
       "      <th>mobility_coefficient</th>\n",
       "      <td>43.80</td>\n",
       "    </tr>\n",
       "    <tr>\n",
       "      <th>standard_range</th>\n",
       "      <td>1.23</td>\n",
       "    </tr>\n",
       "    <tr>\n",
       "      <th>percentage_non_dialogues</th>\n",
       "      <td>54.96</td>\n",
       "    </tr>\n",
       "    <tr>\n",
       "      <th>percentage_polylogues</th>\n",
       "      <td>35.71</td>\n",
       "    </tr>\n",
       "    <tr>\n",
       "      <th>percentage_monologues</th>\n",
       "      <td>19.25</td>\n",
       "    </tr>\n",
       "    <tr>\n",
       "      <th>coefficient_unused</th>\n",
       "      <td>12.69</td>\n",
       "    </tr>\n",
       "    <tr>\n",
       "      <th>discontinuous_scenes</th>\n",
       "      <td>3.34</td>\n",
       "    </tr>\n",
       "  </tbody>\n",
       "</table>\n",
       "</div>"
      ],
      "text/plain": [
       "                          French_1751_to_1759\n",
       "num_present_characters                  11.00\n",
       "mobility_coefficient                    43.80\n",
       "standard_range                           1.23\n",
       "percentage_non_dialogues                54.96\n",
       "percentage_polylogues                   35.71\n",
       "percentage_monologues                   19.25\n",
       "coefficient_unused                      12.69\n",
       "discontinuous_scenes                     3.34"
      ]
     },
     "execution_count": 55,
     "metadata": {},
     "output_type": "execute_result"
    }
   ],
   "source": [
    "french_cont"
   ]
  },
  {
   "cell_type": "markdown",
   "metadata": {},
   "source": [
    "### Speech Distribution in Carlo Goldoni's Five-Act Comedies in Verse"
   ]
  },
  {
   "cell_type": "code",
   "execution_count": 56,
   "metadata": {},
   "outputs": [
    {
     "data": {
      "image/png": "[encoded data removed]",
      "text/plain": [
       "<Figure size 720x360 with 1 Axes>"
      ]
     },
     "metadata": {
      "needs_background": "light"
     },
     "output_type": "display_data"
    }
   ],
   "source": [
    "plot_speech_distribution(speech_distribution_by_period(goldoni_df), \n",
    "                         'Speech Distribition in Carlo Goldoni\\'s Five-Act Verse Comedy')"
   ]
  },
  {
   "cell_type": "markdown",
   "metadata": {},
   "source": [
    "In Goldoni's comedy I morbinosi, there is indeed a ball scene where no dramatic characters speak."
   ]
  },
  {
   "cell_type": "code",
   "execution_count": 57,
   "metadata": {},
   "outputs": [
    {
     "data": {
      "text/html": [
       "<div>\n",
       "<style scoped>\n",
       "    .dataframe tbody tr th:only-of-type {\n",
       "        vertical-align: middle;\n",
       "    }\n",
       "\n",
       "    .dataframe tbody tr th {\n",
       "        vertical-align: top;\n",
       "    }\n",
       "\n",
       "    .dataframe thead th {\n",
       "        text-align: right;\n",
       "    }\n",
       "</style>\n",
       "<table border=\"1\" class=\"dataframe\">\n",
       "  <thead>\n",
       "    <tr style=\"text-align: right;\">\n",
       "      <th></th>\n",
       "      <th>0</th>\n",
       "      <th>1</th>\n",
       "      <th>2</th>\n",
       "      <th>3</th>\n",
       "      <th>4</th>\n",
       "      <th>5</th>\n",
       "      <th>6</th>\n",
       "      <th>7</th>\n",
       "      <th>8</th>\n",
       "      <th>9</th>\n",
       "    </tr>\n",
       "    <tr>\n",
       "      <th>number_of_speakers</th>\n",
       "      <th></th>\n",
       "      <th></th>\n",
       "      <th></th>\n",
       "      <th></th>\n",
       "      <th></th>\n",
       "      <th></th>\n",
       "      <th></th>\n",
       "      <th></th>\n",
       "      <th></th>\n",
       "      <th></th>\n",
       "    </tr>\n",
       "  </thead>\n",
       "  <tbody>\n",
       "    <tr>\n",
       "      <th>percentage_of_scenes</th>\n",
       "      <td>0.25</td>\n",
       "      <td>19.65</td>\n",
       "      <td>41.36</td>\n",
       "      <td>19.2</td>\n",
       "      <td>11.6</td>\n",
       "      <td>5.41</td>\n",
       "      <td>1.5</td>\n",
       "      <td>0.53</td>\n",
       "      <td>0.36</td>\n",
       "      <td>0.14</td>\n",
       "    </tr>\n",
       "  </tbody>\n",
       "</table>\n",
       "</div>"
      ],
      "text/plain": [
       "0                        0      1      2     3     4     5    6     7     8  \\\n",
       "number_of_speakers                                                            \n",
       "percentage_of_scenes  0.25  19.65  41.36  19.2  11.6  5.41  1.5  0.53  0.36   \n",
       "\n",
       "0                        9  \n",
       "number_of_speakers          \n",
       "percentage_of_scenes  0.14  "
      ]
     },
     "execution_count": 57,
     "metadata": {},
     "output_type": "execute_result"
    }
   ],
   "source": [
    "speech_distribution_by_period(goldoni_df)"
   ]
  },
  {
   "cell_type": "markdown",
   "metadata": {},
   "source": [
    "### French Five-Act Verse Comedies Between 1751 and 1759"
   ]
  },
  {
   "cell_type": "code",
   "execution_count": 58,
   "metadata": {},
   "outputs": [
    {
     "data": {
      "image/png": "[encoded data removed]",
      "text/plain": [
       "<Figure size 720x360 with 1 Axes>"
      ]
     },
     "metadata": {
      "needs_background": "light"
     },
     "output_type": "display_data"
    }
   ],
   "source": [
    "plot_speech_distribution(speech_distribution_by_period(french_time_limit), \n",
    "                         'Speech Distribition in the French Five-Act Comedies (1751-1759)')"
   ]
  },
  {
   "cell_type": "code",
   "execution_count": 59,
   "metadata": {},
   "outputs": [
    {
     "data": {
      "text/html": [
       "<div>\n",
       "<style scoped>\n",
       "    .dataframe tbody tr th:only-of-type {\n",
       "        vertical-align: middle;\n",
       "    }\n",
       "\n",
       "    .dataframe tbody tr th {\n",
       "        vertical-align: top;\n",
       "    }\n",
       "\n",
       "    .dataframe thead th {\n",
       "        text-align: right;\n",
       "    }\n",
       "</style>\n",
       "<table border=\"1\" class=\"dataframe\">\n",
       "  <thead>\n",
       "    <tr style=\"text-align: right;\">\n",
       "      <th></th>\n",
       "      <th>1</th>\n",
       "      <th>2</th>\n",
       "      <th>3</th>\n",
       "      <th>4</th>\n",
       "      <th>5</th>\n",
       "      <th>6</th>\n",
       "      <th>8</th>\n",
       "      <th>9</th>\n",
       "      <th>11</th>\n",
       "    </tr>\n",
       "    <tr>\n",
       "      <th>number_of_speakers</th>\n",
       "      <th></th>\n",
       "      <th></th>\n",
       "      <th></th>\n",
       "      <th></th>\n",
       "      <th></th>\n",
       "      <th></th>\n",
       "      <th></th>\n",
       "      <th></th>\n",
       "      <th></th>\n",
       "    </tr>\n",
       "  </thead>\n",
       "  <tbody>\n",
       "    <tr>\n",
       "      <th>percentage_of_scenes</th>\n",
       "      <td>19.25</td>\n",
       "      <td>45.04</td>\n",
       "      <td>22.91</td>\n",
       "      <td>6.09</td>\n",
       "      <td>2.66</td>\n",
       "      <td>2.5</td>\n",
       "      <td>0.59</td>\n",
       "      <td>0.59</td>\n",
       "      <td>0.37</td>\n",
       "    </tr>\n",
       "  </tbody>\n",
       "</table>\n",
       "</div>"
      ],
      "text/plain": [
       "0                        1      2      3     4     5    6     8     9     11\n",
       "number_of_speakers                                                          \n",
       "percentage_of_scenes  19.25  45.04  22.91  6.09  2.66  2.5  0.59  0.59  0.37"
      ]
     },
     "execution_count": 59,
     "metadata": {},
     "output_type": "execute_result"
    }
   ],
   "source": [
    "speech_distribution_by_period(french_time_limit)"
   ]
  },
  {
   "cell_type": "markdown",
   "metadata": {},
   "source": [
    "#### Comparison of Goldoni's Five-Act Verse Comedies with the Contemporaneous French Five-Act Comedies in Verse:\n",
    "Carlo Goldoni wrote five-act verse comedies between 1751 and 1759. We will compare them with the French comedies from the same time frame.\n",
    "1. Goldoni's comedies had higher mean values of the following features:\n",
    "    - The mean number of dramatic characters (11.88 vs. 11 in French comedies);\n",
    "    - The mobility coefficient (62.25 vs. 43.80);\n",
    "    - The percentage of non-dialogues (58.64% vs. 54.96%);\n",
    "    - The percentage of polylogues (38.74% vs. 35.71%).\n",
    "    - The percentage of monologues (19.65% vs. 19.25%), which was only slightly higher in Goldoni;\n",
    "    - The coefficient of unused dramatic characters (17.28 vs. 12.69);\n",
    "    - The percentage of discontinuous scenes (9.80% vs. 3.34%).\n",
    "\n",
    "2. Goldoni's comedies had lower mean values of the standard range of the number of speaking characters (1.21 in Goldoni vs. 1.23 in the French comedies), which was very still very close.\n",
    "3. The maximum number of speakers in Goldoni's five-act comedies was nine, whereas, in the French five-act verse comedies of that time, it was 11.\n",
    "3. Goldoni had a comedy with a scene without any speakers, whereas the French comedies of that period did not have such scenes.\n",
    "\n",
    "#### Comparison of Goldoni's Five-Act Verse Comedies with the Russian Five-Act Comedies in Verse of the Tentative Period One:\n",
    "1. Goldoni had higher mean values than the Russian comedies of the tentative Period One for the following features:\n",
    "    - The mean number of dramatic characters (11.88 vs. 11.50 in Russian);\n",
    "    - The mobility coefficient (62.25 vs. 53.17);\n",
    "    - The percentage of polylogues (38.74% vs. 38.11%), which was only slightly higher;\n",
    "    - The percentage of discontinuous scenes (9.8% vs. 6.05).\n",
    "\n",
    "2. Goldoni had lower mean values than the Russian comedies of the tentative Period One for the following features:\n",
    "    - The standard range of the number of speaking characters (1.21 vs. 1.48 in Russian);\n",
    "    - The percentage of non-dialogues (58.64% vs. 59.94%);\n",
    "    - The percentage of monologues (19.65% vs. 21.84%);\n",
    "    - The coefficient of unused dramatic characters (17.28 vs. 19.04).\n",
    "3. The maximum number of speakers in Goldoni was 9, whereas in the Russian comedies of the tentative Period One, it was 12.\n",
    "\n",
    "#### Comparison of Goldoni's Five-Act Verse Comedies with the Russian Five-Act Comedies in Verse of the Tentative Period Two:\n",
    "- Goldoni had lower mean values than the Russian five-act verse comedies of the tentative Period Two in all features, except for the mobility coefficient (62.25 in Goldoni vs. 61.60 in Russian comedies) and the percentage of discontinuous scenes (9.80 vs. 6.55 in Russian comedies).\n",
    "\n",
    "- The maximum number of speakers in Goldoni was 9, whereas in the Russian comedies of the tentative Period Two, it was 13."
   ]
  },
  {
   "cell_type": "markdown",
   "metadata": {},
   "source": [
    "### Principal Component Analysis. Visualization of The Principal Components"
   ]
  },
  {
   "cell_type": "markdown",
   "metadata": {},
   "source": [
    "In this section, we will reduce our eight features using a dimensionality reduction technique called Principal Component Analysis (PCA). This technique allows to reduce the number of dimensions while preserving the largest amount of variance in the data. To read more about PCA, refer to Géron Aurélen. \"Dimensionality Reduction. PCA.\" In *Hands-On Machine Learning with Scikit-Learn & TensorFlow*, 213-223. Bejing, Boston, Farnham, Sebastopol, Tokyo: O'Reily, 2017.\n",
    "\n",
    "We will bring the data to scale by turning each data point into a z-score (using sklearn's StandardScaler) and project our data into two dimensions so that we can visualize."
   ]
  },
  {
   "cell_type": "code",
   "execution_count": 60,
   "metadata": {},
   "outputs": [],
   "source": [
    "selected_features = ['num_present_characters',\n",
    "                    'mobility_coefficient', \n",
    "                    'standard_range', \n",
    "                    'percentage_non_dialogues',\n",
    "                    'percentage_polylogues',\n",
    "                    'percentage_monologues',\n",
    "                    'coefficient_unused',\n",
    "                    'discontinuous_scenes', \n",
    "                    'title']"
   ]
  },
  {
   "cell_type": "code",
   "execution_count": 61,
   "metadata": {},
   "outputs": [],
   "source": [
    "french_selection = french_sorted_comedies.loc[:, selected_features].copy()\n",
    "russian_selection = russian_comedies_df.loc[:, selected_features].copy()\n",
    "shakespeare_selection = shakespeare_df.loc[:, selected_features].copy()\n",
    "goldoni_selection = goldoni_df.loc[:, selected_features].copy()"
   ]
  },
  {
   "cell_type": "code",
   "execution_count": 62,
   "metadata": {},
   "outputs": [],
   "source": [
    "# bring the data to the same scale\n",
    "scaler = StandardScaler()\n",
    "french_scaled = scaler.fit_transform(french_selection.iloc[:, :-1])\n",
    "russian_scaled = scaler.transform(russian_selection.iloc[:, :-1])\n",
    "shakespeare_scaled = scaler.transform(shakespeare_selection.iloc[:, :-1])\n",
    "goldoni_scaled = scaler.transform(goldoni_selection.iloc[:, :-1])"
   ]
  },
  {
   "cell_type": "code",
   "execution_count": 63,
   "metadata": {},
   "outputs": [],
   "source": [
    "# turn rescaled data into dataframes with a column source\n",
    "russian_scaled_df = pd.DataFrame(russian_scaled)\n",
    "russian_scaled_df['title'] = russian_selection.iloc[:, -1]\n",
    "russian_scaled_df['source'] = 'Russian'\n",
    "\n",
    "french_scaled_df = pd.DataFrame(french_scaled)\n",
    "french_scaled_df['title'] = french_selection.iloc[:, -1]\n",
    "french_scaled_df['source'] = 'French'\n",
    "\n",
    "shakespeare_scaled_df = pd.DataFrame(shakespeare_scaled)\n",
    "shakespeare_scaled_df['title'] = shakespeare_selection.iloc[:, -1]\n",
    "shakespeare_scaled_df['source'] = 'Shakespeare'\n",
    "\n",
    "goldoni_scaled_df = pd.DataFrame(goldoni_scaled)\n",
    "goldoni_scaled_df['title'] = goldoni_selection.iloc[:, -1].tolist()\n",
    "goldoni_scaled_df['source'] = 'Goldoni'"
   ]
  },
  {
   "cell_type": "code",
   "execution_count": 64,
   "metadata": {},
   "outputs": [],
   "source": [
    "# combine these dataframes into one\n",
    "combined_df = pd.concat([russian_scaled_df, french_scaled_df, shakespeare_scaled_df, goldoni_scaled_df])\n",
    "combined_df.columns = selected_features + ['source']"
   ]
  },
  {
   "cell_type": "markdown",
   "metadata": {},
   "source": [
    "### Principal Component Analysis"
   ]
  },
  {
   "cell_type": "code",
   "execution_count": 65,
   "metadata": {},
   "outputs": [],
   "source": [
    "#transform them into two dimensions\n",
    "pca = PCA(n_components=2)\n",
    "pca_transformed = pca.fit_transform(combined_df.iloc[:, :-2]) # exclude source and title columns"
   ]
  },
  {
   "cell_type": "code",
   "execution_count": 66,
   "metadata": {},
   "outputs": [],
   "source": [
    "combined_df['PCA_Component_1'] = pca_transformed[:, 0]\n",
    "combined_df['PCA_Component_2'] = pca_transformed[:, 1]"
   ]
  },
  {
   "cell_type": "code",
   "execution_count": 67,
   "metadata": {},
   "outputs": [
    {
     "data": {
      "text/plain": [
       "PCA_Component_1             1.00\n",
       "num_present_characters      0.87\n",
       "coefficient_unused          0.84\n",
       "mobility_coefficient        0.59\n",
       "standard_range              0.49\n",
       "percentage_non_dialogues    0.48\n",
       "percentage_polylogues       0.36\n",
       "discontinuous_scenes        0.07\n",
       "PCA_Component_2             0.00\n",
       "percentage_monologues      -0.07\n",
       "Name: PCA_Component_1, dtype: float64"
      ]
     },
     "execution_count": 67,
     "metadata": {},
     "output_type": "execute_result"
    }
   ],
   "source": [
    "# investigage which features are most correlated with the first principal component\n",
    "combined_df.corr()['PCA_Component_1'].round(2).sort_values(ascending=False)"
   ]
  },
  {
   "cell_type": "code",
   "execution_count": 68,
   "metadata": {},
   "outputs": [
    {
     "data": {
      "text/plain": [
       "PCA_Component_2             1.00\n",
       "percentage_polylogues       0.88\n",
       "percentage_non_dialogues    0.58\n",
       "standard_range              0.56\n",
       "PCA_Component_1             0.00\n",
       "discontinuous_scenes       -0.02\n",
       "num_present_characters     -0.12\n",
       "coefficient_unused         -0.20\n",
       "mobility_coefficient       -0.56\n",
       "percentage_monologues      -0.72\n",
       "Name: PCA_Component_2, dtype: float64"
      ]
     },
     "execution_count": 68,
     "metadata": {},
     "output_type": "execute_result"
    }
   ],
   "source": [
    "# investigage which features are most correlated with the second principal component\n",
    "combined_df.corr()['PCA_Component_2'].round(2).sort_values(ascending=False)"
   ]
  },
  {
   "cell_type": "markdown",
   "metadata": {},
   "source": [
    "#### Principal Component 1\n",
    "The first principal component mainly characterizes such features as the number of number of dramatic characters, the coefficient of unused dramatic characters, the mobility coefficient, and, to a lesser extent, the standard range and the percentage of non-dialogues. For the most part, this principal component captures information about dramatic characters, their movement, and non-utilization in dialogue. \n",
    "\n",
    "#### Principal Component 2\n",
    "The second principal component has a positive association with the percentage of polylogues, non-dialogues and the standard range whereas it had a negative association with the percentage of monologues and the mobility coefficient. This principal component caputured mainly the information about dramatic characters' speech."
   ]
  },
  {
   "cell_type": "code",
   "execution_count": 82,
   "metadata": {},
   "outputs": [
    {
     "data": {
      "image/jpeg": "[encoded data removed]"
     },
     "metadata": {},
     "output_type": "display_data"
    }
   ],
   "source": [
    "fig = px.scatter(combined_df, x='PCA_Component_1', y='PCA_Component_2',\n",
    "               color='source', hover_data=['title'], \n",
    "                 title='The Principal Components of The Russian, French, Shakespeare and Goldoni\\'s Comedies')\n",
    "\n",
    "fig.add_annotation(x=combined_df[combined_df.title == 'I morbinosi']['PCA_Component_1'].values[0], \n",
    "                   y=combined_df[combined_df.title == 'I morbinosi']['PCA_Component_2'].values[0],\n",
    "            text='I morbinosi',\n",
    "            showarrow=True,\n",
    "            arrowhead=1)\n",
    "fig.add_annotation(x=combined_df[combined_df.title == 'Iabeda']['PCA_Component_1'].values[0], \n",
    "                   y=combined_df[combined_df.title == 'Iabeda']['PCA_Component_2'].values[0],\n",
    "            text='Iabeda',\n",
    "            showarrow=True,\n",
    "            arrowhead=1)\n",
    "fig.add_annotation(x=combined_df[combined_df.title == 'Chudnyia vstrechi']['PCA_Component_1'].values[0], \n",
    "                   y=combined_df[combined_df.title == 'Chudnyia vstrechi']['PCA_Component_2'].values[0],\n",
    "            text='Chudnyia vstrechi',\n",
    "            showarrow=True,\n",
    "            arrowhead=1,\n",
    "            ax=60, \n",
    "            ay=-60)\n",
    "\n",
    "fig.add_annotation(x=combined_df[combined_df.title == 'V sem\\'\\'e ne bez uroda']['PCA_Component_1'].values[0], \n",
    "                   y=combined_df[combined_df.title == 'V sem\\'\\'e ne bez uroda']['PCA_Component_2'].values[0],\n",
    "            text='V sem\\'\\'e ne bez uroda',\n",
    "            showarrow=True,\n",
    "            arrowhead=1, \n",
    "            ax=60, \n",
    "            ay=-30)\n",
    "\n",
    "fig.add_annotation(x=combined_df[combined_df.title == 'Zhiteiiskaia shkola']['PCA_Component_1'].values[0], \n",
    "                   y=combined_df[combined_df.title == 'Zhiteiiskaia shkola']['PCA_Component_2'].values[0],\n",
    "            text='Zhiteiiskaia shkola',\n",
    "            showarrow=True,\n",
    "            arrowhead=1, \n",
    "            ax=-60, \n",
    "            ay=-40)\n",
    "\n",
    "fig.add_annotation(x=combined_df[combined_df.title == 'Les Jésuites, ou les autres Tartuffes ']['PCA_Component_1'].values[0], \n",
    "                   y=combined_df[combined_df.title == 'Les Jésuites, ou les autres Tartuffes ']['PCA_Component_2'].values[0],\n",
    "            text='Les Jésuites, ou les autres Tartuffes ',\n",
    "            showarrow=True,\n",
    "            arrowhead=1, \n",
    "            ax=150, \n",
    "            ay=-40)\n",
    "\n",
    "fig.add_annotation(x=combined_df[combined_df.title == 'Les Jésuites, ou les autres Tartuffes ']['PCA_Component_1'].values[0], \n",
    "                   y=combined_df[combined_df.title == 'Les Jésuites, ou les autres Tartuffes ']['PCA_Component_2'].values[0],\n",
    "            text='Les Jésuites, ou les autres Tartuffes ',\n",
    "            showarrow=True,\n",
    "            arrowhead=1, \n",
    "            ax=150, \n",
    "            ay=-40)\n",
    "\n",
    "fig.add_annotation(x=combined_df[combined_df.title == 'Il cavaliere di spirito o sia La donna di testa debole']['PCA_Component_1'].values[0], \n",
    "                   y=combined_df[combined_df.title == 'Il cavaliere di spirito o sia La donna di testa debole']['PCA_Component_2'].values[0],\n",
    "            text='Il cavaliere di spirito',\n",
    "            showarrow=True,\n",
    "            arrowhead=1, \n",
    "            ax=-10, \n",
    "            ay=20)\n",
    "\n",
    "fig.show()"
   ]
  },
  {
   "cell_type": "code",
   "execution_count": 94,
   "metadata": {},
   "outputs": [],
   "source": [
    "# save an interactive visualization on plotly's chart studio so that it can be rendered on github\n",
    "import chart_studio\n",
    "import chart_studio.plotly as py\n",
    "\n",
    "with open('creds.json') as json_file:\n",
    "    creds = json.load(json_file)\n",
    "\n",
    "chart_studio.tools.set_credentials_file(username=creds['user_name'], api_key=creds['API_key'])\n",
    "\n",
    "import chart_studio.plotly as py\n",
    "py.plot(fig, filename = 'pca_visualization', auto_open=True)"
   ]
  },
  {
   "cell_type": "code",
   "execution_count": 104,
   "metadata": {},
   "outputs": [
    {
     "data": {
      "text/html": [
       "\n",
       "        <iframe\n",
       "            width=\"1000\"\n",
       "            height=\"600\"\n",
       "            src=\"https://chart-studio.plotly.com/~innafomina/3/#/\"\n",
       "            frameborder=\"0\"\n",
       "            allowfullscreen\n",
       "        ></iframe>\n",
       "        "
      ],
      "text/plain": [
       "<IPython.lib.display.IFrame at 0x7f8757a1da10>"
      ]
     },
     "execution_count": 104,
     "metadata": {},
     "output_type": "execute_result"
    }
   ],
   "source": [
    "# display the saved visualization\n",
    "from IPython.display import IFrame\n",
    "IFrame(src='https://chart-studio.plotly.com/~innafomina/3/#/', width=1000, height=600)"
   ]
  },
  {
   "cell_type": "code",
   "execution_count": null,
   "metadata": {},
   "outputs": [],
   "source": []
  },
  {
   "cell_type": "markdown",
   "metadata": {},
   "source": [
    "From the visualization of the two principal components, it is evident that Shakespeare's comedies form a separate cluster from the French tradition, mainly based on the first principal component that describes dramatic characters, their mobility, and non-utilization in dialogue. Based on the second principal component characterizing dramatic characters' speech, Shakespeare's comedies are far removed from the French comedies. \n",
    "\n",
    "The Russian five-act verse comedies mostly fit within the French cluster with a few notable exceptions: Vasilii\tKapnist's *Iabeda* (1794), Anonymous's *V sem''e ne bez uroda* (1813), Boris Fedorov's\t*Chudnyia vstrechi* (1818), and Petr Grigor’ev's *Zhiteiiskaia shkola* (1849). The last two comedies appear within with \"Shakespearean\" cluster. \n",
    "\n",
    "Goldoni's comedies, for the most part, fit within the French tradition. Only two comedies maintain a distance (*I morbinosi* (1759) in the Venetian dialect) and *Il cavaliere di spirito* (1757).\n",
    "\n",
    "The only French comedy within the \"Shakespearean\" cluster is Étienne Gosse's *Les Jésuites, ou les autres Tartuffes* (1827). This comedy had both the highest number of dramatic characters and the highest mobility coefficient for its period.\n",
    "\n",
    "Shakespeare's two earlier comedies, *The Two Gentlemen of Verona* (1593) and *The Comedy of Errors* (1592) were the closest to the French cluster."
   ]
  },
  {
   "cell_type": "markdown",
   "metadata": {},
   "source": [
    "## Conclusions:\n",
    "1. In two tentative periods, Russian comedies had higher mean values than the contemporaneous French. However, our principal component analysis and its visualization showed that most of the Russian five-act verse comedies (75%) fit within the French tradition. The remaining 25% of the Russian five-act comedies lie outside of the French cluster. These comedies include Vasilii Kapnist's *Iabeda* (1794), Anonymous's *V sem''e ne bez uroda* (1813), Boris Fedorov's *Chudnyia vstrechi* (1818), and Petr Grigor’ev's *Zhiteiiskaia shkola* (1849). \n",
    "\n",
    "\n",
    "2. Based on the first principal component characterizing dramatic characters, their movement, and non-utilization in dialogue, the French, and the Italian  (as represented by Goldoni) and most of the Russian (75%) traditions were very dissimilar from Shakespeare. Such features as the number of dramatic characters, their mobility, and the coefficient of unused dramatic characters most likely differentiated the continental, French-Italian tradition, which served as a model for most of the Russians, from the English tradition. The remaining 25% of the Russian five-act comedies, including a famous *Iabeda* (1794) maintained a distance from the French tradition. Two comedies, *Chudnyia vstrechi* (1818), and Petr Grigor’ev's *Zhiteiiskaia shkola* fit with the \"Shakespearean\" cluster. It will be insightful to repeat the process and investigate the place of the four-act verse comedies.\n",
    "\n",
    "\n",
    "3. Based on the second principal component describing dramatic characters' speech, Shakespeare was far less \"distant\" from the continental tradition than based on the first principal component characterizing dramatic characters, their movement, and non-utilization in dialogue. In general, this principal component revealed more similarities between the continental and the English comic tradition - they appear to reflect a shared European taste."
   ]
  },
  {
   "cell_type": "markdown",
   "metadata": {},
   "source": [
    "## Part 2. Open-Form Scores"
   ]
  },
  {
   "cell_type": "markdown",
   "metadata": {},
   "source": [
    "The open-form score measures how experimental a style of a particular tradition during a specified decade is. Generation of open-form scores is described in detail in the following notebook: https://github.com/innawendell/European_Comedy/blob/master/Analyses/Open_Form_Scores_Evolution.ipynb. In our current analysis, we will calculate open-form scores for each tradition (Russian five-act verse comedies, French five-act verse comedies as well as Shakespeare's and Goldoni's five-act comedies in verse) by decades. Finally, we will trace and compare the evolution of these traditions."
   ]
  },
  {
   "cell_type": "code",
   "execution_count": 70,
   "metadata": {},
   "outputs": [],
   "source": [
    "french_original_comedies['decades'] = french_original_comedies.date.apply(decade)"
   ]
  },
  {
   "cell_type": "code",
   "execution_count": 71,
   "metadata": {},
   "outputs": [],
   "source": [
    "summary_french = scores_calculation(french_original_comedies, True)"
   ]
  },
  {
   "cell_type": "code",
   "execution_count": 72,
   "metadata": {},
   "outputs": [],
   "source": [
    "russian_comedies_df = russian_comedies_df.rename(columns={'standard_range': 'sigma_iarkho'})\n",
    "summary_russian = scores_calculation(russian_comedies_df, True, french_original_comedies)"
   ]
  },
  {
   "cell_type": "code",
   "execution_count": 73,
   "metadata": {},
   "outputs": [],
   "source": [
    "goldoni_df = goldoni_df.rename(columns={'standard_range': 'sigma_iarkho', 'date': 'creation_date'})\n",
    "shakespeare_df = shakespeare_df.rename(columns={'standard_range': 'sigma_iarkho', 'date': 'creation_date'})"
   ]
  },
  {
   "cell_type": "code",
   "execution_count": 74,
   "metadata": {},
   "outputs": [],
   "source": [
    "goldoni_df['decades'] = goldoni_df.creation_date.apply(decade)\n",
    "summary_goldoni = scores_calculation(goldoni_df , True, french_original_comedies)"
   ]
  },
  {
   "cell_type": "code",
   "execution_count": 75,
   "metadata": {},
   "outputs": [],
   "source": [
    "shakespeare_df['decades'] = shakespeare_df.creation_date.apply(decade)\n",
    "summary_shakespeare = scores_calculation(shakespeare_df , True, french_original_comedies)"
   ]
  },
  {
   "cell_type": "markdown",
   "metadata": {},
   "source": [
    "### Open-Form Scores For Shakespeare"
   ]
  },
  {
   "cell_type": "code",
   "execution_count": 76,
   "metadata": {},
   "outputs": [
    {
     "data": {
      "text/html": [
       "<div>\n",
       "<style scoped>\n",
       "    .dataframe tbody tr th:only-of-type {\n",
       "        vertical-align: middle;\n",
       "    }\n",
       "\n",
       "    .dataframe tbody tr th {\n",
       "        vertical-align: top;\n",
       "    }\n",
       "\n",
       "    .dataframe thead th {\n",
       "        text-align: right;\n",
       "    }\n",
       "</style>\n",
       "<table border=\"1\" class=\"dataframe\">\n",
       "  <thead>\n",
       "    <tr style=\"text-align: right;\">\n",
       "      <th></th>\n",
       "      <th>num_present_characters</th>\n",
       "      <th>mobility_coefficient</th>\n",
       "      <th>sigma_iarkho</th>\n",
       "      <th>polylogues</th>\n",
       "      <th>monologues</th>\n",
       "      <th>open_form_score</th>\n",
       "    </tr>\n",
       "    <tr>\n",
       "      <th>decades</th>\n",
       "      <th></th>\n",
       "      <th></th>\n",
       "      <th></th>\n",
       "      <th></th>\n",
       "      <th></th>\n",
       "      <th></th>\n",
       "    </tr>\n",
       "  </thead>\n",
       "  <tbody>\n",
       "    <tr>\n",
       "      <th>1600</th>\n",
       "      <td>5.01</td>\n",
       "      <td>3.52</td>\n",
       "      <td>0.03</td>\n",
       "      <td>-0.09</td>\n",
       "      <td>-0.52</td>\n",
       "      <td>1.59</td>\n",
       "    </tr>\n",
       "    <tr>\n",
       "      <th>1590</th>\n",
       "      <td>3.01</td>\n",
       "      <td>1.74</td>\n",
       "      <td>0.52</td>\n",
       "      <td>0.17</td>\n",
       "      <td>-0.60</td>\n",
       "      <td>0.97</td>\n",
       "    </tr>\n",
       "  </tbody>\n",
       "</table>\n",
       "</div>"
      ],
      "text/plain": [
       "         num_present_characters  mobility_coefficient  sigma_iarkho  \\\n",
       "decades                                                               \n",
       "1600                       5.01                  3.52          0.03   \n",
       "1590                       3.01                  1.74          0.52   \n",
       "\n",
       "         polylogues  monologues  open_form_score  \n",
       "decades                                           \n",
       "1600          -0.09       -0.52             1.59  \n",
       "1590           0.17       -0.60             0.97  "
      ]
     },
     "execution_count": 76,
     "metadata": {},
     "output_type": "execute_result"
    }
   ],
   "source": [
    "summary_shakespeare"
   ]
  },
  {
   "cell_type": "markdown",
   "metadata": {},
   "source": [
    "### Open-Form Scores For Goldoni"
   ]
  },
  {
   "cell_type": "code",
   "execution_count": 77,
   "metadata": {},
   "outputs": [
    {
     "data": {
      "text/html": [
       "<div>\n",
       "<style scoped>\n",
       "    .dataframe tbody tr th:only-of-type {\n",
       "        vertical-align: middle;\n",
       "    }\n",
       "\n",
       "    .dataframe tbody tr th {\n",
       "        vertical-align: top;\n",
       "    }\n",
       "\n",
       "    .dataframe thead th {\n",
       "        text-align: right;\n",
       "    }\n",
       "</style>\n",
       "<table border=\"1\" class=\"dataframe\">\n",
       "  <thead>\n",
       "    <tr style=\"text-align: right;\">\n",
       "      <th></th>\n",
       "      <th>num_present_characters</th>\n",
       "      <th>mobility_coefficient</th>\n",
       "      <th>sigma_iarkho</th>\n",
       "      <th>polylogues</th>\n",
       "      <th>monologues</th>\n",
       "      <th>open_form_score</th>\n",
       "    </tr>\n",
       "    <tr>\n",
       "      <th>decades</th>\n",
       "      <th></th>\n",
       "      <th></th>\n",
       "      <th></th>\n",
       "      <th></th>\n",
       "      <th></th>\n",
       "      <th></th>\n",
       "    </tr>\n",
       "  </thead>\n",
       "  <tbody>\n",
       "    <tr>\n",
       "      <th>1750</th>\n",
       "      <td>0.12</td>\n",
       "      <td>1.18</td>\n",
       "      <td>-0.04</td>\n",
       "      <td>0.13</td>\n",
       "      <td>-0.13</td>\n",
       "      <td>0.25</td>\n",
       "    </tr>\n",
       "  </tbody>\n",
       "</table>\n",
       "</div>"
      ],
      "text/plain": [
       "         num_present_characters  mobility_coefficient  sigma_iarkho  \\\n",
       "decades                                                               \n",
       "1750                       0.12                  1.18         -0.04   \n",
       "\n",
       "         polylogues  monologues  open_form_score  \n",
       "decades                                           \n",
       "1750           0.13       -0.13             0.25  "
      ]
     },
     "execution_count": 77,
     "metadata": {},
     "output_type": "execute_result"
    }
   ],
   "source": [
    "summary_goldoni"
   ]
  },
  {
   "cell_type": "markdown",
   "metadata": {},
   "source": [
    "### Open-Form Scores For Russian Five-Act Verse Comedies"
   ]
  },
  {
   "cell_type": "code",
   "execution_count": 78,
   "metadata": {},
   "outputs": [
    {
     "data": {
      "text/html": [
       "<div>\n",
       "<style scoped>\n",
       "    .dataframe tbody tr th:only-of-type {\n",
       "        vertical-align: middle;\n",
       "    }\n",
       "\n",
       "    .dataframe tbody tr th {\n",
       "        vertical-align: top;\n",
       "    }\n",
       "\n",
       "    .dataframe thead th {\n",
       "        text-align: right;\n",
       "    }\n",
       "</style>\n",
       "<table border=\"1\" class=\"dataframe\">\n",
       "  <thead>\n",
       "    <tr style=\"text-align: right;\">\n",
       "      <th></th>\n",
       "      <th>num_present_characters</th>\n",
       "      <th>mobility_coefficient</th>\n",
       "      <th>sigma_iarkho</th>\n",
       "      <th>polylogues</th>\n",
       "      <th>monologues</th>\n",
       "      <th>open_form_score</th>\n",
       "    </tr>\n",
       "    <tr>\n",
       "      <th>decades</th>\n",
       "      <th></th>\n",
       "      <th></th>\n",
       "      <th></th>\n",
       "      <th></th>\n",
       "      <th></th>\n",
       "      <th></th>\n",
       "    </tr>\n",
       "  </thead>\n",
       "  <tbody>\n",
       "    <tr>\n",
       "      <th>1810</th>\n",
       "      <td>1.12</td>\n",
       "      <td>0.73</td>\n",
       "      <td>1.31</td>\n",
       "      <td>0.91</td>\n",
       "      <td>0.17</td>\n",
       "      <td>0.85</td>\n",
       "    </tr>\n",
       "    <tr>\n",
       "      <th>1790</th>\n",
       "      <td>0.60</td>\n",
       "      <td>0.28</td>\n",
       "      <td>2.23</td>\n",
       "      <td>0.83</td>\n",
       "      <td>-0.03</td>\n",
       "      <td>0.78</td>\n",
       "    </tr>\n",
       "    <tr>\n",
       "      <th>1840</th>\n",
       "      <td>0.96</td>\n",
       "      <td>2.77</td>\n",
       "      <td>-0.21</td>\n",
       "      <td>-0.19</td>\n",
       "      <td>-0.05</td>\n",
       "      <td>0.66</td>\n",
       "    </tr>\n",
       "    <tr>\n",
       "      <th>1800</th>\n",
       "      <td>0.42</td>\n",
       "      <td>0.92</td>\n",
       "      <td>0.57</td>\n",
       "      <td>-1.06</td>\n",
       "      <td>-0.78</td>\n",
       "      <td>0.01</td>\n",
       "    </tr>\n",
       "    <tr>\n",
       "      <th>1780</th>\n",
       "      <td>0.25</td>\n",
       "      <td>0.64</td>\n",
       "      <td>-0.17</td>\n",
       "      <td>-0.18</td>\n",
       "      <td>-0.68</td>\n",
       "      <td>-0.03</td>\n",
       "    </tr>\n",
       "    <tr>\n",
       "      <th>1820</th>\n",
       "      <td>-0.64</td>\n",
       "      <td>1.24</td>\n",
       "      <td>1.01</td>\n",
       "      <td>-0.93</td>\n",
       "      <td>-1.13</td>\n",
       "      <td>-0.09</td>\n",
       "    </tr>\n",
       "    <tr>\n",
       "      <th>1770</th>\n",
       "      <td>-0.91</td>\n",
       "      <td>-0.24</td>\n",
       "      <td>-0.28</td>\n",
       "      <td>-1.54</td>\n",
       "      <td>-1.41</td>\n",
       "      <td>-0.88</td>\n",
       "    </tr>\n",
       "  </tbody>\n",
       "</table>\n",
       "</div>"
      ],
      "text/plain": [
       "         num_present_characters  mobility_coefficient  sigma_iarkho  \\\n",
       "decades                                                               \n",
       "1810                       1.12                  0.73          1.31   \n",
       "1790                       0.60                  0.28          2.23   \n",
       "1840                       0.96                  2.77         -0.21   \n",
       "1800                       0.42                  0.92          0.57   \n",
       "1780                       0.25                  0.64         -0.17   \n",
       "1820                      -0.64                  1.24          1.01   \n",
       "1770                      -0.91                 -0.24         -0.28   \n",
       "\n",
       "         polylogues  monologues  open_form_score  \n",
       "decades                                           \n",
       "1810           0.91        0.17             0.85  \n",
       "1790           0.83       -0.03             0.78  \n",
       "1840          -0.19       -0.05             0.66  \n",
       "1800          -1.06       -0.78             0.01  \n",
       "1780          -0.18       -0.68            -0.03  \n",
       "1820          -0.93       -1.13            -0.09  \n",
       "1770          -1.54       -1.41            -0.88  "
      ]
     },
     "execution_count": 78,
     "metadata": {},
     "output_type": "execute_result"
    }
   ],
   "source": [
    "summary_russian"
   ]
  },
  {
   "cell_type": "markdown",
   "metadata": {},
   "source": [
    "### Open-Form Scores For French Five-Act Verse Comedies"
   ]
  },
  {
   "cell_type": "code",
   "execution_count": 79,
   "metadata": {},
   "outputs": [
    {
     "data": {
      "text/html": [
       "<div>\n",
       "<style scoped>\n",
       "    .dataframe tbody tr th:only-of-type {\n",
       "        vertical-align: middle;\n",
       "    }\n",
       "\n",
       "    .dataframe tbody tr th {\n",
       "        vertical-align: top;\n",
       "    }\n",
       "\n",
       "    .dataframe thead th {\n",
       "        text-align: right;\n",
       "    }\n",
       "</style>\n",
       "<table border=\"1\" class=\"dataframe\">\n",
       "  <thead>\n",
       "    <tr style=\"text-align: right;\">\n",
       "      <th></th>\n",
       "      <th>num_present_characters</th>\n",
       "      <th>mobility_coefficient</th>\n",
       "      <th>sigma_iarkho</th>\n",
       "      <th>polylogues</th>\n",
       "      <th>monologues</th>\n",
       "      <th>open_form_score</th>\n",
       "    </tr>\n",
       "    <tr>\n",
       "      <th>decades</th>\n",
       "      <th></th>\n",
       "      <th></th>\n",
       "      <th></th>\n",
       "      <th></th>\n",
       "      <th></th>\n",
       "      <th></th>\n",
       "    </tr>\n",
       "  </thead>\n",
       "  <tbody>\n",
       "    <tr>\n",
       "      <th>1830</th>\n",
       "      <td>2.20</td>\n",
       "      <td>0.98</td>\n",
       "      <td>0.57</td>\n",
       "      <td>0.13</td>\n",
       "      <td>-0.06</td>\n",
       "      <td>0.76</td>\n",
       "    </tr>\n",
       "    <tr>\n",
       "      <th>1650</th>\n",
       "      <td>0.31</td>\n",
       "      <td>-0.75</td>\n",
       "      <td>0.25</td>\n",
       "      <td>0.90</td>\n",
       "      <td>1.02</td>\n",
       "      <td>0.35</td>\n",
       "    </tr>\n",
       "    <tr>\n",
       "      <th>1680</th>\n",
       "      <td>0.96</td>\n",
       "      <td>0.08</td>\n",
       "      <td>-0.39</td>\n",
       "      <td>0.51</td>\n",
       "      <td>0.42</td>\n",
       "      <td>0.32</td>\n",
       "    </tr>\n",
       "    <tr>\n",
       "      <th>1670</th>\n",
       "      <td>0.45</td>\n",
       "      <td>0.09</td>\n",
       "      <td>0.10</td>\n",
       "      <td>0.43</td>\n",
       "      <td>0.50</td>\n",
       "      <td>0.31</td>\n",
       "    </tr>\n",
       "    <tr>\n",
       "      <th>1840</th>\n",
       "      <td>-0.02</td>\n",
       "      <td>0.90</td>\n",
       "      <td>0.42</td>\n",
       "      <td>-0.12</td>\n",
       "      <td>0.07</td>\n",
       "      <td>0.25</td>\n",
       "    </tr>\n",
       "    <tr>\n",
       "      <th>1660</th>\n",
       "      <td>-0.01</td>\n",
       "      <td>-0.50</td>\n",
       "      <td>0.30</td>\n",
       "      <td>0.46</td>\n",
       "      <td>0.68</td>\n",
       "      <td>0.19</td>\n",
       "    </tr>\n",
       "    <tr>\n",
       "      <th>1810</th>\n",
       "      <td>-0.19</td>\n",
       "      <td>0.28</td>\n",
       "      <td>0.30</td>\n",
       "      <td>0.38</td>\n",
       "      <td>-0.08</td>\n",
       "      <td>0.14</td>\n",
       "    </tr>\n",
       "    <tr>\n",
       "      <th>1790</th>\n",
       "      <td>0.05</td>\n",
       "      <td>0.50</td>\n",
       "      <td>0.18</td>\n",
       "      <td>-0.03</td>\n",
       "      <td>-0.30</td>\n",
       "      <td>0.08</td>\n",
       "    </tr>\n",
       "    <tr>\n",
       "      <th>1800</th>\n",
       "      <td>-0.14</td>\n",
       "      <td>0.49</td>\n",
       "      <td>0.05</td>\n",
       "      <td>0.04</td>\n",
       "      <td>-0.05</td>\n",
       "      <td>0.08</td>\n",
       "    </tr>\n",
       "    <tr>\n",
       "      <th>1640</th>\n",
       "      <td>-0.34</td>\n",
       "      <td>-0.46</td>\n",
       "      <td>-0.03</td>\n",
       "      <td>0.42</td>\n",
       "      <td>0.81</td>\n",
       "      <td>0.08</td>\n",
       "    </tr>\n",
       "    <tr>\n",
       "      <th>1820</th>\n",
       "      <td>0.07</td>\n",
       "      <td>0.50</td>\n",
       "      <td>0.42</td>\n",
       "      <td>-0.11</td>\n",
       "      <td>-0.51</td>\n",
       "      <td>0.07</td>\n",
       "    </tr>\n",
       "    <tr>\n",
       "      <th>1700</th>\n",
       "      <td>-0.11</td>\n",
       "      <td>0.01</td>\n",
       "      <td>0.00</td>\n",
       "      <td>0.26</td>\n",
       "      <td>0.16</td>\n",
       "      <td>0.06</td>\n",
       "    </tr>\n",
       "    <tr>\n",
       "      <th>1750</th>\n",
       "      <td>-0.24</td>\n",
       "      <td>-0.29</td>\n",
       "      <td>-0.00</td>\n",
       "      <td>0.15</td>\n",
       "      <td>0.11</td>\n",
       "      <td>-0.05</td>\n",
       "    </tr>\n",
       "    <tr>\n",
       "      <th>1710</th>\n",
       "      <td>-0.16</td>\n",
       "      <td>0.36</td>\n",
       "      <td>-0.24</td>\n",
       "      <td>-0.28</td>\n",
       "      <td>0.01</td>\n",
       "      <td>-0.06</td>\n",
       "    </tr>\n",
       "    <tr>\n",
       "      <th>1690</th>\n",
       "      <td>-0.01</td>\n",
       "      <td>0.20</td>\n",
       "      <td>-0.12</td>\n",
       "      <td>-0.26</td>\n",
       "      <td>-0.26</td>\n",
       "      <td>-0.09</td>\n",
       "    </tr>\n",
       "    <tr>\n",
       "      <th>1760</th>\n",
       "      <td>-0.18</td>\n",
       "      <td>-0.22</td>\n",
       "      <td>-0.07</td>\n",
       "      <td>-0.11</td>\n",
       "      <td>-0.22</td>\n",
       "      <td>-0.16</td>\n",
       "    </tr>\n",
       "    <tr>\n",
       "      <th>1720</th>\n",
       "      <td>-0.32</td>\n",
       "      <td>0.24</td>\n",
       "      <td>-0.04</td>\n",
       "      <td>-0.29</td>\n",
       "      <td>-0.86</td>\n",
       "      <td>-0.25</td>\n",
       "    </tr>\n",
       "    <tr>\n",
       "      <th>1780</th>\n",
       "      <td>-0.06</td>\n",
       "      <td>0.49</td>\n",
       "      <td>-0.44</td>\n",
       "      <td>-0.64</td>\n",
       "      <td>-0.64</td>\n",
       "      <td>-0.26</td>\n",
       "    </tr>\n",
       "    <tr>\n",
       "      <th>1630</th>\n",
       "      <td>-0.13</td>\n",
       "      <td>-0.90</td>\n",
       "      <td>0.15</td>\n",
       "      <td>-0.24</td>\n",
       "      <td>-0.30</td>\n",
       "      <td>-0.28</td>\n",
       "    </tr>\n",
       "    <tr>\n",
       "      <th>1730</th>\n",
       "      <td>-0.45</td>\n",
       "      <td>0.08</td>\n",
       "      <td>-0.60</td>\n",
       "      <td>-0.62</td>\n",
       "      <td>-0.50</td>\n",
       "      <td>-0.42</td>\n",
       "    </tr>\n",
       "    <tr>\n",
       "      <th>1740</th>\n",
       "      <td>-0.57</td>\n",
       "      <td>-0.25</td>\n",
       "      <td>-0.67</td>\n",
       "      <td>-0.72</td>\n",
       "      <td>-0.08</td>\n",
       "      <td>-0.46</td>\n",
       "    </tr>\n",
       "    <tr>\n",
       "      <th>1770</th>\n",
       "      <td>-0.14</td>\n",
       "      <td>-0.03</td>\n",
       "      <td>-0.52</td>\n",
       "      <td>-1.22</td>\n",
       "      <td>-0.93</td>\n",
       "      <td>-0.57</td>\n",
       "    </tr>\n",
       "    <tr>\n",
       "      <th>1620</th>\n",
       "      <td>-0.91</td>\n",
       "      <td>-0.73</td>\n",
       "      <td>-0.90</td>\n",
       "      <td>-1.11</td>\n",
       "      <td>-1.38</td>\n",
       "      <td>-1.01</td>\n",
       "    </tr>\n",
       "  </tbody>\n",
       "</table>\n",
       "</div>"
      ],
      "text/plain": [
       "         num_present_characters  mobility_coefficient  sigma_iarkho  \\\n",
       "decades                                                               \n",
       "1830                       2.20                  0.98          0.57   \n",
       "1650                       0.31                 -0.75          0.25   \n",
       "1680                       0.96                  0.08         -0.39   \n",
       "1670                       0.45                  0.09          0.10   \n",
       "1840                      -0.02                  0.90          0.42   \n",
       "1660                      -0.01                 -0.50          0.30   \n",
       "1810                      -0.19                  0.28          0.30   \n",
       "1790                       0.05                  0.50          0.18   \n",
       "1800                      -0.14                  0.49          0.05   \n",
       "1640                      -0.34                 -0.46         -0.03   \n",
       "1820                       0.07                  0.50          0.42   \n",
       "1700                      -0.11                  0.01          0.00   \n",
       "1750                      -0.24                 -0.29         -0.00   \n",
       "1710                      -0.16                  0.36         -0.24   \n",
       "1690                      -0.01                  0.20         -0.12   \n",
       "1760                      -0.18                 -0.22         -0.07   \n",
       "1720                      -0.32                  0.24         -0.04   \n",
       "1780                      -0.06                  0.49         -0.44   \n",
       "1630                      -0.13                 -0.90          0.15   \n",
       "1730                      -0.45                  0.08         -0.60   \n",
       "1740                      -0.57                 -0.25         -0.67   \n",
       "1770                      -0.14                 -0.03         -0.52   \n",
       "1620                      -0.91                 -0.73         -0.90   \n",
       "\n",
       "         polylogues  monologues  open_form_score  \n",
       "decades                                           \n",
       "1830           0.13       -0.06             0.76  \n",
       "1650           0.90        1.02             0.35  \n",
       "1680           0.51        0.42             0.32  \n",
       "1670           0.43        0.50             0.31  \n",
       "1840          -0.12        0.07             0.25  \n",
       "1660           0.46        0.68             0.19  \n",
       "1810           0.38       -0.08             0.14  \n",
       "1790          -0.03       -0.30             0.08  \n",
       "1800           0.04       -0.05             0.08  \n",
       "1640           0.42        0.81             0.08  \n",
       "1820          -0.11       -0.51             0.07  \n",
       "1700           0.26        0.16             0.06  \n",
       "1750           0.15        0.11            -0.05  \n",
       "1710          -0.28        0.01            -0.06  \n",
       "1690          -0.26       -0.26            -0.09  \n",
       "1760          -0.11       -0.22            -0.16  \n",
       "1720          -0.29       -0.86            -0.25  \n",
       "1780          -0.64       -0.64            -0.26  \n",
       "1630          -0.24       -0.30            -0.28  \n",
       "1730          -0.62       -0.50            -0.42  \n",
       "1740          -0.72       -0.08            -0.46  \n",
       "1770          -1.22       -0.93            -0.57  \n",
       "1620          -1.11       -1.38            -1.01  "
      ]
     },
     "execution_count": 79,
     "metadata": {},
     "output_type": "execute_result"
    }
   ],
   "source": [
    "summary_french"
   ]
  },
  {
   "cell_type": "code",
   "execution_count": 80,
   "metadata": {},
   "outputs": [
    {
     "data": {
      "image/png": "[encoded data removed]",
      "text/plain": [
       "<Figure size 1080x576 with 1 Axes>"
      ]
     },
     "metadata": {
      "needs_background": "light"
     },
     "output_type": "display_data"
    }
   ],
   "source": [
    "plt.figure(figsize=(15, 8))\n",
    "plt.title('Open-Form Scores by Tradition and Decade', fontsize=20, pad=30)\n",
    "plt.scatter(summary_french.index.tolist(), \n",
    "            summary_french['open_form_score'], \n",
    "            color='blue', \n",
    "            marker='v', \n",
    "            label='French five-act comedies')\n",
    "\n",
    "plt.scatter(summary_russian.index.tolist(), \n",
    "            summary_russian['open_form_score'], \n",
    "            marker='s', \n",
    "            color='#FF3355', \n",
    "            label='Russian five-act comedies')\n",
    "\n",
    "\n",
    "plt.scatter(summary_goldoni.index.tolist(), \n",
    "            summary_goldoni['open_form_score'], \n",
    "            marker=\"o\", \n",
    "            color='#F7AA41', \n",
    "            label='Goldoni')\n",
    "\n",
    "plt.scatter(summary_shakespeare.index.tolist(), \n",
    "            summary_shakespeare['open_form_score'], \n",
    "            marker=\"D\", \n",
    "            color='#25EEFF', \n",
    "            label='Shakespeare')\n",
    "\n",
    "\n",
    "plt.xticks(summary_french.index.tolist() + [1590, 1600], rotation=90)\n",
    "plt.ylabel('Open-Form Scores', fontsize=15)\n",
    "plt.xlabel('Decades', fontsize=15)\n",
    "plt.axvline(1695, color='grey',linestyle='dashed', linewidth=2)\n",
    "plt.axvline(1795, color='grey',linestyle='dashed', linewidth=2)\n",
    "plt.text(1695.5, 1.1, '1695')\n",
    "plt.text(1795.5, 1.1, '1795')\n",
    "plt.legend()\n",
    "plt.show()"
   ]
  },
  {
   "cell_type": "markdown",
   "metadata": {},
   "source": [
    "### Summary:\n",
    "1. Shakespeare's five-act verse comedies were the most experimental in the examined material. Shakespeare's five-act verse comedies of the 1600s were more experimental (open-form score = 1.59) that his comedies of the 1590s (0.97).\n",
    "2. Goldoni's comedies were more open that French comedies of the 1750s (open-form score for Goldoni = 0.25, French = -0.05).\n",
    "3. The evolution of the open-form scores of the Russian five-act verse comedy revealed peculiar trends: \n",
    "    - In the 1770s, it was less experimental (open-form score = -0.88) than the French comedies of the same decade (open-form score = -0.57). In fact, the score was almost as low as the French comedy of 1620s (Pierre Corneille's *Mélite* with the open-form score = -1.01).\n",
    "    - In the 1780s, the Russian comedies had a slightly higher open-form score than the contemporaneous French comedies.\n",
    "    - In the 1790s, the Russian comedies had a much higher open-form score (0.78) than the contemporaneous French comedies (0.08).\n",
    "    - In the 1800s, the Russian comedies had a very similar open-form score (0.01) to the French (0.08).\n",
    "    - In the 1810s, the Russian comedies again had a much higher open-form score  (0.85) than the the contemporaneous French comedies (0.14).\n",
    "    - In the 1820, the Russian comedies were even more closed (-0.09) than the French (0.07).\n",
    "    - In the 1840s, the Russian comedies were more open (0.66) than the French (0.25).\n",
    "   "
   ]
  },
  {
   "cell_type": "markdown",
   "metadata": {},
   "source": [
    "### Conclusions:\n",
    "1. The evolution curve of the French five-act comedies in verse had a wave-like shape with alternating open and closed forms.\n",
    "2. The periods of most openness in the French comedy included\n",
    "    - the Molièrean period (1650 to 1680), which was very far from the openness of Shakespeare;\n",
    "    - the late Romantic period (1830 - 1840), the first half of which (the 1830s) almost approached the openness of Shakespeare of the 1590s and exceeded the openness the Molièrean period. The second half (the 1840s), did not reach the openness of the Molièrean period and also below the contemporaneous Russian comedies of the time.\n",
    "    - the 1750s - 1760s revealed an increase in openness. This question requires further investigation.\n",
    "2. The Russian evolution did not have a wave-shaped curve: since the 1790s, the open and closed forms co-existed (the appearing alternation of the open and closed forms between decades on the graph is simply the result of grouping by decades. In reality, if we were to examine each individual comedy, we would find both closed and open forms co-existing).\n",
    "3. The French tradition could have been influential for the Russian five-act comedies in verse of the 1770s, 1780s, 1800s, and 1820s. During the 1790s, 1810s, and 1840s, the Russian five-act comedies in verse tended to be more experimental and potentially influenced by another tradition. \n",
    "3. Based on the principal component characterizing dramatic characters, their movements, and non-utilization in dialogue, most of the Russian five-act verse comedies (75%) clustered with the French tradition. The remaining 25%, Vasilii Kapnist's Iabeda (1794), Anonymous's V sem''e ne bez uroda (1813), Boris Fedorov's Chudnyia vstrechi (1818), and Petr Grigor’ev's Zhiteiiskaia shkola (1849), maintained a distance from the French tradition. These comedies could explain why the 1790s, 1810s, and 1840s were more experimental. Based on this principal component, the last two comedies even approached Shakespeare.\n",
    "4. Shakespeare's five-act verse comedies were the most experimental in form out of all five-act verse comedies we analyzed. This is particularly true of the features describing dramatic characters, their movements, and non-utilization in dialogue. Based on principal component describing dramatic characters' speech, Shakespeare was not as distant from the continental French-Italian comic tradition.\n",
    "5. Based on the analysis of the mean values of the features, Goldoni's five-act comedies were more experimental than the contemporaneous French five-act comedies in verse. They were close in style to the French comedies of the 1660s and 1840s. The principal component analysis and its visualization revealed that Goldoni, for the most part, fit within the continental comic tradition."
   ]
  },
  {
   "cell_type": "code",
   "execution_count": null,
   "metadata": {},
   "outputs": [],
   "source": []
  }
 ],
 "metadata": {
  "kernelspec": {
   "display_name": "Python 3",
   "language": "python",
   "name": "python3"
  },
  "language_info": {
   "codemirror_mode": {
    "name": "ipython",
    "version": 3
   },
   "file_extension": ".py",
   "mimetype": "text/x-python",
   "name": "python",
   "nbconvert_exporter": "python",
   "pygments_lexer": "ipython3",
   "version": "3.7.6"
  }
 },
 "nbformat": 4,
 "nbformat_minor": 4
}
