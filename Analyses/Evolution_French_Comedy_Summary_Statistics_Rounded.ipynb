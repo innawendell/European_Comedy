{
 "cells": [
  {
   "cell_type": "markdown",
   "metadata": {},
   "source": [
    "## Evolution of the French Five-Act Comedy in Verse\n",
    "Here, we re-run the notebook to get rounded summary statistics from a previous analysis."
   ]
  },
  {
   "cell_type": "code",
   "execution_count": 1,
   "metadata": {},
   "outputs": [],
   "source": [
    "import pandas as pd\n",
    "import numpy as np\n",
    "import matplotlib.pyplot as plt\n",
    "%matplotlib inline\n",
    "import seaborn as sns\n",
    "from scipy.stats import shapiro"
   ]
  },
  {
   "cell_type": "code",
   "execution_count": 2,
   "metadata": {},
   "outputs": [],
   "source": [
    "# set the boundaries as we determined based on our analysis of a 10% sample\n",
    "def determine_period(row):\n",
    "    if row <= 1650:\n",
    "        period = 1\n",
    "    elif row >= 1651 and row <= 1695:\n",
    "        period = 2\n",
    "    elif row >= 1696 and row <= 1795:\n",
    "        period = 3\n",
    "    else:\n",
    "        period = 4\n",
    "    \n",
    "    return period"
   ]
  },
  {
   "cell_type": "code",
   "execution_count": 3,
   "metadata": {},
   "outputs": [],
   "source": [
    "def run_tests(test, feature):\n",
    "    \"\"\"\n",
    "    The function allows us to run a statistical test of our choice on the adjacent periods.\n",
    "    Params:\n",
    "        test - a test of our choice, e.g., mannwhitneyu.\n",
    "        feature - str, name of the feature we want to test on.\n",
    "    Returns:\n",
    "        no retun, prints the result of each test\n",
    "    \"\"\"\n",
    "    result_one = test(period_one[feature], \n",
    "             period_two[feature]) \n",
    "    print('Period one and two:', '\\n', feature, result_one)\n",
    "    \n",
    "    result_two = test(period_two[feature], \n",
    "             period_three[feature]) \n",
    "    print('Period two and three:', '\\n', feature, result_two)\n",
    "    \n",
    "    result_three = test(period_three[feature], \n",
    "             period_four[feature]) \n",
    "    print('Period three and four:', '\\n', feature, result_three) "
   ]
  },
  {
   "cell_type": "code",
   "execution_count": 4,
   "metadata": {},
   "outputs": [],
   "source": [
    "def summary(feature):\n",
    "    mean = feature.mean()\n",
    "    std = feature.std()\n",
    "    median = feature.median()\n",
    "    \n",
    "    return mean, std, median"
   ]
  },
  {
   "cell_type": "code",
   "execution_count": 5,
   "metadata": {},
   "outputs": [],
   "source": [
    "def make_plot(feature, title):\n",
    "    mean, std, median = summary(feature)\n",
    "    plt.figure(figsize=(10, 7))\n",
    "    plt.title(title, fontsize=17)\n",
    "    sns.distplot(feature, kde=False)\n",
    "    mean_line = plt.axvline(mean, \n",
    "                            color='black',\n",
    "                            linestyle='solid', \n",
    "                            linewidth=2); M1 = 'Mean';\n",
    "    median_line = plt.axvline(median, \n",
    "                               color='green',linestyle='dashdot', \n",
    "                               linewidth=2); M2='Median'\n",
    "    std_line = plt.axvline(mean + std, \n",
    "                           color='black',\n",
    "                           linestyle='dashed', \n",
    "                           linewidth=2); M3 = 'Standard deviation';\n",
    "    plt.axvline(mean - std, \n",
    "                color='black',\n",
    "                linestyle='dashed', \n",
    "                linewidth=2)\n",
    "\n",
    "    plt.legend([mean_line, median_line, std_line], [M1, M2, M3])\n",
    "    plt.show()"
   ]
  },
  {
   "cell_type": "code",
   "execution_count": 6,
   "metadata": {},
   "outputs": [],
   "source": [
    "# read the data\n",
    "data = pd.read_csv('../French_Comedies/Data/French_Comedies_Data.csv')"
   ]
  },
  {
   "cell_type": "code",
   "execution_count": 7,
   "metadata": {},
   "outputs": [
    {
     "data": {
      "text/plain": [
       "(277, 25)"
      ]
     },
     "execution_count": 7,
     "metadata": {},
     "output_type": "execute_result"
    }
   ],
   "source": [
    "data.shape"
   ]
  },
  {
   "cell_type": "code",
   "execution_count": 8,
   "metadata": {},
   "outputs": [],
   "source": [
    "# read the sample data\n",
    "sample_df = pd.read_csv('../French_Comedies/Data/French_Comedies_Data_Sample.csv')"
   ]
  },
  {
   "cell_type": "code",
   "execution_count": 9,
   "metadata": {},
   "outputs": [],
   "source": [
    "# exclude the comedies used for the sample analysis\n",
    "not_sample = data[~data['index'].isin(sample_df['index'])].copy()"
   ]
  },
  {
   "cell_type": "code",
   "execution_count": 10,
   "metadata": {},
   "outputs": [
    {
     "data": {
      "text/plain": [
       "(248, 25)"
      ]
     },
     "execution_count": 10,
     "metadata": {},
     "output_type": "execute_result"
    }
   ],
   "source": [
    "not_sample.shape"
   ]
  },
  {
   "cell_type": "code",
   "execution_count": 11,
   "metadata": {},
   "outputs": [
    {
     "data": {
      "text/plain": [
       "Index(['index', 'title', 'last_name', 'first_name', 'date',\n",
       "       'translation/adaptation/contrastive', 'num_acts', 'url',\n",
       "       'num_present_characters', 'num_scenes_text', 'num_scenes_iarkho',\n",
       "       'speech_distribution', 'percentage_monologues', 'percentage_duologues',\n",
       "       'percentage_non_duologues', 'percentage_above_two_speakers',\n",
       "       'av_percentage_non_speakers', 'sigma_iarkho',\n",
       "       'number_scenes_with_discontinuous_change_characters',\n",
       "       'percentage_scenes_with_discontinuous_change_characters',\n",
       "       'total_utterances', 'num_verse_lines', 'dialogue_vivacity',\n",
       "       'five_year_intervals', 'decades'],\n",
       "      dtype='object')"
      ]
     },
     "execution_count": 11,
     "metadata": {},
     "output_type": "execute_result"
    }
   ],
   "source": [
    "not_sample.columns"
   ]
  },
  {
   "cell_type": "code",
   "execution_count": 12,
   "metadata": {},
   "outputs": [],
   "source": [
    "# include only five act comedies and only the comedies that are not translations/adaptations \n",
    "original_comedies = not_sample[(not_sample['num_acts'] ==5)&\n",
    "                               (not_sample['translation/adaptation/contrastive'] == 0)].copy()"
   ]
  },
  {
   "cell_type": "code",
   "execution_count": 13,
   "metadata": {},
   "outputs": [
    {
     "data": {
      "text/html": [
       "<div>\n",
       "<style scoped>\n",
       "    .dataframe tbody tr th:only-of-type {\n",
       "        vertical-align: middle;\n",
       "    }\n",
       "\n",
       "    .dataframe tbody tr th {\n",
       "        vertical-align: top;\n",
       "    }\n",
       "\n",
       "    .dataframe thead th {\n",
       "        text-align: right;\n",
       "    }\n",
       "</style>\n",
       "<table border=\"1\" class=\"dataframe\">\n",
       "  <thead>\n",
       "    <tr style=\"text-align: right;\">\n",
       "      <th></th>\n",
       "      <th>index</th>\n",
       "      <th>title</th>\n",
       "      <th>last_name</th>\n",
       "      <th>first_name</th>\n",
       "      <th>date</th>\n",
       "      <th>translation/adaptation/contrastive</th>\n",
       "      <th>num_acts</th>\n",
       "      <th>url</th>\n",
       "      <th>num_present_characters</th>\n",
       "      <th>num_scenes_text</th>\n",
       "      <th>...</th>\n",
       "      <th>percentage_above_two_speakers</th>\n",
       "      <th>av_percentage_non_speakers</th>\n",
       "      <th>sigma_iarkho</th>\n",
       "      <th>number_scenes_with_discontinuous_change_characters</th>\n",
       "      <th>percentage_scenes_with_discontinuous_change_characters</th>\n",
       "      <th>total_utterances</th>\n",
       "      <th>num_verse_lines</th>\n",
       "      <th>dialogue_vivacity</th>\n",
       "      <th>five_year_intervals</th>\n",
       "      <th>decades</th>\n",
       "    </tr>\n",
       "  </thead>\n",
       "  <tbody>\n",
       "    <tr>\n",
       "      <th>0</th>\n",
       "      <td>F_3</td>\n",
       "      <td>Mélite ou Les fausses lettres</td>\n",
       "      <td>Corneille</td>\n",
       "      <td>Pierre</td>\n",
       "      <td>1629</td>\n",
       "      <td>0</td>\n",
       "      <td>5</td>\n",
       "      <td>http://www.theatre-classique.fr/pages/document...</td>\n",
       "      <td>8</td>\n",
       "      <td>35</td>\n",
       "      <td>...</td>\n",
       "      <td>23.08</td>\n",
       "      <td>0.513</td>\n",
       "      <td>0.906</td>\n",
       "      <td>12</td>\n",
       "      <td>30.769</td>\n",
       "      <td>483.0</td>\n",
       "      <td>1822.0</td>\n",
       "      <td>0.265</td>\n",
       "      <td>1630</td>\n",
       "      <td>1630</td>\n",
       "    </tr>\n",
       "    <tr>\n",
       "      <th>1</th>\n",
       "      <td>F_5</td>\n",
       "      <td>La Veuve ou Le Traître trahi</td>\n",
       "      <td>Corneille</td>\n",
       "      <td>Pierre</td>\n",
       "      <td>1633</td>\n",
       "      <td>0</td>\n",
       "      <td>5</td>\n",
       "      <td>http://www.theatre-classique.fr/pages/document...</td>\n",
       "      <td>12</td>\n",
       "      <td>40</td>\n",
       "      <td>...</td>\n",
       "      <td>20.00</td>\n",
       "      <td>3.519</td>\n",
       "      <td>1.062</td>\n",
       "      <td>12</td>\n",
       "      <td>26.667</td>\n",
       "      <td>521.0</td>\n",
       "      <td>2010.0</td>\n",
       "      <td>0.259</td>\n",
       "      <td>1635</td>\n",
       "      <td>1640</td>\n",
       "    </tr>\n",
       "    <tr>\n",
       "      <th>4</th>\n",
       "      <td>F_11</td>\n",
       "      <td>La Galerie du Palais</td>\n",
       "      <td>Corneille</td>\n",
       "      <td>Pierre</td>\n",
       "      <td>1634</td>\n",
       "      <td>0</td>\n",
       "      <td>5</td>\n",
       "      <td>http://www.theatre-classique.fr/pages/document...</td>\n",
       "      <td>12</td>\n",
       "      <td>53</td>\n",
       "      <td>...</td>\n",
       "      <td>24.53</td>\n",
       "      <td>0.000</td>\n",
       "      <td>1.148</td>\n",
       "      <td>10</td>\n",
       "      <td>18.868</td>\n",
       "      <td>517.0</td>\n",
       "      <td>1794.0</td>\n",
       "      <td>0.288</td>\n",
       "      <td>1635</td>\n",
       "      <td>1640</td>\n",
       "    </tr>\n",
       "    <tr>\n",
       "      <th>5</th>\n",
       "      <td>F_12</td>\n",
       "      <td>La Suivante</td>\n",
       "      <td>Corneille</td>\n",
       "      <td>Pierre</td>\n",
       "      <td>1634</td>\n",
       "      <td>0</td>\n",
       "      <td>5</td>\n",
       "      <td>http://www.theatre-classique.fr/pages/document...</td>\n",
       "      <td>10</td>\n",
       "      <td>47</td>\n",
       "      <td>...</td>\n",
       "      <td>10.64</td>\n",
       "      <td>0.000</td>\n",
       "      <td>0.753</td>\n",
       "      <td>11</td>\n",
       "      <td>23.404</td>\n",
       "      <td>410.0</td>\n",
       "      <td>1700.0</td>\n",
       "      <td>0.241</td>\n",
       "      <td>1635</td>\n",
       "      <td>1640</td>\n",
       "    </tr>\n",
       "    <tr>\n",
       "      <th>6</th>\n",
       "      <td>F_7</td>\n",
       "      <td>Les Vendanges de suresnes</td>\n",
       "      <td>du Ryer</td>\n",
       "      <td>Pierre</td>\n",
       "      <td>1635</td>\n",
       "      <td>0</td>\n",
       "      <td>5</td>\n",
       "      <td>http://www.theatre-classique.fr/pages/document...</td>\n",
       "      <td>11</td>\n",
       "      <td>36</td>\n",
       "      <td>...</td>\n",
       "      <td>43.59</td>\n",
       "      <td>1.923</td>\n",
       "      <td>1.476</td>\n",
       "      <td>13</td>\n",
       "      <td>33.333</td>\n",
       "      <td>589.0</td>\n",
       "      <td>1837.0</td>\n",
       "      <td>0.321</td>\n",
       "      <td>1635</td>\n",
       "      <td>1640</td>\n",
       "    </tr>\n",
       "  </tbody>\n",
       "</table>\n",
       "<p>5 rows × 25 columns</p>\n",
       "</div>"
      ],
      "text/plain": [
       "  index                                 title  last_name first_name  date  \\\n",
       "0   F_3         Mélite ou Les fausses lettres  Corneille     Pierre  1629   \n",
       "1   F_5  La Veuve ou Le Traître trahi          Corneille     Pierre  1633   \n",
       "4  F_11                  La Galerie du Palais  Corneille     Pierre  1634   \n",
       "5  F_12                           La Suivante  Corneille     Pierre  1634   \n",
       "6   F_7      Les Vendanges de suresnes           du Ryer     Pierre  1635   \n",
       "\n",
       "   translation/adaptation/contrastive  num_acts  \\\n",
       "0                                   0         5   \n",
       "1                                   0         5   \n",
       "4                                   0         5   \n",
       "5                                   0         5   \n",
       "6                                   0         5   \n",
       "\n",
       "                                                 url  num_present_characters  \\\n",
       "0  http://www.theatre-classique.fr/pages/document...                       8   \n",
       "1  http://www.theatre-classique.fr/pages/document...                      12   \n",
       "4  http://www.theatre-classique.fr/pages/document...                      12   \n",
       "5  http://www.theatre-classique.fr/pages/document...                      10   \n",
       "6  http://www.theatre-classique.fr/pages/document...                      11   \n",
       "\n",
       "   num_scenes_text  ...  percentage_above_two_speakers  \\\n",
       "0               35  ...                          23.08   \n",
       "1               40  ...                          20.00   \n",
       "4               53  ...                          24.53   \n",
       "5               47  ...                          10.64   \n",
       "6               36  ...                          43.59   \n",
       "\n",
       "  av_percentage_non_speakers  sigma_iarkho  \\\n",
       "0                      0.513         0.906   \n",
       "1                      3.519         1.062   \n",
       "4                      0.000         1.148   \n",
       "5                      0.000         0.753   \n",
       "6                      1.923         1.476   \n",
       "\n",
       "   number_scenes_with_discontinuous_change_characters  \\\n",
       "0                                                 12    \n",
       "1                                                 12    \n",
       "4                                                 10    \n",
       "5                                                 11    \n",
       "6                                                 13    \n",
       "\n",
       "   percentage_scenes_with_discontinuous_change_characters  total_utterances  \\\n",
       "0                                             30.769                  483.0   \n",
       "1                                             26.667                  521.0   \n",
       "4                                             18.868                  517.0   \n",
       "5                                             23.404                  410.0   \n",
       "6                                             33.333                  589.0   \n",
       "\n",
       "   num_verse_lines  dialogue_vivacity  five_year_intervals  decades  \n",
       "0           1822.0              0.265                 1630     1630  \n",
       "1           2010.0              0.259                 1635     1640  \n",
       "4           1794.0              0.288                 1635     1640  \n",
       "5           1700.0              0.241                 1635     1640  \n",
       "6           1837.0              0.321                 1635     1640  \n",
       "\n",
       "[5 rows x 25 columns]"
      ]
     },
     "execution_count": 13,
     "metadata": {},
     "output_type": "execute_result"
    }
   ],
   "source": [
    "original_comedies.head()"
   ]
  },
  {
   "cell_type": "code",
   "execution_count": 14,
   "metadata": {},
   "outputs": [
    {
     "data": {
      "text/plain": [
       "(228, 25)"
      ]
     },
     "execution_count": 14,
     "metadata": {},
     "output_type": "execute_result"
    }
   ],
   "source": [
    "original_comedies.shape"
   ]
  },
  {
   "cell_type": "code",
   "execution_count": 15,
   "metadata": {},
   "outputs": [],
   "source": [
    "# sort by date\n",
    "sorted_comedies = original_comedies.sort_values(by='date')"
   ]
  },
  {
   "cell_type": "code",
   "execution_count": 16,
   "metadata": {},
   "outputs": [],
   "source": [
    "# create time periods based on our hypothesized periodization\n",
    "sorted_comedies['period'] = sorted_comedies['date'].apply(determine_period)"
   ]
  },
  {
   "cell_type": "code",
   "execution_count": 17,
   "metadata": {},
   "outputs": [],
   "source": [
    "# rename column names for clarity\n",
    "sorted_comedies = sorted_comedies.rename(columns={'num_scenes_iarkho': 'mobility_coefficient', \n",
    "                                                 'percentage_non_duologues': 'percentage_non_dialogues',\n",
    "                                                  'percentage_above_two_speakers': 'percentage_polylogues'})"
   ]
  },
  {
   "cell_type": "code",
   "execution_count": 18,
   "metadata": {},
   "outputs": [],
   "source": [
    "# define the features we want to analyze\n",
    "features = ['num_present_characters', \n",
    "            'mobility_coefficient',\n",
    "            'sigma_iarkho',\n",
    "            'percentage_monologues', \n",
    "            'percentage_non_dialogues', \n",
    "            'percentage_polylogues']"
   ]
  },
  {
   "cell_type": "markdown",
   "metadata": {},
   "source": [
    "## Updated Periodization: Three Periods"
   ]
  },
  {
   "cell_type": "markdown",
   "metadata": {},
   "source": [
    "- Period one: from 1629 to 1695\n",
    "- Period two: from 1696 to 1795\n",
    "- Period three: from 1796 to 1849"
   ]
  },
  {
   "cell_type": "code",
   "execution_count": 19,
   "metadata": {},
   "outputs": [],
   "source": [
    "# update the boundaries as we determined based on our hypothesis testing\n",
    "def determine_period(row):\n",
    "    if row <= 1695:\n",
    "        period = 1\n",
    "    elif row >= 1696 and row <= 1795:\n",
    "        period = 2\n",
    "    else:\n",
    "        period = 3\n",
    "    \n",
    "    return period"
   ]
  },
  {
   "cell_type": "code",
   "execution_count": 20,
   "metadata": {},
   "outputs": [],
   "source": [
    "# update our periodization accordingly\n",
    "sorted_comedies['period'] = sorted_comedies['date'].apply(determine_period)"
   ]
  },
  {
   "cell_type": "markdown",
   "metadata": {},
   "source": [
    "Descriptive Statistics for Each Period"
   ]
  },
  {
   "cell_type": "markdown",
   "metadata": {},
   "source": [
    "### Number of Dramatic Characters"
   ]
  },
  {
   "cell_type": "code",
   "execution_count": 21,
   "metadata": {},
   "outputs": [
    {
     "data": {
      "text/html": [
       "<div>\n",
       "<style scoped>\n",
       "    .dataframe tbody tr th:only-of-type {\n",
       "        vertical-align: middle;\n",
       "    }\n",
       "\n",
       "    .dataframe tbody tr th {\n",
       "        vertical-align: top;\n",
       "    }\n",
       "\n",
       "    .dataframe thead th {\n",
       "        text-align: right;\n",
       "    }\n",
       "</style>\n",
       "<table border=\"1\" class=\"dataframe\">\n",
       "  <thead>\n",
       "    <tr style=\"text-align: right;\">\n",
       "      <th></th>\n",
       "      <th>mean</th>\n",
       "      <th>std</th>\n",
       "      <th>50%</th>\n",
       "      <th>min</th>\n",
       "      <th>max</th>\n",
       "    </tr>\n",
       "    <tr>\n",
       "      <th>period</th>\n",
       "      <th></th>\n",
       "      <th></th>\n",
       "      <th></th>\n",
       "      <th></th>\n",
       "      <th></th>\n",
       "    </tr>\n",
       "  </thead>\n",
       "  <tbody>\n",
       "    <tr>\n",
       "      <th>1</th>\n",
       "      <td>11.81</td>\n",
       "      <td>3.62</td>\n",
       "      <td>11.0</td>\n",
       "      <td>7.0</td>\n",
       "      <td>22.0</td>\n",
       "    </tr>\n",
       "    <tr>\n",
       "      <th>2</th>\n",
       "      <td>10.64</td>\n",
       "      <td>3.00</td>\n",
       "      <td>10.0</td>\n",
       "      <td>6.0</td>\n",
       "      <td>24.0</td>\n",
       "    </tr>\n",
       "    <tr>\n",
       "      <th>3</th>\n",
       "      <td>11.96</td>\n",
       "      <td>4.26</td>\n",
       "      <td>11.0</td>\n",
       "      <td>6.0</td>\n",
       "      <td>28.0</td>\n",
       "    </tr>\n",
       "  </tbody>\n",
       "</table>\n",
       "</div>"
      ],
      "text/plain": [
       "         mean   std   50%  min   max\n",
       "period                              \n",
       "1       11.81  3.62  11.0  7.0  22.0\n",
       "2       10.64  3.00  10.0  6.0  24.0\n",
       "3       11.96  4.26  11.0  6.0  28.0"
      ]
     },
     "execution_count": 21,
     "metadata": {},
     "output_type": "execute_result"
    }
   ],
   "source": [
    "sorted_comedies.groupby('period').describe().loc[:, 'num_present_characters'][['mean', 'std', '50%','min', 'max']].round(2)"
   ]
  },
  {
   "cell_type": "markdown",
   "metadata": {},
   "source": [
    "### Mobility Coefficient"
   ]
  },
  {
   "cell_type": "code",
   "execution_count": 22,
   "metadata": {},
   "outputs": [
    {
     "data": {
      "text/html": [
       "<div>\n",
       "<style scoped>\n",
       "    .dataframe tbody tr th:only-of-type {\n",
       "        vertical-align: middle;\n",
       "    }\n",
       "\n",
       "    .dataframe tbody tr th {\n",
       "        vertical-align: top;\n",
       "    }\n",
       "\n",
       "    .dataframe thead th {\n",
       "        text-align: right;\n",
       "    }\n",
       "</style>\n",
       "<table border=\"1\" class=\"dataframe\">\n",
       "  <thead>\n",
       "    <tr style=\"text-align: right;\">\n",
       "      <th></th>\n",
       "      <th>mean</th>\n",
       "      <th>std</th>\n",
       "      <th>50%</th>\n",
       "      <th>min</th>\n",
       "      <th>max</th>\n",
       "    </tr>\n",
       "    <tr>\n",
       "      <th>period</th>\n",
       "      <th></th>\n",
       "      <th></th>\n",
       "      <th></th>\n",
       "      <th></th>\n",
       "      <th></th>\n",
       "    </tr>\n",
       "  </thead>\n",
       "  <tbody>\n",
       "    <tr>\n",
       "      <th>1</th>\n",
       "      <td>41.82</td>\n",
       "      <td>10.75</td>\n",
       "      <td>40.0</td>\n",
       "      <td>19.0</td>\n",
       "      <td>85.0</td>\n",
       "    </tr>\n",
       "    <tr>\n",
       "      <th>2</th>\n",
       "      <td>49.56</td>\n",
       "      <td>11.65</td>\n",
       "      <td>49.0</td>\n",
       "      <td>29.0</td>\n",
       "      <td>91.0</td>\n",
       "    </tr>\n",
       "    <tr>\n",
       "      <th>3</th>\n",
       "      <td>54.31</td>\n",
       "      <td>9.96</td>\n",
       "      <td>53.5</td>\n",
       "      <td>34.0</td>\n",
       "      <td>86.0</td>\n",
       "    </tr>\n",
       "  </tbody>\n",
       "</table>\n",
       "</div>"
      ],
      "text/plain": [
       "         mean    std   50%   min   max\n",
       "period                                \n",
       "1       41.82  10.75  40.0  19.0  85.0\n",
       "2       49.56  11.65  49.0  29.0  91.0\n",
       "3       54.31   9.96  53.5  34.0  86.0"
      ]
     },
     "execution_count": 22,
     "metadata": {},
     "output_type": "execute_result"
    }
   ],
   "source": [
    "sorted_comedies.groupby('period').describe().loc[:, 'mobility_coefficient'][['mean', 'std', '50%','min', 'max']].round(2)"
   ]
  },
  {
   "cell_type": "markdown",
   "metadata": {},
   "source": [
    "### Standard Range of the Number of Speaking Characters (Sigma)"
   ]
  },
  {
   "cell_type": "code",
   "execution_count": 23,
   "metadata": {},
   "outputs": [
    {
     "data": {
      "text/html": [
       "<div>\n",
       "<style scoped>\n",
       "    .dataframe tbody tr th:only-of-type {\n",
       "        vertical-align: middle;\n",
       "    }\n",
       "\n",
       "    .dataframe tbody tr th {\n",
       "        vertical-align: top;\n",
       "    }\n",
       "\n",
       "    .dataframe thead th {\n",
       "        text-align: right;\n",
       "    }\n",
       "</style>\n",
       "<table border=\"1\" class=\"dataframe\">\n",
       "  <thead>\n",
       "    <tr style=\"text-align: right;\">\n",
       "      <th></th>\n",
       "      <th>mean</th>\n",
       "      <th>std</th>\n",
       "      <th>50%</th>\n",
       "      <th>min</th>\n",
       "      <th>max</th>\n",
       "    </tr>\n",
       "    <tr>\n",
       "      <th>period</th>\n",
       "      <th></th>\n",
       "      <th></th>\n",
       "      <th></th>\n",
       "      <th></th>\n",
       "      <th></th>\n",
       "    </tr>\n",
       "  </thead>\n",
       "  <tbody>\n",
       "    <tr>\n",
       "      <th>1</th>\n",
       "      <td>1.23</td>\n",
       "      <td>0.33</td>\n",
       "      <td>1.19</td>\n",
       "      <td>0.60</td>\n",
       "      <td>2.15</td>\n",
       "    </tr>\n",
       "    <tr>\n",
       "      <th>2</th>\n",
       "      <td>1.12</td>\n",
       "      <td>0.30</td>\n",
       "      <td>1.10</td>\n",
       "      <td>0.63</td>\n",
       "      <td>1.98</td>\n",
       "    </tr>\n",
       "    <tr>\n",
       "      <th>3</th>\n",
       "      <td>1.33</td>\n",
       "      <td>0.33</td>\n",
       "      <td>1.26</td>\n",
       "      <td>0.84</td>\n",
       "      <td>2.54</td>\n",
       "    </tr>\n",
       "  </tbody>\n",
       "</table>\n",
       "</div>"
      ],
      "text/plain": [
       "        mean   std   50%   min   max\n",
       "period                              \n",
       "1       1.23  0.33  1.19  0.60  2.15\n",
       "2       1.12  0.30  1.10  0.63  1.98\n",
       "3       1.33  0.33  1.26  0.84  2.54"
      ]
     },
     "execution_count": 23,
     "metadata": {},
     "output_type": "execute_result"
    }
   ],
   "source": [
    "sorted_comedies.groupby('period').describe().loc[:, 'sigma_iarkho'][['mean', 'std', '50%','min', 'max']].round(2)"
   ]
  },
  {
   "cell_type": "markdown",
   "metadata": {},
   "source": [
    "### The Percentage of Non-Dialogues"
   ]
  },
  {
   "cell_type": "code",
   "execution_count": 24,
   "metadata": {},
   "outputs": [
    {
     "data": {
      "text/html": [
       "<div>\n",
       "<style scoped>\n",
       "    .dataframe tbody tr th:only-of-type {\n",
       "        vertical-align: middle;\n",
       "    }\n",
       "\n",
       "    .dataframe tbody tr th {\n",
       "        vertical-align: top;\n",
       "    }\n",
       "\n",
       "    .dataframe thead th {\n",
       "        text-align: right;\n",
       "    }\n",
       "</style>\n",
       "<table border=\"1\" class=\"dataframe\">\n",
       "  <thead>\n",
       "    <tr style=\"text-align: right;\">\n",
       "      <th></th>\n",
       "      <th>mean</th>\n",
       "      <th>std</th>\n",
       "      <th>50%</th>\n",
       "      <th>min</th>\n",
       "      <th>max</th>\n",
       "    </tr>\n",
       "    <tr>\n",
       "      <th>period</th>\n",
       "      <th></th>\n",
       "      <th></th>\n",
       "      <th></th>\n",
       "      <th></th>\n",
       "      <th></th>\n",
       "    </tr>\n",
       "  </thead>\n",
       "  <tbody>\n",
       "    <tr>\n",
       "      <th>1</th>\n",
       "      <td>56.11</td>\n",
       "      <td>10.00</td>\n",
       "      <td>55.77</td>\n",
       "      <td>33.33</td>\n",
       "      <td>89.66</td>\n",
       "    </tr>\n",
       "    <tr>\n",
       "      <th>2</th>\n",
       "      <td>53.50</td>\n",
       "      <td>6.76</td>\n",
       "      <td>53.49</td>\n",
       "      <td>34.00</td>\n",
       "      <td>67.69</td>\n",
       "    </tr>\n",
       "    <tr>\n",
       "      <th>3</th>\n",
       "      <td>58.12</td>\n",
       "      <td>5.89</td>\n",
       "      <td>57.92</td>\n",
       "      <td>47.06</td>\n",
       "      <td>80.00</td>\n",
       "    </tr>\n",
       "  </tbody>\n",
       "</table>\n",
       "</div>"
      ],
      "text/plain": [
       "         mean    std    50%    min    max\n",
       "period                                   \n",
       "1       56.11  10.00  55.77  33.33  89.66\n",
       "2       53.50   6.76  53.49  34.00  67.69\n",
       "3       58.12   5.89  57.92  47.06  80.00"
      ]
     },
     "execution_count": 24,
     "metadata": {},
     "output_type": "execute_result"
    }
   ],
   "source": [
    "sorted_comedies.groupby('period').describe().loc[:, 'percentage_non_dialogues'][['mean', 'std', '50%','min', 'max']].round(2)"
   ]
  },
  {
   "cell_type": "markdown",
   "metadata": {},
   "source": [
    "### The Percentage of Polylogues"
   ]
  },
  {
   "cell_type": "code",
   "execution_count": 25,
   "metadata": {},
   "outputs": [
    {
     "data": {
      "text/html": [
       "<div>\n",
       "<style scoped>\n",
       "    .dataframe tbody tr th:only-of-type {\n",
       "        vertical-align: middle;\n",
       "    }\n",
       "\n",
       "    .dataframe tbody tr th {\n",
       "        vertical-align: top;\n",
       "    }\n",
       "\n",
       "    .dataframe thead th {\n",
       "        text-align: right;\n",
       "    }\n",
       "</style>\n",
       "<table border=\"1\" class=\"dataframe\">\n",
       "  <thead>\n",
       "    <tr style=\"text-align: right;\">\n",
       "      <th></th>\n",
       "      <th>mean</th>\n",
       "      <th>std</th>\n",
       "      <th>50%</th>\n",
       "      <th>min</th>\n",
       "      <th>max</th>\n",
       "    </tr>\n",
       "    <tr>\n",
       "      <th>period</th>\n",
       "      <th></th>\n",
       "      <th></th>\n",
       "      <th></th>\n",
       "      <th></th>\n",
       "      <th></th>\n",
       "    </tr>\n",
       "  </thead>\n",
       "  <tbody>\n",
       "    <tr>\n",
       "      <th>1</th>\n",
       "      <td>42.81</td>\n",
       "      <td>14.36</td>\n",
       "      <td>41.46</td>\n",
       "      <td>10.64</td>\n",
       "      <td>86.21</td>\n",
       "    </tr>\n",
       "    <tr>\n",
       "      <th>2</th>\n",
       "      <td>31.37</td>\n",
       "      <td>10.79</td>\n",
       "      <td>31.58</td>\n",
       "      <td>8.70</td>\n",
       "      <td>58.06</td>\n",
       "    </tr>\n",
       "    <tr>\n",
       "      <th>3</th>\n",
       "      <td>37.69</td>\n",
       "      <td>8.49</td>\n",
       "      <td>36.83</td>\n",
       "      <td>18.46</td>\n",
       "      <td>65.00</td>\n",
       "    </tr>\n",
       "  </tbody>\n",
       "</table>\n",
       "</div>"
      ],
      "text/plain": [
       "         mean    std    50%    min    max\n",
       "period                                   \n",
       "1       42.81  14.36  41.46  10.64  86.21\n",
       "2       31.37  10.79  31.58   8.70  58.06\n",
       "3       37.69   8.49  36.83  18.46  65.00"
      ]
     },
     "execution_count": 25,
     "metadata": {},
     "output_type": "execute_result"
    }
   ],
   "source": [
    "sorted_comedies.groupby('period').describe().loc[:, 'percentage_polylogues'][['mean', 'std', '50%','min', 'max']].round(2)"
   ]
  },
  {
   "cell_type": "markdown",
   "metadata": {},
   "source": [
    "###  The Percentage of Monologues"
   ]
  },
  {
   "cell_type": "code",
   "execution_count": 26,
   "metadata": {},
   "outputs": [
    {
     "data": {
      "text/html": [
       "<div>\n",
       "<style scoped>\n",
       "    .dataframe tbody tr th:only-of-type {\n",
       "        vertical-align: middle;\n",
       "    }\n",
       "\n",
       "    .dataframe tbody tr th {\n",
       "        vertical-align: top;\n",
       "    }\n",
       "\n",
       "    .dataframe thead th {\n",
       "        text-align: right;\n",
       "    }\n",
       "</style>\n",
       "<table border=\"1\" class=\"dataframe\">\n",
       "  <thead>\n",
       "    <tr style=\"text-align: right;\">\n",
       "      <th></th>\n",
       "      <th>mean</th>\n",
       "      <th>std</th>\n",
       "      <th>50%</th>\n",
       "      <th>min</th>\n",
       "      <th>max</th>\n",
       "    </tr>\n",
       "    <tr>\n",
       "      <th>period</th>\n",
       "      <th></th>\n",
       "      <th></th>\n",
       "      <th></th>\n",
       "      <th></th>\n",
       "      <th></th>\n",
       "    </tr>\n",
       "  </thead>\n",
       "  <tbody>\n",
       "    <tr>\n",
       "      <th>1</th>\n",
       "      <td>13.18</td>\n",
       "      <td>9.39</td>\n",
       "      <td>12.07</td>\n",
       "      <td>0.00</td>\n",
       "      <td>32.43</td>\n",
       "    </tr>\n",
       "    <tr>\n",
       "      <th>2</th>\n",
       "      <td>22.08</td>\n",
       "      <td>7.62</td>\n",
       "      <td>22.03</td>\n",
       "      <td>3.23</td>\n",
       "      <td>40.48</td>\n",
       "    </tr>\n",
       "    <tr>\n",
       "      <th>3</th>\n",
       "      <td>20.35</td>\n",
       "      <td>5.97</td>\n",
       "      <td>19.58</td>\n",
       "      <td>11.36</td>\n",
       "      <td>43.08</td>\n",
       "    </tr>\n",
       "  </tbody>\n",
       "</table>\n",
       "</div>"
      ],
      "text/plain": [
       "         mean   std    50%    min    max\n",
       "period                                  \n",
       "1       13.18  9.39  12.07   0.00  32.43\n",
       "2       22.08  7.62  22.03   3.23  40.48\n",
       "3       20.35  5.97  19.58  11.36  43.08"
      ]
     },
     "execution_count": 26,
     "metadata": {},
     "output_type": "execute_result"
    }
   ],
   "source": [
    "sorted_comedies.groupby('period').describe().loc[:, 'percentage_monologues'][['mean', 'std', '50%','min', 'max']].round(2)"
   ]
  },
  {
   "cell_type": "code",
   "execution_count": null,
   "metadata": {},
   "outputs": [],
   "source": []
  }
 ],
 "metadata": {
  "kernelspec": {
   "display_name": "Python 3",
   "language": "python",
   "name": "python3"
  },
  "language_info": {
   "codemirror_mode": {
    "name": "ipython",
    "version": 3
   },
   "file_extension": ".py",
   "mimetype": "text/x-python",
   "name": "python",
   "nbconvert_exporter": "python",
   "pygments_lexer": "ipython3",
   "version": "3.7.6"
  }
 },
 "nbformat": 4,
 "nbformat_minor": 4
}
