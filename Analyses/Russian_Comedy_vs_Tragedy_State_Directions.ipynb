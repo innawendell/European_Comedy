{
 "cells": [
  {
   "cell_type": "markdown",
   "metadata": {},
   "source": [
    "## The Comparison of The Russian Five-Act Verse Comedy and Tragedy"
   ]
  },
  {
   "cell_type": "markdown",
   "metadata": {},
   "source": [
    "In this analysis, we will compare Sperantov's data on the five-act verse tragedies (with heterogeneity issue addressed) and our data on the five-act comedies. The basis for the comparison were three formal features describing stage-directions:\n",
    "\n",
    "- Stage directions frequency;\n",
    "- Average length of a stage direction;\n",
    "- The degree of verse and prose interaction.\n",
    "\n",
    "In our previous re-examination of Sperantov's results, we determined that the five-act tragedies fall into two periods:\n",
    "\n",
    " - Period One (from 1747 to 1794)\n",
    " - Period Two (from 1795 to 1822).\n",
    " \n",
    " The boundary between the two periods lies in 1795.\n",
    " \n",
    "We hypothesized that the Russian five-act comedy would also fall into two periods with the boundary in 1795. However, the years that determine the lower and the upper boundaries were different (the first five-act verse comedy was written in 1775 and the last one in 1849). The two tentative periods included: \n",
    "\n",
    "- Period One (from 1775 to 1794)\n",
    "- Period Two (from 1795 to 1849).\n",
    "\n",
    "Our statistical tests showed that there were no significant differences between these two proposed periods. This outcome could be, in part, explained by the small sample size, which we could not help due to the historical nature of our research. Nevertheless, to trace the features’ historical development, we still used these periods, calling them “tentative.” Additionally, to compare apples to apples, we made sure that the comedies and tragedies’ upper and lower boundaries were the same: between **1775** and **1822**. Finally, not for contrastive purposes but to understand the historical processes, we also examined the tragedies written before 1775 and comedies written after 1822."
   ]
  },
  {
   "cell_type": "code",
   "execution_count": 1,
   "metadata": {},
   "outputs": [],
   "source": [
    "import pandas as pd\n",
    "import matplotlib.pyplot as plt\n",
    "%matplotlib inline \n",
    "import seaborn as sns"
   ]
  },
  {
   "cell_type": "code",
   "execution_count": 2,
   "metadata": {},
   "outputs": [],
   "source": [
    "# updated boundaries\n",
    "def determine_period(row):\n",
    "    if row <= 1794:\n",
    "        period = 1\n",
    "    else:\n",
    "        period = 2\n",
    "    \n",
    "    return period"
   ]
  },
  {
   "cell_type": "code",
   "execution_count": 3,
   "metadata": {},
   "outputs": [],
   "source": [
    "comedies = pd.read_csv('../Russian_Comedies/Data/Comedies_Raw_Data.csv')\n",
    "# sort by creation date\n",
    "comedies_sorted = comedies.sort_values(by='creation_date').copy()"
   ]
  },
  {
   "cell_type": "code",
   "execution_count": 4,
   "metadata": {},
   "outputs": [
    {
     "data": {
      "text/html": [
       "<div>\n",
       "<style scoped>\n",
       "    .dataframe tbody tr th:only-of-type {\n",
       "        vertical-align: middle;\n",
       "    }\n",
       "\n",
       "    .dataframe tbody tr th {\n",
       "        vertical-align: top;\n",
       "    }\n",
       "\n",
       "    .dataframe thead th {\n",
       "        text-align: right;\n",
       "    }\n",
       "</style>\n",
       "<table border=\"1\" class=\"dataframe\">\n",
       "  <thead>\n",
       "    <tr style=\"text-align: right;\">\n",
       "      <th></th>\n",
       "      <th>index</th>\n",
       "      <th>title</th>\n",
       "      <th>first_name</th>\n",
       "      <th>last_name</th>\n",
       "      <th>creation_date</th>\n",
       "      <th>translation/adaptation</th>\n",
       "      <th>num_acts</th>\n",
       "      <th>free_iambs</th>\n",
       "      <th>num_present_characters</th>\n",
       "      <th>num_scenes_text</th>\n",
       "      <th>...</th>\n",
       "      <th>percentage_open_scenes</th>\n",
       "      <th>percentage_scenes_rhymes_split_verse</th>\n",
       "      <th>num_stage_directions</th>\n",
       "      <th>stage_directions_frequency</th>\n",
       "      <th>num_word_tokens_in_stage_directions</th>\n",
       "      <th>average_length_of_stage_direction</th>\n",
       "      <th>num_verse_splitting_stage_directions</th>\n",
       "      <th>degree_of_verse_prose_interaction</th>\n",
       "      <th>number_scenes_with_discontinuous_change_characters</th>\n",
       "      <th>percentage_scenes_with_discontinuous_change_characters</th>\n",
       "    </tr>\n",
       "  </thead>\n",
       "  <tbody>\n",
       "    <tr>\n",
       "      <th>0</th>\n",
       "      <td>R_1</td>\n",
       "      <td>Samoliubivyi stikhotvorets</td>\n",
       "      <td>Nikolai</td>\n",
       "      <td>Nikolev</td>\n",
       "      <td>1775</td>\n",
       "      <td>0</td>\n",
       "      <td>5</td>\n",
       "      <td>0</td>\n",
       "      <td>8</td>\n",
       "      <td>37</td>\n",
       "      <td>...</td>\n",
       "      <td>65.217</td>\n",
       "      <td>17.391</td>\n",
       "      <td>406</td>\n",
       "      <td>24.458</td>\n",
       "      <td>1102</td>\n",
       "      <td>2.714</td>\n",
       "      <td>161</td>\n",
       "      <td>9.699</td>\n",
       "      <td>3</td>\n",
       "      <td>6.667</td>\n",
       "    </tr>\n",
       "    <tr>\n",
       "      <th>1</th>\n",
       "      <td>R_2</td>\n",
       "      <td>Khvastun</td>\n",
       "      <td>Iakov</td>\n",
       "      <td>Kniazhnin</td>\n",
       "      <td>1785</td>\n",
       "      <td>0</td>\n",
       "      <td>5</td>\n",
       "      <td>0</td>\n",
       "      <td>14</td>\n",
       "      <td>50</td>\n",
       "      <td>...</td>\n",
       "      <td>47.273</td>\n",
       "      <td>14.545</td>\n",
       "      <td>356</td>\n",
       "      <td>17.298</td>\n",
       "      <td>893</td>\n",
       "      <td>2.508</td>\n",
       "      <td>104</td>\n",
       "      <td>5.053</td>\n",
       "      <td>2</td>\n",
       "      <td>3.636</td>\n",
       "    </tr>\n",
       "    <tr>\n",
       "      <th>3</th>\n",
       "      <td>R_4</td>\n",
       "      <td>Prestupnik ot igry ili bratom prodannaia sestra</td>\n",
       "      <td>Dmitrii</td>\n",
       "      <td>Efim’ev</td>\n",
       "      <td>1788</td>\n",
       "      <td>0</td>\n",
       "      <td>5</td>\n",
       "      <td>0</td>\n",
       "      <td>8</td>\n",
       "      <td>43</td>\n",
       "      <td>...</td>\n",
       "      <td>48.077</td>\n",
       "      <td>11.538</td>\n",
       "      <td>299</td>\n",
       "      <td>22.669</td>\n",
       "      <td>782</td>\n",
       "      <td>2.615</td>\n",
       "      <td>90</td>\n",
       "      <td>6.823</td>\n",
       "      <td>5</td>\n",
       "      <td>9.615</td>\n",
       "    </tr>\n",
       "    <tr>\n",
       "      <th>2</th>\n",
       "      <td>R_3</td>\n",
       "      <td>Chudaki</td>\n",
       "      <td>Iakov</td>\n",
       "      <td>Kniazhnin</td>\n",
       "      <td>1790</td>\n",
       "      <td>0</td>\n",
       "      <td>5</td>\n",
       "      <td>0</td>\n",
       "      <td>15</td>\n",
       "      <td>44</td>\n",
       "      <td>...</td>\n",
       "      <td>51.667</td>\n",
       "      <td>6.667</td>\n",
       "      <td>386</td>\n",
       "      <td>16.489</td>\n",
       "      <td>1078</td>\n",
       "      <td>2.793</td>\n",
       "      <td>139</td>\n",
       "      <td>5.938</td>\n",
       "      <td>2</td>\n",
       "      <td>3.333</td>\n",
       "    </tr>\n",
       "    <tr>\n",
       "      <th>4</th>\n",
       "      <td>R_5</td>\n",
       "      <td>Smekh i gore</td>\n",
       "      <td>Aleksandr</td>\n",
       "      <td>Klushin</td>\n",
       "      <td>1792</td>\n",
       "      <td>0</td>\n",
       "      <td>5</td>\n",
       "      <td>0</td>\n",
       "      <td>9</td>\n",
       "      <td>56</td>\n",
       "      <td>...</td>\n",
       "      <td>6.667</td>\n",
       "      <td>3.333</td>\n",
       "      <td>255</td>\n",
       "      <td>14.522</td>\n",
       "      <td>771</td>\n",
       "      <td>3.024</td>\n",
       "      <td>64</td>\n",
       "      <td>3.645</td>\n",
       "      <td>4</td>\n",
       "      <td>6.667</td>\n",
       "    </tr>\n",
       "  </tbody>\n",
       "</table>\n",
       "<p>5 rows × 38 columns</p>\n",
       "</div>"
      ],
      "text/plain": [
       "  index                                            title first_name  \\\n",
       "0   R_1                       Samoliubivyi stikhotvorets    Nikolai   \n",
       "1   R_2                                         Khvastun      Iakov   \n",
       "3   R_4  Prestupnik ot igry ili bratom prodannaia sestra    Dmitrii   \n",
       "2   R_3                                          Chudaki      Iakov   \n",
       "4   R_5                                     Smekh i gore  Aleksandr   \n",
       "\n",
       "   last_name  creation_date  translation/adaptation  num_acts  free_iambs  \\\n",
       "0    Nikolev           1775                       0         5           0   \n",
       "1  Kniazhnin           1785                       0         5           0   \n",
       "3    Efim’ev           1788                       0         5           0   \n",
       "2  Kniazhnin           1790                       0         5           0   \n",
       "4   Klushin            1792                       0         5           0   \n",
       "\n",
       "   num_present_characters  num_scenes_text  ...  percentage_open_scenes  \\\n",
       "0                       8               37  ...                  65.217   \n",
       "1                      14               50  ...                  47.273   \n",
       "3                       8               43  ...                  48.077   \n",
       "2                      15               44  ...                  51.667   \n",
       "4                       9               56  ...                   6.667   \n",
       "\n",
       "  percentage_scenes_rhymes_split_verse  num_stage_directions  \\\n",
       "0                               17.391                   406   \n",
       "1                               14.545                   356   \n",
       "3                               11.538                   299   \n",
       "2                                6.667                   386   \n",
       "4                                3.333                   255   \n",
       "\n",
       "   stage_directions_frequency  num_word_tokens_in_stage_directions  \\\n",
       "0                      24.458                                 1102   \n",
       "1                      17.298                                  893   \n",
       "3                      22.669                                  782   \n",
       "2                      16.489                                 1078   \n",
       "4                      14.522                                  771   \n",
       "\n",
       "   average_length_of_stage_direction  num_verse_splitting_stage_directions  \\\n",
       "0                              2.714                                   161   \n",
       "1                              2.508                                   104   \n",
       "3                              2.615                                    90   \n",
       "2                              2.793                                   139   \n",
       "4                              3.024                                    64   \n",
       "\n",
       "   degree_of_verse_prose_interaction  \\\n",
       "0                              9.699   \n",
       "1                              5.053   \n",
       "3                              6.823   \n",
       "2                              5.938   \n",
       "4                              3.645   \n",
       "\n",
       "   number_scenes_with_discontinuous_change_characters  \\\n",
       "0                                                  3    \n",
       "1                                                  2    \n",
       "3                                                  5    \n",
       "2                                                  2    \n",
       "4                                                  4    \n",
       "\n",
       "   percentage_scenes_with_discontinuous_change_characters  \n",
       "0                                              6.667       \n",
       "1                                              3.636       \n",
       "3                                              9.615       \n",
       "2                                              3.333       \n",
       "4                                              6.667       \n",
       "\n",
       "[5 rows x 38 columns]"
      ]
     },
     "execution_count": 4,
     "metadata": {},
     "output_type": "execute_result"
    }
   ],
   "source": [
    "comedies_sorted.head()"
   ]
  },
  {
   "cell_type": "code",
   "execution_count": 5,
   "metadata": {},
   "outputs": [],
   "source": [
    "# renaname the columns to make sure the names match with the tragedies file\n",
    "comedies_sorted = comedies_sorted.rename(columns={'stage_directions_frequency': 'frequency',\n",
    "                                                   'average_length_of_stage_direction': 'average_length',\n",
    "                                                   'degree_of_verse_prose_interaction': 'verse_prose_interaction'})"
   ]
  },
  {
   "cell_type": "code",
   "execution_count": 6,
   "metadata": {},
   "outputs": [],
   "source": [
    "# select only original comedies and five act\n",
    "original_comedies = comedies_sorted[(comedies_sorted['translation/adaptation'] == 0) & \n",
    "                                   (comedies_sorted['num_acts'] == 5)].copy()\n",
    "# break down into tentative periods\n",
    "original_comedies['period'] = original_comedies.creation_date.apply(determine_period)\n",
    "\n",
    "# make sure we select only the time periods that correspond with tragedies\n",
    "comedies_stage_dir_features = original_comedies[original_comedies.creation_date <=1822].copy()\n",
    "\n",
    "# select the stage directions features\n",
    "comedies_stage_dir_features = comedies_stage_dir_features[['period',\n",
    "                                               'frequency',\n",
    "                                               'average_length',\n",
    "                                               'verse_prose_interaction']].copy()"
   ]
  },
  {
   "cell_type": "code",
   "execution_count": 7,
   "metadata": {},
   "outputs": [],
   "source": [
    "# read in the tragedies data\n",
    "sperantov_data = pd.read_csv('Sperantov_Tragedy/sperantov_raw_data.tsv', sep='\\t')\n",
    "\n",
    "# remove tragedies which are not five acts or are translations/ immitations\n",
    "sperantov_data_five_acts = sperantov_data[(sperantov_data['num_acts']==5) & \n",
    "                                         (sperantov_data['translation/adaptation/mixed_genre'] == 0)].copy()\n",
    "\n",
    "# since we are mainly interested in different periods, we will update the years so that they remain in the same period,\n",
    "# but are easier to convert to numeric data format  \n",
    "sperantov_data_five_acts.loc[sperantov_data_five_acts[\n",
    "                            sperantov_data_five_acts.date == 'mid-1770s'].index[0], 'date'] = 1775\n",
    "sperantov_data_five_acts.loc[sperantov_data_five_acts[\n",
    "                            sperantov_data_five_acts.date == 'around 1787'].index[0], 'date'] = 1787\n",
    "sperantov_data_five_acts.loc[sperantov_data_five_acts[\n",
    "                            sperantov_data_five_acts.date == '1808-1809'].index, 'date'] = 1808\n",
    "\n",
    "sperantov_data_five_acts.loc[sperantov_data_five_acts[\n",
    "                            sperantov_data_five_acts.date == '1810s'].index, 'date'] = 1811\n",
    "\n",
    "sperantov_data_five_acts['date'] = sperantov_data_five_acts['date'].astype(int)\n",
    "\n",
    "tragedies_data = sperantov_data_five_acts.sort_values(by='date').copy()\n",
    "# make sure we limit the lower time boundary to match that of comedies\n",
    "tragedies_data = tragedies_data[tragedies_data .date >= 1775].copy()\n",
    "tragedies_data['period'] = tragedies_data.date.apply(determine_period)"
   ]
  },
  {
   "cell_type": "code",
   "execution_count": 8,
   "metadata": {},
   "outputs": [],
   "source": [
    "tragedies_data = tragedies_data[['period',\n",
    "                               'frequency', \n",
    "                               'average_length',\n",
    "                               'verse_prose_interaction']].copy()"
   ]
  },
  {
   "cell_type": "markdown",
   "metadata": {},
   "source": [
    "## Part 1. Compararison in The Aggregate"
   ]
  },
  {
   "cell_type": "markdown",
   "metadata": {},
   "source": [
    "### Five-Act Comedy in Verse"
   ]
  },
  {
   "cell_type": "code",
   "execution_count": 9,
   "metadata": {},
   "outputs": [
    {
     "data": {
      "text/html": [
       "<div>\n",
       "<style scoped>\n",
       "    .dataframe tbody tr th:only-of-type {\n",
       "        vertical-align: middle;\n",
       "    }\n",
       "\n",
       "    .dataframe tbody tr th {\n",
       "        vertical-align: top;\n",
       "    }\n",
       "\n",
       "    .dataframe thead th {\n",
       "        text-align: right;\n",
       "    }\n",
       "</style>\n",
       "<table border=\"1\" class=\"dataframe\">\n",
       "  <thead>\n",
       "    <tr style=\"text-align: right;\">\n",
       "      <th></th>\n",
       "      <th>frequency</th>\n",
       "      <th>average_length</th>\n",
       "      <th>verse_prose_interaction</th>\n",
       "    </tr>\n",
       "  </thead>\n",
       "  <tbody>\n",
       "    <tr>\n",
       "      <th>mean</th>\n",
       "      <td>18.16</td>\n",
       "      <td>2.52</td>\n",
       "      <td>6.90</td>\n",
       "    </tr>\n",
       "    <tr>\n",
       "      <th>std</th>\n",
       "      <td>5.23</td>\n",
       "      <td>0.72</td>\n",
       "      <td>3.47</td>\n",
       "    </tr>\n",
       "    <tr>\n",
       "      <th>50%</th>\n",
       "      <td>17.30</td>\n",
       "      <td>2.51</td>\n",
       "      <td>6.82</td>\n",
       "    </tr>\n",
       "  </tbody>\n",
       "</table>\n",
       "</div>"
      ],
      "text/plain": [
       "      frequency  average_length  verse_prose_interaction\n",
       "mean      18.16            2.52                     6.90\n",
       "std        5.23            0.72                     3.47\n",
       "50%       17.30            2.51                     6.82"
      ]
     },
     "execution_count": 9,
     "metadata": {},
     "output_type": "execute_result"
    }
   ],
   "source": [
    "comedies_stage_dir_features_summary = comedies_stage_dir_features.describe().loc[['mean', \n",
    "                                                                                'std',\n",
    "                                                                                '50%'], \n",
    "                                                                                ['frequency', \n",
    "                                                                                 'average_length',\n",
    "                                                                                 'verse_prose_interaction']]\n",
    "comedies_stage_dir_features_summary.style.set_properties(**{'text-align': 'right'})\n",
    "comedies_stage_dir_features_summary = comedies_stage_dir_features_summary.round(2)\n",
    "comedies_stage_dir_features_summary"
   ]
  },
  {
   "cell_type": "code",
   "execution_count": 10,
   "metadata": {},
   "outputs": [],
   "source": [
    "comedies_stage_dir_features_summary.to_csv('../Russian_Comedies/Data/summary_comedies_stage_directions.csv', \n",
    "                                           index=True)"
   ]
  },
  {
   "cell_type": "markdown",
   "metadata": {},
   "source": [
    "### Five-Act Tragedy in Verse"
   ]
  },
  {
   "cell_type": "code",
   "execution_count": 11,
   "metadata": {},
   "outputs": [
    {
     "data": {
      "text/html": [
       "<div>\n",
       "<style scoped>\n",
       "    .dataframe tbody tr th:only-of-type {\n",
       "        vertical-align: middle;\n",
       "    }\n",
       "\n",
       "    .dataframe tbody tr th {\n",
       "        vertical-align: top;\n",
       "    }\n",
       "\n",
       "    .dataframe thead th {\n",
       "        text-align: right;\n",
       "    }\n",
       "</style>\n",
       "<table border=\"1\" class=\"dataframe\">\n",
       "  <thead>\n",
       "    <tr style=\"text-align: right;\">\n",
       "      <th></th>\n",
       "      <th>frequency</th>\n",
       "      <th>average_length</th>\n",
       "      <th>verse_prose_interaction</th>\n",
       "    </tr>\n",
       "  </thead>\n",
       "  <tbody>\n",
       "    <tr>\n",
       "      <th>mean</th>\n",
       "      <td>7.15</td>\n",
       "      <td>3.79</td>\n",
       "      <td>1.38</td>\n",
       "    </tr>\n",
       "    <tr>\n",
       "      <th>std</th>\n",
       "      <td>4.86</td>\n",
       "      <td>0.94</td>\n",
       "      <td>1.46</td>\n",
       "    </tr>\n",
       "    <tr>\n",
       "      <th>50%</th>\n",
       "      <td>5.84</td>\n",
       "      <td>3.57</td>\n",
       "      <td>0.86</td>\n",
       "    </tr>\n",
       "  </tbody>\n",
       "</table>\n",
       "</div>"
      ],
      "text/plain": [
       "      frequency  average_length  verse_prose_interaction\n",
       "mean       7.15            3.79                     1.38\n",
       "std        4.86            0.94                     1.46\n",
       "50%        5.84            3.57                     0.86"
      ]
     },
     "execution_count": 11,
     "metadata": {},
     "output_type": "execute_result"
    }
   ],
   "source": [
    "tragedies_summary = tragedies_data.describe().loc[['mean', \n",
    "                                                   'std',\n",
    "                                                   '50%'],\n",
    "                                                   ['frequency', \n",
    "                                                   'average_length',\n",
    "                                                   'verse_prose_interaction']].round(2)\n",
    "tragedies_summary = tragedies_summary.round(2)\n",
    "tragedies_summary"
   ]
  },
  {
   "cell_type": "code",
   "execution_count": 12,
   "metadata": {},
   "outputs": [],
   "source": [
    "tragedies_summary.to_csv('../Russian_Comedies/Data/summary_tragedies_stage_directions.csv', \n",
    "                                           index=True)"
   ]
  },
  {
   "cell_type": "markdown",
   "metadata": {},
   "source": [
    "### Aggregate Summary:\n",
    "1. Overall, stage directions were much more frequent in comedies than in tragedies. The mean frequency of stage direction in comedies (1775 to 1822) was 18.16, with a standard deviation of 5.23. In tragedies, it was 7.15, i.e., over two times lower, with a standard deviation of 4.86. The median frequency of stage directions in comedies was 17.30, whereas, in tragedies, it was 5.84, i.e., almost three times lower.\n",
    "2. The mean degree of verse and prose interaction in comedy was 6.90, with a standard deviation of 3.47. In tragedy, it was 1.38, i.e., five times lower, with a standard deviation of 1.46. The median degree of verse and prose interaction in comedy was 6.82, and in tragedy, it was 0.86, i.e., almost eight times as low. In comedy, stage directions much more frequently appeared within verse lines.\n",
    "3.•\tThe mean average length of a stage direction in comedies within that time frame was 2.52, with a standard deviation of 0.72, whereas in tragedies, it was 3.79, with a standard deviation of 0.94. The median in comedy was 2.51, and in tragedy, it was 3.57. Stage directions tended to be longer in tragedies than in comedies."
   ]
  },
  {
   "cell_type": "markdown",
   "metadata": {},
   "source": [
    "## Part 2. Comparison By Tentative Periods"
   ]
  },
  {
   "cell_type": "markdown",
   "metadata": {},
   "source": [
    "### Five-Act Comedy in Verse"
   ]
  },
  {
   "cell_type": "markdown",
   "metadata": {},
   "source": [
    "#### By Tentative Periods"
   ]
  },
  {
   "cell_type": "code",
   "execution_count": 13,
   "metadata": {},
   "outputs": [
    {
     "data": {
      "text/html": [
       "<div>\n",
       "<style scoped>\n",
       "    .dataframe tbody tr th:only-of-type {\n",
       "        vertical-align: middle;\n",
       "    }\n",
       "\n",
       "    .dataframe tbody tr th {\n",
       "        vertical-align: top;\n",
       "    }\n",
       "\n",
       "    .dataframe thead tr th {\n",
       "        text-align: left;\n",
       "    }\n",
       "\n",
       "    .dataframe thead tr:last-of-type th {\n",
       "        text-align: right;\n",
       "    }\n",
       "</style>\n",
       "<table border=\"1\" class=\"dataframe\">\n",
       "  <thead>\n",
       "    <tr>\n",
       "      <th></th>\n",
       "      <th colspan=\"3\" halign=\"left\">frequency</th>\n",
       "      <th colspan=\"3\" halign=\"left\">average_length</th>\n",
       "      <th colspan=\"3\" halign=\"left\">verse_prose_interaction</th>\n",
       "    </tr>\n",
       "    <tr>\n",
       "      <th></th>\n",
       "      <th>mean</th>\n",
       "      <th>std</th>\n",
       "      <th>50%</th>\n",
       "      <th>mean</th>\n",
       "      <th>std</th>\n",
       "      <th>50%</th>\n",
       "      <th>mean</th>\n",
       "      <th>std</th>\n",
       "      <th>50%</th>\n",
       "    </tr>\n",
       "    <tr>\n",
       "      <th>period</th>\n",
       "      <th></th>\n",
       "      <th></th>\n",
       "      <th></th>\n",
       "      <th></th>\n",
       "      <th></th>\n",
       "      <th></th>\n",
       "      <th></th>\n",
       "      <th></th>\n",
       "      <th></th>\n",
       "    </tr>\n",
       "  </thead>\n",
       "  <tbody>\n",
       "    <tr>\n",
       "      <th>1</th>\n",
       "      <td>18.51</td>\n",
       "      <td>4.06</td>\n",
       "      <td>16.89</td>\n",
       "      <td>2.84</td>\n",
       "      <td>0.33</td>\n",
       "      <td>2.75</td>\n",
       "      <td>6.12</td>\n",
       "      <td>2.04</td>\n",
       "      <td>5.76</td>\n",
       "    </tr>\n",
       "    <tr>\n",
       "      <th>2</th>\n",
       "      <td>17.87</td>\n",
       "      <td>6.38</td>\n",
       "      <td>19.60</td>\n",
       "      <td>2.23</td>\n",
       "      <td>0.86</td>\n",
       "      <td>2.50</td>\n",
       "      <td>7.57</td>\n",
       "      <td>4.41</td>\n",
       "      <td>7.74</td>\n",
       "    </tr>\n",
       "  </tbody>\n",
       "</table>\n",
       "</div>"
      ],
      "text/plain": [
       "       frequency              average_length              \\\n",
       "            mean   std    50%           mean   std   50%   \n",
       "period                                                     \n",
       "1          18.51  4.06  16.89           2.84  0.33  2.75   \n",
       "2          17.87  6.38  19.60           2.23  0.86  2.50   \n",
       "\n",
       "       verse_prose_interaction              \n",
       "                          mean   std   50%  \n",
       "period                                      \n",
       "1                         6.12  2.04  5.76  \n",
       "2                         7.57  4.41  7.74  "
      ]
     },
     "execution_count": 13,
     "metadata": {},
     "output_type": "execute_result"
    }
   ],
   "source": [
    "comedies_stage_dir_features_summary = comedies_stage_dir_features.groupby('period').describe().loc[:,\n",
    "                                                                         [('frequency','mean'),\n",
    "                                                                          ('frequency', 'std'),\n",
    "                                                                          ('frequency','50%'),\n",
    "                                                                          ('average_length','mean'),\n",
    "                                                                          ('average_length', 'std'),\n",
    "                                                                          ('average_length','50%'),\n",
    "                                                                          ('verse_prose_interaction','mean'),\n",
    "                                                                          ('verse_prose_interaction', 'std'),\n",
    "                                                                          ('verse_prose_interaction', '50%')\n",
    "                                                                         ]]\n",
    "\n",
    "comedies_stage_dir_features_summary.style.set_properties(**{'text-align': 'right'})\n",
    "comedies_stage_dir_features_summary.round(2)"
   ]
  },
  {
   "cell_type": "code",
   "execution_count": 14,
   "metadata": {},
   "outputs": [
    {
     "data": {
      "image/png": "[encoded data removed]",
      "text/plain": [
       "<Figure size 1440x504 with 2 Axes>"
      ]
     },
     "metadata": {
      "needs_background": "light"
     },
     "output_type": "display_data"
    }
   ],
   "source": [
    "plt.figure(figsize=(20, 7))\n",
    "plt.subplot(121)\n",
    "plt.title('The Frequency of Stage Directions in Comedies 1775 to 1794', fontsize=16)\n",
    "sns.boxplot(x=comedies_stage_dir_features[comedies_stage_dir_features.period == 1]['frequency'])\n",
    "\n",
    "plt.subplot(122)\n",
    "plt.title('The Frequency of Stage Directions in Comedies 1795 to 1822', fontsize=16)\n",
    "sns.boxplot(x=comedies_stage_dir_features[comedies_stage_dir_features.period == 2]['frequency'])\n",
    "\n",
    "plt.show()"
   ]
  },
  {
   "cell_type": "code",
   "execution_count": 15,
   "metadata": {},
   "outputs": [
    {
     "data": {
      "text/html": [
       "<div>\n",
       "<style scoped>\n",
       "    .dataframe tbody tr th:only-of-type {\n",
       "        vertical-align: middle;\n",
       "    }\n",
       "\n",
       "    .dataframe tbody tr th {\n",
       "        vertical-align: top;\n",
       "    }\n",
       "\n",
       "    .dataframe thead th {\n",
       "        text-align: right;\n",
       "    }\n",
       "</style>\n",
       "<table border=\"1\" class=\"dataframe\">\n",
       "  <thead>\n",
       "    <tr style=\"text-align: right;\">\n",
       "      <th></th>\n",
       "      <th>title</th>\n",
       "      <th>first_name</th>\n",
       "      <th>last_name</th>\n",
       "      <th>creation_date</th>\n",
       "      <th>frequency</th>\n",
       "    </tr>\n",
       "  </thead>\n",
       "  <tbody>\n",
       "    <tr>\n",
       "      <th>10</th>\n",
       "      <td>Tri zhenikha ili liubov‘ nyneshniago sveta</td>\n",
       "      <td>Aleksandr</td>\n",
       "      <td>Sobolev</td>\n",
       "      <td>1817</td>\n",
       "      <td>5.229</td>\n",
       "    </tr>\n",
       "  </tbody>\n",
       "</table>\n",
       "</div>"
      ],
      "text/plain": [
       "                                         title first_name last_name  \\\n",
       "10  Tri zhenikha ili liubov‘ nyneshniago sveta  Aleksandr  Sobolev    \n",
       "\n",
       "    creation_date  frequency  \n",
       "10           1817      5.229  "
      ]
     },
     "execution_count": 15,
     "metadata": {},
     "output_type": "execute_result"
    }
   ],
   "source": [
    "original_comedies[original_comedies['frequency'] <6][['title', \n",
    "                                                       'first_name', \n",
    "                                                       'last_name', \n",
    "                                                       'creation_date', \n",
    "                                                       'frequency']]"
   ]
  },
  {
   "cell_type": "markdown",
   "metadata": {},
   "source": [
    "### Five-Act Tragedy in Verse"
   ]
  },
  {
   "cell_type": "markdown",
   "metadata": {},
   "source": [
    "### By Tentative Periods"
   ]
  },
  {
   "cell_type": "code",
   "execution_count": 16,
   "metadata": {},
   "outputs": [
    {
     "data": {
      "text/html": [
       "<div>\n",
       "<style scoped>\n",
       "    .dataframe tbody tr th:only-of-type {\n",
       "        vertical-align: middle;\n",
       "    }\n",
       "\n",
       "    .dataframe tbody tr th {\n",
       "        vertical-align: top;\n",
       "    }\n",
       "\n",
       "    .dataframe thead tr th {\n",
       "        text-align: left;\n",
       "    }\n",
       "\n",
       "    .dataframe thead tr:last-of-type th {\n",
       "        text-align: right;\n",
       "    }\n",
       "</style>\n",
       "<table border=\"1\" class=\"dataframe\">\n",
       "  <thead>\n",
       "    <tr>\n",
       "      <th></th>\n",
       "      <th colspan=\"3\" halign=\"left\">frequency</th>\n",
       "      <th colspan=\"3\" halign=\"left\">average_length</th>\n",
       "      <th colspan=\"3\" halign=\"left\">verse_prose_interaction</th>\n",
       "    </tr>\n",
       "    <tr>\n",
       "      <th></th>\n",
       "      <th>mean</th>\n",
       "      <th>std</th>\n",
       "      <th>50%</th>\n",
       "      <th>mean</th>\n",
       "      <th>std</th>\n",
       "      <th>50%</th>\n",
       "      <th>mean</th>\n",
       "      <th>std</th>\n",
       "      <th>50%</th>\n",
       "    </tr>\n",
       "    <tr>\n",
       "      <th>period</th>\n",
       "      <th></th>\n",
       "      <th></th>\n",
       "      <th></th>\n",
       "      <th></th>\n",
       "      <th></th>\n",
       "      <th></th>\n",
       "      <th></th>\n",
       "      <th></th>\n",
       "      <th></th>\n",
       "    </tr>\n",
       "  </thead>\n",
       "  <tbody>\n",
       "    <tr>\n",
       "      <th>1</th>\n",
       "      <td>5.56</td>\n",
       "      <td>1.79</td>\n",
       "      <td>4.94</td>\n",
       "      <td>3.33</td>\n",
       "      <td>0.50</td>\n",
       "      <td>3.32</td>\n",
       "      <td>0.75</td>\n",
       "      <td>0.47</td>\n",
       "      <td>0.60</td>\n",
       "    </tr>\n",
       "    <tr>\n",
       "      <th>2</th>\n",
       "      <td>8.32</td>\n",
       "      <td>6.03</td>\n",
       "      <td>6.39</td>\n",
       "      <td>4.13</td>\n",
       "      <td>1.04</td>\n",
       "      <td>4.36</td>\n",
       "      <td>1.84</td>\n",
       "      <td>1.75</td>\n",
       "      <td>1.45</td>\n",
       "    </tr>\n",
       "  </tbody>\n",
       "</table>\n",
       "</div>"
      ],
      "text/plain": [
       "       frequency             average_length              \\\n",
       "            mean   std   50%           mean   std   50%   \n",
       "period                                                    \n",
       "1           5.56  1.79  4.94           3.33  0.50  3.32   \n",
       "2           8.32  6.03  6.39           4.13  1.04  4.36   \n",
       "\n",
       "       verse_prose_interaction              \n",
       "                          mean   std   50%  \n",
       "period                                      \n",
       "1                         0.75  0.47  0.60  \n",
       "2                         1.84  1.75  1.45  "
      ]
     },
     "execution_count": 16,
     "metadata": {},
     "output_type": "execute_result"
    }
   ],
   "source": [
    "trqagedies_summary = tragedies_data.groupby('period').describe().loc[:,\n",
    "                                                                     [('frequency','mean'),\n",
    "                                                                      ('frequency', 'std'),\n",
    "                                                                      ('frequency','50%'),\n",
    "                                                                      ('average_length','mean'),\n",
    "                                                                      ('average_length', 'std'),\n",
    "                                                                      ('average_length','50%'),\n",
    "                                                                      ('verse_prose_interaction','mean'),\n",
    "                                                                      ('verse_prose_interaction', 'std'),\n",
    "                                                                      ('verse_prose_interaction', '50%')\n",
    "                                                                     ]].round(2)\n",
    "trqagedies_summary.style.set_properties(**{'text-align': 'right'})\n",
    "trqagedies_summary.round(2)"
   ]
  },
  {
   "cell_type": "markdown",
   "metadata": {},
   "source": [
    "### Five-Act Tragedies in Verse"
   ]
  },
  {
   "cell_type": "markdown",
   "metadata": {},
   "source": [
    "### Summary by Tentative Periods \n",
    "\n",
    "1. The mean frequency of stage directions was higher in comedies than in tragedies in every period: in Period One 18.51 in comedies, 5.56 in tragedies, in Period Two, 17.87 in comedies and 8.32 in tragedies. At first sight, it appears that overall, the frequency of stage directions in comedies decreased, however, more exploration showed that the frequency of stage directions in comedies of Period Two was affected by an extremely low outlier, Aleksandr Sobolev's *Tri zhenikha ili liubov‘ nyneshniago sveta* (1817) with stage directions frequency 5.229. If we look at the median stage directions frequency in comedy, it has increased from 16.89 to 19.60 in comedy from tentative Period One to tentative Period Two. The median frequency of stage directions also increased in tragedy from 4.94 to 6.39. The standard deviation increased in comedy from 4.06 to 6.38, and in tragedy, more than threefold, from 1.79 to 6.39.\n",
    "2. The average length of a stage direction tended to be longer in tragedies in every period: in the comedy of Period One, it was 2.84, with a standard deviation of 0.33, and in the tragedy of Period One, it was 3.33, with a standard deviation of 0.50. In Period Two, in comedy it decreased to 2.23; the same trend is observed in the median, which decreased from 2.75 to 2.5. In tragedy, the average length of a stage direction increased to 4.13, with a standard deviation of 1.04. The median also increased from 3.32 to 4.36.\n",
    "3. The mean degree of verse and prose interaction was higher in comedy in every period examined. In the tentative Period One, the mean degree of verse and prose interaction in comedy was 6.12, with a standard deviation of 2.04. In tragedy, it was 0.75, with a standard deviation of 0.47. In Period Two, in comedy, the mean was 7.57, with a standard deviation of 4.41. In tragedy, the mean was 1.84, with a standard deviation of 1.75. The medians for the two periods were also consistently higher in comedy than in tragedy (5.76 and 7.74 in comedy vs. 0.6 and 1.45 in tragedy."
   ]
  },
  {
   "cell_type": "markdown",
   "metadata": {},
   "source": [
    "## Part 3. Tragedies Before 1775 and Comedies After 1822"
   ]
  },
  {
   "cell_type": "markdown",
   "metadata": {},
   "source": [
    "To compare two genres, we had to use the same time boundaries: from 1775 to 1822 when both comedies and tragedies were written. However, there were five-act verse tragedies from 1747 up to 1775 and comedies from 1822 to 1849. We will see how the three features developed in those years."
   ]
  },
  {
   "cell_type": "code",
   "execution_count": 17,
   "metadata": {},
   "outputs": [],
   "source": [
    "before_1775 = sperantov_data_five_acts[sperantov_data_five_acts.date < 1775][['frequency', \n",
    "                                                                               'average_length',\n",
    "                                                                               'verse_prose_interaction']].copy()"
   ]
  },
  {
   "cell_type": "markdown",
   "metadata": {},
   "source": [
    "### Tragedies Before 1775"
   ]
  },
  {
   "cell_type": "code",
   "execution_count": 18,
   "metadata": {},
   "outputs": [
    {
     "data": {
      "text/html": [
       "<div>\n",
       "<style scoped>\n",
       "    .dataframe tbody tr th:only-of-type {\n",
       "        vertical-align: middle;\n",
       "    }\n",
       "\n",
       "    .dataframe tbody tr th {\n",
       "        vertical-align: top;\n",
       "    }\n",
       "\n",
       "    .dataframe thead th {\n",
       "        text-align: right;\n",
       "    }\n",
       "</style>\n",
       "<table border=\"1\" class=\"dataframe\">\n",
       "  <thead>\n",
       "    <tr style=\"text-align: right;\">\n",
       "      <th></th>\n",
       "      <th>frequency</th>\n",
       "      <th>average_length</th>\n",
       "      <th>verse_prose_interaction</th>\n",
       "    </tr>\n",
       "  </thead>\n",
       "  <tbody>\n",
       "    <tr>\n",
       "      <th>mean</th>\n",
       "      <td>4.69</td>\n",
       "      <td>3.40</td>\n",
       "      <td>0.60</td>\n",
       "    </tr>\n",
       "    <tr>\n",
       "      <th>std</th>\n",
       "      <td>1.67</td>\n",
       "      <td>0.77</td>\n",
       "      <td>0.32</td>\n",
       "    </tr>\n",
       "    <tr>\n",
       "      <th>50%</th>\n",
       "      <td>4.44</td>\n",
       "      <td>3.28</td>\n",
       "      <td>0.48</td>\n",
       "    </tr>\n",
       "  </tbody>\n",
       "</table>\n",
       "</div>"
      ],
      "text/plain": [
       "      frequency  average_length  verse_prose_interaction\n",
       "mean       4.69            3.40                     0.60\n",
       "std        1.67            0.77                     0.32\n",
       "50%        4.44            3.28                     0.48"
      ]
     },
     "execution_count": 18,
     "metadata": {},
     "output_type": "execute_result"
    }
   ],
   "source": [
    "before_1775.describe().loc[['mean', \n",
    "                           'std',\n",
    "                           '50%'],\n",
    "                           ['frequency', \n",
    "                           'average_length',\n",
    "                           'verse_prose_interaction']].round(2)"
   ]
  },
  {
   "cell_type": "code",
   "execution_count": 19,
   "metadata": {},
   "outputs": [
    {
     "data": {
      "image/png": "[encoded data removed]",
      "text/plain": [
       "<Figure size 432x288 with 1 Axes>"
      ]
     },
     "metadata": {
      "needs_background": "light"
     },
     "output_type": "display_data"
    }
   ],
   "source": [
    "plt.title('The Average Length of A Stage Direction in the Tragedies Before 1775', fontsize=16)\n",
    "sns.boxplot(x=before_1775['average_length'])\n",
    "plt.show()"
   ]
  },
  {
   "cell_type": "code",
   "execution_count": 20,
   "metadata": {},
   "outputs": [
    {
     "data": {
      "text/html": [
       "<div>\n",
       "<style scoped>\n",
       "    .dataframe tbody tr th:only-of-type {\n",
       "        vertical-align: middle;\n",
       "    }\n",
       "\n",
       "    .dataframe tbody tr th {\n",
       "        vertical-align: top;\n",
       "    }\n",
       "\n",
       "    .dataframe thead th {\n",
       "        text-align: right;\n",
       "    }\n",
       "</style>\n",
       "<table border=\"1\" class=\"dataframe\">\n",
       "  <thead>\n",
       "    <tr style=\"text-align: right;\">\n",
       "      <th></th>\n",
       "      <th>last_name</th>\n",
       "      <th>first_name</th>\n",
       "      <th>title</th>\n",
       "      <th>date</th>\n",
       "      <th>average_length</th>\n",
       "    </tr>\n",
       "  </thead>\n",
       "  <tbody>\n",
       "    <tr>\n",
       "      <th>15</th>\n",
       "      <td>Rzhevskii</td>\n",
       "      <td>Aleksei</td>\n",
       "      <td>Podlozhyi Smerdii</td>\n",
       "      <td>1769</td>\n",
       "      <td>5.69</td>\n",
       "    </tr>\n",
       "  </tbody>\n",
       "</table>\n",
       "</div>"
      ],
      "text/plain": [
       "    last_name first_name              title  date  average_length\n",
       "15  Rzhevskii    Aleksei  Podlozhyi Smerdii  1769            5.69"
      ]
     },
     "execution_count": 20,
     "metadata": {},
     "output_type": "execute_result"
    }
   ],
   "source": [
    "sperantov_data_five_acts[sperantov_data_five_acts.date < 1775][\n",
    "sperantov_data_five_acts[sperantov_data_five_acts.date < 1775]['average_length'] > 5][['last_name', \n",
    "                                                                                         'first_name', \n",
    "                                                                                         'title', \n",
    "                                                                                         'date',\n",
    "                                                                                         'average_length']]"
   ]
  },
  {
   "attachments": {
    "image.png": {
     "image/png": "[encoded data removed]"
    }
   },
   "cell_type": "markdown",
   "metadata": {},
   "source": [
    "### Summary:\n",
    "1. The mean frequency of stage direction in tragedies before 1775 was 4.69, with a standard deviation of 1.67, i.e., lower than in tragedies from 1775 to 1794 when the mean was 5.56 with a standard deviation of 1.79. The median was also lower in tragedies before 1775 (4.44) than in tragedies of from 1775 to 1794 (4.94).\n",
    "2. The average length of a stage direction before 1775 was slightly higher (the mean of 3.40, with a standard deviation of 0.7). In the tragedies from 1775 to 1794, the mean was 3.33 with a standard deviation of 0.5. The high mean was caused by a high outlier (Aleksei Rzhevskii’s Podlozhyi Smerdii (1769)). The median was lower in tragedies before 1775 (3.28) than in tragedies from 1775 to 1794 (3.32).![image.png](attachment:image.png)\n",
    "3. The mean degree of verse and prose interaction in the tragedies before 1775 was 0.60, with a standard deviation of 0.32. In the tragedies from 1775 to 1794, both the mean  (the mean of 0.75 with a standard deviation of 0.47). The median was also lower in tragedies before 1775: 0.48 vs. 0.60.![image.png](attachment:image.png)"
   ]
  },
  {
   "cell_type": "markdown",
   "metadata": {},
   "source": [
    "### Comedies After 1822"
   ]
  },
  {
   "cell_type": "code",
   "execution_count": 21,
   "metadata": {},
   "outputs": [],
   "source": [
    "after_1822 = comedies_sorted[comedies_sorted.creation_date > 1822][['frequency', \n",
    "                                                                   'average_length',\n",
    "                                                                   'verse_prose_interaction']].copy()"
   ]
  },
  {
   "cell_type": "code",
   "execution_count": 22,
   "metadata": {},
   "outputs": [
    {
     "data": {
      "text/html": [
       "<div>\n",
       "<style scoped>\n",
       "    .dataframe tbody tr th:only-of-type {\n",
       "        vertical-align: middle;\n",
       "    }\n",
       "\n",
       "    .dataframe tbody tr th {\n",
       "        vertical-align: top;\n",
       "    }\n",
       "\n",
       "    .dataframe thead th {\n",
       "        text-align: right;\n",
       "    }\n",
       "</style>\n",
       "<table border=\"1\" class=\"dataframe\">\n",
       "  <thead>\n",
       "    <tr style=\"text-align: right;\">\n",
       "      <th></th>\n",
       "      <th>frequency</th>\n",
       "      <th>average_length</th>\n",
       "      <th>verse_prose_interaction</th>\n",
       "    </tr>\n",
       "  </thead>\n",
       "  <tbody>\n",
       "    <tr>\n",
       "      <th>mean</th>\n",
       "      <td>17.84</td>\n",
       "      <td>2.86</td>\n",
       "      <td>7.99</td>\n",
       "    </tr>\n",
       "    <tr>\n",
       "      <th>std</th>\n",
       "      <td>5.46</td>\n",
       "      <td>0.64</td>\n",
       "      <td>2.66</td>\n",
       "    </tr>\n",
       "    <tr>\n",
       "      <th>50%</th>\n",
       "      <td>15.89</td>\n",
       "      <td>2.76</td>\n",
       "      <td>8.77</td>\n",
       "    </tr>\n",
       "  </tbody>\n",
       "</table>\n",
       "</div>"
      ],
      "text/plain": [
       "      frequency  average_length  verse_prose_interaction\n",
       "mean      17.84            2.86                     7.99\n",
       "std        5.46            0.64                     2.66\n",
       "50%       15.89            2.76                     8.77"
      ]
     },
     "execution_count": 22,
     "metadata": {},
     "output_type": "execute_result"
    }
   ],
   "source": [
    "after_1822.describe().loc[['mean', \n",
    "                           'std',\n",
    "                           '50%'],\n",
    "                           ['frequency', \n",
    "                           'average_length',\n",
    "                           'verse_prose_interaction']].round(2)"
   ]
  },
  {
   "cell_type": "markdown",
   "metadata": {},
   "source": [
    "### Summary:\n",
    "1. The mean frequency of stage direction was higher in comedies after 1822 than in Comedies of Period Two (18.84, with a standard deviation of 5.46 vs. 18.51, with a standard deviation of 4.06). However, as we already mentioned, there was a low outlier in Period Two. The median frequency was higher in Period Two (19.60) than in comedies after 1822.\n",
    "2. The average length of a stage direction was higher in comedies after 1822 than in comedies of Period Two (2.86, with a standard deviation of 0.64 vs. 2.23 with a standard deviation of 0.86). The median average length was also higher in comedies after 1822 than in comedies of Period Two (2.76 vs. 2.50).\n",
    "3. The mean degree of verse and prose interaction was higher in comedies after 1822 than in Period Two (7.99, with a standard deviation of 2.66 vs. 6.12 with a standard deviation of 2.04). The median degree was also higher in comedies after 188: 8.77 vs. 7.74."
   ]
  },
  {
   "cell_type": "markdown",
   "metadata": {},
   "source": [
    "## Part 4. Conclusions:\n"
   ]
  },
  {
   "cell_type": "markdown",
   "metadata": {},
   "source": [
    "1. The Russian five-act comedies in verse tended to have almost three times higher frequency of stage directions than tragedies.\n",
    "2. On the contrary, tragedies tended to have lengthier stage directions.\n",
    "3. The degree of verse and prose interaction in comedies s five times as high as the degree of verse and prose interaction in tragedies."
   ]
  },
  {
   "cell_type": "code",
   "execution_count": null,
   "metadata": {},
   "outputs": [],
   "source": []
  }
 ],
 "metadata": {
  "kernelspec": {
   "display_name": "Python 3",
   "language": "python",
   "name": "python3"
  },
  "language_info": {
   "codemirror_mode": {
    "name": "ipython",
    "version": 3
   },
   "file_extension": ".py",
   "mimetype": "text/x-python",
   "name": "python",
   "nbconvert_exporter": "python",
   "pygments_lexer": "ipython3",
   "version": "3.7.6"
  }
 },
 "nbformat": 4,
 "nbformat_minor": 4
}
