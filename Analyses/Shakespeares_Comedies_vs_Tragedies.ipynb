{
 "cells": [
  {
   "cell_type": "markdown",
   "metadata": {},
   "source": [
    "## Shakespeare's Comedies and Tragedies. Comparison\n",
    "\n",
    "In this notebook, we will compare our data on Shakespeare's comedies and Iarkhoo's data on Shakespeare's tragedies. \n",
    "\n",
    "We will sub-divide Shakespeare's plays into two periods:\n",
    "- before 1600 (1592 - 1599)\n",
    "- starting 1600 (1600 - 1610).\n",
    "\n",
    "We will compare the two genres based on the following features in each of the above-mentioned periods:\n",
    "- Speech distribution;\n",
    "- The standard range of the number of speaking characters (sigma);\n",
    "- The percentage of non-dialogues;\n",
    "- The percentage of polylogues;\n",
    "- The percentage of monologues;\n",
    "- The number of dramatic characters;\n",
    "- The mobility coefficient."
   ]
  },
  {
   "cell_type": "code",
   "execution_count": 1,
   "metadata": {},
   "outputs": [],
   "source": [
    "import pandas as pd\n",
    "import numpy as np\n",
    "import re\n",
    "import matplotlib.pyplot as plt\n",
    "%matplotlib inline\n",
    "import seaborn as sns"
   ]
  },
  {
   "cell_type": "code",
   "execution_count": 2,
   "metadata": {},
   "outputs": [],
   "source": [
    "def determine_period(row):\n",
    "    if row < 1600:\n",
    "        period = 1\n",
    "    else:\n",
    "        period = 2\n",
    "    \n",
    "    return period"
   ]
  },
  {
   "cell_type": "code",
   "execution_count": 3,
   "metadata": {},
   "outputs": [],
   "source": [
    "def make_list(row):\n",
    "    speech_dist = []\n",
    "    for value in row[1:-1].split('\\n '):\n",
    "        speech_dist.append([int(num) for num in re.findall('[0-9]+', value)])\n",
    "        \n",
    "    return speech_dist"
   ]
  },
  {
   "cell_type": "code",
   "execution_count": 4,
   "metadata": {},
   "outputs": [],
   "source": [
    "def speech_distribution_by_author(author_df):\n",
    "    all_distributions = []\n",
    "    for row in author_df['speech_distribution']:\n",
    "        speech_dist_df = pd.DataFrame(row).T\n",
    "        # rename columns to make sure they start with 1 and not 0\n",
    "        speech_dist_df.columns = speech_dist_df.iloc[0, :]\n",
    "        # no need to include the variants as a row - they will be column names\n",
    "        only_counts_df = pd.DataFrame(speech_dist_df.iloc[1, :])\n",
    "        only_counts_df.columns = ['raw_numbers']\n",
    "        only_counts_df['percentage'] = only_counts_df['raw_numbers'] / only_counts_df.sum().values[0]\n",
    "        all_distributions.append(round(only_counts_df['percentage'], 4))\n",
    "    period_df_dist = pd.concat(all_distributions, axis=1).fillna(0)\n",
    "    # take the mean for each period\n",
    "    mean_per_type = pd.DataFrame(period_df_dist.mean(axis=1)).T \n",
    "    mean_per_type.index = ['percentage_of_scenes']\n",
    "    mean_per_type.index.name = 'number_of_speakers'\n",
    "    mean_per_type = (mean_per_type * 100).round(2)\n",
    "        \n",
    "    return mean_per_type"
   ]
  },
  {
   "cell_type": "code",
   "execution_count": 5,
   "metadata": {},
   "outputs": [],
   "source": [
    "def sigma_iarkho(df):\n",
    "    \"\"\"\n",
    "    The function allows calculating standard range following iarkho's procedure.\n",
    "    Parameters:\n",
    "        df  - a dataframe where columns are variants, i.e., the distinct number of speakers in the ascending order, \n",
    "              e.g. [1, 2, 3, 4, 5] and values weights corresponding to these variants, i.e.,\n",
    "              the number of scenes, e.g. [20, 32, 18, 9, 1]\n",
    "    Returns:\n",
    "        sigma - standard range per iarkho\n",
    "    \"\"\"\n",
    "    weighted_mean_variants = np.average(df.columns.tolist(), weights=df.values[0])\n",
    "    differences_squared = [(variant - weighted_mean_variants)**2 for variant in df.columns]\n",
    "    weighted_mean_difference = np.average(differences_squared, weights=df.values[0])\n",
    "    sigma = round(weighted_mean_difference**0.5, 2)\n",
    "\n",
    "    return sigma"
   ]
  },
  {
   "cell_type": "code",
   "execution_count": 6,
   "metadata": {},
   "outputs": [],
   "source": [
    "contr_data_df = pd.read_csv('../Contrastive_Material/Contrastive_Material_Data.csv')"
   ]
  },
  {
   "cell_type": "code",
   "execution_count": 7,
   "metadata": {},
   "outputs": [],
   "source": [
    "contr_data_df['speech_distribution'] = contr_data_df['speech_distribution'].apply(make_list)"
   ]
  },
  {
   "cell_type": "code",
   "execution_count": 8,
   "metadata": {},
   "outputs": [],
   "source": [
    "# sort by date\n",
    "sorted_contr_data_df = contr_data_df.sort_values(by='date')"
   ]
  },
  {
   "cell_type": "code",
   "execution_count": 9,
   "metadata": {},
   "outputs": [],
   "source": [
    "sorted_contr_data_df  = sorted_contr_data_df.rename(columns={'num_scenes_iarkho': 'mobility_coefficient', \n",
    "                                                           'percentage_non_duologues': 'percentage_non_dialogues',\n",
    "                                                           'percentage_above_two_speakers': 'percentage_polylogues',\n",
    "                                                            'percentage_scenes_with_discontinuous_change_characters': \n",
    "                                                            'discontinuous_scenes'\n",
    "                                                            })\n"
   ]
  },
  {
   "cell_type": "code",
   "execution_count": 10,
   "metadata": {},
   "outputs": [],
   "source": [
    "shakespeare_df = sorted_contr_data_df[sorted_contr_data_df.last_name == 'Shakespeare'].copy()"
   ]
  },
  {
   "cell_type": "code",
   "execution_count": 11,
   "metadata": {},
   "outputs": [],
   "source": [
    "shakespeare_df['date'] = shakespeare_df['date'].astype('int')"
   ]
  },
  {
   "cell_type": "code",
   "execution_count": 12,
   "metadata": {},
   "outputs": [],
   "source": [
    "shakespeare_df['period'] = shakespeare_df['date'].apply(determine_period)"
   ]
  },
  {
   "cell_type": "markdown",
   "metadata": {},
   "source": [
    "### Get Data For Tragedies"
   ]
  },
  {
   "cell_type": "code",
   "execution_count": 13,
   "metadata": {},
   "outputs": [],
   "source": [
    "plays = ['Troilus and Cressida', \n",
    "         'Coriolanus', \n",
    "         'Titus Andronicus', \n",
    "         'Romeo and Juliet', \n",
    "         'Timon of Athens',\n",
    "         'Julius Caesar', \n",
    "         'Macbeth', \n",
    "         'Hamlet', \n",
    "         'King Lear', \n",
    "         'Othello']\n",
    "\n",
    "shakespeare_tragedies = pd.DataFrame(plays, columns=['title'])\n",
    "shakespeare_tragedies = pd.concat([shakespeare_tragedies, pd.DataFrame(np.zeros((10, 10)))], axis=1)\n",
    "\n",
    "# # this data comes from Iarkho's article table VIII (page 571)\n",
    "shakespeare_tragedies['speech_distribution'] = [[(1, 34), (2, 45), (3, 23), (4, 13), (5, 5), (6, 0), (7, 0),\n",
    "                                                (8, 1), (9, 0), (10, 1)],\n",
    "                                               [(1, 12), (2, 38), (3, 30), (4, 10), (5, 7), (6, 2), (7, 2),\n",
    "                                                (8, 1), (9, 0), (10, 0)],\n",
    "                                               [(1, 16), (2, 19), (3, 21), (4, 9), (5, 2), (6, 2), (7, 0),\n",
    "                                                (8, 0), (9, 0), (10, 0)],\n",
    "                                               [(1, 22), (2, 54), (3, 18), (4, 7), (5, 3), (6, 0), (7, 0),\n",
    "                                                (8, 0), (9, 0), (10, 0)],\n",
    "                                               [(1, 15), (2, 31), (3, 19), (4, 11), (5, 3), (6, 2), (7, 2),\n",
    "                                                (8, 1), (9, 0), (10, 0)],\n",
    "                                               [(1, 14), (2, 29), (3, 16), (4, 10), (5, 5), (6, 1), (7, 2),\n",
    "                                                (8, 0), (9, 0), (10, 0)],\n",
    "                                               [(1, 21), (2, 40), (3, 18), (4, 9), (5, 3), (6, 1), (7, 1),\n",
    "                                                (8, 0), (9, 0), (10, 0)],\n",
    "                                               [(1, 21), (2, 51), (3, 25), (4, 4), (5, 2), (6, 3), (7, 0),\n",
    "                                                (8, 0), (9, 0), (10, 0)],\n",
    "                                               [(1, 13), (2, 48), (3, 26), (4, 12), (5, 5), (6, 1), (7, 0),\n",
    "                                                (8, 0), (9, 0), (10, 0)],\n",
    "                                               [(1, 17), (2, 43), (3, 24), (4, 11), (5, 4), (6, 0), (7, 0),\n",
    "                                                (8, 0), (9, 0), (10, 0)]]\n",
    "shakespeare_tragedies['date'] = [1602, 1608, 1592, 1597, 1606, 1599, 1606, 1603, 1606, 1604]\n",
    "# # this data comes from Dracor\n",
    "shakespeare_tragedies['num_present_characters'] = [34, 67, 27, 38, 68, 51, 45, 38, 33, 28]\n",
    "# # this data comes from Iarkho's article table VIII (page 571)\n",
    "shakespeare_tragedies['mobility_coefficient'] = [122, 102, 69, 104, 83, 78, 93, 106, 105, 99]\n",
    "shakespeare_tragedies['percentage_monologues'] = [28, 12, 23, 21, 18, 18, 23, 20, 12, 17]\n",
    "shakespeare_tragedies['percentage_non_dialogues'] = [63, 63, 72, 48, 63, 62, 57, 52, 54, 57]\n",
    "shakespeare_tragedies['percentage_polylogues'] = [35, 51, 49, 27, 45, 44, 34, 32, 42, 39]\n",
    "shakespeare_tragedies = shakespeare_tragedies.sort_values(by='date')\n",
    "\n",
    "shakespeare_tragedies['period'] = shakespeare_tragedies['date'].apply(determine_period)"
   ]
  },
  {
   "cell_type": "code",
   "execution_count": 14,
   "metadata": {},
   "outputs": [
    {
     "data": {
      "text/plain": [
       "1608"
      ]
     },
     "execution_count": 14,
     "metadata": {},
     "output_type": "execute_result"
    }
   ],
   "source": [
    "shakespeare_tragedies.date.max()"
   ]
  },
  {
   "cell_type": "code",
   "execution_count": 15,
   "metadata": {},
   "outputs": [
    {
     "data": {
      "text/plain": [
       "(10, 19)"
      ]
     },
     "execution_count": 15,
     "metadata": {},
     "output_type": "execute_result"
    }
   ],
   "source": [
    "shakespeare_tragedies.shape"
   ]
  },
  {
   "cell_type": "markdown",
   "metadata": {},
   "source": [
    "### Speech Distribution in Shakespeare's Comedies and Tragedies"
   ]
  },
  {
   "cell_type": "markdown",
   "metadata": {},
   "source": [
    "#### Speech Distribution in Shakespeare's Comedies Before 1600"
   ]
  },
  {
   "cell_type": "code",
   "execution_count": 16,
   "metadata": {},
   "outputs": [
    {
     "data": {
      "text/html": [
       "<div>\n",
       "<style scoped>\n",
       "    .dataframe tbody tr th:only-of-type {\n",
       "        vertical-align: middle;\n",
       "    }\n",
       "\n",
       "    .dataframe tbody tr th {\n",
       "        vertical-align: top;\n",
       "    }\n",
       "\n",
       "    .dataframe thead th {\n",
       "        text-align: right;\n",
       "    }\n",
       "</style>\n",
       "<table border=\"1\" class=\"dataframe\">\n",
       "  <thead>\n",
       "    <tr style=\"text-align: right;\">\n",
       "      <th></th>\n",
       "      <th>1</th>\n",
       "      <th>2</th>\n",
       "      <th>3</th>\n",
       "      <th>4</th>\n",
       "      <th>5</th>\n",
       "      <th>6</th>\n",
       "      <th>7</th>\n",
       "      <th>8</th>\n",
       "      <th>9</th>\n",
       "      <th>10</th>\n",
       "    </tr>\n",
       "    <tr>\n",
       "      <th>number_of_speakers</th>\n",
       "      <th></th>\n",
       "      <th></th>\n",
       "      <th></th>\n",
       "      <th></th>\n",
       "      <th></th>\n",
       "      <th></th>\n",
       "      <th></th>\n",
       "      <th></th>\n",
       "      <th></th>\n",
       "      <th></th>\n",
       "    </tr>\n",
       "  </thead>\n",
       "  <tbody>\n",
       "    <tr>\n",
       "      <th>percentage_of_scenes</th>\n",
       "      <td>22.54</td>\n",
       "      <td>38.05</td>\n",
       "      <td>21.06</td>\n",
       "      <td>9.0</td>\n",
       "      <td>4.28</td>\n",
       "      <td>3.4</td>\n",
       "      <td>0.22</td>\n",
       "      <td>0.27</td>\n",
       "      <td>0.86</td>\n",
       "      <td>0.32</td>\n",
       "    </tr>\n",
       "  </tbody>\n",
       "</table>\n",
       "</div>"
      ],
      "text/plain": [
       "0                        1      2      3    4     5    6     7     8     9   \\\n",
       "number_of_speakers                                                            \n",
       "percentage_of_scenes  22.54  38.05  21.06  9.0  4.28  3.4  0.22  0.27  0.86   \n",
       "\n",
       "0                       10  \n",
       "number_of_speakers          \n",
       "percentage_of_scenes  0.32  "
      ]
     },
     "metadata": {},
     "output_type": "display_data"
    },
    {
     "name": "stdout",
     "output_type": "stream",
     "text": [
      "The standard range of the number of speaking characters: 1.49\n"
     ]
    }
   ],
   "source": [
    "speech_dist_shakespeare_per_one = speech_distribution_by_author(\n",
    "                                  shakespeare_df[shakespeare_df.period == 1])\n",
    "display(speech_dist_shakespeare_per_one)\n",
    "\n",
    "print('The standard range of the number of speaking characters:', \n",
    "      round(sigma_iarkho(speech_dist_shakespeare_per_one), 2))"
   ]
  },
  {
   "cell_type": "code",
   "execution_count": 17,
   "metadata": {},
   "outputs": [
    {
     "data": {
      "text/plain": [
       "1.67"
      ]
     },
     "execution_count": 17,
     "metadata": {},
     "output_type": "execute_result"
    }
   ],
   "source": [
    "round(np.sum(speech_dist_shakespeare_per_one.iloc[:, 6:].values), 2)"
   ]
  },
  {
   "cell_type": "markdown",
   "metadata": {},
   "source": [
    "#### Speech Distribution in Shakespeare's Comedies After 1600"
   ]
  },
  {
   "cell_type": "code",
   "execution_count": 18,
   "metadata": {},
   "outputs": [
    {
     "data": {
      "text/html": [
       "<div>\n",
       "<style scoped>\n",
       "    .dataframe tbody tr th:only-of-type {\n",
       "        vertical-align: middle;\n",
       "    }\n",
       "\n",
       "    .dataframe tbody tr th {\n",
       "        vertical-align: top;\n",
       "    }\n",
       "\n",
       "    .dataframe thead th {\n",
       "        text-align: right;\n",
       "    }\n",
       "</style>\n",
       "<table border=\"1\" class=\"dataframe\">\n",
       "  <thead>\n",
       "    <tr style=\"text-align: right;\">\n",
       "      <th></th>\n",
       "      <th>0</th>\n",
       "      <th>1</th>\n",
       "      <th>2</th>\n",
       "      <th>3</th>\n",
       "      <th>4</th>\n",
       "      <th>5</th>\n",
       "      <th>6</th>\n",
       "      <th>7</th>\n",
       "      <th>8</th>\n",
       "      <th>11</th>\n",
       "    </tr>\n",
       "    <tr>\n",
       "      <th>number_of_speakers</th>\n",
       "      <th></th>\n",
       "      <th></th>\n",
       "      <th></th>\n",
       "      <th></th>\n",
       "      <th></th>\n",
       "      <th></th>\n",
       "      <th></th>\n",
       "      <th></th>\n",
       "      <th></th>\n",
       "      <th></th>\n",
       "    </tr>\n",
       "  </thead>\n",
       "  <tbody>\n",
       "    <tr>\n",
       "      <th>percentage_of_scenes</th>\n",
       "      <td>0.72</td>\n",
       "      <td>24.58</td>\n",
       "      <td>38.43</td>\n",
       "      <td>19.58</td>\n",
       "      <td>10.82</td>\n",
       "      <td>3.62</td>\n",
       "      <td>1.23</td>\n",
       "      <td>0.44</td>\n",
       "      <td>0.45</td>\n",
       "      <td>0.16</td>\n",
       "    </tr>\n",
       "  </tbody>\n",
       "</table>\n",
       "</div>"
      ],
      "text/plain": [
       "0                       0      1      2      3      4     5     6     7   \\\n",
       "number_of_speakers                                                         \n",
       "percentage_of_scenes  0.72  24.58  38.43  19.58  10.82  3.62  1.23  0.44   \n",
       "\n",
       "0                       8     11  \n",
       "number_of_speakers                \n",
       "percentage_of_scenes  0.45  0.16  "
      ]
     },
     "metadata": {},
     "output_type": "display_data"
    },
    {
     "name": "stdout",
     "output_type": "stream",
     "text": [
      "The standard range of the number of speaking characters: 1.3\n"
     ]
    }
   ],
   "source": [
    "speech_dist_shakespeare_per_two = speech_distribution_by_author(\n",
    "                                  shakespeare_df[shakespeare_df.period == 2])\n",
    "display(speech_dist_shakespeare_per_two)\n",
    "\n",
    "print('The standard range of the number of speaking characters:', \n",
    "      round(sigma_iarkho(speech_dist_shakespeare_per_two ), 2))"
   ]
  },
  {
   "cell_type": "code",
   "execution_count": 19,
   "metadata": {},
   "outputs": [
    {
     "data": {
      "text/plain": [
       "1.05"
      ]
     },
     "execution_count": 19,
     "metadata": {},
     "output_type": "execute_result"
    }
   ],
   "source": [
    "round(np.sum(speech_dist_shakespeare_per_two.iloc[:, 7:].values), 2)"
   ]
  },
  {
   "cell_type": "code",
   "execution_count": 20,
   "metadata": {},
   "outputs": [
    {
     "data": {
      "image/png": "[encoded data removed]",
      "text/plain": [
       "<Figure size 1080x360 with 2 Axes>"
      ]
     },
     "metadata": {
      "needs_background": "light"
     },
     "output_type": "display_data"
    }
   ],
   "source": [
    "plt.figure(figsize=(15, 5))\n",
    "plt.subplot(121)\n",
    "plt.title('Speech Distribution in Shakespeare\\'s Comedies Before 1600', fontsize=14)\n",
    "sns.barplot(x=speech_dist_shakespeare_per_one.columns.tolist(), \n",
    "            y=speech_dist_shakespeare_per_one.values.tolist()[0])\n",
    "plt.xlabel('Number of Speakers', fontsize=12)\n",
    "plt.ylabel('Percentage of Scenes', fontsize=12)\n",
    "\n",
    "plt.subplot(122)\n",
    "plt.title('Speech Distribution in Shakespeare\\'s Comedies After 1600', fontsize=14)\n",
    "sns.barplot(x=speech_dist_shakespeare_per_two.columns.tolist(), \n",
    "            y=speech_dist_shakespeare_per_two.values.tolist()[0])\n",
    "plt.xlabel('Number of Speakers', fontsize=12)\n",
    "plt.ylabel('Percentage of Scenes', fontsize=12)\n",
    "plt.tight_layout()\n",
    "plt.show()"
   ]
  },
  {
   "cell_type": "markdown",
   "metadata": {},
   "source": [
    "#### Speech Distribution in Shakespeare's Tragedies Before 1600"
   ]
  },
  {
   "cell_type": "code",
   "execution_count": 21,
   "metadata": {},
   "outputs": [
    {
     "data": {
      "text/html": [
       "<div>\n",
       "<style scoped>\n",
       "    .dataframe tbody tr th:only-of-type {\n",
       "        vertical-align: middle;\n",
       "    }\n",
       "\n",
       "    .dataframe tbody tr th {\n",
       "        vertical-align: top;\n",
       "    }\n",
       "\n",
       "    .dataframe thead th {\n",
       "        text-align: right;\n",
       "    }\n",
       "</style>\n",
       "<table border=\"1\" class=\"dataframe\">\n",
       "  <thead>\n",
       "    <tr style=\"text-align: right;\">\n",
       "      <th></th>\n",
       "      <th>1</th>\n",
       "      <th>2</th>\n",
       "      <th>3</th>\n",
       "      <th>4</th>\n",
       "      <th>5</th>\n",
       "      <th>6</th>\n",
       "      <th>7</th>\n",
       "      <th>8</th>\n",
       "      <th>9</th>\n",
       "      <th>10</th>\n",
       "    </tr>\n",
       "    <tr>\n",
       "      <th>number_of_speakers</th>\n",
       "      <th></th>\n",
       "      <th></th>\n",
       "      <th></th>\n",
       "      <th></th>\n",
       "      <th></th>\n",
       "      <th></th>\n",
       "      <th></th>\n",
       "      <th></th>\n",
       "      <th></th>\n",
       "      <th></th>\n",
       "    </tr>\n",
       "  </thead>\n",
       "  <tbody>\n",
       "    <tr>\n",
       "      <th>percentage_of_scenes</th>\n",
       "      <td>20.84</td>\n",
       "      <td>39.04</td>\n",
       "      <td>22.84</td>\n",
       "      <td>10.92</td>\n",
       "      <td>4.09</td>\n",
       "      <td>1.4</td>\n",
       "      <td>0.87</td>\n",
       "      <td>0.0</td>\n",
       "      <td>0.0</td>\n",
       "      <td>0.0</td>\n",
       "    </tr>\n",
       "  </tbody>\n",
       "</table>\n",
       "</div>"
      ],
      "text/plain": [
       "0                        1      2      3      4     5    6     7    8    9   \\\n",
       "number_of_speakers                                                            \n",
       "percentage_of_scenes  20.84  39.04  22.84  10.92  4.09  1.4  0.87  0.0  0.0   \n",
       "\n",
       "0                      10  \n",
       "number_of_speakers         \n",
       "percentage_of_scenes  0.0  "
      ]
     },
     "metadata": {},
     "output_type": "display_data"
    },
    {
     "name": "stdout",
     "output_type": "stream",
     "text": [
      "The standard range of the number of speaking characters: 1.21\n"
     ]
    }
   ],
   "source": [
    "speech_dist_shakespeare_tr_per_one = speech_distribution_by_author(\n",
    "                                  shakespeare_tragedies[shakespeare_tragedies.period == 1])\n",
    "display(speech_dist_shakespeare_tr_per_one)\n",
    "\n",
    "print('The standard range of the number of speaking characters:', \n",
    "      round(sigma_iarkho(speech_dist_shakespeare_tr_per_one), 2))"
   ]
  },
  {
   "cell_type": "code",
   "execution_count": 22,
   "metadata": {},
   "outputs": [
    {
     "data": {
      "text/plain": [
       "0.87"
      ]
     },
     "execution_count": 22,
     "metadata": {},
     "output_type": "execute_result"
    }
   ],
   "source": [
    "round(np.sum(speech_dist_shakespeare_tr_per_one.iloc[:, 6:].values), 2)"
   ]
  },
  {
   "cell_type": "code",
   "execution_count": 23,
   "metadata": {},
   "outputs": [
    {
     "data": {
      "text/html": [
       "<div>\n",
       "<style scoped>\n",
       "    .dataframe tbody tr th:only-of-type {\n",
       "        vertical-align: middle;\n",
       "    }\n",
       "\n",
       "    .dataframe tbody tr th {\n",
       "        vertical-align: top;\n",
       "    }\n",
       "\n",
       "    .dataframe thead th {\n",
       "        text-align: right;\n",
       "    }\n",
       "</style>\n",
       "<table border=\"1\" class=\"dataframe\">\n",
       "  <thead>\n",
       "    <tr style=\"text-align: right;\">\n",
       "      <th></th>\n",
       "      <th>1</th>\n",
       "      <th>2</th>\n",
       "      <th>3</th>\n",
       "      <th>4</th>\n",
       "      <th>5</th>\n",
       "      <th>6</th>\n",
       "      <th>7</th>\n",
       "      <th>8</th>\n",
       "      <th>9</th>\n",
       "      <th>10</th>\n",
       "    </tr>\n",
       "    <tr>\n",
       "      <th>number_of_speakers</th>\n",
       "      <th></th>\n",
       "      <th></th>\n",
       "      <th></th>\n",
       "      <th></th>\n",
       "      <th></th>\n",
       "      <th></th>\n",
       "      <th></th>\n",
       "      <th></th>\n",
       "      <th></th>\n",
       "      <th></th>\n",
       "    </tr>\n",
       "  </thead>\n",
       "  <tbody>\n",
       "    <tr>\n",
       "      <th>percentage_of_scenes</th>\n",
       "      <td>18.49</td>\n",
       "      <td>41.61</td>\n",
       "      <td>23.26</td>\n",
       "      <td>9.94</td>\n",
       "      <td>4.06</td>\n",
       "      <td>1.31</td>\n",
       "      <td>0.77</td>\n",
       "      <td>0.43</td>\n",
       "      <td>0.0</td>\n",
       "      <td>0.12</td>\n",
       "    </tr>\n",
       "  </tbody>\n",
       "</table>\n",
       "</div>"
      ],
      "text/plain": [
       "0                        1      2      3     4     5     6     7     8    9   \\\n",
       "number_of_speakers                                                             \n",
       "percentage_of_scenes  18.49  41.61  23.26  9.94  4.06  1.31  0.77  0.43  0.0   \n",
       "\n",
       "0                       10  \n",
       "number_of_speakers          \n",
       "percentage_of_scenes  0.12  "
      ]
     },
     "metadata": {},
     "output_type": "display_data"
    },
    {
     "name": "stdout",
     "output_type": "stream",
     "text": [
      "The standard range of the number of speaking characters: 1.25\n"
     ]
    }
   ],
   "source": [
    "speech_dist_shakespeare_tr_per_two = speech_distribution_by_author(\n",
    "                                  shakespeare_tragedies[shakespeare_tragedies.period == 2])\n",
    "display(speech_dist_shakespeare_tr_per_two)\n",
    "\n",
    "print('The standard range of the number of speaking characters:', \n",
    "      round(sigma_iarkho(speech_dist_shakespeare_tr_per_two), 2))"
   ]
  },
  {
   "cell_type": "code",
   "execution_count": 24,
   "metadata": {},
   "outputs": [
    {
     "data": {
      "text/plain": [
       "1.32"
      ]
     },
     "execution_count": 24,
     "metadata": {},
     "output_type": "execute_result"
    }
   ],
   "source": [
    "round(np.sum(speech_dist_shakespeare_tr_per_two.iloc[:, 6:].values), 2)"
   ]
  },
  {
   "cell_type": "code",
   "execution_count": 25,
   "metadata": {},
   "outputs": [
    {
     "data": {
      "image/png": "[encoded data removed]",
      "text/plain": [
       "<Figure size 1080x360 with 2 Axes>"
      ]
     },
     "metadata": {
      "needs_background": "light"
     },
     "output_type": "display_data"
    }
   ],
   "source": [
    "plt.figure(figsize=(15, 5))\n",
    "plt.subplot(121)\n",
    "plt.title('Speech Distribution in Shakespeare\\'s Tragedies Before 1600', fontsize=14)\n",
    "sns.barplot(x=speech_dist_shakespeare_tr_per_one.columns.tolist(), \n",
    "            y=speech_dist_shakespeare_tr_per_one.values.tolist()[0])\n",
    "plt.xlabel('Number of Speakers', fontsize=12)\n",
    "plt.ylabel('Percentage of Scenes', fontsize=12)\n",
    "\n",
    "plt.subplot(122)\n",
    "plt.title('Speech Distribution in Shakespeare\\'s Tragedies After 1600', fontsize=14)\n",
    "sns.barplot(x=speech_dist_shakespeare_tr_per_two.columns.tolist(), \n",
    "            y=speech_dist_shakespeare_tr_per_two.values.tolist()[0])\n",
    "plt.xlabel('Number of Speakers', fontsize=12)\n",
    "plt.ylabel('Percentage of Scenes', fontsize=12)\n",
    "plt.tight_layout()\n",
    "plt.show()"
   ]
  },
  {
   "cell_type": "markdown",
   "metadata": {},
   "source": [
    "### Summary:"
   ]
  },
  {
   "cell_type": "markdown",
   "metadata": {},
   "source": [
    "The maximum number of speakers in Shakespeare's comedies before 1600 was 10, whereas in his comedies starting in 1600 was 11. Before 1600, 1.67% of scenes had over six speakers, whereas after, 1.05% of scenes had over six speakers. The standard range of the number of speaking characters decreased from 1.49 to 1.3. Comedies starting with 1600 had scenes with no speakers.\n",
    "\n",
    "The maximum number of speakers in Shakespeare's tragedies before 1600 and starting in 1600 it was also 10. The standard range in his comedies before 1600 was lower than that in his comedies of that period (1.21 vs. 1.49). The standard range in his tragedies starting in 1600 was the same as the standard range in the comedies of this period (1.25). Yet, the maximum number of speakers in comedies was 11 vs. 10 in tragedies of that period. In his tragedies before 1600, 0.87% of scenes had over six speakers (cf. 1.67% in the comedies of that time). After 1600, 1.32% of the scenes had over six speakers (cf. 1.05% in comedies)."
   ]
  },
  {
   "cell_type": "markdown",
   "metadata": {},
   "source": [
    "### The Percentage of Non-Dialogues"
   ]
  },
  {
   "cell_type": "code",
   "execution_count": 26,
   "metadata": {},
   "outputs": [
    {
     "data": {
      "image/png": "[encoded data removed]",
      "text/plain": [
       "<Figure size 864x432 with 1 Axes>"
      ]
     },
     "metadata": {
      "needs_background": "light"
     },
     "output_type": "display_data"
    }
   ],
   "source": [
    "plt.figure(figsize=(12, 6))\n",
    "plt.title('The Evolution of the Percentage of Non-Dialogues in Shakespeare\\'s Comedies and Tragedies', fontsize=14)\n",
    "sns.scatterplot(x='date', \n",
    "                y='percentage_non_dialogues', \n",
    "                data=shakespeare_tragedies, \n",
    "                color='blue', \n",
    "                label='tragedies')\n",
    "sns.scatterplot(x='date', y='percentage_non_dialogues', \n",
    "                data=shakespeare_df, \n",
    "                color='red', \n",
    "                label='comedies')\n",
    "plt.xticks([year for year in range(shakespeare_df.date.min(), \n",
    "                                   shakespeare_df.date.max()+1)])\n",
    "plt.xlabel('Creation Date', fontsize=12)\n",
    "plt.ylabel('The Percentage of Non-Dialogues', fontsize=12)\n",
    "plt.axvline(1600, color='grey',linestyle='dashed', linewidth=2)\n",
    "plt.text(1600.3, 70, '1600')\n",
    "plt.legend(loc='best')\n",
    "plt.show()"
   ]
  },
  {
   "cell_type": "code",
   "execution_count": 27,
   "metadata": {},
   "outputs": [
    {
     "data": {
      "text/html": [
       "<div>\n",
       "<style scoped>\n",
       "    .dataframe tbody tr th:only-of-type {\n",
       "        vertical-align: middle;\n",
       "    }\n",
       "\n",
       "    .dataframe tbody tr th {\n",
       "        vertical-align: top;\n",
       "    }\n",
       "\n",
       "    .dataframe thead th {\n",
       "        text-align: right;\n",
       "    }\n",
       "</style>\n",
       "<table border=\"1\" class=\"dataframe\">\n",
       "  <thead>\n",
       "    <tr style=\"text-align: right;\">\n",
       "      <th></th>\n",
       "      <th>mean</th>\n",
       "      <th>std</th>\n",
       "      <th>50%</th>\n",
       "      <th>min</th>\n",
       "      <th>max</th>\n",
       "    </tr>\n",
       "    <tr>\n",
       "      <th>period</th>\n",
       "      <th></th>\n",
       "      <th></th>\n",
       "      <th></th>\n",
       "      <th></th>\n",
       "      <th></th>\n",
       "    </tr>\n",
       "  </thead>\n",
       "  <tbody>\n",
       "    <tr>\n",
       "      <th>1</th>\n",
       "      <td>61.95</td>\n",
       "      <td>8.42</td>\n",
       "      <td>63.69</td>\n",
       "      <td>49.33</td>\n",
       "      <td>72.13</td>\n",
       "    </tr>\n",
       "    <tr>\n",
       "      <th>2</th>\n",
       "      <td>61.57</td>\n",
       "      <td>7.39</td>\n",
       "      <td>60.34</td>\n",
       "      <td>53.06</td>\n",
       "      <td>70.15</td>\n",
       "    </tr>\n",
       "  </tbody>\n",
       "</table>\n",
       "</div>"
      ],
      "text/plain": [
       "         mean   std    50%    min    max\n",
       "period                                  \n",
       "1       61.95  8.42  63.69  49.33  72.13\n",
       "2       61.57  7.39  60.34  53.06  70.15"
      ]
     },
     "execution_count": 27,
     "metadata": {},
     "output_type": "execute_result"
    }
   ],
   "source": [
    "shakespeare_df.groupby('period').describe().loc[:, 'percentage_non_dialogues'][['mean', 'std', '50%','min', 'max']].round(2)"
   ]
  },
  {
   "cell_type": "code",
   "execution_count": 28,
   "metadata": {},
   "outputs": [
    {
     "data": {
      "text/html": [
       "<div>\n",
       "<style scoped>\n",
       "    .dataframe tbody tr th:only-of-type {\n",
       "        vertical-align: middle;\n",
       "    }\n",
       "\n",
       "    .dataframe tbody tr th {\n",
       "        vertical-align: top;\n",
       "    }\n",
       "\n",
       "    .dataframe thead th {\n",
       "        text-align: right;\n",
       "    }\n",
       "</style>\n",
       "<table border=\"1\" class=\"dataframe\">\n",
       "  <thead>\n",
       "    <tr style=\"text-align: right;\">\n",
       "      <th></th>\n",
       "      <th>mean</th>\n",
       "      <th>std</th>\n",
       "      <th>50%</th>\n",
       "      <th>min</th>\n",
       "      <th>max</th>\n",
       "    </tr>\n",
       "    <tr>\n",
       "      <th>period</th>\n",
       "      <th></th>\n",
       "      <th></th>\n",
       "      <th></th>\n",
       "      <th></th>\n",
       "      <th></th>\n",
       "    </tr>\n",
       "  </thead>\n",
       "  <tbody>\n",
       "    <tr>\n",
       "      <th>1</th>\n",
       "      <td>60.67</td>\n",
       "      <td>12.06</td>\n",
       "      <td>62.0</td>\n",
       "      <td>48.0</td>\n",
       "      <td>72.0</td>\n",
       "    </tr>\n",
       "    <tr>\n",
       "      <th>2</th>\n",
       "      <td>58.43</td>\n",
       "      <td>4.61</td>\n",
       "      <td>57.0</td>\n",
       "      <td>52.0</td>\n",
       "      <td>63.0</td>\n",
       "    </tr>\n",
       "  </tbody>\n",
       "</table>\n",
       "</div>"
      ],
      "text/plain": [
       "         mean    std   50%   min   max\n",
       "period                                \n",
       "1       60.67  12.06  62.0  48.0  72.0\n",
       "2       58.43   4.61  57.0  52.0  63.0"
      ]
     },
     "execution_count": 28,
     "metadata": {},
     "output_type": "execute_result"
    }
   ],
   "source": [
    "shakespeare_tragedies.groupby('period').describe().loc[:, 'percentage_non_dialogues'][['mean', 'std', '50%','min', 'max']].round(2)"
   ]
  },
  {
   "cell_type": "code",
   "execution_count": 29,
   "metadata": {},
   "outputs": [
    {
     "data": {
      "image/png": "[encoded data removed]",
      "text/plain": [
       "<Figure size 864x432 with 1 Axes>"
      ]
     },
     "metadata": {
      "needs_background": "light"
     },
     "output_type": "display_data"
    }
   ],
   "source": [
    "plt.figure(figsize=(12, 6))\n",
    "plt.title('The Evolution of The Percentage of Polylogues in Shakespeare\\'s Comedies and Tragedies', fontsize=14)\n",
    "sns.scatterplot(x='date', \n",
    "                y='percentage_polylogues', \n",
    "                data=shakespeare_tragedies, \n",
    "                color='blue', \n",
    "                label='tragedies')\n",
    "sns.scatterplot(x='date', \n",
    "                y='percentage_polylogues', \n",
    "                data=shakespeare_df, \n",
    "                color='red', \n",
    "                label='comedies')\n",
    "plt.xticks([year for year in range(shakespeare_df.date.min(), \n",
    "                                   shakespeare_df.date.max()+1)])\n",
    "plt.xlabel('Creation Date', fontsize=12)\n",
    "plt.ylabel('The Percentage of Polylogues', fontsize=12)\n",
    "plt.axvline(1600, color='grey',linestyle='dashed', linewidth=2)\n",
    "plt.text(1600.3, 55, '1600')\n",
    "plt.legend(loc='best')\n",
    "plt.show()"
   ]
  },
  {
   "cell_type": "code",
   "execution_count": 30,
   "metadata": {},
   "outputs": [
    {
     "data": {
      "text/html": [
       "<div>\n",
       "<style scoped>\n",
       "    .dataframe tbody tr th:only-of-type {\n",
       "        vertical-align: middle;\n",
       "    }\n",
       "\n",
       "    .dataframe tbody tr th {\n",
       "        vertical-align: top;\n",
       "    }\n",
       "\n",
       "    .dataframe thead th {\n",
       "        text-align: right;\n",
       "    }\n",
       "</style>\n",
       "<table border=\"1\" class=\"dataframe\">\n",
       "  <thead>\n",
       "    <tr style=\"text-align: right;\">\n",
       "      <th></th>\n",
       "      <th>mean</th>\n",
       "      <th>std</th>\n",
       "      <th>50%</th>\n",
       "      <th>min</th>\n",
       "      <th>max</th>\n",
       "    </tr>\n",
       "    <tr>\n",
       "      <th>period</th>\n",
       "      <th></th>\n",
       "      <th></th>\n",
       "      <th></th>\n",
       "      <th></th>\n",
       "      <th></th>\n",
       "    </tr>\n",
       "  </thead>\n",
       "  <tbody>\n",
       "    <tr>\n",
       "      <th>1</th>\n",
       "      <td>39.41</td>\n",
       "      <td>13.56</td>\n",
       "      <td>39.67</td>\n",
       "      <td>21.13</td>\n",
       "      <td>57.38</td>\n",
       "    </tr>\n",
       "    <tr>\n",
       "      <th>2</th>\n",
       "      <td>36.28</td>\n",
       "      <td>4.27</td>\n",
       "      <td>36.90</td>\n",
       "      <td>30.84</td>\n",
       "      <td>41.79</td>\n",
       "    </tr>\n",
       "  </tbody>\n",
       "</table>\n",
       "</div>"
      ],
      "text/plain": [
       "         mean    std    50%    min    max\n",
       "period                                   \n",
       "1       39.41  13.56  39.67  21.13  57.38\n",
       "2       36.28   4.27  36.90  30.84  41.79"
      ]
     },
     "execution_count": 30,
     "metadata": {},
     "output_type": "execute_result"
    }
   ],
   "source": [
    "shakespeare_df.groupby('period').describe().loc[:, 'percentage_polylogues'][['mean', 'std', '50%','min', 'max']].round(2)"
   ]
  },
  {
   "cell_type": "code",
   "execution_count": 31,
   "metadata": {},
   "outputs": [
    {
     "data": {
      "text/html": [
       "<div>\n",
       "<style scoped>\n",
       "    .dataframe tbody tr th:only-of-type {\n",
       "        vertical-align: middle;\n",
       "    }\n",
       "\n",
       "    .dataframe tbody tr th {\n",
       "        vertical-align: top;\n",
       "    }\n",
       "\n",
       "    .dataframe thead th {\n",
       "        text-align: right;\n",
       "    }\n",
       "</style>\n",
       "<table border=\"1\" class=\"dataframe\">\n",
       "  <thead>\n",
       "    <tr style=\"text-align: right;\">\n",
       "      <th></th>\n",
       "      <th>mean</th>\n",
       "      <th>std</th>\n",
       "      <th>50%</th>\n",
       "      <th>min</th>\n",
       "      <th>max</th>\n",
       "    </tr>\n",
       "    <tr>\n",
       "      <th>period</th>\n",
       "      <th></th>\n",
       "      <th></th>\n",
       "      <th></th>\n",
       "      <th></th>\n",
       "      <th></th>\n",
       "    </tr>\n",
       "  </thead>\n",
       "  <tbody>\n",
       "    <tr>\n",
       "      <th>1</th>\n",
       "      <td>40.00</td>\n",
       "      <td>11.53</td>\n",
       "      <td>44.0</td>\n",
       "      <td>27.0</td>\n",
       "      <td>49.0</td>\n",
       "    </tr>\n",
       "    <tr>\n",
       "      <th>2</th>\n",
       "      <td>39.71</td>\n",
       "      <td>6.78</td>\n",
       "      <td>39.0</td>\n",
       "      <td>32.0</td>\n",
       "      <td>51.0</td>\n",
       "    </tr>\n",
       "  </tbody>\n",
       "</table>\n",
       "</div>"
      ],
      "text/plain": [
       "         mean    std   50%   min   max\n",
       "period                                \n",
       "1       40.00  11.53  44.0  27.0  49.0\n",
       "2       39.71   6.78  39.0  32.0  51.0"
      ]
     },
     "execution_count": 31,
     "metadata": {},
     "output_type": "execute_result"
    }
   ],
   "source": [
    "shakespeare_tragedies.groupby('period').describe().loc[:, 'percentage_polylogues'][['mean', 'std', '50%','min', 'max']].round(2)"
   ]
  },
  {
   "cell_type": "code",
   "execution_count": 32,
   "metadata": {},
   "outputs": [
    {
     "data": {
      "image/png": "[encoded data removed]",
      "text/plain": [
       "<Figure size 864x432 with 1 Axes>"
      ]
     },
     "metadata": {
      "needs_background": "light"
     },
     "output_type": "display_data"
    }
   ],
   "source": [
    "plt.figure(figsize=(12, 6))\n",
    "plt.title('The Evolution of The Percentage of Monologues in Shakespeare\\'s Comedies and Tragedies', fontsize=14)\n",
    "plt.xticks([year for year in range(shakespeare_df.date.min(), \n",
    "                                   shakespeare_df.date.max()+1)])\n",
    "\n",
    "sns.scatterplot(x='date', \n",
    "                y='percentage_monologues', \n",
    "                data=shakespeare_tragedies, \n",
    "                color='blue', \n",
    "                label='tragedies')\n",
    "sns.scatterplot(x='date', \n",
    "                y='percentage_monologues', \n",
    "                data=shakespeare_df, \n",
    "                color='red', \n",
    "                label='comedies')\n",
    "plt.xlabel('Creation Date', fontsize=12)\n",
    "plt.ylabel('The Percentage of Monologues', fontsize=12)\n",
    "plt.axvline(1600, color='grey',linestyle='dashed', linewidth=2)\n",
    "plt.text(1600.3, 30, '1600')\n",
    "plt.legend(loc='best')\n",
    "plt.show()"
   ]
  },
  {
   "cell_type": "code",
   "execution_count": 33,
   "metadata": {},
   "outputs": [
    {
     "data": {
      "text/html": [
       "<div>\n",
       "<style scoped>\n",
       "    .dataframe tbody tr th:only-of-type {\n",
       "        vertical-align: middle;\n",
       "    }\n",
       "\n",
       "    .dataframe tbody tr th {\n",
       "        vertical-align: top;\n",
       "    }\n",
       "\n",
       "    .dataframe thead th {\n",
       "        text-align: right;\n",
       "    }\n",
       "</style>\n",
       "<table border=\"1\" class=\"dataframe\">\n",
       "  <thead>\n",
       "    <tr style=\"text-align: right;\">\n",
       "      <th></th>\n",
       "      <th>mean</th>\n",
       "      <th>std</th>\n",
       "      <th>50%</th>\n",
       "      <th>min</th>\n",
       "      <th>max</th>\n",
       "    </tr>\n",
       "    <tr>\n",
       "      <th>period</th>\n",
       "      <th></th>\n",
       "      <th></th>\n",
       "      <th></th>\n",
       "      <th></th>\n",
       "      <th></th>\n",
       "    </tr>\n",
       "  </thead>\n",
       "  <tbody>\n",
       "    <tr>\n",
       "      <th>1</th>\n",
       "      <td>22.54</td>\n",
       "      <td>8.42</td>\n",
       "      <td>19.71</td>\n",
       "      <td>14.75</td>\n",
       "      <td>33.80</td>\n",
       "    </tr>\n",
       "    <tr>\n",
       "      <th>2</th>\n",
       "      <td>24.58</td>\n",
       "      <td>6.05</td>\n",
       "      <td>25.29</td>\n",
       "      <td>17.35</td>\n",
       "      <td>31.75</td>\n",
       "    </tr>\n",
       "  </tbody>\n",
       "</table>\n",
       "</div>"
      ],
      "text/plain": [
       "         mean   std    50%    min    max\n",
       "period                                  \n",
       "1       22.54  8.42  19.71  14.75  33.80\n",
       "2       24.58  6.05  25.29  17.35  31.75"
      ]
     },
     "execution_count": 33,
     "metadata": {},
     "output_type": "execute_result"
    }
   ],
   "source": [
    "shakespeare_df.groupby('period').describe().loc[:, 'percentage_monologues'][['mean', 'std', '50%','min', 'max']].round(2)"
   ]
  },
  {
   "cell_type": "code",
   "execution_count": 34,
   "metadata": {},
   "outputs": [
    {
     "data": {
      "text/html": [
       "<div>\n",
       "<style scoped>\n",
       "    .dataframe tbody tr th:only-of-type {\n",
       "        vertical-align: middle;\n",
       "    }\n",
       "\n",
       "    .dataframe tbody tr th {\n",
       "        vertical-align: top;\n",
       "    }\n",
       "\n",
       "    .dataframe thead th {\n",
       "        text-align: right;\n",
       "    }\n",
       "</style>\n",
       "<table border=\"1\" class=\"dataframe\">\n",
       "  <thead>\n",
       "    <tr style=\"text-align: right;\">\n",
       "      <th></th>\n",
       "      <th>mean</th>\n",
       "      <th>std</th>\n",
       "      <th>50%</th>\n",
       "      <th>min</th>\n",
       "      <th>max</th>\n",
       "    </tr>\n",
       "    <tr>\n",
       "      <th>period</th>\n",
       "      <th></th>\n",
       "      <th></th>\n",
       "      <th></th>\n",
       "      <th></th>\n",
       "      <th></th>\n",
       "    </tr>\n",
       "  </thead>\n",
       "  <tbody>\n",
       "    <tr>\n",
       "      <th>1</th>\n",
       "      <td>20.67</td>\n",
       "      <td>2.52</td>\n",
       "      <td>21.0</td>\n",
       "      <td>18.0</td>\n",
       "      <td>23.0</td>\n",
       "    </tr>\n",
       "    <tr>\n",
       "      <th>2</th>\n",
       "      <td>18.57</td>\n",
       "      <td>5.77</td>\n",
       "      <td>18.0</td>\n",
       "      <td>12.0</td>\n",
       "      <td>28.0</td>\n",
       "    </tr>\n",
       "  </tbody>\n",
       "</table>\n",
       "</div>"
      ],
      "text/plain": [
       "         mean   std   50%   min   max\n",
       "period                               \n",
       "1       20.67  2.52  21.0  18.0  23.0\n",
       "2       18.57  5.77  18.0  12.0  28.0"
      ]
     },
     "execution_count": 34,
     "metadata": {},
     "output_type": "execute_result"
    }
   ],
   "source": [
    "shakespeare_tragedies.groupby('period').describe().loc[:, 'percentage_monologues'][['mean', 'std', '50%','min', 'max']].round(2)"
   ]
  },
  {
   "cell_type": "markdown",
   "metadata": {},
   "source": [
    "## The Number of Dramatic Characters"
   ]
  },
  {
   "cell_type": "code",
   "execution_count": 35,
   "metadata": {},
   "outputs": [
    {
     "data": {
      "image/png": "[encoded data removed]",
      "text/plain": [
       "<Figure size 864x432 with 1 Axes>"
      ]
     },
     "metadata": {
      "needs_background": "light"
     },
     "output_type": "display_data"
    }
   ],
   "source": [
    "plt.figure(figsize=(12, 6))\n",
    "plt.title('The Evolution of the Number of Dramatic Characters in Shakespeare\\'s Comedies and Tragedies', fontsize=14)\n",
    "sns.scatterplot(x='date', \n",
    "                y='num_present_characters', \n",
    "                data=shakespeare_tragedies, \n",
    "                color='blue', \n",
    "                label='tragedies')\n",
    "\n",
    "sns.scatterplot(x='date', \n",
    "                y='num_present_characters', \n",
    "                data=shakespeare_df, \n",
    "                color='red', \n",
    "                label='comedies')\n",
    "plt.xticks([year for year in range(shakespeare_df.date.min(), \n",
    "                                   shakespeare_df.date.max()+1)])\n",
    "plt.xlabel('Creation Date', fontsize=12)\n",
    "plt.ylabel('Number of Dramatic Characters', fontsize=12)\n",
    "plt.axvline(1600, color='grey',linestyle='dashed', linewidth=2)\n",
    "plt.text(1600.3, 60, '1600')\n",
    "plt.legend()\n",
    "plt.show()"
   ]
  },
  {
   "cell_type": "code",
   "execution_count": 36,
   "metadata": {},
   "outputs": [
    {
     "data": {
      "text/html": [
       "<div>\n",
       "<style scoped>\n",
       "    .dataframe tbody tr th:only-of-type {\n",
       "        vertical-align: middle;\n",
       "    }\n",
       "\n",
       "    .dataframe tbody tr th {\n",
       "        vertical-align: top;\n",
       "    }\n",
       "\n",
       "    .dataframe thead th {\n",
       "        text-align: right;\n",
       "    }\n",
       "</style>\n",
       "<table border=\"1\" class=\"dataframe\">\n",
       "  <thead>\n",
       "    <tr style=\"text-align: right;\">\n",
       "      <th></th>\n",
       "      <th>mean</th>\n",
       "      <th>std</th>\n",
       "      <th>50%</th>\n",
       "      <th>min</th>\n",
       "      <th>max</th>\n",
       "    </tr>\n",
       "    <tr>\n",
       "      <th>period</th>\n",
       "      <th></th>\n",
       "      <th></th>\n",
       "      <th></th>\n",
       "      <th></th>\n",
       "      <th></th>\n",
       "    </tr>\n",
       "  </thead>\n",
       "  <tbody>\n",
       "    <tr>\n",
       "      <th>1</th>\n",
       "      <td>23.17</td>\n",
       "      <td>4.54</td>\n",
       "      <td>23.5</td>\n",
       "      <td>17.0</td>\n",
       "      <td>28.0</td>\n",
       "    </tr>\n",
       "    <tr>\n",
       "      <th>2</th>\n",
       "      <td>28.50</td>\n",
       "      <td>8.64</td>\n",
       "      <td>26.5</td>\n",
       "      <td>20.0</td>\n",
       "      <td>42.0</td>\n",
       "    </tr>\n",
       "  </tbody>\n",
       "</table>\n",
       "</div>"
      ],
      "text/plain": [
       "         mean   std   50%   min   max\n",
       "period                               \n",
       "1       23.17  4.54  23.5  17.0  28.0\n",
       "2       28.50  8.64  26.5  20.0  42.0"
      ]
     },
     "execution_count": 36,
     "metadata": {},
     "output_type": "execute_result"
    }
   ],
   "source": [
    "shakespeare_df.groupby('period').describe().loc[:, 'num_present_characters'][['mean', 'std', '50%','min', 'max']].round(2)"
   ]
  },
  {
   "cell_type": "code",
   "execution_count": 37,
   "metadata": {},
   "outputs": [
    {
     "data": {
      "text/html": [
       "<div>\n",
       "<style scoped>\n",
       "    .dataframe tbody tr th:only-of-type {\n",
       "        vertical-align: middle;\n",
       "    }\n",
       "\n",
       "    .dataframe tbody tr th {\n",
       "        vertical-align: top;\n",
       "    }\n",
       "\n",
       "    .dataframe thead th {\n",
       "        text-align: right;\n",
       "    }\n",
       "</style>\n",
       "<table border=\"1\" class=\"dataframe\">\n",
       "  <thead>\n",
       "    <tr style=\"text-align: right;\">\n",
       "      <th></th>\n",
       "      <th>mean</th>\n",
       "      <th>std</th>\n",
       "      <th>50%</th>\n",
       "      <th>min</th>\n",
       "      <th>max</th>\n",
       "    </tr>\n",
       "    <tr>\n",
       "      <th>period</th>\n",
       "      <th></th>\n",
       "      <th></th>\n",
       "      <th></th>\n",
       "      <th></th>\n",
       "      <th></th>\n",
       "    </tr>\n",
       "  </thead>\n",
       "  <tbody>\n",
       "    <tr>\n",
       "      <th>1</th>\n",
       "      <td>38.67</td>\n",
       "      <td>12.01</td>\n",
       "      <td>38.0</td>\n",
       "      <td>27.0</td>\n",
       "      <td>51.0</td>\n",
       "    </tr>\n",
       "    <tr>\n",
       "      <th>2</th>\n",
       "      <td>44.71</td>\n",
       "      <td>16.41</td>\n",
       "      <td>38.0</td>\n",
       "      <td>28.0</td>\n",
       "      <td>68.0</td>\n",
       "    </tr>\n",
       "  </tbody>\n",
       "</table>\n",
       "</div>"
      ],
      "text/plain": [
       "         mean    std   50%   min   max\n",
       "period                                \n",
       "1       38.67  12.01  38.0  27.0  51.0\n",
       "2       44.71  16.41  38.0  28.0  68.0"
      ]
     },
     "execution_count": 37,
     "metadata": {},
     "output_type": "execute_result"
    }
   ],
   "source": [
    "shakespeare_tragedies.groupby('period').describe().loc[:, 'num_present_characters'][['mean', 'std', '50%','min', 'max']].round(2)"
   ]
  },
  {
   "cell_type": "markdown",
   "metadata": {},
   "source": [
    "### The Mobility Coefficient"
   ]
  },
  {
   "cell_type": "code",
   "execution_count": 38,
   "metadata": {},
   "outputs": [
    {
     "data": {
      "image/png": "[encoded data removed]",
      "text/plain": [
       "<Figure size 720x432 with 1 Axes>"
      ]
     },
     "metadata": {
      "needs_background": "light"
     },
     "output_type": "display_data"
    }
   ],
   "source": [
    "plt.figure(figsize=(10, 6))\n",
    "plt.title('The Evolution of the Mobility Coefficient in Shakespeare\\'s Comedies and Tragedies', fontsize=14)\n",
    "sns.scatterplot(x='date', \n",
    "                y='mobility_coefficient', \n",
    "                data=shakespeare_tragedies, \n",
    "                color='blue', \n",
    "                label='tragedies')\n",
    "sns.scatterplot(x='date', y='mobility_coefficient', \n",
    "                data=shakespeare_df, \n",
    "                color='red', \n",
    "                label='comedies')\n",
    "plt.xticks([year for year in range(shakespeare_df.date.min(), \n",
    "                                   shakespeare_df.date.max()+1)])\n",
    "\n",
    "plt.xlabel('Creation Date', fontsize=12)\n",
    "plt.ylabel('Mobility Coefficient', fontsize=12)\n",
    "plt.axvline(1600, color='grey',linestyle='dashed', linewidth=2)\n",
    "plt.text(1600.3, 110, '1600')\n",
    "plt.legend()\n",
    "plt.show()"
   ]
  },
  {
   "cell_type": "code",
   "execution_count": 39,
   "metadata": {},
   "outputs": [
    {
     "data": {
      "text/html": [
       "<div>\n",
       "<style scoped>\n",
       "    .dataframe tbody tr th:only-of-type {\n",
       "        vertical-align: middle;\n",
       "    }\n",
       "\n",
       "    .dataframe tbody tr th {\n",
       "        vertical-align: top;\n",
       "    }\n",
       "\n",
       "    .dataframe thead th {\n",
       "        text-align: right;\n",
       "    }\n",
       "</style>\n",
       "<table border=\"1\" class=\"dataframe\">\n",
       "  <thead>\n",
       "    <tr style=\"text-align: right;\">\n",
       "      <th></th>\n",
       "      <th>mean</th>\n",
       "      <th>std</th>\n",
       "      <th>50%</th>\n",
       "      <th>min</th>\n",
       "      <th>max</th>\n",
       "    </tr>\n",
       "    <tr>\n",
       "      <th>period</th>\n",
       "      <th></th>\n",
       "      <th></th>\n",
       "      <th></th>\n",
       "      <th></th>\n",
       "      <th></th>\n",
       "    </tr>\n",
       "  </thead>\n",
       "  <tbody>\n",
       "    <tr>\n",
       "      <th>1</th>\n",
       "      <td>70.0</td>\n",
       "      <td>11.78</td>\n",
       "      <td>72.0</td>\n",
       "      <td>53.0</td>\n",
       "      <td>87.0</td>\n",
       "    </tr>\n",
       "    <tr>\n",
       "      <th>2</th>\n",
       "      <td>86.0</td>\n",
       "      <td>17.89</td>\n",
       "      <td>90.5</td>\n",
       "      <td>63.0</td>\n",
       "      <td>107.0</td>\n",
       "    </tr>\n",
       "  </tbody>\n",
       "</table>\n",
       "</div>"
      ],
      "text/plain": [
       "        mean    std   50%   min    max\n",
       "period                                \n",
       "1       70.0  11.78  72.0  53.0   87.0\n",
       "2       86.0  17.89  90.5  63.0  107.0"
      ]
     },
     "execution_count": 39,
     "metadata": {},
     "output_type": "execute_result"
    }
   ],
   "source": [
    "shakespeare_df.groupby('period').describe().loc[:, 'mobility_coefficient'][['mean', 'std', '50%','min', 'max']].round(2)"
   ]
  },
  {
   "cell_type": "code",
   "execution_count": 40,
   "metadata": {},
   "outputs": [
    {
     "data": {
      "text/html": [
       "<div>\n",
       "<style scoped>\n",
       "    .dataframe tbody tr th:only-of-type {\n",
       "        vertical-align: middle;\n",
       "    }\n",
       "\n",
       "    .dataframe tbody tr th {\n",
       "        vertical-align: top;\n",
       "    }\n",
       "\n",
       "    .dataframe thead th {\n",
       "        text-align: right;\n",
       "    }\n",
       "</style>\n",
       "<table border=\"1\" class=\"dataframe\">\n",
       "  <thead>\n",
       "    <tr style=\"text-align: right;\">\n",
       "      <th></th>\n",
       "      <th>mean</th>\n",
       "      <th>std</th>\n",
       "      <th>50%</th>\n",
       "      <th>min</th>\n",
       "      <th>max</th>\n",
       "    </tr>\n",
       "    <tr>\n",
       "      <th>period</th>\n",
       "      <th></th>\n",
       "      <th></th>\n",
       "      <th></th>\n",
       "      <th></th>\n",
       "      <th></th>\n",
       "    </tr>\n",
       "  </thead>\n",
       "  <tbody>\n",
       "    <tr>\n",
       "      <th>1</th>\n",
       "      <td>83.67</td>\n",
       "      <td>18.18</td>\n",
       "      <td>78.0</td>\n",
       "      <td>69.0</td>\n",
       "      <td>104.0</td>\n",
       "    </tr>\n",
       "    <tr>\n",
       "      <th>2</th>\n",
       "      <td>101.43</td>\n",
       "      <td>12.07</td>\n",
       "      <td>102.0</td>\n",
       "      <td>83.0</td>\n",
       "      <td>122.0</td>\n",
       "    </tr>\n",
       "  </tbody>\n",
       "</table>\n",
       "</div>"
      ],
      "text/plain": [
       "          mean    std    50%   min    max\n",
       "period                                   \n",
       "1        83.67  18.18   78.0  69.0  104.0\n",
       "2       101.43  12.07  102.0  83.0  122.0"
      ]
     },
     "execution_count": 40,
     "metadata": {},
     "output_type": "execute_result"
    }
   ],
   "source": [
    "shakespeare_tragedies.groupby('period').describe().loc[:, 'mobility_coefficient'][['mean', 'std', '50%','min', 'max']].round(2)"
   ]
  },
  {
   "attachments": {},
   "cell_type": "markdown",
   "metadata": {},
   "source": [
    "### Summary:\n",
    "1. The percentage of non-dialogues in Shakespeare's comedies before 1600 was 61.95%, starting in 1600, it decreased to 61.57%; the percentage of non-dialogues in Shakespeare's tragedies before 1600 was 60.67%, starting in 1600, it decreased to 58.43%. The percentage of non-dialogues was larger in comedies in both periods. It decreased over time in both genres.\n",
    "2. The percentage of polylogues in Shakespeare's comedies before 1600 was 39.41%; after 1600, it decreased to 36.28%. In his tragedies before 1600, it was 40%, afterward, it decreased to 39.71%. The percentage of polylogues was generally higher in Shakespeare's tragedies than in his comedies in every period. The average slightly decreased in both genres.\n",
    "3. Surprisingly, the average percentage of monologues tended to be higher in comedies than in tragedies in every period. The average percentage of monologues decreased over time (in tragedies from 20.67% to 18.57%, in comedies, from 22.54% to 24.58%).\n",
    "4. The mean number of dramatic characters increased in both genres. In comedy, it increased from 23.17 to 28.50, in tragedy, from 38.67 to 44.71. The mean number of dramatic characters was higher in tragedies in every period.\n",
    "5. The mobility coefficient increased in both comedies and tragedies. In comedies, from 70 to 86, in tragedies from 83.67 to 101.43. The mobility coefficient tended to be higher in tragedies.\n",
    "6. Out of the examined features, only two (the number of dramatic characters and the mobility coefficient) evolved: they were gradually increasing in both genres. This trend was evident before and after 1600. Other features did not reveal such a gradual increase."
   ]
  },
  {
   "cell_type": "code",
   "execution_count": null,
   "metadata": {},
   "outputs": [],
   "source": []
  }
 ],
 "metadata": {
  "kernelspec": {
   "display_name": "Python 3",
   "language": "python",
   "name": "python3"
  },
  "language_info": {
   "codemirror_mode": {
    "name": "ipython",
    "version": 3
   },
   "file_extension": ".py",
   "mimetype": "text/x-python",
   "name": "python",
   "nbconvert_exporter": "python",
   "pygments_lexer": "ipython3",
   "version": "3.7.6"
  }
 },
 "nbformat": 4,
 "nbformat_minor": 4
}
