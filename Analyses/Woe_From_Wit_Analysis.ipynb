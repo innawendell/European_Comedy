{
 "cells": [
  {
   "cell_type": "markdown",
   "metadata": {},
   "source": [
    "This notebook explores Russia's greatest comedy *Woe from Wit*."
   ]
  },
  {
   "cell_type": "code",
   "execution_count": 1,
   "metadata": {},
   "outputs": [],
   "source": [
    "import numpy as np\n",
    "import re\n",
    "from bs4 import BeautifulSoup as bs\n",
    "import matplotlib.pyplot as plt\n",
    "%matplotlib inline\n",
    "import seaborn as sns\n",
    "import json\n",
    "import pandas as pd"
   ]
  },
  {
   "cell_type": "code",
   "execution_count": 2,
   "metadata": {},
   "outputs": [],
   "source": [
    "with open('TEI_files/R_18.xml', 'r') as file:\n",
    "    soup = bs(file, 'lxml')"
   ]
  },
  {
   "cell_type": "code",
   "execution_count": 3,
   "metadata": {},
   "outputs": [],
   "source": [
    "def combine_verse_lines(soup):\n",
    "    verses = soup.find_all('l')\n",
    "    only_verses = ''\n",
    "    for verse in verses:\n",
    "        only_verses+=str(verse)\n",
    "    splits = re.split('<l>|<l part=\"I\"|<l type=\"interscene\">|<l part=\"I\" type=\"interscene\">', only_verses)\n",
    "    verse_lines = []\n",
    "    symbols = ['</l>', '<l part=', '\\\"', 'I', 'M', 'F', '>', '<l type=interscene']\n",
    "    for split in splits[1:]:\n",
    "        for symbol in symbols:\n",
    "            split = split.replace(symbol, '')\n",
    "        verse_lines.append(split)\n",
    "        \n",
    "    return verse_lines"
   ]
  },
  {
   "cell_type": "code",
   "execution_count": 4,
   "metadata": {},
   "outputs": [],
   "source": [
    "def count_syllables(verse_lines):\n",
    "    number_syllables = []\n",
    "    for line in verse_lines:\n",
    "        vowel_count= 0 \n",
    "        for vowel in ['а', 'е', 'ё', 'и', 'о', 'у', 'э', 'ю', 'я']:\n",
    "            vowel_count+=line.lower().count(vowel)\n",
    "        number_syllables.append(vowel_count)\n",
    "        \n",
    "    return number_syllables"
   ]
  },
  {
   "cell_type": "code",
   "execution_count": 5,
   "metadata": {},
   "outputs": [],
   "source": [
    "verse_lines = combine_verse_lines(soup)"
   ]
  },
  {
   "cell_type": "code",
   "execution_count": 6,
   "metadata": {},
   "outputs": [
    {
     "data": {
      "text/plain": [
       "2220"
      ]
     },
     "execution_count": 6,
     "metadata": {},
     "output_type": "execute_result"
    }
   ],
   "source": [
    "len(verse_lines)"
   ]
  },
  {
   "cell_type": "code",
   "execution_count": 7,
   "metadata": {},
   "outputs": [],
   "source": [
    "number_syllables = count_syllables(verse_lines)"
   ]
  },
  {
   "cell_type": "code",
   "execution_count": 8,
   "metadata": {},
   "outputs": [
    {
     "data": {
      "text/plain": [
       "2220"
      ]
     },
     "execution_count": 8,
     "metadata": {},
     "output_type": "execute_result"
    }
   ],
   "source": [
    "len(number_syllables)"
   ]
  },
  {
   "cell_type": "code",
   "execution_count": 9,
   "metadata": {},
   "outputs": [
    {
     "data": {
      "text/plain": [
       "22076"
      ]
     },
     "execution_count": 9,
     "metadata": {},
     "output_type": "execute_result"
    }
   ],
   "source": [
    "np.sum(number_syllables)"
   ]
  },
  {
   "cell_type": "code",
   "execution_count": 10,
   "metadata": {},
   "outputs": [
    {
     "data": {
      "text/plain": [
       "1766.08"
      ]
     },
     "execution_count": 10,
     "metadata": {},
     "output_type": "execute_result"
    }
   ],
   "source": [
    "np.sum(number_syllables) / 12.5"
   ]
  },
  {
   "cell_type": "code",
   "execution_count": 11,
   "metadata": {},
   "outputs": [
    {
     "data": {
      "text/plain": [
       "9.94862550698513"
      ]
     },
     "execution_count": 11,
     "metadata": {},
     "output_type": "execute_result"
    }
   ],
   "source": [
    "np.sum(number_syllables) / 2219"
   ]
  },
  {
   "cell_type": "code",
   "execution_count": 12,
   "metadata": {},
   "outputs": [
    {
     "data": {
      "text/plain": [
       "9.944144144144143"
      ]
     },
     "execution_count": 12,
     "metadata": {},
     "output_type": "execute_result"
    }
   ],
   "source": [
    "np.mean(number_syllables)"
   ]
  },
  {
   "cell_type": "code",
   "execution_count": 13,
   "metadata": {},
   "outputs": [
    {
     "name": "stdout",
     "output_type": "stream",
     "text": [
      "428\n",
      "277\n",
      "248\n",
      "328\n",
      "439\n",
      "252\n"
     ]
    }
   ],
   "source": [
    "print(len([num for num in number_syllables if num ==8]))\n",
    "print(len([num for num in number_syllables if num ==9]))\n",
    "print(len([num for num in number_syllables if num ==10]))\n",
    "print(len([num for num in number_syllables if num ==11]))\n",
    "print(len([num for num in number_syllables if num ==12]))\n",
    "print(len([num for num in number_syllables if num ==13]))"
   ]
  },
  {
   "cell_type": "code",
   "execution_count": 14,
   "metadata": {},
   "outputs": [
    {
     "data": {
      "image/png": "[encoded data removed]",
      "text/plain": [
       "<Figure size 720x504 with 1 Axes>"
      ]
     },
     "metadata": {
      "needs_background": "light"
     },
     "output_type": "display_data"
    }
   ],
   "source": [
    "plt.figure(figsize=(10, 7))\n",
    "plt.title('Distribution of the Number of Syllables per Verse Line in Woe from Wit', fontsize=17)\n",
    "plt.hist(number_syllables, bins=20)\n",
    "plt.xlabel('Number of syllables', fontsize=15)\n",
    "plt.ylabel('Number of instances', fontsize=15)\n",
    "plt.show()"
   ]
  },
  {
   "cell_type": "code",
   "execution_count": 15,
   "metadata": {},
   "outputs": [
    {
     "data": {
      "text/plain": [
       "1766.08"
      ]
     },
     "execution_count": 15,
     "metadata": {},
     "output_type": "execute_result"
    }
   ],
   "source": [
    "22076 / 12.5"
   ]
  },
  {
   "cell_type": "code",
   "execution_count": 16,
   "metadata": {},
   "outputs": [
    {
     "data": {
      "text/plain": [
       "0.7959999999999999"
      ]
     },
     "execution_count": 16,
     "metadata": {},
     "output_type": "execute_result"
    }
   ],
   "source": [
    "9.95 / 12.5"
   ]
  },
  {
   "cell_type": "code",
   "execution_count": 17,
   "metadata": {},
   "outputs": [
    {
     "data": {
      "text/plain": [
       "1766.3239999999998"
      ]
     },
     "execution_count": 17,
     "metadata": {},
     "output_type": "execute_result"
    }
   ],
   "source": [
    "((9.95 / 12.5) * 2219)"
   ]
  },
  {
   "cell_type": "code",
   "execution_count": 18,
   "metadata": {},
   "outputs": [
    {
     "data": {
      "text/plain": [
       "0.393195132942767"
      ]
     },
     "execution_count": 18,
     "metadata": {},
     "output_type": "execute_result"
    }
   ],
   "source": [
    "# divide the total number of utterances by the scaled number of verse lines\n",
    "698 / (2219 * 0.8)"
   ]
  },
  {
   "cell_type": "markdown",
   "metadata": {},
   "source": [
    "## Identify Monologues"
   ]
  },
  {
   "cell_type": "code",
   "execution_count": 19,
   "metadata": {},
   "outputs": [],
   "source": [
    "# load Woe from Wit data\n",
    "with open('Test/R_18.json') as f:\n",
    "    woe = json.load(f)"
   ]
  },
  {
   "cell_type": "code",
   "execution_count": 20,
   "metadata": {},
   "outputs": [],
   "source": [
    "indices_non_monoloque = []\n",
    "for act_num, act in enumerate(woe['play_summary'].keys(), 0):\n",
    "    for num, scene in enumerate(woe['play_summary'][act].keys(), 0):\n",
    "        if woe['play_summary'][act][scene]['num_speakers'] > 1:\n",
    "            indices_non_monoloque.append((act_num, num))"
   ]
  },
  {
   "cell_type": "code",
   "execution_count": 21,
   "metadata": {},
   "outputs": [],
   "source": [
    "acts = soup.find_all('div', {'type': 'act'})"
   ]
  },
  {
   "cell_type": "code",
   "execution_count": 22,
   "metadata": {},
   "outputs": [],
   "source": [
    "non_monologues = []\n",
    "for index in indices_non_monoloque:\n",
    "    scene = acts[index[0]].find_all('div', {'type': ['scene', 'extra_scene', 'complex_scene']})[index[1]]\n",
    "    non_monologues.append(scene)"
   ]
  },
  {
   "cell_type": "code",
   "execution_count": 23,
   "metadata": {},
   "outputs": [
    {
     "data": {
      "text/plain": [
       "53"
      ]
     },
     "execution_count": 23,
     "metadata": {},
     "output_type": "execute_result"
    }
   ],
   "source": [
    "len(non_monologues)"
   ]
  },
  {
   "cell_type": "code",
   "execution_count": 24,
   "metadata": {},
   "outputs": [
    {
     "data": {
      "text/plain": [
       "21"
      ]
     },
     "execution_count": 24,
     "metadata": {},
     "output_type": "execute_result"
    }
   ],
   "source": [
    "74 - 53"
   ]
  },
  {
   "cell_type": "code",
   "execution_count": 25,
   "metadata": {},
   "outputs": [
    {
     "data": {
      "text/plain": [
       "53"
      ]
     },
     "execution_count": 25,
     "metadata": {},
     "output_type": "execute_result"
    }
   ],
   "source": [
    "len(indices_non_monoloque)"
   ]
  },
  {
   "cell_type": "markdown",
   "metadata": {},
   "source": [
    "## Create Text Only From Non-Monolgues"
   ]
  },
  {
   "cell_type": "code",
   "execution_count": 26,
   "metadata": {},
   "outputs": [],
   "source": [
    "all_non_monologues = ''\n",
    "for item in non_monologues:\n",
    "    all_non_monologues += str(item)"
   ]
  },
  {
   "cell_type": "code",
   "execution_count": 27,
   "metadata": {},
   "outputs": [],
   "source": [
    "non_monoloue_verse_lines = combine_verse_lines(bs(all_non_monologues))"
   ]
  },
  {
   "cell_type": "code",
   "execution_count": 28,
   "metadata": {},
   "outputs": [],
   "source": [
    "number_syllables_non_monologue = count_syllables(non_monoloue_verse_lines)"
   ]
  },
  {
   "cell_type": "code",
   "execution_count": 29,
   "metadata": {},
   "outputs": [],
   "source": [
    "# remove incorrect noise that was introduced through removing monologic scenes\n",
    "number_syllables_non_monologue = [i for i in number_syllables_non_monologue if i <14]"
   ]
  },
  {
   "cell_type": "code",
   "execution_count": 30,
   "metadata": {},
   "outputs": [
    {
     "data": {
      "image/png": "[encoded data removed]",
      "text/plain": [
       "<Figure size 720x504 with 1 Axes>"
      ]
     },
     "metadata": {
      "needs_background": "light"
     },
     "output_type": "display_data"
    }
   ],
   "source": [
    "plt.figure(figsize=(10, 7))\n",
    "plt.title('Distribution of the Number of Syllables per Verse Line in Woe from Wit', fontsize=17)\n",
    "plt.hist(number_syllables_non_monologue, bins=20)\n",
    "plt.xlabel('Number of syllables', fontsize=15)\n",
    "plt.ylabel('Number of instances', fontsize=15)\n",
    "plt.show()"
   ]
  },
  {
   "cell_type": "code",
   "execution_count": 31,
   "metadata": {},
   "outputs": [
    {
     "data": {
      "text/plain": [
       "9.936086529006882"
      ]
     },
     "execution_count": 31,
     "metadata": {},
     "output_type": "execute_result"
    }
   ],
   "source": [
    "np.mean(number_syllables_non_monologue)"
   ]
  },
  {
   "cell_type": "code",
   "execution_count": 32,
   "metadata": {},
   "outputs": [
    {
     "data": {
      "text/plain": [
       "0.7959999999999999"
      ]
     },
     "execution_count": 32,
     "metadata": {},
     "output_type": "execute_result"
    }
   ],
   "source": [
    "9.95 / 12.5"
   ]
  },
  {
   "cell_type": "code",
   "execution_count": 33,
   "metadata": {},
   "outputs": [
    {
     "data": {
      "text/plain": [
       "1627.2"
      ]
     },
     "execution_count": 33,
     "metadata": {},
     "output_type": "execute_result"
    }
   ],
   "source": [
    "(len(number_syllables_non_monologue)  * .8)"
   ]
  },
  {
   "cell_type": "code",
   "execution_count": 34,
   "metadata": {},
   "outputs": [],
   "source": [
    "total_number_utterances = 0\n",
    "for scene in non_monologues:\n",
    "    total_number_utterances += len(scene.find_all('speaker'))"
   ]
  },
  {
   "cell_type": "code",
   "execution_count": 35,
   "metadata": {},
   "outputs": [
    {
     "data": {
      "text/plain": [
       "0.41482300884955753"
      ]
     },
     "execution_count": 35,
     "metadata": {},
     "output_type": "execute_result"
    }
   ],
   "source": [
    "total_number_utterances / (len(number_syllables_non_monologue)  * .8)"
   ]
  },
  {
   "cell_type": "markdown",
   "metadata": {},
   "source": [
    "## Conclusion\n",
    "\n",
    "The low vivacity does not seem to be caused by the higher than usual number of monologues. In non-monologues, dialogue vivacity is only slightly higher."
   ]
  },
  {
   "cell_type": "markdown",
   "metadata": {},
   "source": [
    "## Check Vivacity by Character"
   ]
  },
  {
   "cell_type": "code",
   "execution_count": 36,
   "metadata": {},
   "outputs": [],
   "source": [
    "in_text_names = ['chatskij', 'sofija', 'famusov', 'molchalin', 'lizanka', 'skalozub', 'repetilov', 'zagoretskij']"
   ]
  },
  {
   "cell_type": "code",
   "execution_count": 37,
   "metadata": {},
   "outputs": [],
   "source": [
    "distribution_by_character = {}\n",
    "for name in in_text_names:\n",
    "    this_speaker = soup.find_all('sp', {'who': '#{}'.format(name)})\n",
    "    number_utterances = len(this_speaker)\n",
    "    one_string = ''\n",
    "    for item in this_speaker:\n",
    "        one_string += str(item)\n",
    "    verse_lines = combine_verse_lines(bs(one_string))\n",
    "     # remove noise that was possibly introduced by combining utterances from different scenes\n",
    "    number_syllables = [val for val in  count_syllables(verse_lines) if val <= 13]\n",
    "    distribution_by_character[name] = (number_utterances, number_syllables)"
   ]
  },
  {
   "cell_type": "code",
   "execution_count": 38,
   "metadata": {},
   "outputs": [
    {
     "data": {
      "text/plain": [
       "dict_keys(['chatskij', 'sofija', 'famusov', 'molchalin', 'lizanka', 'skalozub', 'repetilov', 'zagoretskij'])"
      ]
     },
     "execution_count": 38,
     "metadata": {},
     "output_type": "execute_result"
    }
   ],
   "source": [
    "distribution_by_character.keys()"
   ]
  },
  {
   "cell_type": "code",
   "execution_count": 39,
   "metadata": {},
   "outputs": [],
   "source": [
    "def vivacity_by_character(data_dict, character):\n",
    "    print(character)\n",
    "    average_length_verse = round(np.mean(data_dict[character][1]), 3)\n",
    "    scaled_number_verse_lines = round(len(data_dict[character][1]) * (average_length_verse / 12.5), 3)\n",
    "    #print(scaled_number_verse_lines)\n",
    "    number_utterances = data_dict[character][0]\n",
    "    print('Number of utterances:', number_utterances)\n",
    "    average_lengh_utterance = round(scaled_number_verse_lines/number_utterances , 3)\n",
    "    vivacity = round(number_utterances / scaled_number_verse_lines, 3)\n",
    "    print('Coefficient of dialogue vivacity:', vivacity)\n",
    "    print('Average utterance length (in verse lines):', average_lengh_utterance)\n",
    "    print('\\n')"
   ]
  },
  {
   "cell_type": "code",
   "execution_count": 40,
   "metadata": {},
   "outputs": [
    {
     "name": "stdout",
     "output_type": "stream",
     "text": [
      "chatskij\n",
      "Number of utterances: 149\n",
      "Coefficient of dialogue vivacity: 0.17\n",
      "Average utterance length (in verse lines): 5.884\n",
      "\n",
      "\n",
      "sofija\n",
      "Number of utterances: 98\n",
      "Coefficient of dialogue vivacity: 0.497\n",
      "Average utterance length (in verse lines): 2.013\n",
      "\n",
      "\n",
      "famusov\n",
      "Number of utterances: 98\n",
      "Coefficient of dialogue vivacity: 0.282\n",
      "Average utterance length (in verse lines): 3.549\n",
      "\n",
      "\n",
      "molchalin\n",
      "Number of utterances: 55\n",
      "Coefficient of dialogue vivacity: 0.685\n",
      "Average utterance length (in verse lines): 1.46\n",
      "\n",
      "\n",
      "lizanka\n",
      "Number of utterances: 57\n",
      "Coefficient of dialogue vivacity: 0.483\n",
      "Average utterance length (in verse lines): 2.072\n",
      "\n",
      "\n",
      "skalozub\n",
      "Number of utterances: 28\n",
      "Coefficient of dialogue vivacity: 0.465\n",
      "Average utterance length (in verse lines): 2.149\n",
      "\n",
      "\n",
      "repetilov\n",
      "Number of utterances: 26\n",
      "Coefficient of dialogue vivacity: 0.193\n",
      "Average utterance length (in verse lines): 5.178\n",
      "\n",
      "\n",
      "zagoretskij\n",
      "Number of utterances: 25\n",
      "Coefficient of dialogue vivacity: 0.779\n",
      "Average utterance length (in verse lines): 1.283\n",
      "\n",
      "\n"
     ]
    }
   ],
   "source": [
    "for character in distribution_by_character.keys():\n",
    "    vivacity_by_character(distribution_by_character, character)"
   ]
  },
  {
   "cell_type": "code",
   "execution_count": 41,
   "metadata": {},
   "outputs": [],
   "source": [
    "acts = soup.find_all('div', {'type': 'act'})"
   ]
  },
  {
   "cell_type": "code",
   "execution_count": 42,
   "metadata": {},
   "outputs": [],
   "source": [
    "distribution_by_act = {}\n",
    "for num, act in enumerate(acts, 1):\n",
    "    utterances = act.find_all('speaker')\n",
    "    number_utterances = len( utterances)\n",
    "    one_string = ''\n",
    "    verse_lines = combine_verse_lines(act)\n",
    "    # remove noise that was possibly introduced by combining utterances from different scenes\n",
    "    number_syllables = [val for val in  count_syllables(verse_lines) if val <= 13]\n",
    "    distribution_by_act[num] = (number_utterances, number_syllables)"
   ]
  },
  {
   "cell_type": "code",
   "execution_count": 43,
   "metadata": {},
   "outputs": [
    {
     "name": "stdout",
     "output_type": "stream",
     "text": [
      "1\n",
      "Number of utterances: 131\n",
      "Coefficient of dialogue vivacity: 0.34\n",
      "Average utterance length (in verse lines): 2.937\n",
      "\n",
      "\n",
      "2\n",
      "Number of utterances: 151\n",
      "Coefficient of dialogue vivacity: 0.337\n",
      "Average utterance length (in verse lines): 2.97\n",
      "\n",
      "\n",
      "3\n",
      "Number of utterances: 291\n",
      "Coefficient of dialogue vivacity: 0.573\n",
      "Average utterance length (in verse lines): 1.746\n",
      "\n",
      "\n",
      "4\n",
      "Number of utterances: 121\n",
      "Coefficient of dialogue vivacity: 0.285\n",
      "Average utterance length (in verse lines): 3.511\n",
      "\n",
      "\n"
     ]
    }
   ],
   "source": [
    "for act in range(1, 5):\n",
    "    vivacity_by_character(distribution_by_act, act)"
   ]
  }
 ],
 "metadata": {
  "kernelspec": {
   "display_name": "Python 3",
   "language": "python",
   "name": "python3"
  },
  "language_info": {
   "codemirror_mode": {
    "name": "ipython",
    "version": 3
   },
   "file_extension": ".py",
   "mimetype": "text/x-python",
   "name": "python",
   "nbconvert_exporter": "python",
   "pygments_lexer": "ipython3",
   "version": "3.7.4"
  }
 },
 "nbformat": 4,
 "nbformat_minor": 4
}
