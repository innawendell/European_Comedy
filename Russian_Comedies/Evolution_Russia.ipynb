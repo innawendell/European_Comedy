{
 "cells": [
  {
   "cell_type": "markdown",
   "metadata": {},
   "source": [
    "The goal of this notebook is to do an initial exploration of the Russian 5-act comedies in verse."
   ]
  },
  {
   "cell_type": "code",
   "execution_count": 1,
   "metadata": {},
   "outputs": [],
   "source": [
    "import json\n",
    "from os import listdir\n",
    "from os import path\n",
    "from os.path import isfile, join\n",
    "import pandas as pd\n",
    "import numpy as np\n",
    "import matplotlib.pyplot as plt\n",
    "%matplotlib inline\n",
    "import seaborn as sns\n",
    "from sklearn.preprocessing import MinMaxScaler\n",
    "from sklearn.decomposition import PCA\n",
    "from numpy.linalg import matrix_rank\n",
    "from scipy.stats import shapiro\n",
    "from scipy.stats import mannwhitneyu"
   ]
  },
  {
   "cell_type": "markdown",
   "metadata": {},
   "source": [
    "## I.  Data Preparation"
   ]
  },
  {
   "cell_type": "markdown",
   "metadata": {},
   "source": [
    "### 1. Merge json files and metadata"
   ]
  },
  {
   "cell_type": "code",
   "execution_count": 2,
   "metadata": {},
   "outputs": [],
   "source": [
    "all_files = [f for f in listdir('Play_Jsons') if f.count('.json')>0]"
   ]
  },
  {
   "cell_type": "code",
   "execution_count": 3,
   "metadata": {},
   "outputs": [],
   "source": [
    "dfs = []\n",
    "for file in all_files:\n",
    "    with open('Play_Jsons/'+ file) as json_file:\n",
    "        data = json.load(json_file)\n",
    "        data['metadata']['speech_distribution'] = np.array(data['metadata']['speech_distribution'])\n",
    "        df = pd.DataFrame(data['metadata'].values()).T\n",
    "        df.columns = data['metadata'].keys()\n",
    "        df['index'] = file.replace('.json','')\n",
    "        dfs.append(df)"
   ]
  },
  {
   "cell_type": "code",
   "execution_count": 4,
   "metadata": {},
   "outputs": [],
   "source": [
    "features_df = pd.concat(dfs, axis=0, sort=False)"
   ]
  },
  {
   "cell_type": "code",
   "execution_count": 5,
   "metadata": {},
   "outputs": [],
   "source": [
    "metadata = pd.read_csv('Russian_Comedies.tsv', sep='\\t')"
   ]
  },
  {
   "cell_type": "code",
   "execution_count": 6,
   "metadata": {},
   "outputs": [],
   "source": [
    "all_data = metadata.merge(features_df, how='left', on='index')"
   ]
  },
  {
   "cell_type": "code",
   "execution_count": 7,
   "metadata": {},
   "outputs": [],
   "source": [
    "all_data.to_csv('Comedies_Raw_Data.csv', index=False)"
   ]
  },
  {
   "cell_type": "code",
   "execution_count": 8,
   "metadata": {},
   "outputs": [
    {
     "data": {
      "text/plain": [
       "Index(['index', 'title', 'first_name', 'last_name', 'creation_date',\n",
       "       'translation', 'num_acts', 'free_iambs', 'url', 'original_file_format',\n",
       "       'derived_format', 'additional_info', 'num_present_characters',\n",
       "       'num_scenes_text', 'num_scenes_iarkho', 'speech_distribution',\n",
       "       'percentage_monologues', 'percentage_duologues',\n",
       "       'percentage_non_duologues', 'percentage_above_two_speakers',\n",
       "       'av_percentage_non_speakers', 'sigma_iarkho', 'total_utterances',\n",
       "       'num_verse_lines', 'rescaled_num_verse_lines', 'dialogue_vivacity',\n",
       "       'num_scenes_with_split_verse_lines', 'num_scenes_with_split_rhymes',\n",
       "       'percentage_scene_split_verse', 'percentage_scene_split_rhymes',\n",
       "       'num_scenes_with_split_rhymes_verses', 'num_open_scenes',\n",
       "       'percentage_open_scenes', 'percentage_scenes_rhymes_split_verse',\n",
       "       'num_stage_directions', 'stage_directions_frequency',\n",
       "       'num_word_tokens_in_stage_directions',\n",
       "       'average_length_of_stage_direction',\n",
       "       'num_verse_splitting_stage_directions',\n",
       "       'degree_of_verse_prose_interaction',\n",
       "       'number_scenes_with_discontinuous_change_characters',\n",
       "       'percentage_scenes_with_discontinuous_change_characters'],\n",
       "      dtype='object')"
      ]
     },
     "execution_count": 8,
     "metadata": {},
     "output_type": "execute_result"
    }
   ],
   "source": [
    "all_data.columns"
   ]
  },
  {
   "cell_type": "code",
   "execution_count": 9,
   "metadata": {},
   "outputs": [],
   "source": [
    "all_data.sort_values(by='creation_date', inplace=True)"
   ]
  },
  {
   "cell_type": "code",
   "execution_count": 10,
   "metadata": {},
   "outputs": [],
   "source": [
    "assert all_data.shape[0] == features_df.shape[0] == metadata.shape[0]"
   ]
  },
  {
   "cell_type": "markdown",
   "metadata": {},
   "source": [
    "## II. Identify Only Five Act Comedies"
   ]
  },
  {
   "cell_type": "code",
   "execution_count": 11,
   "metadata": {},
   "outputs": [],
   "source": [
    "five_acts = all_data[all_data['num_acts']==5].copy()"
   ]
  },
  {
   "cell_type": "code",
   "execution_count": 12,
   "metadata": {},
   "outputs": [],
   "source": [
    "numeric_columns = [ 'num_present_characters',\n",
    "                    'num_scenes_iarkho', \n",
    "                    'percentage_monologues', \n",
    "                    'percentage_duologues',\n",
    "                    'percentage_non_duologues', \n",
    "                    'percentage_above_two_speakers',\n",
    "                    'av_percentage_non_speakers', \n",
    "                    'sigma_iarkho', \n",
    "                    'dialogue_vivacity',\n",
    "                    'percentage_scene_split_verse', \n",
    "                    'percentage_scene_split_rhymes',\n",
    "                    'percentage_open_scenes', \n",
    "                    'percentage_scenes_rhymes_split_verse',\n",
    "                    'stage_directions_frequency',\n",
    "                    'average_length_of_stage_direction',\n",
    "                    'degree_of_verse_prose_interaction',\n",
    "                    'percentage_scenes_with_discontinuous_change_characters'\n",
    "                   ]"
   ]
  },
  {
   "cell_type": "code",
   "execution_count": 13,
   "metadata": {},
   "outputs": [],
   "source": [
    "scaler = MinMaxScaler()\n",
    "scaled = scaler.fit_transform(five_acts.loc[:, numeric_columns])"
   ]
  },
  {
   "cell_type": "code",
   "execution_count": 14,
   "metadata": {},
   "outputs": [],
   "source": [
    "five_acts_scaled = five_acts.copy()\n",
    "five_acts_scaled.loc[:, numeric_columns] = scaled"
   ]
  },
  {
   "cell_type": "markdown",
   "metadata": {},
   "source": [
    "## III. Explore Iarkho's Original Four Features"
   ]
  },
  {
   "cell_type": "markdown",
   "metadata": {},
   "source": [
    "### 1. Correlations Analysis"
   ]
  },
  {
   "cell_type": "code",
   "execution_count": 15,
   "metadata": {},
   "outputs": [],
   "source": [
    "# remove translations from correlations analysis\n",
    "not_translations_scaled = five_acts_scaled[five_acts_scaled.translation==0].copy()\n",
    "not_translations = five_acts[five_acts.translation==0].copy()"
   ]
  },
  {
   "cell_type": "code",
   "execution_count": 16,
   "metadata": {},
   "outputs": [
    {
     "data": {
      "text/html": [
       "<div>\n",
       "<style scoped>\n",
       "    .dataframe tbody tr th:only-of-type {\n",
       "        vertical-align: middle;\n",
       "    }\n",
       "\n",
       "    .dataframe tbody tr th {\n",
       "        vertical-align: top;\n",
       "    }\n",
       "\n",
       "    .dataframe thead th {\n",
       "        text-align: right;\n",
       "    }\n",
       "</style>\n",
       "<table border=\"1\" class=\"dataframe\">\n",
       "  <thead>\n",
       "    <tr style=\"text-align: right;\">\n",
       "      <th></th>\n",
       "      <th>num_present_characters</th>\n",
       "      <th>num_scenes_iarkho</th>\n",
       "      <th>sigma_iarkho</th>\n",
       "      <th>percentage_non_duologues</th>\n",
       "    </tr>\n",
       "  </thead>\n",
       "  <tbody>\n",
       "    <tr>\n",
       "      <td>num_present_characters</td>\n",
       "      <td>1.000000</td>\n",
       "      <td>0.552008</td>\n",
       "      <td>0.350001</td>\n",
       "      <td>0.319084</td>\n",
       "    </tr>\n",
       "    <tr>\n",
       "      <td>num_scenes_iarkho</td>\n",
       "      <td>0.552008</td>\n",
       "      <td>1.000000</td>\n",
       "      <td>-0.190324</td>\n",
       "      <td>0.096859</td>\n",
       "    </tr>\n",
       "    <tr>\n",
       "      <td>sigma_iarkho</td>\n",
       "      <td>0.350001</td>\n",
       "      <td>-0.190324</td>\n",
       "      <td>1.000000</td>\n",
       "      <td>0.413754</td>\n",
       "    </tr>\n",
       "    <tr>\n",
       "      <td>percentage_non_duologues</td>\n",
       "      <td>0.319084</td>\n",
       "      <td>0.096859</td>\n",
       "      <td>0.413754</td>\n",
       "      <td>1.000000</td>\n",
       "    </tr>\n",
       "  </tbody>\n",
       "</table>\n",
       "</div>"
      ],
      "text/plain": [
       "                          num_present_characters  num_scenes_iarkho  \\\n",
       "num_present_characters                  1.000000           0.552008   \n",
       "num_scenes_iarkho                       0.552008           1.000000   \n",
       "sigma_iarkho                            0.350001          -0.190324   \n",
       "percentage_non_duologues                0.319084           0.096859   \n",
       "\n",
       "                          sigma_iarkho  percentage_non_duologues  \n",
       "num_present_characters        0.350001                  0.319084  \n",
       "num_scenes_iarkho            -0.190324                  0.096859  \n",
       "sigma_iarkho                  1.000000                  0.413754  \n",
       "percentage_non_duologues      0.413754                  1.000000  "
      ]
     },
     "execution_count": 16,
     "metadata": {},
     "output_type": "execute_result"
    }
   ],
   "source": [
    "original_four = ['num_present_characters','num_scenes_iarkho', 'sigma_iarkho', 'percentage_non_duologues']\n",
    "not_translations_scaled.loc[:, original_four].corr()"
   ]
  },
  {
   "cell_type": "code",
   "execution_count": 19,
   "metadata": {},
   "outputs": [
    {
     "name": "stdout",
     "output_type": "stream",
     "text": [
      "Matrix rank: 4\n"
     ]
    }
   ],
   "source": [
    "print('Matrix rank:', matrix_rank(not_translations_scaled.loc[:, original_four]))"
   ]
  },
  {
   "cell_type": "markdown",
   "metadata": {},
   "source": [
    "####  Conclusion:\n",
    "It looks like the four original features are not strongly correlated, as was observed by Iarkho. The rank of the matrix is four, meaning that there are four linearly independent dimension, whereas Iarkho insisted on all four features being strongly positvely correlated and describing essentially one dimension. This could be due to the fact that we are exploring a different genre, 5-act comedy, instead of 5-act tragedy. In this case, this would limit universality of Iarkho's proposed features across other genres. Alternatively, there could be an error in Iarkho's calculations or a bias in his approach. Reguardless of the reasons, unlike Iarkho, we will not be able to take the mean of the four features and describe it as the \"evolution curve of the style\", since each feature describes a separate dimension."
   ]
  },
  {
   "cell_type": "markdown",
   "metadata": {},
   "source": [
    "### 2. Distribution Normality"
   ]
  },
  {
   "cell_type": "code",
   "execution_count": 170,
   "metadata": {},
   "outputs": [
    {
     "data": {
      "image/png": "[encoded data removed]",
      "text/plain": [
       "<Figure size 1080x360 with 2 Axes>"
      ]
     },
     "metadata": {
      "needs_background": "light"
     },
     "output_type": "display_data"
    },
    {
     "data": {
      "image/png": "[encoded data removed]",
      "text/plain": [
       "<Figure size 1080x360 with 2 Axes>"
      ]
     },
     "metadata": {
      "needs_background": "light"
     },
     "output_type": "display_data"
    }
   ],
   "source": [
    "plt.figure(figsize=(15, 5))\n",
    "\n",
    "plt.subplot(121)\n",
    "plt.title('Distribution of The Number of Present Dramatic Characters', fontsize=13)\n",
    "sns.distplot(not_translations.loc[:,'num_present_characters'])\n",
    "\n",
    "plt.subplot(122)\n",
    "plt.title('Distribution of The Standard Range of Speaking Characters', fontsize=13)\n",
    "sns.distplot(not_translations.loc[:,'sigma_iarkho'])\n",
    "\n",
    "plt.show()\n",
    "\n",
    "plt.figure(figsize=(15, 5))\n",
    "plt.subplot(121)\n",
    "plt.title('Distribution of The Percentage of Non-Dulogues', fontsize=13)\n",
    "sns.distplot(not_translations.loc[:,'percentage_non_duologues'])\n",
    "\n",
    "plt.subplot(122)\n",
    "plt.title('Distribution of The Action Mobility', fontsize=13)\n",
    "sns.distplot(not_translations.loc[:,'num_scenes_iarkho'])\n",
    "\n",
    "plt.show()"
   ]
  },
  {
   "cell_type": "code",
   "execution_count": 20,
   "metadata": {},
   "outputs": [
    {
     "name": "stdout",
     "output_type": "stream",
     "text": [
      "num_present_characters\n",
      "\tProbability of normal distribution: 0.10454\n",
      "num_scenes_iarkho\n",
      "\tProbability of normal distribution: 0.00028\n",
      "sigma_iarkho\n",
      "\tProbability of normal distribution: 0.06416\n",
      "percentage_non_duologues\n",
      "\tProbability of normal distribution: 0.35687\n"
     ]
    }
   ],
   "source": [
    "for column in not_translations.loc[:, original_four].columns:\n",
    "    print(column)\n",
    "    print('\\tProbability of normal distribution:',\n",
    "          round(shapiro(not_translations.loc[:, column])[1], 5))"
   ]
  },
  {
   "cell_type": "markdown",
   "metadata": {},
   "source": [
    "### Normaility:\n",
    "The hypothesis about normal distribution can be rejected only for one feature - number of scenes (i.e., action mobility). For other features the p-value is above the standard significance level of .05. Therefore, we cannot reject normality for other three features."
   ]
  },
  {
   "cell_type": "markdown",
   "metadata": {},
   "source": [
    "### 3. Feature means and standard deviations"
   ]
  },
  {
   "cell_type": "markdown",
   "metadata": {},
   "source": [
    "#### Means"
   ]
  },
  {
   "cell_type": "code",
   "execution_count": 171,
   "metadata": {},
   "outputs": [
    {
     "data": {
      "text/plain": [
       "num_present_characters       24.000\n",
       "num_scenes_iarkho           114.000\n",
       "sigma_iarkho                  2.745\n",
       "percentage_non_duologues     71.740\n",
       "dtype: float64"
      ]
     },
     "execution_count": 171,
     "metadata": {},
     "output_type": "execute_result"
    }
   ],
   "source": [
    "not_translations.loc[:, original_four].max()"
   ]
  },
  {
   "cell_type": "code",
   "execution_count": 150,
   "metadata": {},
   "outputs": [
    {
     "data": {
      "text/plain": [
       "num_present_characters      13.500000\n",
       "num_scenes_iarkho           58.312500\n",
       "sigma_iarkho                 1.491313\n",
       "percentage_non_duologues    60.124375\n",
       "dtype: float64"
      ]
     },
     "execution_count": 150,
     "metadata": {},
     "output_type": "execute_result"
    }
   ],
   "source": [
    "not_translations.loc[:, original_four].mean()"
   ]
  },
  {
   "cell_type": "markdown",
   "metadata": {},
   "source": [
    "#### Standard Deviations"
   ]
  },
  {
   "cell_type": "code",
   "execution_count": 151,
   "metadata": {},
   "outputs": [
    {
     "data": {
      "text/plain": [
       "num_present_characters       4.871687\n",
       "num_scenes_iarkho           17.935881\n",
       "sigma_iarkho                 0.494459\n",
       "percentage_non_duologues     8.025646\n",
       "dtype: float64"
      ]
     },
     "execution_count": 151,
     "metadata": {},
     "output_type": "execute_result"
    }
   ],
   "source": [
    "not_translations.loc[:, original_four].std()"
   ]
  },
  {
   "cell_type": "code",
   "execution_count": 176,
   "metadata": {},
   "outputs": [],
   "source": [
    "def identify_outliers(df, column):\n",
    "    # upper boundary\n",
    "    upper_boundary = df[column].mean() + (2 *df[column].std())\n",
    "    lower_boundary = df[column].mean() - (2 *df[column].std())\n",
    "    \n",
    "    high_outlier = df[df[column] > upper_boundary]\n",
    "    low_outlier = df[df[column] < lower_boundary]\n",
    "    \n",
    "    return high_outlier, low_outlier"
   ]
  },
  {
   "cell_type": "code",
   "execution_count": null,
   "metadata": {},
   "outputs": [],
   "source": [
    "# upper boundary\n",
    "not_translations['sigma_iarkho'].mean() + (2 *not_translations['sigma_iarkho'].std())"
   ]
  },
  {
   "cell_type": "markdown",
   "metadata": {},
   "source": [
    "### 4. Unusually High Standard Range of the Speaking Characters\n",
    "\n",
    "Two comedies have high standard range of the number of speaking characters (sigma). The mean standard range of the speaking characters is 1.49, standard deviation is 0.49. From them, *Iabeda* can be considered an outlier as it is over two standard deviations away from the mean."
   ]
  },
  {
   "cell_type": "code",
   "execution_count": 157,
   "metadata": {},
   "outputs": [
    {
     "data": {
      "text/html": [
       "<div>\n",
       "<style scoped>\n",
       "    .dataframe tbody tr th:only-of-type {\n",
       "        vertical-align: middle;\n",
       "    }\n",
       "\n",
       "    .dataframe tbody tr th {\n",
       "        vertical-align: top;\n",
       "    }\n",
       "\n",
       "    .dataframe thead th {\n",
       "        text-align: right;\n",
       "    }\n",
       "</style>\n",
       "<table border=\"1\" class=\"dataframe\">\n",
       "  <thead>\n",
       "    <tr style=\"text-align: right;\">\n",
       "      <th></th>\n",
       "      <th>title</th>\n",
       "      <th>last_name</th>\n",
       "      <th>first_name</th>\n",
       "      <th>creation_date</th>\n",
       "      <th>sigma_iarkho</th>\n",
       "    </tr>\n",
       "  </thead>\n",
       "  <tbody>\n",
       "    <tr>\n",
       "      <td>5</td>\n",
       "      <td>Iabeda</td>\n",
       "      <td>Vasilii</td>\n",
       "      <td>Kapnist</td>\n",
       "      <td>1794</td>\n",
       "      <td>2.745</td>\n",
       "    </tr>\n",
       "    <tr>\n",
       "      <td>8</td>\n",
       "      <td>V sem''e ne bez uroda</td>\n",
       "      <td>Unknown</td>\n",
       "      <td>Unknown</td>\n",
       "      <td>1813</td>\n",
       "      <td>2.349</td>\n",
       "    </tr>\n",
       "  </tbody>\n",
       "</table>\n",
       "</div>"
      ],
      "text/plain": [
       "                   title last_name first_name  creation_date sigma_iarkho\n",
       "5                 Iabeda   Vasilii   Kapnist            1794        2.745\n",
       "8  V sem''e ne bez uroda   Unknown    Unknown           1813        2.349"
      ]
     },
     "execution_count": 157,
     "metadata": {},
     "output_type": "execute_result"
    }
   ],
   "source": [
    "not_translations[not_translations['sigma_iarkho'] > 2][['title', \n",
    "                                                        'last_name', \n",
    "                                                        'first_name', \n",
    "                                                        'creation_date',\n",
    "                                                        'sigma_iarkho']]"
   ]
  },
  {
   "cell_type": "code",
   "execution_count": 178,
   "metadata": {},
   "outputs": [],
   "source": [
    "high, low = identify_outliers(not_translations, 'sigma_iarkho')"
   ]
  },
  {
   "cell_type": "code",
   "execution_count": 180,
   "metadata": {},
   "outputs": [
    {
     "data": {
      "text/html": [
       "<div>\n",
       "<style scoped>\n",
       "    .dataframe tbody tr th:only-of-type {\n",
       "        vertical-align: middle;\n",
       "    }\n",
       "\n",
       "    .dataframe tbody tr th {\n",
       "        vertical-align: top;\n",
       "    }\n",
       "\n",
       "    .dataframe thead th {\n",
       "        text-align: right;\n",
       "    }\n",
       "</style>\n",
       "<table border=\"1\" class=\"dataframe\">\n",
       "  <thead>\n",
       "    <tr style=\"text-align: right;\">\n",
       "      <th></th>\n",
       "      <th>title</th>\n",
       "      <th>last_name</th>\n",
       "      <th>first_name</th>\n",
       "      <th>creation_date</th>\n",
       "      <th>sigma_iarkho</th>\n",
       "    </tr>\n",
       "  </thead>\n",
       "  <tbody>\n",
       "    <tr>\n",
       "      <td>5</td>\n",
       "      <td>Iabeda</td>\n",
       "      <td>Vasilii</td>\n",
       "      <td>Kapnist</td>\n",
       "      <td>1794</td>\n",
       "      <td>2.745</td>\n",
       "    </tr>\n",
       "  </tbody>\n",
       "</table>\n",
       "</div>"
      ],
      "text/plain": [
       "    title last_name first_name  creation_date sigma_iarkho\n",
       "5  Iabeda   Vasilii   Kapnist            1794        2.745"
      ]
     },
     "execution_count": 180,
     "metadata": {},
     "output_type": "execute_result"
    }
   ],
   "source": [
    "high[['title', \n",
    "    'last_name', \n",
    "    'first_name', \n",
    "    'creation_date',\n",
    "    'sigma_iarkho']]"
   ]
  },
  {
   "cell_type": "code",
   "execution_count": 186,
   "metadata": {},
   "outputs": [
    {
     "data": {
      "text/plain": [
       "0"
      ]
     },
     "execution_count": 186,
     "metadata": {},
     "output_type": "execute_result"
    }
   ],
   "source": [
    "len(low)"
   ]
  },
  {
   "cell_type": "code",
   "execution_count": 122,
   "metadata": {},
   "outputs": [],
   "source": [
    "speech_distribution_one = np.array(not_translations[not_translations['index']=='R_6']['speech_distribution'])[0]\n",
    "speech_distribution_iabeda = pd.DataFrame(pd.DataFrame(speech_distribution_one).T.iloc[1,:])\n",
    "speech_distribution_iabeda.columns = ['scenes']\n",
    "speech_distribution_iabeda['speakers'] = pd.DataFrame(speech_distribution_one).T.iloc[0,:].tolist()"
   ]
  },
  {
   "cell_type": "code",
   "execution_count": 123,
   "metadata": {},
   "outputs": [],
   "source": [
    "speech_distribution_two = np.array(not_translations[not_translations['index']=='R_9']['speech_distribution'])[0]\n",
    "speech_distribution_semie = pd.DataFrame(pd.DataFrame(speech_distribution_two).T.iloc[1,:])\n",
    "speech_distribution_semie.columns = ['scenes']\n",
    "speech_distribution_semie['speakers'] = pd.DataFrame(speech_distribution_two).T.iloc[0,:].tolist()"
   ]
  },
  {
   "cell_type": "code",
   "execution_count": 251,
   "metadata": {},
   "outputs": [
    {
     "data": {
      "image/png": "[encoded data removed]",
      "text/plain": [
       "<Figure size 1440x504 with 2 Axes>"
      ]
     },
     "metadata": {
      "needs_background": "light"
     },
     "output_type": "display_data"
    }
   ],
   "source": [
    "plt.figure(figsize=(20, 7))\n",
    "plt.subplot(121)\n",
    "plt.title('Распределение речи в \"Ябеде\" (1794) Капниста', fontsize=15)\n",
    "sns.barplot(x='speakers', y='scenes', data=speech_distribution_iabeda)\n",
    "plt.xlabel('Number of Speaking Characters', fontsize=13)\n",
    "plt.ylabel('Number of Scenes', fontsize=13)\n",
    "\n",
    "plt.subplot(122)\n",
    "plt.title('Распределение речи в \"В семье не без урода\" (1813)', fontsize=15)\n",
    "sns.barplot(x='speakers', y='scenes', data=speech_distribution_semie)\n",
    "plt.xlabel('Number of Speaking Characters', fontsize=13)\n",
    "plt.ylabel('Number of Scenes', fontsize=13)\n",
    "\n",
    "plt.show()"
   ]
  },
  {
   "cell_type": "markdown",
   "metadata": {},
   "source": [
    "### 5. Unusually High Action Mobility"
   ]
  },
  {
   "cell_type": "markdown",
   "metadata": {},
   "source": [
    "These two comedieshave extremely high action mobility. The mean action mobility is 58.31 and standard deviation is 17.93. However, only one of them, *Zhiteiiskaia shkola*, can be considered an outlier (i.e., it is **more than 2 standard deviations** away from the mean)"
   ]
  },
  {
   "cell_type": "code",
   "execution_count": 144,
   "metadata": {},
   "outputs": [
    {
     "data": {
      "text/html": [
       "<div>\n",
       "<style scoped>\n",
       "    .dataframe tbody tr th:only-of-type {\n",
       "        vertical-align: middle;\n",
       "    }\n",
       "\n",
       "    .dataframe tbody tr th {\n",
       "        vertical-align: top;\n",
       "    }\n",
       "\n",
       "    .dataframe thead th {\n",
       "        text-align: right;\n",
       "    }\n",
       "</style>\n",
       "<table border=\"1\" class=\"dataframe\">\n",
       "  <thead>\n",
       "    <tr style=\"text-align: right;\">\n",
       "      <th></th>\n",
       "      <th>title</th>\n",
       "      <th>last_name</th>\n",
       "      <th>first_name</th>\n",
       "      <th>creation_date</th>\n",
       "      <th>num_scenes_iarkho</th>\n",
       "    </tr>\n",
       "  </thead>\n",
       "  <tbody>\n",
       "    <tr>\n",
       "      <td>11</td>\n",
       "      <td>Chudnyia vstrechi</td>\n",
       "      <td>Boris</td>\n",
       "      <td>Fedorov</td>\n",
       "      <td>1818</td>\n",
       "      <td>84</td>\n",
       "    </tr>\n",
       "    <tr>\n",
       "      <td>25</td>\n",
       "      <td>Zhiteiiskaia shkola</td>\n",
       "      <td>Piotr</td>\n",
       "      <td>Grigor’ev</td>\n",
       "      <td>1849</td>\n",
       "      <td>114</td>\n",
       "    </tr>\n",
       "  </tbody>\n",
       "</table>\n",
       "</div>"
      ],
      "text/plain": [
       "                  title last_name  first_name  creation_date num_scenes_iarkho\n",
       "11    Chudnyia vstrechi     Boris     Fedorov           1818                84\n",
       "25  Zhiteiiskaia shkola     Piotr  Grigor’ev            1849               114"
      ]
     },
     "execution_count": 144,
     "metadata": {},
     "output_type": "execute_result"
    }
   ],
   "source": [
    "not_translations[not_translations['num_scenes_iarkho']>80][['title', \n",
    "                                                            'last_name', \n",
    "                                                            'first_name', \n",
    "                                                            'creation_date',\n",
    "                                                            'num_scenes_iarkho']]"
   ]
  },
  {
   "cell_type": "code",
   "execution_count": 182,
   "metadata": {},
   "outputs": [],
   "source": [
    "high, low = identify_outliers(not_translations, 'num_scenes_iarkho')"
   ]
  },
  {
   "cell_type": "code",
   "execution_count": 183,
   "metadata": {},
   "outputs": [
    {
     "data": {
      "text/html": [
       "<div>\n",
       "<style scoped>\n",
       "    .dataframe tbody tr th:only-of-type {\n",
       "        vertical-align: middle;\n",
       "    }\n",
       "\n",
       "    .dataframe tbody tr th {\n",
       "        vertical-align: top;\n",
       "    }\n",
       "\n",
       "    .dataframe thead th {\n",
       "        text-align: right;\n",
       "    }\n",
       "</style>\n",
       "<table border=\"1\" class=\"dataframe\">\n",
       "  <thead>\n",
       "    <tr style=\"text-align: right;\">\n",
       "      <th></th>\n",
       "      <th>index</th>\n",
       "      <th>title</th>\n",
       "      <th>first_name</th>\n",
       "      <th>last_name</th>\n",
       "      <th>creation_date</th>\n",
       "      <th>translation</th>\n",
       "      <th>num_acts</th>\n",
       "      <th>free_iambs</th>\n",
       "      <th>url</th>\n",
       "      <th>original_file_format</th>\n",
       "      <th>...</th>\n",
       "      <th>percentage_open_scenes</th>\n",
       "      <th>percentage_scenes_rhymes_split_verse</th>\n",
       "      <th>num_stage_directions</th>\n",
       "      <th>stage_directions_frequency</th>\n",
       "      <th>num_word_tokens_in_stage_directions</th>\n",
       "      <th>average_length_of_stage_direction</th>\n",
       "      <th>num_verse_splitting_stage_directions</th>\n",
       "      <th>degree_of_verse_prose_interaction</th>\n",
       "      <th>number_scenes_with_discontinuous_change_characters</th>\n",
       "      <th>percentage_scenes_with_discontinuous_change_characters</th>\n",
       "    </tr>\n",
       "  </thead>\n",
       "  <tbody>\n",
       "    <tr>\n",
       "      <td>25</td>\n",
       "      <td>R_26</td>\n",
       "      <td>Zhiteiiskaia shkola</td>\n",
       "      <td>Grigor’ev</td>\n",
       "      <td>Piotr</td>\n",
       "      <td>1849</td>\n",
       "      <td>0</td>\n",
       "      <td>5</td>\n",
       "      <td>1</td>\n",
       "      <td>NaN</td>\n",
       "      <td>pdf</td>\n",
       "      <td>...</td>\n",
       "      <td>58.772</td>\n",
       "      <td>12.281</td>\n",
       "      <td>1033</td>\n",
       "      <td>29.54</td>\n",
       "      <td>3487</td>\n",
       "      <td>3.376</td>\n",
       "      <td>401</td>\n",
       "      <td>11.467</td>\n",
       "      <td>2</td>\n",
       "      <td>1.754</td>\n",
       "    </tr>\n",
       "  </tbody>\n",
       "</table>\n",
       "<p>1 rows × 42 columns</p>\n",
       "</div>"
      ],
      "text/plain": [
       "   index                title  first_name last_name  creation_date  \\\n",
       "25  R_26  Zhiteiiskaia shkola  Grigor’ev      Piotr           1849   \n",
       "\n",
       "    translation  num_acts  free_iambs  url original_file_format  ...  \\\n",
       "25            0         5           1  NaN                  pdf  ...   \n",
       "\n",
       "   percentage_open_scenes percentage_scenes_rhymes_split_verse  \\\n",
       "25                 58.772                               12.281   \n",
       "\n",
       "   num_stage_directions stage_directions_frequency  \\\n",
       "25                 1033                      29.54   \n",
       "\n",
       "   num_word_tokens_in_stage_directions average_length_of_stage_direction  \\\n",
       "25                                3487                             3.376   \n",
       "\n",
       "   num_verse_splitting_stage_directions degree_of_verse_prose_interaction  \\\n",
       "25                                  401                            11.467   \n",
       "\n",
       "   number_scenes_with_discontinuous_change_characters  \\\n",
       "25                                                  2   \n",
       "\n",
       "   percentage_scenes_with_discontinuous_change_characters  \n",
       "25                                              1.754      \n",
       "\n",
       "[1 rows x 42 columns]"
      ]
     },
     "execution_count": 183,
     "metadata": {},
     "output_type": "execute_result"
    }
   ],
   "source": [
    "high"
   ]
  },
  {
   "cell_type": "code",
   "execution_count": 185,
   "metadata": {},
   "outputs": [
    {
     "data": {
      "text/plain": [
       "0"
      ]
     },
     "execution_count": 185,
     "metadata": {},
     "output_type": "execute_result"
    }
   ],
   "source": [
    "len(low)"
   ]
  },
  {
   "cell_type": "markdown",
   "metadata": {},
   "source": [
    "### 6. Potential Outliers for Other Features\n",
    "#### Number of Dramatic Characters "
   ]
  },
  {
   "cell_type": "code",
   "execution_count": 189,
   "metadata": {},
   "outputs": [],
   "source": [
    "high, low = identify_outliers(not_translations, 'num_present_characters')"
   ]
  },
  {
   "cell_type": "code",
   "execution_count": 192,
   "metadata": {},
   "outputs": [
    {
     "data": {
      "text/html": [
       "<div>\n",
       "<style scoped>\n",
       "    .dataframe tbody tr th:only-of-type {\n",
       "        vertical-align: middle;\n",
       "    }\n",
       "\n",
       "    .dataframe tbody tr th {\n",
       "        vertical-align: top;\n",
       "    }\n",
       "\n",
       "    .dataframe thead th {\n",
       "        text-align: right;\n",
       "    }\n",
       "</style>\n",
       "<table border=\"1\" class=\"dataframe\">\n",
       "  <thead>\n",
       "    <tr style=\"text-align: right;\">\n",
       "      <th></th>\n",
       "      <th>title</th>\n",
       "      <th>last_name</th>\n",
       "      <th>first_name</th>\n",
       "      <th>creation_date</th>\n",
       "      <th>num_present_characters</th>\n",
       "    </tr>\n",
       "  </thead>\n",
       "  <tbody>\n",
       "    <tr>\n",
       "      <td>11</td>\n",
       "      <td>Chudnyia vstrechi</td>\n",
       "      <td>Boris</td>\n",
       "      <td>Fedorov</td>\n",
       "      <td>1818</td>\n",
       "      <td>24</td>\n",
       "    </tr>\n",
       "  </tbody>\n",
       "</table>\n",
       "</div>"
      ],
      "text/plain": [
       "                title last_name first_name  creation_date  \\\n",
       "11  Chudnyia vstrechi     Boris    Fedorov           1818   \n",
       "\n",
       "   num_present_characters  \n",
       "11                     24  "
      ]
     },
     "execution_count": 192,
     "metadata": {},
     "output_type": "execute_result"
    }
   ],
   "source": [
    "high[['title', \n",
    "    'last_name', \n",
    "    'first_name', \n",
    "    'creation_date',\n",
    "    'num_present_characters']]"
   ]
  },
  {
   "cell_type": "code",
   "execution_count": 194,
   "metadata": {},
   "outputs": [
    {
     "data": {
      "text/plain": [
       "0"
      ]
     },
     "execution_count": 194,
     "metadata": {},
     "output_type": "execute_result"
    }
   ],
   "source": [
    "len(low)"
   ]
  },
  {
   "cell_type": "markdown",
   "metadata": {},
   "source": [
    "#### Percentage of Non-Duologues"
   ]
  },
  {
   "cell_type": "code",
   "execution_count": 195,
   "metadata": {},
   "outputs": [],
   "source": [
    "high, low = identify_outliers(not_translations, 'percentage_non_duologues')"
   ]
  },
  {
   "cell_type": "code",
   "execution_count": 197,
   "metadata": {},
   "outputs": [
    {
     "data": {
      "text/plain": [
       "0"
      ]
     },
     "execution_count": 197,
     "metadata": {},
     "output_type": "execute_result"
    }
   ],
   "source": [
    "len(high)"
   ]
  },
  {
   "cell_type": "code",
   "execution_count": 198,
   "metadata": {},
   "outputs": [
    {
     "data": {
      "text/plain": [
       "0"
      ]
     },
     "execution_count": 198,
     "metadata": {},
     "output_type": "execute_result"
    }
   ],
   "source": [
    "len(low)"
   ]
  },
  {
   "cell_type": "markdown",
   "metadata": {},
   "source": [
    "## II. Evolution of the Four Features and Hypothesis Testing "
   ]
  },
  {
   "cell_type": "markdown",
   "metadata": {},
   "source": [
    "Our hypothesis was based on our original exploration of Sperantov's periodization of tragedies. We found out that there was a significant difference between 5-act tragedies **before 1794** and **after 1794** based on all Sperantov's features. We wanted to check if the same boundary applies to 5-act comedy in verse.\n",
    "\n",
    "- **Our null hypothesis**: no difference between 5-act comedies in verse before 1794 and after 1794.\n",
    "- **Alternative hypothesis**: there is a signficant difference between comedies before 1794 nd after 1794.\n",
    "\n",
    "- **Significance level**: 0.05"
   ]
  },
  {
   "cell_type": "markdown",
   "metadata": {},
   "source": [
    "### 1. Number of Dramatic Characters"
   ]
  },
  {
   "cell_type": "code",
   "execution_count": 298,
   "metadata": {},
   "outputs": [
    {
     "data": {
      "image/png": "[encoded data removed]",
      "text/plain": [
       "<Figure size 720x504 with 1 Axes>"
      ]
     },
     "metadata": {
      "needs_background": "light"
     },
     "output_type": "display_data"
    }
   ],
   "source": [
    "plt.figure(figsize=(10, 7))\n",
    "plt.title('Number of Dramatic Characters', fontsize=15)\n",
    "sns.scatterplot(x='creation_date', y='num_present_characters', data=not_translations)\n",
    "period_one = plt.axvline(1795, color='grey',linestyle='dashed', linewidth=1)\n",
    "plt.yticks(np.arange(0, max(five_acts['num_present_characters'])+10, 5))\n",
    "plt.text(1818, 24, '\"Чудныя встречи\"', horizontalalignment='left', color='red', fontsize=14)\n",
    "plt.show()"
   ]
  },
  {
   "cell_type": "code",
   "execution_count": 303,
   "metadata": {},
   "outputs": [],
   "source": [
    "period_one = not_translations[not_translations['creation_date']<=1794]\n",
    "period_two = not_translations[not_translations['creation_date']>1794]"
   ]
  },
  {
   "cell_type": "code",
   "execution_count": 304,
   "metadata": {},
   "outputs": [],
   "source": [
    "period_two_without_outlier = period_two[period_two['title']!='Chudnyia vstrechi'].copy()"
   ]
  },
  {
   "cell_type": "code",
   "execution_count": 306,
   "metadata": {},
   "outputs": [
    {
     "data": {
      "text/plain": [
       "11.5"
      ]
     },
     "execution_count": 306,
     "metadata": {},
     "output_type": "execute_result"
    }
   ],
   "source": [
    "period_one['num_present_characters'].mean()"
   ]
  },
  {
   "cell_type": "code",
   "execution_count": 308,
   "metadata": {},
   "outputs": [
    {
     "data": {
      "text/plain": [
       "3.5071355833500366"
      ]
     },
     "execution_count": 308,
     "metadata": {},
     "output_type": "execute_result"
    }
   ],
   "source": [
    "period_one['num_present_characters'].std()"
   ]
  },
  {
   "cell_type": "code",
   "execution_count": 307,
   "metadata": {},
   "outputs": [
    {
     "data": {
      "text/plain": [
       "13.666666666666666"
      ]
     },
     "execution_count": 307,
     "metadata": {},
     "output_type": "execute_result"
    }
   ],
   "source": [
    "period_two_without_outlier['num_present_characters'].mean()"
   ]
  },
  {
   "cell_type": "code",
   "execution_count": 309,
   "metadata": {},
   "outputs": [
    {
     "data": {
      "text/plain": [
       "4.47213595499958"
      ]
     },
     "execution_count": 309,
     "metadata": {},
     "output_type": "execute_result"
    }
   ],
   "source": [
    "period_two_without_outlier['num_present_characters'].std()"
   ]
  },
  {
   "cell_type": "code",
   "execution_count": 245,
   "metadata": {},
   "outputs": [
    {
     "name": "stdout",
     "output_type": "stream",
     "text": [
      "MannwhitneyuResult(statistic=19.5, pvalue=0.20129579790379404)\n"
     ]
    }
   ],
   "source": [
    "print(mannwhitneyu(period_one['num_present_characters'], \n",
    "                   period_two_without_outlier['num_present_characters']))"
   ]
  },
  {
   "cell_type": "markdown",
   "metadata": {},
   "source": [
    "### 2. Standard Range of the Speaking Characters"
   ]
  },
  {
   "cell_type": "code",
   "execution_count": 325,
   "metadata": {},
   "outputs": [
    {
     "data": {
      "image/png": "[encoded data removed]",
      "text/plain": [
       "<Figure size 720x504 with 1 Axes>"
      ]
     },
     "metadata": {
      "needs_background": "light"
     },
     "output_type": "display_data"
    }
   ],
   "source": [
    "plt.figure(figsize=(10, 7))\n",
    "plt.title('Standard Range of the Number of Speaking Characters', fontsize=15)\n",
    "sns.scatterplot(x='creation_date', y='sigma_iarkho', data=not_translations, color='green')\n",
    "period_one = plt.axvline(1795, color='grey',linestyle='dashed', linewidth=1)\n",
    "plt.text(1794, 2.745, '\"Ябеда\"', horizontalalignment='left', color='red', fontsize=14)\n",
    "plt.show()"
   ]
  },
  {
   "cell_type": "markdown",
   "metadata": {},
   "source": [
    "### 3. Character Mobility"
   ]
  },
  {
   "cell_type": "code",
   "execution_count": 299,
   "metadata": {},
   "outputs": [
    {
     "data": {
      "image/png": "[encoded data removed]",
      "text/plain": [
       "<Figure size 720x504 with 1 Axes>"
      ]
     },
     "metadata": {
      "needs_background": "light"
     },
     "output_type": "display_data"
    }
   ],
   "source": [
    "plt.figure(figsize=(10, 7))\n",
    "plt.title('Character Mobility', fontsize=15)\n",
    "sns.scatterplot(x='creation_date', y='num_scenes_iarkho', data=not_translations, color='green')\n",
    "period_one = plt.axvline(1795, color='grey',linestyle='dashed', linewidth=1)\n",
    "plt.text(1849, 114, '\"Житейская школа\"', horizontalalignment='right', color='red', fontsize=14)\n",
    "plt.show()"
   ]
  },
  {
   "cell_type": "code",
   "execution_count": 312,
   "metadata": {},
   "outputs": [
    {
     "data": {
      "text/plain": [
       "53.0"
      ]
     },
     "execution_count": 312,
     "metadata": {},
     "output_type": "execute_result"
    }
   ],
   "source": [
    "period_one['num_scenes_iarkho'].mean()"
   ]
  },
  {
   "cell_type": "code",
   "execution_count": 313,
   "metadata": {},
   "outputs": [
    {
     "data": {
      "text/plain": [
       "6.572670690061994"
      ]
     },
     "execution_count": 313,
     "metadata": {},
     "output_type": "execute_result"
    }
   ],
   "source": [
    "period_one['num_scenes_iarkho'].std()"
   ]
  },
  {
   "cell_type": "code",
   "execution_count": 314,
   "metadata": {},
   "outputs": [
    {
     "data": {
      "text/plain": [
       "55.666666666666664"
      ]
     },
     "execution_count": 314,
     "metadata": {},
     "output_type": "execute_result"
    }
   ],
   "source": [
    "period_two_without_outlier['num_scenes_iarkho'].mean()"
   ]
  },
  {
   "cell_type": "code",
   "execution_count": 315,
   "metadata": {},
   "outputs": [
    {
     "data": {
      "text/plain": [
       "12.62933094031509"
      ]
     },
     "execution_count": 315,
     "metadata": {},
     "output_type": "execute_result"
    }
   ],
   "source": [
    "period_two_without_outlier['num_scenes_iarkho'].std()"
   ]
  },
  {
   "cell_type": "code",
   "execution_count": 310,
   "metadata": {},
   "outputs": [],
   "source": [
    "period_two_without_outlier = period_two[period_two['title']!='Zhiteiiskaia shkola'].copy()"
   ]
  },
  {
   "cell_type": "code",
   "execution_count": 311,
   "metadata": {},
   "outputs": [
    {
     "name": "stdout",
     "output_type": "stream",
     "text": [
      "MannwhitneyuResult(statistic=27.0, pvalue=0.4764214354081826)\n"
     ]
    }
   ],
   "source": [
    "print(mannwhitneyu(period_one['num_scenes_iarkho'], \n",
    "                   period_two_without_outlier['num_scenes_iarkho']))"
   ]
  },
  {
   "cell_type": "markdown",
   "metadata": {},
   "source": [
    "### 4. Percentage of Non-Duologues"
   ]
  },
  {
   "cell_type": "code",
   "execution_count": 322,
   "metadata": {},
   "outputs": [
    {
     "data": {
      "image/png": "[encoded data removed]",
      "text/plain": [
       "<Figure size 720x504 with 1 Axes>"
      ]
     },
     "metadata": {
      "needs_background": "light"
     },
     "output_type": "display_data"
    }
   ],
   "source": [
    "plt.figure(figsize=(10, 7))\n",
    "plt.title('Percentage of Non-Duologues', fontsize=15)\n",
    "sns.scatterplot(x='creation_date', y='percentage_non_duologues', data=not_translations, color='green')\n",
    "period_one = plt.axvline(1795, color='grey',linestyle='dashed', linewidth=1)\n",
    "plt.show()"
   ]
  },
  {
   "cell_type": "code",
   "execution_count": 317,
   "metadata": {},
   "outputs": [
    {
     "data": {
      "text/plain": [
       "59.45166666666666"
      ]
     },
     "execution_count": 317,
     "metadata": {},
     "output_type": "execute_result"
    }
   ],
   "source": [
    "period_one['percentage_non_duologues'].mean()"
   ]
  },
  {
   "cell_type": "code",
   "execution_count": 318,
   "metadata": {},
   "outputs": [
    {
     "data": {
      "text/plain": [
       "7.189843994598679"
      ]
     },
     "execution_count": 318,
     "metadata": {},
     "output_type": "execute_result"
    }
   ],
   "source": [
    "period_one['percentage_non_duologues'].std()"
   ]
  },
  {
   "cell_type": "code",
   "execution_count": 319,
   "metadata": {},
   "outputs": [
    {
     "data": {
      "text/plain": [
       "60.528"
      ]
     },
     "execution_count": 319,
     "metadata": {},
     "output_type": "execute_result"
    }
   ],
   "source": [
    "period_two['percentage_non_duologues'].mean()"
   ]
  },
  {
   "cell_type": "code",
   "execution_count": 320,
   "metadata": {},
   "outputs": [
    {
     "data": {
      "text/plain": [
       "8.840257412039035"
      ]
     },
     "execution_count": 320,
     "metadata": {},
     "output_type": "execute_result"
    }
   ],
   "source": [
    "period_two['percentage_non_duologues'].std()"
   ]
  },
  {
   "cell_type": "code",
   "execution_count": 321,
   "metadata": {},
   "outputs": [
    {
     "name": "stdout",
     "output_type": "stream",
     "text": [
      "MannwhitneyuResult(statistic=27.0, pvalue=0.3931328066664197)\n"
     ]
    }
   ],
   "source": [
    "print(mannwhitneyu(period_one['percentage_non_duologues'], \n",
    "                   period_two['percentage_non_duologues']))"
   ]
  },
  {
   "cell_type": "markdown",
   "metadata": {},
   "source": [
    "### 4. "
   ]
  },
  {
   "cell_type": "code",
   "execution_count": null,
   "metadata": {},
   "outputs": [],
   "source": [
    "plt.figure(figsize=(10, 7))\n",
    "plt.title('Scatterplot of Standard Range', fontsize=15)\n",
    "sns.scatterplot(x='creation_year', y='sigma', data=summary)\n",
    "plt.show()"
   ]
  },
  {
   "cell_type": "code",
   "execution_count": null,
   "metadata": {},
   "outputs": [],
   "source": [
    "upper_boundary = period_one['percentage_scenes_with_discontinuous_change_characters'].mean() + 2*period_one['percentage_scenes_with_discontinuous_change_characters'].std()\n",
    "lower_boundary = period_one['percentage_scenes_with_discontinuous_change_characters'].mean() - 2*period_one['percentage_scenes_with_discontinuous_change_characters'].std()"
   ]
  },
  {
   "cell_type": "code",
   "execution_count": null,
   "metadata": {},
   "outputs": [],
   "source": [
    "display(period_one[period_one['percentage_scenes_with_discontinuous_change_characters']>=upper_boundary])\n",
    "display(period_one[period_one['percentage_scenes_with_discontinuous_change_characters']<=lower_boundary])"
   ]
  },
  {
   "cell_type": "code",
   "execution_count": null,
   "metadata": {},
   "outputs": [],
   "source": [
    "period_one.describe()"
   ]
  },
  {
   "cell_type": "code",
   "execution_count": null,
   "metadata": {},
   "outputs": [],
   "source": [
    "period_two.describe()"
   ]
  },
  {
   "cell_type": "code",
   "execution_count": null,
   "metadata": {},
   "outputs": [],
   "source": [
    "period_one.corr()"
   ]
  },
  {
   "cell_type": "code",
   "execution_count": null,
   "metadata": {},
   "outputs": [],
   "source": [
    "period_two.corr()"
   ]
  },
  {
   "cell_type": "code",
   "execution_count": null,
   "metadata": {},
   "outputs": [],
   "source": [
    "plt.figure(figsize=(10, 7))\n",
    "plt.title('Scatterplot of Dialogue Vivacity', fontsize=15)\n",
    "sns.scatterplot(x='creation_year', y='dialogue_vivacity', data=summary)\n",
    "plt.show()"
   ]
  },
  {
   "cell_type": "code",
   "execution_count": null,
   "metadata": {},
   "outputs": [],
   "source": [
    "from scipy.stats import mannwhitneyu\n",
    "\n",
    "print(mannwhitneyu(period_one['number_characters'], \n",
    "                   period_two['number_characters']))"
   ]
  },
  {
   "cell_type": "code",
   "execution_count": null,
   "metadata": {},
   "outputs": [],
   "source": [
    "print(mannwhitneyu(period_one['number_scenes'], \n",
    "                   period_two['number_scenes']))"
   ]
  },
  {
   "cell_type": "code",
   "execution_count": null,
   "metadata": {},
   "outputs": [],
   "source": [
    "print(mannwhitneyu(period_one['sigma'], \n",
    "                   period_two['sigma']))"
   ]
  },
  {
   "cell_type": "code",
   "execution_count": null,
   "metadata": {},
   "outputs": [],
   "source": [
    "print(mannwhitneyu(period_one['non_duologues'], \n",
    "                   period_two['non_duologues']))"
   ]
  },
  {
   "cell_type": "code",
   "execution_count": null,
   "metadata": {},
   "outputs": [],
   "source": [
    "print(mannwhitneyu(period_one['non_duologues'], \n",
    "                   period_two['non_duologues']))"
   ]
  },
  {
   "cell_type": "code",
   "execution_count": null,
   "metadata": {},
   "outputs": [],
   "source": [
    "['number_characters', 'number_scenes', 'non_duologues', 'sigma',\n",
    "                  'dialogue_vivacity', 'percentage_open_scenes', 'stage_directions_frequency',\n",
    "                  'average_length_of_stage_direction', 'degree_of_verse_prose_interaction',\n",
    "                  'percentage_scenes_with_discontinuous_change_characters']"
   ]
  },
  {
   "cell_type": "code",
   "execution_count": null,
   "metadata": {},
   "outputs": [],
   "source": [
    "from scipy.stats import ttest_ind\n",
    "\n",
    "print(ttest_ind(period_one['dialogue_vivacity'], \n",
    "                   period_two['dialogue_vivacity']))"
   ]
  },
  {
   "cell_type": "code",
   "execution_count": null,
   "metadata": {},
   "outputs": [],
   "source": [
    "plt.figure(figsize=(10, 7))\n",
    "plt.title('Scatterplot of Stage Directions Frequency', fontsize=15)\n",
    "sns.scatterplot(x='creation_year', y='stage_directions_frequency', data=summary)\n",
    "plt.show()"
   ]
  },
  {
   "cell_type": "code",
   "execution_count": null,
   "metadata": {},
   "outputs": [],
   "source": [
    "plt.figure(figsize=(10, 7))\n",
    "plt.title('Scatterplot of Average Length of Stage Direction', fontsize=15)\n",
    "sns.scatterplot(x='creation_year', y='average_length_of_stage_direction', data=summary)\n",
    "plt.show()"
   ]
  },
  {
   "cell_type": "code",
   "execution_count": null,
   "metadata": {},
   "outputs": [],
   "source": [
    "print(ttest_ind(period_one['average_length_of_stage_direction'], \n",
    "                   period_two['average_length_of_stage_direction']))"
   ]
  },
  {
   "cell_type": "code",
   "execution_count": null,
   "metadata": {},
   "outputs": [],
   "source": [
    "plt.figure(figsize=(10, 7))\n",
    "plt.title('Scatterplot of Prose Verse Interaction', fontsize=15)\n",
    "sns.scatterplot(x='creation_year', y='degree_of_verse_prose_interaction', data=summary)\n",
    "plt.show()"
   ]
  },
  {
   "cell_type": "code",
   "execution_count": null,
   "metadata": {},
   "outputs": [],
   "source": [
    "print(ttest_ind(period_one['degree_of_verse_prose_interaction'], \n",
    "                   period_two['degree_of_verse_prose_interaction']))"
   ]
  },
  {
   "cell_type": "code",
   "execution_count": null,
   "metadata": {},
   "outputs": [],
   "source": [
    "print(mannwhitneyu(period_one['percentage_scenes_with_discontinuous_change_characters'], \n",
    "                   period_two['percentage_scenes_with_discontinuous_change_characters']))"
   ]
  },
  {
   "cell_type": "code",
   "execution_count": null,
   "metadata": {},
   "outputs": [],
   "source": [
    "plt.figure(figsize=(10, 7))\n",
    "plt.title('Scatterplot of Scenes with Discontinuos Character Change', fontsize=15)\n",
    "sns.scatterplot(x='creation_year', y='percentage_scenes_with_discontinuous_change_characters', data=summary)\n",
    "plt.show()"
   ]
  },
  {
   "cell_type": "code",
   "execution_count": null,
   "metadata": {},
   "outputs": [],
   "source": [
    "nedovolnye_speech = [\n",
    "      [\n",
    "        1,\n",
    "        10\n",
    "      ],\n",
    "      [\n",
    "        2,\n",
    "        20\n",
    "      ],\n",
    "      [\n",
    "        3,\n",
    "        12\n",
    "      ],\n",
    "      [\n",
    "        4,\n",
    "        10\n",
    "      ],\n",
    "      [\n",
    "        5,\n",
    "        5\n",
    "      ],\n",
    "      [\n",
    "        6,\n",
    "        1\n",
    "      ]\n",
    "    ]"
   ]
  },
  {
   "cell_type": "code",
   "execution_count": null,
   "metadata": {},
   "outputs": [],
   "source": [
    "speech_distribution = pd.DataFrame(nedovolnye_speech).T.iloc[1,:]\n",
    "speech_distribution.columns = pd.DataFrame(nedovolnye_speech).T.iloc[0,:].tolist()"
   ]
  },
  {
   "cell_type": "code",
   "execution_count": null,
   "metadata": {},
   "outputs": [],
   "source": [
    "gore_speech = [\n",
    "      [\n",
    "        1,\n",
    "        21\n",
    "      ],\n",
    "      [\n",
    "        2,\n",
    "        31\n",
    "      ],\n",
    "      [\n",
    "        3,\n",
    "        12\n",
    "      ],\n",
    "      [\n",
    "        4,\n",
    "        6\n",
    "      ],\n",
    "      [\n",
    "        8,\n",
    "        1\n",
    "      ],\n",
    "      [\n",
    "        9,\n",
    "        1\n",
    "      ],\n",
    "      [\n",
    "        10,\n",
    "        1\n",
    "      ],\n",
    "      [\n",
    "        18,\n",
    "        1\n",
    "      ]\n",
    "    ]"
   ]
  },
  {
   "cell_type": "code",
   "execution_count": null,
   "metadata": {},
   "outputs": [],
   "source": [
    "gore_speech_distribution = pd.DataFrame(gore_speech).T.iloc[1,:]\n",
    "gore_speech_distribution.columns = pd.DataFrame(gore_speech).T.iloc[0,:].tolist()"
   ]
  },
  {
   "cell_type": "code",
   "execution_count": null,
   "metadata": {},
   "outputs": [],
   "source": [
    "blag_teatr= [\n",
    "      [\n",
    "        1,\n",
    "        16\n",
    "      ],\n",
    "      [\n",
    "        2,\n",
    "        19\n",
    "      ],\n",
    "      [\n",
    "        3,\n",
    "        12\n",
    "      ],\n",
    "      [\n",
    "        4,\n",
    "        10\n",
    "      ],\n",
    "      [\n",
    "        5,\n",
    "        4\n",
    "      ],\n",
    "      [\n",
    "        6,\n",
    "        3\n",
    "      ],\n",
    "      [\n",
    "        7,\n",
    "        2\n",
    "      ]\n",
    "    ]"
   ]
  },
  {
   "cell_type": "code",
   "execution_count": null,
   "metadata": {},
   "outputs": [],
   "source": [
    "teatr_speech_distribution = pd.DataFrame(blag_teatr).T.iloc[1,:]\n",
    "teatr_speech_distribution.columns = pd.DataFrame(blag_teatr).T.iloc[0,:].tolist()"
   ]
  },
  {
   "cell_type": "code",
   "execution_count": null,
   "metadata": {},
   "outputs": [],
   "source": [
    "sovr_zhizn_speech = [\n",
    "      [\n",
    "        1,\n",
    "        17\n",
    "      ],\n",
    "      [\n",
    "        2,\n",
    "        27\n",
    "      ],\n",
    "      [\n",
    "        3,\n",
    "        7\n",
    "      ],\n",
    "      [\n",
    "        4,\n",
    "        1\n",
    "      ]\n",
    "    ]"
   ]
  },
  {
   "cell_type": "code",
   "execution_count": null,
   "metadata": {},
   "outputs": [],
   "source": [
    "zhizn_speech_distribution = pd.DataFrame(sovr_zhizn_speech).T.iloc[1,:]\n",
    "zhizn_speech_distribution.columns = pd.DataFrame(sovr_zhizn_speech).T.iloc[0,:].tolist()"
   ]
  },
  {
   "cell_type": "code",
   "execution_count": null,
   "metadata": {},
   "outputs": [],
   "source": [
    "vospitanie = [\n",
    "      [\n",
    "        1,\n",
    "        9\n",
    "      ],\n",
    "      [\n",
    "        2,\n",
    "        12\n",
    "      ],\n",
    "      [\n",
    "        3,\n",
    "        7\n",
    "      ],\n",
    "      [\n",
    "        4,\n",
    "        5\n",
    "      ],\n",
    "      [\n",
    "        5,\n",
    "        1\n",
    "      ],\n",
    "      [\n",
    "        6,\n",
    "        1\n",
    "      ],\n",
    "      [\n",
    "        7,\n",
    "        2\n",
    "      ]\n",
    "    ]"
   ]
  },
  {
   "cell_type": "code",
   "execution_count": null,
   "metadata": {},
   "outputs": [],
   "source": [
    "vospitanie_speech_distribution = pd.DataFrame(vospitanie).T.iloc[1,:]\n",
    "vospitanie_speech_distribution.columns = pd.DataFrame(vospitanie).T.iloc[0,:].tolist()"
   ]
  },
  {
   "cell_type": "code",
   "execution_count": null,
   "metadata": {},
   "outputs": [],
   "source": [
    "plt.title('Воспитание, или вот приданое')\n",
    "sns.barplot(x=vospitanie_speech_distribution.columns, y=vospitanie_speech_distribution)\n",
    "plt.show()"
   ]
  },
  {
   "cell_type": "code",
   "execution_count": null,
   "metadata": {},
   "outputs": [],
   "source": [
    "plt.title('Горе от ума')\n",
    "sns.barplot(x=gore_speech_distribution.columns, y=gore_speech_distribution)\n",
    "plt.show()"
   ]
  },
  {
   "cell_type": "code",
   "execution_count": null,
   "metadata": {},
   "outputs": [],
   "source": [
    "plt.title('Благородный театр')\n",
    "sns.barplot(x=teatr_speech_distribution.columns, y=teatr_speech_distribution)\n",
    "plt.show()"
   ]
  },
  {
   "cell_type": "code",
   "execution_count": null,
   "metadata": {},
   "outputs": [],
   "source": [
    "plt.title(\"Недовольные\")\n",
    "sns.barplot(x=speech_distribution.columns, y=speech_distribution)\n",
    "plt.show()"
   ]
  },
  {
   "cell_type": "code",
   "execution_count": null,
   "metadata": {},
   "outputs": [],
   "source": [
    "plt.title('Комедия из современной жизни')\n",
    "sns.barplot(x=zhizn_speech_distribution.columns, y=zhizn_speech_distribution)\n",
    "plt.show()"
   ]
  },
  {
   "cell_type": "code",
   "execution_count": null,
   "metadata": {},
   "outputs": [],
   "source": []
  }
 ],
 "metadata": {
  "kernelspec": {
   "display_name": "Python 3",
   "language": "python",
   "name": "python3"
  },
  "language_info": {
   "codemirror_mode": {
    "name": "ipython",
    "version": 3
   },
   "file_extension": ".py",
   "mimetype": "text/x-python",
   "name": "python",
   "nbconvert_exporter": "python",
   "pygments_lexer": "ipython3",
   "version": "3.7.4"
  }
 },
 "nbformat": 4,
 "nbformat_minor": 2
}
